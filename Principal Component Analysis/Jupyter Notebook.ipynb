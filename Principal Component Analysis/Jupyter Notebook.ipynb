{
  "cells": [
    {
      "cell_type": "markdown",
      "source": [
        "# PCA (Pricnicpal Component Analysis)\n",
        "\n",
        "PCA stands for Principal Component Analysis. It is a commonly used technique in machine learning, statistics, and data science for reducing the dimensionality of a dataset.\n",
        "\n",
        "PCA works by identifying the directions in which the data varies the most, which are called the principal components. These principal components are a linear combination of the original features of the dataset, and they are chosen to maximize the variance of the data along that direction.\n",
        "\n",
        "By retaining only the top k principal components, PCA reduces the dimensionality of the dataset to k, while still retaining as much of the original variance as possible. This can be useful for visualizing high-dimensional data or for reducing the computational complexity of a model that relies on that data.\n",
        "\n",
        "PCA can also be used for feature extraction and data compression. It is a powerful tool that has many applications in fields like finance, image processing, and natural language processing.\n",
        "\n",
        "<img src = \"https://learnopencv.com/wp-content/uploads/2018/01/principal-component-analysis.png\">\n",
        "\n",
        "Here we will try to make our own Pricncipal Component Analysis\n",
        "\n",
        "**Modules Used**\n",
        "* Pandas\n",
        "* Numpy\n",
        "**Note**\n",
        "* This is the [dataset](https://archive.ics.uci.edu/ml/machine-learning-databases/magic/)"
      ],
      "metadata": {
        "id": "yTbT4EqpjGFG"
      }
    },
    {
      "cell_type": "code",
      "source": [
        "import pandas as pd \n",
        "import numpy as np "
      ],
      "metadata": {
        "id": "44Yj2IXig_gB"
      },
      "execution_count": 1,
      "outputs": []
    },
    {
      "cell_type": "markdown",
      "source": [
        "Lets import our dataset "
      ],
      "metadata": {
        "id": "LWTUNT3Gj1oF"
      }
    },
    {
      "cell_type": "code",
      "source": [
        "pd.read_csv(\"/content/magic04.data\")"
      ],
      "metadata": {
        "colab": {
          "base_uri": "https://localhost:8080/",
          "height": 423
        },
        "id": "fCp-Tk5yj7jP",
        "outputId": "f1dd7434-030c-4cb7-e347-e73c32098f60"
      },
      "execution_count": 21,
      "outputs": [
        {
          "output_type": "execute_result",
          "data": {
            "text/plain": [
              "        28.7967   16.0021  2.6449  0.3918  0.1982   27.7004    22.011  \\\n",
              "0       31.6036   11.7235  2.5185  0.5303  0.3773   26.2722   23.8238   \n",
              "1      162.0520  136.0310  4.0612  0.0374  0.0187  116.7410  -64.8580   \n",
              "2       23.8172    9.5728  2.3385  0.6147  0.3922   27.2107   -6.4633   \n",
              "3       75.1362   30.9205  3.1611  0.3168  0.1832   -5.5277   28.5525   \n",
              "4       51.6240   21.1502  2.9085  0.2420  0.1340   50.8761   43.1887   \n",
              "...         ...       ...     ...     ...     ...       ...       ...   \n",
              "19014   21.3846   10.9170  2.6161  0.5857  0.3934   15.2618   11.5245   \n",
              "19015   28.9452    6.7020  2.2672  0.5351  0.2784   37.0816   13.1853   \n",
              "19016   75.4455   47.5305  3.4483  0.1417  0.0549   -9.3561   41.0562   \n",
              "19017  120.5135   76.9018  3.9939  0.0944  0.0683    5.8043  -93.5224   \n",
              "19018  187.1814   53.0014  3.2093  0.2876  0.1539 -167.3125 -168.4558   \n",
              "\n",
              "       -8.2027   40.092   81.8828  g  \n",
              "0      -9.9574   6.3609  205.2610  g  \n",
              "1     -45.2160  76.9600  256.7880  g  \n",
              "2      -7.1513  10.4490  116.7370  g  \n",
              "3      21.8393   4.6480  356.4620  g  \n",
              "4       9.8145   3.6130  238.0980  g  \n",
              "...        ...      ...       ... ..  \n",
              "19014   2.8766   2.4229  106.8258  h  \n",
              "19015  -2.9632  86.7975  247.4560  h  \n",
              "19016  -9.4662  30.2987  256.5166  h  \n",
              "19017 -63.8389  84.6874  408.3166  h  \n",
              "19018  31.4755  52.7310  272.3174  h  \n",
              "\n",
              "[19019 rows x 11 columns]"
            ],
            "text/html": [
              "\n",
              "  <div id=\"df-881be29a-7d44-44dc-877f-a21ee07fc422\">\n",
              "    <div class=\"colab-df-container\">\n",
              "      <div>\n",
              "<style scoped>\n",
              "    .dataframe tbody tr th:only-of-type {\n",
              "        vertical-align: middle;\n",
              "    }\n",
              "\n",
              "    .dataframe tbody tr th {\n",
              "        vertical-align: top;\n",
              "    }\n",
              "\n",
              "    .dataframe thead th {\n",
              "        text-align: right;\n",
              "    }\n",
              "</style>\n",
              "<table border=\"1\" class=\"dataframe\">\n",
              "  <thead>\n",
              "    <tr style=\"text-align: right;\">\n",
              "      <th></th>\n",
              "      <th>28.7967</th>\n",
              "      <th>16.0021</th>\n",
              "      <th>2.6449</th>\n",
              "      <th>0.3918</th>\n",
              "      <th>0.1982</th>\n",
              "      <th>27.7004</th>\n",
              "      <th>22.011</th>\n",
              "      <th>-8.2027</th>\n",
              "      <th>40.092</th>\n",
              "      <th>81.8828</th>\n",
              "      <th>g</th>\n",
              "    </tr>\n",
              "  </thead>\n",
              "  <tbody>\n",
              "    <tr>\n",
              "      <th>0</th>\n",
              "      <td>31.6036</td>\n",
              "      <td>11.7235</td>\n",
              "      <td>2.5185</td>\n",
              "      <td>0.5303</td>\n",
              "      <td>0.3773</td>\n",
              "      <td>26.2722</td>\n",
              "      <td>23.8238</td>\n",
              "      <td>-9.9574</td>\n",
              "      <td>6.3609</td>\n",
              "      <td>205.2610</td>\n",
              "      <td>g</td>\n",
              "    </tr>\n",
              "    <tr>\n",
              "      <th>1</th>\n",
              "      <td>162.0520</td>\n",
              "      <td>136.0310</td>\n",
              "      <td>4.0612</td>\n",
              "      <td>0.0374</td>\n",
              "      <td>0.0187</td>\n",
              "      <td>116.7410</td>\n",
              "      <td>-64.8580</td>\n",
              "      <td>-45.2160</td>\n",
              "      <td>76.9600</td>\n",
              "      <td>256.7880</td>\n",
              "      <td>g</td>\n",
              "    </tr>\n",
              "    <tr>\n",
              "      <th>2</th>\n",
              "      <td>23.8172</td>\n",
              "      <td>9.5728</td>\n",
              "      <td>2.3385</td>\n",
              "      <td>0.6147</td>\n",
              "      <td>0.3922</td>\n",
              "      <td>27.2107</td>\n",
              "      <td>-6.4633</td>\n",
              "      <td>-7.1513</td>\n",
              "      <td>10.4490</td>\n",
              "      <td>116.7370</td>\n",
              "      <td>g</td>\n",
              "    </tr>\n",
              "    <tr>\n",
              "      <th>3</th>\n",
              "      <td>75.1362</td>\n",
              "      <td>30.9205</td>\n",
              "      <td>3.1611</td>\n",
              "      <td>0.3168</td>\n",
              "      <td>0.1832</td>\n",
              "      <td>-5.5277</td>\n",
              "      <td>28.5525</td>\n",
              "      <td>21.8393</td>\n",
              "      <td>4.6480</td>\n",
              "      <td>356.4620</td>\n",
              "      <td>g</td>\n",
              "    </tr>\n",
              "    <tr>\n",
              "      <th>4</th>\n",
              "      <td>51.6240</td>\n",
              "      <td>21.1502</td>\n",
              "      <td>2.9085</td>\n",
              "      <td>0.2420</td>\n",
              "      <td>0.1340</td>\n",
              "      <td>50.8761</td>\n",
              "      <td>43.1887</td>\n",
              "      <td>9.8145</td>\n",
              "      <td>3.6130</td>\n",
              "      <td>238.0980</td>\n",
              "      <td>g</td>\n",
              "    </tr>\n",
              "    <tr>\n",
              "      <th>...</th>\n",
              "      <td>...</td>\n",
              "      <td>...</td>\n",
              "      <td>...</td>\n",
              "      <td>...</td>\n",
              "      <td>...</td>\n",
              "      <td>...</td>\n",
              "      <td>...</td>\n",
              "      <td>...</td>\n",
              "      <td>...</td>\n",
              "      <td>...</td>\n",
              "      <td>...</td>\n",
              "    </tr>\n",
              "    <tr>\n",
              "      <th>19014</th>\n",
              "      <td>21.3846</td>\n",
              "      <td>10.9170</td>\n",
              "      <td>2.6161</td>\n",
              "      <td>0.5857</td>\n",
              "      <td>0.3934</td>\n",
              "      <td>15.2618</td>\n",
              "      <td>11.5245</td>\n",
              "      <td>2.8766</td>\n",
              "      <td>2.4229</td>\n",
              "      <td>106.8258</td>\n",
              "      <td>h</td>\n",
              "    </tr>\n",
              "    <tr>\n",
              "      <th>19015</th>\n",
              "      <td>28.9452</td>\n",
              "      <td>6.7020</td>\n",
              "      <td>2.2672</td>\n",
              "      <td>0.5351</td>\n",
              "      <td>0.2784</td>\n",
              "      <td>37.0816</td>\n",
              "      <td>13.1853</td>\n",
              "      <td>-2.9632</td>\n",
              "      <td>86.7975</td>\n",
              "      <td>247.4560</td>\n",
              "      <td>h</td>\n",
              "    </tr>\n",
              "    <tr>\n",
              "      <th>19016</th>\n",
              "      <td>75.4455</td>\n",
              "      <td>47.5305</td>\n",
              "      <td>3.4483</td>\n",
              "      <td>0.1417</td>\n",
              "      <td>0.0549</td>\n",
              "      <td>-9.3561</td>\n",
              "      <td>41.0562</td>\n",
              "      <td>-9.4662</td>\n",
              "      <td>30.2987</td>\n",
              "      <td>256.5166</td>\n",
              "      <td>h</td>\n",
              "    </tr>\n",
              "    <tr>\n",
              "      <th>19017</th>\n",
              "      <td>120.5135</td>\n",
              "      <td>76.9018</td>\n",
              "      <td>3.9939</td>\n",
              "      <td>0.0944</td>\n",
              "      <td>0.0683</td>\n",
              "      <td>5.8043</td>\n",
              "      <td>-93.5224</td>\n",
              "      <td>-63.8389</td>\n",
              "      <td>84.6874</td>\n",
              "      <td>408.3166</td>\n",
              "      <td>h</td>\n",
              "    </tr>\n",
              "    <tr>\n",
              "      <th>19018</th>\n",
              "      <td>187.1814</td>\n",
              "      <td>53.0014</td>\n",
              "      <td>3.2093</td>\n",
              "      <td>0.2876</td>\n",
              "      <td>0.1539</td>\n",
              "      <td>-167.3125</td>\n",
              "      <td>-168.4558</td>\n",
              "      <td>31.4755</td>\n",
              "      <td>52.7310</td>\n",
              "      <td>272.3174</td>\n",
              "      <td>h</td>\n",
              "    </tr>\n",
              "  </tbody>\n",
              "</table>\n",
              "<p>19019 rows × 11 columns</p>\n",
              "</div>\n",
              "      <button class=\"colab-df-convert\" onclick=\"convertToInteractive('df-881be29a-7d44-44dc-877f-a21ee07fc422')\"\n",
              "              title=\"Convert this dataframe to an interactive table.\"\n",
              "              style=\"display:none;\">\n",
              "        \n",
              "  <svg xmlns=\"http://www.w3.org/2000/svg\" height=\"24px\"viewBox=\"0 0 24 24\"\n",
              "       width=\"24px\">\n",
              "    <path d=\"M0 0h24v24H0V0z\" fill=\"none\"/>\n",
              "    <path d=\"M18.56 5.44l.94 2.06.94-2.06 2.06-.94-2.06-.94-.94-2.06-.94 2.06-2.06.94zm-11 1L8.5 8.5l.94-2.06 2.06-.94-2.06-.94L8.5 2.5l-.94 2.06-2.06.94zm10 10l.94 2.06.94-2.06 2.06-.94-2.06-.94-.94-2.06-.94 2.06-2.06.94z\"/><path d=\"M17.41 7.96l-1.37-1.37c-.4-.4-.92-.59-1.43-.59-.52 0-1.04.2-1.43.59L10.3 9.45l-7.72 7.72c-.78.78-.78 2.05 0 2.83L4 21.41c.39.39.9.59 1.41.59.51 0 1.02-.2 1.41-.59l7.78-7.78 2.81-2.81c.8-.78.8-2.07 0-2.86zM5.41 20L4 18.59l7.72-7.72 1.47 1.35L5.41 20z\"/>\n",
              "  </svg>\n",
              "      </button>\n",
              "      \n",
              "  <style>\n",
              "    .colab-df-container {\n",
              "      display:flex;\n",
              "      flex-wrap:wrap;\n",
              "      gap: 12px;\n",
              "    }\n",
              "\n",
              "    .colab-df-convert {\n",
              "      background-color: #E8F0FE;\n",
              "      border: none;\n",
              "      border-radius: 50%;\n",
              "      cursor: pointer;\n",
              "      display: none;\n",
              "      fill: #1967D2;\n",
              "      height: 32px;\n",
              "      padding: 0 0 0 0;\n",
              "      width: 32px;\n",
              "    }\n",
              "\n",
              "    .colab-df-convert:hover {\n",
              "      background-color: #E2EBFA;\n",
              "      box-shadow: 0px 1px 2px rgba(60, 64, 67, 0.3), 0px 1px 3px 1px rgba(60, 64, 67, 0.15);\n",
              "      fill: #174EA6;\n",
              "    }\n",
              "\n",
              "    [theme=dark] .colab-df-convert {\n",
              "      background-color: #3B4455;\n",
              "      fill: #D2E3FC;\n",
              "    }\n",
              "\n",
              "    [theme=dark] .colab-df-convert:hover {\n",
              "      background-color: #434B5C;\n",
              "      box-shadow: 0px 1px 3px 1px rgba(0, 0, 0, 0.15);\n",
              "      filter: drop-shadow(0px 1px 2px rgba(0, 0, 0, 0.3));\n",
              "      fill: #FFFFFF;\n",
              "    }\n",
              "  </style>\n",
              "\n",
              "      <script>\n",
              "        const buttonEl =\n",
              "          document.querySelector('#df-881be29a-7d44-44dc-877f-a21ee07fc422 button.colab-df-convert');\n",
              "        buttonEl.style.display =\n",
              "          google.colab.kernel.accessAllowed ? 'block' : 'none';\n",
              "\n",
              "        async function convertToInteractive(key) {\n",
              "          const element = document.querySelector('#df-881be29a-7d44-44dc-877f-a21ee07fc422');\n",
              "          const dataTable =\n",
              "            await google.colab.kernel.invokeFunction('convertToInteractive',\n",
              "                                                     [key], {});\n",
              "          if (!dataTable) return;\n",
              "\n",
              "          const docLinkHtml = 'Like what you see? Visit the ' +\n",
              "            '<a target=\"_blank\" href=https://colab.research.google.com/notebooks/data_table.ipynb>data table notebook</a>'\n",
              "            + ' to learn more about interactive tables.';\n",
              "          element.innerHTML = '';\n",
              "          dataTable['output_type'] = 'display_data';\n",
              "          await google.colab.output.renderOutput(dataTable, element);\n",
              "          const docLink = document.createElement('div');\n",
              "          docLink.innerHTML = docLinkHtml;\n",
              "          element.appendChild(docLink);\n",
              "        }\n",
              "      </script>\n",
              "    </div>\n",
              "  </div>\n",
              "  "
            ]
          },
          "metadata": {},
          "execution_count": 21
        }
      ]
    },
    {
      "cell_type": "markdown",
      "source": [
        "We dont want the target column, so we will just remove it "
      ],
      "metadata": {
        "id": "1hNadgw0j_l3"
      }
    },
    {
      "cell_type": "code",
      "source": [
        "pd.read_csv(\"/content/magic04.data\").drop(\"g\" , axis = 1)"
      ],
      "metadata": {
        "colab": {
          "base_uri": "https://localhost:8080/",
          "height": 423
        },
        "id": "DMxZN-pzj_I3",
        "outputId": "c34d527e-f064-4775-fdc7-950c8319e7e0"
      },
      "execution_count": 22,
      "outputs": [
        {
          "output_type": "execute_result",
          "data": {
            "text/plain": [
              "        28.7967   16.0021  2.6449  0.3918  0.1982   27.7004    22.011  \\\n",
              "0       31.6036   11.7235  2.5185  0.5303  0.3773   26.2722   23.8238   \n",
              "1      162.0520  136.0310  4.0612  0.0374  0.0187  116.7410  -64.8580   \n",
              "2       23.8172    9.5728  2.3385  0.6147  0.3922   27.2107   -6.4633   \n",
              "3       75.1362   30.9205  3.1611  0.3168  0.1832   -5.5277   28.5525   \n",
              "4       51.6240   21.1502  2.9085  0.2420  0.1340   50.8761   43.1887   \n",
              "...         ...       ...     ...     ...     ...       ...       ...   \n",
              "19014   21.3846   10.9170  2.6161  0.5857  0.3934   15.2618   11.5245   \n",
              "19015   28.9452    6.7020  2.2672  0.5351  0.2784   37.0816   13.1853   \n",
              "19016   75.4455   47.5305  3.4483  0.1417  0.0549   -9.3561   41.0562   \n",
              "19017  120.5135   76.9018  3.9939  0.0944  0.0683    5.8043  -93.5224   \n",
              "19018  187.1814   53.0014  3.2093  0.2876  0.1539 -167.3125 -168.4558   \n",
              "\n",
              "       -8.2027   40.092   81.8828  \n",
              "0      -9.9574   6.3609  205.2610  \n",
              "1     -45.2160  76.9600  256.7880  \n",
              "2      -7.1513  10.4490  116.7370  \n",
              "3      21.8393   4.6480  356.4620  \n",
              "4       9.8145   3.6130  238.0980  \n",
              "...        ...      ...       ...  \n",
              "19014   2.8766   2.4229  106.8258  \n",
              "19015  -2.9632  86.7975  247.4560  \n",
              "19016  -9.4662  30.2987  256.5166  \n",
              "19017 -63.8389  84.6874  408.3166  \n",
              "19018  31.4755  52.7310  272.3174  \n",
              "\n",
              "[19019 rows x 10 columns]"
            ],
            "text/html": [
              "\n",
              "  <div id=\"df-df9fb38a-8bd7-43c4-9409-d5b25126c214\">\n",
              "    <div class=\"colab-df-container\">\n",
              "      <div>\n",
              "<style scoped>\n",
              "    .dataframe tbody tr th:only-of-type {\n",
              "        vertical-align: middle;\n",
              "    }\n",
              "\n",
              "    .dataframe tbody tr th {\n",
              "        vertical-align: top;\n",
              "    }\n",
              "\n",
              "    .dataframe thead th {\n",
              "        text-align: right;\n",
              "    }\n",
              "</style>\n",
              "<table border=\"1\" class=\"dataframe\">\n",
              "  <thead>\n",
              "    <tr style=\"text-align: right;\">\n",
              "      <th></th>\n",
              "      <th>28.7967</th>\n",
              "      <th>16.0021</th>\n",
              "      <th>2.6449</th>\n",
              "      <th>0.3918</th>\n",
              "      <th>0.1982</th>\n",
              "      <th>27.7004</th>\n",
              "      <th>22.011</th>\n",
              "      <th>-8.2027</th>\n",
              "      <th>40.092</th>\n",
              "      <th>81.8828</th>\n",
              "    </tr>\n",
              "  </thead>\n",
              "  <tbody>\n",
              "    <tr>\n",
              "      <th>0</th>\n",
              "      <td>31.6036</td>\n",
              "      <td>11.7235</td>\n",
              "      <td>2.5185</td>\n",
              "      <td>0.5303</td>\n",
              "      <td>0.3773</td>\n",
              "      <td>26.2722</td>\n",
              "      <td>23.8238</td>\n",
              "      <td>-9.9574</td>\n",
              "      <td>6.3609</td>\n",
              "      <td>205.2610</td>\n",
              "    </tr>\n",
              "    <tr>\n",
              "      <th>1</th>\n",
              "      <td>162.0520</td>\n",
              "      <td>136.0310</td>\n",
              "      <td>4.0612</td>\n",
              "      <td>0.0374</td>\n",
              "      <td>0.0187</td>\n",
              "      <td>116.7410</td>\n",
              "      <td>-64.8580</td>\n",
              "      <td>-45.2160</td>\n",
              "      <td>76.9600</td>\n",
              "      <td>256.7880</td>\n",
              "    </tr>\n",
              "    <tr>\n",
              "      <th>2</th>\n",
              "      <td>23.8172</td>\n",
              "      <td>9.5728</td>\n",
              "      <td>2.3385</td>\n",
              "      <td>0.6147</td>\n",
              "      <td>0.3922</td>\n",
              "      <td>27.2107</td>\n",
              "      <td>-6.4633</td>\n",
              "      <td>-7.1513</td>\n",
              "      <td>10.4490</td>\n",
              "      <td>116.7370</td>\n",
              "    </tr>\n",
              "    <tr>\n",
              "      <th>3</th>\n",
              "      <td>75.1362</td>\n",
              "      <td>30.9205</td>\n",
              "      <td>3.1611</td>\n",
              "      <td>0.3168</td>\n",
              "      <td>0.1832</td>\n",
              "      <td>-5.5277</td>\n",
              "      <td>28.5525</td>\n",
              "      <td>21.8393</td>\n",
              "      <td>4.6480</td>\n",
              "      <td>356.4620</td>\n",
              "    </tr>\n",
              "    <tr>\n",
              "      <th>4</th>\n",
              "      <td>51.6240</td>\n",
              "      <td>21.1502</td>\n",
              "      <td>2.9085</td>\n",
              "      <td>0.2420</td>\n",
              "      <td>0.1340</td>\n",
              "      <td>50.8761</td>\n",
              "      <td>43.1887</td>\n",
              "      <td>9.8145</td>\n",
              "      <td>3.6130</td>\n",
              "      <td>238.0980</td>\n",
              "    </tr>\n",
              "    <tr>\n",
              "      <th>...</th>\n",
              "      <td>...</td>\n",
              "      <td>...</td>\n",
              "      <td>...</td>\n",
              "      <td>...</td>\n",
              "      <td>...</td>\n",
              "      <td>...</td>\n",
              "      <td>...</td>\n",
              "      <td>...</td>\n",
              "      <td>...</td>\n",
              "      <td>...</td>\n",
              "    </tr>\n",
              "    <tr>\n",
              "      <th>19014</th>\n",
              "      <td>21.3846</td>\n",
              "      <td>10.9170</td>\n",
              "      <td>2.6161</td>\n",
              "      <td>0.5857</td>\n",
              "      <td>0.3934</td>\n",
              "      <td>15.2618</td>\n",
              "      <td>11.5245</td>\n",
              "      <td>2.8766</td>\n",
              "      <td>2.4229</td>\n",
              "      <td>106.8258</td>\n",
              "    </tr>\n",
              "    <tr>\n",
              "      <th>19015</th>\n",
              "      <td>28.9452</td>\n",
              "      <td>6.7020</td>\n",
              "      <td>2.2672</td>\n",
              "      <td>0.5351</td>\n",
              "      <td>0.2784</td>\n",
              "      <td>37.0816</td>\n",
              "      <td>13.1853</td>\n",
              "      <td>-2.9632</td>\n",
              "      <td>86.7975</td>\n",
              "      <td>247.4560</td>\n",
              "    </tr>\n",
              "    <tr>\n",
              "      <th>19016</th>\n",
              "      <td>75.4455</td>\n",
              "      <td>47.5305</td>\n",
              "      <td>3.4483</td>\n",
              "      <td>0.1417</td>\n",
              "      <td>0.0549</td>\n",
              "      <td>-9.3561</td>\n",
              "      <td>41.0562</td>\n",
              "      <td>-9.4662</td>\n",
              "      <td>30.2987</td>\n",
              "      <td>256.5166</td>\n",
              "    </tr>\n",
              "    <tr>\n",
              "      <th>19017</th>\n",
              "      <td>120.5135</td>\n",
              "      <td>76.9018</td>\n",
              "      <td>3.9939</td>\n",
              "      <td>0.0944</td>\n",
              "      <td>0.0683</td>\n",
              "      <td>5.8043</td>\n",
              "      <td>-93.5224</td>\n",
              "      <td>-63.8389</td>\n",
              "      <td>84.6874</td>\n",
              "      <td>408.3166</td>\n",
              "    </tr>\n",
              "    <tr>\n",
              "      <th>19018</th>\n",
              "      <td>187.1814</td>\n",
              "      <td>53.0014</td>\n",
              "      <td>3.2093</td>\n",
              "      <td>0.2876</td>\n",
              "      <td>0.1539</td>\n",
              "      <td>-167.3125</td>\n",
              "      <td>-168.4558</td>\n",
              "      <td>31.4755</td>\n",
              "      <td>52.7310</td>\n",
              "      <td>272.3174</td>\n",
              "    </tr>\n",
              "  </tbody>\n",
              "</table>\n",
              "<p>19019 rows × 10 columns</p>\n",
              "</div>\n",
              "      <button class=\"colab-df-convert\" onclick=\"convertToInteractive('df-df9fb38a-8bd7-43c4-9409-d5b25126c214')\"\n",
              "              title=\"Convert this dataframe to an interactive table.\"\n",
              "              style=\"display:none;\">\n",
              "        \n",
              "  <svg xmlns=\"http://www.w3.org/2000/svg\" height=\"24px\"viewBox=\"0 0 24 24\"\n",
              "       width=\"24px\">\n",
              "    <path d=\"M0 0h24v24H0V0z\" fill=\"none\"/>\n",
              "    <path d=\"M18.56 5.44l.94 2.06.94-2.06 2.06-.94-2.06-.94-.94-2.06-.94 2.06-2.06.94zm-11 1L8.5 8.5l.94-2.06 2.06-.94-2.06-.94L8.5 2.5l-.94 2.06-2.06.94zm10 10l.94 2.06.94-2.06 2.06-.94-2.06-.94-.94-2.06-.94 2.06-2.06.94z\"/><path d=\"M17.41 7.96l-1.37-1.37c-.4-.4-.92-.59-1.43-.59-.52 0-1.04.2-1.43.59L10.3 9.45l-7.72 7.72c-.78.78-.78 2.05 0 2.83L4 21.41c.39.39.9.59 1.41.59.51 0 1.02-.2 1.41-.59l7.78-7.78 2.81-2.81c.8-.78.8-2.07 0-2.86zM5.41 20L4 18.59l7.72-7.72 1.47 1.35L5.41 20z\"/>\n",
              "  </svg>\n",
              "      </button>\n",
              "      \n",
              "  <style>\n",
              "    .colab-df-container {\n",
              "      display:flex;\n",
              "      flex-wrap:wrap;\n",
              "      gap: 12px;\n",
              "    }\n",
              "\n",
              "    .colab-df-convert {\n",
              "      background-color: #E8F0FE;\n",
              "      border: none;\n",
              "      border-radius: 50%;\n",
              "      cursor: pointer;\n",
              "      display: none;\n",
              "      fill: #1967D2;\n",
              "      height: 32px;\n",
              "      padding: 0 0 0 0;\n",
              "      width: 32px;\n",
              "    }\n",
              "\n",
              "    .colab-df-convert:hover {\n",
              "      background-color: #E2EBFA;\n",
              "      box-shadow: 0px 1px 2px rgba(60, 64, 67, 0.3), 0px 1px 3px 1px rgba(60, 64, 67, 0.15);\n",
              "      fill: #174EA6;\n",
              "    }\n",
              "\n",
              "    [theme=dark] .colab-df-convert {\n",
              "      background-color: #3B4455;\n",
              "      fill: #D2E3FC;\n",
              "    }\n",
              "\n",
              "    [theme=dark] .colab-df-convert:hover {\n",
              "      background-color: #434B5C;\n",
              "      box-shadow: 0px 1px 3px 1px rgba(0, 0, 0, 0.15);\n",
              "      filter: drop-shadow(0px 1px 2px rgba(0, 0, 0, 0.3));\n",
              "      fill: #FFFFFF;\n",
              "    }\n",
              "  </style>\n",
              "\n",
              "      <script>\n",
              "        const buttonEl =\n",
              "          document.querySelector('#df-df9fb38a-8bd7-43c4-9409-d5b25126c214 button.colab-df-convert');\n",
              "        buttonEl.style.display =\n",
              "          google.colab.kernel.accessAllowed ? 'block' : 'none';\n",
              "\n",
              "        async function convertToInteractive(key) {\n",
              "          const element = document.querySelector('#df-df9fb38a-8bd7-43c4-9409-d5b25126c214');\n",
              "          const dataTable =\n",
              "            await google.colab.kernel.invokeFunction('convertToInteractive',\n",
              "                                                     [key], {});\n",
              "          if (!dataTable) return;\n",
              "\n",
              "          const docLinkHtml = 'Like what you see? Visit the ' +\n",
              "            '<a target=\"_blank\" href=https://colab.research.google.com/notebooks/data_table.ipynb>data table notebook</a>'\n",
              "            + ' to learn more about interactive tables.';\n",
              "          element.innerHTML = '';\n",
              "          dataTable['output_type'] = 'display_data';\n",
              "          await google.colab.output.renderOutput(dataTable, element);\n",
              "          const docLink = document.createElement('div');\n",
              "          docLink.innerHTML = docLinkHtml;\n",
              "          element.appendChild(docLink);\n",
              "        }\n",
              "      </script>\n",
              "    </div>\n",
              "  </div>\n",
              "  "
            ]
          },
          "metadata": {},
          "execution_count": 22
        }
      ]
    },
    {
      "cell_type": "markdown",
      "source": [
        "Also we need this as a numpy array"
      ],
      "metadata": {
        "id": "siCF7IvYkF9P"
      }
    },
    {
      "cell_type": "code",
      "source": [
        "np.array(pd.read_csv(\"/content/magic04.data\").drop(\"g\" , axis = 1))"
      ],
      "metadata": {
        "colab": {
          "base_uri": "https://localhost:8080/"
        },
        "id": "To23HvH0kKnD",
        "outputId": "eb75a530-bb2c-4ba1-fc12-a22fb00e2ef2"
      },
      "execution_count": 23,
      "outputs": [
        {
          "output_type": "execute_result",
          "data": {
            "text/plain": [
              "array([[ 31.6036,  11.7235,   2.5185, ...,  -9.9574,   6.3609, 205.261 ],\n",
              "       [162.052 , 136.031 ,   4.0612, ..., -45.216 ,  76.96  , 256.788 ],\n",
              "       [ 23.8172,   9.5728,   2.3385, ...,  -7.1513,  10.449 , 116.737 ],\n",
              "       ...,\n",
              "       [ 75.4455,  47.5305,   3.4483, ...,  -9.4662,  30.2987, 256.5166],\n",
              "       [120.5135,  76.9018,   3.9939, ..., -63.8389,  84.6874, 408.3166],\n",
              "       [187.1814,  53.0014,   3.2093, ...,  31.4755,  52.731 , 272.3174]])"
            ]
          },
          "metadata": {},
          "execution_count": 23
        }
      ]
    },
    {
      "cell_type": "markdown",
      "source": [
        "OR"
      ],
      "metadata": {
        "id": "7kNvIXibkM0j"
      }
    },
    {
      "cell_type": "code",
      "source": [
        "data = np.array(pd.read_csv(\"/content/magic04.data\").drop(\"g\" , axis = 1))"
      ],
      "metadata": {
        "id": "yOnUW2JuhCHX"
      },
      "execution_count": 5,
      "outputs": []
    },
    {
      "cell_type": "markdown",
      "source": [
        "For finding what would be the values of the transformed data, we take help from the eignvalues and eigenvectors of the covariance of the data. So know we just need to calculate the eigenvalues and eigenvectors of all the covariacne values "
      ],
      "metadata": {
        "id": "yDDKHGTQmKKS"
      }
    },
    {
      "cell_type": "markdown",
      "source": [
        "But first of all we need to find the covariacne of the values"
      ],
      "metadata": {
        "id": "6ouab5_amxfA"
      }
    },
    {
      "cell_type": "markdown",
      "source": [
        "For choosing which feature to keep and which not, we first need to find how those features are covarried, for simplicity we will keep the comparison between two at most of the time "
      ],
      "metadata": {
        "id": "CR6WCrKFksLq"
      }
    },
    {
      "cell_type": "markdown",
      "source": [
        "Lets say we have two arrays, `array_1` and `array_2`, for finding the covariacne we have $$covariance_{x , y} = \\frac {\\sum \\limits _{i = 1} ^ {n} (x_i - x_{mean})(y_i - y_{mean})}{Number_-of_-values - 1}$$"
      ],
      "metadata": {
        "id": "y2Lep5L6lBNU"
      }
    },
    {
      "cell_type": "code",
      "source": [
        "array_1 = np.array([x for x in range(0 , 40)])\n",
        "array_2 = np.array([x for x in range(40 , 120 , 2)])"
      ],
      "metadata": {
        "id": "nlJBh1T-lAUe"
      },
      "execution_count": 24,
      "outputs": []
    },
    {
      "cell_type": "markdown",
      "source": [
        "Lets try to find the covariance between these two arrays "
      ],
      "metadata": {
        "id": "oTaSnnHXnJjZ"
      }
    },
    {
      "cell_type": "code",
      "source": [
        "num = 0\n",
        "for i , j in zip(array_1 , array_2):\n",
        "    num += ((i - np.mean(array_1)) * (j - np.mean(array_2)))"
      ],
      "metadata": {
        "id": "8jKDr7X1nJMQ"
      },
      "execution_count": 25,
      "outputs": []
    },
    {
      "cell_type": "code",
      "source": [
        "num"
      ],
      "metadata": {
        "colab": {
          "base_uri": "https://localhost:8080/"
        },
        "id": "CcuOP1BDnq0Y",
        "outputId": "ab425301-332f-4f51-f419-f5d946b73ec6"
      },
      "execution_count": 26,
      "outputs": [
        {
          "output_type": "execute_result",
          "data": {
            "text/plain": [
              "10660.0"
            ]
          },
          "metadata": {},
          "execution_count": 26
        }
      ]
    },
    {
      "cell_type": "code",
      "source": [
        "co = num / (39)"
      ],
      "metadata": {
        "id": "7qjcvui3nu3Q"
      },
      "execution_count": 27,
      "outputs": []
    },
    {
      "cell_type": "code",
      "source": [
        "co"
      ],
      "metadata": {
        "colab": {
          "base_uri": "https://localhost:8080/"
        },
        "id": "UsIQFR1Rn33o",
        "outputId": "b46c31f0-4c81-47e1-95a7-e81cb264cd12"
      },
      "execution_count": 28,
      "outputs": [
        {
          "output_type": "execute_result",
          "data": {
            "text/plain": [
              "273.3333333333333"
            ]
          },
          "metadata": {},
          "execution_count": 28
        }
      ]
    },
    {
      "cell_type": "markdown",
      "source": [
        "Lets try to find covariance with numpy"
      ],
      "metadata": {
        "id": "M_U7cj6nok0Q"
      }
    },
    {
      "cell_type": "code",
      "source": [
        "np.cov(array_1 , array_2)"
      ],
      "metadata": {
        "colab": {
          "base_uri": "https://localhost:8080/"
        },
        "id": "SW0nUXb7n7Wi",
        "outputId": "32b78b4f-3c45-47e4-98e1-16615b6ffe0f"
      },
      "execution_count": 29,
      "outputs": [
        {
          "output_type": "execute_result",
          "data": {
            "text/plain": [
              "array([[136.66666667, 273.33333333],\n",
              "       [273.33333333, 546.66666667]])"
            ]
          },
          "metadata": {},
          "execution_count": 29
        }
      ]
    },
    {
      "cell_type": "markdown",
      "source": [
        "You might be wondering why we got a matrix, this is beacuse `np.cov()` function works like this \n",
        "\n",
        "<img src = \"https://www.statlect.com/images/covariance-matrix__32.png\">"
      ],
      "metadata": {
        "id": "xe6F4ymmn6WQ"
      }
    },
    {
      "cell_type": "markdown",
      "source": [
        "We can also do like this "
      ],
      "metadata": {
        "id": "N75S_OEYsJ9E"
      }
    },
    {
      "cell_type": "code",
      "source": [
        "sample_array = np.array([[x for x in range(0 , 40)] , [x for x in range(40 , 120 , 2)]])\n",
        "np.cov(sample_array)"
      ],
      "metadata": {
        "colab": {
          "base_uri": "https://localhost:8080/"
        },
        "id": "e-VnVhtgsOMl",
        "outputId": "133efc5b-11f7-449a-ffa8-c7ad2c9bf654"
      },
      "execution_count": 31,
      "outputs": [
        {
          "output_type": "execute_result",
          "data": {
            "text/plain": [
              "array([[136.66666667, 273.33333333],\n",
              "       [273.33333333, 546.66666667]])"
            ]
          },
          "metadata": {},
          "execution_count": 31
        }
      ]
    },
    {
      "cell_type": "markdown",
      "source": [
        "Lets try for $3$"
      ],
      "metadata": {
        "id": "K5KOIqOnsaTk"
      }
    },
    {
      "cell_type": "code",
      "source": [
        "sample_array = np.array([[x for x in range(0 , 40)] , [x for x in range(40 , 120 , 2)] , [x for x in range(120 , 240 , 3)]])\n",
        "np.cov(sample_array)"
      ],
      "metadata": {
        "colab": {
          "base_uri": "https://localhost:8080/"
        },
        "id": "4rMuG2s8shC0",
        "outputId": "83de92c4-a739-44c5-eeef-8993ce67ab38"
      },
      "execution_count": 32,
      "outputs": [
        {
          "output_type": "execute_result",
          "data": {
            "text/plain": [
              "array([[ 136.66666667,  273.33333333,  410.        ],\n",
              "       [ 273.33333333,  546.66666667,  820.        ],\n",
              "       [ 410.        ,  820.        , 1230.        ]])"
            ]
          },
          "metadata": {},
          "execution_count": 32
        }
      ]
    },
    {
      "cell_type": "markdown",
      "source": [
        "So now we can caluclate the covarince of our whole large dataset"
      ],
      "metadata": {
        "id": "a12TypY3sxij"
      }
    },
    {
      "cell_type": "code",
      "source": [
        "np.cov(data)"
      ],
      "metadata": {
        "colab": {
          "base_uri": "https://localhost:8080/"
        },
        "id": "mhlCCISds3yN",
        "outputId": "eda77ee9-0394-4238-ec91-e5d25baeb0b6"
      },
      "execution_count": 33,
      "outputs": [
        {
          "output_type": "execute_result",
          "data": {
            "text/plain": [
              "array([[ 3973.49360177,  4745.96701765,  2248.03224613, ...,\n",
              "         4846.35035653,  7935.63989139,  5128.45896296],\n",
              "       [ 4745.96701765, 10580.97364716,  3162.64152849, ...,\n",
              "         6176.00353497, 12901.07140578,  9389.93265368],\n",
              "       [ 2248.03224613,  3162.64152849,  1342.63308859, ...,\n",
              "         2703.94298205,  4860.64839684,  3214.20348159],\n",
              "       ...,\n",
              "       [ 4846.35035653,  6176.00353497,  2703.94298205, ...,\n",
              "         6395.97517425, 10346.63306902,  7880.87014123],\n",
              "       [ 7935.63989139, 12901.07140578,  4860.64839684, ...,\n",
              "        10346.63306902, 19746.25985233, 15634.46822326],\n",
              "       [ 5128.45896296,  9389.93265368,  3214.20348159, ...,\n",
              "         7880.87014123, 15634.46822326, 18350.5052724 ]])"
            ]
          },
          "metadata": {},
          "execution_count": 33
        }
      ]
    },
    {
      "cell_type": "markdown",
      "source": [
        "Lets store this valuable information in a varibale "
      ],
      "metadata": {
        "id": "gTQLVioAs8yG"
      }
    },
    {
      "cell_type": "code",
      "source": [
        "cov = np.cov(data)"
      ],
      "metadata": {
        "id": "CS5o6Raxs8V-"
      },
      "execution_count": 34,
      "outputs": []
    },
    {
      "cell_type": "code",
      "source": [
        "cov"
      ],
      "metadata": {
        "colab": {
          "base_uri": "https://localhost:8080/"
        },
        "id": "J4Yw0MdzvuhA",
        "outputId": "cdbd2951-2f37-4096-d9b0-236d3e6716e6"
      },
      "execution_count": 35,
      "outputs": [
        {
          "output_type": "execute_result",
          "data": {
            "text/plain": [
              "array([[ 3973.49360177,  4745.96701765,  2248.03224613, ...,\n",
              "         4846.35035653,  7935.63989139,  5128.45896296],\n",
              "       [ 4745.96701765, 10580.97364716,  3162.64152849, ...,\n",
              "         6176.00353497, 12901.07140578,  9389.93265368],\n",
              "       [ 2248.03224613,  3162.64152849,  1342.63308859, ...,\n",
              "         2703.94298205,  4860.64839684,  3214.20348159],\n",
              "       ...,\n",
              "       [ 4846.35035653,  6176.00353497,  2703.94298205, ...,\n",
              "         6395.97517425, 10346.63306902,  7880.87014123],\n",
              "       [ 7935.63989139, 12901.07140578,  4860.64839684, ...,\n",
              "        10346.63306902, 19746.25985233, 15634.46822326],\n",
              "       [ 5128.45896296,  9389.93265368,  3214.20348159, ...,\n",
              "         7880.87014123, 15634.46822326, 18350.5052724 ]])"
            ]
          },
          "metadata": {},
          "execution_count": 35
        }
      ]
    },
    {
      "cell_type": "markdown",
      "source": [
        "But there is one thing we are missing, we need the covariance of the data subtracted from its mean "
      ],
      "metadata": {
        "id": "NW5dgaBLv0lo"
      }
    },
    {
      "cell_type": "code",
      "source": [
        "mean = data - np.mean(data)"
      ],
      "metadata": {
        "id": "vby7-6btv_FX"
      },
      "execution_count": 38,
      "outputs": []
    },
    {
      "cell_type": "code",
      "source": [
        "cov = np.cov(mean)"
      ],
      "metadata": {
        "id": "nbAPVNYiwPkG"
      },
      "execution_count": 39,
      "outputs": []
    },
    {
      "cell_type": "markdown",
      "source": [
        "We need to find the covarince of the transopose of the data "
      ],
      "metadata": {
        "id": "mIhHmPxrwqt_"
      }
    },
    {
      "cell_type": "code",
      "source": [
        "cov = np.cov(mean.T)"
      ],
      "metadata": {
        "id": "KygOOw_Swz6_"
      },
      "execution_count": 40,
      "outputs": []
    },
    {
      "cell_type": "code",
      "source": [
        "cov"
      ],
      "metadata": {
        "colab": {
          "base_uri": "https://localhost:8080/"
        },
        "id": "bSsrh6qAxD-I",
        "outputId": "8727bf01-7e60-4d5a-9cf9-ba12805ebdb7"
      },
      "execution_count": 42,
      "outputs": [
        {
          "output_type": "execute_result",
          "data": {
            "text/plain": [
              "array([[ 1.79484386e+03,  5.98887086e+02,  1.40647372e+01,\n",
              "        -4.88723699e+00, -2.80054871e+00, -9.24441522e+02,\n",
              "        -2.58726016e+02,  1.18037602e+01, -9.69132366e+00,\n",
              "         1.32478986e+03],\n",
              "       [ 5.98887086e+02,  3.36593472e+02,  6.22137035e+00,\n",
              "        -2.04524066e+00, -1.17829371e+00, -2.89977185e+02,\n",
              "        -1.64898679e+02,  1.51841391e+01,  3.16424013e+01,\n",
              "         4.61774113e+02],\n",
              "       [ 1.40647372e+01,  6.22137035e+00,  2.23359521e-01,\n",
              "        -7.35148362e-02, -4.22456089e-02, -4.47300996e+00,\n",
              "         2.29376373e+00,  1.52049280e-01, -2.30292805e+00,\n",
              "         1.54352188e+01],\n",
              "       [-4.88723699e+00, -2.04524066e+00, -7.35148362e-02,\n",
              "         3.34223972e-02,  1.97273268e-02,  1.21523946e+00,\n",
              "        -1.13659419e+00, -4.29996627e-02,  1.12278904e+00,\n",
              "        -4.48582887e+00],\n",
              "       [-2.80054871e+00, -1.17829371e+00, -4.22456089e-02,\n",
              "         1.97273268e-02,  1.22132646e-02,  6.55394863e-01,\n",
              "        -6.69414421e-01, -2.52476965e-02,  6.62952807e-01,\n",
              "        -2.51602369e+00],\n",
              "       [-9.24441522e+02, -2.89977185e+02, -4.47300996e+00,\n",
              "         1.21523946e+00,  6.55394863e-01,  3.50548814e+03,\n",
              "         8.27506945e+02,  3.16233361e+00, -8.60918398e+01,\n",
              "        -9.14550274e+02],\n",
              "       [-2.58726016e+02, -1.64898679e+02,  2.29376373e+00,\n",
              "        -1.13659419e+00, -6.69414421e-01,  8.27506945e+02,\n",
              "         2.60114189e+03, -1.82622251e+01, -2.48005623e+02,\n",
              "         1.41190062e+02],\n",
              "       [ 1.18037602e+01,  1.51841391e+01,  1.52049280e-01,\n",
              "        -4.29996627e-02, -2.52476965e-02,  3.16233361e+00,\n",
              "        -1.82622251e+01,  4.33801265e+02,  2.53869940e+00,\n",
              "         1.77363816e+01],\n",
              "       [-9.69132366e+00,  3.16424013e+01, -2.30292805e+00,\n",
              "         1.12278904e+00,  6.62952807e-01, -8.60918398e+01,\n",
              "        -2.48005623e+02,  2.53869940e+00,  6.81426687e+02,\n",
              "        -4.30202611e+02],\n",
              "       [ 1.32478986e+03,  4.61774113e+02,  1.54352188e+01,\n",
              "        -4.48582887e+00, -2.51602369e+00, -9.14550274e+02,\n",
              "         1.41190062e+02,  1.77363816e+01, -4.30202611e+02,\n",
              "         5.58447479e+03]])"
            ]
          },
          "metadata": {},
          "execution_count": 42
        }
      ]
    },
    {
      "cell_type": "markdown",
      "source": [
        "Now we need to find the eigenvalues , and eigenvectors of this"
      ],
      "metadata": {
        "id": "px8OJQ8bwiOg"
      }
    },
    {
      "cell_type": "code",
      "source": [
        "eigen_values , eigen_vectors = np.linalg.eig(cov)"
      ],
      "metadata": {
        "id": "Qc7s-qzWw7Kf"
      },
      "execution_count": 41,
      "outputs": []
    },
    {
      "cell_type": "code",
      "source": [
        "eigen_values"
      ],
      "metadata": {
        "colab": {
          "base_uri": "https://localhost:8080/"
        },
        "id": "PGvdDqacxGMg",
        "outputId": "7b8a5aa1-deb4-42b7-90d6-828aac842657"
      },
      "execution_count": 43,
      "outputs": [
        {
          "output_type": "execute_result",
          "data": {
            "text/plain": [
              "array([6.57940709e+03, 3.85406143e+03, 2.01648128e+03, 1.32681867e+03,\n",
              "       6.10218593e+02, 4.33618554e+02, 1.17335954e+02, 8.64007193e-02,\n",
              "       1.07368268e-02, 3.85330787e-04])"
            ]
          },
          "metadata": {},
          "execution_count": 43
        }
      ]
    },
    {
      "cell_type": "code",
      "source": [
        "eigen_vectors"
      ],
      "metadata": {
        "colab": {
          "base_uri": "https://localhost:8080/"
        },
        "id": "F8vGqhjaxINg",
        "outputId": "b3de59b5-0c7c-4702-dfbb-813315d61a25"
      },
      "execution_count": 44,
      "outputs": [
        {
          "output_type": "execute_result",
          "data": {
            "text/plain": [
              "array([[ 3.27831566e-01,  1.34391257e-01, -6.54919335e-02,\n",
              "        -8.63984924e-01, -9.45486785e-02, -1.98590747e-02,\n",
              "         3.38166047e-01,  3.99908190e-03, -4.54855335e-04,\n",
              "         4.57009104e-05],\n",
              "       [ 1.13818908e-01,  5.38781071e-02,  1.90004002e-02,\n",
              "        -3.19763260e-01,  1.97550122e-02,  2.32607173e-02,\n",
              "        -9.38308008e-01,  1.33846960e-02,  6.74914234e-04,\n",
              "        -5.73082482e-05],\n",
              "       [ 3.06095229e-03, -6.59527755e-04, -1.05914677e-03,\n",
              "        -6.93020544e-03, -2.65186570e-03,  1.33537798e-04,\n",
              "        -1.08822564e-02, -9.27766268e-01, -3.72227209e-01,\n",
              "         2.26325035e-02],\n",
              "       [-9.27207133e-04,  2.58262608e-04,  5.10330302e-04,\n",
              "         2.60551065e-03,  1.53901245e-03, -3.47117394e-05,\n",
              "         3.06281191e-03,  3.22018741e-01, -7.69225390e-01,\n",
              "         5.51884502e-01],\n",
              "       [-5.21959171e-04,  1.52747029e-04,  2.94589142e-04,\n",
              "         1.51272408e-03,  9.19355464e-04, -2.22106506e-05,\n",
              "         1.81381210e-03,  1.87999579e-01, -5.19363159e-01,\n",
              "        -8.33613376e-01],\n",
              "       [-3.80727650e-01, -6.93882961e-01,  5.40077959e-01,\n",
              "        -2.85126309e-01,  5.48487707e-03, -8.84148839e-03,\n",
              "         2.19809608e-02,  5.04778899e-04, -7.27590764e-05,\n",
              "        -2.02220645e-06],\n",
              "       [-7.16561893e-02, -5.62622411e-01, -8.13118181e-01,\n",
              "        -7.58936522e-02,  1.02212341e-01,  9.93477090e-03,\n",
              "        -2.91768554e-02,  1.74142991e-03, -7.73921375e-05,\n",
              "         6.63492222e-06],\n",
              "       [ 3.36593576e-03,  1.03410595e-03,  1.24684610e-02,\n",
              "        -1.19013821e-02,  9.76500501e-03,  9.99354714e-01,\n",
              "         2.97535645e-02, -1.46270923e-04, -4.40883642e-06,\n",
              "        -4.67693600e-07],\n",
              "       [-5.35325816e-02,  1.18352194e-01,  5.31079684e-02,\n",
              "        -9.25106696e-02,  9.84242736e-01, -1.29099833e-02,\n",
              "         5.32593122e-02, -3.31437674e-03,  6.07485926e-04,\n",
              "        -1.81469010e-05],\n",
              "       [ 8.52406006e-01, -4.08668278e-01,  1.98814047e-01,\n",
              "         2.35515772e-01,  1.06552685e-01, -3.33961772e-03,\n",
              "         5.86786280e-03,  6.36000226e-04,  2.65880507e-04,\n",
              "        -2.81755994e-06]])"
            ]
          },
          "metadata": {},
          "execution_count": 44
        }
      ]
    },
    {
      "cell_type": "markdown",
      "source": [
        "Now we need to sort these values "
      ],
      "metadata": {
        "id": "W4xQuupVxL4y"
      }
    },
    {
      "cell_type": "code",
      "source": [
        "idx = np.argsort(eigen_values)"
      ],
      "metadata": {
        "id": "5K9ngtqVxO9x"
      },
      "execution_count": 45,
      "outputs": []
    },
    {
      "cell_type": "code",
      "source": [
        "idx"
      ],
      "metadata": {
        "colab": {
          "base_uri": "https://localhost:8080/"
        },
        "id": "1kLa5CWmxWOf",
        "outputId": "f330704e-2102-489d-bd9b-36d8e02cbf8a"
      },
      "execution_count": 46,
      "outputs": [
        {
          "output_type": "execute_result",
          "data": {
            "text/plain": [
              "array([9, 8, 7, 6, 5, 4, 3, 2, 1, 0])"
            ]
          },
          "metadata": {},
          "execution_count": 46
        }
      ]
    },
    {
      "cell_type": "markdown",
      "source": [
        "We need the values in ascencding order not descending "
      ],
      "metadata": {
        "id": "i2-PkJXfxaDI"
      }
    },
    {
      "cell_type": "code",
      "source": [
        "idx = np.argsort(eigen_values)[::-1]"
      ],
      "metadata": {
        "id": "dKQGzcy_xgQX"
      },
      "execution_count": 47,
      "outputs": []
    },
    {
      "cell_type": "code",
      "source": [
        "idx"
      ],
      "metadata": {
        "colab": {
          "base_uri": "https://localhost:8080/"
        },
        "id": "mwdqEqX-xixP",
        "outputId": "5c30db06-d5f5-4557-9f25-a0e230ad2cf3"
      },
      "execution_count": 48,
      "outputs": [
        {
          "output_type": "execute_result",
          "data": {
            "text/plain": [
              "array([0, 1, 2, 3, 4, 5, 6, 7, 8, 9])"
            ]
          },
          "metadata": {},
          "execution_count": 48
        }
      ]
    },
    {
      "cell_type": "markdown",
      "source": [
        "Lets assume we are working for getting $5$ columns"
      ],
      "metadata": {
        "id": "KgLRJR9SxurP"
      }
    },
    {
      "cell_type": "code",
      "source": [
        "eigen_values = eigen_values[idx]\n",
        "eigen_vectors = eigen_vectors[idx]"
      ],
      "metadata": {
        "id": "kGJaTp-Gx6RM"
      },
      "execution_count": 51,
      "outputs": []
    },
    {
      "cell_type": "code",
      "source": [
        "components = eigen_vectors[0 : 5]"
      ],
      "metadata": {
        "id": "vjb62HB1yVuS"
      },
      "execution_count": 53,
      "outputs": []
    },
    {
      "cell_type": "code",
      "source": [
        "components"
      ],
      "metadata": {
        "colab": {
          "base_uri": "https://localhost:8080/"
        },
        "id": "VbxUdWGcyfk-",
        "outputId": "d5630668-8bc1-4ffa-faae-b3b0148c3ed4"
      },
      "execution_count": 54,
      "outputs": [
        {
          "output_type": "execute_result",
          "data": {
            "text/plain": [
              "array([[ 3.27831566e-01,  1.34391257e-01, -6.54919335e-02,\n",
              "        -8.63984924e-01, -9.45486785e-02, -1.98590747e-02,\n",
              "         3.38166047e-01,  3.99908190e-03, -4.54855335e-04,\n",
              "         4.57009104e-05],\n",
              "       [ 1.13818908e-01,  5.38781071e-02,  1.90004002e-02,\n",
              "        -3.19763260e-01,  1.97550122e-02,  2.32607173e-02,\n",
              "        -9.38308008e-01,  1.33846960e-02,  6.74914234e-04,\n",
              "        -5.73082482e-05],\n",
              "       [ 3.06095229e-03, -6.59527755e-04, -1.05914677e-03,\n",
              "        -6.93020544e-03, -2.65186570e-03,  1.33537798e-04,\n",
              "        -1.08822564e-02, -9.27766268e-01, -3.72227209e-01,\n",
              "         2.26325035e-02],\n",
              "       [-9.27207133e-04,  2.58262608e-04,  5.10330302e-04,\n",
              "         2.60551065e-03,  1.53901245e-03, -3.47117394e-05,\n",
              "         3.06281191e-03,  3.22018741e-01, -7.69225390e-01,\n",
              "         5.51884502e-01],\n",
              "       [-5.21959171e-04,  1.52747029e-04,  2.94589142e-04,\n",
              "         1.51272408e-03,  9.19355464e-04, -2.22106506e-05,\n",
              "         1.81381210e-03,  1.87999579e-01, -5.19363159e-01,\n",
              "        -8.33613376e-01]])"
            ]
          },
          "metadata": {},
          "execution_count": 54
        }
      ]
    },
    {
      "cell_type": "markdown",
      "source": [
        "Now we just need to make the dot product of these values, with the dataset"
      ],
      "metadata": {
        "id": "UNa_HmgoylUu"
      }
    },
    {
      "cell_type": "code",
      "source": [
        "x = np.dot(mean , components)"
      ],
      "metadata": {
        "colab": {
          "base_uri": "https://localhost:8080/",
          "height": 200
        },
        "id": "Dc4Y5XjwylF-",
        "outputId": "333ee59f-64ef-41fc-b3ef-0a99daf568d8"
      },
      "execution_count": 55,
      "outputs": [
        {
          "output_type": "error",
          "ename": "ValueError",
          "evalue": "ignored",
          "traceback": [
            "\u001b[0;31m---------------------------------------------------------------------------\u001b[0m",
            "\u001b[0;31mValueError\u001b[0m                                Traceback (most recent call last)",
            "\u001b[0;32m<ipython-input-55-5a505648dfcd>\u001b[0m in \u001b[0;36m<module>\u001b[0;34m\u001b[0m\n\u001b[0;32m----> 1\u001b[0;31m \u001b[0mx\u001b[0m \u001b[0;34m=\u001b[0m \u001b[0mnp\u001b[0m\u001b[0;34m.\u001b[0m\u001b[0mdot\u001b[0m\u001b[0;34m(\u001b[0m\u001b[0mmean\u001b[0m \u001b[0;34m,\u001b[0m \u001b[0mcomponents\u001b[0m\u001b[0;34m)\u001b[0m\u001b[0;34m\u001b[0m\u001b[0;34m\u001b[0m\u001b[0m\n\u001b[0m",
            "\u001b[0;32m/usr/local/lib/python3.8/dist-packages/numpy/core/overrides.py\u001b[0m in \u001b[0;36mdot\u001b[0;34m(*args, **kwargs)\u001b[0m\n",
            "\u001b[0;31mValueError\u001b[0m: shapes (19019,10) and (5,10) not aligned: 10 (dim 1) != 5 (dim 0)"
          ]
        }
      ]
    },
    {
      "cell_type": "markdown",
      "source": [
        "We got a shape error, we just need to chanage the shape, and we will be good to go"
      ],
      "metadata": {
        "id": "lOV-b8VPy1wW"
      }
    },
    {
      "cell_type": "code",
      "source": [
        "x = np.dot(mean , components.T)"
      ],
      "metadata": {
        "id": "tkWAV7x-y_ie"
      },
      "execution_count": 56,
      "outputs": []
    },
    {
      "cell_type": "code",
      "source": [
        "x"
      ],
      "metadata": {
        "colab": {
          "base_uri": "https://localhost:8080/"
        },
        "id": "CQ-rM6lMzCPt",
        "outputId": "8f67ae75-9c6c-4370-9188-bbbbdf8eebd0"
      },
      "execution_count": 57,
      "outputs": [
        {
          "output_type": "execute_result",
          "data": {
            "text/plain": [
              "array([[  26.13864511,   13.34951551,   51.11177255,  101.80343691,\n",
              "        -140.64183336],\n",
              "       [  54.01175843,  119.96228383,   60.00797544,   64.21518584,\n",
              "        -227.10318683],\n",
              "       [  12.97905164,   40.8031363 ,   45.29001402,   50.6213786 ,\n",
              "         -68.49383771],\n",
              "       ...,\n",
              "       [  52.15726041,    3.42607804,   42.82665621,  111.85679948,\n",
              "        -195.69523009],\n",
              "       [  24.83685928,  136.09296087,   78.04731071,  135.83992826,\n",
              "        -360.97064514],\n",
              "       [  21.84456435,  209.86409383,   -0.55371305,  115.76752434,\n",
              "        -213.25422782]])"
            ]
          },
          "metadata": {},
          "execution_count": 57
        }
      ]
    },
    {
      "cell_type": "markdown",
      "source": [
        "Now as we have made our own pca , we just need to make a function and place it all there"
      ],
      "metadata": {
        "id": "YtGEXjYVzFJe"
      }
    },
    {
      "cell_type": "code",
      "source": [
        "def PCA(array , n_components):\n",
        "    mean = array - np.mean(array)\n",
        "    cov = np.cov(mean.T)\n",
        "    \n",
        "    _ , eigen_vectors = np.linalg.eig(cov)\n",
        "    \n",
        "    idx = np.argsort(eigen_vectors)\n",
        "    eigen_vectors = eigen_vectors[idx]\n",
        "    \n",
        "    components = eigen_vectors[0 : n_components]\n",
        "    \n",
        "    return np.dot(mean , components.T)"
      ],
      "metadata": {
        "id": "OSdbAGfJzLM1"
      },
      "execution_count": 58,
      "outputs": []
    }
  ],
  "metadata": {
    "colab": {
      "provenance": []
    },
    "kernelspec": {
      "display_name": "Python 3",
      "name": "python3"
    },
    "language_info": {
      "name": "python"
    }
  },
  "nbformat": 4,
  "nbformat_minor": 0
}