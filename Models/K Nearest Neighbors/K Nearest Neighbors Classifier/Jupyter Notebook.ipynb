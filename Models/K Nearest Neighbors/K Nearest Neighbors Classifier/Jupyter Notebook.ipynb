{
  "nbformat": 4,
  "nbformat_minor": 0,
  "metadata": {
    "colab": {
      "provenance": []
    },
    "kernelspec": {
      "name": "python3",
      "display_name": "Python 3"
    },
    "language_info": {
      "name": "python"
    }
  },
  "cells": [
    {
      "cell_type": "markdown",
      "source": [
        "# K Nearest Neighbors Classifier \n",
        "\n",
        "The K Nearest Neighbors (KNN) algorithm is a type of supervised machine learning algorithm used for classification and regression tasks. In classification tasks, KNN predicts the class label of a new data point based on the class labels of the K nearest training data points.\n",
        "\n",
        "The KNN algorithm is simple to understand and implement, making it a popular choice for classification tasks. To classify a new data point, KNN first calculates the distance between the new data point and all the training data points. It then selects the K training data points that are closest to the new data point based on the distance metric.\n",
        "\n",
        "Once the K nearest neighbors have been identified, KNN assigns the new data point to the class that is most common among its K nearest neighbors. For example, if the K nearest neighbors are three red points and two blue points, KNN will classify the new data point as red.\n",
        "\n",
        "The choice of K is a crucial hyperparameter in KNN, as it determines the number of neighbors that will be considered when making predictions. A small value of K may result in overfitting, while a large value of K may result in underfitting. Therefore, it is essential to choose an appropriate value of K for the given problem.\n",
        "\n",
        "Overall, KNN is a versatile algorithm that can be used for both classification and regression tasks, and it is a good choice when the dataset is small and the number of features is low. However, it can become computationally expensive when dealing with large datasets.\n",
        "\n",
        "**Modules Used**\n",
        "* Numpy \n",
        "* Pandas \n",
        "* Counter\n",
        "* Matplotlib"
      ],
      "metadata": {
        "id": "8h_ytXygaCp0"
      }
    },
    {
      "cell_type": "code",
      "source": [
        "import pandas as pd \n",
        "import numpy as np \n",
        "import matplotlib.pyplot as plt "
      ],
      "metadata": {
        "id": "AAe7KJr9WxH-"
      },
      "execution_count": 44,
      "outputs": []
    },
    {
      "cell_type": "markdown",
      "source": [
        "Lets assume we have this dataset "
      ],
      "metadata": {
        "id": "rpoH08UMaT73"
      }
    },
    {
      "cell_type": "code",
      "source": [
        "sample_data = pd.read_csv(\"/content/data.csv\")"
      ],
      "metadata": {
        "id": "IrXyBgrfXKqP"
      },
      "execution_count": 45,
      "outputs": []
    },
    {
      "cell_type": "code",
      "source": [
        "sample_data"
      ],
      "metadata": {
        "colab": {
          "base_uri": "https://localhost:8080/",
          "height": 423
        },
        "id": "UxoXqoNgXQD3",
        "outputId": "c0dc94b5-8263-43e0-e1c5-798574af900d"
      },
      "execution_count": 46,
      "outputs": [
        {
          "output_type": "execute_result",
          "data": {
            "text/plain": [
              "              x           y  z\n",
              "0     45.421668   78.718579  a\n",
              "1    -16.600399  107.412107  a\n",
              "2      5.468566  103.051290  a\n",
              "3     29.698926   79.087038  a\n",
              "4    -11.641939  120.587423  a\n",
              "..          ...         ... ..\n",
              "892  682.001039  408.092381  b\n",
              "893  635.329223  373.553558  b\n",
              "894  682.889704  371.126353  b\n",
              "895  636.080188  324.660341  b\n",
              "896  639.238821  367.878320  b\n",
              "\n",
              "[897 rows x 3 columns]"
            ],
            "text/html": [
              "\n",
              "  <div id=\"df-dba59eb8-ba5b-49a5-8049-5ed334114faa\">\n",
              "    <div class=\"colab-df-container\">\n",
              "      <div>\n",
              "<style scoped>\n",
              "    .dataframe tbody tr th:only-of-type {\n",
              "        vertical-align: middle;\n",
              "    }\n",
              "\n",
              "    .dataframe tbody tr th {\n",
              "        vertical-align: top;\n",
              "    }\n",
              "\n",
              "    .dataframe thead th {\n",
              "        text-align: right;\n",
              "    }\n",
              "</style>\n",
              "<table border=\"1\" class=\"dataframe\">\n",
              "  <thead>\n",
              "    <tr style=\"text-align: right;\">\n",
              "      <th></th>\n",
              "      <th>x</th>\n",
              "      <th>y</th>\n",
              "      <th>z</th>\n",
              "    </tr>\n",
              "  </thead>\n",
              "  <tbody>\n",
              "    <tr>\n",
              "      <th>0</th>\n",
              "      <td>45.421668</td>\n",
              "      <td>78.718579</td>\n",
              "      <td>a</td>\n",
              "    </tr>\n",
              "    <tr>\n",
              "      <th>1</th>\n",
              "      <td>-16.600399</td>\n",
              "      <td>107.412107</td>\n",
              "      <td>a</td>\n",
              "    </tr>\n",
              "    <tr>\n",
              "      <th>2</th>\n",
              "      <td>5.468566</td>\n",
              "      <td>103.051290</td>\n",
              "      <td>a</td>\n",
              "    </tr>\n",
              "    <tr>\n",
              "      <th>3</th>\n",
              "      <td>29.698926</td>\n",
              "      <td>79.087038</td>\n",
              "      <td>a</td>\n",
              "    </tr>\n",
              "    <tr>\n",
              "      <th>4</th>\n",
              "      <td>-11.641939</td>\n",
              "      <td>120.587423</td>\n",
              "      <td>a</td>\n",
              "    </tr>\n",
              "    <tr>\n",
              "      <th>...</th>\n",
              "      <td>...</td>\n",
              "      <td>...</td>\n",
              "      <td>...</td>\n",
              "    </tr>\n",
              "    <tr>\n",
              "      <th>892</th>\n",
              "      <td>682.001039</td>\n",
              "      <td>408.092381</td>\n",
              "      <td>b</td>\n",
              "    </tr>\n",
              "    <tr>\n",
              "      <th>893</th>\n",
              "      <td>635.329223</td>\n",
              "      <td>373.553558</td>\n",
              "      <td>b</td>\n",
              "    </tr>\n",
              "    <tr>\n",
              "      <th>894</th>\n",
              "      <td>682.889704</td>\n",
              "      <td>371.126353</td>\n",
              "      <td>b</td>\n",
              "    </tr>\n",
              "    <tr>\n",
              "      <th>895</th>\n",
              "      <td>636.080188</td>\n",
              "      <td>324.660341</td>\n",
              "      <td>b</td>\n",
              "    </tr>\n",
              "    <tr>\n",
              "      <th>896</th>\n",
              "      <td>639.238821</td>\n",
              "      <td>367.878320</td>\n",
              "      <td>b</td>\n",
              "    </tr>\n",
              "  </tbody>\n",
              "</table>\n",
              "<p>897 rows × 3 columns</p>\n",
              "</div>\n",
              "      <button class=\"colab-df-convert\" onclick=\"convertToInteractive('df-dba59eb8-ba5b-49a5-8049-5ed334114faa')\"\n",
              "              title=\"Convert this dataframe to an interactive table.\"\n",
              "              style=\"display:none;\">\n",
              "        \n",
              "  <svg xmlns=\"http://www.w3.org/2000/svg\" height=\"24px\"viewBox=\"0 0 24 24\"\n",
              "       width=\"24px\">\n",
              "    <path d=\"M0 0h24v24H0V0z\" fill=\"none\"/>\n",
              "    <path d=\"M18.56 5.44l.94 2.06.94-2.06 2.06-.94-2.06-.94-.94-2.06-.94 2.06-2.06.94zm-11 1L8.5 8.5l.94-2.06 2.06-.94-2.06-.94L8.5 2.5l-.94 2.06-2.06.94zm10 10l.94 2.06.94-2.06 2.06-.94-2.06-.94-.94-2.06-.94 2.06-2.06.94z\"/><path d=\"M17.41 7.96l-1.37-1.37c-.4-.4-.92-.59-1.43-.59-.52 0-1.04.2-1.43.59L10.3 9.45l-7.72 7.72c-.78.78-.78 2.05 0 2.83L4 21.41c.39.39.9.59 1.41.59.51 0 1.02-.2 1.41-.59l7.78-7.78 2.81-2.81c.8-.78.8-2.07 0-2.86zM5.41 20L4 18.59l7.72-7.72 1.47 1.35L5.41 20z\"/>\n",
              "  </svg>\n",
              "      </button>\n",
              "      \n",
              "  <style>\n",
              "    .colab-df-container {\n",
              "      display:flex;\n",
              "      flex-wrap:wrap;\n",
              "      gap: 12px;\n",
              "    }\n",
              "\n",
              "    .colab-df-convert {\n",
              "      background-color: #E8F0FE;\n",
              "      border: none;\n",
              "      border-radius: 50%;\n",
              "      cursor: pointer;\n",
              "      display: none;\n",
              "      fill: #1967D2;\n",
              "      height: 32px;\n",
              "      padding: 0 0 0 0;\n",
              "      width: 32px;\n",
              "    }\n",
              "\n",
              "    .colab-df-convert:hover {\n",
              "      background-color: #E2EBFA;\n",
              "      box-shadow: 0px 1px 2px rgba(60, 64, 67, 0.3), 0px 1px 3px 1px rgba(60, 64, 67, 0.15);\n",
              "      fill: #174EA6;\n",
              "    }\n",
              "\n",
              "    [theme=dark] .colab-df-convert {\n",
              "      background-color: #3B4455;\n",
              "      fill: #D2E3FC;\n",
              "    }\n",
              "\n",
              "    [theme=dark] .colab-df-convert:hover {\n",
              "      background-color: #434B5C;\n",
              "      box-shadow: 0px 1px 3px 1px rgba(0, 0, 0, 0.15);\n",
              "      filter: drop-shadow(0px 1px 2px rgba(0, 0, 0, 0.3));\n",
              "      fill: #FFFFFF;\n",
              "    }\n",
              "  </style>\n",
              "\n",
              "      <script>\n",
              "        const buttonEl =\n",
              "          document.querySelector('#df-dba59eb8-ba5b-49a5-8049-5ed334114faa button.colab-df-convert');\n",
              "        buttonEl.style.display =\n",
              "          google.colab.kernel.accessAllowed ? 'block' : 'none';\n",
              "\n",
              "        async function convertToInteractive(key) {\n",
              "          const element = document.querySelector('#df-dba59eb8-ba5b-49a5-8049-5ed334114faa');\n",
              "          const dataTable =\n",
              "            await google.colab.kernel.invokeFunction('convertToInteractive',\n",
              "                                                     [key], {});\n",
              "          if (!dataTable) return;\n",
              "\n",
              "          const docLinkHtml = 'Like what you see? Visit the ' +\n",
              "            '<a target=\"_blank\" href=https://colab.research.google.com/notebooks/data_table.ipynb>data table notebook</a>'\n",
              "            + ' to learn more about interactive tables.';\n",
              "          element.innerHTML = '';\n",
              "          dataTable['output_type'] = 'display_data';\n",
              "          await google.colab.output.renderOutput(dataTable, element);\n",
              "          const docLink = document.createElement('div');\n",
              "          docLink.innerHTML = docLinkHtml;\n",
              "          element.appendChild(docLink);\n",
              "        }\n",
              "      </script>\n",
              "    </div>\n",
              "  </div>\n",
              "  "
            ]
          },
          "metadata": {},
          "execution_count": 46
        }
      ]
    },
    {
      "cell_type": "markdown",
      "source": [
        "Lets try to plot this on a scatter plot "
      ],
      "metadata": {
        "id": "oe_1G3gHaYxx"
      }
    },
    {
      "cell_type": "code",
      "source": [
        "x_a = sample_data[sample_data[\"z\"] == \"a\"][\"x\"]\n",
        "y_a = sample_data[sample_data[\"z\"] == \"a\"][\"y\"]\n",
        "x_b = sample_data[sample_data[\"z\"] == \"b\"][\"x\"]\n",
        "y_b = sample_data[sample_data[\"z\"] == \"b\"][\"y\"]\n",
        "plt.scatter(x_a , y_a , c = \"green\")\n",
        "plt.scatter(x_b , y_b , c = \"blue\")"
      ],
      "metadata": {
        "colab": {
          "base_uri": "https://localhost:8080/",
          "height": 282
        },
        "id": "cRhomiWhp6WF",
        "outputId": "8fdfa221-05ca-4d0d-a121-985e31084a72"
      },
      "execution_count": 47,
      "outputs": [
        {
          "output_type": "execute_result",
          "data": {
            "text/plain": [
              "<matplotlib.collections.PathCollection at 0x7f3bf3fa5e50>"
            ]
          },
          "metadata": {},
          "execution_count": 47
        },
        {
          "output_type": "display_data",
          "data": {
            "text/plain": [
              "<Figure size 432x288 with 1 Axes>"
            ],
            "image/png": "[encoded data removed]"
          },
          "metadata": {
            "needs_background": "light"
          }
        }
      ]
    },
    {
      "cell_type": "markdown",
      "source": [
        "Lets assume we have a point with these coordinated , $(400 , 300)$ and try to find wether it will be a green point or a blue point "
      ],
      "metadata": {
        "id": "fO7bmY-JkcHq"
      }
    },
    {
      "cell_type": "markdown",
      "source": [
        "The logic behind `K nearest Neighbors` is to find the `euclidian distance` between `k` nearest points of the point we need to dinf and the point we need to find. As we are dealing with $2$ point coordinate system only(as of now), we will be using the formula $$euclidian_-distance = \\sqrt {(x_1 - x_2) ^ 2 + (y_1 - y_2) ^ 2}$$"
      ],
      "metadata": {
        "id": "3uej-sxmkwZM"
      }
    },
    {
      "cell_type": "code",
      "source": [
        "x1 = 400\n",
        "y1 = 300\n",
        "distance = [np.sqrt(np.square(x1 - x2) + np.square(y1 - y2)) for x2 , y2 in zip(sample_data[\"x\"] , sample_data[\"y\"])]"
      ],
      "metadata": {
        "id": "jgGFG7gtqq6c"
      },
      "execution_count": 48,
      "outputs": []
    },
    {
      "cell_type": "code",
      "source": [
        "#distance # I have commented this line as it will just increase useless space in the notebook, Uncomment it to test it "
      ],
      "metadata": {
        "id": "rDpbkhAwrqkT"
      },
      "execution_count": 49,
      "outputs": []
    },
    {
      "cell_type": "markdown",
      "source": [
        "Now we just need to sort this list in descending order to find the point with the least distance. When we have the index of the lowest distance, we can just put that index into the labels column, and find the label to the predicted value "
      ],
      "metadata": {
        "id": "0Su1qz7mmCRM"
      }
    },
    {
      "cell_type": "code",
      "source": [
        "np.argmin(distance)"
      ],
      "metadata": {
        "colab": {
          "base_uri": "https://localhost:8080/"
        },
        "id": "XyO8RBk6sQJb",
        "outputId": "f9354eb2-0e43-4655-90b7-dd3bcf9210e4"
      },
      "execution_count": 50,
      "outputs": [
        {
          "output_type": "execute_result",
          "data": {
            "text/plain": [
              "560"
            ]
          },
          "metadata": {},
          "execution_count": 50
        }
      ]
    },
    {
      "cell_type": "code",
      "source": [
        "sample_data[\"z\"][np.argmin(distance)]"
      ],
      "metadata": {
        "colab": {
          "base_uri": "https://localhost:8080/",
          "height": 36
        },
        "id": "dkj1V5PSsmQJ",
        "outputId": "cefe06fd-a7c6-495e-ca04-927506369131"
      },
      "execution_count": 51,
      "outputs": [
        {
          "output_type": "execute_result",
          "data": {
            "text/plain": [
              "'b'"
            ],
            "application/vnd.google.colaboratory.intrinsic+json": {
              "type": "string"
            }
          },
          "metadata": {},
          "execution_count": 51
        }
      ]
    },
    {
      "cell_type": "markdown",
      "source": [
        "So our model says that this point should be blue"
      ],
      "metadata": {
        "id": "ET0LeN0usyNs"
      }
    },
    {
      "cell_type": "markdown",
      "source": [
        "Now lets first all of this into a function, and add some functionality to it "
      ],
      "metadata": {
        "id": "tsTrU95ptHvB"
      }
    },
    {
      "cell_type": "code",
      "source": [
        "def KNNC(X_train , Y_train , x1 , y1):\n",
        "    \n",
        "    distance = [np.sqrt(np.square(x1 - x2) + np.square(y1 - y2)) for x2 , y2 in zip(X_train[\"x\"] , X_train[\"y\"])]\n",
        "    \n",
        "    return sample_data[\"z\"][np.argmin(distance)]"
      ],
      "metadata": {
        "id": "8Df1jaQctSI5"
      },
      "execution_count": 52,
      "outputs": []
    },
    {
      "cell_type": "markdown",
      "source": [
        "Let assume we are finding the distance with more than $k = 1$ points. For this we will be using the `most_common` function form collections "
      ],
      "metadata": {
        "id": "2vUARyZQttgV"
      }
    },
    {
      "cell_type": "code",
      "source": [
        "from collections import Counter\n",
        "\n",
        "def KNNC(X_train , Y_train , x1 , y1 , k = 5):\n",
        "    \n",
        "    distance = [np.sqrt(np.square(x1 - x2) + np.square(y1 - y2)) for x2 , y2 in zip(X_train[\"x\"] , X_train[\"y\"])]\n",
        "    \n",
        "    k_indices = np.argsort(distance)[:k]\n",
        "    k_nearest_labels = [Y_train[i] for i in k_indices]\n",
        "    \n",
        "    most_commons = Counter(k_nearest_labels).most_common()\n",
        "    \n",
        "    return most_commons[0][0]"
      ],
      "metadata": {
        "id": "thER0oKOtsm1"
      },
      "execution_count": 53,
      "outputs": []
    },
    {
      "cell_type": "markdown",
      "source": [
        "Now lets assume we have a list of predicting columns instead of just $1$"
      ],
      "metadata": {
        "id": "J28oadbhvaif"
      }
    },
    {
      "cell_type": "code",
      "execution_count": 54,
      "metadata": {
        "id": "dI_K4LbUV2Gy"
      },
      "outputs": [],
      "source": [
        "class KNearestNeighborsClassifier():\n",
        "  \n",
        "    def __init__(self , k = 3):\n",
        "  \n",
        "        self.k = k\n",
        "\n",
        "    def fit(self , X_train , Y_train):\n",
        "  \n",
        "        self.X_train = X_train\n",
        "        self.Y_train = Y_train\n",
        "\n",
        "    def predict(self , X_test):\n",
        "  \n",
        "        self.X_test = X_test\n",
        "  \n",
        "        predictions = [self.predict_proba(i) for i in X_test]\n",
        "  \n",
        "        return predictions\n",
        "\n",
        "    def predict_proba(self , i):\n",
        "  \n",
        "        distances = [self.euc_dis(x , X_train) for X_train in self.X_train]\n",
        "  \n",
        "        k_indices = np.argsort(distances)[:self.k]\n",
        "        k_nearest_labels = [self.Y_train[i] for i in k_indices]\n",
        "  \n",
        "        most_commons = Counter(k_nearest_labels).most_common()\n",
        "  \n",
        "        return most_commons[0][0]\n",
        "\n",
        "    euc_dis = lambda x1 , x2 : np.sqrt(np.sum(np.square(x1 - x2)))"
      ]
    }
  ]
}