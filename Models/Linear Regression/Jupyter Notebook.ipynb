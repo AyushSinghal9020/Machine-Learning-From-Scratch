{
  "nbformat": 4,
  "nbformat_minor": 0,
  "metadata": {
    "colab": {
      "provenance": []
    },
    "kernelspec": {
      "name": "python3",
      "display_name": "Python 3"
    },
    "language_info": {
      "name": "python"
    }
  },
  "cells": [
    {
      "cell_type": "markdown",
      "source": [
        "# Linear Regression \n",
        "\n",
        "Linear regression is a statistical method used to model the relationship between a dependent variable and one or more independent variables. The objective of linear regression is to find the line of best fit that can describe the relationship between the variables.\n",
        "\n",
        "In simple linear regression, there is only one independent variable, and the line of best fit is a straight line. In multiple linear regression, there are more than one independent variables, and the line of best fit is a hyperplane.\n",
        "\n",
        "Linear regression is widely used in various fields, including finance, economics, engineering, and social sciences, to model the relationship between variables and make predictions. It is a simple and efficient method that can be easily understood and applied in practice.\n",
        "\n",
        "Linear regression assumes that there is a linear relationship between the variables and that the errors are normally distributed with a constant variance. It is important to check these assumptions before using linear regression to ensure that the results are reliable.\n",
        "\n",
        "**Modules Used**\n",
        "* Numpy \n",
        "* Matplotlib "
      ],
      "metadata": {
        "id": "sryavuRSKQab"
      }
    },
    {
      "cell_type": "code",
      "source": [
        "import numpy as np \n",
        "import matplotlib.pyplot as plt "
      ],
      "metadata": {
        "id": "2oaeMNT6Kk8a"
      },
      "execution_count": 1,
      "outputs": []
    },
    {
      "cell_type": "markdown",
      "source": [
        "Lets assume we have these two arrays `features` and `target` like this "
      ],
      "metadata": {
        "id": "MgJZ-LSWMPdw"
      }
    },
    {
      "cell_type": "code",
      "source": [
        "features = np.array([x for x in range(0 , 200 , 1)])"
      ],
      "metadata": {
        "id": "D-lcYPJ0Kpot"
      },
      "execution_count": 2,
      "outputs": []
    },
    {
      "cell_type": "code",
      "source": [
        "target = np.array([x for x in range(0 , 400 , 2)])"
      ],
      "metadata": {
        "id": "H6hzNkbdK0Vc"
      },
      "execution_count": 3,
      "outputs": []
    },
    {
      "cell_type": "markdown",
      "source": [
        "If we try to plot these on a scatter plot, we get this "
      ],
      "metadata": {
        "id": "s5Lct0EbMg9P"
      }
    },
    {
      "cell_type": "code",
      "source": [
        "plt.scatter(features , target)"
      ],
      "metadata": {
        "colab": {
          "base_uri": "https://localhost:8080/",
          "height": 282
        },
        "id": "neGM0ErLK6Gs",
        "outputId": "e4633f84-5ed0-4d0c-836c-64194af06bbf"
      },
      "execution_count": 4,
      "outputs": [
        {
          "output_type": "execute_result",
          "data": {
            "text/plain": [
              "<matplotlib.collections.PathCollection at 0x7f952c2e8280>"
            ]
          },
          "metadata": {},
          "execution_count": 4
        },
        {
          "output_type": "display_data",
          "data": {
            "text/plain": [
              "<Figure size 432x288 with 1 Axes>"
            ],
            "image/png": "[encoded data removed]"
          },
          "metadata": {
            "needs_background": "light"
          }
        }
      ]
    },
    {
      "cell_type": "markdown",
      "source": [
        "Lets assume we have a line that tries to capture most of the points on this "
      ],
      "metadata": {
        "id": "R8cr9BDyMoQr"
      }
    },
    {
      "cell_type": "code",
      "source": [
        "plt.scatter(features , target)\n",
        "plt.plot([0 , 200] , [0 , 400] , \"yellow\")"
      ],
      "metadata": {
        "colab": {
          "base_uri": "https://localhost:8080/",
          "height": 282
        },
        "id": "B1r_0hAALP5D",
        "outputId": "5c9b6a76-3587-416b-e2ee-950ff473406d"
      },
      "execution_count": 5,
      "outputs": [
        {
          "output_type": "execute_result",
          "data": {
            "text/plain": [
              "[<matplotlib.lines.Line2D at 0x7f952c211850>]"
            ]
          },
          "metadata": {},
          "execution_count": 5
        },
        {
          "output_type": "display_data",
          "data": {
            "text/plain": [
              "<Figure size 432x288 with 1 Axes>"
            ],
            "image/png": "[encoded data removed]"
          },
          "metadata": {
            "needs_background": "light"
          }
        }
      ]
    },
    {
      "cell_type": "markdown",
      "source": [
        "Here we have defined the line, but the motive of our model is to start at somewhere random, and then try to become a line like this, but how can we do this, We can do this by implemeting the eqution of line as $$y = mx + b$$ $$m = \\frac {x - x_{mean}}{y - y_{mean}}$$ $$b = y -mx_{mean}$$"
      ],
      "metadata": {
        "id": "yBWvyO_JMxBY"
      }
    },
    {
      "cell_type": "markdown",
      "source": [
        "Lets assume we want to do the predicition of the data $x = 29$"
      ],
      "metadata": {
        "id": "UBhdmmLuwUAq"
      }
    },
    {
      "cell_type": "markdown",
      "source": [
        "First lets find the values of `m` and `b`. \n",
        "\n",
        "First comes the `m`"
      ],
      "metadata": {
        "id": "Do-u__KbwsqV"
      }
    },
    {
      "cell_type": "code",
      "source": [
        "num = 0\n",
        "den = 0\n",
        "\n",
        "for i in range(features.shape[0]):\n",
        "    num += (features[i] - features.mean())*(target[i] - target.mean())\n",
        "    den += (features[i] - features.mean())*(features[i] - features.mean())"
      ],
      "metadata": {
        "id": "fmi8YqVyw_nR"
      },
      "execution_count": 6,
      "outputs": []
    },
    {
      "cell_type": "code",
      "source": [
        "num"
      ],
      "metadata": {
        "colab": {
          "base_uri": "https://localhost:8080/"
        },
        "id": "mQEYqJoaxbL5",
        "outputId": "12039111-2b02-4285-c3bd-21b7dde24f10"
      },
      "execution_count": 7,
      "outputs": [
        {
          "output_type": "execute_result",
          "data": {
            "text/plain": [
              "1333300.0"
            ]
          },
          "metadata": {},
          "execution_count": 7
        }
      ]
    },
    {
      "cell_type": "code",
      "source": [
        "den"
      ],
      "metadata": {
        "colab": {
          "base_uri": "https://localhost:8080/"
        },
        "id": "fN1FszU1xcKo",
        "outputId": "5ed7d98c-b14a-4569-8d35-fe1f539c4c2d"
      },
      "execution_count": 8,
      "outputs": [
        {
          "output_type": "execute_result",
          "data": {
            "text/plain": [
              "666650.0"
            ]
          },
          "metadata": {},
          "execution_count": 8
        }
      ]
    },
    {
      "cell_type": "code",
      "source": [
        "num/den"
      ],
      "metadata": {
        "colab": {
          "base_uri": "https://localhost:8080/"
        },
        "id": "jWg35dstxhuQ",
        "outputId": "df74aded-608b-47c3-b8c9-55929c90dec0"
      },
      "execution_count": 10,
      "outputs": [
        {
          "output_type": "execute_result",
          "data": {
            "text/plain": [
              "2.0"
            ]
          },
          "metadata": {},
          "execution_count": 10
        }
      ]
    },
    {
      "cell_type": "code",
      "source": [
        "m = num/den"
      ],
      "metadata": {
        "id": "U6IHABo1xeCA"
      },
      "execution_count": 9,
      "outputs": []
    },
    {
      "cell_type": "markdown",
      "source": [
        "Now lets try to find `b`"
      ],
      "metadata": {
        "id": "Xawih32Ox2T6"
      }
    },
    {
      "cell_type": "code",
      "source": [
        "target.mean() - m*(features.mean())"
      ],
      "metadata": {
        "colab": {
          "base_uri": "https://localhost:8080/"
        },
        "id": "17cDY0B-x6u4",
        "outputId": "7fdd1732-698e-4093-a1e3-c966ef20454e"
      },
      "execution_count": 11,
      "outputs": [
        {
          "output_type": "execute_result",
          "data": {
            "text/plain": [
              "0.0"
            ]
          },
          "metadata": {},
          "execution_count": 11
        }
      ]
    },
    {
      "cell_type": "code",
      "source": [
        "b = target.mean() - m*(features.mean())"
      ],
      "metadata": {
        "id": "heFX-LLcyVQ4"
      },
      "execution_count": 12,
      "outputs": []
    },
    {
      "cell_type": "markdown",
      "source": [
        "Now we have our `m` and `b`. Now lets try to find the predicition of the testing value"
      ],
      "metadata": {
        "id": "N33gLV_AyEFy"
      }
    },
    {
      "cell_type": "code",
      "source": [
        "b + m*29"
      ],
      "metadata": {
        "colab": {
          "base_uri": "https://localhost:8080/"
        },
        "id": "rif0H7g7yPnY",
        "outputId": "668d68c9-a85f-4231-b0d0-a1c5c7215de1"
      },
      "execution_count": 13,
      "outputs": [
        {
          "output_type": "execute_result",
          "data": {
            "text/plain": [
              "58.0"
            ]
          },
          "metadata": {},
          "execution_count": 13
        }
      ]
    },
    {
      "cell_type": "markdown",
      "source": [
        "So our predicted value should be $58$. And thats the actual value. "
      ],
      "metadata": {
        "id": "LhuV-yunyZ4g"
      }
    },
    {
      "cell_type": "markdown",
      "source": [
        "Now lets try to implement this in a function \n"
      ],
      "metadata": {
        "id": "HaRMnRsuyznt"
      }
    },
    {
      "cell_type": "code",
      "source": [
        "class LinearRegression():\n",
        "\n",
        "  def __init__(self):\n",
        "    self.m = None\n",
        "    self.b = None\n",
        "    self.pre = []\n",
        "\n",
        "  def fit(self , X_train , Y_train):\n",
        "\n",
        "    num = 0\n",
        "    den = 0\n",
        "    \n",
        "    for i in range (X_train.shape[0]):\n",
        "\n",
        "      num = num + ((X_train[i] - X_train.mean())*(Y_train[i] - Y_train.mean()))\n",
        "      den = den + ((X_train[i] - X_train.mean())*(X_train[i] - X_train.mean()))\n",
        "\n",
        "    self.m = num/den\n",
        "    self.b = (Y_train.mean()) - ((self.m)*(X_train.mean()))\n",
        "\n",
        "  def predict(self , X_test):\n",
        "\n",
        "    for i in range(X_test.shape[0]):\n",
        "      \n",
        "      prediciton = self.b + (self.m * X_test[0])\n",
        "      \n",
        "      self.pre.append(prediciton)\n",
        "    \n",
        "    return self.pre"
      ],
      "metadata": {
        "id": "y3woHtx4J-74"
      },
      "execution_count": null,
      "outputs": []
    }
  ]
}