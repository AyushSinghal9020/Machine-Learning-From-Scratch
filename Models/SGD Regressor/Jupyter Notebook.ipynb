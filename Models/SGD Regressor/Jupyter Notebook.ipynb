{
  "nbformat": 4,
  "nbformat_minor": 0,
  "metadata": {
    "colab": {
      "provenance": []
    },
    "kernelspec": {
      "name": "python3",
      "display_name": "Python 3"
    },
    "language_info": {
      "name": "python"
    }
  },
  "cells": [
    {
      "cell_type": "markdown",
      "source": [
        "# SGDRegressor\n",
        "\n",
        "<img src = \"https://assets.website-files.com/5e6f9b297ef3941db2593ba1/5f3a45407c8f9dca9fbfed2c_1_OfYVPAl2ZEBeBHlTfq_glA.png\">\n",
        "\n",
        "SGD Regressor is a type of regression algorithm that uses Stochastic Gradient Descent (SGD) optimization to find the coefficients that minimize the mean squared error loss function.\n",
        "\n",
        "The basic idea behind SGD is to update the model's parameters (coefficients) in small batches, rather than using the entire dataset at once. This makes it faster and more efficient than batch gradient descent, especially for large datasets.\n",
        "\n",
        "In SGD Regressor, the algorithm starts with random coefficients and then updates them iteratively, taking small steps in the direction of the negative gradient of the loss function. This process continues until the algorithm reaches a minimum point or a stopping criterion is met.\n",
        "\n",
        "One important hyperparameter in SGD Regressor is the learning rate, which determines the size of the steps taken during each iteration. If the learning rate is too high, the algorithm may overshoot the minimum point and fail to converge, while if it is too low, the algorithm may take too many iterations to converge.\n",
        "\n",
        "SGD Regressor is commonly used in machine learning applications such as linear regression, support vector regression, and logistic regression. It is also popular for online learning, where the model is updated continuously as new data becomes available.\n",
        "\n"
      ],
      "metadata": {
        "id": "94LBsSj7cU7_"
      }
    },
    {
      "cell_type": "code",
      "execution_count": null,
      "metadata": {
        "id": "aXyzgzV-ZPhL"
      },
      "outputs": [],
      "source": [
        "import numpy as np \n",
        "import seaborn as sns"
      ]
    },
    {
      "cell_type": "markdown",
      "source": [
        "Lets assume we have two arrays `features` and `target`."
      ],
      "metadata": {
        "id": "2aJnvdDTfY0V"
      }
    },
    {
      "cell_type": "code",
      "source": [
        "features = np.array([x for x in range(100)])"
      ],
      "metadata": {
        "id": "x4nbP68EfgEd"
      },
      "execution_count": null,
      "outputs": []
    },
    {
      "cell_type": "code",
      "source": [
        "features"
      ],
      "metadata": {
        "colab": {
          "base_uri": "https://localhost:8080/"
        },
        "id": "o6ktOLUKfhs-",
        "outputId": "3e6db584-269d-4af8-d08b-03c5f83b4ff8"
      },
      "execution_count": null,
      "outputs": [
        {
          "output_type": "execute_result",
          "data": {
            "text/plain": [
              "array([ 0,  1,  2,  3,  4,  5,  6,  7,  8,  9, 10, 11, 12, 13, 14, 15, 16,\n",
              "       17, 18, 19, 20, 21, 22, 23, 24, 25, 26, 27, 28, 29, 30, 31, 32, 33,\n",
              "       34, 35, 36, 37, 38, 39, 40, 41, 42, 43, 44, 45, 46, 47, 48, 49, 50,\n",
              "       51, 52, 53, 54, 55, 56, 57, 58, 59, 60, 61, 62, 63, 64, 65, 66, 67,\n",
              "       68, 69, 70, 71, 72, 73, 74, 75, 76, 77, 78, 79, 80, 81, 82, 83, 84,\n",
              "       85, 86, 87, 88, 89, 90, 91, 92, 93, 94, 95, 96, 97, 98, 99])"
            ]
          },
          "metadata": {},
          "execution_count": 253
        }
      ]
    },
    {
      "cell_type": "code",
      "source": [
        "target = np.array([x for x in range(0 , 200  ,2)])"
      ],
      "metadata": {
        "id": "j1Uo0ySXafEV"
      },
      "execution_count": null,
      "outputs": []
    },
    {
      "cell_type": "code",
      "source": [
        "target"
      ],
      "metadata": {
        "colab": {
          "base_uri": "https://localhost:8080/"
        },
        "id": "Sx50gsCHflv_",
        "outputId": "3c4b7072-601a-4af9-ce82-2481ba5fc8d5"
      },
      "execution_count": null,
      "outputs": [
        {
          "output_type": "execute_result",
          "data": {
            "text/plain": [
              "array([  0,   2,   4,   6,   8,  10,  12,  14,  16,  18,  20,  22,  24,\n",
              "        26,  28,  30,  32,  34,  36,  38,  40,  42,  44,  46,  48,  50,\n",
              "        52,  54,  56,  58,  60,  62,  64,  66,  68,  70,  72,  74,  76,\n",
              "        78,  80,  82,  84,  86,  88,  90,  92,  94,  96,  98, 100, 102,\n",
              "       104, 106, 108, 110, 112, 114, 116, 118, 120, 122, 124, 126, 128,\n",
              "       130, 132, 134, 136, 138, 140, 142, 144, 146, 148, 150, 152, 154,\n",
              "       156, 158, 160, 162, 164, 166, 168, 170, 172, 174, 176, 178, 180,\n",
              "       182, 184, 186, 188, 190, 192, 194, 196, 198])"
            ]
          },
          "metadata": {},
          "execution_count": 255
        }
      ]
    },
    {
      "cell_type": "markdown",
      "source": [
        "And we want to predict the target values on the basis of `feature` values. or sort of find a relationship ammong the two arrays. According to Linear Regression. We can do this by $y = mx + b$ or $\\hat y = \\beta_0 + \\beta_1x$. As we have only one feature, so we are only considering $2$ values here.\n",
        "\n",
        "These $b$ or $\\beta_0$ is the baises and the other $\\beta$  are the weight values. And we will caluclate these only \n",
        "\n",
        "First we will intialize these weights as random values. and then calculate the loss between them"
      ],
      "metadata": {
        "id": "plBrA2S9fozP"
      }
    },
    {
      "cell_type": "code",
      "source": [
        "weights = abs(np.random.randn(1))\n",
        "biases = abs(np.random.randn(1))"
      ],
      "metadata": {
        "id": "Novfq5fxanTj"
      },
      "execution_count": null,
      "outputs": []
    },
    {
      "cell_type": "code",
      "source": [
        "weights"
      ],
      "metadata": {
        "colab": {
          "base_uri": "https://localhost:8080/"
        },
        "id": "FnUSVFo9ghTM",
        "outputId": "9e0b5c9f-ec3e-4c0f-d804-73ff629ccf45"
      },
      "execution_count": null,
      "outputs": [
        {
          "output_type": "execute_result",
          "data": {
            "text/plain": [
              "array([0.03696912])"
            ]
          },
          "metadata": {},
          "execution_count": 257
        }
      ]
    },
    {
      "cell_type": "code",
      "source": [
        "biases"
      ],
      "metadata": {
        "colab": {
          "base_uri": "https://localhost:8080/"
        },
        "id": "hCTKM_dHgim7",
        "outputId": "e8f00388-a81b-486e-8c37-3625ae4b9932"
      },
      "execution_count": null,
      "outputs": [
        {
          "output_type": "execute_result",
          "data": {
            "text/plain": [
              "array([0.34226874])"
            ]
          },
          "metadata": {},
          "execution_count": 258
        }
      ]
    },
    {
      "cell_type": "markdown",
      "source": [
        "Lets assume we want to predict the corresponding value of $30$ in the target."
      ],
      "metadata": {
        "id": "LWNSJW2xgkGr"
      }
    },
    {
      "cell_type": "code",
      "source": [
        "x = 30"
      ],
      "metadata": {
        "id": "A9UZDeDba9Tn"
      },
      "execution_count": null,
      "outputs": []
    },
    {
      "cell_type": "code",
      "source": [
        "pred = weights * 30 + biases"
      ],
      "metadata": {
        "id": "r3Z70e8WbG6k"
      },
      "execution_count": null,
      "outputs": []
    },
    {
      "cell_type": "code",
      "source": [
        "pred"
      ],
      "metadata": {
        "colab": {
          "base_uri": "https://localhost:8080/"
        },
        "id": "FddpMJIPgxfE",
        "outputId": "82a736a7-b6c5-4555-ecbd-61d076a2031a"
      },
      "execution_count": null,
      "outputs": [
        {
          "output_type": "execute_result",
          "data": {
            "text/plain": [
              "array([1.45134232])"
            ]
          },
          "metadata": {},
          "execution_count": 261
        }
      ]
    },
    {
      "cell_type": "markdown",
      "source": [
        "We know it will be $60$ and the predicted value is $18$. So there will be some loss in this value. We will try to minimize that loss"
      ],
      "metadata": {
        "id": "EoODkyxbgveD"
      }
    },
    {
      "cell_type": "code",
      "source": [
        "l = (pred - 60) ** 2"
      ],
      "metadata": {
        "id": "eoGOd6e_bLcG"
      },
      "execution_count": null,
      "outputs": []
    },
    {
      "cell_type": "code",
      "source": [
        "l"
      ],
      "metadata": {
        "colab": {
          "base_uri": "https://localhost:8080/"
        },
        "id": "bumkrxzPbYWv",
        "outputId": "66e1871a-e492-44e4-c60e-546f94beea3f"
      },
      "execution_count": null,
      "outputs": [
        {
          "output_type": "execute_result",
          "data": {
            "text/plain": [
              "array([3427.94531619])"
            ]
          },
          "metadata": {},
          "execution_count": 263
        }
      ]
    },
    {
      "cell_type": "markdown",
      "source": [
        "At first loss is very high. We will try to find some sort of relationship in this loss and our parameters"
      ],
      "metadata": {
        "id": "K-gD1i_6hCej"
      }
    },
    {
      "cell_type": "code",
      "source": [
        "weights += 0.001 * l"
      ],
      "metadata": {
        "id": "rQbh3x7jbM1H"
      },
      "execution_count": null,
      "outputs": []
    },
    {
      "cell_type": "code",
      "source": [
        "biases += 0.001 * l"
      ],
      "metadata": {
        "id": "DxTVLVhFbTnq"
      },
      "execution_count": null,
      "outputs": []
    },
    {
      "cell_type": "code",
      "source": [
        "pred = weights * 30 + biases"
      ],
      "metadata": {
        "id": "yZ2TJFF8bWFl"
      },
      "execution_count": null,
      "outputs": []
    },
    {
      "cell_type": "code",
      "source": [
        "l = (pred - 60) ** 2"
      ],
      "metadata": {
        "id": "LnReTkivhNmT"
      },
      "execution_count": null,
      "outputs": []
    },
    {
      "cell_type": "code",
      "source": [
        "l"
      ],
      "metadata": {
        "colab": {
          "base_uri": "https://localhost:8080/"
        },
        "id": "AccosW3VhO1l",
        "outputId": "1a1ea411-d750-4149-ebcb-1a941fe7381d"
      },
      "execution_count": null,
      "outputs": [
        {
          "output_type": "execute_result",
          "data": {
            "text/plain": [
              "array([2276.97384679])"
            ]
          },
          "metadata": {},
          "execution_count": 268
        }
      ]
    },
    {
      "cell_type": "markdown",
      "source": [
        "And now our loss is drasitcally reduced \n",
        "\n",
        "If we do this iteratively, there is a high chance that we will reach $0$ loss"
      ],
      "metadata": {
        "id": "nGi_GxezhRAi"
      }
    },
    {
      "cell_type": "code",
      "source": [
        "for _ in range(100):\n",
        "    pred = weights * 30 + biases\n",
        "    loss = (pred - 60) ** 2\n",
        "    weights += 0.001 * loss\n",
        "    biases += 0.001 * loss"
      ],
      "metadata": {
        "colab": {
          "base_uri": "https://localhost:8080/"
        },
        "id": "ZlwgpSfihQCp",
        "outputId": "2f6d8858-b8bf-45b7-b284-5faa0f6e4ac4"
      },
      "execution_count": null,
      "outputs": [
        {
          "output_type": "stream",
          "name": "stderr",
          "text": [
            "<ipython-input-269-9e7a19ca1369>:3: RuntimeWarning: overflow encountered in square\n",
            "  loss = (pred - 60) ** 2\n"
          ]
        }
      ]
    },
    {
      "cell_type": "code",
      "source": [
        "weights"
      ],
      "metadata": {
        "colab": {
          "base_uri": "https://localhost:8080/"
        },
        "id": "xP5TnnUdhuV8",
        "outputId": "69532389-80c3-43bc-ae8d-bc8240baebc2"
      },
      "execution_count": null,
      "outputs": [
        {
          "output_type": "execute_result",
          "data": {
            "text/plain": [
              "array([inf])"
            ]
          },
          "metadata": {},
          "execution_count": 270
        }
      ]
    },
    {
      "cell_type": "code",
      "source": [
        "biases"
      ],
      "metadata": {
        "colab": {
          "base_uri": "https://localhost:8080/"
        },
        "id": "UN3mvzjPhxcy",
        "outputId": "8d70bbb8-d76c-4d36-911f-c799d70c2c33"
      },
      "execution_count": null,
      "outputs": [
        {
          "output_type": "execute_result",
          "data": {
            "text/plain": [
              "array([inf])"
            ]
          },
          "metadata": {},
          "execution_count": 271
        }
      ]
    },
    {
      "cell_type": "markdown",
      "source": [
        "Lets intialize the weights and biases again and plot some graphs"
      ],
      "metadata": {
        "id": "zZDK1AGuiWU5"
      }
    },
    {
      "cell_type": "code",
      "source": [
        "weights = abs(np.random.randn(1))\n",
        "biases = abs(np.random.randn(1))\n",
        "\n",
        "predic = []\n",
        "losses = []\n",
        "for _ in range(100):\n",
        "    pred = weights * 30 + biases\n",
        "    predic.append(pred)\n",
        "    loss = (pred - 60) ** 2\n",
        "    losses.append(loss)\n",
        "    weights += 0.001 * loss\n",
        "    biases += 0.001 * loss"
      ],
      "metadata": {
        "id": "KXz9ODqLiiHb"
      },
      "execution_count": null,
      "outputs": []
    },
    {
      "cell_type": "code",
      "source": [
        "sns.lineplot(np.array(losses))"
      ],
      "metadata": {
        "colab": {
          "base_uri": "https://localhost:8080/",
          "height": 447
        },
        "id": "xmWoH_BdjCRY",
        "outputId": "b875ab7b-06f9-4202-da33-18c350028ced"
      },
      "execution_count": null,
      "outputs": [
        {
          "output_type": "execute_result",
          "data": {
            "text/plain": [
              "<Axes: >"
            ]
          },
          "metadata": {},
          "execution_count": 273
        },
        {
          "output_type": "display_data",
          "data": {
            "text/plain": [
              "<Figure size 640x480 with 1 Axes>"
            ],
            "image/png": "[encoded data removed]"
          },
          "metadata": {}
        }
      ]
    },
    {
      "cell_type": "code",
      "source": [
        "sns.lineplot(np.array(predic))"
      ],
      "metadata": {
        "colab": {
          "base_uri": "https://localhost:8080/",
          "height": 447
        },
        "id": "t1kzs8pPjOsJ",
        "outputId": "cb8964bc-faca-4d6d-ea0e-71e6454b2af6"
      },
      "execution_count": null,
      "outputs": [
        {
          "output_type": "execute_result",
          "data": {
            "text/plain": [
              "<Axes: >"
            ]
          },
          "metadata": {},
          "execution_count": 274
        },
        {
          "output_type": "display_data",
          "data": {
            "text/plain": [
              "<Figure size 640x480 with 1 Axes>"
            ],
            "image/png": "[encoded data removed]"
          },
          "metadata": {}
        }
      ]
    },
    {
      "cell_type": "markdown",
      "source": [
        "And after $100$ iterations, we have reached a satisfacotry value. Though it is not perfect, but it is close."
      ],
      "metadata": {
        "id": "PaHoPuHUiE5T"
      }
    },
    {
      "cell_type": "markdown",
      "source": [
        "We did this with one value, lets try to take all of the values and predict them "
      ],
      "metadata": {
        "id": "6QfhJBEojphJ"
      }
    },
    {
      "cell_type": "code",
      "source": [
        "weights = abs(np.random.randn(1))\n",
        "biases = abs(np.random.randn(1))\n",
        "print(weights , biases)\n",
        "predic = []\n",
        "losses = []\n",
        "for _ in range(300):\n",
        "    pred = weights * features + biases\n",
        "    predic.append(pred)\n",
        "    loss = np.sum((pred - target) ** 2)\n",
        "    losses.append(loss)\n",
        "    weights += 0.000001 * loss\n",
        "    biases += 0.000001 * loss"
      ],
      "metadata": {
        "colab": {
          "base_uri": "https://localhost:8080/"
        },
        "id": "U3w2lEnljoXq",
        "outputId": "0019633a-e86f-4f86-bc18-3e20945e3b0f"
      },
      "execution_count": null,
      "outputs": [
        {
          "output_type": "stream",
          "name": "stdout",
          "text": [
            "[1.16004287] [0.50777964]\n"
          ]
        }
      ]
    },
    {
      "cell_type": "markdown",
      "source": [
        "Now lets just plot all of this into a function "
      ],
      "metadata": {
        "id": "OAQNWGmTnYiO"
      }
    },
    {
      "cell_type": "code",
      "source": [
        "def SGDRegressor():\n",
        "    weights = abs(np.random.randn(1))\n",
        "    biases = abs(np.random.randn(1))\n",
        "    predic = []\n",
        "    losses = []\n",
        "    for _ in range(300):\n",
        "        pred = weights * features + biases\n",
        "        predic.append(pred)\n",
        "        loss = np.sum((pred - target) ** 2)\n",
        "        losses.append(loss)\n",
        "        weights += 0.000001 * loss\n",
        "        biases += 0.000001 * loss\n",
        "\n",
        "    return weights , biases"
      ],
      "metadata": {
        "id": "fkuwyMXnh8gd"
      },
      "execution_count": null,
      "outputs": []
    }
  ]
}