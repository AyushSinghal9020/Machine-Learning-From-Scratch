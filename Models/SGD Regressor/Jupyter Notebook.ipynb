{
 "cells": [
  {
   "cell_type": "markdown",
   "id": "693e4997",
   "metadata": {
    "papermill": {
     "duration": 0.02953,
     "end_time": "2023-04-16T14:31:36.882376",
     "exception": false,
     "start_time": "2023-04-16T14:31:36.852846",
     "status": "completed"
    },
    "tags": []
   },
   "source": [
    "# 1 | SGDRegressor\n",
    "\n",
    "<img src = \"https://adataanalyst.com/wp-content/uploads/2016/07/Regression_in_scikit-learn-1.png\">\n",
    "\n",
    "First of all lets understand what the hell is this `Regression`???\n",
    "\n",
    "**What** - `Regression` is just like the lost brother of `classification`. In `classification` we have `discrete` or `particular values`, that we want to `classify`, In `regression` we have `continuous values`, that we want to `predict`\n",
    "\n",
    "| Classification |Regression |\n",
    "| --- | --- |\n",
    "|  We have discrete values| We have continuous values |\n",
    "|Usually we know these values in depth | We usually don't know these values in depth|\n",
    "|These are comparatively less in number| These are comparatively more in number |\n",
    "\n",
    "# 2 | What other things we will learn here\n",
    "* Slope of Function\n",
    "* Baisc Diffrentiation\n",
    "* Intercept \n",
    "\n",
    "**Why** - Regression is a very useful method and is used in many places to predict values.\n",
    "\n",
    "**How** - There are many different techniques to perform this operation. \n",
    "\n",
    "**I highly encourage you to find different methods by yourself too, and can even try to build your own models, maybe your brain pushes the boundaries of machine learning**\n",
    "\n",
    "So now we have a basic idea of what regression is, our next move should be knowing about Sochastic Gradient Descent Regressor \n",
    "\n",
    "So what is this `SGDRegressor`\n"
   ]
  },
  {
   "cell_type": "code",
   "execution_count": 1,
   "id": "890970f2",
   "metadata": {
    "execution": {
     "iopub.execute_input": "2023-04-16T14:31:36.940059Z",
     "iopub.status.busy": "2023-04-16T14:31:36.939603Z",
     "iopub.status.idle": "2023-04-16T14:31:38.141292Z",
     "shell.execute_reply": "2023-04-16T14:31:38.140062Z"
    },
    "papermill": {
     "duration": 1.233396,
     "end_time": "2023-04-16T14:31:38.144355",
     "exception": false,
     "start_time": "2023-04-16T14:31:36.910959",
     "status": "completed"
    },
    "tags": []
   },
   "outputs": [],
   "source": [
    "import numpy as np \n",
    "import matplotlib.pyplot as plt \n",
    "from IPython.display import IFrame\n",
    "import seaborn as sns"
   ]
  },
  {
   "cell_type": "markdown",
   "id": "d6b137cc",
   "metadata": {
    "papermill": {
     "duration": 0.025744,
     "end_time": "2023-04-16T14:31:38.196806",
     "exception": false,
     "start_time": "2023-04-16T14:31:38.171062",
     "status": "completed"
    },
    "tags": []
   },
   "source": [
    "Lets assume we have data like this"
   ]
  },
  {
   "cell_type": "code",
   "execution_count": 2,
   "id": "61175214",
   "metadata": {
    "execution": {
     "iopub.execute_input": "2023-04-16T14:31:38.252279Z",
     "iopub.status.busy": "2023-04-16T14:31:38.250944Z",
     "iopub.status.idle": "2023-04-16T14:31:38.257217Z",
     "shell.execute_reply": "2023-04-16T14:31:38.256173Z"
    },
    "papermill": {
     "duration": 0.036798,
     "end_time": "2023-04-16T14:31:38.259689",
     "exception": false,
     "start_time": "2023-04-16T14:31:38.222891",
     "status": "completed"
    },
    "tags": []
   },
   "outputs": [],
   "source": [
    "features = np.array([x for x in range(0 , 200 , 1)])"
   ]
  },
  {
   "cell_type": "code",
   "execution_count": 3,
   "id": "577e33d4",
   "metadata": {
    "execution": {
     "iopub.execute_input": "2023-04-16T14:31:38.314788Z",
     "iopub.status.busy": "2023-04-16T14:31:38.313569Z",
     "iopub.status.idle": "2023-04-16T14:31:38.323675Z",
     "shell.execute_reply": "2023-04-16T14:31:38.322592Z"
    },
    "papermill": {
     "duration": 0.040424,
     "end_time": "2023-04-16T14:31:38.326252",
     "exception": false,
     "start_time": "2023-04-16T14:31:38.285828",
     "status": "completed"
    },
    "tags": []
   },
   "outputs": [
    {
     "data": {
      "text/plain": [
       "array([  0,   1,   2,   3,   4,   5,   6,   7,   8,   9,  10,  11,  12,\n",
       "        13,  14,  15,  16,  17,  18,  19,  20,  21,  22,  23,  24,  25,\n",
       "        26,  27,  28,  29,  30,  31,  32,  33,  34,  35,  36,  37,  38,\n",
       "        39,  40,  41,  42,  43,  44,  45,  46,  47,  48,  49,  50,  51,\n",
       "        52,  53,  54,  55,  56,  57,  58,  59,  60,  61,  62,  63,  64,\n",
       "        65,  66,  67,  68,  69,  70,  71,  72,  73,  74,  75,  76,  77,\n",
       "        78,  79,  80,  81,  82,  83,  84,  85,  86,  87,  88,  89,  90,\n",
       "        91,  92,  93,  94,  95,  96,  97,  98,  99, 100, 101, 102, 103,\n",
       "       104, 105, 106, 107, 108, 109, 110, 111, 112, 113, 114, 115, 116,\n",
       "       117, 118, 119, 120, 121, 122, 123, 124, 125, 126, 127, 128, 129,\n",
       "       130, 131, 132, 133, 134, 135, 136, 137, 138, 139, 140, 141, 142,\n",
       "       143, 144, 145, 146, 147, 148, 149, 150, 151, 152, 153, 154, 155,\n",
       "       156, 157, 158, 159, 160, 161, 162, 163, 164, 165, 166, 167, 168,\n",
       "       169, 170, 171, 172, 173, 174, 175, 176, 177, 178, 179, 180, 181,\n",
       "       182, 183, 184, 185, 186, 187, 188, 189, 190, 191, 192, 193, 194,\n",
       "       195, 196, 197, 198, 199])"
      ]
     },
     "execution_count": 3,
     "metadata": {},
     "output_type": "execute_result"
    }
   ],
   "source": [
    "features"
   ]
  },
  {
   "cell_type": "code",
   "execution_count": 4,
   "id": "d95531ce",
   "metadata": {
    "execution": {
     "iopub.execute_input": "2023-04-16T14:31:38.382720Z",
     "iopub.status.busy": "2023-04-16T14:31:38.382295Z",
     "iopub.status.idle": "2023-04-16T14:31:38.387499Z",
     "shell.execute_reply": "2023-04-16T14:31:38.386419Z"
    },
    "papermill": {
     "duration": 0.035565,
     "end_time": "2023-04-16T14:31:38.389739",
     "exception": false,
     "start_time": "2023-04-16T14:31:38.354174",
     "status": "completed"
    },
    "tags": []
   },
   "outputs": [],
   "source": [
    "target = np.array([x for x in range(0 , 400 , 2)])"
   ]
  },
  {
   "cell_type": "code",
   "execution_count": 5,
   "id": "24f15bf3",
   "metadata": {
    "execution": {
     "iopub.execute_input": "2023-04-16T14:31:38.444652Z",
     "iopub.status.busy": "2023-04-16T14:31:38.444233Z",
     "iopub.status.idle": "2023-04-16T14:31:38.452120Z",
     "shell.execute_reply": "2023-04-16T14:31:38.451086Z"
    },
    "papermill": {
     "duration": 0.037869,
     "end_time": "2023-04-16T14:31:38.454328",
     "exception": false,
     "start_time": "2023-04-16T14:31:38.416459",
     "status": "completed"
    },
    "tags": []
   },
   "outputs": [
    {
     "data": {
      "text/plain": [
       "array([  0,   2,   4,   6,   8,  10,  12,  14,  16,  18,  20,  22,  24,\n",
       "        26,  28,  30,  32,  34,  36,  38,  40,  42,  44,  46,  48,  50,\n",
       "        52,  54,  56,  58,  60,  62,  64,  66,  68,  70,  72,  74,  76,\n",
       "        78,  80,  82,  84,  86,  88,  90,  92,  94,  96,  98, 100, 102,\n",
       "       104, 106, 108, 110, 112, 114, 116, 118, 120, 122, 124, 126, 128,\n",
       "       130, 132, 134, 136, 138, 140, 142, 144, 146, 148, 150, 152, 154,\n",
       "       156, 158, 160, 162, 164, 166, 168, 170, 172, 174, 176, 178, 180,\n",
       "       182, 184, 186, 188, 190, 192, 194, 196, 198, 200, 202, 204, 206,\n",
       "       208, 210, 212, 214, 216, 218, 220, 222, 224, 226, 228, 230, 232,\n",
       "       234, 236, 238, 240, 242, 244, 246, 248, 250, 252, 254, 256, 258,\n",
       "       260, 262, 264, 266, 268, 270, 272, 274, 276, 278, 280, 282, 284,\n",
       "       286, 288, 290, 292, 294, 296, 298, 300, 302, 304, 306, 308, 310,\n",
       "       312, 314, 316, 318, 320, 322, 324, 326, 328, 330, 332, 334, 336,\n",
       "       338, 340, 342, 344, 346, 348, 350, 352, 354, 356, 358, 360, 362,\n",
       "       364, 366, 368, 370, 372, 374, 376, 378, 380, 382, 384, 386, 388,\n",
       "       390, 392, 394, 396, 398])"
      ]
     },
     "execution_count": 5,
     "metadata": {},
     "output_type": "execute_result"
    }
   ],
   "source": [
    "target"
   ]
  },
  {
   "cell_type": "markdown",
   "id": "b4c705a0",
   "metadata": {
    "papermill": {
     "duration": 0.026213,
     "end_time": "2023-04-16T14:31:38.507130",
     "exception": false,
     "start_time": "2023-04-16T14:31:38.480917",
     "status": "completed"
    },
    "tags": []
   },
   "source": [
    "Lets assume there is a connection between the `target` , and `features`. By human instacne we know that every element in `target` is just a double of the corresponding element in `features`, or $target  = 2XFeatures$. \n",
    "\n",
    "Lets assume we change the target a little bit..."
   ]
  },
  {
   "cell_type": "code",
   "execution_count": 6,
   "id": "6a80ce2e",
   "metadata": {
    "execution": {
     "iopub.execute_input": "2023-04-16T14:31:38.562061Z",
     "iopub.status.busy": "2023-04-16T14:31:38.561599Z",
     "iopub.status.idle": "2023-04-16T14:31:38.567279Z",
     "shell.execute_reply": "2023-04-16T14:31:38.566043Z"
    },
    "papermill": {
     "duration": 0.036058,
     "end_time": "2023-04-16T14:31:38.569691",
     "exception": false,
     "start_time": "2023-04-16T14:31:38.533633",
     "status": "completed"
    },
    "tags": []
   },
   "outputs": [],
   "source": [
    "target = np.array([x + 1 for x in range(0 , 400 , 2)])"
   ]
  },
  {
   "cell_type": "code",
   "execution_count": 7,
   "id": "52aaa72a",
   "metadata": {
    "execution": {
     "iopub.execute_input": "2023-04-16T14:31:38.625546Z",
     "iopub.status.busy": "2023-04-16T14:31:38.625111Z",
     "iopub.status.idle": "2023-04-16T14:31:38.632557Z",
     "shell.execute_reply": "2023-04-16T14:31:38.631420Z"
    },
    "papermill": {
     "duration": 0.038094,
     "end_time": "2023-04-16T14:31:38.635121",
     "exception": false,
     "start_time": "2023-04-16T14:31:38.597027",
     "status": "completed"
    },
    "tags": []
   },
   "outputs": [
    {
     "data": {
      "text/plain": [
       "array([  1,   3,   5,   7,   9,  11,  13,  15,  17,  19,  21,  23,  25,\n",
       "        27,  29,  31,  33,  35,  37,  39,  41,  43,  45,  47,  49,  51,\n",
       "        53,  55,  57,  59,  61,  63,  65,  67,  69,  71,  73,  75,  77,\n",
       "        79,  81,  83,  85,  87,  89,  91,  93,  95,  97,  99, 101, 103,\n",
       "       105, 107, 109, 111, 113, 115, 117, 119, 121, 123, 125, 127, 129,\n",
       "       131, 133, 135, 137, 139, 141, 143, 145, 147, 149, 151, 153, 155,\n",
       "       157, 159, 161, 163, 165, 167, 169, 171, 173, 175, 177, 179, 181,\n",
       "       183, 185, 187, 189, 191, 193, 195, 197, 199, 201, 203, 205, 207,\n",
       "       209, 211, 213, 215, 217, 219, 221, 223, 225, 227, 229, 231, 233,\n",
       "       235, 237, 239, 241, 243, 245, 247, 249, 251, 253, 255, 257, 259,\n",
       "       261, 263, 265, 267, 269, 271, 273, 275, 277, 279, 281, 283, 285,\n",
       "       287, 289, 291, 293, 295, 297, 299, 301, 303, 305, 307, 309, 311,\n",
       "       313, 315, 317, 319, 321, 323, 325, 327, 329, 331, 333, 335, 337,\n",
       "       339, 341, 343, 345, 347, 349, 351, 353, 355, 357, 359, 361, 363,\n",
       "       365, 367, 369, 371, 373, 375, 377, 379, 381, 383, 385, 387, 389,\n",
       "       391, 393, 395, 397, 399])"
      ]
     },
     "execution_count": 7,
     "metadata": {},
     "output_type": "execute_result"
    }
   ],
   "source": [
    "target"
   ]
  },
  {
   "cell_type": "markdown",
   "id": "b2c57879",
   "metadata": {
    "papermill": {
     "duration": 0.026746,
     "end_time": "2023-04-16T14:31:38.689544",
     "exception": false,
     "start_time": "2023-04-16T14:31:38.662798",
     "status": "completed"
    },
    "tags": []
   },
   "source": [
    "Now what could be the trend here..., We can see the code above and with the help of that we can say. That `target` value is just the `double + 1` of the corresponding element in `features`. or $target = 2Xfeatures + 1$\n",
    "\n",
    "Till now the problem was really easy to solve, and thats why we used the brain only, But these are just examples. As we move closer to the real world. The examples/problems get difficulat and we find it harder to find proper trends in the two `arrays`. Thats we try to teach machine, how to find trend in the data. The formula we had before $target = 2Xfeature + 1$ is subjective to only one problem or a similar problem. But this formula can be generlized by the equation of `straight line`, which is $y = mx + b$\n",
    "\n",
    "So what does this line means ???\n",
    "\n",
    "Lets first try to plot the data we had on a scatter plot "
   ]
  },
  {
   "cell_type": "code",
   "execution_count": 8,
   "id": "51421351",
   "metadata": {
    "execution": {
     "iopub.execute_input": "2023-04-16T14:31:38.745428Z",
     "iopub.status.busy": "2023-04-16T14:31:38.744974Z",
     "iopub.status.idle": "2023-04-16T14:31:39.045884Z",
     "shell.execute_reply": "2023-04-16T14:31:39.044608Z"
    },
    "papermill": {
     "duration": 0.331986,
     "end_time": "2023-04-16T14:31:39.048556",
     "exception": false,
     "start_time": "2023-04-16T14:31:38.716570",
     "status": "completed"
    },
    "tags": []
   },
   "outputs": [
    {
     "data": {
      "text/plain": [
       "<matplotlib.collections.PathCollection at 0x73e4f3e17e90>"
      ]
     },
     "execution_count": 8,
     "metadata": {},
     "output_type": "execute_result"
    },
    {
     "data": {
      "image/png": "[encoded data removed]",
      "text/plain": [
       "<Figure size 640x480 with 1 Axes>"
      ]
     },
     "metadata": {},
     "output_type": "display_data"
    }
   ],
   "source": [
    "plt.scatter(features , target)"
   ]
  },
  {
   "cell_type": "markdown",
   "id": "e9a3e69a",
   "metadata": {
    "papermill": {
     "duration": 0.02708,
     "end_time": "2023-04-16T14:31:39.103775",
     "exception": false,
     "start_time": "2023-04-16T14:31:39.076695",
     "status": "completed"
    },
    "tags": []
   },
   "source": [
    "You can see we got a sequence of dots that resembles kind of straight line. \n",
    "\n",
    "Lets assume we have a line that tries to capture most of the points on this, like this"
   ]
  },
  {
   "cell_type": "code",
   "execution_count": 9,
   "id": "3b242fa7",
   "metadata": {
    "execution": {
     "iopub.execute_input": "2023-04-16T14:31:39.161082Z",
     "iopub.status.busy": "2023-04-16T14:31:39.160587Z",
     "iopub.status.idle": "2023-04-16T14:31:39.422319Z",
     "shell.execute_reply": "2023-04-16T14:31:39.421030Z"
    },
    "papermill": {
     "duration": 0.293476,
     "end_time": "2023-04-16T14:31:39.425006",
     "exception": false,
     "start_time": "2023-04-16T14:31:39.131530",
     "status": "completed"
    },
    "tags": []
   },
   "outputs": [
    {
     "data": {
      "text/plain": [
       "[<matplotlib.lines.Line2D at 0x73e4f3ba6310>]"
      ]
     },
     "execution_count": 9,
     "metadata": {},
     "output_type": "execute_result"
    },
    {
     "data": {
      "image/png": "[encoded data removed]",
      "text/plain": [
       "<Figure size 640x480 with 1 Axes>"
      ]
     },
     "metadata": {},
     "output_type": "display_data"
    }
   ],
   "source": [
    "plt.scatter(features , target)\n",
    "plt.plot([0 , 200] , [0 , 400] , \"yellow\")"
   ]
  },
  {
   "cell_type": "markdown",
   "id": "9a2cedce",
   "metadata": {
    "papermill": {
     "duration": 0.0275,
     "end_time": "2023-04-16T14:31:39.481225",
     "exception": false,
     "start_time": "2023-04-16T14:31:39.453725",
     "status": "completed"
    },
    "tags": []
   },
   "source": [
    "Again by human intution we found the `best fit line`. But what if we want to generalize the things and kind of do not find the best fit line...?\n",
    "\n",
    "First of all lets get a little bit more deep into equation $y = mx + b$\n",
    "\n",
    "So what does these terms resembles in this eqution. \n",
    "* `m` is the slope of the line\n",
    "\n",
    "# 2.1 | Slope of A function\n",
    "\n",
    "Slope of a function shows how steep a function is, or the direction of a function at a given point on the curve.\n",
    "\n",
    "Lets assume we have this curve $y = 4x^2$ the slope of this curve will be $y = 8x$"
   ]
  },
  {
   "cell_type": "code",
   "execution_count": 10,
   "id": "e8180149",
   "metadata": {
    "execution": {
     "iopub.execute_input": "2023-04-16T14:31:39.539652Z",
     "iopub.status.busy": "2023-04-16T14:31:39.539256Z",
     "iopub.status.idle": "2023-04-16T14:31:39.546554Z",
     "shell.execute_reply": "2023-04-16T14:31:39.545284Z"
    },
    "papermill": {
     "duration": 0.040117,
     "end_time": "2023-04-16T14:31:39.549018",
     "exception": false,
     "start_time": "2023-04-16T14:31:39.508901",
     "status": "completed"
    },
    "tags": []
   },
   "outputs": [
    {
     "data": {
      "text/html": [
       "\n",
       "        <iframe\n",
       "            width=\"400\"\n",
       "            height=\"400\"\n",
       "            src=\"https://www.desmos.com/calculator/zluqu5vyuh\"\n",
       "            frameborder=\"0\"\n",
       "            allowfullscreen\n",
       "            \n",
       "        ></iframe>\n",
       "        "
      ],
      "text/plain": [
       "<IPython.lib.display.IFrame at 0x73e4f3b6b390>"
      ]
     },
     "execution_count": 10,
     "metadata": {},
     "output_type": "execute_result"
    }
   ],
   "source": [
    "IFrame(\"https://www.desmos.com/calculator/zluqu5vyuh\" , 400 , 400)"
   ]
  },
  {
   "cell_type": "markdown",
   "id": "bd9228ff",
   "metadata": {
    "papermill": {
     "duration": 0.028825,
     "end_time": "2023-04-16T14:31:39.605856",
     "exception": false,
     "start_time": "2023-04-16T14:31:39.577031",
     "status": "completed"
    },
    "tags": []
   },
   "source": [
    "So how do we calculate the `slope` of a line???\n",
    "\n",
    "Lets assume we have a function $y = f(x)$,. To find the slope of a function, we simply diffrenctiate the function, thus, the slope of this line will be $y^` = f^`(x)$\n",
    "\n",
    "# 2.2 | Diffrentiation\n",
    "\n",
    "Diffrentaition can be explained as getting a small value of a function.\n",
    "\n",
    "lets assume we have a function `y = sin(x)`\n",
    "\n",
    "A small strip at that function will demonstrate taking a derivative of that function `sin(x)`\n",
    "\n",
    "Taking about the function we had taken before that is $y = 4x^2$\n",
    "\n",
    "Taking its derivative we will get $$y = 8x$$ ($x{n^`} = nx^{n-1}$)\n",
    "\n",
    "So the slope of $y = 4x^2$ can be represnted as "
   ]
  },
  {
   "cell_type": "code",
   "execution_count": 11,
   "id": "e36799ec",
   "metadata": {
    "execution": {
     "iopub.execute_input": "2023-04-16T14:31:39.665004Z",
     "iopub.status.busy": "2023-04-16T14:31:39.664333Z",
     "iopub.status.idle": "2023-04-16T14:31:39.671496Z",
     "shell.execute_reply": "2023-04-16T14:31:39.670377Z"
    },
    "papermill": {
     "duration": 0.039452,
     "end_time": "2023-04-16T14:31:39.673686",
     "exception": false,
     "start_time": "2023-04-16T14:31:39.634234",
     "status": "completed"
    },
    "tags": []
   },
   "outputs": [
    {
     "data": {
      "text/html": [
       "\n",
       "        <iframe\n",
       "            width=\"400\"\n",
       "            height=\"400\"\n",
       "            src=\"https://www.desmos.com/calculator/hrguwktg9q\"\n",
       "            frameborder=\"0\"\n",
       "            allowfullscreen\n",
       "            \n",
       "        ></iframe>\n",
       "        "
      ],
      "text/plain": [
       "<IPython.lib.display.IFrame at 0x73e4f3b6bfd0>"
      ]
     },
     "execution_count": 11,
     "metadata": {},
     "output_type": "execute_result"
    }
   ],
   "source": [
    "IFrame(\"https://www.desmos.com/calculator/hrguwktg9q\" , 400 , 400)"
   ]
  },
  {
   "cell_type": "markdown",
   "id": "8af93006",
   "metadata": {
    "papermill": {
     "duration": 0.027859,
     "end_time": "2023-04-16T14:31:39.730915",
     "exception": false,
     "start_time": "2023-04-16T14:31:39.703056",
     "status": "completed"
    },
    "tags": []
   },
   "source": [
    "**If you want to know more aboud diffrentiation, here is [3Blue1Brown](https://www.youtube.com/@3blue1brown/featured) => [Essence Of Calculas](https://www.youtube.com/playlist?list=PLZHQObOWTQDMsr9K-rj53DwVRMYO3t5Yr)**"
   ]
  },
  {
   "cell_type": "markdown",
   "id": "44932d3c",
   "metadata": {
    "papermill": {
     "duration": 0.027984,
     "end_time": "2023-04-16T14:31:39.787241",
     "exception": false,
     "start_time": "2023-04-16T14:31:39.759257",
     "status": "completed"
    },
    "tags": []
   },
   "source": [
    "So now you have a basic idea of `slope`\n",
    "\n",
    "# 2.3 | Intercept\n",
    "\n",
    "Now what `b` represents in the data. Usually it is called the `intercept`. Consider this graph of the equation $y = x$ or $y = 1x + b$ "
   ]
  },
  {
   "cell_type": "code",
   "execution_count": 12,
   "id": "97f57cde",
   "metadata": {
    "execution": {
     "iopub.execute_input": "2023-04-16T14:31:39.846412Z",
     "iopub.status.busy": "2023-04-16T14:31:39.845563Z",
     "iopub.status.idle": "2023-04-16T14:31:39.853595Z",
     "shell.execute_reply": "2023-04-16T14:31:39.852341Z"
    },
    "papermill": {
     "duration": 0.040342,
     "end_time": "2023-04-16T14:31:39.855965",
     "exception": false,
     "start_time": "2023-04-16T14:31:39.815623",
     "status": "completed"
    },
    "tags": []
   },
   "outputs": [
    {
     "data": {
      "text/html": [
       "\n",
       "        <iframe\n",
       "            width=\"400\"\n",
       "            height=\"400\"\n",
       "            src=\"https://www.desmos.com/calculator/gai0veg5fh\"\n",
       "            frameborder=\"0\"\n",
       "            allowfullscreen\n",
       "            \n",
       "        ></iframe>\n",
       "        "
      ],
      "text/plain": [
       "<IPython.lib.display.IFrame at 0x73e4f3b73d50>"
      ]
     },
     "execution_count": 12,
     "metadata": {},
     "output_type": "execute_result"
    }
   ],
   "source": [
    "IFrame(\"https://www.desmos.com/calculator/gai0veg5fh\" , 400 , 400)"
   ]
  },
  {
   "cell_type": "markdown",
   "id": "07c39bb9",
   "metadata": {
    "papermill": {
     "duration": 0.028062,
     "end_time": "2023-04-16T14:31:39.912458",
     "exception": false,
     "start_time": "2023-04-16T14:31:39.884396",
     "status": "completed"
    },
    "tags": []
   },
   "source": [
    "This line passes the axis at $(0 , 0)$. These coordinates are called as the `intercepts` of this line. If we make `b` or `intercept` as $1$. The line will then pass from $(1 , -1)$. Basically the `intercept` moves a line in a plane. With that being said, Lets also undertand how the `slope` changes the line. If we make `m` as $2$. The line will rotate anti-clockwise. So as we increase the value of `m` or `slope`. The line moves anti-clockwise, And so the vice-versa, If we decrease the value of `m`, The slope will move in the clockwise direction. \n",
    "\n",
    "In short tweeking the values of `m` and `b` or `slope` and `intercept`. We can move the line in any direction and in any way we want `as long as it resembles a straight line`. We still cannot bend the line \n",
    "\n",
    "So now we have any data, we just need to difine the values of `slope` and `intercpet`. And we can get the best fit line. But still the question arises how do we generalize the values of these tuning parametes. \n",
    "\n",
    "In simple word we can say, How can we find a relation between the data we have and these tuning parameters. So that we only need to define that relationship and then we can easily predict the values.\n",
    "\n",
    "Lets think that the value assigned to the line is this "
   ]
  },
  {
   "cell_type": "code",
   "execution_count": 13,
   "id": "ccfc34e3",
   "metadata": {
    "execution": {
     "iopub.execute_input": "2023-04-16T14:31:39.971779Z",
     "iopub.status.busy": "2023-04-16T14:31:39.971062Z",
     "iopub.status.idle": "2023-04-16T14:31:40.219409Z",
     "shell.execute_reply": "2023-04-16T14:31:40.218187Z"
    },
    "papermill": {
     "duration": 0.280904,
     "end_time": "2023-04-16T14:31:40.221812",
     "exception": false,
     "start_time": "2023-04-16T14:31:39.940908",
     "status": "completed"
    },
    "tags": []
   },
   "outputs": [
    {
     "data": {
      "text/plain": [
       "[<matplotlib.lines.Line2D at 0x73e4f3b3bdd0>]"
      ]
     },
     "execution_count": 13,
     "metadata": {},
     "output_type": "execute_result"
    },
    {
     "data": {
      "image/png": "[encoded data removed]",
      "text/plain": [
       "<Figure size 640x480 with 1 Axes>"
      ]
     },
     "metadata": {},
     "output_type": "display_data"
    }
   ],
   "source": [
    "plt.scatter(features , target)\n",
    "plt.plot([0 , 300] , [0 , 400] , \"yellow\")"
   ]
  },
  {
   "cell_type": "markdown",
   "id": "c4a98b4e",
   "metadata": {
    "papermill": {
     "duration": 0.028442,
     "end_time": "2023-04-16T14:31:40.279205",
     "exception": false,
     "start_time": "2023-04-16T14:31:40.250763",
     "status": "completed"
    },
    "tags": []
   },
   "source": [
    "If we test this line on the training data only, we will find that this line is not correct. It is predicting points incorrect, We know that the best fit line we drew first, will predict points wiht lowest incorrect ones. For example the line we just defined if asked the corresponding value of $200$, it will say $250$. But rather it was $400$. There was some `error`, some `loss`, or some `cost` with the `actual` and `predicted` values.\n",
    "\n",
    "For measuring this loss, what we can do is find the difference between the `actual value` and the `predicted value`. A best fit line will give the lowest value of this difference.\n",
    "\n",
    "The word difference here is very difficult to say, so we can give this term a new fancy name, which is `The Loss`.\n",
    "\n",
    "One can deifne loss as $$Loss = actual - predicted$$.\n",
    "\n",
    "We only took the example of one value. but there are a large group of values. that can show the same trait, For that we can change the formula to \n",
    "\n",
    "Lets denote $actual$ as $a$ and $predicted$ as $p$\n",
    "\n",
    "$$Loss = (a_1 - p_1) + (a_2 - p_2) + (a_3 - p_3) + ... + (a_n - p_n)$$\n",
    "\n",
    "or $$Loss = \\sum\\limits_{i = 1}^{n}a_i - p_i$$ or $$Loss = \\sum\\limits_{i = 1}^{n}(y_i - \\hat y_i)$$\n",
    "\n",
    "Whenever you see $\\hat y$, think of it as the `predicted value`\n",
    "\n",
    "Now lets assume we have data like this and a random line is drawn like this \n",
    "\n",
    "<img src = \"https://cdn-media-1.freecodecamp.org/images/MNskFmGPKuQfMLdmpkT-X7-8w2cJXulP3683\">\n",
    "\n",
    "If you look closely, a lot of error terms will tend to cancel out each other. We can also get into a state where the line is `not the best fit`, but still gives $0$ error. With the `Loss` we defined before, we are not chossing a `best fit line`. Rather we are chossing a line that is in the `middle` of those points. One way to counter this is to add a `modulus` function like this $$Loss = \\sum\\limits_{i = 1}^{n}|y - \\hat y|$$\n",
    "\n",
    "But what is a modulus function. The function is nothing but converts, any negative numbers to postive. For example \n",
    "$|-1| = 1$"
   ]
  },
  {
   "cell_type": "code",
   "execution_count": 14,
   "id": "350e5038",
   "metadata": {
    "execution": {
     "iopub.execute_input": "2023-04-16T14:31:40.339120Z",
     "iopub.status.busy": "2023-04-16T14:31:40.338454Z",
     "iopub.status.idle": "2023-04-16T14:31:40.345726Z",
     "shell.execute_reply": "2023-04-16T14:31:40.344557Z"
    },
    "papermill": {
     "duration": 0.040198,
     "end_time": "2023-04-16T14:31:40.348165",
     "exception": false,
     "start_time": "2023-04-16T14:31:40.307967",
     "status": "completed"
    },
    "tags": []
   },
   "outputs": [
    {
     "data": {
      "text/html": [
       "\n",
       "        <iframe\n",
       "            width=\"400\"\n",
       "            height=\"400\"\n",
       "            src=\"https://www.desmos.com/calculator/kamxotjra2\"\n",
       "            frameborder=\"0\"\n",
       "            allowfullscreen\n",
       "            \n",
       "        ></iframe>\n",
       "        "
      ],
      "text/plain": [
       "<IPython.lib.display.IFrame at 0x73e4f3a89b90>"
      ]
     },
     "execution_count": 14,
     "metadata": {},
     "output_type": "execute_result"
    }
   ],
   "source": [
    "IFrame(\"https://www.desmos.com/calculator/kamxotjra2\" , 400 , 400)"
   ]
  },
  {
   "cell_type": "markdown",
   "id": "4deb2efc",
   "metadata": {
    "papermill": {
     "duration": 0.029265,
     "end_time": "2023-04-16T14:31:40.408177",
     "exception": false,
     "start_time": "2023-04-16T14:31:40.378912",
     "status": "completed"
    },
    "tags": []
   },
   "source": [
    "But there is a problem with this function. A `modulus` is not diffrentiable. You might be thinking that why are we even seeing that part, like we we care for that. Why would you even diffrentiate a loss function. \n",
    "\n",
    "We actually diffrentiate loss function in further steps, thats why we will not use the modulus function. \n",
    "\n",
    "Another way of doing so is to, square the loss function like this $Loss = (y - \\hat y)^2$\n",
    "\n",
    "Its cool, its good and we can even diffrentiate this...\n",
    "\n",
    "Now we have a basic idea that we need to compute `m` and `b` for the lowest loss values. Now we should come to know how we can do this \n",
    "\n",
    "What if we somehow interelate the `losses` and `m and b`. \n",
    "\n",
    "Lets assume we intialize the parameters randomly, like this "
   ]
  },
  {
   "cell_type": "code",
   "execution_count": 15,
   "id": "5384a3d3",
   "metadata": {
    "execution": {
     "iopub.execute_input": "2023-04-16T14:31:40.469375Z",
     "iopub.status.busy": "2023-04-16T14:31:40.468941Z",
     "iopub.status.idle": "2023-04-16T14:31:40.473945Z",
     "shell.execute_reply": "2023-04-16T14:31:40.473033Z"
    },
    "papermill": {
     "duration": 0.038598,
     "end_time": "2023-04-16T14:31:40.476222",
     "exception": false,
     "start_time": "2023-04-16T14:31:40.437624",
     "status": "completed"
    },
    "tags": []
   },
   "outputs": [],
   "source": [
    "weights = np.random.randn(1)"
   ]
  },
  {
   "cell_type": "code",
   "execution_count": 16,
   "id": "7a2b87ce",
   "metadata": {
    "execution": {
     "iopub.execute_input": "2023-04-16T14:31:40.537626Z",
     "iopub.status.busy": "2023-04-16T14:31:40.536974Z",
     "iopub.status.idle": "2023-04-16T14:31:40.543056Z",
     "shell.execute_reply": "2023-04-16T14:31:40.542239Z"
    },
    "papermill": {
     "duration": 0.039544,
     "end_time": "2023-04-16T14:31:40.545567",
     "exception": false,
     "start_time": "2023-04-16T14:31:40.506023",
     "status": "completed"
    },
    "tags": []
   },
   "outputs": [
    {
     "data": {
      "text/plain": [
       "array([0.01709843])"
      ]
     },
     "execution_count": 16,
     "metadata": {},
     "output_type": "execute_result"
    }
   ],
   "source": [
    "weights"
   ]
  },
  {
   "cell_type": "code",
   "execution_count": 17,
   "id": "66473508",
   "metadata": {
    "execution": {
     "iopub.execute_input": "2023-04-16T14:31:40.608843Z",
     "iopub.status.busy": "2023-04-16T14:31:40.608079Z",
     "iopub.status.idle": "2023-04-16T14:31:40.612875Z",
     "shell.execute_reply": "2023-04-16T14:31:40.611938Z"
    },
    "papermill": {
     "duration": 0.038888,
     "end_time": "2023-04-16T14:31:40.615205",
     "exception": false,
     "start_time": "2023-04-16T14:31:40.576317",
     "status": "completed"
    },
    "tags": []
   },
   "outputs": [],
   "source": [
    "biases = np.random.randn(1)"
   ]
  },
  {
   "cell_type": "code",
   "execution_count": 18,
   "id": "b9f89eeb",
   "metadata": {
    "execution": {
     "iopub.execute_input": "2023-04-16T14:31:40.677964Z",
     "iopub.status.busy": "2023-04-16T14:31:40.677333Z",
     "iopub.status.idle": "2023-04-16T14:31:40.684171Z",
     "shell.execute_reply": "2023-04-16T14:31:40.683086Z"
    },
    "papermill": {
     "duration": 0.04056,
     "end_time": "2023-04-16T14:31:40.686379",
     "exception": false,
     "start_time": "2023-04-16T14:31:40.645819",
     "status": "completed"
    },
    "tags": []
   },
   "outputs": [
    {
     "data": {
      "text/plain": [
       "array([-0.08193813])"
      ]
     },
     "execution_count": 18,
     "metadata": {},
     "output_type": "execute_result"
    }
   ],
   "source": [
    "biases"
   ]
  },
  {
   "cell_type": "markdown",
   "id": "e38cce4d",
   "metadata": {
    "papermill": {
     "duration": 0.029338,
     "end_time": "2023-04-16T14:31:40.745069",
     "exception": false,
     "start_time": "2023-04-16T14:31:40.715731",
     "status": "completed"
    },
    "tags": []
   },
   "source": [
    "Lets assume we have this value $30$ and we want to predict the corresponding value of this in the `target` array. As our formula says, put the values into this equation $y = mx + b$. or $y = (1.41)(29) + (1.59)$"
   ]
  },
  {
   "cell_type": "code",
   "execution_count": 19,
   "id": "b0e113bb",
   "metadata": {
    "execution": {
     "iopub.execute_input": "2023-04-16T14:31:40.805883Z",
     "iopub.status.busy": "2023-04-16T14:31:40.805488Z",
     "iopub.status.idle": "2023-04-16T14:31:40.810154Z",
     "shell.execute_reply": "2023-04-16T14:31:40.809247Z"
    },
    "papermill": {
     "duration": 0.038169,
     "end_time": "2023-04-16T14:31:40.812632",
     "exception": false,
     "start_time": "2023-04-16T14:31:40.774463",
     "status": "completed"
    },
    "tags": []
   },
   "outputs": [],
   "source": [
    "pred = weights * 30 + biases"
   ]
  },
  {
   "cell_type": "code",
   "execution_count": 20,
   "id": "e371c5d2",
   "metadata": {
    "execution": {
     "iopub.execute_input": "2023-04-16T14:31:40.873815Z",
     "iopub.status.busy": "2023-04-16T14:31:40.873396Z",
     "iopub.status.idle": "2023-04-16T14:31:40.880644Z",
     "shell.execute_reply": "2023-04-16T14:31:40.879292Z"
    },
    "papermill": {
     "duration": 0.041107,
     "end_time": "2023-04-16T14:31:40.883215",
     "exception": false,
     "start_time": "2023-04-16T14:31:40.842108",
     "status": "completed"
    },
    "tags": []
   },
   "outputs": [
    {
     "data": {
      "text/plain": [
       "array([0.43101466])"
      ]
     },
     "execution_count": 20,
     "metadata": {},
     "output_type": "execute_result"
    }
   ],
   "source": [
    "pred"
   ]
  },
  {
   "cell_type": "markdown",
   "id": "24c4ded4",
   "metadata": {
    "papermill": {
     "duration": 0.029025,
     "end_time": "2023-04-16T14:31:40.942353",
     "exception": false,
     "start_time": "2023-04-16T14:31:40.913328",
     "status": "completed"
    },
    "tags": []
   },
   "source": [
    "And its way far than what we had expected. "
   ]
  },
  {
   "cell_type": "code",
   "execution_count": 21,
   "id": "33b764fe",
   "metadata": {
    "execution": {
     "iopub.execute_input": "2023-04-16T14:31:41.003007Z",
     "iopub.status.busy": "2023-04-16T14:31:41.002584Z",
     "iopub.status.idle": "2023-04-16T14:31:41.007786Z",
     "shell.execute_reply": "2023-04-16T14:31:41.006750Z"
    },
    "papermill": {
     "duration": 0.038347,
     "end_time": "2023-04-16T14:31:41.009966",
     "exception": false,
     "start_time": "2023-04-16T14:31:40.971619",
     "status": "completed"
    },
    "tags": []
   },
   "outputs": [],
   "source": [
    "loss = (pred - 60)"
   ]
  },
  {
   "cell_type": "code",
   "execution_count": 22,
   "id": "8e948c62",
   "metadata": {
    "execution": {
     "iopub.execute_input": "2023-04-16T14:31:41.070896Z",
     "iopub.status.busy": "2023-04-16T14:31:41.070453Z",
     "iopub.status.idle": "2023-04-16T14:31:41.078007Z",
     "shell.execute_reply": "2023-04-16T14:31:41.076686Z"
    },
    "papermill": {
     "duration": 0.04131,
     "end_time": "2023-04-16T14:31:41.080660",
     "exception": false,
     "start_time": "2023-04-16T14:31:41.039350",
     "status": "completed"
    },
    "tags": []
   },
   "outputs": [
    {
     "data": {
      "text/plain": [
       "array([-59.56898534])"
      ]
     },
     "execution_count": 22,
     "metadata": {},
     "output_type": "execute_result"
    }
   ],
   "source": [
    "loss"
   ]
  },
  {
   "cell_type": "markdown",
   "id": "f1ae4004",
   "metadata": {
    "papermill": {
     "duration": 0.029941,
     "end_time": "2023-04-16T14:31:41.140602",
     "exception": false,
     "start_time": "2023-04-16T14:31:41.110661",
     "status": "completed"
    },
    "tags": []
   },
   "source": [
    "Our main motive is to reduce this loss as much as possible,. \n",
    "\n",
    "What if we subtract a small subset of the derivative of this loss from the parameters like this. The derivative of the loss will show us the steepness of the curve, and thus doing so might get us to the valeus of minimum loss. So how do we find the derivative of this function $Loss = (y - \\hat y)^2$. What we know is $\\hat y = mx + b$. COmputing this value in we get $$Loss = (y - mx - b)^2$$, Now we can diffrentiate the function\n",
    "\n",
    "## Diffrentiating wrt `b`\n",
    "$$\\frac {dLoss}{db}= \\frac {d}{db}(y - mx - b)^2$$\n",
    "$$= 2(y - mx - b)(-1)$$\n",
    "\n",
    "## Diffrentiating wrt `m`\n",
    "$$\\frac {dLoss}{dm} = \\frac {d}{dm}(y - mx - b)^2$$\n",
    "$$= 2(y - mx - b)(-x)$$"
   ]
  },
  {
   "cell_type": "code",
   "execution_count": 23,
   "id": "0fcce51c",
   "metadata": {
    "execution": {
     "iopub.execute_input": "2023-04-16T14:31:41.202292Z",
     "iopub.status.busy": "2023-04-16T14:31:41.201878Z",
     "iopub.status.idle": "2023-04-16T14:31:41.207339Z",
     "shell.execute_reply": "2023-04-16T14:31:41.206150Z"
    },
    "papermill": {
     "duration": 0.039054,
     "end_time": "2023-04-16T14:31:41.209586",
     "exception": false,
     "start_time": "2023-04-16T14:31:41.170532",
     "status": "completed"
    },
    "tags": []
   },
   "outputs": [],
   "source": [
    "weights -= (-2* (60 - weights*30 - biases)) * 0.001"
   ]
  },
  {
   "cell_type": "code",
   "execution_count": 24,
   "id": "f4c996b6",
   "metadata": {
    "execution": {
     "iopub.execute_input": "2023-04-16T14:31:41.273128Z",
     "iopub.status.busy": "2023-04-16T14:31:41.272687Z",
     "iopub.status.idle": "2023-04-16T14:31:41.277983Z",
     "shell.execute_reply": "2023-04-16T14:31:41.276916Z"
    },
    "papermill": {
     "duration": 0.039508,
     "end_time": "2023-04-16T14:31:41.280205",
     "exception": false,
     "start_time": "2023-04-16T14:31:41.240697",
     "status": "completed"
    },
    "tags": []
   },
   "outputs": [],
   "source": [
    "biases -= (2 * 30 * (60 - weights * 30 - biases)) * 0.01"
   ]
  },
  {
   "cell_type": "markdown",
   "id": "1396f627",
   "metadata": {
    "papermill": {
     "duration": 0.02958,
     "end_time": "2023-04-16T14:31:41.339937",
     "exception": false,
     "start_time": "2023-04-16T14:31:41.310357",
     "status": "completed"
    },
    "tags": []
   },
   "source": [
    "And if we then try to predict the values "
   ]
  },
  {
   "cell_type": "code",
   "execution_count": 25,
   "id": "8dff4e7d",
   "metadata": {
    "execution": {
     "iopub.execute_input": "2023-04-16T14:31:41.401009Z",
     "iopub.status.busy": "2023-04-16T14:31:41.400612Z",
     "iopub.status.idle": "2023-04-16T14:31:41.410050Z",
     "shell.execute_reply": "2023-04-16T14:31:41.408603Z"
    },
    "papermill": {
     "duration": 0.043124,
     "end_time": "2023-04-16T14:31:41.412803",
     "exception": false,
     "start_time": "2023-04-16T14:31:41.369679",
     "status": "completed"
    },
    "tags": []
   },
   "outputs": [
    {
     "name": "stdout",
     "output_type": "stream",
     "text": [
      "[0.1362364]\n",
      "[-33.67884586]\n"
     ]
    },
    {
     "data": {
      "text/plain": [
       "array([89.59175395])"
      ]
     },
     "execution_count": 25,
     "metadata": {},
     "output_type": "execute_result"
    }
   ],
   "source": [
    "print(weights)\n",
    "print(biases)\n",
    "loss = (60 - (weights * 30 + biases))\n",
    "loss"
   ]
  },
  {
   "cell_type": "markdown",
   "id": "9b4f7c08",
   "metadata": {
    "papermill": {
     "duration": 0.029613,
     "end_time": "2023-04-16T14:31:41.472622",
     "exception": false,
     "start_time": "2023-04-16T14:31:41.443009",
     "status": "completed"
    },
    "tags": []
   },
   "source": [
    "Our losses have been decreased, so lets do it again "
   ]
  },
  {
   "cell_type": "code",
   "execution_count": 26,
   "id": "823f1bc9",
   "metadata": {
    "execution": {
     "iopub.execute_input": "2023-04-16T14:31:41.534634Z",
     "iopub.status.busy": "2023-04-16T14:31:41.534196Z",
     "iopub.status.idle": "2023-04-16T14:31:41.542436Z",
     "shell.execute_reply": "2023-04-16T14:31:41.541469Z"
    },
    "papermill": {
     "duration": 0.042457,
     "end_time": "2023-04-16T14:31:41.545135",
     "exception": false,
     "start_time": "2023-04-16T14:31:41.502678",
     "status": "completed"
    },
    "tags": []
   },
   "outputs": [
    {
     "name": "stdout",
     "output_type": "stream",
     "text": [
      "[1.92807148]\n",
      "[20.07620651]\n"
     ]
    },
    {
     "data": {
      "text/plain": [
       "array([-17.91835079])"
      ]
     },
     "execution_count": 26,
     "metadata": {},
     "output_type": "execute_result"
    }
   ],
   "source": [
    "weights -= -2 * loss * 0.01\n",
    "biases -= -2 * 30 * loss * 0.01\n",
    "print(weights)\n",
    "print(biases)\n",
    "loss = (60 - (weights * 30 + biases))\n",
    "loss"
   ]
  },
  {
   "cell_type": "code",
   "execution_count": 27,
   "id": "9cacf15d",
   "metadata": {
    "execution": {
     "iopub.execute_input": "2023-04-16T14:31:41.609037Z",
     "iopub.status.busy": "2023-04-16T14:31:41.608480Z",
     "iopub.status.idle": "2023-04-16T14:31:41.617728Z",
     "shell.execute_reply": "2023-04-16T14:31:41.616663Z"
    },
    "papermill": {
     "duration": 0.044012,
     "end_time": "2023-04-16T14:31:41.620500",
     "exception": false,
     "start_time": "2023-04-16T14:31:41.576488",
     "status": "completed"
    },
    "tags": []
   },
   "outputs": [
    {
     "name": "stdout",
     "output_type": "stream",
     "text": [
      "[1.56970446]\n",
      "[9.32519604]\n"
     ]
    },
    {
     "data": {
      "text/plain": [
       "array([3.58367016])"
      ]
     },
     "execution_count": 27,
     "metadata": {},
     "output_type": "execute_result"
    }
   ],
   "source": [
    "weights -= -2 * loss * 0.01\n",
    "biases -= -2 * 30 * loss * 0.01\n",
    "print(weights)\n",
    "print(biases)\n",
    "loss = (60 - (weights * 30 + biases))\n",
    "loss"
   ]
  },
  {
   "cell_type": "markdown",
   "id": "7c979500",
   "metadata": {
    "papermill": {
     "duration": 0.031096,
     "end_time": "2023-04-16T14:31:41.683802",
     "exception": false,
     "start_time": "2023-04-16T14:31:41.652706",
     "status": "completed"
    },
    "tags": []
   },
   "source": [
    "So now we know if we do this iteratively, we will minimise the loss, and iteratively we will reach the optimal values of `weights` or `m` and `biases` or `m`\n",
    "\n",
    "Lets say we have runn this again and again for around 100 times "
   ]
  },
  {
   "cell_type": "code",
   "execution_count": 28,
   "id": "ee095ddf",
   "metadata": {
    "execution": {
     "iopub.execute_input": "2023-04-16T14:31:41.748324Z",
     "iopub.status.busy": "2023-04-16T14:31:41.747855Z",
     "iopub.status.idle": "2023-04-16T14:31:41.755235Z",
     "shell.execute_reply": "2023-04-16T14:31:41.753960Z"
    },
    "papermill": {
     "duration": 0.042271,
     "end_time": "2023-04-16T14:31:41.757512",
     "exception": false,
     "start_time": "2023-04-16T14:31:41.715241",
     "status": "completed"
    },
    "tags": []
   },
   "outputs": [],
   "source": [
    "for _ in range(100):\n",
    "    weights -= -2 * loss * 0.01\n",
    "    biases -= -2 * 30 * loss * 0.01\n",
    "    loss = (60 - (weights * 30 + biases))"
   ]
  },
  {
   "cell_type": "markdown",
   "id": "e7b3f0dc",
   "metadata": {
    "papermill": {
     "duration": 0.030259,
     "end_time": "2023-04-16T14:31:41.819205",
     "exception": false,
     "start_time": "2023-04-16T14:31:41.788946",
     "status": "completed"
    },
    "tags": []
   },
   "source": [
    "Lets now see the weights and biases "
   ]
  },
  {
   "cell_type": "code",
   "execution_count": 29,
   "id": "26f1970f",
   "metadata": {
    "execution": {
     "iopub.execute_input": "2023-04-16T14:31:41.882617Z",
     "iopub.status.busy": "2023-04-16T14:31:41.882180Z",
     "iopub.status.idle": "2023-04-16T14:31:41.889946Z",
     "shell.execute_reply": "2023-04-16T14:31:41.888824Z"
    },
    "papermill": {
     "duration": 0.042522,
     "end_time": "2023-04-16T14:31:41.892504",
     "exception": false,
     "start_time": "2023-04-16T14:31:41.849982",
     "status": "completed"
    },
    "tags": []
   },
   "outputs": [
    {
     "data": {
      "text/plain": [
       "array([1.6294323])"
      ]
     },
     "execution_count": 29,
     "metadata": {},
     "output_type": "execute_result"
    }
   ],
   "source": [
    "weights"
   ]
  },
  {
   "cell_type": "code",
   "execution_count": 30,
   "id": "147d5f8a",
   "metadata": {
    "execution": {
     "iopub.execute_input": "2023-04-16T14:31:41.962587Z",
     "iopub.status.busy": "2023-04-16T14:31:41.962164Z",
     "iopub.status.idle": "2023-04-16T14:31:41.969246Z",
     "shell.execute_reply": "2023-04-16T14:31:41.968068Z"
    },
    "papermill": {
     "duration": 0.047653,
     "end_time": "2023-04-16T14:31:41.971504",
     "exception": false,
     "start_time": "2023-04-16T14:31:41.923851",
     "status": "completed"
    },
    "tags": []
   },
   "outputs": [
    {
     "data": {
      "text/plain": [
       "array([11.11703112])"
      ]
     },
     "execution_count": 30,
     "metadata": {},
     "output_type": "execute_result"
    }
   ],
   "source": [
    "biases"
   ]
  },
  {
   "cell_type": "markdown",
   "id": "d6969f79",
   "metadata": {
    "papermill": {
     "duration": 0.031153,
     "end_time": "2023-04-16T14:31:42.034748",
     "exception": false,
     "start_time": "2023-04-16T14:31:42.003595",
     "status": "completed"
    },
    "tags": []
   },
   "source": [
    "Though we have biases as high, but we have almost achived value of `weights`\n",
    "\n",
    "Lets do this all again, and now we will also try to plot a graph"
   ]
  },
  {
   "cell_type": "code",
   "execution_count": 31,
   "id": "3e8fed61",
   "metadata": {
    "execution": {
     "iopub.execute_input": "2023-04-16T14:31:42.099648Z",
     "iopub.status.busy": "2023-04-16T14:31:42.099046Z",
     "iopub.status.idle": "2023-04-16T14:31:42.106965Z",
     "shell.execute_reply": "2023-04-16T14:31:42.105910Z"
    },
    "papermill": {
     "duration": 0.042703,
     "end_time": "2023-04-16T14:31:42.109338",
     "exception": false,
     "start_time": "2023-04-16T14:31:42.066635",
     "status": "completed"
    },
    "tags": []
   },
   "outputs": [],
   "source": [
    "weights = abs(np.random.randn(1))\n",
    "biases = abs(np.random.randn(1))\n",
    "losses = []\n",
    "for _ in range(100):\n",
    "    weights -= -2 * loss * 0.01\n",
    "    biases -= -2 * 30 * loss * 0.01\n",
    "    loss = (60 - (weights * 30 + biases))\n",
    "    losses.append(loss)"
   ]
  },
  {
   "cell_type": "code",
   "execution_count": 32,
   "id": "d90ff974",
   "metadata": {
    "execution": {
     "iopub.execute_input": "2023-04-16T14:31:42.174314Z",
     "iopub.status.busy": "2023-04-16T14:31:42.173863Z",
     "iopub.status.idle": "2023-04-16T14:31:42.473914Z",
     "shell.execute_reply": "2023-04-16T14:31:42.472618Z"
    },
    "papermill": {
     "duration": 0.334834,
     "end_time": "2023-04-16T14:31:42.476558",
     "exception": false,
     "start_time": "2023-04-16T14:31:42.141724",
     "status": "completed"
    },
    "tags": []
   },
   "outputs": [
    {
     "data": {
      "text/plain": [
       "<AxesSubplot:>"
      ]
     },
     "execution_count": 32,
     "metadata": {},
     "output_type": "execute_result"
    },
    {
     "data": {
      "image/png": "[encoded data removed]",
      "text/plain": [
       "<Figure size 640x480 with 1 Axes>"
      ]
     },
     "metadata": {},
     "output_type": "display_data"
    }
   ],
   "source": [
    "sns.lineplot(np.array(losses))"
   ]
  },
  {
   "cell_type": "markdown",
   "id": "cf8c6b93",
   "metadata": {
    "papermill": {
     "duration": 0.030451,
     "end_time": "2023-04-16T14:31:42.537760",
     "exception": false,
     "start_time": "2023-04-16T14:31:42.507309",
     "status": "completed"
    },
    "tags": []
   },
   "source": [
    "As we can see we have greatly decreased our losses "
   ]
  },
  {
   "cell_type": "markdown",
   "id": "9a047894",
   "metadata": {
    "papermill": {
     "duration": 0.030449,
     "end_time": "2023-04-16T14:31:42.599727",
     "exception": false,
     "start_time": "2023-04-16T14:31:42.569278",
     "status": "completed"
    },
    "tags": []
   },
   "source": [
    "Now we just need to put this all into a function "
   ]
  },
  {
   "cell_type": "code",
   "execution_count": 33,
   "id": "84b8e77e",
   "metadata": {
    "execution": {
     "iopub.execute_input": "2023-04-16T14:31:42.664224Z",
     "iopub.status.busy": "2023-04-16T14:31:42.662992Z",
     "iopub.status.idle": "2023-04-16T14:31:42.670949Z",
     "shell.execute_reply": "2023-04-16T14:31:42.669686Z"
    },
    "papermill": {
     "duration": 0.04269,
     "end_time": "2023-04-16T14:31:42.673419",
     "exception": false,
     "start_time": "2023-04-16T14:31:42.630729",
     "status": "completed"
    },
    "tags": []
   },
   "outputs": [],
   "source": [
    "def SGDRegressor():\n",
    "    weights = abs(np.random.randn(1))\n",
    "    biases = abs(np.random.randn(1))\n",
    "    predic = []\n",
    "    losses = []\n",
    "    for _ in range(300):\n",
    "        pred = weights * features + biases\n",
    "        loss = np.sum((pred - target) ** 2)\n",
    "        losses.append(loss)\n",
    "        weights -= -2 * loss * 0.01\n",
    "        biases -= -2 * 30 * loss * 0.01\n",
    "\n",
    "    return weights , biases"
   ]
  },
  {
   "cell_type": "markdown",
   "id": "1f586fbd",
   "metadata": {
    "papermill": {
     "duration": 0.030205,
     "end_time": "2023-04-16T14:31:42.734276",
     "exception": false,
     "start_time": "2023-04-16T14:31:42.704071",
     "status": "completed"
    },
    "tags": []
   },
   "source": [
    "# 3 | Functionalities\n",
    "We have made out our **SGDRegressor**, now we need to add some functionalities to it. We can get funcitonalites form **[Scikit-Learn](https://scikit-learn.org/)=>[Stable](https://scikit-learn.org/stable/)=>[Linear Model](https://scikit-learn.org/stable/modules/linear_model.html)=>[SGD Regressor](https://scikit-learn.org/stable/modules/generated/sklearn.linear_model.SGDRegressor.html)**\n",
    "\n",
    "* ✅List Of columns\n",
    "* ✅`loss : str, default=’squared_error’` - The loss function to be used. The possible values are `‘squared_error’`, `‘huber’`, `‘epsilon_insensitive’`, or `‘squared_epsilon_insensitive’`. \n",
    "* * ✅The `‘squared_error’` refers to the ordinary least squares fit. \n",
    "* * ✅`‘huber’` modifies `‘squared_error’` to focus less on getting outliers correct by switching from squared to linear loss past a distance of `epsilon`. \n",
    "* * ✅`‘epsilon_insensitive’` ignores errors less than epsilon and is linear past that; this is the loss function used in SVR. `‘squared_epsilon_insensitive’` is the same but becomes squared loss past a tolerance of epsilon.\n",
    "* ✅`alpha : float, default=0.0001` - Constant that multiplies the regularization term. The higher the value, the stronger the regularization. Also used to compute the learning rate when set to `learning_rate` is set to ‘optimal’.\n",
    "* ✅`fit_intercept : bool, default=True` - Whether the intercept should be estimated or not. If False, the data is assumed to be already centered.\n",
    "* ✅`max_iter : int, default=1000` - The maximum number of passes over the training data (aka epochs). It only impacts the behavior in the fit method, and not the `partial_fit` method.\n",
    "* ✅`shuffle : bool, default=True` - Whether or not the training data should be shuffled after each epoch.\n",
    "* ✅`epsilon : float, default=0.1` - Epsilon in the epsilon-insensitive loss functions; only if `loss` is ‘huber’, ‘epsilon_insensitive’, or ‘squared_epsilon_insensitive’. For ‘huber’, determines the threshold at which it becomes less important to get the prediction exactly right. For epsilon-insensitive, any differences between the current prediction and the correct label are ignored if they are less than this threshold.\n",
    "* ✅`early_stopping : bool, default=False` - Whether to use early stopping to terminate training when validation score is not improving. If set to True, it will automatically set aside a fraction of training data as validation and terminate training when validation score returned by the score method is not improving by at least tol for n_iter_no_change consecutive epochs.\n",
    "* ✅`validation_fraction : float, default=0.1` - The proportion of training data to set aside as validation set for early stopping. Must be between 0 and 1. Only used if `early_stopping` is True."
   ]
  },
  {
   "cell_type": "markdown",
   "id": "ef7483e5",
   "metadata": {
    "papermill": {
     "duration": 0.031051,
     "end_time": "2023-04-16T14:31:42.797318",
     "exception": false,
     "start_time": "2023-04-16T14:31:42.766267",
     "status": "completed"
    },
    "tags": []
   },
   "source": [
    "# 3.1 | List Of Columns \n",
    "\n",
    "This function will only work if there are only $2$ columns, one `feature` and the other one `target`. What if the user gives out a list of columns. For this we nee dto take two different arguemnts form the user and work on them differently"
   ]
  },
  {
   "cell_type": "code",
   "execution_count": 34,
   "id": "3fd47fbc",
   "metadata": {
    "execution": {
     "iopub.execute_input": "2023-04-16T14:31:42.860762Z",
     "iopub.status.busy": "2023-04-16T14:31:42.860358Z",
     "iopub.status.idle": "2023-04-16T14:31:42.867963Z",
     "shell.execute_reply": "2023-04-16T14:31:42.866565Z"
    },
    "papermill": {
     "duration": 0.042543,
     "end_time": "2023-04-16T14:31:42.870412",
     "exception": false,
     "start_time": "2023-04-16T14:31:42.827869",
     "status": "completed"
    },
    "tags": []
   },
   "outputs": [],
   "source": [
    "def SGDRegressor(X , y):\n",
    "    \n",
    "    weights = abs(np.random.randn(X.shape[0]))\n",
    "    biases = abs(np.random.randn(1))\n",
    "    \n",
    "    predic = []\n",
    "    losses = []\n",
    "    \n",
    "    for _ in range(300):\n",
    "    \n",
    "        pred = weights * features + biases\n",
    "        \n",
    "        loss = np.sum((pred - y) ** 2)\n",
    "        losses.append(loss)\n",
    "        \n",
    "        weights -= -2 * loss * 0.01\n",
    "        biases -= -2 * 30 * loss * 0.01\n",
    "\n",
    "    return weights , biases"
   ]
  },
  {
   "cell_type": "markdown",
   "id": "da7af087",
   "metadata": {
    "papermill": {
     "duration": 0.030407,
     "end_time": "2023-04-16T14:31:42.931393",
     "exception": false,
     "start_time": "2023-04-16T14:31:42.900986",
     "status": "completed"
    },
    "tags": []
   },
   "source": [
    "# 3.2 | Losses \n",
    "\n",
    "First of all we need to understand more about losses. \n",
    "\n",
    "# 3.2.1 | Squared Loss\n",
    "\n",
    "* * `squared_loss` - is just the loss we just created which is also called `Ordinary Least Sqaures`. which we had already implemented. for making it more easieir to use, lets just use a helper function, and just transfer some things there "
   ]
  },
  {
   "cell_type": "code",
   "execution_count": 35,
   "id": "eaef7ffa",
   "metadata": {
    "execution": {
     "iopub.execute_input": "2023-04-16T14:31:42.995497Z",
     "iopub.status.busy": "2023-04-16T14:31:42.995048Z",
     "iopub.status.idle": "2023-04-16T14:31:43.003017Z",
     "shell.execute_reply": "2023-04-16T14:31:43.001854Z"
    },
    "papermill": {
     "duration": 0.043001,
     "end_time": "2023-04-16T14:31:43.005528",
     "exception": false,
     "start_time": "2023-04-16T14:31:42.962527",
     "status": "completed"
    },
    "tags": []
   },
   "outputs": [],
   "source": [
    "squared_mean = lambda predictions , actuals : np.sum((predictions - actual) ** 2)\n",
    "\n",
    "def SGDRegressor(X , y):\n",
    "    \n",
    "    weights = abs(np.random.randn(X.shape[0]))\n",
    "    biases = abs(np.random.randn(1))\n",
    "    \n",
    "    predic = []\n",
    "    losses = []\n",
    "    \n",
    "    for _ in range(300):\n",
    "    \n",
    "        pred = weights * features + biases\n",
    "        \n",
    "        loss = squared_mean(pred , y)\n",
    "        losses.append(loss)\n",
    "        \n",
    "        weights -= -2 * loss * 0.01\n",
    "        biases -= -2 * 30 * loss * 0.01\n",
    "\n",
    "    return weights , biases"
   ]
  },
  {
   "cell_type": "markdown",
   "id": "32874325",
   "metadata": {
    "papermill": {
     "duration": 0.03028,
     "end_time": "2023-04-16T14:31:43.066780",
     "exception": false,
     "start_time": "2023-04-16T14:31:43.036500",
     "status": "completed"
    },
    "tags": []
   },
   "source": [
    "Now it will be easier to use different tyoes of losses, now we will just need to define the loss functions and define which one to use.\n",
    "\n",
    "# 3.2.2 | Huber Loss\n",
    "\n",
    "Our second one is `huber`. So what is this huber loss...?\n",
    " \n",
    "Lets assume we have a data like this  "
   ]
  },
  {
   "cell_type": "code",
   "execution_count": 36,
   "id": "c13b1d33",
   "metadata": {
    "execution": {
     "iopub.execute_input": "2023-04-16T14:31:43.130360Z",
     "iopub.status.busy": "2023-04-16T14:31:43.129941Z",
     "iopub.status.idle": "2023-04-16T14:31:43.136769Z",
     "shell.execute_reply": "2023-04-16T14:31:43.135509Z"
    },
    "papermill": {
     "duration": 0.042173,
     "end_time": "2023-04-16T14:31:43.139591",
     "exception": false,
     "start_time": "2023-04-16T14:31:43.097418",
     "status": "completed"
    },
    "tags": []
   },
   "outputs": [],
   "source": [
    "features = np.array([x for x in range(20)])\n",
    "target = []\n",
    "for i in range(20):\n",
    "    if i < 4 : \n",
    "        target.append(i ** (1 / 10))\n",
    "    else : \n",
    "        target.append(i ** (1 / 2))\n",
    "target = np.array(target)"
   ]
  },
  {
   "cell_type": "code",
   "execution_count": 37,
   "id": "3c959eb0",
   "metadata": {
    "execution": {
     "iopub.execute_input": "2023-04-16T14:31:43.204170Z",
     "iopub.status.busy": "2023-04-16T14:31:43.203725Z",
     "iopub.status.idle": "2023-04-16T14:31:43.210901Z",
     "shell.execute_reply": "2023-04-16T14:31:43.209805Z"
    },
    "papermill": {
     "duration": 0.042015,
     "end_time": "2023-04-16T14:31:43.213471",
     "exception": false,
     "start_time": "2023-04-16T14:31:43.171456",
     "status": "completed"
    },
    "tags": []
   },
   "outputs": [
    {
     "data": {
      "text/plain": [
       "array([ 0,  1,  2,  3,  4,  5,  6,  7,  8,  9, 10, 11, 12, 13, 14, 15, 16,\n",
       "       17, 18, 19])"
      ]
     },
     "execution_count": 37,
     "metadata": {},
     "output_type": "execute_result"
    }
   ],
   "source": [
    "features"
   ]
  },
  {
   "cell_type": "code",
   "execution_count": 38,
   "id": "5a72c15e",
   "metadata": {
    "execution": {
     "iopub.execute_input": "2023-04-16T14:31:43.277573Z",
     "iopub.status.busy": "2023-04-16T14:31:43.277169Z",
     "iopub.status.idle": "2023-04-16T14:31:43.284079Z",
     "shell.execute_reply": "2023-04-16T14:31:43.282830Z"
    },
    "papermill": {
     "duration": 0.042184,
     "end_time": "2023-04-16T14:31:43.286390",
     "exception": false,
     "start_time": "2023-04-16T14:31:43.244206",
     "status": "completed"
    },
    "tags": []
   },
   "outputs": [
    {
     "data": {
      "text/plain": [
       "array([0.        , 1.        , 1.07177346, 1.11612317, 2.        ,\n",
       "       2.23606798, 2.44948974, 2.64575131, 2.82842712, 3.        ,\n",
       "       3.16227766, 3.31662479, 3.46410162, 3.60555128, 3.74165739,\n",
       "       3.87298335, 4.        , 4.12310563, 4.24264069, 4.35889894])"
      ]
     },
     "execution_count": 38,
     "metadata": {},
     "output_type": "execute_result"
    }
   ],
   "source": [
    "target"
   ]
  },
  {
   "cell_type": "markdown",
   "id": "129dc014",
   "metadata": {
    "papermill": {
     "duration": 0.03011,
     "end_time": "2023-04-16T14:31:43.347141",
     "exception": false,
     "start_time": "2023-04-16T14:31:43.317031",
     "status": "completed"
    },
    "tags": []
   },
   "source": [
    "If we try to plot this, we get this "
   ]
  },
  {
   "cell_type": "code",
   "execution_count": 39,
   "id": "4ee61aa5",
   "metadata": {
    "execution": {
     "iopub.execute_input": "2023-04-16T14:31:43.410678Z",
     "iopub.status.busy": "2023-04-16T14:31:43.410245Z",
     "iopub.status.idle": "2023-04-16T14:31:43.645551Z",
     "shell.execute_reply": "2023-04-16T14:31:43.644015Z"
    },
    "papermill": {
     "duration": 0.270311,
     "end_time": "2023-04-16T14:31:43.648333",
     "exception": false,
     "start_time": "2023-04-16T14:31:43.378022",
     "status": "completed"
    },
    "tags": []
   },
   "outputs": [
    {
     "data": {
      "text/plain": [
       "<matplotlib.collections.PathCollection at 0x73e4ea0c16d0>"
      ]
     },
     "execution_count": 39,
     "metadata": {},
     "output_type": "execute_result"
    },
    {
     "data": {
      "image/png": "[encoded data removed]",
      "text/plain": [
       "<Figure size 640x480 with 1 Axes>"
      ]
     },
     "metadata": {},
     "output_type": "display_data"
    }
   ],
   "source": [
    "plt.scatter(features , target)"
   ]
  },
  {
   "cell_type": "markdown",
   "id": "2f7c3698",
   "metadata": {
    "papermill": {
     "duration": 0.031155,
     "end_time": "2023-04-16T14:31:43.711208",
     "exception": false,
     "start_time": "2023-04-16T14:31:43.680053",
     "status": "completed"
    },
    "tags": []
   },
   "source": [
    "If we try to plot a line that fits thew best for this line, we can do something like this "
   ]
  },
  {
   "cell_type": "code",
   "execution_count": 40,
   "id": "b2e7920c",
   "metadata": {
    "execution": {
     "iopub.execute_input": "2023-04-16T14:31:43.776199Z",
     "iopub.status.busy": "2023-04-16T14:31:43.775709Z",
     "iopub.status.idle": "2023-04-16T14:31:44.013611Z",
     "shell.execute_reply": "2023-04-16T14:31:44.012116Z"
    },
    "papermill": {
     "duration": 0.274042,
     "end_time": "2023-04-16T14:31:44.016544",
     "exception": false,
     "start_time": "2023-04-16T14:31:43.742502",
     "status": "completed"
    },
    "tags": []
   },
   "outputs": [
    {
     "data": {
      "text/plain": [
       "[<matplotlib.lines.Line2D at 0x73e4ea05cbd0>]"
      ]
     },
     "execution_count": 40,
     "metadata": {},
     "output_type": "execute_result"
    },
    {
     "data": {
      "image/png": "[encoded data removed]",
      "text/plain": [
       "<Figure size 640x480 with 1 Axes>"
      ]
     },
     "metadata": {},
     "output_type": "display_data"
    }
   ],
   "source": [
    "plt.scatter(features , target)\n",
    "plt.plot([0 , 18] , [0, 4.5] , \"yellow\")"
   ]
  },
  {
   "cell_type": "markdown",
   "id": "43f44297",
   "metadata": {
    "papermill": {
     "duration": 0.031346,
     "end_time": "2023-04-16T14:31:44.079979",
     "exception": false,
     "start_time": "2023-04-16T14:31:44.048633",
     "status": "completed"
    },
    "tags": []
   },
   "source": [
    "It should loos something like this.\n",
    "\n",
    "But there is a problem with this guy, he had distorted himself, because of the **outliers**, and thus is not a very good line. To balanace this what we can use is `Mean Absolute Error` instead `Mean Sqaured Loss`. So what is this `Mean Absolute Error`...? \n",
    "\n",
    "`Mean Absolute Error` is just like the lost brother of `Mean Sqaured Error`. Its formula is same but with a small tweek \n",
    "\n",
    "$$Loss = |y - \\hat y|$$\n",
    "\n",
    "You might be thinking that we suggested this loss before and this was not good one, because it was not diffrentiable, so what now...???\n",
    "\n",
    "Guess what, we found a way to find the alternative, for other losses we compute the gradients as a whole, for this, we find sub-gradients and move on with life. \n",
    "\n",
    "But there is problem with this type of loss too\n",
    "\n",
    "Lets try to plot a line we get from this "
   ]
  },
  {
   "cell_type": "code",
   "execution_count": 41,
   "id": "41b17ea5",
   "metadata": {
    "execution": {
     "iopub.execute_input": "2023-04-16T14:31:44.145743Z",
     "iopub.status.busy": "2023-04-16T14:31:44.145308Z",
     "iopub.status.idle": "2023-04-16T14:31:44.388651Z",
     "shell.execute_reply": "2023-04-16T14:31:44.387332Z"
    },
    "papermill": {
     "duration": 0.279743,
     "end_time": "2023-04-16T14:31:44.391404",
     "exception": false,
     "start_time": "2023-04-16T14:31:44.111661",
     "status": "completed"
    },
    "tags": []
   },
   "outputs": [
    {
     "data": {
      "text/plain": [
       "[<matplotlib.lines.Line2D at 0x73e4e9fec0d0>]"
      ]
     },
     "execution_count": 41,
     "metadata": {},
     "output_type": "execute_result"
    },
    {
     "data": {
      "image/png": "[encoded data removed]",
      "text/plain": [
       "<Figure size 640x480 with 1 Axes>"
      ]
     },
     "metadata": {},
     "output_type": "display_data"
    }
   ],
   "source": [
    "plt.scatter(features , target)\n",
    "plt.plot([0 , 18] , [1.5, 4.5] , \"yellow\")"
   ]
  },
  {
   "cell_type": "markdown",
   "id": "1b29f6ac",
   "metadata": {
    "papermill": {
     "duration": 0.03219,
     "end_time": "2023-04-16T14:31:44.456533",
     "exception": false,
     "start_time": "2023-04-16T14:31:44.424343",
     "status": "completed"
    },
    "tags": []
   },
   "source": [
    "You will say that this will do predictions really great for the major points, and will just ignore the outliers, which is a good point. But lets assume we have a greater amount of outliers. "
   ]
  },
  {
   "cell_type": "code",
   "execution_count": 42,
   "id": "f2e9e320",
   "metadata": {
    "execution": {
     "iopub.execute_input": "2023-04-16T14:31:44.524509Z",
     "iopub.status.busy": "2023-04-16T14:31:44.524081Z",
     "iopub.status.idle": "2023-04-16T14:31:44.529998Z",
     "shell.execute_reply": "2023-04-16T14:31:44.529169Z"
    },
    "papermill": {
     "duration": 0.042267,
     "end_time": "2023-04-16T14:31:44.532174",
     "exception": false,
     "start_time": "2023-04-16T14:31:44.489907",
     "status": "completed"
    },
    "tags": []
   },
   "outputs": [],
   "source": [
    "features = np.array([x for x in range(20)])\n",
    "target = []\n",
    "for i in range(20):\n",
    "    if i < 6 : \n",
    "        target.append(i ** (1 / 10))\n",
    "    else : \n",
    "        target.append(i ** (1 / 2))\n",
    "target = np.array(target)"
   ]
  },
  {
   "cell_type": "code",
   "execution_count": 43,
   "id": "eea2ebb1",
   "metadata": {
    "execution": {
     "iopub.execute_input": "2023-04-16T14:31:44.599856Z",
     "iopub.status.busy": "2023-04-16T14:31:44.598695Z",
     "iopub.status.idle": "2023-04-16T14:31:44.606741Z",
     "shell.execute_reply": "2023-04-16T14:31:44.605645Z"
    },
    "papermill": {
     "duration": 0.044148,
     "end_time": "2023-04-16T14:31:44.608980",
     "exception": false,
     "start_time": "2023-04-16T14:31:44.564832",
     "status": "completed"
    },
    "tags": []
   },
   "outputs": [
    {
     "data": {
      "text/plain": [
       "array([ 0,  1,  2,  3,  4,  5,  6,  7,  8,  9, 10, 11, 12, 13, 14, 15, 16,\n",
       "       17, 18, 19])"
      ]
     },
     "execution_count": 43,
     "metadata": {},
     "output_type": "execute_result"
    }
   ],
   "source": [
    "features"
   ]
  },
  {
   "cell_type": "code",
   "execution_count": 44,
   "id": "6e23b7ae",
   "metadata": {
    "execution": {
     "iopub.execute_input": "2023-04-16T14:31:44.676747Z",
     "iopub.status.busy": "2023-04-16T14:31:44.675570Z",
     "iopub.status.idle": "2023-04-16T14:31:44.682518Z",
     "shell.execute_reply": "2023-04-16T14:31:44.681454Z"
    },
    "papermill": {
     "duration": 0.043164,
     "end_time": "2023-04-16T14:31:44.684727",
     "exception": false,
     "start_time": "2023-04-16T14:31:44.641563",
     "status": "completed"
    },
    "tags": []
   },
   "outputs": [
    {
     "data": {
      "text/plain": [
       "array([0.        , 1.        , 1.07177346, 1.11612317, 1.14869835,\n",
       "       1.17461894, 2.44948974, 2.64575131, 2.82842712, 3.        ,\n",
       "       3.16227766, 3.31662479, 3.46410162, 3.60555128, 3.74165739,\n",
       "       3.87298335, 4.        , 4.12310563, 4.24264069, 4.35889894])"
      ]
     },
     "execution_count": 44,
     "metadata": {},
     "output_type": "execute_result"
    }
   ],
   "source": [
    "target"
   ]
  },
  {
   "cell_type": "code",
   "execution_count": 45,
   "id": "80648df5",
   "metadata": {
    "execution": {
     "iopub.execute_input": "2023-04-16T14:31:44.751634Z",
     "iopub.status.busy": "2023-04-16T14:31:44.751195Z",
     "iopub.status.idle": "2023-04-16T14:31:44.989504Z",
     "shell.execute_reply": "2023-04-16T14:31:44.988461Z"
    },
    "papermill": {
     "duration": 0.275328,
     "end_time": "2023-04-16T14:31:44.992226",
     "exception": false,
     "start_time": "2023-04-16T14:31:44.716898",
     "status": "completed"
    },
    "tags": []
   },
   "outputs": [
    {
     "data": {
      "text/plain": [
       "<matplotlib.collections.PathCollection at 0x73e4e9fddb90>"
      ]
     },
     "execution_count": 45,
     "metadata": {},
     "output_type": "execute_result"
    },
    {
     "data": {
      "image/png": "[encoded data removed]",
      "text/plain": [
       "<Figure size 640x480 with 1 Axes>"
      ]
     },
     "metadata": {},
     "output_type": "display_data"
    }
   ],
   "source": [
    "plt.scatter(features , target)"
   ]
  },
  {
   "cell_type": "markdown",
   "id": "eb959778",
   "metadata": {
    "papermill": {
     "duration": 0.032605,
     "end_time": "2023-04-16T14:31:45.059025",
     "exception": false,
     "start_time": "2023-04-16T14:31:45.026420",
     "status": "completed"
    },
    "tags": []
   },
   "source": [
    "If we choose the `Mean Absolute Error`, the line will be something like this "
   ]
  },
  {
   "cell_type": "code",
   "execution_count": 46,
   "id": "a95537dc",
   "metadata": {
    "execution": {
     "iopub.execute_input": "2023-04-16T14:31:45.126992Z",
     "iopub.status.busy": "2023-04-16T14:31:45.126550Z",
     "iopub.status.idle": "2023-04-16T14:31:45.358579Z",
     "shell.execute_reply": "2023-04-16T14:31:45.357342Z"
    },
    "papermill": {
     "duration": 0.269149,
     "end_time": "2023-04-16T14:31:45.361392",
     "exception": false,
     "start_time": "2023-04-16T14:31:45.092243",
     "status": "completed"
    },
    "tags": []
   },
   "outputs": [
    {
     "data": {
      "text/plain": [
       "[<matplotlib.lines.Line2D at 0x73e4e9ee9910>]"
      ]
     },
     "execution_count": 46,
     "metadata": {},
     "output_type": "execute_result"
    },
    {
     "data": {
      "image/png": "[encoded data removed]",
      "text/plain": [
       "<Figure size 640x480 with 1 Axes>"
      ]
     },
     "metadata": {},
     "output_type": "display_data"
    }
   ],
   "source": [
    "plt.scatter(features , target)\n",
    "plt.plot([0 , 18] , [1.5, 4.5] , \"yellow\")"
   ]
  },
  {
   "cell_type": "markdown",
   "id": "7648b418",
   "metadata": {
    "papermill": {
     "duration": 0.03313,
     "end_time": "2023-04-16T14:31:45.428176",
     "exception": false,
     "start_time": "2023-04-16T14:31:45.395046",
     "status": "completed"
    },
    "tags": []
   },
   "source": [
    "But at this point the amount of outliers have risen up so much that they are no more outliers, they have their own community and maybe goverment.So how do we handle this...?\n",
    "\n",
    "If we use `Mean Sqaured Error`, it will focus on the lower points more than the above points, and if we choose the `Mean Absolute Error`, it will focus on the upper points more than the above points. To counter this type of problem what we use is the combination of these two losses. Something like this $$Loss = \\Bigg [ \\frac {\\frac {1}{2}(y - \\hat y)^2}{\\delta|y - \\hat y| - \\frac {1}{2}\\delta^2}\\frac {...if...}{...if...}\\frac {y - \\hat y|<=\\delta}{|y - \\hat y|>\\delta}$$\n",
    "\n",
    "But what is $\\delta$ doing here..?\n",
    "\n",
    "This is a actually a hyperparameter usually having the value as $0.2$. \n",
    "\n",
    "Now as we know about the huber loss lets try to implement this "
   ]
  },
  {
   "cell_type": "code",
   "execution_count": 47,
   "id": "22a9f8e0",
   "metadata": {
    "execution": {
     "iopub.execute_input": "2023-04-16T14:31:45.497225Z",
     "iopub.status.busy": "2023-04-16T14:31:45.496106Z",
     "iopub.status.idle": "2023-04-16T14:31:45.507110Z",
     "shell.execute_reply": "2023-04-16T14:31:45.506180Z"
    },
    "papermill": {
     "duration": 0.048457,
     "end_time": "2023-04-16T14:31:45.509748",
     "exception": false,
     "start_time": "2023-04-16T14:31:45.461291",
     "status": "completed"
    },
    "tags": []
   },
   "outputs": [],
   "source": [
    "squared_mean = lambda predictions , actuals : np.sum((predictions - actual) ** 2)\n",
    "\n",
    "def huber_loss(prediction , actuals):\n",
    "    loss = 0\n",
    "    for pred , act in zip(predictions , actuals):\n",
    "        if abs(pred - act) <= 0.2:\n",
    "            loss += (1 / 2) * pred - act\n",
    "        else :\n",
    "            loss += (0.2 * abs(pred - act)) - ((1 / 2) * (0.2 ** 2))\n",
    "    return loss\n",
    "\n",
    "def SGDRegressor(X , y , loss = \"sqaured_mean\"):\n",
    "    \n",
    "    weights = abs(np.random.randn(X.shape[0]))\n",
    "    biases = abs(np.random.randn(1))\n",
    "    \n",
    "    predic = []\n",
    "    losses = []\n",
    "    \n",
    "    for _ in range(300):\n",
    "    \n",
    "        pred = weights * features + biases\n",
    "        if loss == \"sqaured_mean\":\n",
    "            loss = squared_mean(pred , y)\n",
    "        else : \n",
    "            loss = huber(pred , y)\n",
    "        losses.append(loss)\n",
    "        \n",
    "        weights -= -2 * loss * 0.01\n",
    "        biases -= -2 * 30 * loss * 0.01\n",
    "\n",
    "    return weights , biases"
   ]
  },
  {
   "cell_type": "markdown",
   "id": "5bafe152",
   "metadata": {
    "papermill": {
     "duration": 0.032986,
     "end_time": "2023-04-16T14:31:45.576231",
     "exception": false,
     "start_time": "2023-04-16T14:31:45.543245",
     "status": "completed"
    },
    "tags": []
   },
   "source": [
    "And we just implemented `The Huber Loss`. We have the value of $\\delta$ as by defualt, lets make it as an hyperparameter instead "
   ]
  },
  {
   "cell_type": "code",
   "execution_count": 48,
   "id": "444fd5f3",
   "metadata": {
    "execution": {
     "iopub.execute_input": "2023-04-16T14:31:45.646819Z",
     "iopub.status.busy": "2023-04-16T14:31:45.646143Z",
     "iopub.status.idle": "2023-04-16T14:31:45.656919Z",
     "shell.execute_reply": "2023-04-16T14:31:45.655866Z"
    },
    "papermill": {
     "duration": 0.049816,
     "end_time": "2023-04-16T14:31:45.659541",
     "exception": false,
     "start_time": "2023-04-16T14:31:45.609725",
     "status": "completed"
    },
    "tags": []
   },
   "outputs": [],
   "source": [
    "squared_mean = lambda predictions , actuals : np.sum((predictions - actual) ** 2)\n",
    "\n",
    "def huber_loss(prediction , actuals , delta):\n",
    "    loss = 0\n",
    "    for pred , act in zip(predictions , actuals):\n",
    "        if abs(pred - act) <= delta:\n",
    "            loss += (1 / 2) * pred - act\n",
    "        else :\n",
    "            loss += (delta * abs(pred - act)) - ((1 / 2) * (delta ** 2))\n",
    "    return loss\n",
    "\n",
    "def SGDRegressor(X , y , loss = \"sqaured_mean\" , delta = 0.2):\n",
    "    \n",
    "    weights = abs(np.random.randn(X.shape[0]))\n",
    "    biases = abs(np.random.randn(1))\n",
    "    \n",
    "    predic = []\n",
    "    losses = []\n",
    "    \n",
    "    for _ in range(300):\n",
    "    \n",
    "        pred = weights * features + biases\n",
    "        if loss == \"sqaured_mean\":\n",
    "            loss = squared_mean(pred , y , delta)\n",
    "        else : \n",
    "            loss = huber(pred , y)\n",
    "        losses.append(loss)\n",
    "        \n",
    "        weights -= -2 * loss * 0.01\n",
    "        biases -= -2 * 30 * loss * 0.01\n",
    "\n",
    "    return weights , biases"
   ]
  },
  {
   "cell_type": "markdown",
   "id": "558f7471",
   "metadata": {
    "papermill": {
     "duration": 0.034467,
     "end_time": "2023-04-16T14:31:45.729541",
     "exception": false,
     "start_time": "2023-04-16T14:31:45.695074",
     "status": "completed"
    },
    "tags": []
   },
   "source": [
    "# 3.2.3 | Epsilon Intensive \n",
    "\n",
    "This is a type of baseline loss, it generates a lower cap for the loss, it ignores the loss below the `epsilon` value. \n",
    "\n",
    "Its default value is $0$.\n",
    "\n",
    "Now lets try to make tweeks to our functions"
   ]
  },
  {
   "cell_type": "code",
   "execution_count": 49,
   "id": "4db1f568",
   "metadata": {
    "execution": {
     "iopub.execute_input": "2023-04-16T14:31:45.800008Z",
     "iopub.status.busy": "2023-04-16T14:31:45.799576Z",
     "iopub.status.idle": "2023-04-16T14:31:45.811512Z",
     "shell.execute_reply": "2023-04-16T14:31:45.810168Z"
    },
    "papermill": {
     "duration": 0.050297,
     "end_time": "2023-04-16T14:31:45.814296",
     "exception": false,
     "start_time": "2023-04-16T14:31:45.763999",
     "status": "completed"
    },
    "tags": []
   },
   "outputs": [],
   "source": [
    "squared_mean = lambda predictions , actuals : np.sum((predictions - actual) ** 2)\n",
    "\n",
    "def huber_loss(prediction , actuals , delta):\n",
    "    loss = 0\n",
    "    for pred , act in zip(predictions , actuals):\n",
    "        if abs(pred - act) <= delta:\n",
    "            loss += (1 / 2) * pred - act\n",
    "        else :\n",
    "            loss += (delta * abs(pred - act)) - ((1 / 2) * (delta ** 2))\n",
    "    return loss\n",
    "\n",
    "epsilon_intensive = lambda predictions , actuals , epsilon : np.where((predictions - actuals) < epsilon , 0 , (predictions - actuals))\n",
    "\n",
    "def SGDRegressor(X , y , loss_type = \"sqaured_mean\" , delta = 0.2 , epsilon = 0):\n",
    "    \n",
    "    weights = abs(np.random.randn(X.shape[0]))\n",
    "    biases = abs(np.random.randn(1))\n",
    "    \n",
    "    predic = []\n",
    "    losses = []\n",
    "    \n",
    "    for _ in range(300):\n",
    "    \n",
    "        pred = weights * features + biases\n",
    "        if loss_type == \"sqaured_mean\":\n",
    "            loss = squared_mean(pred , y , delta)\n",
    "        elif loss_type == \"huber\" : \n",
    "            loss = huber(pred , y)\n",
    "        else :\n",
    "            loss = epsilon_intensie(pred , y , epsilon)\n",
    "        losses.append(loss)\n",
    "        \n",
    "        weights -= -2 * loss * 0.01\n",
    "        biases -= -2 * 30 * loss * 0.01\n",
    "\n",
    "    return weights , biases"
   ]
  },
  {
   "cell_type": "markdown",
   "id": "2af40023",
   "metadata": {
    "papermill": {
     "duration": 0.033908,
     "end_time": "2023-04-16T14:31:45.881963",
     "exception": false,
     "start_time": "2023-04-16T14:31:45.848055",
     "status": "completed"
    },
    "tags": []
   },
   "source": [
    "And we just implemented our differnet losses for the `SGD Regressor`"
   ]
  },
  {
   "cell_type": "markdown",
   "id": "660e1cf6",
   "metadata": {
    "papermill": {
     "duration": 0.032983,
     "end_time": "2023-04-16T14:31:45.948237",
     "exception": false,
     "start_time": "2023-04-16T14:31:45.915254",
     "status": "completed"
    },
    "tags": []
   },
   "source": [
    "# 3.3 | Alpha\n",
    "\n",
    "You remeber we were taking a small part of the loss, not the whole loss. The parameter that defines how much loss we are taking is called the **alpha** , also called as the learning rate. \n",
    "\n",
    "You might be thinking that it is not that important, but it is really important concept, a higher learning rate has a high chance that you will never converge to the model, a low very low learning rate means that you will take a very long time to converge for the model \n",
    "\n",
    "Here is a very good image that explains the importance of the learning rate \n",
    "\n",
    "<img src = \"https://www.researchgate.net/profile/Hajar-Feizi/publication/341609757/figure/fig2/AS:894745802977280@1590335431623/Changes-in-the-loss-function-vs-the-epoch-by-the-learning-rate-40.png\">\n",
    "\n",
    "It will be really easy for us to apply this functinality, we just need to change some varaibales"
   ]
  },
  {
   "cell_type": "code",
   "execution_count": 50,
   "id": "9639607a",
   "metadata": {
    "execution": {
     "iopub.execute_input": "2023-04-16T14:31:46.017384Z",
     "iopub.status.busy": "2023-04-16T14:31:46.016123Z",
     "iopub.status.idle": "2023-04-16T14:31:46.028326Z",
     "shell.execute_reply": "2023-04-16T14:31:46.027396Z"
    },
    "papermill": {
     "duration": 0.049548,
     "end_time": "2023-04-16T14:31:46.030989",
     "exception": false,
     "start_time": "2023-04-16T14:31:45.981441",
     "status": "completed"
    },
    "tags": []
   },
   "outputs": [],
   "source": [
    "squared_mean = lambda predictions , actuals : np.sum((predictions - actual) ** 2)\n",
    "\n",
    "def huber_loss(prediction , actuals , delta):\n",
    "    \n",
    "    loss = 0\n",
    "    \n",
    "    for pred , act in zip(predictions , actuals):\n",
    "    \n",
    "        if abs(pred - act) <= delta:\n",
    "        \n",
    "            loss += (1 / 2) * pred - act\n",
    "        \n",
    "        else :\n",
    "        \n",
    "            loss += (delta * abs(pred - act)) - ((1 / 2) * (delta ** 2))\n",
    "    \n",
    "    return loss\n",
    "\n",
    "epsilon_intensive = lambda predictions , actuals , epsilon : np.where((predictions - actuals) < epsilon , 0 , (predictions - actuals))\n",
    "\n",
    "def SGDRegressor(X , y , loss_type = \"sqaured_mean\" , delta = 0.2 , epsilon = 0 , alpha = 0.0001):\n",
    "    \n",
    "    weights = abs(np.random.randn(X.shape[0]))\n",
    "    biases = abs(np.random.randn(1))\n",
    "    \n",
    "    predic = []\n",
    "    losses = []\n",
    "    \n",
    "    for _ in range(300):\n",
    "    \n",
    "        pred = weights * features + biases\n",
    "    \n",
    "        if loss_type == \"sqaured_mean\":\n",
    "        \n",
    "            loss = squared_mean(pred , y , delta)\n",
    "        \n",
    "        elif loss_type == \"huber\" : \n",
    "            \n",
    "            loss = huber(pred , y)\n",
    "        \n",
    "        else :\n",
    "        \n",
    "            loss = epsilon_intensie(pred , y , epsilon)\n",
    "        losses.append(loss)\n",
    "        \n",
    "        weights -= -2 * loss * alpha\n",
    "        biases -= -2 * 30 * loss * alpha\n",
    "\n",
    "    return weights , biases"
   ]
  },
  {
   "cell_type": "markdown",
   "id": "875f24ea",
   "metadata": {
    "papermill": {
     "duration": 0.032931,
     "end_time": "2023-04-16T14:31:46.097198",
     "exception": false,
     "start_time": "2023-04-16T14:31:46.064267",
     "status": "completed"
    },
    "tags": []
   },
   "source": [
    "# 3.4 | Fit_Intercept\n",
    "Lets assume we have a data that is centered, means there is a very low chance that its $\\beta$ or $intercept$ will be non-zero. So we can save some computation and time by not calculating the $\\beta$ everytime, Yes we are greedy. This parameter decides whether the $\\beta$ should be calculated or not "
   ]
  },
  {
   "cell_type": "code",
   "execution_count": 51,
   "id": "d9f6d9b0",
   "metadata": {
    "execution": {
     "iopub.execute_input": "2023-04-16T14:31:46.166361Z",
     "iopub.status.busy": "2023-04-16T14:31:46.165553Z",
     "iopub.status.idle": "2023-04-16T14:31:46.177519Z",
     "shell.execute_reply": "2023-04-16T14:31:46.176170Z"
    },
    "papermill": {
     "duration": 0.050048,
     "end_time": "2023-04-16T14:31:46.180523",
     "exception": false,
     "start_time": "2023-04-16T14:31:46.130475",
     "status": "completed"
    },
    "tags": []
   },
   "outputs": [],
   "source": [
    "squared_mean = lambda predictions , actuals : np.sum((predictions - actual) ** 2)\n",
    "\n",
    "def huber_loss(prediction , actuals , delta):\n",
    "    \n",
    "    loss = 0\n",
    "    \n",
    "    for pred , act in zip(predictions , actuals):\n",
    "    \n",
    "        if abs(pred - act) <= delta:\n",
    "        \n",
    "            loss += (1 / 2) * pred - act\n",
    "        \n",
    "        else :\n",
    "        \n",
    "            loss += (delta * abs(pred - act)) - ((1 / 2) * (delta ** 2))\n",
    "    \n",
    "    return loss\n",
    "\n",
    "epsilon_intensive = lambda predictions , actuals , epsilon : np.where((predictions - actuals) < epsilon , 0 , (predictions - actuals))\n",
    "\n",
    "def SGDRegressor(X , y , \n",
    "                 loss_type = \"sqaured_mean\" , delta = 0.2 , \n",
    "                 epsilon = 0 , alpha = 0.0001 , \n",
    "                fit_intercept = True):\n",
    "    \n",
    "    weights = np.zeors(shape = X.shape[0])\n",
    "    biases = np.zeors(1)\n",
    "    \n",
    "    predic = []\n",
    "    losses = []\n",
    "    \n",
    "    for _ in range(300):\n",
    "    \n",
    "        pred = weights * features + biases\n",
    "    \n",
    "        if loss_type == \"sqaured_mean\":\n",
    "        \n",
    "            loss = squared_mean(pred , y , delta)\n",
    "        \n",
    "        elif loss_type == \"huber\" : \n",
    "            \n",
    "            loss = huber(pred , y)\n",
    "        \n",
    "        else :\n",
    "        \n",
    "            loss = epsilon_intensie(pred , y , epsilon)\n",
    "        losses.append(loss)\n",
    "        \n",
    "        weights -= -2 * loss * alpha\n",
    "        if fit_intercept:\n",
    "            biases -= -2 * 30 * loss * alpha\n",
    "\n",
    "    return weights , biases"
   ]
  },
  {
   "cell_type": "markdown",
   "id": "61d01060",
   "metadata": {
    "papermill": {
     "duration": 0.032953,
     "end_time": "2023-04-16T14:31:46.247389",
     "exception": false,
     "start_time": "2023-04-16T14:31:46.214436",
     "status": "completed"
    },
    "tags": []
   },
   "source": [
    "# 3.5 | Max_Iter \n",
    "\n",
    "This is the number of times we will run the function. Previously we were running for $300$ times. Now we can add that as a functionality to our code and make it a hyperparameter instead "
   ]
  },
  {
   "cell_type": "code",
   "execution_count": 52,
   "id": "5ab9abcd",
   "metadata": {
    "execution": {
     "iopub.execute_input": "2023-04-16T14:31:46.317178Z",
     "iopub.status.busy": "2023-04-16T14:31:46.316065Z",
     "iopub.status.idle": "2023-04-16T14:31:46.327653Z",
     "shell.execute_reply": "2023-04-16T14:31:46.326493Z"
    },
    "papermill": {
     "duration": 0.049333,
     "end_time": "2023-04-16T14:31:46.330607",
     "exception": false,
     "start_time": "2023-04-16T14:31:46.281274",
     "status": "completed"
    },
    "tags": []
   },
   "outputs": [],
   "source": [
    "squared_mean = lambda predictions , actuals : np.sum((predictions - actual) ** 2)\n",
    "\n",
    "def huber_loss(prediction , actuals , delta):\n",
    "    \n",
    "    loss = 0\n",
    "    \n",
    "    for pred , act in zip(predictions , actuals):\n",
    "    \n",
    "        if abs(pred - act) <= delta:\n",
    "        \n",
    "            loss += (1 / 2) * pred - act\n",
    "        \n",
    "        else :\n",
    "        \n",
    "            loss += (delta * abs(pred - act)) - ((1 / 2) * (delta ** 2))\n",
    "    \n",
    "    return loss\n",
    "\n",
    "epsilon_intensive = lambda predictions , actuals , epsilon : np.where((predictions - actuals) < epsilon , 0 , (predictions - actuals))\n",
    "\n",
    "def SGDRegressor(X , y , \n",
    "                 loss_type = \"sqaured_mean\" , delta = 0.2 , \n",
    "                 epsilon = 0 , alpha = 0.0001 , \n",
    "                fit_intercept = True , max_iter = 1000):\n",
    "    \n",
    "    weights = np.zeors(shape = X.shape[0])\n",
    "    biases = np.zeors(1)\n",
    "    \n",
    "    predic = []\n",
    "    losses = []\n",
    "    \n",
    "    for _ in range(max_iter):\n",
    "    \n",
    "        pred = weights * features + biases\n",
    "    \n",
    "        if loss_type == \"sqaured_mean\":\n",
    "        \n",
    "            loss = squared_mean(pred , y , delta)\n",
    "        \n",
    "        elif loss_type == \"huber\" : \n",
    "            \n",
    "            loss = huber(pred , y)\n",
    "        \n",
    "        else :\n",
    "        \n",
    "            loss = epsilon_intensie(pred , y , epsilon)\n",
    "        losses.append(loss)\n",
    "        \n",
    "        weights -= -2 * loss * alpha\n",
    "        if fit_intercept:\n",
    "            biases -= -2 * 30 * loss * alpha\n",
    "\n",
    "    return weights , biases"
   ]
  },
  {
   "cell_type": "markdown",
   "id": "454a2fdf",
   "metadata": {
    "papermill": {
     "duration": 0.032797,
     "end_time": "2023-04-16T14:31:46.397181",
     "exception": false,
     "start_time": "2023-04-16T14:31:46.364384",
     "status": "completed"
    },
    "tags": []
   },
   "source": [
    "# 3.6 | Shuffle \n",
    "Suffling is a good practice in some cases as it can save the loss from overfitting of the data , we can do this directly by `np.random.shuffle()`"
   ]
  },
  {
   "cell_type": "code",
   "execution_count": 53,
   "id": "31d64b66",
   "metadata": {
    "execution": {
     "iopub.execute_input": "2023-04-16T14:31:46.466129Z",
     "iopub.status.busy": "2023-04-16T14:31:46.465416Z",
     "iopub.status.idle": "2023-04-16T14:31:46.477427Z",
     "shell.execute_reply": "2023-04-16T14:31:46.476518Z"
    },
    "papermill": {
     "duration": 0.049702,
     "end_time": "2023-04-16T14:31:46.479904",
     "exception": false,
     "start_time": "2023-04-16T14:31:46.430202",
     "status": "completed"
    },
    "tags": []
   },
   "outputs": [],
   "source": [
    "squared_mean = lambda predictions , actuals : np.sum((predictions - actual) ** 2)\n",
    "\n",
    "def huber_loss(prediction , actuals , delta):\n",
    "    \n",
    "    loss = 0\n",
    "    \n",
    "    for pred , act in zip(predictions , actuals):\n",
    "    \n",
    "        if abs(pred - act) <= delta:\n",
    "        \n",
    "            loss += (1 / 2) * pred - act\n",
    "        \n",
    "        else :\n",
    "        \n",
    "            loss += (delta * abs(pred - act)) - ((1 / 2) * (delta ** 2))\n",
    "    \n",
    "    return loss\n",
    "\n",
    "epsilon_intensive = lambda predictions , actuals , epsilon : np.where((predictions - actuals) < epsilon , 0 , (predictions - actuals))\n",
    "\n",
    "def SGDRegressor(X , y , \n",
    "                 loss_type = \"sqaured_mean\" , delta = 0.2 , \n",
    "                 epsilon = 0 , alpha = 0.0001 , \n",
    "                fit_intercept = True , max_iter = 1000 , \n",
    "                shuffle = False ):\n",
    "    \n",
    "    weights = np.zeors(shape = X.shape[0])\n",
    "    biases = np.zeors(1)\n",
    "    \n",
    "    predic = []\n",
    "    losses = []\n",
    "    \n",
    "    for _ in range(max_iter):\n",
    "        if shuffle :\n",
    "            X = np.random.shuffle(x)\n",
    "    \n",
    "        pred = weights * X + biases\n",
    "    \n",
    "        if loss_type == \"sqaured_mean\":\n",
    "        \n",
    "            loss = squared_mean(pred , y , delta)\n",
    "        \n",
    "        elif loss_type == \"huber\" : \n",
    "            \n",
    "            loss = huber(pred , y)\n",
    "        \n",
    "        else :\n",
    "        \n",
    "            loss = epsilon_intensie(pred , y , epsilon)\n",
    "        losses.append(loss)\n",
    "        \n",
    "        weights -= -2 * loss * alpha\n",
    "        if fit_intercept:\n",
    "            biases -= -2 * 30 * loss * alpha\n",
    "\n",
    "    return weights , biases"
   ]
  },
  {
   "cell_type": "markdown",
   "id": "663cd1d0",
   "metadata": {
    "papermill": {
     "duration": 0.032811,
     "end_time": "2023-04-16T14:31:46.545875",
     "exception": false,
     "start_time": "2023-04-16T14:31:46.513064",
     "status": "completed"
    },
    "tags": []
   },
   "source": [
    "# 3.7 | Early Stopping\n",
    "\n",
    "Suppose you have achieved convergence at `iter` $69$ , but your `max_iter` is set to $10^{69}$, so after convergence you will just be wasting your time and comoutation power. So it would be really great if we stop at a threshold value, but how can we assure that we have reached a threshold value, one way is that to see if the loss is not changing for $2$ consecutive iterations. We can do this by comparing the loss we have and the loss we had before "
   ]
  },
  {
   "cell_type": "code",
   "execution_count": 54,
   "id": "f4d61c6a",
   "metadata": {
    "execution": {
     "iopub.execute_input": "2023-04-16T14:31:46.614668Z",
     "iopub.status.busy": "2023-04-16T14:31:46.613889Z",
     "iopub.status.idle": "2023-04-16T14:31:46.628428Z",
     "shell.execute_reply": "2023-04-16T14:31:46.627057Z"
    },
    "papermill": {
     "duration": 0.052388,
     "end_time": "2023-04-16T14:31:46.631248",
     "exception": false,
     "start_time": "2023-04-16T14:31:46.578860",
     "status": "completed"
    },
    "tags": []
   },
   "outputs": [],
   "source": [
    "squared_mean = lambda predictions , actuals : np.sum((predictions - actual) ** 2)\n",
    "\n",
    "def huber_loss(prediction , actuals , delta):\n",
    "    \n",
    "    loss = 0\n",
    "    \n",
    "    for pred , act in zip(predictions , actuals):\n",
    "    \n",
    "        if abs(pred - act) <= delta:\n",
    "        \n",
    "            loss += (1 / 2) * pred - act\n",
    "        \n",
    "        else :\n",
    "        \n",
    "            loss += (delta * abs(pred - act)) - ((1 / 2) * (delta ** 2))\n",
    "    \n",
    "    return loss\n",
    "\n",
    "epsilon_intensive = lambda predictions , actuals , epsilon : np.where((predictions - actuals) < epsilon , 0 , (predictions - actuals))\n",
    "\n",
    "def SGDRegressor(X , y , \n",
    "                 loss_type = \"sqaured_mean\" , delta = 0.2 , \n",
    "                 epsilon = 0 , alpha = 0.0001 , \n",
    "                fit_intercept = True , max_iter = 1000 , \n",
    "                shuffle = False , early_stopping = False):\n",
    "    \n",
    "    weights = np.zeors(shape = X.shape[0])\n",
    "    biases = np.zeors(1)\n",
    "    \n",
    "    predic = []\n",
    "    losses = []\n",
    "    \n",
    "    for epochs in range(max_iter):\n",
    "        if shuffle :\n",
    "            X = np.random.shuffle(x)\n",
    "    \n",
    "        pred = weights * X + biases\n",
    "    \n",
    "        if loss_type == \"sqaured_mean\":\n",
    "        \n",
    "            loss = squared_mean(pred , y , delta)\n",
    "        \n",
    "        elif loss_type == \"huber\" : \n",
    "            \n",
    "            loss = huber(pred , y)\n",
    "        \n",
    "        else :\n",
    "        \n",
    "            loss = epsilon_intensie(pred , y , epsilon)\n",
    "        losses.append(loss)\n",
    "        if early_stopping: \n",
    "            if losses[epochs] == losses[epochs - 1]:\n",
    "                break\n",
    "        weights -= -2 * loss * alpha\n",
    "        if fit_intercept:\n",
    "            biases -= -2 * 30 * loss * alpha\n",
    "\n",
    "    return weights , biases"
   ]
  },
  {
   "cell_type": "markdown",
   "id": "08c06251",
   "metadata": {
    "papermill": {
     "duration": 0.033028,
     "end_time": "2023-04-16T14:31:46.697799",
     "exception": false,
     "start_time": "2023-04-16T14:31:46.664771",
     "status": "completed"
    },
    "tags": []
   },
   "source": [
    "# 4 | SGDRegressor Final Source Code From Scratch "
   ]
  },
  {
   "cell_type": "code",
   "execution_count": 55,
   "id": "d3034dc6",
   "metadata": {
    "execution": {
     "iopub.execute_input": "2023-04-16T14:31:46.765369Z",
     "iopub.status.busy": "2023-04-16T14:31:46.764919Z",
     "iopub.status.idle": "2023-04-16T14:31:46.777672Z",
     "shell.execute_reply": "2023-04-16T14:31:46.776776Z"
    },
    "papermill": {
     "duration": 0.049775,
     "end_time": "2023-04-16T14:31:46.780392",
     "exception": false,
     "start_time": "2023-04-16T14:31:46.730617",
     "status": "completed"
    },
    "tags": []
   },
   "outputs": [],
   "source": [
    "squared_mean = lambda predictions , actuals : np.sum((predictions - actual) ** 2)\n",
    "\n",
    "def huber_loss(prediction , actuals , delta):\n",
    "    \n",
    "    loss = 0\n",
    "    \n",
    "    for pred , act in zip(predictions , actuals):\n",
    "    \n",
    "        if abs(pred - act) <= delta:\n",
    "        \n",
    "            loss += (1 / 2) * pred - act\n",
    "        \n",
    "        else :\n",
    "        \n",
    "            loss += (delta * abs(pred - act)) - ((1 / 2) * (delta ** 2))\n",
    "    \n",
    "    return loss\n",
    "\n",
    "epsilon_intensive = lambda predictions , actuals , epsilon : np.where((predictions - actuals) < epsilon , 0 , (predictions - actuals))\n",
    "\n",
    "def SGDRegressor(X , y , \n",
    "                 loss_type = \"sqaured_mean\" , delta = 0.2 , \n",
    "                 epsilon = 0 , alpha = 0.0001 , \n",
    "                fit_intercept = True , max_iter = 1000 , \n",
    "                shuffle = False , early_stopping = False):\n",
    "    \n",
    "    weights = np.zeors(shape = X.shape[0])\n",
    "    biases = np.zeors(1)\n",
    "    \n",
    "    predic = []\n",
    "    losses = []\n",
    "    \n",
    "    for epochs in range(max_iter):\n",
    "        \n",
    "        if shuffle :\n",
    "        \n",
    "            X = np.random.shuffle(x)\n",
    "    \n",
    "        pred = weights * X + biases\n",
    "    \n",
    "        if loss_type == \"sqaured_mean\":\n",
    "        \n",
    "            loss = squared_mean(pred , y , delta)\n",
    "        \n",
    "        elif loss_type == \"huber\" : \n",
    "            \n",
    "            loss = huber(pred , y)\n",
    "        \n",
    "        else :\n",
    "        \n",
    "            loss = epsilon_intensie(pred , y , epsilon)\n",
    "        \n",
    "        losses.append(loss)\n",
    "        \n",
    "        if early_stopping: \n",
    "            \n",
    "            if losses[epochs] == losses[epochs - 1]:\n",
    "                \n",
    "                break\n",
    "        \n",
    "        weights -= -2 * loss * alpha\n",
    "        \n",
    "        if fit_intercept:\n",
    "            \n",
    "            biases -= -2 * 30 * loss * alpha\n",
    "\n",
    "    return weights , biases"
   ]
  },
  {
   "cell_type": "markdown",
   "id": "a9ea3bd1",
   "metadata": {
    "papermill": {
     "duration": 0.032798,
     "end_time": "2023-04-16T14:31:46.847978",
     "exception": false,
     "start_time": "2023-04-16T14:31:46.815180",
     "status": "completed"
    },
    "tags": []
   },
   "source": [
    "Now we will try to make the same with **[Pytorch](https://pytorch.org/)**\n",
    "\n",
    "# 5 | SGD Regressor Pytorch"
   ]
  },
  {
   "cell_type": "code",
   "execution_count": 56,
   "id": "e3cb215c",
   "metadata": {
    "execution": {
     "iopub.execute_input": "2023-04-16T14:31:46.917455Z",
     "iopub.status.busy": "2023-04-16T14:31:46.916638Z",
     "iopub.status.idle": "2023-04-16T14:31:49.370734Z",
     "shell.execute_reply": "2023-04-16T14:31:49.369654Z"
    },
    "papermill": {
     "duration": 2.492087,
     "end_time": "2023-04-16T14:31:49.373549",
     "exception": false,
     "start_time": "2023-04-16T14:31:46.881462",
     "status": "completed"
    },
    "tags": []
   },
   "outputs": [],
   "source": [
    "import torch \n",
    "import torch.nn as nn "
   ]
  },
  {
   "cell_type": "markdown",
   "id": "f402b349",
   "metadata": {
    "papermill": {
     "duration": 0.033437,
     "end_time": "2023-04-16T14:31:49.440266",
     "exception": false,
     "start_time": "2023-04-16T14:31:49.406829",
     "status": "completed"
    },
    "tags": []
   },
   "source": [
    "As we have created a enough part of our `SGDRegressor` now we can make the same with `pytorch`. As we know the basic working of the `SGDRegressor`, lets try to list it \n",
    "* **Optimise the Data**\n",
    "* **Intialize Random Parameters**\n",
    "* **Predict with the Parameters**\n",
    "* **Calculate the Loss(have different methods)**\n",
    "* **Calculate the Loss Derivative**\n",
    "* **Update the Parameters According to the Loss Derivatives**\n",
    "* **Repeat Step 3**\n",
    "\n",
    "# 5.1 | Optimise the Data\n",
    "It is very important to `optimise` the data before sending it to the `model`. As we are training a `pytorch model` we need to give it a `pytorch object`. There are majorly two ways to do so **[pytorch.tensor()](https://pytorch.org/docs/stable/tensors.html)**  and **[pytorch.as_tensor()](https://pytorch.org/docs/stable/generated/torch.as_tensor.html)**. There is great explaination related to the difference I found on **[Best way to convert a list to tensor?](https://discuss.pytorch.org/t/best-way-to-convert-a-list-to-a-tensor/59949)**\n",
    "\n",
    "Basically it says that \n",
    "\n",
    "|`pytroch.tensor()`|`pytroch.as_tensor()`\n",
    "|---|---|\n",
    "|Make a copy of the data and then do the operations|Avoids making a copy and try to do operations in the data itself|"
   ]
  },
  {
   "cell_type": "code",
   "execution_count": 57,
   "id": "12fcb8ab",
   "metadata": {
    "_kg_hide-output": true,
    "execution": {
     "iopub.execute_input": "2023-04-16T14:31:49.510422Z",
     "iopub.status.busy": "2023-04-16T14:31:49.509717Z",
     "iopub.status.idle": "2023-04-16T14:31:49.519019Z",
     "shell.execute_reply": "2023-04-16T14:31:49.517871Z"
    },
    "papermill": {
     "duration": 0.047751,
     "end_time": "2023-04-16T14:31:49.521633",
     "exception": false,
     "start_time": "2023-04-16T14:31:49.473882",
     "status": "completed"
    },
    "tags": []
   },
   "outputs": [
    {
     "data": {
      "text/plain": [
       "[0,\n",
       " 1,\n",
       " 2,\n",
       " 3,\n",
       " 4,\n",
       " 5,\n",
       " 6,\n",
       " 7,\n",
       " 8,\n",
       " 9,\n",
       " 10,\n",
       " 11,\n",
       " 12,\n",
       " 13,\n",
       " 14,\n",
       " 15,\n",
       " 16,\n",
       " 17,\n",
       " 18,\n",
       " 19,\n",
       " 20,\n",
       " 21,\n",
       " 22,\n",
       " 23,\n",
       " 24,\n",
       " 25,\n",
       " 26,\n",
       " 27,\n",
       " 28,\n",
       " 29,\n",
       " 30,\n",
       " 31,\n",
       " 32,\n",
       " 33,\n",
       " 34,\n",
       " 35,\n",
       " 36,\n",
       " 37,\n",
       " 38,\n",
       " 39,\n",
       " 40,\n",
       " 41,\n",
       " 42,\n",
       " 43,\n",
       " 44,\n",
       " 45,\n",
       " 46,\n",
       " 47,\n",
       " 48,\n",
       " 49,\n",
       " 50,\n",
       " 51,\n",
       " 52,\n",
       " 53,\n",
       " 54,\n",
       " 55,\n",
       " 56,\n",
       " 57,\n",
       " 58,\n",
       " 59,\n",
       " 60,\n",
       " 61,\n",
       " 62,\n",
       " 63,\n",
       " 64,\n",
       " 65,\n",
       " 66,\n",
       " 67,\n",
       " 68,\n",
       " 69,\n",
       " 70,\n",
       " 71,\n",
       " 72,\n",
       " 73,\n",
       " 74,\n",
       " 75,\n",
       " 76,\n",
       " 77,\n",
       " 78,\n",
       " 79,\n",
       " 80,\n",
       " 81,\n",
       " 82,\n",
       " 83,\n",
       " 84,\n",
       " 85,\n",
       " 86,\n",
       " 87,\n",
       " 88,\n",
       " 89,\n",
       " 90,\n",
       " 91,\n",
       " 92,\n",
       " 93,\n",
       " 94,\n",
       " 95,\n",
       " 96,\n",
       " 97,\n",
       " 98,\n",
       " 99]"
      ]
     },
     "execution_count": 57,
     "metadata": {},
     "output_type": "execute_result"
    }
   ],
   "source": [
    "[x for x in range(100)]"
   ]
  },
  {
   "cell_type": "code",
   "execution_count": 58,
   "id": "bd12cae5",
   "metadata": {
    "execution": {
     "iopub.execute_input": "2023-04-16T14:31:49.592030Z",
     "iopub.status.busy": "2023-04-16T14:31:49.591284Z",
     "iopub.status.idle": "2023-04-16T14:31:49.595909Z",
     "shell.execute_reply": "2023-04-16T14:31:49.595023Z"
    },
    "papermill": {
     "duration": 0.041646,
     "end_time": "2023-04-16T14:31:49.598215",
     "exception": false,
     "start_time": "2023-04-16T14:31:49.556569",
     "status": "completed"
    },
    "tags": []
   },
   "outputs": [],
   "source": [
    "sample_list = [x for x in range(100)]"
   ]
  },
  {
   "cell_type": "markdown",
   "id": "73855678",
   "metadata": {
    "papermill": {
     "duration": 0.034428,
     "end_time": "2023-04-16T14:31:49.666811",
     "exception": false,
     "start_time": "2023-04-16T14:31:49.632383",
     "status": "completed"
    },
    "tags": []
   },
   "source": [
    "The data type of this data structure will be "
   ]
  },
  {
   "cell_type": "code",
   "execution_count": 59,
   "id": "e099491b",
   "metadata": {
    "execution": {
     "iopub.execute_input": "2023-04-16T14:31:49.738281Z",
     "iopub.status.busy": "2023-04-16T14:31:49.737539Z",
     "iopub.status.idle": "2023-04-16T14:31:49.743650Z",
     "shell.execute_reply": "2023-04-16T14:31:49.742437Z"
    },
    "papermill": {
     "duration": 0.04468,
     "end_time": "2023-04-16T14:31:49.745932",
     "exception": false,
     "start_time": "2023-04-16T14:31:49.701252",
     "status": "completed"
    },
    "tags": []
   },
   "outputs": [
    {
     "data": {
      "text/plain": [
       "list"
      ]
     },
     "execution_count": 59,
     "metadata": {},
     "output_type": "execute_result"
    }
   ],
   "source": [
    "type(sample_list)"
   ]
  },
  {
   "cell_type": "markdown",
   "id": "dd7d8e74",
   "metadata": {
    "papermill": {
     "duration": 0.032992,
     "end_time": "2023-04-16T14:31:49.812370",
     "exception": false,
     "start_time": "2023-04-16T14:31:49.779378",
     "status": "completed"
    },
    "tags": []
   },
   "source": [
    "But we need a `torch.Tensor`, for that "
   ]
  },
  {
   "cell_type": "code",
   "execution_count": 60,
   "id": "70ff2a20",
   "metadata": {
    "execution": {
     "iopub.execute_input": "2023-04-16T14:31:49.881247Z",
     "iopub.status.busy": "2023-04-16T14:31:49.880794Z",
     "iopub.status.idle": "2023-04-16T14:31:49.934965Z",
     "shell.execute_reply": "2023-04-16T14:31:49.933547Z"
    },
    "papermill": {
     "duration": 0.092013,
     "end_time": "2023-04-16T14:31:49.937871",
     "exception": false,
     "start_time": "2023-04-16T14:31:49.845858",
     "status": "completed"
    },
    "tags": []
   },
   "outputs": [
    {
     "data": {
      "text/plain": [
       "tensor([ 0,  1,  2,  3,  4,  5,  6,  7,  8,  9, 10, 11, 12, 13, 14, 15, 16, 17,\n",
       "        18, 19, 20, 21, 22, 23, 24, 25, 26, 27, 28, 29, 30, 31, 32, 33, 34, 35,\n",
       "        36, 37, 38, 39, 40, 41, 42, 43, 44, 45, 46, 47, 48, 49, 50, 51, 52, 53,\n",
       "        54, 55, 56, 57, 58, 59, 60, 61, 62, 63, 64, 65, 66, 67, 68, 69, 70, 71,\n",
       "        72, 73, 74, 75, 76, 77, 78, 79, 80, 81, 82, 83, 84, 85, 86, 87, 88, 89,\n",
       "        90, 91, 92, 93, 94, 95, 96, 97, 98, 99])"
      ]
     },
     "execution_count": 60,
     "metadata": {},
     "output_type": "execute_result"
    }
   ],
   "source": [
    "torch.tensor(sample_list)"
   ]
  },
  {
   "cell_type": "code",
   "execution_count": 61,
   "id": "ca604180",
   "metadata": {
    "execution": {
     "iopub.execute_input": "2023-04-16T14:31:50.008078Z",
     "iopub.status.busy": "2023-04-16T14:31:50.007218Z",
     "iopub.status.idle": "2023-04-16T14:31:50.012796Z",
     "shell.execute_reply": "2023-04-16T14:31:50.011875Z"
    },
    "papermill": {
     "duration": 0.043561,
     "end_time": "2023-04-16T14:31:50.015455",
     "exception": false,
     "start_time": "2023-04-16T14:31:49.971894",
     "status": "completed"
    },
    "tags": []
   },
   "outputs": [],
   "source": [
    "sample_list = torch.tensor(sample_list)"
   ]
  },
  {
   "cell_type": "markdown",
   "id": "fba644c6",
   "metadata": {
    "papermill": {
     "duration": 0.033988,
     "end_time": "2023-04-16T14:31:50.084684",
     "exception": false,
     "start_time": "2023-04-16T14:31:50.050696",
     "status": "completed"
    },
    "tags": []
   },
   "source": [
    "And the datatype of this datastructure "
   ]
  },
  {
   "cell_type": "code",
   "execution_count": 62,
   "id": "71772695",
   "metadata": {
    "execution": {
     "iopub.execute_input": "2023-04-16T14:31:50.155119Z",
     "iopub.status.busy": "2023-04-16T14:31:50.154689Z",
     "iopub.status.idle": "2023-04-16T14:31:50.162175Z",
     "shell.execute_reply": "2023-04-16T14:31:50.160932Z"
    },
    "papermill": {
     "duration": 0.045113,
     "end_time": "2023-04-16T14:31:50.164497",
     "exception": false,
     "start_time": "2023-04-16T14:31:50.119384",
     "status": "completed"
    },
    "tags": []
   },
   "outputs": [
    {
     "data": {
      "text/plain": [
       "torch.Tensor"
      ]
     },
     "execution_count": 62,
     "metadata": {},
     "output_type": "execute_result"
    }
   ],
   "source": [
    "type(sample_list)"
   ]
  },
  {
   "cell_type": "markdown",
   "id": "7be4b5ea",
   "metadata": {
    "papermill": {
     "duration": 0.033776,
     "end_time": "2023-04-16T14:31:50.233896",
     "exception": false,
     "start_time": "2023-04-16T14:31:50.200120",
     "status": "completed"
    },
    "tags": []
   },
   "source": [
    "Lets just try to use $2$ features this time "
   ]
  },
  {
   "cell_type": "code",
   "execution_count": 63,
   "id": "3a9e1d22",
   "metadata": {
    "execution": {
     "iopub.execute_input": "2023-04-16T14:31:50.305808Z",
     "iopub.status.busy": "2023-04-16T14:31:50.304732Z",
     "iopub.status.idle": "2023-04-16T14:31:50.324948Z",
     "shell.execute_reply": "2023-04-16T14:31:50.323474Z"
    },
    "papermill": {
     "duration": 0.059833,
     "end_time": "2023-04-16T14:31:50.327849",
     "exception": false,
     "start_time": "2023-04-16T14:31:50.268016",
     "status": "completed"
    },
    "tags": []
   },
   "outputs": [],
   "source": [
    "fea = np.array([[x for x in range(200)] , \n",
    "               [x for x in range(200)]])\n",
    "target = np.array([x for x in range(200)])\n",
    "fea = torch.as_tensor(fea , dtype =torch.float32)\n",
    "target = torch.as_tensor(target , dtype = torch.float32)"
   ]
  },
  {
   "cell_type": "markdown",
   "id": "d52d73c2",
   "metadata": {
    "papermill": {
     "duration": 0.033784,
     "end_time": "2023-04-16T14:31:50.395470",
     "exception": false,
     "start_time": "2023-04-16T14:31:50.361686",
     "status": "completed"
    },
    "tags": []
   },
   "source": [
    "# 5.2 | Intialize Random Variables \n",
    "\n",
    "Now its time to initalize random variables, we know by variables we mean `weights` and `biases`, There will be $1$ bais and `X.shape[1]` weights. In `pytorch` we use the **[pytorch.nn.Linear()](https://pytorch.org/docs/stable/generated/torch.nn.Linear.html)**\n",
    "\n",
    "Here we just need to pass the number of input features `in_features` and number of output features `out_features`. In our case the `in_features` will be `X.shape[0]` and `out_features` will be `1`"
   ]
  },
  {
   "cell_type": "code",
   "execution_count": 64,
   "id": "24cf8f3b",
   "metadata": {
    "execution": {
     "iopub.execute_input": "2023-04-16T14:31:50.465587Z",
     "iopub.status.busy": "2023-04-16T14:31:50.465159Z",
     "iopub.status.idle": "2023-04-16T14:31:50.478612Z",
     "shell.execute_reply": "2023-04-16T14:31:50.477620Z"
    },
    "papermill": {
     "duration": 0.05156,
     "end_time": "2023-04-16T14:31:50.480903",
     "exception": false,
     "start_time": "2023-04-16T14:31:50.429343",
     "status": "completed"
    },
    "tags": []
   },
   "outputs": [
    {
     "data": {
      "text/plain": [
       "Linear(in_features=2, out_features=1, bias=True)"
      ]
     },
     "execution_count": 64,
     "metadata": {},
     "output_type": "execute_result"
    }
   ],
   "source": [
    "nn.Linear(fea.shape[0] , 1)"
   ]
  },
  {
   "cell_type": "code",
   "execution_count": 65,
   "id": "20cd5d35",
   "metadata": {
    "execution": {
     "iopub.execute_input": "2023-04-16T14:31:50.554686Z",
     "iopub.status.busy": "2023-04-16T14:31:50.553758Z",
     "iopub.status.idle": "2023-04-16T14:31:50.560525Z",
     "shell.execute_reply": "2023-04-16T14:31:50.559221Z"
    },
    "papermill": {
     "duration": 0.045297,
     "end_time": "2023-04-16T14:31:50.563271",
     "exception": false,
     "start_time": "2023-04-16T14:31:50.517974",
     "status": "completed"
    },
    "tags": []
   },
   "outputs": [],
   "source": [
    "model = nn.Linear(fea.shape[0] , 1)"
   ]
  },
  {
   "cell_type": "markdown",
   "id": "58bf6293",
   "metadata": {
    "papermill": {
     "duration": 0.033724,
     "end_time": "2023-04-16T14:31:50.631127",
     "exception": false,
     "start_time": "2023-04-16T14:31:50.597403",
     "status": "completed"
    },
    "tags": []
   },
   "source": [
    "We can actually see the weights and biases "
   ]
  },
  {
   "cell_type": "code",
   "execution_count": 66,
   "id": "e017e2b8",
   "metadata": {
    "execution": {
     "iopub.execute_input": "2023-04-16T14:31:50.702190Z",
     "iopub.status.busy": "2023-04-16T14:31:50.701660Z",
     "iopub.status.idle": "2023-04-16T14:31:50.754955Z",
     "shell.execute_reply": "2023-04-16T14:31:50.753319Z"
    },
    "papermill": {
     "duration": 0.09228,
     "end_time": "2023-04-16T14:31:50.757493",
     "exception": false,
     "start_time": "2023-04-16T14:31:50.665213",
     "status": "completed"
    },
    "tags": []
   },
   "outputs": [
    {
     "data": {
      "text/plain": [
       "Parameter containing:\n",
       "tensor([[-0.6114, -0.5669]], requires_grad=True)"
      ]
     },
     "execution_count": 66,
     "metadata": {},
     "output_type": "execute_result"
    }
   ],
   "source": [
    "model.weight"
   ]
  },
  {
   "cell_type": "code",
   "execution_count": 67,
   "id": "6a107958",
   "metadata": {
    "execution": {
     "iopub.execute_input": "2023-04-16T14:31:50.829149Z",
     "iopub.status.busy": "2023-04-16T14:31:50.828671Z",
     "iopub.status.idle": "2023-04-16T14:31:50.836435Z",
     "shell.execute_reply": "2023-04-16T14:31:50.835438Z"
    },
    "papermill": {
     "duration": 0.046824,
     "end_time": "2023-04-16T14:31:50.838502",
     "exception": false,
     "start_time": "2023-04-16T14:31:50.791678",
     "status": "completed"
    },
    "tags": []
   },
   "outputs": [
    {
     "data": {
      "text/plain": [
       "Parameter containing:\n",
       "tensor([-0.6356], requires_grad=True)"
      ]
     },
     "execution_count": 67,
     "metadata": {},
     "output_type": "execute_result"
    }
   ],
   "source": [
    "model.bias"
   ]
  },
  {
   "cell_type": "markdown",
   "id": "d837876a",
   "metadata": {
    "papermill": {
     "duration": 0.033984,
     "end_time": "2023-04-16T14:31:50.906572",
     "exception": false,
     "start_time": "2023-04-16T14:31:50.872588",
     "status": "completed"
    },
    "tags": []
   },
   "source": [
    "# 5.3 | Predicting with the Parameters"
   ]
  },
  {
   "cell_type": "markdown",
   "id": "ed8650fb",
   "metadata": {
    "papermill": {
     "duration": 0.033816,
     "end_time": "2023-04-16T14:31:50.974718",
     "exception": false,
     "start_time": "2023-04-16T14:31:50.940902",
     "status": "completed"
    },
    "tags": []
   },
   "source": [
    "Now we need to make predictions with the model we made. We can do this by using **[pytorch.nn.Linear()(X)](https://pytorch.org/docs/stable/generated/torch.nn.Linear.html)**"
   ]
  },
  {
   "cell_type": "markdown",
   "id": "b626a553",
   "metadata": {
    "papermill": {
     "duration": 0.033639,
     "end_time": "2023-04-16T14:31:51.042203",
     "exception": false,
     "start_time": "2023-04-16T14:31:51.008564",
     "status": "completed"
    },
    "tags": []
   },
   "source": [
    "**This will throw an error**\n",
    "```\n",
    "In[0] : predicted = model(fea)\n",
    "Out[0] : ---------------------------------------------------------------------------\n",
    "RuntimeError                              Traceback (most recent call last)\n",
    "/tmp/ipykernel_27/3354294725.py in <module>\n",
    "----> 1 predicted = model(fea)\n",
    "\n",
    "/opt/conda/lib/python3.7/site-packages/torch/nn/modules/module.py in _call_impl(self, *input, **kwargs)\n",
    "   1188         if not (self._backward_hooks or self._forward_hooks or self._forward_pre_hooks or _global_backward_hooks\n",
    "   1189                 or _global_forward_hooks or _global_forward_pre_hooks):\n",
    "-> 1190             return forward_call(*input, **kwargs)\n",
    "   1191         # Do not call functions when jit is used\n",
    "   1192         full_backward_hooks, non_full_backward_hooks = [], []\n",
    "\n",
    "/opt/conda/lib/python3.7/site-packages/torch/nn/modules/linear.py in forward(self, input)\n",
    "    112 \n",
    "    113     def forward(self, input: Tensor) -> Tensor:\n",
    "--> 114         return F.linear(input, self.weight, self.bias)\n",
    "    115 \n",
    "    116     def extra_repr(self) -> str:\n",
    "\n",
    "RuntimeError: mat1 and mat2 shapes cannot be multiplied (2x100 and 2x1)\n",
    "```\n",
    "This is beause we are trying to multiply arrays of different datatypes. To counter this we need to transpose our array "
   ]
  },
  {
   "cell_type": "code",
   "execution_count": 68,
   "id": "a538105d",
   "metadata": {
    "execution": {
     "iopub.execute_input": "2023-04-16T14:31:51.112658Z",
     "iopub.status.busy": "2023-04-16T14:31:51.112241Z",
     "iopub.status.idle": "2023-04-16T14:31:51.135528Z",
     "shell.execute_reply": "2023-04-16T14:31:51.134398Z"
    },
    "papermill": {
     "duration": 0.061757,
     "end_time": "2023-04-16T14:31:51.138106",
     "exception": false,
     "start_time": "2023-04-16T14:31:51.076349",
     "status": "completed"
    },
    "tags": []
   },
   "outputs": [],
   "source": [
    "predicted = model(fea.mT)"
   ]
  },
  {
   "cell_type": "code",
   "execution_count": 69,
   "id": "d658b93a",
   "metadata": {
    "_kg_hide-output": true,
    "execution": {
     "iopub.execute_input": "2023-04-16T14:31:51.209908Z",
     "iopub.status.busy": "2023-04-16T14:31:51.209026Z",
     "iopub.status.idle": "2023-04-16T14:31:51.221269Z",
     "shell.execute_reply": "2023-04-16T14:31:51.220161Z"
    },
    "papermill": {
     "duration": 0.051564,
     "end_time": "2023-04-16T14:31:51.223878",
     "exception": false,
     "start_time": "2023-04-16T14:31:51.172314",
     "status": "completed"
    },
    "tags": []
   },
   "outputs": [
    {
     "data": {
      "text/plain": [
       "tensor([[  -0.6356],\n",
       "        [  -1.8140],\n",
       "        [  -2.9924],\n",
       "        [  -4.1708],\n",
       "        [  -5.3491],\n",
       "        [  -6.5275],\n",
       "        [  -7.7059],\n",
       "        [  -8.8843],\n",
       "        [ -10.0626],\n",
       "        [ -11.2410],\n",
       "        [ -12.4194],\n",
       "        [ -13.5978],\n",
       "        [ -14.7762],\n",
       "        [ -15.9545],\n",
       "        [ -17.1329],\n",
       "        [ -18.3113],\n",
       "        [ -19.4897],\n",
       "        [ -20.6680],\n",
       "        [ -21.8464],\n",
       "        [ -23.0248],\n",
       "        [ -24.2032],\n",
       "        [ -25.3815],\n",
       "        [ -26.5599],\n",
       "        [ -27.7383],\n",
       "        [ -28.9167],\n",
       "        [ -30.0951],\n",
       "        [ -31.2734],\n",
       "        [ -32.4518],\n",
       "        [ -33.6302],\n",
       "        [ -34.8086],\n",
       "        [ -35.9869],\n",
       "        [ -37.1653],\n",
       "        [ -38.3437],\n",
       "        [ -39.5221],\n",
       "        [ -40.7004],\n",
       "        [ -41.8788],\n",
       "        [ -43.0572],\n",
       "        [ -44.2356],\n",
       "        [ -45.4140],\n",
       "        [ -46.5923],\n",
       "        [ -47.7707],\n",
       "        [ -48.9491],\n",
       "        [ -50.1275],\n",
       "        [ -51.3058],\n",
       "        [ -52.4842],\n",
       "        [ -53.6626],\n",
       "        [ -54.8410],\n",
       "        [ -56.0193],\n",
       "        [ -57.1977],\n",
       "        [ -58.3761],\n",
       "        [ -59.5545],\n",
       "        [ -60.7329],\n",
       "        [ -61.9112],\n",
       "        [ -63.0896],\n",
       "        [ -64.2680],\n",
       "        [ -65.4464],\n",
       "        [ -66.6247],\n",
       "        [ -67.8031],\n",
       "        [ -68.9815],\n",
       "        [ -70.1599],\n",
       "        [ -71.3382],\n",
       "        [ -72.5166],\n",
       "        [ -73.6950],\n",
       "        [ -74.8734],\n",
       "        [ -76.0518],\n",
       "        [ -77.2301],\n",
       "        [ -78.4085],\n",
       "        [ -79.5869],\n",
       "        [ -80.7653],\n",
       "        [ -81.9436],\n",
       "        [ -83.1220],\n",
       "        [ -84.3004],\n",
       "        [ -85.4788],\n",
       "        [ -86.6572],\n",
       "        [ -87.8355],\n",
       "        [ -89.0139],\n",
       "        [ -90.1923],\n",
       "        [ -91.3707],\n",
       "        [ -92.5490],\n",
       "        [ -93.7274],\n",
       "        [ -94.9058],\n",
       "        [ -96.0842],\n",
       "        [ -97.2625],\n",
       "        [ -98.4409],\n",
       "        [ -99.6193],\n",
       "        [-100.7977],\n",
       "        [-101.9760],\n",
       "        [-103.1544],\n",
       "        [-104.3328],\n",
       "        [-105.5112],\n",
       "        [-106.6896],\n",
       "        [-107.8679],\n",
       "        [-109.0463],\n",
       "        [-110.2247],\n",
       "        [-111.4031],\n",
       "        [-112.5814],\n",
       "        [-113.7598],\n",
       "        [-114.9382],\n",
       "        [-116.1166],\n",
       "        [-117.2949],\n",
       "        [-118.4733],\n",
       "        [-119.6517],\n",
       "        [-120.8301],\n",
       "        [-122.0085],\n",
       "        [-123.1868],\n",
       "        [-124.3652],\n",
       "        [-125.5436],\n",
       "        [-126.7220],\n",
       "        [-127.9003],\n",
       "        [-129.0787],\n",
       "        [-130.2571],\n",
       "        [-131.4355],\n",
       "        [-132.6138],\n",
       "        [-133.7922],\n",
       "        [-134.9706],\n",
       "        [-136.1490],\n",
       "        [-137.3273],\n",
       "        [-138.5057],\n",
       "        [-139.6841],\n",
       "        [-140.8625],\n",
       "        [-142.0409],\n",
       "        [-143.2192],\n",
       "        [-144.3976],\n",
       "        [-145.5760],\n",
       "        [-146.7544],\n",
       "        [-147.9327],\n",
       "        [-149.1111],\n",
       "        [-150.2895],\n",
       "        [-151.4679],\n",
       "        [-152.6463],\n",
       "        [-153.8246],\n",
       "        [-155.0030],\n",
       "        [-156.1814],\n",
       "        [-157.3598],\n",
       "        [-158.5381],\n",
       "        [-159.7165],\n",
       "        [-160.8949],\n",
       "        [-162.0733],\n",
       "        [-163.2516],\n",
       "        [-164.4300],\n",
       "        [-165.6084],\n",
       "        [-166.7868],\n",
       "        [-167.9651],\n",
       "        [-169.1435],\n",
       "        [-170.3219],\n",
       "        [-171.5003],\n",
       "        [-172.6787],\n",
       "        [-173.8570],\n",
       "        [-175.0354],\n",
       "        [-176.2138],\n",
       "        [-177.3922],\n",
       "        [-178.5705],\n",
       "        [-179.7489],\n",
       "        [-180.9273],\n",
       "        [-182.1057],\n",
       "        [-183.2841],\n",
       "        [-184.4624],\n",
       "        [-185.6408],\n",
       "        [-186.8192],\n",
       "        [-187.9976],\n",
       "        [-189.1759],\n",
       "        [-190.3543],\n",
       "        [-191.5327],\n",
       "        [-192.7111],\n",
       "        [-193.8895],\n",
       "        [-195.0678],\n",
       "        [-196.2462],\n",
       "        [-197.4246],\n",
       "        [-198.6030],\n",
       "        [-199.7813],\n",
       "        [-200.9597],\n",
       "        [-202.1381],\n",
       "        [-203.3165],\n",
       "        [-204.4948],\n",
       "        [-205.6732],\n",
       "        [-206.8516],\n",
       "        [-208.0300],\n",
       "        [-209.2083],\n",
       "        [-210.3867],\n",
       "        [-211.5651],\n",
       "        [-212.7435],\n",
       "        [-213.9219],\n",
       "        [-215.1002],\n",
       "        [-216.2786],\n",
       "        [-217.4570],\n",
       "        [-218.6354],\n",
       "        [-219.8137],\n",
       "        [-220.9921],\n",
       "        [-222.1705],\n",
       "        [-223.3489],\n",
       "        [-224.5273],\n",
       "        [-225.7056],\n",
       "        [-226.8840],\n",
       "        [-228.0624],\n",
       "        [-229.2408],\n",
       "        [-230.4191],\n",
       "        [-231.5975],\n",
       "        [-232.7759],\n",
       "        [-233.9543],\n",
       "        [-235.1326]], grad_fn=<AddmmBackward0>)"
      ]
     },
     "execution_count": 69,
     "metadata": {},
     "output_type": "execute_result"
    }
   ],
   "source": [
    "predicted"
   ]
  },
  {
   "cell_type": "markdown",
   "id": "da479f51",
   "metadata": {
    "papermill": {
     "duration": 0.035245,
     "end_time": "2023-04-16T14:31:51.294198",
     "exception": false,
     "start_time": "2023-04-16T14:31:51.258953",
     "status": "completed"
    },
    "tags": []
   },
   "source": [
    "# 5.4 | Calculating the Loss\n",
    "Now we need to define the loss, here we will be only using `MSELoss`, we will be adding more losses further"
   ]
  },
  {
   "cell_type": "code",
   "execution_count": 70,
   "id": "b91ec93e",
   "metadata": {
    "execution": {
     "iopub.execute_input": "2023-04-16T14:31:51.366352Z",
     "iopub.status.busy": "2023-04-16T14:31:51.365273Z",
     "iopub.status.idle": "2023-04-16T14:31:51.373122Z",
     "shell.execute_reply": "2023-04-16T14:31:51.372039Z"
    },
    "papermill": {
     "duration": 0.04629,
     "end_time": "2023-04-16T14:31:51.375518",
     "exception": false,
     "start_time": "2023-04-16T14:31:51.329228",
     "status": "completed"
    },
    "tags": []
   },
   "outputs": [
    {
     "data": {
      "text/plain": [
       "MSELoss()"
      ]
     },
     "execution_count": 70,
     "metadata": {},
     "output_type": "execute_result"
    }
   ],
   "source": [
    "nn.MSELoss()"
   ]
  },
  {
   "cell_type": "code",
   "execution_count": 71,
   "id": "d2f031a4",
   "metadata": {
    "execution": {
     "iopub.execute_input": "2023-04-16T14:31:51.447300Z",
     "iopub.status.busy": "2023-04-16T14:31:51.446622Z",
     "iopub.status.idle": "2023-04-16T14:31:51.451055Z",
     "shell.execute_reply": "2023-04-16T14:31:51.450233Z"
    },
    "papermill": {
     "duration": 0.042639,
     "end_time": "2023-04-16T14:31:51.453260",
     "exception": false,
     "start_time": "2023-04-16T14:31:51.410621",
     "status": "completed"
    },
    "tags": []
   },
   "outputs": [],
   "source": [
    "sample_loss = nn.MSELoss()"
   ]
  },
  {
   "cell_type": "code",
   "execution_count": 72,
   "id": "c807a494",
   "metadata": {
    "execution": {
     "iopub.execute_input": "2023-04-16T14:31:51.525075Z",
     "iopub.status.busy": "2023-04-16T14:31:51.524677Z",
     "iopub.status.idle": "2023-04-16T14:31:51.537441Z",
     "shell.execute_reply": "2023-04-16T14:31:51.536115Z"
    },
    "papermill": {
     "duration": 0.051745,
     "end_time": "2023-04-16T14:31:51.539996",
     "exception": false,
     "start_time": "2023-04-16T14:31:51.488251",
     "status": "completed"
    },
    "tags": []
   },
   "outputs": [
    {
     "name": "stderr",
     "output_type": "stream",
     "text": [
      "/opt/conda/lib/python3.7/site-packages/torch/nn/modules/loss.py:536: UserWarning: Using a target size (torch.Size([200])) that is different to the input size (torch.Size([200, 1])). This will likely lead to incorrect results due to broadcasting. Please ensure they have the same size.\n",
      "  return F.mse_loss(input, target, reduction=self.reduction)\n"
     ]
    }
   ],
   "source": [
    "loss = sample_loss(predicted , target)"
   ]
  },
  {
   "cell_type": "code",
   "execution_count": 73,
   "id": "53478600",
   "metadata": {
    "execution": {
     "iopub.execute_input": "2023-04-16T14:31:51.613686Z",
     "iopub.status.busy": "2023-04-16T14:31:51.613242Z",
     "iopub.status.idle": "2023-04-16T14:31:51.621687Z",
     "shell.execute_reply": "2023-04-16T14:31:51.620293Z"
    },
    "papermill": {
     "duration": 0.047257,
     "end_time": "2023-04-16T14:31:51.624217",
     "exception": false,
     "start_time": "2023-04-16T14:31:51.576960",
     "status": "completed"
    },
    "tags": []
   },
   "outputs": [
    {
     "data": {
      "text/plain": [
       "tensor(55217.5664, grad_fn=<MseLossBackward0>)"
      ]
     },
     "execution_count": 73,
     "metadata": {},
     "output_type": "execute_result"
    }
   ],
   "source": [
    "loss"
   ]
  },
  {
   "cell_type": "markdown",
   "id": "7a219607",
   "metadata": {
    "papermill": {
     "duration": 0.035599,
     "end_time": "2023-04-16T14:31:51.696388",
     "exception": false,
     "start_time": "2023-04-16T14:31:51.660789",
     "status": "completed"
    },
    "tags": []
   },
   "source": [
    "# 5.5 | The Loss Derivative\n",
    "Now we need to compute the loss derivative.  We can do this by **[pytorch.tensor.backward()](https://pytorch.org/docs/stable/generated/torch.Tensor.backward.html)**\n",
    "We will be using `retain_graph = True` because not doing so will free the tensor we need "
   ]
  },
  {
   "cell_type": "code",
   "execution_count": 74,
   "id": "97c096f6",
   "metadata": {
    "execution": {
     "iopub.execute_input": "2023-04-16T14:31:51.769068Z",
     "iopub.status.busy": "2023-04-16T14:31:51.768669Z",
     "iopub.status.idle": "2023-04-16T14:31:51.786406Z",
     "shell.execute_reply": "2023-04-16T14:31:51.785409Z"
    },
    "papermill": {
     "duration": 0.056713,
     "end_time": "2023-04-16T14:31:51.789139",
     "exception": false,
     "start_time": "2023-04-16T14:31:51.732426",
     "status": "completed"
    },
    "tags": []
   },
   "outputs": [],
   "source": [
    "loss.backward(retain_graph = True)"
   ]
  },
  {
   "cell_type": "markdown",
   "id": "f145288a",
   "metadata": {
    "papermill": {
     "duration": 0.035162,
     "end_time": "2023-04-16T14:31:51.859392",
     "exception": false,
     "start_time": "2023-04-16T14:31:51.824230",
     "status": "completed"
    },
    "tags": []
   },
   "source": [
    "# 5.6 | Update the Parameters\n",
    "We now need to update the parameters . We can do by first defining the type of optimizer we want to use by using **[pytorch.nn.optim.SGD()](https://pytorch.org/docs/stable/generated/torch.optim.SGD.html)**"
   ]
  },
  {
   "cell_type": "code",
   "execution_count": 75,
   "id": "dbc6cb1b",
   "metadata": {
    "execution": {
     "iopub.execute_input": "2023-04-16T14:31:51.931189Z",
     "iopub.status.busy": "2023-04-16T14:31:51.930727Z",
     "iopub.status.idle": "2023-04-16T14:31:51.938914Z",
     "shell.execute_reply": "2023-04-16T14:31:51.937487Z"
    },
    "papermill": {
     "duration": 0.047131,
     "end_time": "2023-04-16T14:31:51.941373",
     "exception": false,
     "start_time": "2023-04-16T14:31:51.894242",
     "status": "completed"
    },
    "tags": []
   },
   "outputs": [
    {
     "data": {
      "text/plain": [
       "SGD (\n",
       "Parameter Group 0\n",
       "    dampening: 0\n",
       "    differentiable: False\n",
       "    foreach: None\n",
       "    lr: 0.01\n",
       "    maximize: False\n",
       "    momentum: 0\n",
       "    nesterov: False\n",
       "    weight_decay: 0\n",
       ")"
      ]
     },
     "execution_count": 75,
     "metadata": {},
     "output_type": "execute_result"
    }
   ],
   "source": [
    "torch.optim.SGD(model.parameters() , lr = 0.01)"
   ]
  },
  {
   "cell_type": "code",
   "execution_count": 76,
   "id": "91e17c0b",
   "metadata": {
    "execution": {
     "iopub.execute_input": "2023-04-16T14:31:52.013509Z",
     "iopub.status.busy": "2023-04-16T14:31:52.012735Z",
     "iopub.status.idle": "2023-04-16T14:31:52.018820Z",
     "shell.execute_reply": "2023-04-16T14:31:52.017407Z"
    },
    "papermill": {
     "duration": 0.045138,
     "end_time": "2023-04-16T14:31:52.021518",
     "exception": false,
     "start_time": "2023-04-16T14:31:51.976380",
     "status": "completed"
    },
    "tags": []
   },
   "outputs": [],
   "source": [
    "optimizer = torch.optim.SGD(model.parameters() , lr = 0.01)"
   ]
  },
  {
   "cell_type": "markdown",
   "id": "3185df49",
   "metadata": {
    "papermill": {
     "duration": 0.035013,
     "end_time": "2023-04-16T14:31:52.091844",
     "exception": false,
     "start_time": "2023-04-16T14:31:52.056831",
     "status": "completed"
    },
    "tags": []
   },
   "source": [
    "Now we can update the parameters by using **[pytorch.optim.optimizer.step()](https://pytorch.org/docs/stable/generated/torch.optim.Optimizer.step.html)**"
   ]
  },
  {
   "cell_type": "code",
   "execution_count": 77,
   "id": "d5e15df0",
   "metadata": {
    "execution": {
     "iopub.execute_input": "2023-04-16T14:31:52.164869Z",
     "iopub.status.busy": "2023-04-16T14:31:52.163710Z",
     "iopub.status.idle": "2023-04-16T14:31:52.172199Z",
     "shell.execute_reply": "2023-04-16T14:31:52.171130Z"
    },
    "papermill": {
     "duration": 0.047966,
     "end_time": "2023-04-16T14:31:52.174836",
     "exception": false,
     "start_time": "2023-04-16T14:31:52.126870",
     "status": "completed"
    },
    "tags": []
   },
   "outputs": [],
   "source": [
    "optimizer.step()"
   ]
  },
  {
   "cell_type": "markdown",
   "id": "fa0a222e",
   "metadata": {
    "papermill": {
     "duration": 0.034744,
     "end_time": "2023-04-16T14:31:52.244534",
     "exception": false,
     "start_time": "2023-04-16T14:31:52.209790",
     "status": "completed"
    },
    "tags": []
   },
   "source": [
    "# 5.7 | Repeat \n",
    "Now we need to repeat these steps for some `max_iter`, to minimise the loss "
   ]
  },
  {
   "cell_type": "code",
   "execution_count": 78,
   "id": "23a7309e",
   "metadata": {
    "execution": {
     "iopub.execute_input": "2023-04-16T14:31:52.317956Z",
     "iopub.status.busy": "2023-04-16T14:31:52.317526Z",
     "iopub.status.idle": "2023-04-16T14:31:52.353977Z",
     "shell.execute_reply": "2023-04-16T14:31:52.352975Z"
    },
    "papermill": {
     "duration": 0.077199,
     "end_time": "2023-04-16T14:31:52.356747",
     "exception": false,
     "start_time": "2023-04-16T14:31:52.279548",
     "status": "completed"
    },
    "tags": []
   },
   "outputs": [],
   "source": [
    "for epoch in range(100):\n",
    "    predicted = model(fea.mT)\n",
    "    losses.append(loss.detach().numpy())\n",
    "    loss.backward(retain_graph = True)\n",
    "    optimizer.step()"
   ]
  },
  {
   "cell_type": "markdown",
   "id": "6b47872a",
   "metadata": {
    "papermill": {
     "duration": 0.035524,
     "end_time": "2023-04-16T14:31:52.427635",
     "exception": false,
     "start_time": "2023-04-16T14:31:52.392111",
     "status": "completed"
    },
    "tags": []
   },
   "source": [
    "Now we just need to put all of this into a function "
   ]
  },
  {
   "cell_type": "markdown",
   "id": "0a1dce72",
   "metadata": {
    "papermill": {
     "duration": 0.03502,
     "end_time": "2023-04-16T14:31:52.497799",
     "exception": false,
     "start_time": "2023-04-16T14:31:52.462779",
     "status": "completed"
    },
    "tags": []
   },
   "source": [
    "# 6 | SGDRegressor Pytroch Final Source Code"
   ]
  },
  {
   "cell_type": "code",
   "execution_count": 79,
   "id": "5750e17f",
   "metadata": {
    "execution": {
     "iopub.execute_input": "2023-04-16T14:31:52.571105Z",
     "iopub.status.busy": "2023-04-16T14:31:52.570002Z",
     "iopub.status.idle": "2023-04-16T14:31:52.578167Z",
     "shell.execute_reply": "2023-04-16T14:31:52.576731Z"
    },
    "papermill": {
     "duration": 0.047474,
     "end_time": "2023-04-16T14:31:52.580725",
     "exception": false,
     "start_time": "2023-04-16T14:31:52.533251",
     "status": "completed"
    },
    "tags": []
   },
   "outputs": [],
   "source": [
    "def SGDR_pytorch(X , y):\n",
    "    model = nn.Linear(X.shape[0] , 1)\n",
    "    optimizer = torch.optim.SGD(model.parameters() , lr = 0.01)\n",
    "    for _ in range(100):\n",
    "        predicted = model(X)\n",
    "        loss = sample_loss(predicted , y)\n",
    "        loss.backward(retain_graph = True)\n",
    "        optimizer.step()\n",
    "    return model().detach().numoy()"
   ]
  },
  {
   "cell_type": "markdown",
   "id": "9113f288",
   "metadata": {
    "papermill": {
     "duration": 0.035145,
     "end_time": "2023-04-16T14:31:52.651404",
     "exception": false,
     "start_time": "2023-04-16T14:31:52.616259",
     "status": "completed"
    },
    "tags": []
   },
   "source": [
    "**THIS IS NOT THE FULL IMPLEMENTATION, IT STILL LACKS MANY FUNCTIONALITIES AND IS VULENRABLE TO MANY EDGE CASES, WE WILL IMPROVE THIS IN THE UPCOMING VERSIONS**\n",
    "\n",
    "**PLEASE COMMENT DOWN IF I DID ANY MISTAKES, OR IF CAN MAKE THIS MORE CONNECTED TO THE GROUND, OR SUGGESTIONS. YOUR ASSISTS ARE HIGHLY APPRECIABLE**\n",
    "\n",
    "**THATS IT FOR TODAY GUYS**\n",
    "\n",
    "**HOPE YOU UNDERSTOOD AND LIKED MY WORK**\n",
    "\n",
    "**DONT FORGET TO MAKE AN UPVOTE :)**\n",
    "\n",
    "**PEACE OUT !!!**"
   ]
  }
 ],
 "metadata": {
  "kernelspec": {
   "display_name": "Python 3",
   "language": "python",
   "name": "python3"
  },
  "language_info": {
   "codemirror_mode": {
    "name": "ipython",
    "version": 3
   },
   "file_extension": ".py",
   "mimetype": "text/x-python",
   "name": "python",
   "nbconvert_exporter": "python",
   "pygments_lexer": "ipython3",
   "version": "3.7.12"
  },
  "papermill": {
   "default_parameters": {},
   "duration": 27.33274,
   "end_time": "2023-04-16T14:31:53.811878",
   "environment_variables": {},
   "exception": null,
   "input_path": "__notebook__.ipynb",
   "output_path": "__notebook__.ipynb",
   "parameters": {},
   "start_time": "2023-04-16T14:31:26.479138",
   "version": "2.4.0"
  }
 },
 "nbformat": 4,
 "nbformat_minor": 5
}
