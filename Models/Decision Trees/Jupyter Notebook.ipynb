{
 "cells": [
  {
   "cell_type": "markdown",
   "id": "de0801ac",
   "metadata": {
    "papermill": {
     "duration": 0.014483,
     "end_time": "2023-05-04T12:51:30.159506",
     "exception": false,
     "start_time": "2023-05-04T12:51:30.145023",
     "status": "completed"
    },
    "tags": []
   },
   "source": [
    "# Decision Trees\n",
    "This notebook is higly inspired by **[AssemblyAI](https://www.youtube.com/@AssemblyAI)=>[How to Implement Decision Trees from scratch with Python](https://youtu.be/NxEHSAfFlK8) KUDOS TO THE TEACHERS**\n",
    "\n",
    "So what are `Decision Trees...?`\n",
    "\n",
    "<img src  = \"https://www.mihaileric.com/static/decision-tree-meme-29e8e977fa4a9dc3fa25e37d3507f09e-bc7bc.jpeg\">\n",
    "\n",
    "Suppose you have a dataset like this \n",
    "\n",
    "|Age|Eligibe To Vote\n",
    "|---|---\n",
    "|13|No\n",
    "|15|No\n",
    "|18|Yes\n",
    "|0|No\n",
    "|69|Yes\n",
    "\n",
    "And you want to know if a person having age $19$ will be `eligible to vote` or not \n",
    "\n",
    "One way you can do is to make a decision, wether a `person age` greater than $18$ or not. \n",
    "\n",
    "We can visualize this as \n",
    "\n",
    "<img src = \"https://media.istockphoto.com/id/1200922650/vector/decision-diagram-color-icon-block-chart-problem-solutions-operations-research-decision-tree.jpg?s=612x612&w=0&k=20&c=IjQiQfKAdYBpEDH3I_7L9uGKlLWIhWrhhwDglim4zFk=\">\n",
    "\n",
    "We call thee boxes `nodes`. Suppose the upper node is a `if-else` condition. If the condition is `True` we move to the `right` else to the `left`\n",
    "\n",
    "So this was a small dataset. Lets assume we have a very big one. It would be way easier if we made a bigger version of the above image, something like this \n",
    "\n",
    "<img src = \"https://static.vecteezy.com/system/resources/thumbnails/001/234/042/small/decision-tree-design.jpg\">\n",
    "\n",
    "At this point it is looking like a `tree` and we take `decisions` using this tree. So lets just name it `Decision Tree`. A decision tree basically is a gorup of nested `if-else` conditions. \n",
    "\n",
    "We call the lowermost `node` or where all the nodes `arose`, the `root node`, and the last nodes to be `leaf` nodes\n",
    "\n",
    "The concept is rather to make `if-else` conditions manually, we somehow teach a machine to make `conditions` by looking at the data. \n",
    "\n",
    "But how can we tell if a `decision` is a good or bad?\n",
    "\n",
    "Lets assume we have this dataset"
   ]
  },
  {
   "cell_type": "code",
   "execution_count": 1,
   "id": "3bfe3fa1",
   "metadata": {
    "_cell_guid": "b1076dfc-b9ad-4769-8c92-a6c4dae69d19",
    "_uuid": "8f2839f25d086af736a60e9eeb907d3b93b6e0e5",
    "execution": {
     "iopub.execute_input": "2023-05-04T12:51:30.180548Z",
     "iopub.status.busy": "2023-05-04T12:51:30.179740Z",
     "iopub.status.idle": "2023-05-04T12:51:30.197544Z",
     "shell.execute_reply": "2023-05-04T12:51:30.196284Z"
    },
    "papermill": {
     "duration": 0.031001,
     "end_time": "2023-05-04T12:51:30.199880",
     "exception": false,
     "start_time": "2023-05-04T12:51:30.168879",
     "status": "completed"
    },
    "tags": []
   },
   "outputs": [
    {
     "name": "stdout",
     "output_type": "stream",
     "text": [
      "/kaggle/input/sample-data/Sample_Data_1.csv\n",
      "/kaggle/input/sample-data/Sample_Data_2.csv\n",
      "/kaggle/input/sample-data/Sample_Data_3.csv\n"
     ]
    }
   ],
   "source": [
    "import os\n",
    "for dirname, _, filenames in os.walk('/kaggle/input'):\n",
    "    for filename in filenames:\n",
    "        print(os.path.join(dirname, filename))"
   ]
  },
  {
   "cell_type": "code",
   "execution_count": 2,
   "id": "49f0a832",
   "metadata": {
    "_cell_guid": "b1076dfc-b9ad-4769-8c92-a6c4dae69d19",
    "_uuid": "8f2839f25d086af736a60e9eeb907d3b93b6e0e5",
    "execution": {
     "iopub.execute_input": "2023-05-04T12:51:30.220503Z",
     "iopub.status.busy": "2023-05-04T12:51:30.219646Z",
     "iopub.status.idle": "2023-05-04T12:51:30.224764Z",
     "shell.execute_reply": "2023-05-04T12:51:30.223781Z"
    },
    "papermill": {
     "duration": 0.017682,
     "end_time": "2023-05-04T12:51:30.226833",
     "exception": false,
     "start_time": "2023-05-04T12:51:30.209151",
     "status": "completed"
    },
    "tags": []
   },
   "outputs": [],
   "source": [
    "import numpy as np \n",
    "import pandas as pd "
   ]
  },
  {
   "cell_type": "code",
   "execution_count": 3,
   "id": "095f7cc7",
   "metadata": {
    "execution": {
     "iopub.execute_input": "2023-05-04T12:51:30.248255Z",
     "iopub.status.busy": "2023-05-04T12:51:30.247473Z",
     "iopub.status.idle": "2023-05-04T12:51:30.268630Z",
     "shell.execute_reply": "2023-05-04T12:51:30.267554Z"
    },
    "papermill": {
     "duration": 0.034556,
     "end_time": "2023-05-04T12:51:30.271093",
     "exception": false,
     "start_time": "2023-05-04T12:51:30.236537",
     "status": "completed"
    },
    "tags": []
   },
   "outputs": [],
   "source": [
    "data = pd.read_csv(\"/kaggle/input/sample-data/Sample_Data_1.csv\")"
   ]
  },
  {
   "cell_type": "code",
   "execution_count": 4,
   "id": "f7d71584",
   "metadata": {
    "execution": {
     "iopub.execute_input": "2023-05-04T12:51:30.292521Z",
     "iopub.status.busy": "2023-05-04T12:51:30.291708Z",
     "iopub.status.idle": "2023-05-04T12:51:30.333115Z",
     "shell.execute_reply": "2023-05-04T12:51:30.331959Z"
    },
    "papermill": {
     "duration": 0.054927,
     "end_time": "2023-05-04T12:51:30.335646",
     "exception": false,
     "start_time": "2023-05-04T12:51:30.280719",
     "status": "completed"
    },
    "tags": []
   },
   "outputs": [
    {
     "data": {
      "text/html": [
       "<div>\n",
       "<style scoped>\n",
       "    .dataframe tbody tr th:only-of-type {\n",
       "        vertical-align: middle;\n",
       "    }\n",
       "\n",
       "    .dataframe tbody tr th {\n",
       "        vertical-align: top;\n",
       "    }\n",
       "\n",
       "    .dataframe thead th {\n",
       "        text-align: right;\n",
       "    }\n",
       "</style>\n",
       "<table border=\"1\" class=\"dataframe\">\n",
       "  <thead>\n",
       "    <tr style=\"text-align: right;\">\n",
       "      <th></th>\n",
       "      <th>x</th>\n",
       "      <th>y</th>\n",
       "      <th>z</th>\n",
       "    </tr>\n",
       "  </thead>\n",
       "  <tbody>\n",
       "    <tr>\n",
       "      <th>0</th>\n",
       "      <td>-33.963989</td>\n",
       "      <td>231.962014</td>\n",
       "      <td>a</td>\n",
       "    </tr>\n",
       "    <tr>\n",
       "      <th>1</th>\n",
       "      <td>34.152445</td>\n",
       "      <td>206.708388</td>\n",
       "      <td>a</td>\n",
       "    </tr>\n",
       "    <tr>\n",
       "      <th>2</th>\n",
       "      <td>7.545619</td>\n",
       "      <td>191.622019</td>\n",
       "      <td>a</td>\n",
       "    </tr>\n",
       "    <tr>\n",
       "      <th>3</th>\n",
       "      <td>6.862322</td>\n",
       "      <td>256.882087</td>\n",
       "      <td>a</td>\n",
       "    </tr>\n",
       "    <tr>\n",
       "      <th>4</th>\n",
       "      <td>-5.574613</td>\n",
       "      <td>209.725402</td>\n",
       "      <td>a</td>\n",
       "    </tr>\n",
       "    <tr>\n",
       "      <th>...</th>\n",
       "      <td>...</td>\n",
       "      <td>...</td>\n",
       "      <td>...</td>\n",
       "    </tr>\n",
       "    <tr>\n",
       "      <th>1158</th>\n",
       "      <td>630.098767</td>\n",
       "      <td>352.367983</td>\n",
       "      <td>b</td>\n",
       "    </tr>\n",
       "    <tr>\n",
       "      <th>1159</th>\n",
       "      <td>654.050088</td>\n",
       "      <td>412.010639</td>\n",
       "      <td>b</td>\n",
       "    </tr>\n",
       "    <tr>\n",
       "      <th>1160</th>\n",
       "      <td>709.733033</td>\n",
       "      <td>391.610226</td>\n",
       "      <td>b</td>\n",
       "    </tr>\n",
       "    <tr>\n",
       "      <th>1161</th>\n",
       "      <td>623.373461</td>\n",
       "      <td>405.861758</td>\n",
       "      <td>b</td>\n",
       "    </tr>\n",
       "    <tr>\n",
       "      <th>1162</th>\n",
       "      <td>649.438698</td>\n",
       "      <td>384.181209</td>\n",
       "      <td>b</td>\n",
       "    </tr>\n",
       "  </tbody>\n",
       "</table>\n",
       "<p>1163 rows × 3 columns</p>\n",
       "</div>"
      ],
      "text/plain": [
       "               x           y  z\n",
       "0     -33.963989  231.962014  a\n",
       "1      34.152445  206.708388  a\n",
       "2       7.545619  191.622019  a\n",
       "3       6.862322  256.882087  a\n",
       "4      -5.574613  209.725402  a\n",
       "...          ...         ... ..\n",
       "1158  630.098767  352.367983  b\n",
       "1159  654.050088  412.010639  b\n",
       "1160  709.733033  391.610226  b\n",
       "1161  623.373461  405.861758  b\n",
       "1162  649.438698  384.181209  b\n",
       "\n",
       "[1163 rows x 3 columns]"
      ]
     },
     "execution_count": 4,
     "metadata": {},
     "output_type": "execute_result"
    }
   ],
   "source": [
    "data"
   ]
  },
  {
   "cell_type": "markdown",
   "id": "357735b0",
   "metadata": {
    "papermill": {
     "duration": 0.009615,
     "end_time": "2023-05-04T12:51:30.354879",
     "exception": false,
     "start_time": "2023-05-04T12:51:30.345264",
     "status": "completed"
    },
    "tags": []
   },
   "source": [
    "Lets now jsut focus on the `y` and the `z` column. "
   ]
  },
  {
   "cell_type": "code",
   "execution_count": 5,
   "id": "7b208d68",
   "metadata": {
    "execution": {
     "iopub.execute_input": "2023-05-04T12:51:30.376610Z",
     "iopub.status.busy": "2023-05-04T12:51:30.375447Z",
     "iopub.status.idle": "2023-05-04T12:51:30.391416Z",
     "shell.execute_reply": "2023-05-04T12:51:30.390382Z"
    },
    "papermill": {
     "duration": 0.029319,
     "end_time": "2023-05-04T12:51:30.393729",
     "exception": false,
     "start_time": "2023-05-04T12:51:30.364410",
     "status": "completed"
    },
    "tags": []
   },
   "outputs": [],
   "source": [
    "data.drop(\"x\" , axis = 1 , inplace = True)\n",
    "data[\"z\"] = np.where(data[\"z\"] == \"a\" , 1 , 0)"
   ]
  },
  {
   "cell_type": "markdown",
   "id": "9c69fda3",
   "metadata": {
    "papermill": {
     "duration": 0.010389,
     "end_time": "2023-05-04T12:51:30.413874",
     "exception": false,
     "start_time": "2023-05-04T12:51:30.403485",
     "status": "completed"
    },
    "tags": []
   },
   "source": [
    "Lets assume make a split at `300`. The condition will be \n",
    "```\n",
    "data[\"y\"] > 300\n",
    "```"
   ]
  },
  {
   "cell_type": "code",
   "execution_count": 6,
   "id": "c585efdd",
   "metadata": {
    "execution": {
     "iopub.execute_input": "2023-05-04T12:51:30.434527Z",
     "iopub.status.busy": "2023-05-04T12:51:30.434107Z",
     "iopub.status.idle": "2023-05-04T12:51:30.443362Z",
     "shell.execute_reply": "2023-05-04T12:51:30.442389Z"
    },
    "papermill": {
     "duration": 0.022539,
     "end_time": "2023-05-04T12:51:30.445881",
     "exception": false,
     "start_time": "2023-05-04T12:51:30.423342",
     "status": "completed"
    },
    "tags": []
   },
   "outputs": [],
   "source": [
    "sample_1 = data[data[\"y\"] > 300]\n",
    "sample_2 = data[data[\"y\"] < 300]"
   ]
  },
  {
   "cell_type": "markdown",
   "id": "3e633493",
   "metadata": {
    "papermill": {
     "duration": 0.00929,
     "end_time": "2023-05-04T12:51:30.464836",
     "exception": false,
     "start_time": "2023-05-04T12:51:30.455546",
     "status": "completed"
    },
    "tags": []
   },
   "source": [
    "If we take a look at the values of `sample_1`"
   ]
  },
  {
   "cell_type": "code",
   "execution_count": 7,
   "id": "a0b714e4",
   "metadata": {
    "execution": {
     "iopub.execute_input": "2023-05-04T12:51:30.485529Z",
     "iopub.status.busy": "2023-05-04T12:51:30.485135Z",
     "iopub.status.idle": "2023-05-04T12:51:30.497070Z",
     "shell.execute_reply": "2023-05-04T12:51:30.495883Z"
    },
    "papermill": {
     "duration": 0.026288,
     "end_time": "2023-05-04T12:51:30.500517",
     "exception": false,
     "start_time": "2023-05-04T12:51:30.474229",
     "status": "completed"
    },
    "tags": []
   },
   "outputs": [
    {
     "data": {
      "text/plain": [
       "0    535\n",
       "Name: z, dtype: int64"
      ]
     },
     "execution_count": 7,
     "metadata": {},
     "output_type": "execute_result"
    }
   ],
   "source": [
    "sample_1[\"z\"].value_counts()"
   ]
  },
  {
   "cell_type": "markdown",
   "id": "7e4bc1f9",
   "metadata": {
    "papermill": {
     "duration": 0.009626,
     "end_time": "2023-05-04T12:51:30.520254",
     "exception": false,
     "start_time": "2023-05-04T12:51:30.510628",
     "status": "completed"
    },
    "tags": []
   },
   "source": [
    "We have all unique values. At this point we can think as $300$ to be a good split point. but lets first also take a look at the other split"
   ]
  },
  {
   "cell_type": "code",
   "execution_count": 8,
   "id": "969f13c8",
   "metadata": {
    "execution": {
     "iopub.execute_input": "2023-05-04T12:51:30.542334Z",
     "iopub.status.busy": "2023-05-04T12:51:30.541710Z",
     "iopub.status.idle": "2023-05-04T12:51:30.552355Z",
     "shell.execute_reply": "2023-05-04T12:51:30.551131Z"
    },
    "papermill": {
     "duration": 0.024229,
     "end_time": "2023-05-04T12:51:30.554795",
     "exception": false,
     "start_time": "2023-05-04T12:51:30.530566",
     "status": "completed"
    },
    "tags": []
   },
   "outputs": [
    {
     "data": {
      "text/plain": [
       "1    594\n",
       "0     34\n",
       "Name: z, dtype: int64"
      ]
     },
     "execution_count": 8,
     "metadata": {},
     "output_type": "execute_result"
    }
   ],
   "source": [
    "sample_2[\"z\"].value_counts()"
   ]
  },
  {
   "cell_type": "markdown",
   "id": "27ed9935",
   "metadata": {
    "papermill": {
     "duration": 0.00959,
     "end_time": "2023-05-04T12:51:30.574099",
     "exception": false,
     "start_time": "2023-05-04T12:51:30.564509",
     "status": "completed"
    },
    "tags": []
   },
   "source": [
    "And we have a mixture of values in `sample_2` with the same split\n",
    "\n",
    "We can see this is not a good split. But how can we tell computer that it is a bad split\n",
    "\n",
    "For this we use `entorpy`. Entropy is basically the variance inside a node. First we calculate the ratio of every class in the nodes. If all the `leaf` nodes have only $1$ uniqe values. If the entropy is $0$, we call that a good split.\n",
    "\n",
    "The formula for `Entropy`\n",
    "\n",
    "$$E(S) = -\\sum\\limits_{i = 1}^{n}p_ilog(p_i)$$\n",
    "\n",
    "Where $p = Ratio$\n",
    "\n",
    "If we only see the `sample_1`. It is a perfect split. So its entropy will be "
   ]
  },
  {
   "cell_type": "code",
   "execution_count": 9,
   "id": "b69bab2c",
   "metadata": {
    "execution": {
     "iopub.execute_input": "2023-05-04T12:51:30.600648Z",
     "iopub.status.busy": "2023-05-04T12:51:30.600196Z",
     "iopub.status.idle": "2023-05-04T12:51:30.608568Z",
     "shell.execute_reply": "2023-05-04T12:51:30.607512Z"
    },
    "papermill": {
     "duration": 0.022097,
     "end_time": "2023-05-04T12:51:30.610684",
     "exception": false,
     "start_time": "2023-05-04T12:51:30.588587",
     "status": "completed"
    },
    "tags": []
   },
   "outputs": [
    {
     "data": {
      "text/plain": [
       "-0.0"
      ]
     },
     "execution_count": 9,
     "metadata": {},
     "output_type": "execute_result"
    }
   ],
   "source": [
    "-np.sum(np.array([p * np.log(p) \n",
    "                  for p in (np.bincount(sample_1[\"z\"]) / sample_1.shape[0])]))"
   ]
  },
  {
   "cell_type": "markdown",
   "id": "b0f81f92",
   "metadata": {
    "papermill": {
     "duration": 0.009261,
     "end_time": "2023-05-04T12:51:30.629603",
     "exception": false,
     "start_time": "2023-05-04T12:51:30.620342",
     "status": "completed"
    },
    "tags": []
   },
   "source": [
    "If we do the same for `sample_2`"
   ]
  },
  {
   "cell_type": "code",
   "execution_count": 10,
   "id": "49ed03d9",
   "metadata": {
    "execution": {
     "iopub.execute_input": "2023-05-04T12:51:30.650535Z",
     "iopub.status.busy": "2023-05-04T12:51:30.650125Z",
     "iopub.status.idle": "2023-05-04T12:51:30.657586Z",
     "shell.execute_reply": "2023-05-04T12:51:30.656374Z"
    },
    "papermill": {
     "duration": 0.020555,
     "end_time": "2023-05-04T12:51:30.659680",
     "exception": false,
     "start_time": "2023-05-04T12:51:30.639125",
     "status": "completed"
    },
    "tags": []
   },
   "outputs": [
    {
     "data": {
      "text/plain": [
       "0.21052969905042707"
      ]
     },
     "execution_count": 10,
     "metadata": {},
     "output_type": "execute_result"
    }
   ],
   "source": [
    "-np.sum(np.array([p * np.log(p) \n",
    "                  for p in (np.bincount(sample_2[\"z\"]) / sample_2.shape[0])]))"
   ]
  },
  {
   "cell_type": "markdown",
   "id": "dac67074",
   "metadata": {
    "papermill": {
     "duration": 0.009643,
     "end_time": "2023-05-04T12:51:30.679206",
     "exception": false,
     "start_time": "2023-05-04T12:51:30.669563",
     "status": "completed"
    },
    "tags": []
   },
   "source": [
    "This shows that it is still a good split. but not the best split \n",
    "\n",
    "Now we know how to evaluate a split. But we still dont know when to stop spliting up the nodes. We still dont know if the node we got should be the last node or not. \n",
    "\n",
    "For this we use `Information Gain`, Basically we see if the entorpy of the child and parent was same or not. or basically we calculate the difference between them. \n",
    "\n",
    "$$Information_-Gain = E(Parent) - E(Child)$$\n",
    "\n",
    "where $E = Entropy$\n",
    "\n",
    "So now we know when to stop the spliting of the nodes. \n",
    "\n",
    "But we still dont know which value to choose for the split. Wether to use random or something else. \n",
    "\n",
    "Actually we try a split at every unique value of the data. To capture as much information as we can. \n",
    "\n",
    "Now we know about the Decision Trees. Lets try making a full algorithm for that \n",
    "\n",
    "First we need to make a `node` class"
   ]
  },
  {
   "cell_type": "code",
   "execution_count": 11,
   "id": "e35c3321",
   "metadata": {
    "execution": {
     "iopub.execute_input": "2023-05-04T12:51:30.700956Z",
     "iopub.status.busy": "2023-05-04T12:51:30.700458Z",
     "iopub.status.idle": "2023-05-04T12:51:30.706787Z",
     "shell.execute_reply": "2023-05-04T12:51:30.705957Z"
    },
    "papermill": {
     "duration": 0.019679,
     "end_time": "2023-05-04T12:51:30.708832",
     "exception": false,
     "start_time": "2023-05-04T12:51:30.689153",
     "status": "completed"
    },
    "tags": []
   },
   "outputs": [],
   "source": [
    "class Node:\n",
    "    def __init__(self, feature=None, threshold=None, left=None, right=None,*,value=None):\n",
    "        self.feature = feature\n",
    "        self.threshold = threshold\n",
    "        self.left = left\n",
    "        self.right = right\n",
    "        self.value = value\n",
    "        \n",
    "    def is_leaf_node(self):\n",
    "        return self.value is not None"
   ]
  },
  {
   "cell_type": "markdown",
   "id": "09087b3f",
   "metadata": {
    "papermill": {
     "duration": 0.010114,
     "end_time": "2023-05-04T12:51:30.728964",
     "exception": false,
     "start_time": "2023-05-04T12:51:30.718850",
     "status": "completed"
    },
    "tags": []
   },
   "source": [
    "`Threshold` is a value where the split is taken \n",
    "\n",
    "Now we will make the `Decision Tree` class "
   ]
  },
  {
   "cell_type": "code",
   "execution_count": 12,
   "id": "da23fc26",
   "metadata": {
    "execution": {
     "iopub.execute_input": "2023-05-04T12:51:30.750254Z",
     "iopub.status.busy": "2023-05-04T12:51:30.749851Z",
     "iopub.status.idle": "2023-05-04T12:51:30.754521Z",
     "shell.execute_reply": "2023-05-04T12:51:30.753588Z"
    },
    "papermill": {
     "duration": 0.01761,
     "end_time": "2023-05-04T12:51:30.756356",
     "exception": false,
     "start_time": "2023-05-04T12:51:30.738746",
     "status": "completed"
    },
    "tags": []
   },
   "outputs": [],
   "source": [
    "class DecisionTree:pass "
   ]
  },
  {
   "cell_type": "markdown",
   "id": "f9620367",
   "metadata": {
    "papermill": {
     "duration": 0.009673,
     "end_time": "2023-05-04T12:51:30.775735",
     "exception": false,
     "start_time": "2023-05-04T12:51:30.766062",
     "status": "completed"
    },
    "tags": []
   },
   "source": [
    "First we will define the `maximum depth` of the tree. Defining `Max_Depth` is important as decision trees can go infintly large"
   ]
  },
  {
   "cell_type": "code",
   "execution_count": 13,
   "id": "5a817390",
   "metadata": {
    "execution": {
     "iopub.execute_input": "2023-05-04T12:51:30.797438Z",
     "iopub.status.busy": "2023-05-04T12:51:30.796989Z",
     "iopub.status.idle": "2023-05-04T12:51:30.802468Z",
     "shell.execute_reply": "2023-05-04T12:51:30.801259Z"
    },
    "papermill": {
     "duration": 0.019368,
     "end_time": "2023-05-04T12:51:30.804745",
     "exception": false,
     "start_time": "2023-05-04T12:51:30.785377",
     "status": "completed"
    },
    "tags": []
   },
   "outputs": [],
   "source": [
    "class DecisionTree:\n",
    "    def __init__(self, max_depth = 100):\n",
    "        self.max_depth = max_depth"
   ]
  },
  {
   "cell_type": "markdown",
   "id": "f0bca358",
   "metadata": {
    "papermill": {
     "duration": 0.010079,
     "end_time": "2023-05-04T12:51:30.824745",
     "exception": false,
     "start_time": "2023-05-04T12:51:30.814666",
     "status": "completed"
    },
    "tags": []
   },
   "source": [
    "Now we will add some more basic arguments to the tree"
   ]
  },
  {
   "cell_type": "code",
   "execution_count": 14,
   "id": "ef91028b",
   "metadata": {
    "execution": {
     "iopub.execute_input": "2023-05-04T12:51:30.846563Z",
     "iopub.status.busy": "2023-05-04T12:51:30.845183Z",
     "iopub.status.idle": "2023-05-04T12:51:30.851356Z",
     "shell.execute_reply": "2023-05-04T12:51:30.850330Z"
    },
    "papermill": {
     "duration": 0.019035,
     "end_time": "2023-05-04T12:51:30.853394",
     "exception": false,
     "start_time": "2023-05-04T12:51:30.834359",
     "status": "completed"
    },
    "tags": []
   },
   "outputs": [],
   "source": [
    "class DecisionTree:\n",
    "    \n",
    "    def __init__(self, min_samples_split=2, max_depth=100, n_features=None):\n",
    "        \n",
    "        self.min_samples_split=min_samples_split\n",
    "        self.max_depth=max_depth\n",
    "        self.n_features=n_features\n",
    "        self.root=None"
   ]
  },
  {
   "cell_type": "markdown",
   "id": "e28046ab",
   "metadata": {
    "papermill": {
     "duration": 0.009478,
     "end_time": "2023-05-04T12:51:30.872714",
     "exception": false,
     "start_time": "2023-05-04T12:51:30.863236",
     "status": "completed"
    },
    "tags": []
   },
   "source": [
    "A algorithm is useless without `fit` and `predict` method"
   ]
  },
  {
   "cell_type": "code",
   "execution_count": 15,
   "id": "dcd6f0ae",
   "metadata": {
    "execution": {
     "iopub.execute_input": "2023-05-04T12:51:30.893881Z",
     "iopub.status.busy": "2023-05-04T12:51:30.893449Z",
     "iopub.status.idle": "2023-05-04T12:51:30.900194Z",
     "shell.execute_reply": "2023-05-04T12:51:30.898763Z"
    },
    "papermill": {
     "duration": 0.019889,
     "end_time": "2023-05-04T12:51:30.902337",
     "exception": false,
     "start_time": "2023-05-04T12:51:30.882448",
     "status": "completed"
    },
    "tags": []
   },
   "outputs": [],
   "source": [
    "class DecisionTree:\n",
    "    \n",
    "    def __init__(self, min_samples_split=2, max_depth=100, n_features=None):\n",
    "        \n",
    "        self.min_samples_split=min_samples_split\n",
    "        self.max_depth=max_depth\n",
    "        self.n_features=n_features\n",
    "        self.root=None\n",
    "        \n",
    "    def fit(self , X , y):pass\n",
    "    def predict(self , X):pass"
   ]
  },
  {
   "cell_type": "markdown",
   "id": "1c565cba",
   "metadata": {
    "papermill": {
     "duration": 0.00955,
     "end_time": "2023-05-04T12:51:30.921679",
     "exception": false,
     "start_time": "2023-05-04T12:51:30.912129",
     "status": "completed"
    },
    "tags": []
   },
   "source": [
    "Now we will make a helper funciton for calcuating `entropy` "
   ]
  },
  {
   "cell_type": "code",
   "execution_count": 16,
   "id": "bdcba1e8",
   "metadata": {
    "execution": {
     "iopub.execute_input": "2023-05-04T12:51:30.942498Z",
     "iopub.status.busy": "2023-05-04T12:51:30.942067Z",
     "iopub.status.idle": "2023-05-04T12:51:30.949189Z",
     "shell.execute_reply": "2023-05-04T12:51:30.947924Z"
    },
    "papermill": {
     "duration": 0.01999,
     "end_time": "2023-05-04T12:51:30.951230",
     "exception": false,
     "start_time": "2023-05-04T12:51:30.931240",
     "status": "completed"
    },
    "tags": []
   },
   "outputs": [],
   "source": [
    "class DecisionTree:\n",
    "    \n",
    "    def __init__(self, min_samples_split=2, max_depth=100, n_features=None):\n",
    "        \n",
    "        self.min_samples_split=min_samples_split\n",
    "        self.max_depth=max_depth\n",
    "        self.n_features=n_features\n",
    "        self.root=None\n",
    "        \n",
    "    def fit(self , X , y):pass\n",
    "    \n",
    "    entropy = lambda self , y : -np.sum(np.array([p * np.log(p)\n",
    "                                                 for p in (np.bincount(y) / len(y))]))\n",
    "    \n",
    "    def predict(self , X):pass"
   ]
  },
  {
   "cell_type": "markdown",
   "id": "c6145186",
   "metadata": {
    "papermill": {
     "duration": 0.009194,
     "end_time": "2023-05-04T12:51:30.970119",
     "exception": false,
     "start_time": "2023-05-04T12:51:30.960925",
     "status": "completed"
    },
    "tags": []
   },
   "source": [
    "Lets assume we have an array like this "
   ]
  },
  {
   "cell_type": "code",
   "execution_count": 17,
   "id": "af660a5c",
   "metadata": {
    "execution": {
     "iopub.execute_input": "2023-05-04T12:51:30.990717Z",
     "iopub.status.busy": "2023-05-04T12:51:30.990266Z",
     "iopub.status.idle": "2023-05-04T12:51:30.996838Z",
     "shell.execute_reply": "2023-05-04T12:51:30.996105Z"
    },
    "papermill": {
     "duration": 0.019285,
     "end_time": "2023-05-04T12:51:30.998728",
     "exception": false,
     "start_time": "2023-05-04T12:51:30.979443",
     "status": "completed"
    },
    "tags": []
   },
   "outputs": [
    {
     "data": {
      "text/plain": [
       "array([ 0,  1,  2,  3,  4,  5,  6,  7,  8,  9, 10, 11, 12, 13, 14, 15, 16,\n",
       "       17, 18, 19, 20, 21, 22, 23, 24, 25, 26, 27, 28, 29, 30, 31, 32, 33,\n",
       "       34, 35, 36, 37, 38, 39, 40, 41, 42, 43, 44, 45, 46, 47, 48, 49, 50,\n",
       "       51, 52, 53, 54, 55, 56, 57, 58, 59, 60, 61, 62, 63, 64, 65, 66, 67,\n",
       "       68, 69, 70, 71, 72, 73, 74, 75, 76, 77, 78, 79, 80, 81, 82, 83, 84,\n",
       "       85, 86, 87, 88, 89, 90, 91, 92, 93, 94, 95, 96, 97, 98, 99])"
      ]
     },
     "execution_count": 17,
     "metadata": {},
     "output_type": "execute_result"
    }
   ],
   "source": [
    "sample_array = np.arange(100)\n",
    "sample_array "
   ]
  },
  {
   "cell_type": "markdown",
   "id": "bce99120",
   "metadata": {
    "papermill": {
     "duration": 0.009373,
     "end_time": "2023-05-04T12:51:31.017892",
     "exception": false,
     "start_time": "2023-05-04T12:51:31.008519",
     "status": "completed"
    },
    "tags": []
   },
   "source": [
    "And you want a $2$ seperate arrays containig the number greater then $50$ and less than $50$"
   ]
  },
  {
   "cell_type": "code",
   "execution_count": 18,
   "id": "d9d5b189",
   "metadata": {
    "execution": {
     "iopub.execute_input": "2023-05-04T12:51:31.039152Z",
     "iopub.status.busy": "2023-05-04T12:51:31.038765Z",
     "iopub.status.idle": "2023-05-04T12:51:31.046386Z",
     "shell.execute_reply": "2023-05-04T12:51:31.045216Z"
    },
    "papermill": {
     "duration": 0.021226,
     "end_time": "2023-05-04T12:51:31.048637",
     "exception": false,
     "start_time": "2023-05-04T12:51:31.027411",
     "status": "completed"
    },
    "tags": []
   },
   "outputs": [
    {
     "data": {
      "text/plain": [
       "array([ 0,  1,  2,  3,  4,  5,  6,  7,  8,  9, 10, 11, 12, 13, 14, 15, 16,\n",
       "       17, 18, 19, 20, 21, 22, 23, 24, 25, 26, 27, 28, 29, 30, 31, 32, 33,\n",
       "       34, 35, 36, 37, 38, 39, 40, 41, 42, 43, 44, 45, 46, 47, 48, 49])"
      ]
     },
     "execution_count": 18,
     "metadata": {},
     "output_type": "execute_result"
    }
   ],
   "source": [
    "np.argwhere(sample_array < 50).flatten()"
   ]
  },
  {
   "cell_type": "markdown",
   "id": "5cde8b2a",
   "metadata": {
    "papermill": {
     "duration": 0.009735,
     "end_time": "2023-05-04T12:51:31.068431",
     "exception": false,
     "start_time": "2023-05-04T12:51:31.058696",
     "status": "completed"
    },
    "tags": []
   },
   "source": [
    "You could have written a proper code for this, but this is just a simple measure to do the same thing. \n",
    "\n",
    "A split will do the same thing we did before. Lets create a helper function for this too. We need a lot of help "
   ]
  },
  {
   "cell_type": "code",
   "execution_count": 19,
   "id": "94eca3fc",
   "metadata": {
    "execution": {
     "iopub.execute_input": "2023-05-04T12:51:31.090255Z",
     "iopub.status.busy": "2023-05-04T12:51:31.089870Z",
     "iopub.status.idle": "2023-05-04T12:51:31.097505Z",
     "shell.execute_reply": "2023-05-04T12:51:31.096557Z"
    },
    "papermill": {
     "duration": 0.020948,
     "end_time": "2023-05-04T12:51:31.099439",
     "exception": false,
     "start_time": "2023-05-04T12:51:31.078491",
     "status": "completed"
    },
    "tags": []
   },
   "outputs": [],
   "source": [
    "class DecisionTree:\n",
    "    \n",
    "    def __init__(self, min_samples_split=2, max_depth=100, n_features=None):\n",
    "        \n",
    "        self.min_samples_split=min_samples_split\n",
    "        self.max_depth=max_depth\n",
    "        self.n_features=n_features\n",
    "        self.root=None\n",
    "        \n",
    "    def fit(self , X , y):pass\n",
    "    \n",
    "    entropy = lambda self , y : -np.sum(np.array([p * np.log(p)\n",
    "                                                 for p in (np.bincount(y) / len(y))]))\n",
    "    \n",
    "    def split(self, X_column, split_thresh):\n",
    "        \n",
    "        left = np.argwhere(X_column <= split_thresh).flatten()\n",
    "        right = np.argwhere(X_column > split_thresh).flatten()\n",
    "        \n",
    "        return left , right\n",
    "    \n",
    "    def predict(self , X):pass"
   ]
  },
  {
   "cell_type": "markdown",
   "id": "603c911e",
   "metadata": {
    "papermill": {
     "duration": 0.009735,
     "end_time": "2023-05-04T12:51:31.119156",
     "exception": false,
     "start_time": "2023-05-04T12:51:31.109421",
     "status": "completed"
    },
    "tags": []
   },
   "source": [
    "Now we need to calulcate the `information_gain` at each split"
   ]
  },
  {
   "cell_type": "code",
   "execution_count": 20,
   "id": "e7548805",
   "metadata": {
    "execution": {
     "iopub.execute_input": "2023-05-04T12:51:31.140914Z",
     "iopub.status.busy": "2023-05-04T12:51:31.140472Z",
     "iopub.status.idle": "2023-05-04T12:51:31.153064Z",
     "shell.execute_reply": "2023-05-04T12:51:31.151755Z"
    },
    "papermill": {
     "duration": 0.026695,
     "end_time": "2023-05-04T12:51:31.155663",
     "exception": false,
     "start_time": "2023-05-04T12:51:31.128968",
     "status": "completed"
    },
    "tags": []
   },
   "outputs": [],
   "source": [
    "class DecisionTree:\n",
    "    \n",
    "    def __init__(self, min_samples_split=2, max_depth=100, n_features=None):\n",
    "        \n",
    "        self.min_samples_split=min_samples_split\n",
    "        self.max_depth=max_depth\n",
    "        self.n_features=n_features\n",
    "        self.root=None\n",
    "        \n",
    "    def fit(self , X , y):pass\n",
    "    \n",
    "    def _information_gain(self, y, X_column, threshold):\n",
    "\n",
    "        parent_entropy = self._entropy(y)\n",
    "\n",
    "        left_idxs, right_idxs = self._split(X_column, threshold)\n",
    "\n",
    "        if len(left_idxs) == 0 or len(right_idxs) == 0:\n",
    "            return 0\n",
    "\n",
    "        child_entropy = (len(left_idxs)/len(y)) * (self.entropy(y[left_idxs])) + (len(right_idxs)/len(y)) * (self._entropy(y[right_idxs]))\n",
    "\n",
    "        information_gain = parent_entropy - child_entropy\n",
    "        return information_gain\n",
    "    \n",
    "    entropy = lambda self , y : -np.sum(np.array([p * np.log(p)\n",
    "                                                 for p in (np.bincount(y) / len(y))]))\n",
    "    \n",
    "    def split(self, X_column, split_thresh):\n",
    "        \n",
    "        left = np.argwhere(X_column <= split_thresh).flatten()\n",
    "        right = np.argwhere(X_column > split_thresh).flatten()\n",
    "        \n",
    "        return left , right\n",
    "    \n",
    "    def predict(self , X):pass"
   ]
  },
  {
   "cell_type": "markdown",
   "id": "a34ca195",
   "metadata": {
    "papermill": {
     "duration": 0.009887,
     "end_time": "2023-05-04T12:51:31.175736",
     "exception": false,
     "start_time": "2023-05-04T12:51:31.165849",
     "status": "completed"
    },
    "tags": []
   },
   "source": [
    "Now we need to evaluate the `information_gain`  and get the `best split`"
   ]
  },
  {
   "cell_type": "code",
   "execution_count": 21,
   "id": "f73ee27f",
   "metadata": {
    "execution": {
     "iopub.execute_input": "2023-05-04T12:51:31.197797Z",
     "iopub.status.busy": "2023-05-04T12:51:31.197391Z",
     "iopub.status.idle": "2023-05-04T12:51:31.209607Z",
     "shell.execute_reply": "2023-05-04T12:51:31.208352Z"
    },
    "papermill": {
     "duration": 0.02661,
     "end_time": "2023-05-04T12:51:31.212177",
     "exception": false,
     "start_time": "2023-05-04T12:51:31.185567",
     "status": "completed"
    },
    "tags": []
   },
   "outputs": [],
   "source": [
    "class DecisionTree:\n",
    "    \n",
    "    def __init__(self, min_samples_split=2, max_depth=100, n_features=None):\n",
    "        \n",
    "        self.min_samples_split=min_samples_split\n",
    "        self.max_depth=max_depth\n",
    "        self.n_features=n_features\n",
    "        self.root=None\n",
    "        \n",
    "    def fit(self , X , y):pass\n",
    "    \n",
    "    def _best_split(self, X, y, feat_idxs):\n",
    "        \n",
    "        best_gain = -1\n",
    "        split_idx, split_threshold = None, None\n",
    "\n",
    "        for feat_idx in feat_idxs:\n",
    "            X_column = X[:, feat_idx]\n",
    "            thresholds = np.unique(X_column)\n",
    "\n",
    "            for thr in thresholds:\n",
    "                \n",
    "                gain = self._information_gain(y, X_column, thr)\n",
    "\n",
    "                if gain > best_gain:\n",
    "                    best_gain = gain\n",
    "                    split_idx = feat_idx\n",
    "                    split_threshold = thr\n",
    "\n",
    "        return split_idx, split_threshold\n",
    "    \n",
    "    def _information_gain(self, y, X_column, threshold):\n",
    "\n",
    "        parent_entropy = self._entropy(y)\n",
    "\n",
    "        left_idxs, right_idxs = self._split(X_column, threshold)\n",
    "\n",
    "        if len(left_idxs) == 0 or len(right_idxs) == 0:\n",
    "            return 0\n",
    "\n",
    "        child_entropy = (len(left_idxs)/len(y)) * (self.entropy(y[left_idxs])) + (len(right_idxs)/len(y)) * (self._entropy(y[right_idxs]))\n",
    "\n",
    "        information_gain = parent_entropy - child_entropy\n",
    "        return information_gain\n",
    "    \n",
    "    entropy = lambda self , y : -np.sum(np.array([p * np.log(p)\n",
    "                                                 for p in (np.bincount(y) / len(y))]))\n",
    "    \n",
    "    def split(self, X_column, split_thresh):\n",
    "        \n",
    "        left = np.argwhere(X_column <= split_thresh).flatten()\n",
    "        right = np.argwhere(X_column > split_thresh).flatten()\n",
    "        \n",
    "        return left , right\n",
    "    \n",
    "    def predict(self , X):pass"
   ]
  },
  {
   "cell_type": "markdown",
   "id": "32d9d20a",
   "metadata": {
    "papermill": {
     "duration": 0.010774,
     "end_time": "2023-05-04T12:51:31.233565",
     "exception": false,
     "start_time": "2023-05-04T12:51:31.222791",
     "status": "completed"
    },
    "tags": []
   },
   "source": [
    "Now we just need to do this iteratively till some `stopping condition`"
   ]
  },
  {
   "cell_type": "code",
   "execution_count": 22,
   "id": "61b7d397",
   "metadata": {
    "execution": {
     "iopub.execute_input": "2023-05-04T12:51:31.256216Z",
     "iopub.status.busy": "2023-05-04T12:51:31.255775Z",
     "iopub.status.idle": "2023-05-04T12:51:31.271870Z",
     "shell.execute_reply": "2023-05-04T12:51:31.270637Z"
    },
    "papermill": {
     "duration": 0.030775,
     "end_time": "2023-05-04T12:51:31.274580",
     "exception": false,
     "start_time": "2023-05-04T12:51:31.243805",
     "status": "completed"
    },
    "tags": []
   },
   "outputs": [],
   "source": [
    "class DecisionTree:\n",
    "    \n",
    "    def __init__(self, min_samples_split=2, max_depth=100, n_features=None):\n",
    "        \n",
    "        self.min_samples_split=min_samples_split\n",
    "        self.max_depth=max_depth\n",
    "        self.n_features=n_features\n",
    "        self.root=None\n",
    "        \n",
    "    def fit(self , X , y):\n",
    "        self.n_features = X.shape[1] if not self.n_features else min(X.shape[1],self.n_features)\n",
    "        self.root = self._grow_tree(X, y)\n",
    "    \n",
    "    def _grow_tree(self, X, y, depth=0):\n",
    "        \n",
    "        n_samples, n_feats = X.shape\n",
    "        n_labels = len(np.unique(y))\n",
    "\n",
    "        if (depth>=self.max_depth or n_labels==1 or n_samples<self.min_samples_split):\n",
    "            leaf_value = self._most_common_label(y)\n",
    "            return Node(value=leaf_value)\n",
    "\n",
    "        feat_idxs = np.random.choice(n_feats, self.n_features, replace=False)\n",
    "\n",
    "        best_feature, best_thresh = self._best_split(X, y, feat_idxs)\n",
    "\n",
    "        left_idxs, right_idxs = self._split(X[:, best_feature], best_thresh)\n",
    "        left = self._grow_tree(X[left_idxs, :], y[left_idxs], depth+1)\n",
    "        right = self._grow_tree(X[right_idxs, :], y[right_idxs], depth+1)\n",
    "        return Node(best_feature, best_thresh, left, right)\n",
    "    \n",
    "    def _best_split(self, X, y, feat_idxs):\n",
    "        \n",
    "        best_gain = -1\n",
    "        split_idx, split_threshold = None, None\n",
    "\n",
    "        for feat_idx in feat_idxs:\n",
    "            X_column = X[:, feat_idx]\n",
    "            thresholds = np.unique(X_column)\n",
    "\n",
    "            for thr in thresholds:\n",
    "                \n",
    "                gain = self._information_gain(y, X_column, thr)\n",
    "\n",
    "                if gain > best_gain:\n",
    "                    best_gain = gain\n",
    "                    split_idx = feat_idx\n",
    "                    split_threshold = thr\n",
    "\n",
    "        return split_idx, split_threshold\n",
    "    \n",
    "    def _information_gain(self, y, X_column, threshold):\n",
    "\n",
    "        parent_entropy = self._entropy(y)\n",
    "\n",
    "        left_idxs, right_idxs = self._split(X_column, threshold)\n",
    "\n",
    "        if len(left_idxs) == 0 or len(right_idxs) == 0:\n",
    "            return 0\n",
    "\n",
    "        child_entropy = (len(left_idxs)/len(y)) * (self.entropy(y[left_idxs])) + (len(right_idxs)/len(y)) * (self._entropy(y[right_idxs]))\n",
    "\n",
    "        information_gain = parent_entropy - child_entropy\n",
    "        return information_gain\n",
    "    \n",
    "    entropy = lambda self , y : -np.sum(np.array([p * np.log(p)\n",
    "                                                 for p in (np.bincount(y) / len(y))]))\n",
    "    \n",
    "    def split(self, X_column, split_thresh):\n",
    "        \n",
    "        left = np.argwhere(X_column <= split_thresh).flatten()\n",
    "        right = np.argwhere(X_column > split_thresh).flatten()\n",
    "        \n",
    "        return left , right\n",
    "    \n",
    "    def predict(self , X):pass"
   ]
  },
  {
   "cell_type": "markdown",
   "id": "eb2b7473",
   "metadata": {
    "papermill": {
     "duration": 0.012005,
     "end_time": "2023-05-04T12:51:31.297409",
     "exception": false,
     "start_time": "2023-05-04T12:51:31.285404",
     "status": "completed"
    },
    "tags": []
   },
   "source": [
    "We have made most of our algorithm for `Decision Tree`. Now we just need to add a function so that it can predict"
   ]
  },
  {
   "cell_type": "code",
   "execution_count": 23,
   "id": "7469d384",
   "metadata": {
    "execution": {
     "iopub.execute_input": "2023-05-04T12:51:31.329635Z",
     "iopub.status.busy": "2023-05-04T12:51:31.328734Z",
     "iopub.status.idle": "2023-05-04T12:51:31.354274Z",
     "shell.execute_reply": "2023-05-04T12:51:31.352949Z"
    },
    "papermill": {
     "duration": 0.046084,
     "end_time": "2023-05-04T12:51:31.357179",
     "exception": false,
     "start_time": "2023-05-04T12:51:31.311095",
     "status": "completed"
    },
    "tags": []
   },
   "outputs": [],
   "source": [
    "class DecisionTree:\n",
    "    \n",
    "    def __init__(self, min_samples_split=2, max_depth=100, n_features=None):\n",
    "        \n",
    "        self.min_samples_split=min_samples_split\n",
    "        self.max_depth=max_depth\n",
    "        self.n_features=n_features\n",
    "        self.root=None\n",
    "        \n",
    "    def fit(self , X , y):\n",
    "        self.n_features = X.shape[1] if not self.n_features else min(X.shape[1],self.n_features)\n",
    "        self.root = self._grow_tree(X, y)\n",
    "    \n",
    "    def _grow_tree(self, X, y, depth=0):\n",
    "        \n",
    "        n_samples, n_feats = X.shape\n",
    "        n_labels = len(np.unique(y))\n",
    "\n",
    "        if (depth>=self.max_depth or n_labels==1 or n_samples<self.min_samples_split):\n",
    "            leaf_value = self._most_common_label(y)\n",
    "            return Node(value=leaf_value)\n",
    "\n",
    "        feat_idxs = np.random.choice(n_feats, self.n_features, replace=False)\n",
    "\n",
    "        best_feature, best_thresh = self._best_split(X, y, feat_idxs)\n",
    "\n",
    "        left_idxs, right_idxs = self._split(X[:, best_feature], best_thresh)\n",
    "        left = self._grow_tree(X[left_idxs, :], y[left_idxs], depth+1)\n",
    "        right = self._grow_tree(X[right_idxs, :], y[right_idxs], depth+1)\n",
    "        return Node(best_feature, best_thresh, left, right)\n",
    "    \n",
    "    def _best_split(self, X, y, feat_idxs):\n",
    "        \n",
    "        best_gain = -1\n",
    "        split_idx, split_threshold = None, None\n",
    "\n",
    "        for feat_idx in feat_idxs:\n",
    "            X_column = X[:, feat_idx]\n",
    "            thresholds = np.unique(X_column)\n",
    "\n",
    "            for thr in thresholds:\n",
    "                \n",
    "                gain = self._information_gain(y, X_column, thr)\n",
    "\n",
    "                if gain > best_gain:\n",
    "                    best_gain = gain\n",
    "                    split_idx = feat_idx\n",
    "                    split_threshold = thr\n",
    "\n",
    "        return split_idx, split_threshold\n",
    "    \n",
    "    def _information_gain(self, y, X_column, threshold):\n",
    "\n",
    "        parent_entropy = self._entropy(y)\n",
    "\n",
    "        left_idxs, right_idxs = self._split(X_column, threshold)\n",
    "\n",
    "        if len(left_idxs) == 0 or len(right_idxs) == 0:\n",
    "            return 0\n",
    "\n",
    "        child_entropy = (len(left_idxs)/len(y)) * (self.entropy(y[left_idxs])) + (len(right_idxs)/len(y)) * (self._entropy(y[right_idxs]))\n",
    "\n",
    "        information_gain = parent_entropy - child_entropy\n",
    "        return information_gain\n",
    "    \n",
    "    entropy = lambda self , y : -np.sum(np.array([p * np.log(p)\n",
    "                                                 for p in (np.bincount(y) / len(y))]))\n",
    "    \n",
    "    def split(self, X_column, split_thresh):\n",
    "        \n",
    "        left = np.argwhere(X_column <= split_thresh).flatten()\n",
    "        right = np.argwhere(X_column > split_thresh).flatten()\n",
    "        \n",
    "        return left , right\n",
    "    \n",
    "    def _most_common_label(self, y):\n",
    "        \n",
    "        counter = Counter(y)\n",
    "        value = counter.most_common(1)[0][0]\n",
    "        \n",
    "        return value\n",
    "\n",
    "    def predict(self, X):\n",
    "        \n",
    "        return np.array([self._traverse_tree(x, self.root) for x in X])\n",
    "\n",
    "    def _traverse_tree(self, x, node):\n",
    "        \n",
    "        if node.is_leaf_node():\n",
    "            \n",
    "            return node.value\n",
    "\n",
    "        if x[node.feature] <= node.threshold:\n",
    "            \n",
    "            return self._traverse_tree(x, node.left)\n",
    "        \n",
    "        return self._traverse_tree(x, node.right)"
   ]
  },
  {
   "cell_type": "markdown",
   "id": "80aa4df4",
   "metadata": {
    "papermill": {
     "duration": 0.015642,
     "end_time": "2023-05-04T12:51:31.389741",
     "exception": false,
     "start_time": "2023-05-04T12:51:31.374099",
     "status": "completed"
    },
    "tags": []
   },
   "source": [
    "And we have finally made our `Decision Tree`\n",
    "\n",
    "<img src = \"https://media.makeameme.org/created/finally-a-decision.jpg\">\n",
    "\n",
    "# Decision Trees Final Source Code"
   ]
  },
  {
   "cell_type": "code",
   "execution_count": 24,
   "id": "93f6fb2d",
   "metadata": {
    "execution": {
     "iopub.execute_input": "2023-05-04T12:51:31.418131Z",
     "iopub.status.busy": "2023-05-04T12:51:31.417277Z",
     "iopub.status.idle": "2023-05-04T12:51:31.434887Z",
     "shell.execute_reply": "2023-05-04T12:51:31.433774Z"
    },
    "papermill": {
     "duration": 0.034304,
     "end_time": "2023-05-04T12:51:31.436894",
     "exception": false,
     "start_time": "2023-05-04T12:51:31.402590",
     "status": "completed"
    },
    "tags": []
   },
   "outputs": [],
   "source": [
    "class DecisionTree:\n",
    "    \n",
    "    def __init__(self, min_samples_split=2, max_depth=100, n_features=None):\n",
    "        \n",
    "        self.min_samples_split=min_samples_split\n",
    "        self.max_depth=max_depth\n",
    "        self.n_features=n_features\n",
    "        self.root=None\n",
    "        \n",
    "    def fit(self , X , y):\n",
    "        \n",
    "        self.n_features = X.shape[1] if not self.n_features else min(X.shape[1],self.n_features)\n",
    "        self.root = self._grow_tree(X, y)\n",
    "    \n",
    "    def _grow_tree(self, X, y, depth=0):\n",
    "        \n",
    "        n_samples, n_feats = X.shape\n",
    "        n_labels = len(np.unique(y))\n",
    "\n",
    "        if (depth>=self.max_depth or n_labels==1 or n_samples<self.min_samples_split):\n",
    "            \n",
    "            leaf_value = self._most_common_label(y)\n",
    "            \n",
    "            return Node(value=leaf_value)\n",
    "\n",
    "        feat_idxs = np.random.choice(n_feats, self.n_features, replace=False)\n",
    "\n",
    "        best_feature, best_thresh = self._best_split(X, y, feat_idxs)\n",
    "\n",
    "        left_idxs, right_idxs = self._split(X[:, best_feature], best_thresh)\n",
    "        left = self._grow_tree(X[left_idxs, :], y[left_idxs], depth+1)\n",
    "        right = self._grow_tree(X[right_idxs, :], y[right_idxs], depth+1)\n",
    "        return Node(best_feature, best_thresh, left, right)\n",
    "    \n",
    "    def _best_split(self, X, y, feat_idxs):\n",
    "        \n",
    "        best_gain = -1\n",
    "        split_idx, split_threshold = None, None\n",
    "\n",
    "        for feat_idx in feat_idxs:\n",
    "            X_column = X[:, feat_idx]\n",
    "            thresholds = np.unique(X_column)\n",
    "\n",
    "            for thr in thresholds:\n",
    "                \n",
    "                gain = self._information_gain(y, X_column, thr)\n",
    "\n",
    "                if gain > best_gain:\n",
    "                    best_gain = gain\n",
    "                    split_idx = feat_idx\n",
    "                    split_threshold = thr\n",
    "\n",
    "        return split_idx, split_threshold\n",
    "    \n",
    "    def _information_gain(self, y, X_column, threshold):\n",
    "\n",
    "        parent_entropy = self._entropy(y)\n",
    "\n",
    "        left_idxs, right_idxs = self._split(X_column, threshold)\n",
    "\n",
    "        if len(left_idxs) == 0 or len(right_idxs) == 0:\n",
    "            \n",
    "            return 0\n",
    "\n",
    "        child_entropy = (len(left_idxs)/len(y)) * (self.entropy(y[left_idxs])) + (len(right_idxs)/len(y)) * (self._entropy(y[right_idxs]))\n",
    "\n",
    "        information_gain = parent_entropy - child_entropy\n",
    "        return information_gain\n",
    "    \n",
    "    entropy = lambda self , y : -np.sum(np.array([p * np.log(p)\n",
    "                                                 for p in (np.bincount(y) / len(y))]))\n",
    "    \n",
    "    def split(self, X_column, split_thresh):\n",
    "        \n",
    "        left = np.argwhere(X_column <= split_thresh).flatten()\n",
    "        right = np.argwhere(X_column > split_thresh).flatten()\n",
    "        \n",
    "        return left , right\n",
    "    \n",
    "    def _most_common_label(self, y):\n",
    "        \n",
    "        counter = Counter(y)\n",
    "        value = counter.most_common(1)[0][0]\n",
    "        \n",
    "        return value\n",
    "\n",
    "    def predict(self, X):\n",
    "        \n",
    "        return np.array([self._traverse_tree(x, self.root) for x in X])\n",
    "\n",
    "    def _traverse_tree(self, x, node):\n",
    "        \n",
    "        if node.is_leaf_node():\n",
    "            \n",
    "            return node.value\n",
    "\n",
    "        if x[node.feature] <= node.threshold:\n",
    "            \n",
    "            return self._traverse_tree(x, node.left)\n",
    "        \n",
    "        return self._traverse_tree(x, node.right)"
   ]
  },
  {
   "cell_type": "markdown",
   "id": "9802c8a2",
   "metadata": {
    "papermill": {
     "duration": 0.009968,
     "end_time": "2023-05-04T12:51:31.456898",
     "exception": false,
     "start_time": "2023-05-04T12:51:31.446930",
     "status": "completed"
    },
    "tags": []
   },
   "source": [
    "**THIS IS NOT THE FULL IMPLEMENTATION, IT STILL LACKS MANY FUNCTIONALITIES AND IS VULENRABLE TO MANY EDGE CASES, WE WILL IMPROVE THIS IN THE UPCOMING VERSIONS**\n",
    "\n",
    "**PLEASE COMMENT DOWN IF I DID ANY MISTAKES, OR IF CAN MAKE THIS MORE CONNECTED TO THE GROUND, OR SUGGESTIONS. YOUR ASSISTS ARE HIGHLY APPRECIABLE**\n",
    "\n",
    "**THATS IT FOR TODAY GUYS**\n",
    "\n",
    "**HOPE YOU UNDERSTOOD AND LIKED MY WORK**\n",
    "\n",
    "**DONT FORGET TO MAKE AN UPVOTE :)**\n",
    "\n",
    "**PEACE OUT !!!**"
   ]
  }
 ],
 "metadata": {
  "kernelspec": {
   "display_name": "Python 3",
   "language": "python",
   "name": "python3"
  },
  "language_info": {
   "codemirror_mode": {
    "name": "ipython",
    "version": 3
   },
   "file_extension": ".py",
   "mimetype": "text/x-python",
   "name": "python",
   "nbconvert_exporter": "python",
   "pygments_lexer": "ipython3",
   "version": "3.10.10"
  },
  "papermill": {
   "default_parameters": {},
   "duration": 12.933799,
   "end_time": "2023-05-04T12:51:32.489043",
   "environment_variables": {},
   "exception": null,
   "input_path": "__notebook__.ipynb",
   "output_path": "__notebook__.ipynb",
   "parameters": {},
   "start_time": "2023-05-04T12:51:19.555244",
   "version": "2.4.0"
  }
 },
 "nbformat": 4,
 "nbformat_minor": 5
}
