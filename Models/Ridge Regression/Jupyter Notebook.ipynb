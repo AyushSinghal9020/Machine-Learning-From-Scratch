{
  "nbformat": 4,
  "nbformat_minor": 0,
  "metadata": {
    "colab": {
      "provenance": []
    },
    "kernelspec": {
      "name": "python3",
      "display_name": "Python 3"
    },
    "language_info": {
      "name": "python"
    }
  },
  "cells": [
    {
      "cell_type": "markdown",
      "source": [
        "# Ridge Regression\n",
        "\n",
        "`Ridge regression` is a type of `linear regression` that is used to `deal` with `multicollinearity`. An `additional penalty term` is `added` to the `cost function` in order to `shrink` the `coefficients` of the `predictor variables` towards `zero`.\n",
        "\n",
        "The `strength` of the `penalty term` is controlled by a `hyperparameter` $λ$. `Ridge regression` can be used in situations where there are `many predictor variables`, but the number of observations is relatively small. It can also be useful when there is multicollinearity among the predictor variables, which can lead to unstable coefficient estimates.\n",
        "\n",
        "Ridge regression has several advantages over traditional linear regression, including reduced variance, improved stability of coefficient estimates, and the ability to handle multicollinearity. However, it also has some limitations, including the need to tune the hyperparameter λ and the possibility of introducing bias into the coefficient estimates if the penalty term is too strong.\n",
        "$$J_{\\beta_-modified} = RSS_\\beta + \\lambda \\sum\\beta^2$$\n",
        "\n",
        "$$\\beta_{Ridge} = \\frac {x^Ty}{x^TX+\\lambda}$$\n"
      ],
      "metadata": {
        "id": "yBYRp6aMeOB9"
      }
    },
    {
      "cell_type": "code",
      "source": [
        "import numpy as np \n",
        "import pandas as pd "
      ],
      "metadata": {
        "id": "V_Qg9d_EJXQ1"
      },
      "execution_count": 2,
      "outputs": []
    },
    {
      "cell_type": "markdown",
      "source": [
        "Lets assume we have two arrays `train` and `test` of the same length"
      ],
      "metadata": {
        "id": "wcoEIumnJL8U"
      }
    },
    {
      "cell_type": "code",
      "source": [
        "features = np.array([[x for x in range(1 , 101)] ,\n",
        "                  [x for x in range(1 , 101)]])\n",
        "\n",
        "target = np.array([x for x in range(2 , 202 , 2)])"
      ],
      "metadata": {
        "id": "yrrQHvSDmKan"
      },
      "execution_count": 17,
      "outputs": []
    },
    {
      "cell_type": "code",
      "source": [
        "features.shape"
      ],
      "metadata": {
        "colab": {
          "base_uri": "https://localhost:8080/"
        },
        "id": "J7fJRbcx22aq",
        "outputId": "efb2899f-afd3-4ff1-dfc2-73788862bf73"
      },
      "execution_count": 18,
      "outputs": [
        {
          "output_type": "execute_result",
          "data": {
            "text/plain": [
              "(2, 100)"
            ]
          },
          "metadata": {},
          "execution_count": 18
        }
      ]
    },
    {
      "cell_type": "code",
      "source": [
        "target.shape"
      ],
      "metadata": {
        "colab": {
          "base_uri": "https://localhost:8080/"
        },
        "id": "6aUDTNpV360L",
        "outputId": "61ddf4f4-cc3d-4f8e-ff77-64567de876ba"
      },
      "execution_count": 19,
      "outputs": [
        {
          "output_type": "execute_result",
          "data": {
            "text/plain": [
              "(100,)"
            ]
          },
          "metadata": {},
          "execution_count": 19
        }
      ]
    },
    {
      "cell_type": "code",
      "source": [
        "features"
      ],
      "metadata": {
        "colab": {
          "base_uri": "https://localhost:8080/"
        },
        "id": "zyAseqrp3GRz",
        "outputId": "aa7c9220-de88-4244-9f78-1477f9e591ee"
      },
      "execution_count": 20,
      "outputs": [
        {
          "output_type": "execute_result",
          "data": {
            "text/plain": [
              "array([[  1,   2,   3,   4,   5,   6,   7,   8,   9,  10,  11,  12,  13,\n",
              "         14,  15,  16,  17,  18,  19,  20,  21,  22,  23,  24,  25,  26,\n",
              "         27,  28,  29,  30,  31,  32,  33,  34,  35,  36,  37,  38,  39,\n",
              "         40,  41,  42,  43,  44,  45,  46,  47,  48,  49,  50,  51,  52,\n",
              "         53,  54,  55,  56,  57,  58,  59,  60,  61,  62,  63,  64,  65,\n",
              "         66,  67,  68,  69,  70,  71,  72,  73,  74,  75,  76,  77,  78,\n",
              "         79,  80,  81,  82,  83,  84,  85,  86,  87,  88,  89,  90,  91,\n",
              "         92,  93,  94,  95,  96,  97,  98,  99, 100],\n",
              "       [  1,   2,   3,   4,   5,   6,   7,   8,   9,  10,  11,  12,  13,\n",
              "         14,  15,  16,  17,  18,  19,  20,  21,  22,  23,  24,  25,  26,\n",
              "         27,  28,  29,  30,  31,  32,  33,  34,  35,  36,  37,  38,  39,\n",
              "         40,  41,  42,  43,  44,  45,  46,  47,  48,  49,  50,  51,  52,\n",
              "         53,  54,  55,  56,  57,  58,  59,  60,  61,  62,  63,  64,  65,\n",
              "         66,  67,  68,  69,  70,  71,  72,  73,  74,  75,  76,  77,  78,\n",
              "         79,  80,  81,  82,  83,  84,  85,  86,  87,  88,  89,  90,  91,\n",
              "         92,  93,  94,  95,  96,  97,  98,  99, 100]])"
            ]
          },
          "metadata": {},
          "execution_count": 20
        }
      ]
    },
    {
      "cell_type": "code",
      "source": [
        "target"
      ],
      "metadata": {
        "colab": {
          "base_uri": "https://localhost:8080/"
        },
        "id": "RZheS1y5JtT8",
        "outputId": "71b76b05-175a-454e-9a12-e0d0c76af433"
      },
      "execution_count": 21,
      "outputs": [
        {
          "output_type": "execute_result",
          "data": {
            "text/plain": [
              "array([  2,   4,   6,   8,  10,  12,  14,  16,  18,  20,  22,  24,  26,\n",
              "        28,  30,  32,  34,  36,  38,  40,  42,  44,  46,  48,  50,  52,\n",
              "        54,  56,  58,  60,  62,  64,  66,  68,  70,  72,  74,  76,  78,\n",
              "        80,  82,  84,  86,  88,  90,  92,  94,  96,  98, 100, 102, 104,\n",
              "       106, 108, 110, 112, 114, 116, 118, 120, 122, 124, 126, 128, 130,\n",
              "       132, 134, 136, 138, 140, 142, 144, 146, 148, 150, 152, 154, 156,\n",
              "       158, 160, 162, 164, 166, 168, 170, 172, 174, 176, 178, 180, 182,\n",
              "       184, 186, 188, 190, 192, 194, 196, 198, 200])"
            ]
          },
          "metadata": {},
          "execution_count": 21
        }
      ]
    },
    {
      "cell_type": "markdown",
      "source": [
        "Lets see this in a dataframe form for better understanding"
      ],
      "metadata": {
        "id": "cUsjV3pTJ2-z"
      }
    },
    {
      "cell_type": "code",
      "source": [
        "pd.DataFrame(features)"
      ],
      "metadata": {
        "colab": {
          "base_uri": "https://localhost:8080/",
          "height": 141
        },
        "id": "JL9qnzt33Pua",
        "outputId": "9733137e-b30d-4d3d-8227-ca4d34e37daf"
      },
      "execution_count": 22,
      "outputs": [
        {
          "output_type": "execute_result",
          "data": {
            "text/plain": [
              "   0   1   2   3   4   5   6   7   8   9   ...  90  91  92  93  94  95  96  \\\n",
              "0   1   2   3   4   5   6   7   8   9  10  ...  91  92  93  94  95  96  97   \n",
              "1   1   2   3   4   5   6   7   8   9  10  ...  91  92  93  94  95  96  97   \n",
              "\n",
              "   97  98   99  \n",
              "0  98  99  100  \n",
              "1  98  99  100  \n",
              "\n",
              "[2 rows x 100 columns]"
            ],
            "text/html": [
              "\n",
              "  <div id=\"df-82ef8d72-08e3-4904-9371-e8b653f346d9\">\n",
              "    <div class=\"colab-df-container\">\n",
              "      <div>\n",
              "<style scoped>\n",
              "    .dataframe tbody tr th:only-of-type {\n",
              "        vertical-align: middle;\n",
              "    }\n",
              "\n",
              "    .dataframe tbody tr th {\n",
              "        vertical-align: top;\n",
              "    }\n",
              "\n",
              "    .dataframe thead th {\n",
              "        text-align: right;\n",
              "    }\n",
              "</style>\n",
              "<table border=\"1\" class=\"dataframe\">\n",
              "  <thead>\n",
              "    <tr style=\"text-align: right;\">\n",
              "      <th></th>\n",
              "      <th>0</th>\n",
              "      <th>1</th>\n",
              "      <th>2</th>\n",
              "      <th>3</th>\n",
              "      <th>4</th>\n",
              "      <th>5</th>\n",
              "      <th>6</th>\n",
              "      <th>7</th>\n",
              "      <th>8</th>\n",
              "      <th>9</th>\n",
              "      <th>...</th>\n",
              "      <th>90</th>\n",
              "      <th>91</th>\n",
              "      <th>92</th>\n",
              "      <th>93</th>\n",
              "      <th>94</th>\n",
              "      <th>95</th>\n",
              "      <th>96</th>\n",
              "      <th>97</th>\n",
              "      <th>98</th>\n",
              "      <th>99</th>\n",
              "    </tr>\n",
              "  </thead>\n",
              "  <tbody>\n",
              "    <tr>\n",
              "      <th>0</th>\n",
              "      <td>1</td>\n",
              "      <td>2</td>\n",
              "      <td>3</td>\n",
              "      <td>4</td>\n",
              "      <td>5</td>\n",
              "      <td>6</td>\n",
              "      <td>7</td>\n",
              "      <td>8</td>\n",
              "      <td>9</td>\n",
              "      <td>10</td>\n",
              "      <td>...</td>\n",
              "      <td>91</td>\n",
              "      <td>92</td>\n",
              "      <td>93</td>\n",
              "      <td>94</td>\n",
              "      <td>95</td>\n",
              "      <td>96</td>\n",
              "      <td>97</td>\n",
              "      <td>98</td>\n",
              "      <td>99</td>\n",
              "      <td>100</td>\n",
              "    </tr>\n",
              "    <tr>\n",
              "      <th>1</th>\n",
              "      <td>1</td>\n",
              "      <td>2</td>\n",
              "      <td>3</td>\n",
              "      <td>4</td>\n",
              "      <td>5</td>\n",
              "      <td>6</td>\n",
              "      <td>7</td>\n",
              "      <td>8</td>\n",
              "      <td>9</td>\n",
              "      <td>10</td>\n",
              "      <td>...</td>\n",
              "      <td>91</td>\n",
              "      <td>92</td>\n",
              "      <td>93</td>\n",
              "      <td>94</td>\n",
              "      <td>95</td>\n",
              "      <td>96</td>\n",
              "      <td>97</td>\n",
              "      <td>98</td>\n",
              "      <td>99</td>\n",
              "      <td>100</td>\n",
              "    </tr>\n",
              "  </tbody>\n",
              "</table>\n",
              "<p>2 rows × 100 columns</p>\n",
              "</div>\n",
              "      <button class=\"colab-df-convert\" onclick=\"convertToInteractive('df-82ef8d72-08e3-4904-9371-e8b653f346d9')\"\n",
              "              title=\"Convert this dataframe to an interactive table.\"\n",
              "              style=\"display:none;\">\n",
              "        \n",
              "  <svg xmlns=\"http://www.w3.org/2000/svg\" height=\"24px\"viewBox=\"0 0 24 24\"\n",
              "       width=\"24px\">\n",
              "    <path d=\"M0 0h24v24H0V0z\" fill=\"none\"/>\n",
              "    <path d=\"M18.56 5.44l.94 2.06.94-2.06 2.06-.94-2.06-.94-.94-2.06-.94 2.06-2.06.94zm-11 1L8.5 8.5l.94-2.06 2.06-.94-2.06-.94L8.5 2.5l-.94 2.06-2.06.94zm10 10l.94 2.06.94-2.06 2.06-.94-2.06-.94-.94-2.06-.94 2.06-2.06.94z\"/><path d=\"M17.41 7.96l-1.37-1.37c-.4-.4-.92-.59-1.43-.59-.52 0-1.04.2-1.43.59L10.3 9.45l-7.72 7.72c-.78.78-.78 2.05 0 2.83L4 21.41c.39.39.9.59 1.41.59.51 0 1.02-.2 1.41-.59l7.78-7.78 2.81-2.81c.8-.78.8-2.07 0-2.86zM5.41 20L4 18.59l7.72-7.72 1.47 1.35L5.41 20z\"/>\n",
              "  </svg>\n",
              "      </button>\n",
              "      \n",
              "  <style>\n",
              "    .colab-df-container {\n",
              "      display:flex;\n",
              "      flex-wrap:wrap;\n",
              "      gap: 12px;\n",
              "    }\n",
              "\n",
              "    .colab-df-convert {\n",
              "      background-color: #E8F0FE;\n",
              "      border: none;\n",
              "      border-radius: 50%;\n",
              "      cursor: pointer;\n",
              "      display: none;\n",
              "      fill: #1967D2;\n",
              "      height: 32px;\n",
              "      padding: 0 0 0 0;\n",
              "      width: 32px;\n",
              "    }\n",
              "\n",
              "    .colab-df-convert:hover {\n",
              "      background-color: #E2EBFA;\n",
              "      box-shadow: 0px 1px 2px rgba(60, 64, 67, 0.3), 0px 1px 3px 1px rgba(60, 64, 67, 0.15);\n",
              "      fill: #174EA6;\n",
              "    }\n",
              "\n",
              "    [theme=dark] .colab-df-convert {\n",
              "      background-color: #3B4455;\n",
              "      fill: #D2E3FC;\n",
              "    }\n",
              "\n",
              "    [theme=dark] .colab-df-convert:hover {\n",
              "      background-color: #434B5C;\n",
              "      box-shadow: 0px 1px 3px 1px rgba(0, 0, 0, 0.15);\n",
              "      filter: drop-shadow(0px 1px 2px rgba(0, 0, 0, 0.3));\n",
              "      fill: #FFFFFF;\n",
              "    }\n",
              "  </style>\n",
              "\n",
              "      <script>\n",
              "        const buttonEl =\n",
              "          document.querySelector('#df-82ef8d72-08e3-4904-9371-e8b653f346d9 button.colab-df-convert');\n",
              "        buttonEl.style.display =\n",
              "          google.colab.kernel.accessAllowed ? 'block' : 'none';\n",
              "\n",
              "        async function convertToInteractive(key) {\n",
              "          const element = document.querySelector('#df-82ef8d72-08e3-4904-9371-e8b653f346d9');\n",
              "          const dataTable =\n",
              "            await google.colab.kernel.invokeFunction('convertToInteractive',\n",
              "                                                     [key], {});\n",
              "          if (!dataTable) return;\n",
              "\n",
              "          const docLinkHtml = 'Like what you see? Visit the ' +\n",
              "            '<a target=\"_blank\" href=https://colab.research.google.com/notebooks/data_table.ipynb>data table notebook</a>'\n",
              "            + ' to learn more about interactive tables.';\n",
              "          element.innerHTML = '';\n",
              "          dataTable['output_type'] = 'display_data';\n",
              "          await google.colab.output.renderOutput(dataTable, element);\n",
              "          const docLink = document.createElement('div');\n",
              "          docLink.innerHTML = docLinkHtml;\n",
              "          element.appendChild(docLink);\n",
              "        }\n",
              "      </script>\n",
              "    </div>\n",
              "  </div>\n",
              "  "
            ]
          },
          "metadata": {},
          "execution_count": 22
        }
      ]
    },
    {
      "cell_type": "markdown",
      "source": [
        "This data is in column wise, but we need in row wise, for this we just need to take transpose of the array"
      ],
      "metadata": {
        "id": "m7zodRNYJ_ML"
      }
    },
    {
      "cell_type": "code",
      "source": [
        "pd.DataFrame(features.T)"
      ],
      "metadata": {
        "colab": {
          "base_uri": "https://localhost:8080/",
          "height": 423
        },
        "id": "CS-2ywQpKM8U",
        "outputId": "74705688-a98d-4f63-db2b-7c871fcdba66"
      },
      "execution_count": 23,
      "outputs": [
        {
          "output_type": "execute_result",
          "data": {
            "text/plain": [
              "      0    1\n",
              "0     1    1\n",
              "1     2    2\n",
              "2     3    3\n",
              "3     4    4\n",
              "4     5    5\n",
              "..  ...  ...\n",
              "95   96   96\n",
              "96   97   97\n",
              "97   98   98\n",
              "98   99   99\n",
              "99  100  100\n",
              "\n",
              "[100 rows x 2 columns]"
            ],
            "text/html": [
              "\n",
              "  <div id=\"df-1161a2ee-2a77-4929-a239-c9848a17bdd0\">\n",
              "    <div class=\"colab-df-container\">\n",
              "      <div>\n",
              "<style scoped>\n",
              "    .dataframe tbody tr th:only-of-type {\n",
              "        vertical-align: middle;\n",
              "    }\n",
              "\n",
              "    .dataframe tbody tr th {\n",
              "        vertical-align: top;\n",
              "    }\n",
              "\n",
              "    .dataframe thead th {\n",
              "        text-align: right;\n",
              "    }\n",
              "</style>\n",
              "<table border=\"1\" class=\"dataframe\">\n",
              "  <thead>\n",
              "    <tr style=\"text-align: right;\">\n",
              "      <th></th>\n",
              "      <th>0</th>\n",
              "      <th>1</th>\n",
              "    </tr>\n",
              "  </thead>\n",
              "  <tbody>\n",
              "    <tr>\n",
              "      <th>0</th>\n",
              "      <td>1</td>\n",
              "      <td>1</td>\n",
              "    </tr>\n",
              "    <tr>\n",
              "      <th>1</th>\n",
              "      <td>2</td>\n",
              "      <td>2</td>\n",
              "    </tr>\n",
              "    <tr>\n",
              "      <th>2</th>\n",
              "      <td>3</td>\n",
              "      <td>3</td>\n",
              "    </tr>\n",
              "    <tr>\n",
              "      <th>3</th>\n",
              "      <td>4</td>\n",
              "      <td>4</td>\n",
              "    </tr>\n",
              "    <tr>\n",
              "      <th>4</th>\n",
              "      <td>5</td>\n",
              "      <td>5</td>\n",
              "    </tr>\n",
              "    <tr>\n",
              "      <th>...</th>\n",
              "      <td>...</td>\n",
              "      <td>...</td>\n",
              "    </tr>\n",
              "    <tr>\n",
              "      <th>95</th>\n",
              "      <td>96</td>\n",
              "      <td>96</td>\n",
              "    </tr>\n",
              "    <tr>\n",
              "      <th>96</th>\n",
              "      <td>97</td>\n",
              "      <td>97</td>\n",
              "    </tr>\n",
              "    <tr>\n",
              "      <th>97</th>\n",
              "      <td>98</td>\n",
              "      <td>98</td>\n",
              "    </tr>\n",
              "    <tr>\n",
              "      <th>98</th>\n",
              "      <td>99</td>\n",
              "      <td>99</td>\n",
              "    </tr>\n",
              "    <tr>\n",
              "      <th>99</th>\n",
              "      <td>100</td>\n",
              "      <td>100</td>\n",
              "    </tr>\n",
              "  </tbody>\n",
              "</table>\n",
              "<p>100 rows × 2 columns</p>\n",
              "</div>\n",
              "      <button class=\"colab-df-convert\" onclick=\"convertToInteractive('df-1161a2ee-2a77-4929-a239-c9848a17bdd0')\"\n",
              "              title=\"Convert this dataframe to an interactive table.\"\n",
              "              style=\"display:none;\">\n",
              "        \n",
              "  <svg xmlns=\"http://www.w3.org/2000/svg\" height=\"24px\"viewBox=\"0 0 24 24\"\n",
              "       width=\"24px\">\n",
              "    <path d=\"M0 0h24v24H0V0z\" fill=\"none\"/>\n",
              "    <path d=\"M18.56 5.44l.94 2.06.94-2.06 2.06-.94-2.06-.94-.94-2.06-.94 2.06-2.06.94zm-11 1L8.5 8.5l.94-2.06 2.06-.94-2.06-.94L8.5 2.5l-.94 2.06-2.06.94zm10 10l.94 2.06.94-2.06 2.06-.94-2.06-.94-.94-2.06-.94 2.06-2.06.94z\"/><path d=\"M17.41 7.96l-1.37-1.37c-.4-.4-.92-.59-1.43-.59-.52 0-1.04.2-1.43.59L10.3 9.45l-7.72 7.72c-.78.78-.78 2.05 0 2.83L4 21.41c.39.39.9.59 1.41.59.51 0 1.02-.2 1.41-.59l7.78-7.78 2.81-2.81c.8-.78.8-2.07 0-2.86zM5.41 20L4 18.59l7.72-7.72 1.47 1.35L5.41 20z\"/>\n",
              "  </svg>\n",
              "      </button>\n",
              "      \n",
              "  <style>\n",
              "    .colab-df-container {\n",
              "      display:flex;\n",
              "      flex-wrap:wrap;\n",
              "      gap: 12px;\n",
              "    }\n",
              "\n",
              "    .colab-df-convert {\n",
              "      background-color: #E8F0FE;\n",
              "      border: none;\n",
              "      border-radius: 50%;\n",
              "      cursor: pointer;\n",
              "      display: none;\n",
              "      fill: #1967D2;\n",
              "      height: 32px;\n",
              "      padding: 0 0 0 0;\n",
              "      width: 32px;\n",
              "    }\n",
              "\n",
              "    .colab-df-convert:hover {\n",
              "      background-color: #E2EBFA;\n",
              "      box-shadow: 0px 1px 2px rgba(60, 64, 67, 0.3), 0px 1px 3px 1px rgba(60, 64, 67, 0.15);\n",
              "      fill: #174EA6;\n",
              "    }\n",
              "\n",
              "    [theme=dark] .colab-df-convert {\n",
              "      background-color: #3B4455;\n",
              "      fill: #D2E3FC;\n",
              "    }\n",
              "\n",
              "    [theme=dark] .colab-df-convert:hover {\n",
              "      background-color: #434B5C;\n",
              "      box-shadow: 0px 1px 3px 1px rgba(0, 0, 0, 0.15);\n",
              "      filter: drop-shadow(0px 1px 2px rgba(0, 0, 0, 0.3));\n",
              "      fill: #FFFFFF;\n",
              "    }\n",
              "  </style>\n",
              "\n",
              "      <script>\n",
              "        const buttonEl =\n",
              "          document.querySelector('#df-1161a2ee-2a77-4929-a239-c9848a17bdd0 button.colab-df-convert');\n",
              "        buttonEl.style.display =\n",
              "          google.colab.kernel.accessAllowed ? 'block' : 'none';\n",
              "\n",
              "        async function convertToInteractive(key) {\n",
              "          const element = document.querySelector('#df-1161a2ee-2a77-4929-a239-c9848a17bdd0');\n",
              "          const dataTable =\n",
              "            await google.colab.kernel.invokeFunction('convertToInteractive',\n",
              "                                                     [key], {});\n",
              "          if (!dataTable) return;\n",
              "\n",
              "          const docLinkHtml = 'Like what you see? Visit the ' +\n",
              "            '<a target=\"_blank\" href=https://colab.research.google.com/notebooks/data_table.ipynb>data table notebook</a>'\n",
              "            + ' to learn more about interactive tables.';\n",
              "          element.innerHTML = '';\n",
              "          dataTable['output_type'] = 'display_data';\n",
              "          await google.colab.output.renderOutput(dataTable, element);\n",
              "          const docLink = document.createElement('div');\n",
              "          docLink.innerHTML = docLinkHtml;\n",
              "          element.appendChild(docLink);\n",
              "        }\n",
              "      </script>\n",
              "    </div>\n",
              "  </div>\n",
              "  "
            ]
          },
          "metadata": {},
          "execution_count": 23
        }
      ]
    },
    {
      "cell_type": "markdown",
      "source": [
        "Now lets create an identity matrix of the same size "
      ],
      "metadata": {
        "id": "6OlQjyZrKe-z"
      }
    },
    {
      "cell_type": "code",
      "source": [
        "x = pd.DataFrame(features.T)"
      ],
      "metadata": {
        "id": "DzTcgdXLKbbj"
      },
      "execution_count": 24,
      "outputs": []
    },
    {
      "cell_type": "code",
      "source": [
        "np.identity(x.shape[1])"
      ],
      "metadata": {
        "colab": {
          "base_uri": "https://localhost:8080/"
        },
        "id": "c410SE9L4ew5",
        "outputId": "29658ef3-54ad-40b2-b116-7906c099d2f3"
      },
      "execution_count": 14,
      "outputs": [
        {
          "output_type": "execute_result",
          "data": {
            "text/plain": [
              "array([[1., 0.],\n",
              "       [0., 1.]])"
            ]
          },
          "metadata": {},
          "execution_count": 14
        }
      ]
    },
    {
      "cell_type": "markdown",
      "source": [
        "Now we need to apply the formula $$(X_{train}^T.X_{train} +α.X_{train}^T.Y_{train})^{-1}$$"
      ],
      "metadata": {
        "id": "or8maVWu7i3z"
      }
    },
    {
      "cell_type": "code",
      "source": [
        "I = np.identity(x.shape[1])"
      ],
      "metadata": {
        "id": "-uOm4SiL8oJj"
      },
      "execution_count": 15,
      "outputs": []
    },
    {
      "cell_type": "code",
      "source": [
        "alpha = 1e-7"
      ],
      "metadata": {
        "id": "ORfQzpOs8zuC"
      },
      "execution_count": 16,
      "outputs": []
    },
    {
      "cell_type": "code",
      "source": [
        "result = np.linalg.inv(np.dot(x.T , x) + alpha*I).dot(x.T).dot(target)"
      ],
      "metadata": {
        "id": "dY2fUrNl4qDS"
      },
      "execution_count": 25,
      "outputs": []
    },
    {
      "cell_type": "code",
      "source": [
        "result"
      ],
      "metadata": {
        "colab": {
          "base_uri": "https://localhost:8080/"
        },
        "id": "fbhZVXF49QHr",
        "outputId": "0be0e8e4-969f-4483-d1d5-97f71c9afc44"
      },
      "execution_count": 26,
      "outputs": [
        {
          "output_type": "execute_result",
          "data": {
            "text/plain": [
              "array([1.00017666, 1.0001755 ])"
            ]
          },
          "metadata": {},
          "execution_count": 26
        }
      ]
    },
    {
      "cell_type": "markdown",
      "source": [
        "So now we have applied the formula, these are actually the values of `coefficients` and `intercepts`"
      ],
      "metadata": {
        "id": "fdQ4KOgY9XwJ"
      }
    },
    {
      "cell_type": "markdown",
      "source": [
        "Now we just need to put this all into a function for better usage "
      ],
      "metadata": {
        "id": "Rh-O6DVR9mUB"
      }
    },
    {
      "cell_type": "code",
      "execution_count": null,
      "metadata": {
        "id": "_Nk00F5td2RW"
      },
      "outputs": [],
      "source": [
        "class MultipleRidgeRegression():\n",
        "\n",
        "  def __init__(self , alpha):\n",
        "    self.coef = None\n",
        "    self.interpet = None\n",
        "    self.alpha = alpha\n",
        "\n",
        "  def fit(self , X_train , Y_train):\n",
        "    \n",
        "    X_train = np.insert(X_train , 0 , 1 , axis = 1)\n",
        "    I = np.identity(X_train.shape[1])\n",
        "    result = np.linalg.inv(np.dot(X_train.T , X_train) + self.alpha*I).dot(X_train.T).dot(Y_train)\n",
        "    self.intercept = result[0]\n",
        "    self.coef = result[1:]\n",
        "\n",
        "  def predict(self , X_test):\n",
        "\n",
        "    Y_pred = np.dot(X_test.coef) + self.intercept\n",
        "\n",
        "    return Y_pred"
      ]
    }
  ]
}