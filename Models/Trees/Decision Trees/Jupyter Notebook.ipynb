{
 "cells": [
  {
   "cell_type": "markdown",
   "id": "395e02b0",
   "metadata": {
    "papermill": {
     "duration": 0.01017,
     "end_time": "2023-05-04T13:00:45.230080",
     "exception": false,
     "start_time": "2023-05-04T13:00:45.219910",
     "status": "completed"
    },
    "tags": []
   },
   "source": [
    "# Decision Trees\n",
    "This notebook is higly inspired by **[AssemblyAI](https://www.youtube.com/@AssemblyAI)=>[How to Implement Decision Trees from scratch with Python](https://youtu.be/NxEHSAfFlK8) KUDOS TO THE TEACHERS**\n",
    "\n",
    "So what are `Decision Trees...?`\n",
    "\n",
    "<img src  = \"https://www.mihaileric.com/static/decision-tree-meme-29e8e977fa4a9dc3fa25e37d3507f09e-bc7bc.jpeg\">\n",
    "\n",
    "Suppose you have a dataset like this \n",
    "\n",
    "|Age|Eligibe To Vote\n",
    "|---|---\n",
    "|13|No\n",
    "|15|No\n",
    "|18|Yes\n",
    "|0|No\n",
    "|69|Yes\n",
    "\n",
    "And you want to know if a person having age $19$ will be `eligible to vote` or not \n",
    "\n",
    "One way you can do is to make a decision, wether a `person age` greater than $18$ or not. \n",
    "\n",
    "We can visualize this as \n",
    "\n",
    "<img src = \"https://media.istockphoto.com/id/1200922650/vector/decision-diagram-color-icon-block-chart-problem-solutions-operations-research-decision-tree.jpg?s=612x612&w=0&k=20&c=IjQiQfKAdYBpEDH3I_7L9uGKlLWIhWrhhwDglim4zFk=\">\n",
    "\n",
    "We call thee boxes `nodes`. Suppose the upper node is a `if-else` condition. If the condition is `True` we move to the `right` else to the `left`\n",
    "\n",
    "So this was a small dataset. Lets assume we have a very big one. It would be way easier if we made a bigger version of the above image, something like this \n",
    "\n",
    "<img src = \"https://static.vecteezy.com/system/resources/thumbnails/001/234/042/small/decision-tree-design.jpg\">\n",
    "\n",
    "At this point it is looking like a `tree` and we take `decisions` using this tree. So lets just name it `Decision Tree`. A decision tree basically is a gorup of nested `if-else` conditions. \n",
    "\n",
    "We call the lowermost `node` or where all the nodes `arose`, the `root node`, and the last nodes to be `leaf` nodes\n",
    "\n",
    "The concept is rather to make `if-else` conditions manually, we somehow teach a machine to make `conditions` by looking at the data. \n",
    "\n",
    "But how can we tell if a `decision` is a good or bad?\n",
    "\n",
    "Lets assume we have this dataset"
   ]
  },
  {
   "cell_type": "code",
   "execution_count": 1,
   "id": "7974e178",
   "metadata": {
    "_cell_guid": "b1076dfc-b9ad-4769-8c92-a6c4dae69d19",
    "_uuid": "8f2839f25d086af736a60e9eeb907d3b93b6e0e5",
    "execution": {
     "iopub.execute_input": "2023-05-04T13:00:45.251334Z",
     "iopub.status.busy": "2023-05-04T13:00:45.250903Z",
     "iopub.status.idle": "2023-05-04T13:00:45.268183Z",
     "shell.execute_reply": "2023-05-04T13:00:45.266883Z"
    },
    "papermill": {
     "duration": 0.031358,
     "end_time": "2023-05-04T13:00:45.270789",
     "exception": false,
     "start_time": "2023-05-04T13:00:45.239431",
     "status": "completed"
    },
    "tags": []
   },
   "outputs": [
    {
     "name": "stdout",
     "output_type": "stream",
     "text": [
      "/kaggle/input/sample-data/Sample_Data_1.csv\n",
      "/kaggle/input/sample-data/Sample_Data_2.csv\n",
      "/kaggle/input/sample-data/Sample_Data_3.csv\n"
     ]
    }
   ],
   "source": [
    "import os\n",
    "for dirname, _, filenames in os.walk('/kaggle/input'):\n",
    "    for filename in filenames:\n",
    "        print(os.path.join(dirname, filename))"
   ]
  },
  {
   "cell_type": "code",
   "execution_count": 2,
   "id": "9412d581",
   "metadata": {
    "_cell_guid": "b1076dfc-b9ad-4769-8c92-a6c4dae69d19",
    "_uuid": "8f2839f25d086af736a60e9eeb907d3b93b6e0e5",
    "execution": {
     "iopub.execute_input": "2023-05-04T13:00:45.291122Z",
     "iopub.status.busy": "2023-05-04T13:00:45.290671Z",
     "iopub.status.idle": "2023-05-04T13:00:45.295801Z",
     "shell.execute_reply": "2023-05-04T13:00:45.294708Z"
    },
    "papermill": {
     "duration": 0.018274,
     "end_time": "2023-05-04T13:00:45.298349",
     "exception": false,
     "start_time": "2023-05-04T13:00:45.280075",
     "status": "completed"
    },
    "tags": []
   },
   "outputs": [],
   "source": [
    "import numpy as np \n",
    "import pandas as pd "
   ]
  },
  {
   "cell_type": "code",
   "execution_count": 3,
   "id": "0615eb28",
   "metadata": {
    "execution": {
     "iopub.execute_input": "2023-05-04T13:00:45.319347Z",
     "iopub.status.busy": "2023-05-04T13:00:45.318894Z",
     "iopub.status.idle": "2023-05-04T13:00:45.344156Z",
     "shell.execute_reply": "2023-05-04T13:00:45.342808Z"
    },
    "papermill": {
     "duration": 0.038846,
     "end_time": "2023-05-04T13:00:45.346781",
     "exception": false,
     "start_time": "2023-05-04T13:00:45.307935",
     "status": "completed"
    },
    "tags": []
   },
   "outputs": [],
   "source": [
    "data = pd.read_csv(\"/kaggle/input/sample-data/Sample_Data_1.csv\")"
   ]
  },
  {
   "cell_type": "code",
   "execution_count": 4,
   "id": "0fb05949",
   "metadata": {
    "execution": {
     "iopub.execute_input": "2023-05-04T13:00:45.368690Z",
     "iopub.status.busy": "2023-05-04T13:00:45.368268Z",
     "iopub.status.idle": "2023-05-04T13:00:45.400112Z",
     "shell.execute_reply": "2023-05-04T13:00:45.398754Z"
    },
    "papermill": {
     "duration": 0.045584,
     "end_time": "2023-05-04T13:00:45.402410",
     "exception": false,
     "start_time": "2023-05-04T13:00:45.356826",
     "status": "completed"
    },
    "tags": []
   },
   "outputs": [
    {
     "data": {
      "text/html": [
       "<div>\n",
       "<style scoped>\n",
       "    .dataframe tbody tr th:only-of-type {\n",
       "        vertical-align: middle;\n",
       "    }\n",
       "\n",
       "    .dataframe tbody tr th {\n",
       "        vertical-align: top;\n",
       "    }\n",
       "\n",
       "    .dataframe thead th {\n",
       "        text-align: right;\n",
       "    }\n",
       "</style>\n",
       "<table border=\"1\" class=\"dataframe\">\n",
       "  <thead>\n",
       "    <tr style=\"text-align: right;\">\n",
       "      <th></th>\n",
       "      <th>x</th>\n",
       "      <th>y</th>\n",
       "      <th>z</th>\n",
       "    </tr>\n",
       "  </thead>\n",
       "  <tbody>\n",
       "    <tr>\n",
       "      <th>0</th>\n",
       "      <td>-33.963989</td>\n",
       "      <td>231.962014</td>\n",
       "      <td>a</td>\n",
       "    </tr>\n",
       "    <tr>\n",
       "      <th>1</th>\n",
       "      <td>34.152445</td>\n",
       "      <td>206.708388</td>\n",
       "      <td>a</td>\n",
       "    </tr>\n",
       "    <tr>\n",
       "      <th>2</th>\n",
       "      <td>7.545619</td>\n",
       "      <td>191.622019</td>\n",
       "      <td>a</td>\n",
       "    </tr>\n",
       "    <tr>\n",
       "      <th>3</th>\n",
       "      <td>6.862322</td>\n",
       "      <td>256.882087</td>\n",
       "      <td>a</td>\n",
       "    </tr>\n",
       "    <tr>\n",
       "      <th>4</th>\n",
       "      <td>-5.574613</td>\n",
       "      <td>209.725402</td>\n",
       "      <td>a</td>\n",
       "    </tr>\n",
       "    <tr>\n",
       "      <th>...</th>\n",
       "      <td>...</td>\n",
       "      <td>...</td>\n",
       "      <td>...</td>\n",
       "    </tr>\n",
       "    <tr>\n",
       "      <th>1158</th>\n",
       "      <td>630.098767</td>\n",
       "      <td>352.367983</td>\n",
       "      <td>b</td>\n",
       "    </tr>\n",
       "    <tr>\n",
       "      <th>1159</th>\n",
       "      <td>654.050088</td>\n",
       "      <td>412.010639</td>\n",
       "      <td>b</td>\n",
       "    </tr>\n",
       "    <tr>\n",
       "      <th>1160</th>\n",
       "      <td>709.733033</td>\n",
       "      <td>391.610226</td>\n",
       "      <td>b</td>\n",
       "    </tr>\n",
       "    <tr>\n",
       "      <th>1161</th>\n",
       "      <td>623.373461</td>\n",
       "      <td>405.861758</td>\n",
       "      <td>b</td>\n",
       "    </tr>\n",
       "    <tr>\n",
       "      <th>1162</th>\n",
       "      <td>649.438698</td>\n",
       "      <td>384.181209</td>\n",
       "      <td>b</td>\n",
       "    </tr>\n",
       "  </tbody>\n",
       "</table>\n",
       "<p>1163 rows × 3 columns</p>\n",
       "</div>"
      ],
      "text/plain": [
       "               x           y  z\n",
       "0     -33.963989  231.962014  a\n",
       "1      34.152445  206.708388  a\n",
       "2       7.545619  191.622019  a\n",
       "3       6.862322  256.882087  a\n",
       "4      -5.574613  209.725402  a\n",
       "...          ...         ... ..\n",
       "1158  630.098767  352.367983  b\n",
       "1159  654.050088  412.010639  b\n",
       "1160  709.733033  391.610226  b\n",
       "1161  623.373461  405.861758  b\n",
       "1162  649.438698  384.181209  b\n",
       "\n",
       "[1163 rows x 3 columns]"
      ]
     },
     "execution_count": 4,
     "metadata": {},
     "output_type": "execute_result"
    }
   ],
   "source": [
    "data"
   ]
  },
  {
   "cell_type": "markdown",
   "id": "6671440f",
   "metadata": {
    "papermill": {
     "duration": 0.009884,
     "end_time": "2023-05-04T13:00:45.422074",
     "exception": false,
     "start_time": "2023-05-04T13:00:45.412190",
     "status": "completed"
    },
    "tags": []
   },
   "source": [
    "Lets now jsut focus on the `y` and the `z` column. "
   ]
  },
  {
   "cell_type": "code",
   "execution_count": 5,
   "id": "d9b93293",
   "metadata": {
    "execution": {
     "iopub.execute_input": "2023-05-04T13:00:45.443031Z",
     "iopub.status.busy": "2023-05-04T13:00:45.442574Z",
     "iopub.status.idle": "2023-05-04T13:00:45.461988Z",
     "shell.execute_reply": "2023-05-04T13:00:45.460654Z"
    },
    "papermill": {
     "duration": 0.033155,
     "end_time": "2023-05-04T13:00:45.464853",
     "exception": false,
     "start_time": "2023-05-04T13:00:45.431698",
     "status": "completed"
    },
    "tags": []
   },
   "outputs": [],
   "source": [
    "data.drop(\"x\" , axis = 1 , inplace = True)\n",
    "data[\"z\"] = np.where(data[\"z\"] == \"a\" , 1 , 0)"
   ]
  },
  {
   "cell_type": "markdown",
   "id": "af55db4b",
   "metadata": {
    "papermill": {
     "duration": 0.00923,
     "end_time": "2023-05-04T13:00:45.483881",
     "exception": false,
     "start_time": "2023-05-04T13:00:45.474651",
     "status": "completed"
    },
    "tags": []
   },
   "source": [
    "Lets assume make a split at `300`. The condition will be \n",
    "```\n",
    "data[\"y\"] > 300\n",
    "```"
   ]
  },
  {
   "cell_type": "code",
   "execution_count": 6,
   "id": "a28d4660",
   "metadata": {
    "execution": {
     "iopub.execute_input": "2023-05-04T13:00:45.505675Z",
     "iopub.status.busy": "2023-05-04T13:00:45.504774Z",
     "iopub.status.idle": "2023-05-04T13:00:45.513319Z",
     "shell.execute_reply": "2023-05-04T13:00:45.512223Z"
    },
    "papermill": {
     "duration": 0.022851,
     "end_time": "2023-05-04T13:00:45.516157",
     "exception": false,
     "start_time": "2023-05-04T13:00:45.493306",
     "status": "completed"
    },
    "tags": []
   },
   "outputs": [],
   "source": [
    "sample_1 = data[data[\"y\"] > 300]\n",
    "sample_2 = data[data[\"y\"] < 300]"
   ]
  },
  {
   "cell_type": "markdown",
   "id": "ae30abaf",
   "metadata": {
    "papermill": {
     "duration": 0.010075,
     "end_time": "2023-05-04T13:00:45.535844",
     "exception": false,
     "start_time": "2023-05-04T13:00:45.525769",
     "status": "completed"
    },
    "tags": []
   },
   "source": [
    "If we take a look at the values of `sample_1`"
   ]
  },
  {
   "cell_type": "code",
   "execution_count": 7,
   "id": "3906954a",
   "metadata": {
    "execution": {
     "iopub.execute_input": "2023-05-04T13:00:45.556745Z",
     "iopub.status.busy": "2023-05-04T13:00:45.556202Z",
     "iopub.status.idle": "2023-05-04T13:00:45.568904Z",
     "shell.execute_reply": "2023-05-04T13:00:45.567605Z"
    },
    "papermill": {
     "duration": 0.025995,
     "end_time": "2023-05-04T13:00:45.571318",
     "exception": false,
     "start_time": "2023-05-04T13:00:45.545323",
     "status": "completed"
    },
    "tags": []
   },
   "outputs": [
    {
     "data": {
      "text/plain": [
       "0    535\n",
       "Name: z, dtype: int64"
      ]
     },
     "execution_count": 7,
     "metadata": {},
     "output_type": "execute_result"
    }
   ],
   "source": [
    "sample_1[\"z\"].value_counts()"
   ]
  },
  {
   "cell_type": "markdown",
   "id": "62fd74a2",
   "metadata": {
    "papermill": {
     "duration": 0.010253,
     "end_time": "2023-05-04T13:00:45.591333",
     "exception": false,
     "start_time": "2023-05-04T13:00:45.581080",
     "status": "completed"
    },
    "tags": []
   },
   "source": [
    "We have all unique values. At this point we can think as $300$ to be a good split point. but lets first also take a look at the other split"
   ]
  },
  {
   "cell_type": "code",
   "execution_count": 8,
   "id": "8883c57e",
   "metadata": {
    "execution": {
     "iopub.execute_input": "2023-05-04T13:00:45.612842Z",
     "iopub.status.busy": "2023-05-04T13:00:45.612233Z",
     "iopub.status.idle": "2023-05-04T13:00:45.621719Z",
     "shell.execute_reply": "2023-05-04T13:00:45.620535Z"
    },
    "papermill": {
     "duration": 0.023188,
     "end_time": "2023-05-04T13:00:45.624012",
     "exception": false,
     "start_time": "2023-05-04T13:00:45.600824",
     "status": "completed"
    },
    "tags": []
   },
   "outputs": [
    {
     "data": {
      "text/plain": [
       "1    594\n",
       "0     34\n",
       "Name: z, dtype: int64"
      ]
     },
     "execution_count": 8,
     "metadata": {},
     "output_type": "execute_result"
    }
   ],
   "source": [
    "sample_2[\"z\"].value_counts()"
   ]
  },
  {
   "cell_type": "markdown",
   "id": "3a196b5a",
   "metadata": {
    "papermill": {
     "duration": 0.009464,
     "end_time": "2023-05-04T13:00:45.643351",
     "exception": false,
     "start_time": "2023-05-04T13:00:45.633887",
     "status": "completed"
    },
    "tags": []
   },
   "source": [
    "And we have a mixture of values in `sample_2` with the same split\n",
    "\n",
    "We can see this is not a good split. But how can we tell computer that it is a bad split\n",
    "\n",
    "For this we use `entorpy`. Entropy is basically the variance inside a node. First we calculate the ratio of every class in the nodes. If all the `leaf` nodes have only $1$ uniqe values. If the entropy is $0$, we call that a good split.\n",
    "\n",
    "The formula for `Entropy`\n",
    "\n",
    "$$E(S) = -\\sum\\limits_{i = 1}^{n}p_ilog(p_i)$$\n",
    "\n",
    "Where $p = Ratio$\n",
    "\n",
    "If we only see the `sample_1`. It is a perfect split. So its entropy will be "
   ]
  },
  {
   "cell_type": "code",
   "execution_count": 9,
   "id": "045561cc",
   "metadata": {
    "execution": {
     "iopub.execute_input": "2023-05-04T13:00:45.664881Z",
     "iopub.status.busy": "2023-05-04T13:00:45.664200Z",
     "iopub.status.idle": "2023-05-04T13:00:45.672084Z",
     "shell.execute_reply": "2023-05-04T13:00:45.670872Z"
    },
    "papermill": {
     "duration": 0.021583,
     "end_time": "2023-05-04T13:00:45.674615",
     "exception": false,
     "start_time": "2023-05-04T13:00:45.653032",
     "status": "completed"
    },
    "tags": []
   },
   "outputs": [
    {
     "data": {
      "text/plain": [
       "-0.0"
      ]
     },
     "execution_count": 9,
     "metadata": {},
     "output_type": "execute_result"
    }
   ],
   "source": [
    "-np.sum(np.array([p * np.log(p) \n",
    "                  for p in (np.bincount(sample_1[\"z\"]) / sample_1.shape[0])]))"
   ]
  },
  {
   "cell_type": "markdown",
   "id": "91ea0cc4",
   "metadata": {
    "papermill": {
     "duration": 0.009554,
     "end_time": "2023-05-04T13:00:45.694216",
     "exception": false,
     "start_time": "2023-05-04T13:00:45.684662",
     "status": "completed"
    },
    "tags": []
   },
   "source": [
    "If we do the same for `sample_2`"
   ]
  },
  {
   "cell_type": "code",
   "execution_count": 10,
   "id": "0fdda59b",
   "metadata": {
    "execution": {
     "iopub.execute_input": "2023-05-04T13:00:45.715473Z",
     "iopub.status.busy": "2023-05-04T13:00:45.715027Z",
     "iopub.status.idle": "2023-05-04T13:00:45.722807Z",
     "shell.execute_reply": "2023-05-04T13:00:45.722031Z"
    },
    "papermill": {
     "duration": 0.020868,
     "end_time": "2023-05-04T13:00:45.724850",
     "exception": false,
     "start_time": "2023-05-04T13:00:45.703982",
     "status": "completed"
    },
    "tags": []
   },
   "outputs": [
    {
     "data": {
      "text/plain": [
       "0.21052969905042707"
      ]
     },
     "execution_count": 10,
     "metadata": {},
     "output_type": "execute_result"
    }
   ],
   "source": [
    "-np.sum(np.array([p * np.log(p) \n",
    "                  for p in (np.bincount(sample_2[\"z\"]) / sample_2.shape[0])]))"
   ]
  },
  {
   "cell_type": "markdown",
   "id": "0716fa27",
   "metadata": {
    "papermill": {
     "duration": 0.00993,
     "end_time": "2023-05-04T13:00:45.744775",
     "exception": false,
     "start_time": "2023-05-04T13:00:45.734845",
     "status": "completed"
    },
    "tags": []
   },
   "source": [
    "This shows that it is still a good split. but not the best split \n",
    "\n",
    "Now we know how to evaluate a split. But we still dont know when to stop spliting up the nodes. We still dont know if the node we got should be the last node or not. \n",
    "\n",
    "For this we use `Information Gain`, Basically we see if the entorpy of the child and parent was same or not. or basically we calculate the difference between them. \n",
    "\n",
    "$$Information_-Gain = E(Parent) - E(Child)$$\n",
    "\n",
    "where $E = Entropy$\n",
    "\n",
    "So now we know when to stop the spliting of the nodes. \n",
    "\n",
    "But we still dont know which value to choose for the split. Wether to use random or something else. \n",
    "\n",
    "Actually we try a split at every unique value of the data. To capture as much information as we can. \n",
    "\n",
    "Now we know about the Decision Trees. Lets try making a full algorithm for that \n",
    "\n",
    "First we need to make a `node` class"
   ]
  },
  {
   "cell_type": "code",
   "execution_count": 11,
   "id": "fa113259",
   "metadata": {
    "execution": {
     "iopub.execute_input": "2023-05-04T13:00:45.766685Z",
     "iopub.status.busy": "2023-05-04T13:00:45.766274Z",
     "iopub.status.idle": "2023-05-04T13:00:45.772905Z",
     "shell.execute_reply": "2023-05-04T13:00:45.771696Z"
    },
    "papermill": {
     "duration": 0.020444,
     "end_time": "2023-05-04T13:00:45.775327",
     "exception": false,
     "start_time": "2023-05-04T13:00:45.754883",
     "status": "completed"
    },
    "tags": []
   },
   "outputs": [],
   "source": [
    "class Node:\n",
    "    def __init__(self, feature=None, threshold=None, left=None, right=None,*,value=None):\n",
    "        self.feature = feature\n",
    "        self.threshold = threshold\n",
    "        self.left = left\n",
    "        self.right = right\n",
    "        self.value = value\n",
    "        \n",
    "    def is_leaf_node(self):\n",
    "        return self.value is not None"
   ]
  },
  {
   "cell_type": "markdown",
   "id": "30c4bb67",
   "metadata": {
    "papermill": {
     "duration": 0.010354,
     "end_time": "2023-05-04T13:00:45.795623",
     "exception": false,
     "start_time": "2023-05-04T13:00:45.785269",
     "status": "completed"
    },
    "tags": []
   },
   "source": [
    "`Threshold` is a value where the split is taken \n",
    "\n",
    "Now we will make the `Decision Tree` class "
   ]
  },
  {
   "cell_type": "code",
   "execution_count": 12,
   "id": "0f780188",
   "metadata": {
    "execution": {
     "iopub.execute_input": "2023-05-04T13:00:45.818570Z",
     "iopub.status.busy": "2023-05-04T13:00:45.818178Z",
     "iopub.status.idle": "2023-05-04T13:00:45.823492Z",
     "shell.execute_reply": "2023-05-04T13:00:45.822401Z"
    },
    "papermill": {
     "duration": 0.019525,
     "end_time": "2023-05-04T13:00:45.825724",
     "exception": false,
     "start_time": "2023-05-04T13:00:45.806199",
     "status": "completed"
    },
    "tags": []
   },
   "outputs": [],
   "source": [
    "class DecisionTree:pass "
   ]
  },
  {
   "cell_type": "markdown",
   "id": "afeb98e3",
   "metadata": {
    "papermill": {
     "duration": 0.009826,
     "end_time": "2023-05-04T13:00:45.845757",
     "exception": false,
     "start_time": "2023-05-04T13:00:45.835931",
     "status": "completed"
    },
    "tags": []
   },
   "source": [
    "First we will define the `maximum depth` of the tree. Defining `Max_Depth` is important as decision trees can go infintly large"
   ]
  },
  {
   "cell_type": "code",
   "execution_count": 13,
   "id": "3b94b960",
   "metadata": {
    "execution": {
     "iopub.execute_input": "2023-05-04T13:00:45.867590Z",
     "iopub.status.busy": "2023-05-04T13:00:45.867179Z",
     "iopub.status.idle": "2023-05-04T13:00:45.872479Z",
     "shell.execute_reply": "2023-05-04T13:00:45.871257Z"
    },
    "papermill": {
     "duration": 0.018439,
     "end_time": "2023-05-04T13:00:45.874564",
     "exception": false,
     "start_time": "2023-05-04T13:00:45.856125",
     "status": "completed"
    },
    "tags": []
   },
   "outputs": [],
   "source": [
    "class DecisionTree:\n",
    "    def __init__(self, max_depth = 100):\n",
    "        self.max_depth = max_depth"
   ]
  },
  {
   "cell_type": "markdown",
   "id": "b0e8df52",
   "metadata": {
    "papermill": {
     "duration": 0.009679,
     "end_time": "2023-05-04T13:00:45.894198",
     "exception": false,
     "start_time": "2023-05-04T13:00:45.884519",
     "status": "completed"
    },
    "tags": []
   },
   "source": [
    "Now we will add some more basic arguments to the tree"
   ]
  },
  {
   "cell_type": "code",
   "execution_count": 14,
   "id": "15257c06",
   "metadata": {
    "execution": {
     "iopub.execute_input": "2023-05-04T13:00:45.915826Z",
     "iopub.status.busy": "2023-05-04T13:00:45.915407Z",
     "iopub.status.idle": "2023-05-04T13:00:45.921080Z",
     "shell.execute_reply": "2023-05-04T13:00:45.919998Z"
    },
    "papermill": {
     "duration": 0.019118,
     "end_time": "2023-05-04T13:00:45.923245",
     "exception": false,
     "start_time": "2023-05-04T13:00:45.904127",
     "status": "completed"
    },
    "tags": []
   },
   "outputs": [],
   "source": [
    "class DecisionTree:\n",
    "    \n",
    "    def __init__(self, min_samples_split=2, max_depth=100, n_features=None):\n",
    "        \n",
    "        self.min_samples_split=min_samples_split\n",
    "        self.max_depth=max_depth\n",
    "        self.n_features=n_features\n",
    "        self.root=None"
   ]
  },
  {
   "cell_type": "markdown",
   "id": "4f5c2ada",
   "metadata": {
    "papermill": {
     "duration": 0.009533,
     "end_time": "2023-05-04T13:00:45.942792",
     "exception": false,
     "start_time": "2023-05-04T13:00:45.933259",
     "status": "completed"
    },
    "tags": []
   },
   "source": [
    "A algorithm is useless without `fit` and `predict` method"
   ]
  },
  {
   "cell_type": "code",
   "execution_count": 15,
   "id": "df136045",
   "metadata": {
    "execution": {
     "iopub.execute_input": "2023-05-04T13:00:45.964450Z",
     "iopub.status.busy": "2023-05-04T13:00:45.964019Z",
     "iopub.status.idle": "2023-05-04T13:00:45.970554Z",
     "shell.execute_reply": "2023-05-04T13:00:45.969518Z"
    },
    "papermill": {
     "duration": 0.02015,
     "end_time": "2023-05-04T13:00:45.972788",
     "exception": false,
     "start_time": "2023-05-04T13:00:45.952638",
     "status": "completed"
    },
    "tags": []
   },
   "outputs": [],
   "source": [
    "class DecisionTree:\n",
    "    \n",
    "    def __init__(self, min_samples_split=2, max_depth=100, n_features=None):\n",
    "        \n",
    "        self.min_samples_split=min_samples_split\n",
    "        self.max_depth=max_depth\n",
    "        self.n_features=n_features\n",
    "        self.root=None\n",
    "        \n",
    "    def fit(self , X , y):pass\n",
    "    def predict(self , X):pass"
   ]
  },
  {
   "cell_type": "markdown",
   "id": "a100f29a",
   "metadata": {
    "papermill": {
     "duration": 0.009614,
     "end_time": "2023-05-04T13:00:45.992241",
     "exception": false,
     "start_time": "2023-05-04T13:00:45.982627",
     "status": "completed"
    },
    "tags": []
   },
   "source": [
    "Now we will make a helper funciton for calcuating `entropy` "
   ]
  },
  {
   "cell_type": "code",
   "execution_count": 16,
   "id": "d1fced5f",
   "metadata": {
    "execution": {
     "iopub.execute_input": "2023-05-04T13:00:46.013449Z",
     "iopub.status.busy": "2023-05-04T13:00:46.013001Z",
     "iopub.status.idle": "2023-05-04T13:00:46.020234Z",
     "shell.execute_reply": "2023-05-04T13:00:46.019060Z"
    },
    "papermill": {
     "duration": 0.020424,
     "end_time": "2023-05-04T13:00:46.022338",
     "exception": false,
     "start_time": "2023-05-04T13:00:46.001914",
     "status": "completed"
    },
    "tags": []
   },
   "outputs": [],
   "source": [
    "class DecisionTree:\n",
    "    \n",
    "    def __init__(self, min_samples_split=2, max_depth=100, n_features=None):\n",
    "        \n",
    "        self.min_samples_split=min_samples_split\n",
    "        self.max_depth=max_depth\n",
    "        self.n_features=n_features\n",
    "        self.root=None\n",
    "        \n",
    "    def fit(self , X , y):pass\n",
    "    \n",
    "    entropy = lambda self , y : -np.sum(np.array([p * np.log(p)\n",
    "                                                 for p in (np.bincount(y) / len(y))]))\n",
    "    \n",
    "    def predict(self , X):pass"
   ]
  },
  {
   "cell_type": "markdown",
   "id": "68f9193f",
   "metadata": {
    "papermill": {
     "duration": 0.009758,
     "end_time": "2023-05-04T13:00:46.042049",
     "exception": false,
     "start_time": "2023-05-04T13:00:46.032291",
     "status": "completed"
    },
    "tags": []
   },
   "source": [
    "Lets assume we have an array like this "
   ]
  },
  {
   "cell_type": "code",
   "execution_count": 17,
   "id": "72d92afb",
   "metadata": {
    "execution": {
     "iopub.execute_input": "2023-05-04T13:00:46.063961Z",
     "iopub.status.busy": "2023-05-04T13:00:46.063533Z",
     "iopub.status.idle": "2023-05-04T13:00:46.070291Z",
     "shell.execute_reply": "2023-05-04T13:00:46.069448Z"
    },
    "papermill": {
     "duration": 0.020203,
     "end_time": "2023-05-04T13:00:46.072454",
     "exception": false,
     "start_time": "2023-05-04T13:00:46.052251",
     "status": "completed"
    },
    "tags": []
   },
   "outputs": [
    {
     "data": {
      "text/plain": [
       "array([ 0,  1,  2,  3,  4,  5,  6,  7,  8,  9, 10, 11, 12, 13, 14, 15, 16,\n",
       "       17, 18, 19, 20, 21, 22, 23, 24, 25, 26, 27, 28, 29, 30, 31, 32, 33,\n",
       "       34, 35, 36, 37, 38, 39, 40, 41, 42, 43, 44, 45, 46, 47, 48, 49, 50,\n",
       "       51, 52, 53, 54, 55, 56, 57, 58, 59, 60, 61, 62, 63, 64, 65, 66, 67,\n",
       "       68, 69, 70, 71, 72, 73, 74, 75, 76, 77, 78, 79, 80, 81, 82, 83, 84,\n",
       "       85, 86, 87, 88, 89, 90, 91, 92, 93, 94, 95, 96, 97, 98, 99])"
      ]
     },
     "execution_count": 17,
     "metadata": {},
     "output_type": "execute_result"
    }
   ],
   "source": [
    "sample_array = np.arange(100)\n",
    "sample_array "
   ]
  },
  {
   "cell_type": "markdown",
   "id": "e7e9c80e",
   "metadata": {
    "papermill": {
     "duration": 0.010302,
     "end_time": "2023-05-04T13:00:46.092933",
     "exception": false,
     "start_time": "2023-05-04T13:00:46.082631",
     "status": "completed"
    },
    "tags": []
   },
   "source": [
    "And you want a $2$ seperate arrays containig the number greater then $50$ and less than $50$"
   ]
  },
  {
   "cell_type": "code",
   "execution_count": 18,
   "id": "94a84a8a",
   "metadata": {
    "execution": {
     "iopub.execute_input": "2023-05-04T13:00:46.115441Z",
     "iopub.status.busy": "2023-05-04T13:00:46.115077Z",
     "iopub.status.idle": "2023-05-04T13:00:46.122739Z",
     "shell.execute_reply": "2023-05-04T13:00:46.121389Z"
    },
    "papermill": {
     "duration": 0.022962,
     "end_time": "2023-05-04T13:00:46.126359",
     "exception": false,
     "start_time": "2023-05-04T13:00:46.103397",
     "status": "completed"
    },
    "tags": []
   },
   "outputs": [
    {
     "data": {
      "text/plain": [
       "array([ 0,  1,  2,  3,  4,  5,  6,  7,  8,  9, 10, 11, 12, 13, 14, 15, 16,\n",
       "       17, 18, 19, 20, 21, 22, 23, 24, 25, 26, 27, 28, 29, 30, 31, 32, 33,\n",
       "       34, 35, 36, 37, 38, 39, 40, 41, 42, 43, 44, 45, 46, 47, 48, 49])"
      ]
     },
     "execution_count": 18,
     "metadata": {},
     "output_type": "execute_result"
    }
   ],
   "source": [
    "np.argwhere(sample_array < 50).flatten()"
   ]
  },
  {
   "cell_type": "markdown",
   "id": "7d7a15c4",
   "metadata": {
    "papermill": {
     "duration": 0.009972,
     "end_time": "2023-05-04T13:00:46.146891",
     "exception": false,
     "start_time": "2023-05-04T13:00:46.136919",
     "status": "completed"
    },
    "tags": []
   },
   "source": [
    "You could have written a proper code for this, but this is just a simple measure to do the same thing. \n",
    "\n",
    "A split will do the same thing we did before. Lets create a helper function for this too. We need a lot of help "
   ]
  },
  {
   "cell_type": "code",
   "execution_count": 19,
   "id": "8f53ad2b",
   "metadata": {
    "execution": {
     "iopub.execute_input": "2023-05-04T13:00:46.168837Z",
     "iopub.status.busy": "2023-05-04T13:00:46.168409Z",
     "iopub.status.idle": "2023-05-04T13:00:46.176289Z",
     "shell.execute_reply": "2023-05-04T13:00:46.175035Z"
    },
    "papermill": {
     "duration": 0.021628,
     "end_time": "2023-05-04T13:00:46.178458",
     "exception": false,
     "start_time": "2023-05-04T13:00:46.156830",
     "status": "completed"
    },
    "tags": []
   },
   "outputs": [],
   "source": [
    "class DecisionTree:\n",
    "    \n",
    "    def __init__(self, min_samples_split=2, max_depth=100, n_features=None):\n",
    "        \n",
    "        self.min_samples_split=min_samples_split\n",
    "        self.max_depth=max_depth\n",
    "        self.n_features=n_features\n",
    "        self.root=None\n",
    "        \n",
    "    def fit(self , X , y):pass\n",
    "    \n",
    "    entropy = lambda self , y : -np.sum(np.array([p * np.log(p)\n",
    "                                                 for p in (np.bincount(y) / len(y))]))\n",
    "    \n",
    "    def split(self, X_column, split_thresh):\n",
    "        \n",
    "        left = np.argwhere(X_column <= split_thresh).flatten()\n",
    "        right = np.argwhere(X_column > split_thresh).flatten()\n",
    "        \n",
    "        return left , right\n",
    "    \n",
    "    def predict(self , X):pass"
   ]
  },
  {
   "cell_type": "markdown",
   "id": "6672953a",
   "metadata": {
    "papermill": {
     "duration": 0.009903,
     "end_time": "2023-05-04T13:00:46.198654",
     "exception": false,
     "start_time": "2023-05-04T13:00:46.188751",
     "status": "completed"
    },
    "tags": []
   },
   "source": [
    "Now we need to calulcate the `information_gain` at each split"
   ]
  },
  {
   "cell_type": "code",
   "execution_count": 20,
   "id": "837e5d9c",
   "metadata": {
    "execution": {
     "iopub.execute_input": "2023-05-04T13:00:46.220376Z",
     "iopub.status.busy": "2023-05-04T13:00:46.219969Z",
     "iopub.status.idle": "2023-05-04T13:00:46.231148Z",
     "shell.execute_reply": "2023-05-04T13:00:46.230246Z"
    },
    "papermill": {
     "duration": 0.024718,
     "end_time": "2023-05-04T13:00:46.233263",
     "exception": false,
     "start_time": "2023-05-04T13:00:46.208545",
     "status": "completed"
    },
    "tags": []
   },
   "outputs": [],
   "source": [
    "class DecisionTree:\n",
    "    \n",
    "    def __init__(self, min_samples_split=2, max_depth=100, n_features=None):\n",
    "        \n",
    "        self.min_samples_split=min_samples_split\n",
    "        self.max_depth=max_depth\n",
    "        self.n_features=n_features\n",
    "        self.root=None\n",
    "        \n",
    "    def fit(self , X , y):pass\n",
    "    \n",
    "    def _information_gain(self, y, X_column, threshold):\n",
    "\n",
    "        parent_entropy = self._entropy(y)\n",
    "\n",
    "        left_idxs, right_idxs = self._split(X_column, threshold)\n",
    "\n",
    "        if len(left_idxs) == 0 or len(right_idxs) == 0:\n",
    "            return 0\n",
    "\n",
    "        child_entropy = (len(left_idxs)/len(y)) * (self.entropy(y[left_idxs])) + (len(right_idxs)/len(y)) * (self._entropy(y[right_idxs]))\n",
    "\n",
    "        information_gain = parent_entropy - child_entropy\n",
    "        return information_gain\n",
    "    \n",
    "    entropy = lambda self , y : -np.sum(np.array([p * np.log(p)\n",
    "                                                 for p in (np.bincount(y) / len(y))]))\n",
    "    \n",
    "    def split(self, X_column, split_thresh):\n",
    "        \n",
    "        left = np.argwhere(X_column <= split_thresh).flatten()\n",
    "        right = np.argwhere(X_column > split_thresh).flatten()\n",
    "        \n",
    "        return left , right\n",
    "    \n",
    "    def predict(self , X):pass"
   ]
  },
  {
   "cell_type": "markdown",
   "id": "7205403b",
   "metadata": {
    "papermill": {
     "duration": 0.009933,
     "end_time": "2023-05-04T13:00:46.253355",
     "exception": false,
     "start_time": "2023-05-04T13:00:46.243422",
     "status": "completed"
    },
    "tags": []
   },
   "source": [
    "Now we need to evaluate the `information_gain`  and get the `best split`"
   ]
  },
  {
   "cell_type": "code",
   "execution_count": 21,
   "id": "ab41854c",
   "metadata": {
    "execution": {
     "iopub.execute_input": "2023-05-04T13:00:46.276477Z",
     "iopub.status.busy": "2023-05-04T13:00:46.275990Z",
     "iopub.status.idle": "2023-05-04T13:00:46.286882Z",
     "shell.execute_reply": "2023-05-04T13:00:46.286000Z"
    },
    "papermill": {
     "duration": 0.024974,
     "end_time": "2023-05-04T13:00:46.288974",
     "exception": false,
     "start_time": "2023-05-04T13:00:46.264000",
     "status": "completed"
    },
    "tags": []
   },
   "outputs": [],
   "source": [
    "class DecisionTree:\n",
    "    \n",
    "    def __init__(self, min_samples_split=2, max_depth=100, n_features=None):\n",
    "        \n",
    "        self.min_samples_split=min_samples_split\n",
    "        self.max_depth=max_depth\n",
    "        self.n_features=n_features\n",
    "        self.root=None\n",
    "        \n",
    "    def fit(self , X , y):pass\n",
    "    \n",
    "    def _best_split(self, X, y, feat_idxs):\n",
    "        \n",
    "        best_gain = -1\n",
    "        split_idx, split_threshold = None, None\n",
    "\n",
    "        for feat_idx in feat_idxs:\n",
    "            X_column = X[:, feat_idx]\n",
    "            thresholds = np.unique(X_column)\n",
    "\n",
    "            for thr in thresholds:\n",
    "                \n",
    "                gain = self._information_gain(y, X_column, thr)\n",
    "\n",
    "                if gain > best_gain:\n",
    "                    best_gain = gain\n",
    "                    split_idx = feat_idx\n",
    "                    split_threshold = thr\n",
    "\n",
    "        return split_idx, split_threshold\n",
    "    \n",
    "    def _information_gain(self, y, X_column, threshold):\n",
    "\n",
    "        parent_entropy = self._entropy(y)\n",
    "\n",
    "        left_idxs, right_idxs = self._split(X_column, threshold)\n",
    "\n",
    "        if len(left_idxs) == 0 or len(right_idxs) == 0:\n",
    "            return 0\n",
    "\n",
    "        child_entropy = (len(left_idxs)/len(y)) * (self.entropy(y[left_idxs])) + (len(right_idxs)/len(y)) * (self._entropy(y[right_idxs]))\n",
    "\n",
    "        information_gain = parent_entropy - child_entropy\n",
    "        return information_gain\n",
    "    \n",
    "    entropy = lambda self , y : -np.sum(np.array([p * np.log(p)\n",
    "                                                 for p in (np.bincount(y) / len(y))]))\n",
    "    \n",
    "    def split(self, X_column, split_thresh):\n",
    "        \n",
    "        left = np.argwhere(X_column <= split_thresh).flatten()\n",
    "        right = np.argwhere(X_column > split_thresh).flatten()\n",
    "        \n",
    "        return left , right\n",
    "    \n",
    "    def predict(self , X):pass"
   ]
  },
  {
   "cell_type": "markdown",
   "id": "0ce0e198",
   "metadata": {
    "papermill": {
     "duration": 0.011011,
     "end_time": "2023-05-04T13:00:46.310151",
     "exception": false,
     "start_time": "2023-05-04T13:00:46.299140",
     "status": "completed"
    },
    "tags": []
   },
   "source": [
    "Now we just need to do this iteratively till some `stopping condition`"
   ]
  },
  {
   "cell_type": "code",
   "execution_count": 22,
   "id": "0cd9879f",
   "metadata": {
    "execution": {
     "iopub.execute_input": "2023-05-04T13:00:46.333483Z",
     "iopub.status.busy": "2023-05-04T13:00:46.333063Z",
     "iopub.status.idle": "2023-05-04T13:00:46.348686Z",
     "shell.execute_reply": "2023-05-04T13:00:46.347548Z"
    },
    "papermill": {
     "duration": 0.030516,
     "end_time": "2023-05-04T13:00:46.351435",
     "exception": false,
     "start_time": "2023-05-04T13:00:46.320919",
     "status": "completed"
    },
    "tags": []
   },
   "outputs": [],
   "source": [
    "class DecisionTree:\n",
    "    \n",
    "    def __init__(self, min_samples_split=2, max_depth=100, n_features=None):\n",
    "        \n",
    "        self.min_samples_split=min_samples_split\n",
    "        self.max_depth=max_depth\n",
    "        self.n_features=n_features\n",
    "        self.root=None\n",
    "        \n",
    "    def fit(self , X , y):\n",
    "        self.n_features = X.shape[1] if not self.n_features else min(X.shape[1],self.n_features)\n",
    "        self.root = self._grow_tree(X, y)\n",
    "    \n",
    "    def _grow_tree(self, X, y, depth=0):\n",
    "        \n",
    "        n_samples, n_feats = X.shape\n",
    "        n_labels = len(np.unique(y))\n",
    "\n",
    "        if (depth>=self.max_depth or n_labels==1 or n_samples<self.min_samples_split):\n",
    "            leaf_value = self._most_common_label(y)\n",
    "            return Node(value=leaf_value)\n",
    "\n",
    "        feat_idxs = np.random.choice(n_feats, self.n_features, replace=False)\n",
    "\n",
    "        best_feature, best_thresh = self._best_split(X, y, feat_idxs)\n",
    "\n",
    "        left_idxs, right_idxs = self._split(X[:, best_feature], best_thresh)\n",
    "        left = self._grow_tree(X[left_idxs, :], y[left_idxs], depth+1)\n",
    "        right = self._grow_tree(X[right_idxs, :], y[right_idxs], depth+1)\n",
    "        return Node(best_feature, best_thresh, left, right)\n",
    "    \n",
    "    def _best_split(self, X, y, feat_idxs):\n",
    "        \n",
    "        best_gain = -1\n",
    "        split_idx, split_threshold = None, None\n",
    "\n",
    "        for feat_idx in feat_idxs:\n",
    "            X_column = X[:, feat_idx]\n",
    "            thresholds = np.unique(X_column)\n",
    "\n",
    "            for thr in thresholds:\n",
    "                \n",
    "                gain = self._information_gain(y, X_column, thr)\n",
    "\n",
    "                if gain > best_gain:\n",
    "                    best_gain = gain\n",
    "                    split_idx = feat_idx\n",
    "                    split_threshold = thr\n",
    "\n",
    "        return split_idx, split_threshold\n",
    "    \n",
    "    def _information_gain(self, y, X_column, threshold):\n",
    "\n",
    "        parent_entropy = self._entropy(y)\n",
    "\n",
    "        left_idxs, right_idxs = self._split(X_column, threshold)\n",
    "\n",
    "        if len(left_idxs) == 0 or len(right_idxs) == 0:\n",
    "            return 0\n",
    "\n",
    "        child_entropy = (len(left_idxs)/len(y)) * (self.entropy(y[left_idxs])) + (len(right_idxs)/len(y)) * (self._entropy(y[right_idxs]))\n",
    "\n",
    "        information_gain = parent_entropy - child_entropy\n",
    "        return information_gain\n",
    "    \n",
    "    entropy = lambda self , y : -np.sum(np.array([p * np.log(p)\n",
    "                                                 for p in (np.bincount(y) / len(y))]))\n",
    "    \n",
    "    def split(self, X_column, split_thresh):\n",
    "        \n",
    "        left = np.argwhere(X_column <= split_thresh).flatten()\n",
    "        right = np.argwhere(X_column > split_thresh).flatten()\n",
    "        \n",
    "        return left , right\n",
    "    \n",
    "    def predict(self , X):pass"
   ]
  },
  {
   "cell_type": "markdown",
   "id": "9a66c5d3",
   "metadata": {
    "papermill": {
     "duration": 0.009955,
     "end_time": "2023-05-04T13:00:46.371509",
     "exception": false,
     "start_time": "2023-05-04T13:00:46.361554",
     "status": "completed"
    },
    "tags": []
   },
   "source": [
    "We have made most of our algorithm for `Decision Tree`. Now we just need to add a function so that it can predict"
   ]
  },
  {
   "cell_type": "code",
   "execution_count": 23,
   "id": "80bc957c",
   "metadata": {
    "execution": {
     "iopub.execute_input": "2023-05-04T13:00:46.393683Z",
     "iopub.status.busy": "2023-05-04T13:00:46.393261Z",
     "iopub.status.idle": "2023-05-04T13:00:46.410148Z",
     "shell.execute_reply": "2023-05-04T13:00:46.409290Z"
    },
    "papermill": {
     "duration": 0.031072,
     "end_time": "2023-05-04T13:00:46.412645",
     "exception": false,
     "start_time": "2023-05-04T13:00:46.381573",
     "status": "completed"
    },
    "tags": []
   },
   "outputs": [],
   "source": [
    "class DecisionTree:\n",
    "    \n",
    "    def __init__(self, min_samples_split=2, max_depth=100, n_features=None):\n",
    "        \n",
    "        self.min_samples_split=min_samples_split\n",
    "        self.max_depth=max_depth\n",
    "        self.n_features=n_features\n",
    "        self.root=None\n",
    "        \n",
    "    def fit(self , X , y):\n",
    "        self.n_features = X.shape[1] if not self.n_features else min(X.shape[1],self.n_features)\n",
    "        self.root = self._grow_tree(X, y)\n",
    "    \n",
    "    def _grow_tree(self, X, y, depth=0):\n",
    "        \n",
    "        n_samples, n_feats = X.shape\n",
    "        n_labels = len(np.unique(y))\n",
    "\n",
    "        if (depth>=self.max_depth or n_labels==1 or n_samples<self.min_samples_split):\n",
    "            leaf_value = self._most_common_label(y)\n",
    "            return Node(value=leaf_value)\n",
    "\n",
    "        feat_idxs = np.random.choice(n_feats, self.n_features, replace=False)\n",
    "\n",
    "        best_feature, best_thresh = self._best_split(X, y, feat_idxs)\n",
    "\n",
    "        left_idxs, right_idxs = self._split(X[:, best_feature], best_thresh)\n",
    "        left = self._grow_tree(X[left_idxs, :], y[left_idxs], depth+1)\n",
    "        right = self._grow_tree(X[right_idxs, :], y[right_idxs], depth+1)\n",
    "        return Node(best_feature, best_thresh, left, right)\n",
    "    \n",
    "    def _best_split(self, X, y, feat_idxs):\n",
    "        \n",
    "        best_gain = -1\n",
    "        split_idx, split_threshold = None, None\n",
    "\n",
    "        for feat_idx in feat_idxs:\n",
    "            X_column = X[:, feat_idx]\n",
    "            thresholds = np.unique(X_column)\n",
    "\n",
    "            for thr in thresholds:\n",
    "                \n",
    "                gain = self._information_gain(y, X_column, thr)\n",
    "\n",
    "                if gain > best_gain:\n",
    "                    best_gain = gain\n",
    "                    split_idx = feat_idx\n",
    "                    split_threshold = thr\n",
    "\n",
    "        return split_idx, split_threshold\n",
    "    \n",
    "    def _information_gain(self, y, X_column, threshold):\n",
    "\n",
    "        parent_entropy = self._entropy(y)\n",
    "\n",
    "        left_idxs, right_idxs = self._split(X_column, threshold)\n",
    "\n",
    "        if len(left_idxs) == 0 or len(right_idxs) == 0:\n",
    "            return 0\n",
    "\n",
    "        child_entropy = (len(left_idxs)/len(y)) * (self.entropy(y[left_idxs])) + (len(right_idxs)/len(y)) * (self._entropy(y[right_idxs]))\n",
    "\n",
    "        information_gain = parent_entropy - child_entropy\n",
    "        return information_gain\n",
    "    \n",
    "    entropy = lambda self , y : -np.sum(np.array([p * np.log(p)\n",
    "                                                 for p in (np.bincount(y) / len(y))]))\n",
    "    \n",
    "    def split(self, X_column, split_thresh):\n",
    "        \n",
    "        left = np.argwhere(X_column <= split_thresh).flatten()\n",
    "        right = np.argwhere(X_column > split_thresh).flatten()\n",
    "        \n",
    "        return left , right\n",
    "    \n",
    "    def _most_common_label(self, y):\n",
    "        \n",
    "        counter = Counter(y)\n",
    "        value = counter.most_common(1)[0][0]\n",
    "        \n",
    "        return value\n",
    "\n",
    "    def predict(self, X):\n",
    "        \n",
    "        return np.array([self._traverse_tree(x, self.root) for x in X])\n",
    "\n",
    "    def _traverse_tree(self, x, node):\n",
    "        \n",
    "        if node.is_leaf_node():\n",
    "            \n",
    "            return node.value\n",
    "\n",
    "        if x[node.feature] <= node.threshold:\n",
    "            \n",
    "            return self._traverse_tree(x, node.left)\n",
    "        \n",
    "        return self._traverse_tree(x, node.right)"
   ]
  },
  {
   "cell_type": "markdown",
   "id": "7fb3a5e4",
   "metadata": {
    "papermill": {
     "duration": 0.010456,
     "end_time": "2023-05-04T13:00:46.433200",
     "exception": false,
     "start_time": "2023-05-04T13:00:46.422744",
     "status": "completed"
    },
    "tags": []
   },
   "source": [
    "And we have finally made our `Decision Tree`\n",
    "\n",
    "<img src = \"https://media.makeameme.org/created/finally-a-decision.jpg\">\n",
    "\n",
    "# Decision Trees Final Source Code"
   ]
  },
  {
   "cell_type": "code",
   "execution_count": 24,
   "id": "509f6728",
   "metadata": {
    "execution": {
     "iopub.execute_input": "2023-05-04T13:00:46.455886Z",
     "iopub.status.busy": "2023-05-04T13:00:46.455283Z",
     "iopub.status.idle": "2023-05-04T13:00:46.476908Z",
     "shell.execute_reply": "2023-05-04T13:00:46.475611Z"
    },
    "papermill": {
     "duration": 0.036315,
     "end_time": "2023-05-04T13:00:46.479832",
     "exception": false,
     "start_time": "2023-05-04T13:00:46.443517",
     "status": "completed"
    },
    "tags": []
   },
   "outputs": [],
   "source": [
    "class Node:\n",
    "    \n",
    "    def __init__(self, feature=None, threshold=None, left=None, right=None,*,value=None):\n",
    "        \n",
    "        self.feature = feature\n",
    "        self.threshold = threshold\n",
    "        self.left = left\n",
    "        self.right = right\n",
    "        self.value = value\n",
    "        \n",
    "    def is_leaf_node(self):\n",
    "        \n",
    "        return self.value is not None\n",
    "\n",
    "class DecisionTree:\n",
    "    \n",
    "    def __init__(self, min_samples_split=2, max_depth=100, n_features=None):\n",
    "        \n",
    "        self.min_samples_split=min_samples_split\n",
    "        self.max_depth=max_depth\n",
    "        self.n_features=n_features\n",
    "        self.root=None\n",
    "        \n",
    "    def fit(self , X , y):\n",
    "        \n",
    "        self.n_features = X.shape[1] if not self.n_features else min(X.shape[1],self.n_features)\n",
    "        self.root = self._grow_tree(X, y)\n",
    "    \n",
    "    def _grow_tree(self, X, y, depth=0):\n",
    "        \n",
    "        n_samples, n_feats = X.shape\n",
    "        n_labels = len(np.unique(y))\n",
    "\n",
    "        if (depth>=self.max_depth or n_labels==1 or n_samples<self.min_samples_split):\n",
    "            \n",
    "            leaf_value = self._most_common_label(y)\n",
    "            \n",
    "            return Node(value=leaf_value)\n",
    "\n",
    "        feat_idxs = np.random.choice(n_feats, self.n_features, replace=False)\n",
    "\n",
    "        best_feature, best_thresh = self._best_split(X, y, feat_idxs)\n",
    "\n",
    "        left_idxs, right_idxs = self._split(X[:, best_feature], best_thresh)\n",
    "        left = self._grow_tree(X[left_idxs, :], y[left_idxs], depth+1)\n",
    "        right = self._grow_tree(X[right_idxs, :], y[right_idxs], depth+1)\n",
    "        return Node(best_feature, best_thresh, left, right)\n",
    "    \n",
    "    def _best_split(self, X, y, feat_idxs):\n",
    "        \n",
    "        best_gain = -1\n",
    "        split_idx, split_threshold = None, None\n",
    "\n",
    "        for feat_idx in feat_idxs:\n",
    "            X_column = X[:, feat_idx]\n",
    "            thresholds = np.unique(X_column)\n",
    "\n",
    "            for thr in thresholds:\n",
    "                \n",
    "                gain = self._information_gain(y, X_column, thr)\n",
    "\n",
    "                if gain > best_gain:\n",
    "                    best_gain = gain\n",
    "                    split_idx = feat_idx\n",
    "                    split_threshold = thr\n",
    "\n",
    "        return split_idx, split_threshold\n",
    "    \n",
    "    def _information_gain(self, y, X_column, threshold):\n",
    "\n",
    "        parent_entropy = self._entropy(y)\n",
    "\n",
    "        left_idxs, right_idxs = self._split(X_column, threshold)\n",
    "\n",
    "        if len(left_idxs) == 0 or len(right_idxs) == 0:\n",
    "            \n",
    "            return 0\n",
    "\n",
    "        child_entropy = (len(left_idxs)/len(y)) * (self.entropy(y[left_idxs])) + (len(right_idxs)/len(y)) * (self._entropy(y[right_idxs]))\n",
    "\n",
    "        information_gain = parent_entropy - child_entropy\n",
    "        return information_gain\n",
    "    \n",
    "    entropy = lambda self , y : -np.sum(np.array([p * np.log(p)\n",
    "                                                 for p in (np.bincount(y) / len(y))]))\n",
    "    \n",
    "    def split(self, X_column, split_thresh):\n",
    "        \n",
    "        left = np.argwhere(X_column <= split_thresh).flatten()\n",
    "        right = np.argwhere(X_column > split_thresh).flatten()\n",
    "        \n",
    "        return left , right\n",
    "    \n",
    "    def _most_common_label(self, y):\n",
    "        \n",
    "        counter = Counter(y)\n",
    "        value = counter.most_common(1)[0][0]\n",
    "        \n",
    "        return value\n",
    "\n",
    "    def predict(self, X):\n",
    "        \n",
    "        return np.array([self._traverse_tree(x, self.root) for x in X])\n",
    "\n",
    "    def _traverse_tree(self, x, node):\n",
    "        \n",
    "        if node.is_leaf_node():\n",
    "            \n",
    "            return node.value\n",
    "\n",
    "        if x[node.feature] <= node.threshold:\n",
    "            \n",
    "            return self._traverse_tree(x, node.left)\n",
    "        \n",
    "        return self._traverse_tree(x, node.right)"
   ]
  },
  {
   "cell_type": "markdown",
   "id": "5affc0f3",
   "metadata": {
    "papermill": {
     "duration": 0.010073,
     "end_time": "2023-05-04T13:00:46.500539",
     "exception": false,
     "start_time": "2023-05-04T13:00:46.490466",
     "status": "completed"
    },
    "tags": []
   },
   "source": [
    "**THIS IS NOT THE FULL IMPLEMENTATION, IT STILL LACKS MANY FUNCTIONALITIES AND IS VULENRABLE TO MANY EDGE CASES, WE WILL IMPROVE THIS IN THE UPCOMING VERSIONS**\n",
    "\n",
    "**PLEASE COMMENT DOWN IF I DID ANY MISTAKES, OR IF CAN MAKE THIS MORE CONNECTED TO THE GROUND, OR SUGGESTIONS. YOUR ASSISTS ARE HIGHLY APPRECIABLE**\n",
    "\n",
    "**THATS IT FOR TODAY GUYS**\n",
    "\n",
    "**HOPE YOU UNDERSTOOD AND LIKED MY WORK**\n",
    "\n",
    "**DONT FORGET TO MAKE AN UPVOTE :)**\n",
    "\n",
    "**PEACE OUT !!!**"
   ]
  }
 ],
 "metadata": {
  "kernelspec": {
   "display_name": "Python 3",
   "language": "python",
   "name": "python3"
  },
  "language_info": {
   "codemirror_mode": {
    "name": "ipython",
    "version": 3
   },
   "file_extension": ".py",
   "mimetype": "text/x-python",
   "name": "python",
   "nbconvert_exporter": "python",
   "pygments_lexer": "ipython3",
   "version": "3.10.10"
  },
  "papermill": {
   "default_parameters": {},
   "duration": 13.645776,
   "end_time": "2023-05-04T13:00:47.433892",
   "environment_variables": {},
   "exception": null,
   "input_path": "__notebook__.ipynb",
   "output_path": "__notebook__.ipynb",
   "parameters": {},
   "start_time": "2023-05-04T13:00:33.788116",
   "version": "2.4.0"
  }
 },
 "nbformat": 4,
 "nbformat_minor": 5
}
