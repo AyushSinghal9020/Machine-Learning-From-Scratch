{
 "cells": [
  {
   "cell_type": "markdown",
   "id": "e13c27a7",
   "metadata": {
    "papermill": {
     "duration": 0.012675,
     "end_time": "2023-04-24T10:08:44.497978",
     "exception": false,
     "start_time": "2023-04-24T10:08:44.485303",
     "status": "completed"
    },
    "tags": []
   },
   "source": [
    "# Scaling \n",
    "Scaling is a technique that scales different values on a same level \n",
    "\n",
    "|Technique|Formula|\n",
    "|---|---|\n",
    "|Standard Scaler/Z-Score Normalization|$$x_{i_{scaled}} = \\frac {x_i - \\mu}{\\sigma}$$|\n",
    "|Min-Max Scaler|$$x_{i_{scaled}} = \\frac {x_i - min}{max - min}$$"
   ]
  },
  {
   "cell_type": "code",
   "execution_count": 1,
   "id": "b5e708ae",
   "metadata": {
    "execution": {
     "iopub.execute_input": "2023-04-24T10:08:44.522026Z",
     "iopub.status.busy": "2023-04-24T10:08:44.521515Z",
     "iopub.status.idle": "2023-04-24T10:08:44.532540Z",
     "shell.execute_reply": "2023-04-24T10:08:44.531204Z"
    },
    "papermill": {
     "duration": 0.027124,
     "end_time": "2023-04-24T10:08:44.535653",
     "exception": false,
     "start_time": "2023-04-24T10:08:44.508529",
     "status": "completed"
    },
    "tags": []
   },
   "outputs": [],
   "source": [
    "import numpy as np\n",
    "import pandas as pd"
   ]
  },
  {
   "cell_type": "code",
   "execution_count": 2,
   "id": "97e8157e",
   "metadata": {
    "execution": {
     "iopub.execute_input": "2023-04-24T10:08:44.558495Z",
     "iopub.status.busy": "2023-04-24T10:08:44.557997Z",
     "iopub.status.idle": "2023-04-24T10:08:45.897803Z",
     "shell.execute_reply": "2023-04-24T10:08:45.896237Z"
    },
    "papermill": {
     "duration": 1.355094,
     "end_time": "2023-04-24T10:08:45.901180",
     "exception": false,
     "start_time": "2023-04-24T10:08:44.546086",
     "status": "completed"
    },
    "tags": []
   },
   "outputs": [],
   "source": [
    "import seaborn as sns \n",
    "import matplotlib.pyplot as plt"
   ]
  },
  {
   "cell_type": "code",
   "execution_count": 3,
   "id": "6d15f7f2",
   "metadata": {
    "_cell_guid": "b1076dfc-b9ad-4769-8c92-a6c4dae69d19",
    "_uuid": "8f2839f25d086af736a60e9eeb907d3b93b6e0e5",
    "execution": {
     "iopub.execute_input": "2023-04-24T10:08:45.926054Z",
     "iopub.status.busy": "2023-04-24T10:08:45.925532Z",
     "iopub.status.idle": "2023-04-24T10:08:45.937231Z",
     "shell.execute_reply": "2023-04-24T10:08:45.935615Z"
    },
    "papermill": {
     "duration": 0.028633,
     "end_time": "2023-04-24T10:08:45.940834",
     "exception": false,
     "start_time": "2023-04-24T10:08:45.912201",
     "status": "completed"
    },
    "tags": []
   },
   "outputs": [
    {
     "name": "stdout",
     "output_type": "stream",
     "text": [
      "/kaggle/input/sample-data/Sample_Data_1.csv\n",
      "/kaggle/input/sample-data/Sample_Data_2.csv\n",
      "/kaggle/input/sample-data/Sample_Data_3.csv\n"
     ]
    }
   ],
   "source": [
    "import os\n",
    "for dirname, _, filenames in os.walk('/kaggle/input'):\n",
    "    for filename in filenames:\n",
    "        print(os.path.join(dirname, filename))"
   ]
  },
  {
   "cell_type": "markdown",
   "id": "0cbe5c2c",
   "metadata": {
    "papermill": {
     "duration": 0.009895,
     "end_time": "2023-04-24T10:08:45.961166",
     "exception": false,
     "start_time": "2023-04-24T10:08:45.951271",
     "status": "completed"
    },
    "tags": []
   },
   "source": [
    "Suppose we have a dataset like this "
   ]
  },
  {
   "cell_type": "code",
   "execution_count": 4,
   "id": "74664180",
   "metadata": {
    "execution": {
     "iopub.execute_input": "2023-04-24T10:08:45.985389Z",
     "iopub.status.busy": "2023-04-24T10:08:45.984932Z",
     "iopub.status.idle": "2023-04-24T10:08:46.003676Z",
     "shell.execute_reply": "2023-04-24T10:08:46.002332Z"
    },
    "papermill": {
     "duration": 0.035016,
     "end_time": "2023-04-24T10:08:46.007220",
     "exception": false,
     "start_time": "2023-04-24T10:08:45.972204",
     "status": "completed"
    },
    "tags": []
   },
   "outputs": [],
   "source": [
    "data = pd.read_csv(\"/kaggle/input/sample-data/Sample_Data_1.csv\")"
   ]
  },
  {
   "cell_type": "code",
   "execution_count": 5,
   "id": "fc939bb4",
   "metadata": {
    "_kg_hide-input": true,
    "execution": {
     "iopub.execute_input": "2023-04-24T10:08:46.031216Z",
     "iopub.status.busy": "2023-04-24T10:08:46.030718Z",
     "iopub.status.idle": "2023-04-24T10:08:46.046048Z",
     "shell.execute_reply": "2023-04-24T10:08:46.044532Z"
    },
    "papermill": {
     "duration": 0.030555,
     "end_time": "2023-04-24T10:08:46.048934",
     "exception": false,
     "start_time": "2023-04-24T10:08:46.018379",
     "status": "completed"
    },
    "tags": []
   },
   "outputs": [],
   "source": [
    "data[\"y\"] = data[\"y\"] * 100"
   ]
  },
  {
   "cell_type": "code",
   "execution_count": 6,
   "id": "3fc0c2f5",
   "metadata": {
    "execution": {
     "iopub.execute_input": "2023-04-24T10:08:46.071940Z",
     "iopub.status.busy": "2023-04-24T10:08:46.071310Z",
     "iopub.status.idle": "2023-04-24T10:08:46.101223Z",
     "shell.execute_reply": "2023-04-24T10:08:46.100079Z"
    },
    "papermill": {
     "duration": 0.04484,
     "end_time": "2023-04-24T10:08:46.104168",
     "exception": false,
     "start_time": "2023-04-24T10:08:46.059328",
     "status": "completed"
    },
    "tags": []
   },
   "outputs": [
    {
     "data": {
      "text/html": [
       "<div>\n",
       "<style scoped>\n",
       "    .dataframe tbody tr th:only-of-type {\n",
       "        vertical-align: middle;\n",
       "    }\n",
       "\n",
       "    .dataframe tbody tr th {\n",
       "        vertical-align: top;\n",
       "    }\n",
       "\n",
       "    .dataframe thead th {\n",
       "        text-align: right;\n",
       "    }\n",
       "</style>\n",
       "<table border=\"1\" class=\"dataframe\">\n",
       "  <thead>\n",
       "    <tr style=\"text-align: right;\">\n",
       "      <th></th>\n",
       "      <th>x</th>\n",
       "      <th>y</th>\n",
       "      <th>z</th>\n",
       "    </tr>\n",
       "  </thead>\n",
       "  <tbody>\n",
       "    <tr>\n",
       "      <th>0</th>\n",
       "      <td>-33.963989</td>\n",
       "      <td>23196.201395</td>\n",
       "      <td>a</td>\n",
       "    </tr>\n",
       "    <tr>\n",
       "      <th>1</th>\n",
       "      <td>34.152445</td>\n",
       "      <td>20670.838779</td>\n",
       "      <td>a</td>\n",
       "    </tr>\n",
       "    <tr>\n",
       "      <th>2</th>\n",
       "      <td>7.545619</td>\n",
       "      <td>19162.201911</td>\n",
       "      <td>a</td>\n",
       "    </tr>\n",
       "    <tr>\n",
       "      <th>3</th>\n",
       "      <td>6.862322</td>\n",
       "      <td>25688.208651</td>\n",
       "      <td>a</td>\n",
       "    </tr>\n",
       "    <tr>\n",
       "      <th>4</th>\n",
       "      <td>-5.574613</td>\n",
       "      <td>20972.540156</td>\n",
       "      <td>a</td>\n",
       "    </tr>\n",
       "    <tr>\n",
       "      <th>...</th>\n",
       "      <td>...</td>\n",
       "      <td>...</td>\n",
       "      <td>...</td>\n",
       "    </tr>\n",
       "    <tr>\n",
       "      <th>1158</th>\n",
       "      <td>630.098767</td>\n",
       "      <td>35236.798299</td>\n",
       "      <td>b</td>\n",
       "    </tr>\n",
       "    <tr>\n",
       "      <th>1159</th>\n",
       "      <td>654.050088</td>\n",
       "      <td>41201.063865</td>\n",
       "      <td>b</td>\n",
       "    </tr>\n",
       "    <tr>\n",
       "      <th>1160</th>\n",
       "      <td>709.733033</td>\n",
       "      <td>39161.022616</td>\n",
       "      <td>b</td>\n",
       "    </tr>\n",
       "    <tr>\n",
       "      <th>1161</th>\n",
       "      <td>623.373461</td>\n",
       "      <td>40586.175795</td>\n",
       "      <td>b</td>\n",
       "    </tr>\n",
       "    <tr>\n",
       "      <th>1162</th>\n",
       "      <td>649.438698</td>\n",
       "      <td>38418.120896</td>\n",
       "      <td>b</td>\n",
       "    </tr>\n",
       "  </tbody>\n",
       "</table>\n",
       "<p>1163 rows × 3 columns</p>\n",
       "</div>"
      ],
      "text/plain": [
       "               x             y  z\n",
       "0     -33.963989  23196.201395  a\n",
       "1      34.152445  20670.838779  a\n",
       "2       7.545619  19162.201911  a\n",
       "3       6.862322  25688.208651  a\n",
       "4      -5.574613  20972.540156  a\n",
       "...          ...           ... ..\n",
       "1158  630.098767  35236.798299  b\n",
       "1159  654.050088  41201.063865  b\n",
       "1160  709.733033  39161.022616  b\n",
       "1161  623.373461  40586.175795  b\n",
       "1162  649.438698  38418.120896  b\n",
       "\n",
       "[1163 rows x 3 columns]"
      ]
     },
     "execution_count": 6,
     "metadata": {},
     "output_type": "execute_result"
    }
   ],
   "source": [
    "data"
   ]
  },
  {
   "cell_type": "markdown",
   "id": "e921d59f",
   "metadata": {
    "papermill": {
     "duration": 0.010445,
     "end_time": "2023-04-24T10:08:46.125651",
     "exception": false,
     "start_time": "2023-04-24T10:08:46.115206",
     "status": "completed"
    },
    "tags": []
   },
   "source": [
    "And it looks like this "
   ]
  },
  {
   "cell_type": "code",
   "execution_count": 7,
   "id": "77fe54a8",
   "metadata": {
    "execution": {
     "iopub.execute_input": "2023-04-24T10:08:46.150591Z",
     "iopub.status.busy": "2023-04-24T10:08:46.150100Z",
     "iopub.status.idle": "2023-04-24T10:08:46.627093Z",
     "shell.execute_reply": "2023-04-24T10:08:46.625987Z"
    },
    "papermill": {
     "duration": 0.494192,
     "end_time": "2023-04-24T10:08:46.630501",
     "exception": false,
     "start_time": "2023-04-24T10:08:46.136309",
     "status": "completed"
    },
    "tags": []
   },
   "outputs": [
    {
     "data": {
      "text/plain": [
       "<AxesSubplot:xlabel='x', ylabel='y'>"
      ]
     },
     "execution_count": 7,
     "metadata": {},
     "output_type": "execute_result"
    },
    {
     "data": {
      "image/png": "[encoded data removed]",
      "text/plain": [
       "<Figure size 640x480 with 1 Axes>"
      ]
     },
     "metadata": {},
     "output_type": "display_data"
    }
   ],
   "source": [
    "sns.scatterplot(x = data[\"x\"] , y = data[\"y\"] , hue = data[\"z\"])"
   ]
  },
  {
   "cell_type": "markdown",
   "id": "5954b23c",
   "metadata": {
    "papermill": {
     "duration": 0.012332,
     "end_time": "2023-04-24T10:08:46.655754",
     "exception": false,
     "start_time": "2023-04-24T10:08:46.643422",
     "status": "completed"
    },
    "tags": []
   },
   "source": [
    "Notice the diffrence in the axis... One is in the range of $(0-800)$ and the other one is in the range of $(0-50,000)$. This shows that mathematlically the output will be more dependent on the `data[1]` than `data[0]`. And this is a wrong signal. Just take this example.\n",
    "\n",
    "For the KNN only, the distance for $x-axis$ will be way small than the distance for $y-axis$. \n",
    "\n",
    "To counter this we use different types of `Scalers`. A scaler is baiscally a technique that scales all the values of a data to a particular scale, for more efficicent computation. \n",
    "\n",
    "So what thing defines a good scaled data...?\n",
    "\n",
    "Its the $mean = \\mu$ and $standard_-deviation = \\sigma$ of the data. \n",
    "\n",
    "A good scaled data will have $\\mu = 0$ and $\\sigma = 1$\n",
    "\n",
    "If you go out to your nearby machine learning shop and ask them for scalers, they wil show you a lot of scalers, but will also show you most commonly used scalers in the market differently. Those scalers will be most probably be \n",
    "* **[sklearn.preprocessing.StandardScaler](https://scikit-learn.org/stable/modules/generated/sklearn.preprocessing.StandardScaler.html)**"
   ]
  },
  {
   "cell_type": "markdown",
   "id": "9c100bfe",
   "metadata": {
    "papermill": {
     "duration": 0.012244,
     "end_time": "2023-04-24T10:08:46.680455",
     "exception": false,
     "start_time": "2023-04-24T10:08:46.668211",
     "status": "completed"
    },
    "tags": []
   },
   "source": [
    "# 1 | Standard Scaler | Z-Score Normalization\n",
    "\n",
    "One technique we can apply is to use the formula like this \n",
    "\n",
    "****\n",
    "$$x_{i_{scaled}} = \\frac {x_i - \\mu}{\\sigma}$$\n",
    "\n",
    "$where$\n",
    "\n",
    "$\\mu = \\frac {1}{n}\\sum\\limits_{i = 1}^{n}x_i$\n",
    "\n",
    "$\\sigma = \\sqrt{\\frac {1}{n}\\sum\\limits_{i = 1}^{n}(x_i - \\mu)^2}$\n",
    "****\n",
    "\n",
    "Lets assume we have an array like this "
   ]
  },
  {
   "cell_type": "code",
   "execution_count": 8,
   "id": "66a96270",
   "metadata": {
    "execution": {
     "iopub.execute_input": "2023-04-24T10:08:46.708990Z",
     "iopub.status.busy": "2023-04-24T10:08:46.707844Z",
     "iopub.status.idle": "2023-04-24T10:08:46.713813Z",
     "shell.execute_reply": "2023-04-24T10:08:46.712770Z"
    },
    "papermill": {
     "duration": 0.023398,
     "end_time": "2023-04-24T10:08:46.716512",
     "exception": false,
     "start_time": "2023-04-24T10:08:46.693114",
     "status": "completed"
    },
    "tags": []
   },
   "outputs": [],
   "source": [
    "x = np.random.randn(100)"
   ]
  },
  {
   "cell_type": "code",
   "execution_count": 9,
   "id": "5b6ab6a1",
   "metadata": {
    "execution": {
     "iopub.execute_input": "2023-04-24T10:08:46.745094Z",
     "iopub.status.busy": "2023-04-24T10:08:46.744329Z",
     "iopub.status.idle": "2023-04-24T10:08:46.752104Z",
     "shell.execute_reply": "2023-04-24T10:08:46.750995Z"
    },
    "papermill": {
     "duration": 0.025106,
     "end_time": "2023-04-24T10:08:46.754583",
     "exception": false,
     "start_time": "2023-04-24T10:08:46.729477",
     "status": "completed"
    },
    "tags": []
   },
   "outputs": [
    {
     "data": {
      "text/plain": [
       "array([ 0.7252663 , -0.48834243, -0.04742216, -1.0166644 ,  1.65809746,\n",
       "       -2.06544101,  0.47966156,  0.36272154,  0.67302048,  0.43227184,\n",
       "       -2.24234454, -0.37704238,  0.01202206, -0.44938412, -1.49243033,\n",
       "        1.53838611, -0.90919085,  1.42522828, -0.44780979, -0.12022568,\n",
       "       -0.2549035 ,  0.4376607 , -0.73706217, -1.35557865,  1.18438646,\n",
       "        0.11202323, -0.41239393, -0.92904955,  0.98930166, -0.5676795 ,\n",
       "       -1.6200308 , -0.29427105,  0.7836521 , -0.43500858,  0.05212579,\n",
       "       -0.59644198, -0.23726597, -0.2701379 , -0.94031825, -1.3375081 ,\n",
       "        1.0085934 , -1.11798185, -1.1938043 ,  0.44597958,  1.02677269,\n",
       "        0.45011614,  0.81650925, -1.64332831, -0.72997425,  0.1120312 ,\n",
       "       -0.8474426 , -0.16131712,  0.05799959, -1.6112034 , -0.42355325,\n",
       "       -0.01351888, -1.99446301, -0.31396468,  0.44006274,  1.55639469,\n",
       "        0.86459806,  0.62223975, -0.01220784, -1.13974388, -0.59929021,\n",
       "        0.40107441,  1.23031317, -0.30740551, -0.10430674, -0.2871467 ,\n",
       "        0.46746925,  0.543562  , -1.06811847,  0.11175367,  0.45397156,\n",
       "       -0.72161544,  0.67999516, -0.63348776, -0.79694558, -0.10141763,\n",
       "        0.03961115, -0.45589605,  0.24489552, -1.89718435,  1.28115815,\n",
       "       -0.35785868,  0.36303178, -0.03205026,  0.89492417, -0.21076652,\n",
       "        1.7607112 , -2.35802059,  0.61781762, -2.26079325,  0.28367347,\n",
       "       -0.45981128,  0.01485274, -0.54851324, -0.72902849, -0.6160081 ])"
      ]
     },
     "execution_count": 9,
     "metadata": {},
     "output_type": "execute_result"
    }
   ],
   "source": [
    "x"
   ]
  },
  {
   "cell_type": "markdown",
   "id": "20bf061f",
   "metadata": {
    "papermill": {
     "duration": 0.012681,
     "end_time": "2023-04-24T10:08:46.779932",
     "exception": false,
     "start_time": "2023-04-24T10:08:46.767251",
     "status": "completed"
    },
    "tags": []
   },
   "source": [
    "If we try to plot this, we get "
   ]
  },
  {
   "cell_type": "code",
   "execution_count": 10,
   "id": "ab2a7876",
   "metadata": {
    "execution": {
     "iopub.execute_input": "2023-04-24T10:08:46.808080Z",
     "iopub.status.busy": "2023-04-24T10:08:46.807305Z",
     "iopub.status.idle": "2023-04-24T10:08:47.070454Z",
     "shell.execute_reply": "2023-04-24T10:08:47.068845Z"
    },
    "papermill": {
     "duration": 0.281226,
     "end_time": "2023-04-24T10:08:47.073817",
     "exception": false,
     "start_time": "2023-04-24T10:08:46.792591",
     "status": "completed"
    },
    "tags": []
   },
   "outputs": [
    {
     "data": {
      "text/plain": [
       "<AxesSubplot:ylabel='Density'>"
      ]
     },
     "execution_count": 10,
     "metadata": {},
     "output_type": "execute_result"
    },
    {
     "data": {
      "image/png": "[encoded data removed]",
      "text/plain": [
       "<Figure size 640x480 with 1 Axes>"
      ]
     },
     "metadata": {},
     "output_type": "display_data"
    }
   ],
   "source": [
    "sns.kdeplot(x)"
   ]
  },
  {
   "cell_type": "markdown",
   "id": "0e8f548c",
   "metadata": {
    "papermill": {
     "duration": 0.012699,
     "end_time": "2023-04-24T10:08:47.100552",
     "exception": false,
     "start_time": "2023-04-24T10:08:47.087853",
     "status": "completed"
    },
    "tags": []
   },
   "source": [
    "Something like a `bell curve`. \n",
    "\n",
    "The suprising thing about scaling, we just scale values, we do not change the core meaning of the values. For example. if we scale the values and then plot the graph. only the range of axis will change, not how the graph looks like. means the semantic meaning retains in the graph. \n",
    "\n",
    "# 1.1 | Standard Scaler From Scratch\n",
    "\n",
    "Lets assume we have this array "
   ]
  },
  {
   "cell_type": "code",
   "execution_count": 11,
   "id": "fe5b2498",
   "metadata": {
    "execution": {
     "iopub.execute_input": "2023-04-24T10:08:47.132479Z",
     "iopub.status.busy": "2023-04-24T10:08:47.132013Z",
     "iopub.status.idle": "2023-04-24T10:08:47.139015Z",
     "shell.execute_reply": "2023-04-24T10:08:47.137298Z"
    },
    "papermill": {
     "duration": 0.027487,
     "end_time": "2023-04-24T10:08:47.142380",
     "exception": false,
     "start_time": "2023-04-24T10:08:47.114893",
     "status": "completed"
    },
    "tags": []
   },
   "outputs": [],
   "source": [
    "x = np.array([x**2 for x in range(100)])"
   ]
  },
  {
   "cell_type": "code",
   "execution_count": 12,
   "id": "958f1ab8",
   "metadata": {
    "execution": {
     "iopub.execute_input": "2023-04-24T10:08:47.171557Z",
     "iopub.status.busy": "2023-04-24T10:08:47.171101Z",
     "iopub.status.idle": "2023-04-24T10:08:47.179364Z",
     "shell.execute_reply": "2023-04-24T10:08:47.177731Z"
    },
    "papermill": {
     "duration": 0.026005,
     "end_time": "2023-04-24T10:08:47.182023",
     "exception": false,
     "start_time": "2023-04-24T10:08:47.156018",
     "status": "completed"
    },
    "tags": []
   },
   "outputs": [
    {
     "data": {
      "text/plain": [
       "array([   0,    1,    4,    9,   16,   25,   36,   49,   64,   81,  100,\n",
       "        121,  144,  169,  196,  225,  256,  289,  324,  361,  400,  441,\n",
       "        484,  529,  576,  625,  676,  729,  784,  841,  900,  961, 1024,\n",
       "       1089, 1156, 1225, 1296, 1369, 1444, 1521, 1600, 1681, 1764, 1849,\n",
       "       1936, 2025, 2116, 2209, 2304, 2401, 2500, 2601, 2704, 2809, 2916,\n",
       "       3025, 3136, 3249, 3364, 3481, 3600, 3721, 3844, 3969, 4096, 4225,\n",
       "       4356, 4489, 4624, 4761, 4900, 5041, 5184, 5329, 5476, 5625, 5776,\n",
       "       5929, 6084, 6241, 6400, 6561, 6724, 6889, 7056, 7225, 7396, 7569,\n",
       "       7744, 7921, 8100, 8281, 8464, 8649, 8836, 9025, 9216, 9409, 9604,\n",
       "       9801])"
      ]
     },
     "execution_count": 12,
     "metadata": {},
     "output_type": "execute_result"
    }
   ],
   "source": [
    "x"
   ]
  },
  {
   "cell_type": "markdown",
   "id": "48279c64",
   "metadata": {
    "papermill": {
     "duration": 0.012947,
     "end_time": "2023-04-24T10:08:47.208327",
     "exception": false,
     "start_time": "2023-04-24T10:08:47.195380",
     "status": "completed"
    },
    "tags": []
   },
   "source": [
    "And the graph looks like this "
   ]
  },
  {
   "cell_type": "code",
   "execution_count": 13,
   "id": "0bc3f0ad",
   "metadata": {
    "execution": {
     "iopub.execute_input": "2023-04-24T10:08:47.237485Z",
     "iopub.status.busy": "2023-04-24T10:08:47.237030Z",
     "iopub.status.idle": "2023-04-24T10:08:47.505713Z",
     "shell.execute_reply": "2023-04-24T10:08:47.504667Z"
    },
    "papermill": {
     "duration": 0.286807,
     "end_time": "2023-04-24T10:08:47.508437",
     "exception": false,
     "start_time": "2023-04-24T10:08:47.221630",
     "status": "completed"
    },
    "tags": []
   },
   "outputs": [
    {
     "data": {
      "text/plain": [
       "<AxesSubplot:ylabel='Density'>"
      ]
     },
     "execution_count": 13,
     "metadata": {},
     "output_type": "execute_result"
    },
    {
     "data": {
      "image/png": "[encoded data removed]",
      "text/plain": [
       "<Figure size 640x480 with 1 Axes>"
      ]
     },
     "metadata": {},
     "output_type": "display_data"
    }
   ],
   "source": [
    "sns.kdeplot(x)"
   ]
  },
  {
   "cell_type": "markdown",
   "id": "efa00d66",
   "metadata": {
    "papermill": {
     "duration": 0.014044,
     "end_time": "2023-04-24T10:08:47.536879",
     "exception": false,
     "start_time": "2023-04-24T10:08:47.522835",
     "status": "completed"
    },
    "tags": []
   },
   "source": [
    "According to this formula \n",
    "****\n",
    "$$x_{i_{scaled}} = \\frac {x_i - \\mu}{\\sigma}$$\n",
    "****\n",
    "\n",
    "The mean $\\mu$ of the data will be, and the standard deviation $\\sigma$ will be  "
   ]
  },
  {
   "cell_type": "code",
   "execution_count": 14,
   "id": "273975c4",
   "metadata": {
    "execution": {
     "iopub.execute_input": "2023-04-24T10:08:47.568578Z",
     "iopub.status.busy": "2023-04-24T10:08:47.567260Z",
     "iopub.status.idle": "2023-04-24T10:08:47.576168Z",
     "shell.execute_reply": "2023-04-24T10:08:47.574905Z"
    },
    "papermill": {
     "duration": 0.028171,
     "end_time": "2023-04-24T10:08:47.579035",
     "exception": false,
     "start_time": "2023-04-24T10:08:47.550864",
     "status": "completed"
    },
    "tags": []
   },
   "outputs": [
    {
     "data": {
      "text/plain": [
       "(3283.5, 2953.2966410436998)"
      ]
     },
     "execution_count": 14,
     "metadata": {},
     "output_type": "execute_result"
    }
   ],
   "source": [
    "x.mean() , x.std()"
   ]
  },
  {
   "cell_type": "markdown",
   "id": "20148797",
   "metadata": {
    "papermill": {
     "duration": 0.013856,
     "end_time": "2023-04-24T10:08:47.607246",
     "exception": false,
     "start_time": "2023-04-24T10:08:47.593390",
     "status": "completed"
    },
    "tags": []
   },
   "source": [
    "You can notice that the $mean(\\mu)$ and $standard_-deviation(\\sigma)$ are no close to what should there be. Lets try to apply the formula, and see what we get from there "
   ]
  },
  {
   "cell_type": "code",
   "execution_count": 15,
   "id": "8a8d1613",
   "metadata": {
    "execution": {
     "iopub.execute_input": "2023-04-24T10:08:47.638403Z",
     "iopub.status.busy": "2023-04-24T10:08:47.637440Z",
     "iopub.status.idle": "2023-04-24T10:08:47.649573Z",
     "shell.execute_reply": "2023-04-24T10:08:47.647980Z"
    },
    "papermill": {
     "duration": 0.031667,
     "end_time": "2023-04-24T10:08:47.653132",
     "exception": false,
     "start_time": "2023-04-24T10:08:47.621465",
     "status": "completed"
    },
    "tags": []
   },
   "outputs": [],
   "source": [
    "y = np.empty(shape = (100))\n",
    "for i,j in enumerate(x):\n",
    "    y[i] = (j - x.mean()) / (x.std())"
   ]
  },
  {
   "cell_type": "code",
   "execution_count": 16,
   "id": "5bebb91a",
   "metadata": {
    "execution": {
     "iopub.execute_input": "2023-04-24T10:08:47.683713Z",
     "iopub.status.busy": "2023-04-24T10:08:47.683169Z",
     "iopub.status.idle": "2023-04-24T10:08:47.691521Z",
     "shell.execute_reply": "2023-04-24T10:08:47.690464Z"
    },
    "papermill": {
     "duration": 0.026773,
     "end_time": "2023-04-24T10:08:47.694138",
     "exception": false,
     "start_time": "2023-04-24T10:08:47.667365",
     "status": "completed"
    },
    "tags": []
   },
   "outputs": [
    {
     "data": {
      "text/plain": [
       "array([-1.1118084 , -1.11146979, -1.11045398, -1.10876095, -1.10639072,\n",
       "       -1.10334328, -1.09961863, -1.09521677, -1.0901377 , -1.08438142,\n",
       "       -1.07794793, -1.07083723, -1.06304932, -1.05458421, -1.04544188,\n",
       "       -1.03562235, -1.0251256 , -1.01395165, -1.00210049, -0.98957211,\n",
       "       -0.97636653, -0.96248374, -0.94792374, -0.93268653, -0.91677211,\n",
       "       -0.90018048, -0.88291165, -0.8649656 , -0.84634234, -0.82704188,\n",
       "       -0.8070642 , -0.78640932, -0.76507723, -0.74306792, -0.72038141,\n",
       "       -0.69701769, -0.67297676, -0.64825862, -0.62286327, -0.59679071,\n",
       "       -0.57004094, -0.54261396, -0.51450978, -0.48572838, -0.45626978,\n",
       "       -0.42613396, -0.39532094, -0.36383071, -0.33166326, -0.29881861,\n",
       "       -0.26529675, -0.23109768, -0.1962214 , -0.16066791, -0.12443721,\n",
       "       -0.0875293 , -0.04994419, -0.01168186,  0.02725767,  0.06687442,\n",
       "        0.10716837,  0.14813954,  0.18978791,  0.23211349,  0.27511628,\n",
       "        0.31879629,  0.3631535 ,  0.40818792,  0.45389954,  0.50028838,\n",
       "        0.54735443,  0.59509769,  0.64351815,  0.69261583,  0.74239071,\n",
       "        0.79284281,  0.84397211,  0.89577862,  0.94826235,  1.00142328,\n",
       "        1.05526142,  1.10977677,  1.16496933,  1.2208391 ,  1.27738607,\n",
       "        1.33461026,  1.39251166,  1.45109026,  1.51034608,  1.5702791 ,\n",
       "        1.63088934,  1.69217678,  1.75414143,  1.81678329,  1.88010237,\n",
       "        1.94409865,  2.00877214,  2.07412283,  2.14015074,  2.20685586])"
      ]
     },
     "execution_count": 16,
     "metadata": {},
     "output_type": "execute_result"
    }
   ],
   "source": [
    "y"
   ]
  },
  {
   "cell_type": "code",
   "execution_count": 17,
   "id": "8ff792ac",
   "metadata": {
    "execution": {
     "iopub.execute_input": "2023-04-24T10:08:47.726420Z",
     "iopub.status.busy": "2023-04-24T10:08:47.725314Z",
     "iopub.status.idle": "2023-04-24T10:08:47.971038Z",
     "shell.execute_reply": "2023-04-24T10:08:47.969470Z"
    },
    "papermill": {
     "duration": 0.264833,
     "end_time": "2023-04-24T10:08:47.974060",
     "exception": false,
     "start_time": "2023-04-24T10:08:47.709227",
     "status": "completed"
    },
    "tags": []
   },
   "outputs": [
    {
     "data": {
      "text/plain": [
       "<AxesSubplot:ylabel='Density'>"
      ]
     },
     "execution_count": 17,
     "metadata": {},
     "output_type": "execute_result"
    },
    {
     "data": {
      "image/png": "[encoded data removed]",
      "text/plain": [
       "<Figure size 640x480 with 1 Axes>"
      ]
     },
     "metadata": {},
     "output_type": "display_data"
    }
   ],
   "source": [
    "sns.kdeplot(y)"
   ]
  },
  {
   "cell_type": "markdown",
   "id": "b93a5a06",
   "metadata": {
    "papermill": {
     "duration": 0.015187,
     "end_time": "2023-04-24T10:08:48.004617",
     "exception": false,
     "start_time": "2023-04-24T10:08:47.989430",
     "status": "completed"
    },
    "tags": []
   },
   "source": [
    "Notice how the semantic meaning of the values have not been changed, and if we see the `mean` and `std` of the scaled values "
   ]
  },
  {
   "cell_type": "code",
   "execution_count": 18,
   "id": "ecb9cc90",
   "metadata": {
    "execution": {
     "iopub.execute_input": "2023-04-24T10:08:48.037979Z",
     "iopub.status.busy": "2023-04-24T10:08:48.036720Z",
     "iopub.status.idle": "2023-04-24T10:08:48.045428Z",
     "shell.execute_reply": "2023-04-24T10:08:48.044019Z"
    },
    "papermill": {
     "duration": 0.028201,
     "end_time": "2023-04-24T10:08:48.048123",
     "exception": false,
     "start_time": "2023-04-24T10:08:48.019922",
     "status": "completed"
    },
    "tags": []
   },
   "outputs": [
    {
     "data": {
      "text/plain": [
       "(8.881784197001253e-18, 1.0)"
      ]
     },
     "execution_count": 18,
     "metadata": {},
     "output_type": "execute_result"
    }
   ],
   "source": [
    "y.mean() , y.std()"
   ]
  },
  {
   "cell_type": "markdown",
   "id": "8ef8544f",
   "metadata": {
    "papermill": {
     "duration": 0.015042,
     "end_time": "2023-04-24T10:08:48.078766",
     "exception": false,
     "start_time": "2023-04-24T10:08:48.063724",
     "status": "completed"
    },
    "tags": []
   },
   "source": [
    "These values are really good the $mean ~ 0$ and the $std = 1$...\n",
    "\n",
    "# 1.2 | Functionalities\n",
    "\n",
    "* ✅`copy : bool, default=True` - If False, try to avoid a copy and do inplace scaling instead. This is not guaranteed to always work inplace; e.g. if the data is not a NumPy array or scipy.sparse CSR matrix, a copy may still be returned. \n",
    "\n",
    "# 1.2.1 | Copy\n",
    "\n",
    "Inplace operations in machine learning can significantly reduce memory usage and improve the computational efficiency of algorithms. By performing calculations directly on the existing data structures rather than creating new ones, inplace operations can help prevent memory errors and reduce the likelihood of memory overflow. Inplace operations are particularly useful in deep learning, where large amounts of data are processed, and computational efficiency is crucial for achieving good performance. \n",
    "\n",
    "For doing so we just need not to make the `y` array and rather do the changes in the original array itself"
   ]
  },
  {
   "cell_type": "code",
   "execution_count": 19,
   "id": "11ea3268",
   "metadata": {
    "execution": {
     "iopub.execute_input": "2023-04-24T10:08:48.113445Z",
     "iopub.status.busy": "2023-04-24T10:08:48.111874Z",
     "iopub.status.idle": "2023-04-24T10:08:48.120359Z",
     "shell.execute_reply": "2023-04-24T10:08:48.118985Z"
    },
    "papermill": {
     "duration": 0.029359,
     "end_time": "2023-04-24T10:08:48.123337",
     "exception": false,
     "start_time": "2023-04-24T10:08:48.093978",
     "status": "completed"
    },
    "tags": []
   },
   "outputs": [],
   "source": [
    "def standard_scaler(array , copy = True):\n",
    "    if copy:\n",
    "        y = np.empty(shape = array.shape)\n",
    "        for i,j in enumerate(array):\n",
    "            y[i] = (j - array.mean()) / (array.std())\n",
    "        return y\n",
    "    else :\n",
    "        for i,j in enumerate(array):\n",
    "            array[i] = (j - array.mean()) / (array.std())\n",
    "        return array"
   ]
  },
  {
   "cell_type": "markdown",
   "id": "8a2ffb89",
   "metadata": {
    "papermill": {
     "duration": 0.014814,
     "end_time": "2023-04-24T10:08:48.153402",
     "exception": false,
     "start_time": "2023-04-24T10:08:48.138588",
     "status": "completed"
    },
    "tags": []
   },
   "source": [
    "# 1.3 | Standard Scaler Final Scource Code"
   ]
  },
  {
   "cell_type": "code",
   "execution_count": 20,
   "id": "3b86fc66",
   "metadata": {
    "execution": {
     "iopub.execute_input": "2023-04-24T10:08:48.186625Z",
     "iopub.status.busy": "2023-04-24T10:08:48.185669Z",
     "iopub.status.idle": "2023-04-24T10:08:48.193388Z",
     "shell.execute_reply": "2023-04-24T10:08:48.192344Z"
    },
    "papermill": {
     "duration": 0.027458,
     "end_time": "2023-04-24T10:08:48.196298",
     "exception": false,
     "start_time": "2023-04-24T10:08:48.168840",
     "status": "completed"
    },
    "tags": []
   },
   "outputs": [],
   "source": [
    "def standard_scaler(array , copy = True):\n",
    "    if copy:\n",
    "        \n",
    "        y = np.empty(shape = array.shape)\n",
    "        \n",
    "        for i,j in enumerate(array):\n",
    "            \n",
    "            y[i] = (j - array.mean()) / (array.std())\n",
    "        \n",
    "        return y\n",
    "    \n",
    "    else :\n",
    "        \n",
    "        for i,j in enumerate(array):\n",
    "            \n",
    "            array[i] = (j - array.mean()) / (array.std())\n",
    "        \n",
    "        return array"
   ]
  },
  {
   "cell_type": "markdown",
   "id": "7bae33d1",
   "metadata": {
    "papermill": {
     "duration": 0.015497,
     "end_time": "2023-04-24T10:08:48.226926",
     "exception": false,
     "start_time": "2023-04-24T10:08:48.211429",
     "status": "completed"
    },
    "tags": []
   },
   "source": [
    "# 2 | Min Max Scaler \n",
    "Another technique we can apply is to use the formula like this \n",
    "\n",
    "****\n",
    "$$x_{i_{scaled}} = \\frac {x_i - min}{max - min}$$\n",
    "****\n",
    "Lets assume we have the same array "
   ]
  },
  {
   "cell_type": "code",
   "execution_count": 21,
   "id": "052f7e32",
   "metadata": {
    "execution": {
     "iopub.execute_input": "2023-04-24T10:08:48.260630Z",
     "iopub.status.busy": "2023-04-24T10:08:48.259681Z",
     "iopub.status.idle": "2023-04-24T10:08:48.268222Z",
     "shell.execute_reply": "2023-04-24T10:08:48.266899Z"
    },
    "papermill": {
     "duration": 0.028469,
     "end_time": "2023-04-24T10:08:48.270782",
     "exception": false,
     "start_time": "2023-04-24T10:08:48.242313",
     "status": "completed"
    },
    "tags": []
   },
   "outputs": [
    {
     "data": {
      "text/plain": [
       "array([   0,    1,    4,    9,   16,   25,   36,   49,   64,   81,  100,\n",
       "        121,  144,  169,  196,  225,  256,  289,  324,  361,  400,  441,\n",
       "        484,  529,  576,  625,  676,  729,  784,  841,  900,  961, 1024,\n",
       "       1089, 1156, 1225, 1296, 1369, 1444, 1521, 1600, 1681, 1764, 1849,\n",
       "       1936, 2025, 2116, 2209, 2304, 2401, 2500, 2601, 2704, 2809, 2916,\n",
       "       3025, 3136, 3249, 3364, 3481, 3600, 3721, 3844, 3969, 4096, 4225,\n",
       "       4356, 4489, 4624, 4761, 4900, 5041, 5184, 5329, 5476, 5625, 5776,\n",
       "       5929, 6084, 6241, 6400, 6561, 6724, 6889, 7056, 7225, 7396, 7569,\n",
       "       7744, 7921, 8100, 8281, 8464, 8649, 8836, 9025, 9216, 9409, 9604,\n",
       "       9801])"
      ]
     },
     "execution_count": 21,
     "metadata": {},
     "output_type": "execute_result"
    }
   ],
   "source": [
    "x = np.array([x**2 for x in range(100)])\n",
    "x"
   ]
  },
  {
   "cell_type": "markdown",
   "id": "2dc63b4a",
   "metadata": {
    "papermill": {
     "duration": 0.014952,
     "end_time": "2023-04-24T10:08:48.301324",
     "exception": false,
     "start_time": "2023-04-24T10:08:48.286372",
     "status": "completed"
    },
    "tags": []
   },
   "source": [
    "And the graph looks like this"
   ]
  },
  {
   "cell_type": "code",
   "execution_count": 22,
   "id": "b7cef11a",
   "metadata": {
    "execution": {
     "iopub.execute_input": "2023-04-24T10:08:48.334744Z",
     "iopub.status.busy": "2023-04-24T10:08:48.333760Z",
     "iopub.status.idle": "2023-04-24T10:08:48.600159Z",
     "shell.execute_reply": "2023-04-24T10:08:48.598626Z"
    },
    "papermill": {
     "duration": 0.296473,
     "end_time": "2023-04-24T10:08:48.613137",
     "exception": false,
     "start_time": "2023-04-24T10:08:48.316664",
     "status": "completed"
    },
    "tags": []
   },
   "outputs": [
    {
     "data": {
      "text/plain": [
       "<AxesSubplot:ylabel='Density'>"
      ]
     },
     "execution_count": 22,
     "metadata": {},
     "output_type": "execute_result"
    },
    {
     "data": {
      "image/png": "[encoded data removed]",
      "text/plain": [
       "<Figure size 640x480 with 1 Axes>"
      ]
     },
     "metadata": {},
     "output_type": "display_data"
    }
   ],
   "source": [
    "sns.kdeplot(x)"
   ]
  },
  {
   "cell_type": "markdown",
   "id": "af831fcb",
   "metadata": {
    "papermill": {
     "duration": 0.015805,
     "end_time": "2023-04-24T10:08:48.649012",
     "exception": false,
     "start_time": "2023-04-24T10:08:48.633207",
     "status": "completed"
    },
    "tags": []
   },
   "source": [
    "According to this formula \n",
    "****\n",
    "$$x_{i_{scaled}} = \\frac {x_i - min}{max - min}$$\n",
    "****\n",
    "\n",
    "The mean $\\mu$ of the data will be, and the standard deviation $\\sigma$ will be  "
   ]
  },
  {
   "cell_type": "code",
   "execution_count": 23,
   "id": "f65dce80",
   "metadata": {
    "execution": {
     "iopub.execute_input": "2023-04-24T10:08:48.683779Z",
     "iopub.status.busy": "2023-04-24T10:08:48.683281Z",
     "iopub.status.idle": "2023-04-24T10:08:48.692049Z",
     "shell.execute_reply": "2023-04-24T10:08:48.690848Z"
    },
    "papermill": {
     "duration": 0.029349,
     "end_time": "2023-04-24T10:08:48.694730",
     "exception": false,
     "start_time": "2023-04-24T10:08:48.665381",
     "status": "completed"
    },
    "tags": []
   },
   "outputs": [
    {
     "data": {
      "text/plain": [
       "(3283.5, 2953.2966410436998)"
      ]
     },
     "execution_count": 23,
     "metadata": {},
     "output_type": "execute_result"
    }
   ],
   "source": [
    "x.mean() , x.std()"
   ]
  },
  {
   "cell_type": "markdown",
   "id": "70dd2f1e",
   "metadata": {
    "papermill": {
     "duration": 0.015761,
     "end_time": "2023-04-24T10:08:48.726736",
     "exception": false,
     "start_time": "2023-04-24T10:08:48.710975",
     "status": "completed"
    },
    "tags": []
   },
   "source": [
    "You can notice that the $mean(\\mu)$ and $standard_-deviation(\\sigma)$ are no close to what should there be. Lets try to apply the formula, and see what we get from there "
   ]
  },
  {
   "cell_type": "code",
   "execution_count": 24,
   "id": "8286e713",
   "metadata": {
    "execution": {
     "iopub.execute_input": "2023-04-24T10:08:48.765111Z",
     "iopub.status.busy": "2023-04-24T10:08:48.764514Z",
     "iopub.status.idle": "2023-04-24T10:08:48.778528Z",
     "shell.execute_reply": "2023-04-24T10:08:48.777078Z"
    },
    "papermill": {
     "duration": 0.038389,
     "end_time": "2023-04-24T10:08:48.781349",
     "exception": false,
     "start_time": "2023-04-24T10:08:48.742960",
     "status": "completed"
    },
    "tags": []
   },
   "outputs": [
    {
     "data": {
      "text/plain": [
       "array([0.00000000e+00, 1.02030405e-04, 4.08121620e-04, 9.18273646e-04,\n",
       "       1.63248648e-03, 2.55076013e-03, 3.67309458e-03, 4.99948985e-03,\n",
       "       6.52994592e-03, 8.26446281e-03, 1.02030405e-02, 1.23456790e-02,\n",
       "       1.46923783e-02, 1.72431385e-02, 1.99979594e-02, 2.29568411e-02,\n",
       "       2.61197837e-02, 2.94867871e-02, 3.30578512e-02, 3.68329762e-02,\n",
       "       4.08121620e-02, 4.49954086e-02, 4.93827160e-02, 5.39740843e-02,\n",
       "       5.87695133e-02, 6.37690032e-02, 6.89725538e-02, 7.43801653e-02,\n",
       "       7.99918376e-02, 8.58075707e-02, 9.18273646e-02, 9.80512193e-02,\n",
       "       1.04479135e-01, 1.11111111e-01, 1.17947148e-01, 1.24987246e-01,\n",
       "       1.32231405e-01, 1.39679625e-01, 1.47331905e-01, 1.55188246e-01,\n",
       "       1.63248648e-01, 1.71513111e-01, 1.79981635e-01, 1.88654219e-01,\n",
       "       1.97530864e-01, 2.06611570e-01, 2.15896337e-01, 2.25385165e-01,\n",
       "       2.35078053e-01, 2.44975003e-01, 2.55076013e-01, 2.65381084e-01,\n",
       "       2.75890215e-01, 2.86603408e-01, 2.97520661e-01, 3.08641975e-01,\n",
       "       3.19967350e-01, 3.31496786e-01, 3.43230283e-01, 3.55167840e-01,\n",
       "       3.67309458e-01, 3.79655137e-01, 3.92204877e-01, 4.04958678e-01,\n",
       "       4.17916539e-01, 4.31078461e-01, 4.44444444e-01, 4.58014488e-01,\n",
       "       4.71788593e-01, 4.85766758e-01, 4.99948985e-01, 5.14335272e-01,\n",
       "       5.28925620e-01, 5.43720029e-01, 5.58718498e-01, 5.73921028e-01,\n",
       "       5.89327620e-01, 6.04938272e-01, 6.20752984e-01, 6.36771758e-01,\n",
       "       6.52994592e-01, 6.69421488e-01, 6.86052444e-01, 7.02887460e-01,\n",
       "       7.19926538e-01, 7.37169677e-01, 7.54616876e-01, 7.72268136e-01,\n",
       "       7.90123457e-01, 8.08182838e-01, 8.26446281e-01, 8.44913784e-01,\n",
       "       8.63585348e-01, 8.82460973e-01, 9.01540659e-01, 9.20824406e-01,\n",
       "       9.40312213e-01, 9.60004081e-01, 9.79900010e-01, 1.00000000e+00])"
      ]
     },
     "execution_count": 24,
     "metadata": {},
     "output_type": "execute_result"
    }
   ],
   "source": [
    "y = np.empty(shape = (100))\n",
    "for i,j in enumerate(x):\n",
    "    y[i] = (j - x.min()) / (x.max() - x.min())\n",
    "y"
   ]
  },
  {
   "cell_type": "code",
   "execution_count": 25,
   "id": "4b813c12",
   "metadata": {
    "execution": {
     "iopub.execute_input": "2023-04-24T10:08:48.818409Z",
     "iopub.status.busy": "2023-04-24T10:08:48.817013Z",
     "iopub.status.idle": "2023-04-24T10:08:49.089402Z",
     "shell.execute_reply": "2023-04-24T10:08:49.088218Z"
    },
    "papermill": {
     "duration": 0.294501,
     "end_time": "2023-04-24T10:08:49.092753",
     "exception": false,
     "start_time": "2023-04-24T10:08:48.798252",
     "status": "completed"
    },
    "tags": []
   },
   "outputs": [
    {
     "data": {
      "text/plain": [
       "<AxesSubplot:ylabel='Density'>"
      ]
     },
     "execution_count": 25,
     "metadata": {},
     "output_type": "execute_result"
    },
    {
     "data": {
      "image/png": "[encoded data removed]",
      "text/plain": [
       "<Figure size 640x480 with 1 Axes>"
      ]
     },
     "metadata": {},
     "output_type": "display_data"
    }
   ],
   "source": [
    "sns.kdeplot(y)"
   ]
  },
  {
   "cell_type": "markdown",
   "id": "ab7d2d5e",
   "metadata": {
    "papermill": {
     "duration": 0.016684,
     "end_time": "2023-04-24T10:08:49.132411",
     "exception": false,
     "start_time": "2023-04-24T10:08:49.115727",
     "status": "completed"
    },
    "tags": []
   },
   "source": [
    "Notice how the semantic meaning of the values have not been changed, and if we see the `mean` and `std` of the scaled values "
   ]
  },
  {
   "cell_type": "code",
   "execution_count": 26,
   "id": "665b63d1",
   "metadata": {
    "execution": {
     "iopub.execute_input": "2023-04-24T10:08:49.169587Z",
     "iopub.status.busy": "2023-04-24T10:08:49.168667Z",
     "iopub.status.idle": "2023-04-24T10:08:49.177143Z",
     "shell.execute_reply": "2023-04-24T10:08:49.175809Z"
    },
    "papermill": {
     "duration": 0.030132,
     "end_time": "2023-04-24T10:08:49.179683",
     "exception": false,
     "start_time": "2023-04-24T10:08:49.149551",
     "status": "completed"
    },
    "tags": []
   },
   "outputs": [
    {
     "data": {
      "text/plain": [
       "(0.335016835016835, 0.3013260525501173)"
      ]
     },
     "execution_count": 26,
     "metadata": {},
     "output_type": "execute_result"
    }
   ],
   "source": [
    "y.mean() , y.std()"
   ]
  },
  {
   "cell_type": "markdown",
   "id": "3911e18b",
   "metadata": {
    "papermill": {
     "duration": 0.016715,
     "end_time": "2023-04-24T10:08:49.213575",
     "exception": false,
     "start_time": "2023-04-24T10:08:49.196860",
     "status": "completed"
    },
    "tags": []
   },
   "source": [
    "These values are really good the $mean ~ 0$ and the $std = 1$...\n",
    "\n",
    "# 2.2 | Functionalities\n",
    "\n",
    "* ✅`copy : bool, default=True` - If False, try to avoid a copy and do inplace scaling instead. This is not guaranteed to always work inplace; e.g. if the data is not a NumPy array or scipy.sparse CSR matrix, a copy may still be returned. \n",
    "\n",
    "# 2.2.1 | Copy\n",
    "\n",
    "Inplace operations in machine learning can significantly reduce memory usage and improve the computational efficiency of algorithms. By performing calculations directly on the existing data structures rather than creating new ones, inplace operations can help prevent memory errors and reduce the likelihood of memory overflow. Inplace operations are particularly useful in deep learning, where large amounts of data are processed, and computational efficiency is crucial for achieving good performance. \n",
    "\n",
    "For doing so we just need not to make the `y` array and rather do the changes in the original array itself"
   ]
  },
  {
   "cell_type": "code",
   "execution_count": 27,
   "id": "dc84d621",
   "metadata": {
    "execution": {
     "iopub.execute_input": "2023-04-24T10:08:49.255262Z",
     "iopub.status.busy": "2023-04-24T10:08:49.253857Z",
     "iopub.status.idle": "2023-04-24T10:08:49.264423Z",
     "shell.execute_reply": "2023-04-24T10:08:49.263100Z"
    },
    "papermill": {
     "duration": 0.034315,
     "end_time": "2023-04-24T10:08:49.267479",
     "exception": false,
     "start_time": "2023-04-24T10:08:49.233164",
     "status": "completed"
    },
    "tags": []
   },
   "outputs": [],
   "source": [
    "def min_max_scaler(array , copy = True):\n",
    "    if copy:\n",
    "        y = np.empty(shape = array.shape)\n",
    "        for i,j in enumerate(array):\n",
    "            y[i] = (j - array.min()) / (y.max() - y.min())\n",
    "        return y\n",
    "    else :\n",
    "        for i,j in enumerate(array):\n",
    "            array[i] = (j - array.min()) / (array.max() - array.min())\n",
    "        return array"
   ]
  },
  {
   "cell_type": "markdown",
   "id": "edcf9d02",
   "metadata": {
    "papermill": {
     "duration": 0.017273,
     "end_time": "2023-04-24T10:08:49.303047",
     "exception": false,
     "start_time": "2023-04-24T10:08:49.285774",
     "status": "completed"
    },
    "tags": []
   },
   "source": [
    "# 2.3 | Standard Scaler Final Scource Code"
   ]
  },
  {
   "cell_type": "code",
   "execution_count": 28,
   "id": "01e23c1a",
   "metadata": {
    "execution": {
     "iopub.execute_input": "2023-04-24T10:08:49.340686Z",
     "iopub.status.busy": "2023-04-24T10:08:49.339833Z",
     "iopub.status.idle": "2023-04-24T10:08:49.347916Z",
     "shell.execute_reply": "2023-04-24T10:08:49.346881Z"
    },
    "papermill": {
     "duration": 0.030701,
     "end_time": "2023-04-24T10:08:49.350889",
     "exception": false,
     "start_time": "2023-04-24T10:08:49.320188",
     "status": "completed"
    },
    "tags": []
   },
   "outputs": [],
   "source": [
    "def min_max_scaler(array , copy = True):\n",
    "    \n",
    "    if copy:\n",
    "        \n",
    "        y = np.empty(shape = array.shape)\n",
    "        \n",
    "        for i,j in enumerate(array):\n",
    "            \n",
    "            y[i] = (j - array.min()) / (y.max() - y.min())\n",
    "        \n",
    "        return y\n",
    "    \n",
    "    else :\n",
    "        \n",
    "        for i,j in enumerate(array):\n",
    "            \n",
    "            array[i] = (j - array.min()) / (array.max() - array.min())\n",
    "        \n",
    "        return array"
   ]
  }
 ],
 "metadata": {
  "kernelspec": {
   "display_name": "Python 3",
   "language": "python",
   "name": "python3"
  },
  "language_info": {
   "codemirror_mode": {
    "name": "ipython",
    "version": 3
   },
   "file_extension": ".py",
   "mimetype": "text/x-python",
   "name": "python",
   "nbconvert_exporter": "python",
   "pygments_lexer": "ipython3",
   "version": "3.7.12"
  },
  "papermill": {
   "default_parameters": {},
   "duration": 16.713636,
   "end_time": "2023-04-24T10:08:50.193017",
   "environment_variables": {},
   "exception": null,
   "input_path": "__notebook__.ipynb",
   "output_path": "__notebook__.ipynb",
   "parameters": {},
   "start_time": "2023-04-24T10:08:33.479381",
   "version": "2.4.0"
  }
 },
 "nbformat": 4,
 "nbformat_minor": 5
}
