{
  "nbformat": 4,
  "nbformat_minor": 0,
  "metadata": {
    "colab": {
      "provenance": []
    },
    "kernelspec": {
      "name": "python3",
      "display_name": "Python 3"
    },
    "language_info": {
      "name": "python"
    }
  },
  "cells": [
    {
      "cell_type": "markdown",
      "source": [
        "# Scaling \n",
        "\n",
        "Scaling in machine learning refers to the process of transforming the input features of a dataset so that they have similar numerical ranges or scales. This is important because many machine learning algorithms are sensitive to the scaling of input features. When features are at different scales, some features can dominate other features in determining the output of the algorithm, resulting in inaccurate or skewed results.\n",
        "\n",
        "Common scaling techniques include standardization, in which features are transformed to have zero mean and unit variance, and normalization, in which features are transformed to have a range of values ​​between 0 and 1. Other techniques include logarithmic scaling and min-max scaling. Scaling is an important step in machine learning preprocessing and can improve the accuracy and performance of many machine learning algorithms. Scaling the input features allows the algorithm to treat each feature equally, avoiding dominance or bias that might otherwise occur. \n",
        "\n",
        "Here we will try to make our own scaling techniques"
      ],
      "metadata": {
        "id": "qO6xfNgK0JaN"
      }
    },
    {
      "cell_type": "markdown",
      "source": [
        "****"
      ],
      "metadata": {
        "id": "KT-ZPgHKQSga"
      }
    },
    {
      "cell_type": "markdown",
      "source": [
        "Lets take this [dataset](https://www.kaggle.com/datasets/fedesoriano/stroke-prediction-dataset) for example and visualization"
      ],
      "metadata": {
        "id": "MQ_H6nFM3V0r"
      }
    },
    {
      "cell_type": "code",
      "source": [
        "import pandas as pd \n",
        "import numpy as np\n",
        "import seaborn as sns"
      ],
      "metadata": {
        "id": "tS1K0DNb3Qo1"
      },
      "execution_count": 107,
      "outputs": []
    },
    {
      "cell_type": "code",
      "source": [
        "data = pd.read_csv(\"/content/healthcare-dataset-stroke-data.csv\")"
      ],
      "metadata": {
        "id": "gC82DMl_29Oy"
      },
      "execution_count": 108,
      "outputs": []
    },
    {
      "cell_type": "code",
      "source": [
        "data"
      ],
      "metadata": {
        "colab": {
          "base_uri": "https://localhost:8080/",
          "height": 424
        },
        "id": "S1UbmInVLotX",
        "outputId": "eb68db39-02a5-4b17-db22-e77fd896b991"
      },
      "execution_count": 109,
      "outputs": [
        {
          "output_type": "execute_result",
          "data": {
            "text/plain": [
              "         id  gender   age  hypertension  heart_disease ever_married  \\\n",
              "0      9046    Male  67.0             0              1          Yes   \n",
              "1     51676  Female  61.0             0              0          Yes   \n",
              "2     31112    Male  80.0             0              1          Yes   \n",
              "3     60182  Female  49.0             0              0          Yes   \n",
              "4      1665  Female  79.0             1              0          Yes   \n",
              "...     ...     ...   ...           ...            ...          ...   \n",
              "5105  18234  Female  80.0             1              0          Yes   \n",
              "5106  44873  Female  81.0             0              0          Yes   \n",
              "5107  19723  Female  35.0             0              0          Yes   \n",
              "5108  37544    Male  51.0             0              0          Yes   \n",
              "5109  44679  Female  44.0             0              0          Yes   \n",
              "\n",
              "          work_type Residence_type  avg_glucose_level   bmi   smoking_status  \\\n",
              "0           Private          Urban             228.69  36.6  formerly smoked   \n",
              "1     Self-employed          Rural             202.21   NaN     never smoked   \n",
              "2           Private          Rural             105.92  32.5     never smoked   \n",
              "3           Private          Urban             171.23  34.4           smokes   \n",
              "4     Self-employed          Rural             174.12  24.0     never smoked   \n",
              "...             ...            ...                ...   ...              ...   \n",
              "5105        Private          Urban              83.75   NaN     never smoked   \n",
              "5106  Self-employed          Urban             125.20  40.0     never smoked   \n",
              "5107  Self-employed          Rural              82.99  30.6     never smoked   \n",
              "5108        Private          Rural             166.29  25.6  formerly smoked   \n",
              "5109       Govt_job          Urban              85.28  26.2          Unknown   \n",
              "\n",
              "      stroke  \n",
              "0          1  \n",
              "1          1  \n",
              "2          1  \n",
              "3          1  \n",
              "4          1  \n",
              "...      ...  \n",
              "5105       0  \n",
              "5106       0  \n",
              "5107       0  \n",
              "5108       0  \n",
              "5109       0  \n",
              "\n",
              "[5110 rows x 12 columns]"
            ],
            "text/html": [
              "\n",
              "  <div id=\"df-ee09bd1f-1d6e-4468-b222-0af2eb0ae449\">\n",
              "    <div class=\"colab-df-container\">\n",
              "      <div>\n",
              "<style scoped>\n",
              "    .dataframe tbody tr th:only-of-type {\n",
              "        vertical-align: middle;\n",
              "    }\n",
              "\n",
              "    .dataframe tbody tr th {\n",
              "        vertical-align: top;\n",
              "    }\n",
              "\n",
              "    .dataframe thead th {\n",
              "        text-align: right;\n",
              "    }\n",
              "</style>\n",
              "<table border=\"1\" class=\"dataframe\">\n",
              "  <thead>\n",
              "    <tr style=\"text-align: right;\">\n",
              "      <th></th>\n",
              "      <th>id</th>\n",
              "      <th>gender</th>\n",
              "      <th>age</th>\n",
              "      <th>hypertension</th>\n",
              "      <th>heart_disease</th>\n",
              "      <th>ever_married</th>\n",
              "      <th>work_type</th>\n",
              "      <th>Residence_type</th>\n",
              "      <th>avg_glucose_level</th>\n",
              "      <th>bmi</th>\n",
              "      <th>smoking_status</th>\n",
              "      <th>stroke</th>\n",
              "    </tr>\n",
              "  </thead>\n",
              "  <tbody>\n",
              "    <tr>\n",
              "      <th>0</th>\n",
              "      <td>9046</td>\n",
              "      <td>Male</td>\n",
              "      <td>67.0</td>\n",
              "      <td>0</td>\n",
              "      <td>1</td>\n",
              "      <td>Yes</td>\n",
              "      <td>Private</td>\n",
              "      <td>Urban</td>\n",
              "      <td>228.69</td>\n",
              "      <td>36.6</td>\n",
              "      <td>formerly smoked</td>\n",
              "      <td>1</td>\n",
              "    </tr>\n",
              "    <tr>\n",
              "      <th>1</th>\n",
              "      <td>51676</td>\n",
              "      <td>Female</td>\n",
              "      <td>61.0</td>\n",
              "      <td>0</td>\n",
              "      <td>0</td>\n",
              "      <td>Yes</td>\n",
              "      <td>Self-employed</td>\n",
              "      <td>Rural</td>\n",
              "      <td>202.21</td>\n",
              "      <td>NaN</td>\n",
              "      <td>never smoked</td>\n",
              "      <td>1</td>\n",
              "    </tr>\n",
              "    <tr>\n",
              "      <th>2</th>\n",
              "      <td>31112</td>\n",
              "      <td>Male</td>\n",
              "      <td>80.0</td>\n",
              "      <td>0</td>\n",
              "      <td>1</td>\n",
              "      <td>Yes</td>\n",
              "      <td>Private</td>\n",
              "      <td>Rural</td>\n",
              "      <td>105.92</td>\n",
              "      <td>32.5</td>\n",
              "      <td>never smoked</td>\n",
              "      <td>1</td>\n",
              "    </tr>\n",
              "    <tr>\n",
              "      <th>3</th>\n",
              "      <td>60182</td>\n",
              "      <td>Female</td>\n",
              "      <td>49.0</td>\n",
              "      <td>0</td>\n",
              "      <td>0</td>\n",
              "      <td>Yes</td>\n",
              "      <td>Private</td>\n",
              "      <td>Urban</td>\n",
              "      <td>171.23</td>\n",
              "      <td>34.4</td>\n",
              "      <td>smokes</td>\n",
              "      <td>1</td>\n",
              "    </tr>\n",
              "    <tr>\n",
              "      <th>4</th>\n",
              "      <td>1665</td>\n",
              "      <td>Female</td>\n",
              "      <td>79.0</td>\n",
              "      <td>1</td>\n",
              "      <td>0</td>\n",
              "      <td>Yes</td>\n",
              "      <td>Self-employed</td>\n",
              "      <td>Rural</td>\n",
              "      <td>174.12</td>\n",
              "      <td>24.0</td>\n",
              "      <td>never smoked</td>\n",
              "      <td>1</td>\n",
              "    </tr>\n",
              "    <tr>\n",
              "      <th>...</th>\n",
              "      <td>...</td>\n",
              "      <td>...</td>\n",
              "      <td>...</td>\n",
              "      <td>...</td>\n",
              "      <td>...</td>\n",
              "      <td>...</td>\n",
              "      <td>...</td>\n",
              "      <td>...</td>\n",
              "      <td>...</td>\n",
              "      <td>...</td>\n",
              "      <td>...</td>\n",
              "      <td>...</td>\n",
              "    </tr>\n",
              "    <tr>\n",
              "      <th>5105</th>\n",
              "      <td>18234</td>\n",
              "      <td>Female</td>\n",
              "      <td>80.0</td>\n",
              "      <td>1</td>\n",
              "      <td>0</td>\n",
              "      <td>Yes</td>\n",
              "      <td>Private</td>\n",
              "      <td>Urban</td>\n",
              "      <td>83.75</td>\n",
              "      <td>NaN</td>\n",
              "      <td>never smoked</td>\n",
              "      <td>0</td>\n",
              "    </tr>\n",
              "    <tr>\n",
              "      <th>5106</th>\n",
              "      <td>44873</td>\n",
              "      <td>Female</td>\n",
              "      <td>81.0</td>\n",
              "      <td>0</td>\n",
              "      <td>0</td>\n",
              "      <td>Yes</td>\n",
              "      <td>Self-employed</td>\n",
              "      <td>Urban</td>\n",
              "      <td>125.20</td>\n",
              "      <td>40.0</td>\n",
              "      <td>never smoked</td>\n",
              "      <td>0</td>\n",
              "    </tr>\n",
              "    <tr>\n",
              "      <th>5107</th>\n",
              "      <td>19723</td>\n",
              "      <td>Female</td>\n",
              "      <td>35.0</td>\n",
              "      <td>0</td>\n",
              "      <td>0</td>\n",
              "      <td>Yes</td>\n",
              "      <td>Self-employed</td>\n",
              "      <td>Rural</td>\n",
              "      <td>82.99</td>\n",
              "      <td>30.6</td>\n",
              "      <td>never smoked</td>\n",
              "      <td>0</td>\n",
              "    </tr>\n",
              "    <tr>\n",
              "      <th>5108</th>\n",
              "      <td>37544</td>\n",
              "      <td>Male</td>\n",
              "      <td>51.0</td>\n",
              "      <td>0</td>\n",
              "      <td>0</td>\n",
              "      <td>Yes</td>\n",
              "      <td>Private</td>\n",
              "      <td>Rural</td>\n",
              "      <td>166.29</td>\n",
              "      <td>25.6</td>\n",
              "      <td>formerly smoked</td>\n",
              "      <td>0</td>\n",
              "    </tr>\n",
              "    <tr>\n",
              "      <th>5109</th>\n",
              "      <td>44679</td>\n",
              "      <td>Female</td>\n",
              "      <td>44.0</td>\n",
              "      <td>0</td>\n",
              "      <td>0</td>\n",
              "      <td>Yes</td>\n",
              "      <td>Govt_job</td>\n",
              "      <td>Urban</td>\n",
              "      <td>85.28</td>\n",
              "      <td>26.2</td>\n",
              "      <td>Unknown</td>\n",
              "      <td>0</td>\n",
              "    </tr>\n",
              "  </tbody>\n",
              "</table>\n",
              "<p>5110 rows × 12 columns</p>\n",
              "</div>\n",
              "      <button class=\"colab-df-convert\" onclick=\"convertToInteractive('df-ee09bd1f-1d6e-4468-b222-0af2eb0ae449')\"\n",
              "              title=\"Convert this dataframe to an interactive table.\"\n",
              "              style=\"display:none;\">\n",
              "        \n",
              "  <svg xmlns=\"http://www.w3.org/2000/svg\" height=\"24px\"viewBox=\"0 0 24 24\"\n",
              "       width=\"24px\">\n",
              "    <path d=\"M0 0h24v24H0V0z\" fill=\"none\"/>\n",
              "    <path d=\"M18.56 5.44l.94 2.06.94-2.06 2.06-.94-2.06-.94-.94-2.06-.94 2.06-2.06.94zm-11 1L8.5 8.5l.94-2.06 2.06-.94-2.06-.94L8.5 2.5l-.94 2.06-2.06.94zm10 10l.94 2.06.94-2.06 2.06-.94-2.06-.94-.94-2.06-.94 2.06-2.06.94z\"/><path d=\"M17.41 7.96l-1.37-1.37c-.4-.4-.92-.59-1.43-.59-.52 0-1.04.2-1.43.59L10.3 9.45l-7.72 7.72c-.78.78-.78 2.05 0 2.83L4 21.41c.39.39.9.59 1.41.59.51 0 1.02-.2 1.41-.59l7.78-7.78 2.81-2.81c.8-.78.8-2.07 0-2.86zM5.41 20L4 18.59l7.72-7.72 1.47 1.35L5.41 20z\"/>\n",
              "  </svg>\n",
              "      </button>\n",
              "      \n",
              "  <style>\n",
              "    .colab-df-container {\n",
              "      display:flex;\n",
              "      flex-wrap:wrap;\n",
              "      gap: 12px;\n",
              "    }\n",
              "\n",
              "    .colab-df-convert {\n",
              "      background-color: #E8F0FE;\n",
              "      border: none;\n",
              "      border-radius: 50%;\n",
              "      cursor: pointer;\n",
              "      display: none;\n",
              "      fill: #1967D2;\n",
              "      height: 32px;\n",
              "      padding: 0 0 0 0;\n",
              "      width: 32px;\n",
              "    }\n",
              "\n",
              "    .colab-df-convert:hover {\n",
              "      background-color: #E2EBFA;\n",
              "      box-shadow: 0px 1px 2px rgba(60, 64, 67, 0.3), 0px 1px 3px 1px rgba(60, 64, 67, 0.15);\n",
              "      fill: #174EA6;\n",
              "    }\n",
              "\n",
              "    [theme=dark] .colab-df-convert {\n",
              "      background-color: #3B4455;\n",
              "      fill: #D2E3FC;\n",
              "    }\n",
              "\n",
              "    [theme=dark] .colab-df-convert:hover {\n",
              "      background-color: #434B5C;\n",
              "      box-shadow: 0px 1px 3px 1px rgba(0, 0, 0, 0.15);\n",
              "      filter: drop-shadow(0px 1px 2px rgba(0, 0, 0, 0.3));\n",
              "      fill: #FFFFFF;\n",
              "    }\n",
              "  </style>\n",
              "\n",
              "      <script>\n",
              "        const buttonEl =\n",
              "          document.querySelector('#df-ee09bd1f-1d6e-4468-b222-0af2eb0ae449 button.colab-df-convert');\n",
              "        buttonEl.style.display =\n",
              "          google.colab.kernel.accessAllowed ? 'block' : 'none';\n",
              "\n",
              "        async function convertToInteractive(key) {\n",
              "          const element = document.querySelector('#df-ee09bd1f-1d6e-4468-b222-0af2eb0ae449');\n",
              "          const dataTable =\n",
              "            await google.colab.kernel.invokeFunction('convertToInteractive',\n",
              "                                                     [key], {});\n",
              "          if (!dataTable) return;\n",
              "\n",
              "          const docLinkHtml = 'Like what you see? Visit the ' +\n",
              "            '<a target=\"_blank\" href=https://colab.research.google.com/notebooks/data_table.ipynb>data table notebook</a>'\n",
              "            + ' to learn more about interactive tables.';\n",
              "          element.innerHTML = '';\n",
              "          dataTable['output_type'] = 'display_data';\n",
              "          await google.colab.output.renderOutput(dataTable, element);\n",
              "          const docLink = document.createElement('div');\n",
              "          docLink.innerHTML = docLinkHtml;\n",
              "          element.appendChild(docLink);\n",
              "        }\n",
              "      </script>\n",
              "    </div>\n",
              "  </div>\n",
              "  "
            ]
          },
          "metadata": {},
          "execution_count": 109
        }
      ]
    },
    {
      "cell_type": "markdown",
      "source": [
        "`avg_glucose_level` is a good one to test the techniques, so we will focus on that one"
      ],
      "metadata": {
        "id": "KGwmwgkW3dIp"
      }
    },
    {
      "cell_type": "code",
      "source": [
        "sample_data = data[\"avg_glucose_level\"]\n",
        "\n",
        "print(\"The mean of the data is : \" , np.mean(sample_data))\n",
        "print(\"The standard deviation of the data is :\" , np.std(sample_data))\n",
        "print(\"\\n\")\n",
        "\n",
        "sns.kdeplot(sample_data)"
      ],
      "metadata": {
        "colab": {
          "base_uri": "https://localhost:8080/",
          "height": 367
        },
        "id": "rLczbbgH3EBu",
        "outputId": "e89ed398-3451-4bbc-b5c0-e297222b4d42"
      },
      "execution_count": 17,
      "outputs": [
        {
          "output_type": "stream",
          "name": "stdout",
          "text": [
            "The mean of the data is :  106.1476771037182\n",
            "The standard deviation of the data is : 45.27912905705891\n",
            "\n",
            "\n"
          ]
        },
        {
          "output_type": "execute_result",
          "data": {
            "text/plain": [
              "<AxesSubplot:xlabel='avg_glucose_level', ylabel='Density'>"
            ]
          },
          "metadata": {},
          "execution_count": 17
        },
        {
          "output_type": "display_data",
          "data": {
            "text/plain": [
              "<Figure size 432x288 with 1 Axes>"
            ],
            "image/png": "[encoded data removed]"
          },
          "metadata": {
            "needs_background": "light"
          }
        }
      ]
    },
    {
      "cell_type": "markdown",
      "source": [
        "For a scaled array, the `mean` is $0$ and `standard deviation` is $1$, but here is not the case, so we will try to correct these things\n",
        "\n",
        "Scaling is a technique we can perfrom to fit this. There are majorly two types of scaling techniques in machine learning which are \n",
        "* Min Max Scaling / Range Scaling \n",
        "* Z Score Scaling / Standard Score Scaling\n",
        "\n",
        "We will try to create our own scalers from scractch using the modules \n",
        "* Numpy"
      ],
      "metadata": {
        "id": "8dLZtOhB49Ev"
      }
    },
    {
      "cell_type": "markdown",
      "source": [
        "****\n",
        "Our first one will be **Min Max Scaling**\n",
        "****\n",
        "## Min Max Scaling \n",
        "Min-max scaling is a common data preprocessing technique used in machine learning to scale numerical features of a dataset to the range 0 to 1.\n",
        "\n",
        "To perform min-max scaling, the minimum and maximum values ​​of the features are first determined. Then, for each value of the feature, the difference between value and minimum is divided by the range (that is, the difference between maximum and minimum). This scales the minimum value to 0, the maximum value to 1, and proportionally scales all other values ​​in between.\n",
        "\n",
        "Min-max scaling is useful when the range of values ​​for different features is large and can have a large impact on the learning algorithm. Scaling all features to the same range prevents features with large values ​​from dominating the learning process and ensures that all features are equally important.\n",
        "\n",
        "Note that min-max scaling does not change the distribution of the data. So if the original data is skewed or has outliers, those features will still be there after scaling. If the new data contains values ​​outside the original range, scaling may not work as expected. \n",
        "\n",
        "The basic formula behind min-max scaling is\n",
        "**** \n",
        "\n",
        "$$x_{sclaed} = \\frac {x_{i} - x_{min}}{x_{max} - x_{min}}$$\n",
        "****\n",
        "We will first try to scale one value from the dataset and then fit the whole data like that. So lets take our first value as $228.69$"
      ],
      "metadata": {
        "id": "B4ztvrlI7Ws1"
      }
    },
    {
      "cell_type": "code",
      "source": [
        "print(\"The minimum value of the array is : \", sample_data.min())\n",
        "print(\"The maximum value of the array is : \" , sample_data.max())\n",
        "print(\"The mean value of the array is : \" , sample_data.mean())"
      ],
      "metadata": {
        "colab": {
          "base_uri": "https://localhost:8080/"
        },
        "id": "jdzgj4BBIGtB",
        "outputId": "026ea493-bc55-4877-83a9-cbf96f416ecb"
      },
      "execution_count": 110,
      "outputs": [
        {
          "output_type": "stream",
          "name": "stdout",
          "text": [
            "The minimum value of the array is :  55.12\n",
            "The maximum value of the array is :  271.74\n",
            "The mean value of the array is :  106.1476771037182\n"
          ]
        }
      ]
    },
    {
      "cell_type": "code",
      "source": [
        "(228.69 - 106.14)/ (271.74 - 55.12)"
      ],
      "metadata": {
        "id": "jYSqtSW7IGqJ",
        "colab": {
          "base_uri": "https://localhost:8080/"
        },
        "outputId": "eb91ba0b-b2e9-4c4a-8f9b-25df6597b17e"
      },
      "execution_count": 114,
      "outputs": [
        {
          "output_type": "execute_result",
          "data": {
            "text/plain": [
              "0.5657372357123073"
            ]
          },
          "metadata": {},
          "execution_count": 114
        }
      ]
    },
    {
      "cell_type": "markdown",
      "source": [
        "So now we have applied the technique on one element we will try to implemenet it all over the array "
      ],
      "metadata": {
        "id": "LuhK3se6IsHM"
      }
    },
    {
      "cell_type": "code",
      "source": [
        "scaled = np.array([])\n",
        "\n",
        "for x in sample_data:\n",
        "\n",
        "    scale = (x - sample_data.mean()) / (sample_data.max() - sample_data.min())\n",
        "    scaled = np.hstack([scaled , scale])"
      ],
      "metadata": {
        "id": "hQH_8SoMIGk_"
      },
      "execution_count": 112,
      "outputs": []
    },
    {
      "cell_type": "code",
      "source": [
        "scaled"
      ],
      "metadata": {
        "colab": {
          "base_uri": "https://localhost:8080/"
        },
        "id": "sYBRxjV2J4qY",
        "outputId": "6031edac-e345-4c60-b09e-ec32c31aee00"
      },
      "execution_count": 113,
      "outputs": [
        {
          "output_type": "execute_result",
          "data": {
            "text/plain": [
              "array([ 0.5657018 ,  0.44346008, -0.00105104, ..., -0.10690461,\n",
              "        0.27763975, -0.0963331 ])"
            ]
          },
          "metadata": {},
          "execution_count": 113
        }
      ]
    },
    {
      "cell_type": "markdown",
      "source": [
        "Now lets try to implemets it on a multi dimensional array "
      ],
      "metadata": {
        "id": "0x9gyP35y3C9"
      }
    },
    {
      "cell_type": "code",
      "source": [
        "scaled = np.array([])\n",
        "\n",
        "for i in range(len(array.shape)) : \n",
        "\n",
        "    single_scaled = np.array([])\n",
        "    \n",
        "    if len(array.shape) == 1:\n",
        "            \n",
        "        for j in array:\n",
        "            \n",
        "            scale = (j - array.mean())/ (array.max() - array.min())\n",
        "\n",
        "            single_scaled = np.hstack([single_scaled , scale])\n",
        "        \n",
        "        scaled = single_scaled\n",
        "    \n",
        "    else:\n",
        "\n",
        "        for j in array[i]:\n",
        "\n",
        "            scale = (j - array[i].mean())/ (array[i].max() - array[i].min())\n",
        "\n",
        "            single_scaled = np.hstack([single_scaled , scale])\n",
        "\n",
        "        scaled = np.vstack(scaled . single_scaled)"
      ],
      "metadata": {
        "id": "-YNo3Ndpy-Ey"
      },
      "execution_count": null,
      "outputs": []
    },
    {
      "cell_type": "markdown",
      "source": [
        "We have a our scaler created but there are some edge cases that we should handle before deplying it. Such as \n",
        "* What if user enters a categorical column"
      ],
      "metadata": {
        "id": "Q6eDBCX8Qatl"
      }
    },
    {
      "cell_type": "markdown",
      "source": [
        "For rectfying the first one as \n",
        "**What if user enters a categorical column**\n",
        "\n",
        "For this we will just add a if condition in betweeen "
      ],
      "metadata": {
        "id": "YATw5avSRu_i"
      }
    },
    {
      "cell_type": "code",
      "source": [
        "scaled = np.array([])\n",
        "\n",
        "for i in range(len(array.shape)) : \n",
        "\n",
        "    single_scaled = np.array([])\n",
        "    \n",
        "    if len(array.shape) == 1:\n",
        "            \n",
        "        if not (array.dtype == int or array.dtype == float) :\n",
        "\n",
        "            print(i , \"th index was a categorical column, Please pass only numerical columns. \")\n",
        "            \n",
        "        else:    \n",
        "            \n",
        "            for j in array:\n",
        "            \n",
        "                scale = (j - array[i].mean())/ (array[i].max() - array.min())\n",
        "\n",
        "                single_scaled = np.hstack([single_scaled , scale])\n",
        "                scaled = single_scaled\n",
        "    \n",
        "    else:\n",
        "\n",
        "        for j in array[i]:\n",
        "\n",
        "            if not (array[i].dtype == int or array[i].dtype == float) :\n",
        "\n",
        "                print(i , \"th index was a categorical column, Please pass only numerical columns. \")\n",
        "                scaled = np.zeros(len(array[i]))\n",
        "\n",
        "            else:\n",
        "\n",
        "                scale = (j - array[i].mean())/ (array[i].max() - array[i].min())\n",
        "\n",
        "                single_scaled = np.hstack([single_scaled , scale])\n",
        "\n",
        "        scaled = np.vstack(scaled . single_scaled)"
      ],
      "metadata": {
        "id": "mazzJy6n11gD"
      },
      "execution_count": null,
      "outputs": []
    },
    {
      "cell_type": "markdown",
      "source": [
        "Now as our scaler is created covering some of the edge cases, we can put it in a function, for more convinenient usage "
      ],
      "metadata": {
        "id": "5qM82H0C2mut"
      }
    },
    {
      "cell_type": "code",
      "source": [
        "def min_max_scaler(array):\n",
        "    \n",
        "    scaled = np.array([])\n",
        "\n",
        "    for i in range(len(array.shape)) : \n",
        "    \n",
        "        single_scaled = np.array([])\n",
        "        \n",
        "        if len(array.shape) == 1:\n",
        "                \n",
        "            if not (array.dtype == int or array.dtype == float) :\n",
        "\n",
        "                print(i , \"th index was a categorical column, Please pass only numerical columns. \")\n",
        "                \n",
        "            else:    \n",
        "                \n",
        "                for j in array:\n",
        "                \n",
        "                    scale = (j - array[i].mean())/ (array[i].max() - array.min())\n",
        "\n",
        "                    single_scaled = np.hstack([single_scaled , scale])\n",
        "                    scaled = single_scaled\n",
        "        \n",
        "        else:\n",
        "    \n",
        "            for j in array[i]:\n",
        "\n",
        "                if not (array[i].dtype == int or array[i].dtype == float) :\n",
        "\n",
        "                    print(i , \"th index was a categorical column, Please pass only numerical columns. \")\n",
        "                    scaled = np.zeros(len(array[i]))\n",
        "\n",
        "                else:\n",
        "\n",
        "                    scale = (j - array[i].mean())/ (array[i].max() - array[i].min())\n",
        "\n",
        "                    single_scaled = np.hstack([single_scaled , scale])\n",
        "\n",
        "            scaled = np.vstack(scaled . single_scaled)\n",
        "\n",
        "    return scaled"
      ],
      "metadata": {
        "id": "3Wjgp08Z2miA"
      },
      "execution_count": 115,
      "outputs": []
    },
    {
      "cell_type": "markdown",
      "source": [
        "Now lets try it on our sample data and see the outputs"
      ],
      "metadata": {
        "id": "AHSTQMa6EaGh"
      }
    },
    {
      "cell_type": "code",
      "source": [
        "print(\"The mean of the scaled array is : \" , min_max_scaler(sample_data).mean())\n",
        "print(\"The standard deviation of the scaled array is : \" , min_max_scaler(sample_data).std())"
      ],
      "metadata": {
        "id": "qshEPScEQyX6",
        "colab": {
          "base_uri": "https://localhost:8080/"
        },
        "outputId": "84258b27-dda9-4b2f-f511-029e56e3e610"
      },
      "execution_count": 116,
      "outputs": [
        {
          "output_type": "stream",
          "name": "stdout",
          "text": [
            "The mean of the scaled array is :  -0.7060109632786876\n",
            "The standard deviation of the scaled array is :  0.2608695572798232\n"
          ]
        }
      ]
    },
    {
      "cell_type": "markdown",
      "source": [
        "The results are not as good as expected but we are enough for us, lets compare the plot of the previous one and before the scaling arrays "
      ],
      "metadata": {
        "id": "VXzcWjnuFqah"
      }
    },
    {
      "cell_type": "code",
      "source": [
        "sns.kdeplot(sample_data)"
      ],
      "metadata": {
        "id": "JnCLZ6oy3D78",
        "colab": {
          "base_uri": "https://localhost:8080/",
          "height": 282
        },
        "outputId": "2a12d6d4-1675-47d2-82af-1bf12a17f808"
      },
      "execution_count": 117,
      "outputs": [
        {
          "output_type": "execute_result",
          "data": {
            "text/plain": [
              "<AxesSubplot:ylabel='Density'>"
            ]
          },
          "metadata": {},
          "execution_count": 117
        },
        {
          "output_type": "display_data",
          "data": {
            "text/plain": [
              "<Figure size 432x288 with 1 Axes>"
            ],
            "image/png": "[encoded data removed]"
          },
          "metadata": {
            "needs_background": "light"
          }
        }
      ]
    },
    {
      "cell_type": "code",
      "source": [
        "sns.kdeplot(min_max_scaler(sample_data))"
      ],
      "metadata": {
        "id": "Hf-l6bhQ3D6V",
        "colab": {
          "base_uri": "https://localhost:8080/",
          "height": 282
        },
        "outputId": "176761be-ec9c-4494-b6b8-c771bac48da9"
      },
      "execution_count": 99,
      "outputs": [
        {
          "output_type": "execute_result",
          "data": {
            "text/plain": [
              "<AxesSubplot:ylabel='Density'>"
            ]
          },
          "metadata": {},
          "execution_count": 99
        },
        {
          "output_type": "display_data",
          "data": {
            "text/plain": [
              "<Figure size 432x288 with 1 Axes>"
            ],
            "image/png": "[encoded data removed]"
          },
          "metadata": {
            "needs_background": "light"
          }
        }
      ]
    },
    {
      "cell_type": "markdown",
      "source": [
        "Notice how the structured is preserved but the dimensions have been changed, thsi is one of the advantages of `min max scaler`, though it is not effective at changing the mean and standard deviation , but it is good at perseving the actual content of the data "
      ],
      "metadata": {
        "id": "hdCDUs6JF3AD"
      }
    },
    {
      "cell_type": "markdown",
      "source": [
        "****\n",
        "Now lets try to implemet **Z Score Nomralization / Standard Score Normalization**\n",
        "****"
      ],
      "metadata": {
        "id": "9Peb6VMWGhqf"
      }
    },
    {
      "cell_type": "markdown",
      "source": [
        "### Z Score Normaliation / Standard Score Normalization \n",
        "\n",
        "In machine learning, a z-score scaler is a normalization technique used to standardize characteristics of a data set. The z-score scaler scales each feature to have a mean of 0 and a standard deviation of 1. This is accomplished by subtracting the feature mean from each data point and dividing by the feature standard deviation.\n",
        "\n",
        "where mean is the mean of the features and standard deviation is the standard deviation of the features. The resulting Z-score represents the number of standard deviations from the mean of the data points. A positive z-score indicates that the data point is above the average, and a negative z-score indicates that the data point is below the average.\n",
        "\n",
        "Using a z-score scaler is useful when working with features at different scales or units. Feature standardization allows the model to give equal weight to each feature, preventing features with larger values ​​from dominating the model's predictions. Z-score scalers are commonly used in many machine learning algorithms. B. k Nearest Neighbors, Logistic Regression, and Support Vector Machines. \n",
        "****\n",
        "$$x_{scaled} = \\frac {x_{i} - x_{mean}}{\\sigma}$$\n",
        "$$\\sigma = \\frac {\\sum (x_{i} - x_{mean})}{Number_-of_-values}$$\n",
        "****"
      ],
      "metadata": {
        "id": "4eJ926aJG3Hn"
      }
    },
    {
      "cell_type": "markdown",
      "source": [
        "We will first try to scale one value from the dataset and then fit the whole data like that. So lets take our first value as $228.69$"
      ],
      "metadata": {
        "id": "YFAbVtJcHALu"
      }
    },
    {
      "cell_type": "code",
      "source": [
        "print(\"The minimu value of the array is : \" , sample_data.min())\n",
        "print(\"The mean value of the array is : \", sample_data.mean())\n",
        "print(\"The standard deviation of the array is : \" , sample_data.std())"
      ],
      "metadata": {
        "id": "eKbKe7xI3D32",
        "colab": {
          "base_uri": "https://localhost:8080/"
        },
        "outputId": "0f7e60a8-56aa-489b-af3f-1fb1a951d0be"
      },
      "execution_count": 118,
      "outputs": [
        {
          "output_type": "stream",
          "name": "stdout",
          "text": [
            "The minimu value of the array is :  55.12\n",
            "The mean value of the array is :  106.1476771037182\n",
            "The standard deviation of the array is :  45.27912905705891\n"
          ]
        }
      ]
    },
    {
      "cell_type": "code",
      "source": [
        "(228 - 106.14)/ (45.27)"
      ],
      "metadata": {
        "id": "SqtwUHl-3Dzv",
        "colab": {
          "base_uri": "https://localhost:8080/"
        },
        "outputId": "f7c06acf-05e8-4d2c-b370-4c9a2e2d20af"
      },
      "execution_count": 119,
      "outputs": [
        {
          "output_type": "execute_result",
          "data": {
            "text/plain": [
              "2.691848906560636"
            ]
          },
          "metadata": {},
          "execution_count": 119
        }
      ]
    },
    {
      "cell_type": "markdown",
      "source": [
        "So now we have applied the technique on one element we will try to implemenet it all over the array"
      ],
      "metadata": {
        "id": "igXpBTf0I4TM"
      }
    },
    {
      "cell_type": "code",
      "source": [
        "scaled = np.array([])\n",
        "\n",
        "for x in sample_data:\n",
        "\n",
        "    scale = (x - sample_data.mean()) / sample_data.std()\n",
        "    scaled = np.hstack([scaled , scale])"
      ],
      "metadata": {
        "id": "WobGflaeI3Kc"
      },
      "execution_count": 120,
      "outputs": []
    },
    {
      "cell_type": "markdown",
      "source": [
        "Now lets try to implemets it on a multi dimensional array"
      ],
      "metadata": {
        "id": "6325IKAGKXUF"
      }
    },
    {
      "cell_type": "code",
      "source": [
        "scaled = np.array([])\n",
        "\n",
        "for i in range(len(array.shape)) : \n",
        "\n",
        "    single_scaled = np.array([])\n",
        "    \n",
        "    if len(array.shape) == 1:\n",
        "            \n",
        "        for j in array:\n",
        "            \n",
        "            scale = (j - array.mean())/ array.std\n",
        "\n",
        "            single_scaled = np.hstack([single_scaled , scale])\n",
        "        \n",
        "        scaled = single_scaled\n",
        "    \n",
        "    else:\n",
        "\n",
        "        for j in array[i]:\n",
        "\n",
        "            scale = (j - array[i].mean())/ (array[i].max() - array[i].min())\n",
        "\n",
        "            single_scaled = np.hstack([single_scaled , scale])\n",
        "\n",
        "        scaled = np.vstack(scaled . single_scaled)"
      ],
      "metadata": {
        "id": "Wzj55SmeNXQQ"
      },
      "execution_count": null,
      "outputs": []
    },
    {
      "cell_type": "markdown",
      "source": [
        "We have a our scaler created but there are some edge cases that we should handle before deplying it. Such as \n",
        "* What if user enters a categorical column\n",
        "\n",
        "For rectfying the first one as \n",
        "**What if user enters a categorical column**\n",
        "\n",
        "For this we will just add a if condition in betweeen "
      ],
      "metadata": {
        "id": "bhXpZHOUKrVl"
      }
    },
    {
      "cell_type": "code",
      "source": [
        "def standard_scaler(array):\n",
        "    \n",
        "    scaled = np.array([])\n",
        "\n",
        "    for i in range(len(array.shape)) : \n",
        "    \n",
        "        single_scaled = np.array([])\n",
        "        \n",
        "        if len(array.shape) == 1:\n",
        "                \n",
        "            if not (array.dtype == int or array.dtype == float) :\n",
        "\n",
        "                print(i , \"th index was a categorical column, Please pass only numerical columns. \")\n",
        "                \n",
        "            else:    \n",
        "                \n",
        "                for j in array:\n",
        "                \n",
        "                    scale = (j - array.mean())/ array.std()\n",
        "\n",
        "                    single_scaled = np.hstack([single_scaled , scale])\n",
        "                    \n",
        "                scaled = single_scaled\n",
        "        \n",
        "        else:\n",
        "    \n",
        "            for j in array[i]:\n",
        "\n",
        "                if not (array[i].dtype == int or array[i].dtype == float) :\n",
        "\n",
        "                    print(i , \"th index was a categorical column, Please pass only numerical columns. \")\n",
        "                    scaled = np.zeros(len(array[i]))\n",
        "\n",
        "                else:\n",
        "\n",
        "                    scale = (j - array[i].mean())/ array[i].std()\n",
        "\n",
        "                    single_scaled = np.hstack([single_scaled , scale])\n",
        "\n",
        "            scaled = np.vstack(scaled . single_scaled)\n",
        "\n",
        "    return scaled"
      ],
      "metadata": {
        "id": "q4NvVy6b3Dtk"
      },
      "execution_count": 122,
      "outputs": []
    },
    {
      "cell_type": "markdown",
      "source": [
        "Now lets try it on our sample data and see the outputs"
      ],
      "metadata": {
        "id": "VjjOLe4sLD6T"
      }
    },
    {
      "cell_type": "code",
      "source": [
        "print(\"The mean of the scaled array is : \" , standard_scaler(sample_data).mean())\n",
        "print(\"The standard deviation of the scaled array is : \" , standard_scaler(sample_data).std())"
      ],
      "metadata": {
        "id": "8_QnLyxH3Drr",
        "colab": {
          "base_uri": "https://localhost:8080/"
        },
        "outputId": "cf222f0b-a29e-4108-96d2-3cbddbdb3215"
      },
      "execution_count": 123,
      "outputs": [
        {
          "output_type": "stream",
          "name": "stdout",
          "text": [
            "The mean of the scaled array is :  1.0011561051805717e-16\n",
            "The standard deviation of the scaled array is :  1.0\n"
          ]
        }
      ]
    },
    {
      "cell_type": "markdown",
      "source": [
        "As we can see the rsults are great compared to the min max scaler, lets try plotting some graphs"
      ],
      "metadata": {
        "id": "HXP0NHhhNikZ"
      }
    },
    {
      "cell_type": "code",
      "source": [
        "sns.kdeplot(sample_data)"
      ],
      "metadata": {
        "id": "KQB8U4ec3Dn2",
        "colab": {
          "base_uri": "https://localhost:8080/",
          "height": 282
        },
        "outputId": "19e5cabf-e8fe-4f4d-c6b3-2f26904ec4aa"
      },
      "execution_count": 124,
      "outputs": [
        {
          "output_type": "execute_result",
          "data": {
            "text/plain": [
              "<AxesSubplot:ylabel='Density'>"
            ]
          },
          "metadata": {},
          "execution_count": 124
        },
        {
          "output_type": "display_data",
          "data": {
            "text/plain": [
              "<Figure size 432x288 with 1 Axes>"
            ],
            "image/png": "[encoded data removed]"
          },
          "metadata": {
            "needs_background": "light"
          }
        }
      ]
    },
    {
      "cell_type": "code",
      "source": [
        "sns.kdeplot(standard_scaler(sample_data))"
      ],
      "metadata": {
        "id": "7386JaE73DlO",
        "colab": {
          "base_uri": "https://localhost:8080/",
          "height": 282
        },
        "outputId": "432e975d-4790-419a-c7bb-3bec881b480f"
      },
      "execution_count": 125,
      "outputs": [
        {
          "output_type": "execute_result",
          "data": {
            "text/plain": [
              "<AxesSubplot:ylabel='Density'>"
            ]
          },
          "metadata": {},
          "execution_count": 125
        },
        {
          "output_type": "display_data",
          "data": {
            "text/plain": [
              "<Figure size 432x288 with 1 Axes>"
            ],
            "image/png": "[encoded data removed]"
          },
          "metadata": {
            "needs_background": "light"
          }
        }
      ]
    },
    {
      "cell_type": "markdown",
      "source": [
        "Standard Scaler was able to make the perfect adjustments as well as the preseve the semantic meaning of the array"
      ],
      "metadata": {
        "id": "zROo2-taN04p"
      }
    },
    {
      "cell_type": "markdown",
      "source": [
        "****\n",
        "**THATS IT FOR TODAY GUYS**\n",
        "\n",
        "**DONT FORGET TO DO A YAYYYYYYY IF YOU LIKED/ UNDERSTODD THE THING**\n",
        "\n",
        "**PEACE OUT !!!**"
      ],
      "metadata": {
        "id": "LiFWPp3hO-Zj"
      }
    }
  ]
}