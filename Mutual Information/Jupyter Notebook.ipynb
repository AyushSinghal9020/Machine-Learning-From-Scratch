{
  "nbformat": 4,
  "nbformat_minor": 0,
  "metadata": {
    "colab": {
      "provenance": []
    },
    "kernelspec": {
      "name": "python3",
      "display_name": "Python 3"
    },
    "language_info": {
      "name": "python"
    }
  },
  "cells": [
    {
      "cell_type": "markdown",
      "source": [
        "# Mutual Info \n",
        "\n",
        "Mutual information (MI) is a statistical measure commonly used in machine learning and information theory to quantify the degree of dependency or correlation between two random variables. Specifically, MI measures the amount of information that one variable provides about the other variable.\n",
        "\n",
        "In the context of machine learning, MI can be used for feature selection, where it helps to identify which features are most informative for a given task. For example, in a classification problem, features with high MI values are likely to be more useful for distinguishing between different classes.\n",
        "\n",
        "MI values range from 0 to a maximum value that depends on the range and distribution of the variables. A higher MI value indicates a stronger dependency between the variables.\n",
        "\n",
        "MI is a useful tool in machine learning because it is model-agnostic, meaning it can be used with any type of model or data. However, it may not capture all types of dependencies between variables, such as nonlinear relationships or interactions between multiple variables.\n",
        "\n",
        "$$I(X;Y) = \\sum\\limits_{y = 1}^{n}\\sum\\limits _{x = 1}^{n} ._{P(X , Y)}(x , y)log(\\frac {_{P_{(X, Y)}}(x , y)}{_{P_X}(x) _{P_Y}(y)})$$$$= \\sum\\limits_{y = 1}^{n}\\sum\\limits _{x = 1}^{n} ._{P_{X|Y-_{y}}}(x)_{P_{Y}}log\\frac {_{P_{X|Y-_{y}}}(x)_{P_{Y}}(y)}{_{P_{X}}(x)_{P_{Y}}(y)}$$$$= \\sum\\limits_{y = 1}^{n}._{P_{Y}}(y)\\sum\\limits_{x = 1}^{n}._{P_{X|Y-_{y}}}log\\frac{_{P_{X|Y-_{y}}}(x)}{_{P_{X}}(x)}$$$$= \\sum\\limits_{y = 1}^{n}._{P_{Y}}(y)D_{KL}(_{P_{X|Y=_{y}}||P_{X}})$$$$= E_Y[D_{KL}(_{P_{X|Y=_{y}}||P_{X}})]$$$$= \\sum\\limits_{x = 1}^{n}\\sum\\limits_{y = 1}^{n}._{P}(x , y)log\\Bigg[\\frac{_{P}(x , y)}{_P(x)_P{y}}\\Bigg]$$\n",
        "\n",
        "**Note** \n",
        "* This notebook is higly inspired from the [Youtube Video](https://www.youtube.com/watch?v=eJIp_mgVLwE), kudos to the person for being a great teacher\n",
        "* Pandas was only used to view the dataframe in a convinient way"
      ],
      "metadata": {
        "id": "oxsXzY8cTbET"
      }
    },
    {
      "cell_type": "code",
      "execution_count": null,
      "metadata": {
        "id": "e19OSbEuS9cw"
      },
      "outputs": [],
      "source": [
        "import numpy as np \n",
        "import pandas as pd"
      ]
    },
    {
      "cell_type": "markdown",
      "source": [
        "Lets assume we have a data like this "
      ],
      "metadata": {
        "id": "3Nsit15eFBoq"
      }
    },
    {
      "cell_type": "code",
      "source": [
        "data = np.array([[\"Yes\" , 1.77 , \"...\" , \"Yes\"] , \n",
        "                [\"Yes\" , 1.32 , \"...\" , \"Yes\"] , \n",
        "                [\"Yes\" , 1.81 , \"...\" , \"Yes\"] , \n",
        "                [\"No\" , 1.56 , \"...\" , \"No\"] , \n",
        "                [\"No\" , 1.64 , \"...\" , \"Yes\"]] )"
      ],
      "metadata": {
        "id": "EwMKj1xHY5W6"
      },
      "execution_count": null,
      "outputs": []
    },
    {
      "cell_type": "markdown",
      "source": [
        "We will view this in a dataset format, for better viewing experience"
      ],
      "metadata": {
        "id": "rRGtCpI4FFJ5"
      }
    },
    {
      "cell_type": "code",
      "source": [
        "data = pd.DataFrame(data , columns = [\"Loves Popcorn\" , \"Height\" , \"ETC\" , \"Loves Troll 2\"])"
      ],
      "metadata": {
        "id": "jUpFiPXxZMuG"
      },
      "execution_count": null,
      "outputs": []
    },
    {
      "cell_type": "code",
      "source": [
        "data"
      ],
      "metadata": {
        "colab": {
          "base_uri": "https://localhost:8080/",
          "height": 206
        },
        "id": "LDyiWmA-ZPAB",
        "outputId": "66d6febb-dc20-4842-bc14-49fc53683317"
      },
      "execution_count": null,
      "outputs": [
        {
          "output_type": "execute_result",
          "data": {
            "text/plain": [
              "  Loves Popcorn Height  ETC Loves Troll 2\n",
              "0           Yes   1.77  ...           Yes\n",
              "1           Yes   1.32  ...           Yes\n",
              "2           Yes   1.81  ...           Yes\n",
              "3            No   1.56  ...            No\n",
              "4            No   1.64  ...           Yes"
            ],
            "text/html": [
              "\n",
              "  <div id=\"df-90c90bb4-69e0-404b-b49e-72e9eeb22722\">\n",
              "    <div class=\"colab-df-container\">\n",
              "      <div>\n",
              "<style scoped>\n",
              "    .dataframe tbody tr th:only-of-type {\n",
              "        vertical-align: middle;\n",
              "    }\n",
              "\n",
              "    .dataframe tbody tr th {\n",
              "        vertical-align: top;\n",
              "    }\n",
              "\n",
              "    .dataframe thead th {\n",
              "        text-align: right;\n",
              "    }\n",
              "</style>\n",
              "<table border=\"1\" class=\"dataframe\">\n",
              "  <thead>\n",
              "    <tr style=\"text-align: right;\">\n",
              "      <th></th>\n",
              "      <th>Loves Popcorn</th>\n",
              "      <th>Height</th>\n",
              "      <th>ETC</th>\n",
              "      <th>Loves Troll 2</th>\n",
              "    </tr>\n",
              "  </thead>\n",
              "  <tbody>\n",
              "    <tr>\n",
              "      <th>0</th>\n",
              "      <td>Yes</td>\n",
              "      <td>1.77</td>\n",
              "      <td>...</td>\n",
              "      <td>Yes</td>\n",
              "    </tr>\n",
              "    <tr>\n",
              "      <th>1</th>\n",
              "      <td>Yes</td>\n",
              "      <td>1.32</td>\n",
              "      <td>...</td>\n",
              "      <td>Yes</td>\n",
              "    </tr>\n",
              "    <tr>\n",
              "      <th>2</th>\n",
              "      <td>Yes</td>\n",
              "      <td>1.81</td>\n",
              "      <td>...</td>\n",
              "      <td>Yes</td>\n",
              "    </tr>\n",
              "    <tr>\n",
              "      <th>3</th>\n",
              "      <td>No</td>\n",
              "      <td>1.56</td>\n",
              "      <td>...</td>\n",
              "      <td>No</td>\n",
              "    </tr>\n",
              "    <tr>\n",
              "      <th>4</th>\n",
              "      <td>No</td>\n",
              "      <td>1.64</td>\n",
              "      <td>...</td>\n",
              "      <td>Yes</td>\n",
              "    </tr>\n",
              "  </tbody>\n",
              "</table>\n",
              "</div>\n",
              "      <button class=\"colab-df-convert\" onclick=\"convertToInteractive('df-90c90bb4-69e0-404b-b49e-72e9eeb22722')\"\n",
              "              title=\"Convert this dataframe to an interactive table.\"\n",
              "              style=\"display:none;\">\n",
              "        \n",
              "  <svg xmlns=\"http://www.w3.org/2000/svg\" height=\"24px\"viewBox=\"0 0 24 24\"\n",
              "       width=\"24px\">\n",
              "    <path d=\"M0 0h24v24H0V0z\" fill=\"none\"/>\n",
              "    <path d=\"M18.56 5.44l.94 2.06.94-2.06 2.06-.94-2.06-.94-.94-2.06-.94 2.06-2.06.94zm-11 1L8.5 8.5l.94-2.06 2.06-.94-2.06-.94L8.5 2.5l-.94 2.06-2.06.94zm10 10l.94 2.06.94-2.06 2.06-.94-2.06-.94-.94-2.06-.94 2.06-2.06.94z\"/><path d=\"M17.41 7.96l-1.37-1.37c-.4-.4-.92-.59-1.43-.59-.52 0-1.04.2-1.43.59L10.3 9.45l-7.72 7.72c-.78.78-.78 2.05 0 2.83L4 21.41c.39.39.9.59 1.41.59.51 0 1.02-.2 1.41-.59l7.78-7.78 2.81-2.81c.8-.78.8-2.07 0-2.86zM5.41 20L4 18.59l7.72-7.72 1.47 1.35L5.41 20z\"/>\n",
              "  </svg>\n",
              "      </button>\n",
              "      \n",
              "  <style>\n",
              "    .colab-df-container {\n",
              "      display:flex;\n",
              "      flex-wrap:wrap;\n",
              "      gap: 12px;\n",
              "    }\n",
              "\n",
              "    .colab-df-convert {\n",
              "      background-color: #E8F0FE;\n",
              "      border: none;\n",
              "      border-radius: 50%;\n",
              "      cursor: pointer;\n",
              "      display: none;\n",
              "      fill: #1967D2;\n",
              "      height: 32px;\n",
              "      padding: 0 0 0 0;\n",
              "      width: 32px;\n",
              "    }\n",
              "\n",
              "    .colab-df-convert:hover {\n",
              "      background-color: #E2EBFA;\n",
              "      box-shadow: 0px 1px 2px rgba(60, 64, 67, 0.3), 0px 1px 3px 1px rgba(60, 64, 67, 0.15);\n",
              "      fill: #174EA6;\n",
              "    }\n",
              "\n",
              "    [theme=dark] .colab-df-convert {\n",
              "      background-color: #3B4455;\n",
              "      fill: #D2E3FC;\n",
              "    }\n",
              "\n",
              "    [theme=dark] .colab-df-convert:hover {\n",
              "      background-color: #434B5C;\n",
              "      box-shadow: 0px 1px 3px 1px rgba(0, 0, 0, 0.15);\n",
              "      filter: drop-shadow(0px 1px 2px rgba(0, 0, 0, 0.3));\n",
              "      fill: #FFFFFF;\n",
              "    }\n",
              "  </style>\n",
              "\n",
              "      <script>\n",
              "        const buttonEl =\n",
              "          document.querySelector('#df-90c90bb4-69e0-404b-b49e-72e9eeb22722 button.colab-df-convert');\n",
              "        buttonEl.style.display =\n",
              "          google.colab.kernel.accessAllowed ? 'block' : 'none';\n",
              "\n",
              "        async function convertToInteractive(key) {\n",
              "          const element = document.querySelector('#df-90c90bb4-69e0-404b-b49e-72e9eeb22722');\n",
              "          const dataTable =\n",
              "            await google.colab.kernel.invokeFunction('convertToInteractive',\n",
              "                                                     [key], {});\n",
              "          if (!dataTable) return;\n",
              "\n",
              "          const docLinkHtml = 'Like what you see? Visit the ' +\n",
              "            '<a target=\"_blank\" href=https://colab.research.google.com/notebooks/data_table.ipynb>data table notebook</a>'\n",
              "            + ' to learn more about interactive tables.';\n",
              "          element.innerHTML = '';\n",
              "          dataTable['output_type'] = 'display_data';\n",
              "          await google.colab.output.renderOutput(dataTable, element);\n",
              "          const docLink = document.createElement('div');\n",
              "          docLink.innerHTML = docLinkHtml;\n",
              "          element.appendChild(docLink);\n",
              "        }\n",
              "      </script>\n",
              "    </div>\n",
              "  </div>\n",
              "  "
            ]
          },
          "metadata": {},
          "execution_count": 4
        }
      ]
    },
    {
      "cell_type": "markdown",
      "source": [
        "Lets first change these binary values to something numerical, This is more convinient to see. This method is also called as `One Hot Encoding`, if you want to know more about this, here is the link to a [notebook](https://github.com/AyushSinghal9020/Machine-Learning-From-Scratch/tree/main/Encoding%20Techniques/One%20Hot%20Encoder), where the technique is implemmented from scratch and explained step by step"
      ],
      "metadata": {
        "id": "p8KsEdOFFMKR"
      }
    },
    {
      "cell_type": "code",
      "source": [
        "data[\"Loves Troll 2\"] = np.where(data[\"Loves Troll 2\"] == \"Yes\" , 1 , 0)\n",
        "data[\"Loves Popcorn\"] = np.where(data[\"Loves Popcorn\"] == \"No\" , 0 , 1)"
      ],
      "metadata": {
        "id": "TqgZy-yWbzw2"
      },
      "execution_count": null,
      "outputs": []
    },
    {
      "cell_type": "code",
      "source": [
        "data"
      ],
      "metadata": {
        "colab": {
          "base_uri": "https://localhost:8080/",
          "height": 206
        },
        "id": "5i5IeleCc0_F",
        "outputId": "63c54963-98bd-426e-d995-971e90e4a079"
      },
      "execution_count": null,
      "outputs": [
        {
          "output_type": "execute_result",
          "data": {
            "text/plain": [
              "   Loves Popcorn Height  ETC  Loves Troll 2\n",
              "0              1   1.77  ...              1\n",
              "1              1   1.32  ...              1\n",
              "2              1   1.81  ...              1\n",
              "3              0   1.56  ...              0\n",
              "4              0   1.64  ...              1"
            ],
            "text/html": [
              "\n",
              "  <div id=\"df-6cde0ed9-1feb-4188-ac10-06a96e0d4007\">\n",
              "    <div class=\"colab-df-container\">\n",
              "      <div>\n",
              "<style scoped>\n",
              "    .dataframe tbody tr th:only-of-type {\n",
              "        vertical-align: middle;\n",
              "    }\n",
              "\n",
              "    .dataframe tbody tr th {\n",
              "        vertical-align: top;\n",
              "    }\n",
              "\n",
              "    .dataframe thead th {\n",
              "        text-align: right;\n",
              "    }\n",
              "</style>\n",
              "<table border=\"1\" class=\"dataframe\">\n",
              "  <thead>\n",
              "    <tr style=\"text-align: right;\">\n",
              "      <th></th>\n",
              "      <th>Loves Popcorn</th>\n",
              "      <th>Height</th>\n",
              "      <th>ETC</th>\n",
              "      <th>Loves Troll 2</th>\n",
              "    </tr>\n",
              "  </thead>\n",
              "  <tbody>\n",
              "    <tr>\n",
              "      <th>0</th>\n",
              "      <td>1</td>\n",
              "      <td>1.77</td>\n",
              "      <td>...</td>\n",
              "      <td>1</td>\n",
              "    </tr>\n",
              "    <tr>\n",
              "      <th>1</th>\n",
              "      <td>1</td>\n",
              "      <td>1.32</td>\n",
              "      <td>...</td>\n",
              "      <td>1</td>\n",
              "    </tr>\n",
              "    <tr>\n",
              "      <th>2</th>\n",
              "      <td>1</td>\n",
              "      <td>1.81</td>\n",
              "      <td>...</td>\n",
              "      <td>1</td>\n",
              "    </tr>\n",
              "    <tr>\n",
              "      <th>3</th>\n",
              "      <td>0</td>\n",
              "      <td>1.56</td>\n",
              "      <td>...</td>\n",
              "      <td>0</td>\n",
              "    </tr>\n",
              "    <tr>\n",
              "      <th>4</th>\n",
              "      <td>0</td>\n",
              "      <td>1.64</td>\n",
              "      <td>...</td>\n",
              "      <td>1</td>\n",
              "    </tr>\n",
              "  </tbody>\n",
              "</table>\n",
              "</div>\n",
              "      <button class=\"colab-df-convert\" onclick=\"convertToInteractive('df-6cde0ed9-1feb-4188-ac10-06a96e0d4007')\"\n",
              "              title=\"Convert this dataframe to an interactive table.\"\n",
              "              style=\"display:none;\">\n",
              "        \n",
              "  <svg xmlns=\"http://www.w3.org/2000/svg\" height=\"24px\"viewBox=\"0 0 24 24\"\n",
              "       width=\"24px\">\n",
              "    <path d=\"M0 0h24v24H0V0z\" fill=\"none\"/>\n",
              "    <path d=\"M18.56 5.44l.94 2.06.94-2.06 2.06-.94-2.06-.94-.94-2.06-.94 2.06-2.06.94zm-11 1L8.5 8.5l.94-2.06 2.06-.94-2.06-.94L8.5 2.5l-.94 2.06-2.06.94zm10 10l.94 2.06.94-2.06 2.06-.94-2.06-.94-.94-2.06-.94 2.06-2.06.94z\"/><path d=\"M17.41 7.96l-1.37-1.37c-.4-.4-.92-.59-1.43-.59-.52 0-1.04.2-1.43.59L10.3 9.45l-7.72 7.72c-.78.78-.78 2.05 0 2.83L4 21.41c.39.39.9.59 1.41.59.51 0 1.02-.2 1.41-.59l7.78-7.78 2.81-2.81c.8-.78.8-2.07 0-2.86zM5.41 20L4 18.59l7.72-7.72 1.47 1.35L5.41 20z\"/>\n",
              "  </svg>\n",
              "      </button>\n",
              "      \n",
              "  <style>\n",
              "    .colab-df-container {\n",
              "      display:flex;\n",
              "      flex-wrap:wrap;\n",
              "      gap: 12px;\n",
              "    }\n",
              "\n",
              "    .colab-df-convert {\n",
              "      background-color: #E8F0FE;\n",
              "      border: none;\n",
              "      border-radius: 50%;\n",
              "      cursor: pointer;\n",
              "      display: none;\n",
              "      fill: #1967D2;\n",
              "      height: 32px;\n",
              "      padding: 0 0 0 0;\n",
              "      width: 32px;\n",
              "    }\n",
              "\n",
              "    .colab-df-convert:hover {\n",
              "      background-color: #E2EBFA;\n",
              "      box-shadow: 0px 1px 2px rgba(60, 64, 67, 0.3), 0px 1px 3px 1px rgba(60, 64, 67, 0.15);\n",
              "      fill: #174EA6;\n",
              "    }\n",
              "\n",
              "    [theme=dark] .colab-df-convert {\n",
              "      background-color: #3B4455;\n",
              "      fill: #D2E3FC;\n",
              "    }\n",
              "\n",
              "    [theme=dark] .colab-df-convert:hover {\n",
              "      background-color: #434B5C;\n",
              "      box-shadow: 0px 1px 3px 1px rgba(0, 0, 0, 0.15);\n",
              "      filter: drop-shadow(0px 1px 2px rgba(0, 0, 0, 0.3));\n",
              "      fill: #FFFFFF;\n",
              "    }\n",
              "  </style>\n",
              "\n",
              "      <script>\n",
              "        const buttonEl =\n",
              "          document.querySelector('#df-6cde0ed9-1feb-4188-ac10-06a96e0d4007 button.colab-df-convert');\n",
              "        buttonEl.style.display =\n",
              "          google.colab.kernel.accessAllowed ? 'block' : 'none';\n",
              "\n",
              "        async function convertToInteractive(key) {\n",
              "          const element = document.querySelector('#df-6cde0ed9-1feb-4188-ac10-06a96e0d4007');\n",
              "          const dataTable =\n",
              "            await google.colab.kernel.invokeFunction('convertToInteractive',\n",
              "                                                     [key], {});\n",
              "          if (!dataTable) return;\n",
              "\n",
              "          const docLinkHtml = 'Like what you see? Visit the ' +\n",
              "            '<a target=\"_blank\" href=https://colab.research.google.com/notebooks/data_table.ipynb>data table notebook</a>'\n",
              "            + ' to learn more about interactive tables.';\n",
              "          element.innerHTML = '';\n",
              "          dataTable['output_type'] = 'display_data';\n",
              "          await google.colab.output.renderOutput(dataTable, element);\n",
              "          const docLink = document.createElement('div');\n",
              "          docLink.innerHTML = docLinkHtml;\n",
              "          element.appendChild(docLink);\n",
              "        }\n",
              "      </script>\n",
              "    </div>\n",
              "  </div>\n",
              "  "
            ]
          },
          "metadata": {},
          "execution_count": 6
        }
      ]
    },
    {
      "cell_type": "markdown",
      "source": [
        "Now we need to make the margianl and joint probability matrix for each column in the dataset. \n",
        "\n",
        "Wait !!! , What is this `marginal and joint Probablity matrix`???\n",
        "\n",
        "<img src = \"https://encrypted-tbn0.gstatic.com/images?q=tbn:ANd9GcRRwfeIoJuGqrJNrIl0LZHb1x4BkMpNClcuUj4t8V7k9jG69etokemnNNDz13atx8YnL_o&usqp=CAU\">\n",
        "\n",
        "If you are not able to see this figure clearly here is more clear form\n",
        "\n",
        "||Pass|Fail|Total||\n",
        "|---|---|---|---|---|\n",
        "|Male|46|56|102|$P_{male} = 0.51$\n",
        "|Female|68|30|98|$P_{female} = 0.49$\n",
        "|Total|114|86|200|\n",
        "||$P_{passed} = 0.57$|$P_{failed} = 0.43$\n",
        "\n",
        "The probablities in the middle are `joint probablities` and the probablities at the margin are the `marginal probablities`"
      ],
      "metadata": {
        "id": "1M9iDB2kGC1Y"
      }
    },
    {
      "cell_type": "markdown",
      "source": [
        "But how can we calcualte this ??"
      ],
      "metadata": {
        "id": "Ip1T9-siGvdA"
      }
    },
    {
      "cell_type": "markdown",
      "source": [
        "One way we can reduce our work is to do math `marginal probablities are just the summision of joint probalites` or $$marginal_-probablites = \\sum\\limits joint_-probablities$$ in the photo above, you can imagine this as ($46 + 56 = 102)$ or $(46 + 68 = 114)$"
      ],
      "metadata": {
        "id": "lhUfqubiHGKf"
      }
    },
    {
      "cell_type": "markdown",
      "source": [
        "Lets now get back to our original dataset, we have a look a like data of the photo above, and thus we can do transition in the values real quick "
      ],
      "metadata": {
        "id": "H-JxSWnmJM4V"
      }
    },
    {
      "cell_type": "code",
      "source": [
        "data"
      ],
      "metadata": {
        "colab": {
          "base_uri": "https://localhost:8080/",
          "height": 206
        },
        "id": "TccZ8RfyJMGF",
        "outputId": "4852cbcb-4736-4e31-ce02-a1cf36595116"
      },
      "execution_count": null,
      "outputs": [
        {
          "output_type": "execute_result",
          "data": {
            "text/plain": [
              "   Loves Popcorn Height  ETC  Loves Troll 2\n",
              "0              1   1.77  ...              1\n",
              "1              1   1.32  ...              1\n",
              "2              1   1.81  ...              1\n",
              "3              0   1.56  ...              0\n",
              "4              0   1.64  ...              1"
            ],
            "text/html": [
              "\n",
              "  <div id=\"df-7e1d6ac1-7767-48c0-b6e8-7e16a0ceecd1\">\n",
              "    <div class=\"colab-df-container\">\n",
              "      <div>\n",
              "<style scoped>\n",
              "    .dataframe tbody tr th:only-of-type {\n",
              "        vertical-align: middle;\n",
              "    }\n",
              "\n",
              "    .dataframe tbody tr th {\n",
              "        vertical-align: top;\n",
              "    }\n",
              "\n",
              "    .dataframe thead th {\n",
              "        text-align: right;\n",
              "    }\n",
              "</style>\n",
              "<table border=\"1\" class=\"dataframe\">\n",
              "  <thead>\n",
              "    <tr style=\"text-align: right;\">\n",
              "      <th></th>\n",
              "      <th>Loves Popcorn</th>\n",
              "      <th>Height</th>\n",
              "      <th>ETC</th>\n",
              "      <th>Loves Troll 2</th>\n",
              "    </tr>\n",
              "  </thead>\n",
              "  <tbody>\n",
              "    <tr>\n",
              "      <th>0</th>\n",
              "      <td>1</td>\n",
              "      <td>1.77</td>\n",
              "      <td>...</td>\n",
              "      <td>1</td>\n",
              "    </tr>\n",
              "    <tr>\n",
              "      <th>1</th>\n",
              "      <td>1</td>\n",
              "      <td>1.32</td>\n",
              "      <td>...</td>\n",
              "      <td>1</td>\n",
              "    </tr>\n",
              "    <tr>\n",
              "      <th>2</th>\n",
              "      <td>1</td>\n",
              "      <td>1.81</td>\n",
              "      <td>...</td>\n",
              "      <td>1</td>\n",
              "    </tr>\n",
              "    <tr>\n",
              "      <th>3</th>\n",
              "      <td>0</td>\n",
              "      <td>1.56</td>\n",
              "      <td>...</td>\n",
              "      <td>0</td>\n",
              "    </tr>\n",
              "    <tr>\n",
              "      <th>4</th>\n",
              "      <td>0</td>\n",
              "      <td>1.64</td>\n",
              "      <td>...</td>\n",
              "      <td>1</td>\n",
              "    </tr>\n",
              "  </tbody>\n",
              "</table>\n",
              "</div>\n",
              "      <button class=\"colab-df-convert\" onclick=\"convertToInteractive('df-7e1d6ac1-7767-48c0-b6e8-7e16a0ceecd1')\"\n",
              "              title=\"Convert this dataframe to an interactive table.\"\n",
              "              style=\"display:none;\">\n",
              "        \n",
              "  <svg xmlns=\"http://www.w3.org/2000/svg\" height=\"24px\"viewBox=\"0 0 24 24\"\n",
              "       width=\"24px\">\n",
              "    <path d=\"M0 0h24v24H0V0z\" fill=\"none\"/>\n",
              "    <path d=\"M18.56 5.44l.94 2.06.94-2.06 2.06-.94-2.06-.94-.94-2.06-.94 2.06-2.06.94zm-11 1L8.5 8.5l.94-2.06 2.06-.94-2.06-.94L8.5 2.5l-.94 2.06-2.06.94zm10 10l.94 2.06.94-2.06 2.06-.94-2.06-.94-.94-2.06-.94 2.06-2.06.94z\"/><path d=\"M17.41 7.96l-1.37-1.37c-.4-.4-.92-.59-1.43-.59-.52 0-1.04.2-1.43.59L10.3 9.45l-7.72 7.72c-.78.78-.78 2.05 0 2.83L4 21.41c.39.39.9.59 1.41.59.51 0 1.02-.2 1.41-.59l7.78-7.78 2.81-2.81c.8-.78.8-2.07 0-2.86zM5.41 20L4 18.59l7.72-7.72 1.47 1.35L5.41 20z\"/>\n",
              "  </svg>\n",
              "      </button>\n",
              "      \n",
              "  <style>\n",
              "    .colab-df-container {\n",
              "      display:flex;\n",
              "      flex-wrap:wrap;\n",
              "      gap: 12px;\n",
              "    }\n",
              "\n",
              "    .colab-df-convert {\n",
              "      background-color: #E8F0FE;\n",
              "      border: none;\n",
              "      border-radius: 50%;\n",
              "      cursor: pointer;\n",
              "      display: none;\n",
              "      fill: #1967D2;\n",
              "      height: 32px;\n",
              "      padding: 0 0 0 0;\n",
              "      width: 32px;\n",
              "    }\n",
              "\n",
              "    .colab-df-convert:hover {\n",
              "      background-color: #E2EBFA;\n",
              "      box-shadow: 0px 1px 2px rgba(60, 64, 67, 0.3), 0px 1px 3px 1px rgba(60, 64, 67, 0.15);\n",
              "      fill: #174EA6;\n",
              "    }\n",
              "\n",
              "    [theme=dark] .colab-df-convert {\n",
              "      background-color: #3B4455;\n",
              "      fill: #D2E3FC;\n",
              "    }\n",
              "\n",
              "    [theme=dark] .colab-df-convert:hover {\n",
              "      background-color: #434B5C;\n",
              "      box-shadow: 0px 1px 3px 1px rgba(0, 0, 0, 0.15);\n",
              "      filter: drop-shadow(0px 1px 2px rgba(0, 0, 0, 0.3));\n",
              "      fill: #FFFFFF;\n",
              "    }\n",
              "  </style>\n",
              "\n",
              "      <script>\n",
              "        const buttonEl =\n",
              "          document.querySelector('#df-7e1d6ac1-7767-48c0-b6e8-7e16a0ceecd1 button.colab-df-convert');\n",
              "        buttonEl.style.display =\n",
              "          google.colab.kernel.accessAllowed ? 'block' : 'none';\n",
              "\n",
              "        async function convertToInteractive(key) {\n",
              "          const element = document.querySelector('#df-7e1d6ac1-7767-48c0-b6e8-7e16a0ceecd1');\n",
              "          const dataTable =\n",
              "            await google.colab.kernel.invokeFunction('convertToInteractive',\n",
              "                                                     [key], {});\n",
              "          if (!dataTable) return;\n",
              "\n",
              "          const docLinkHtml = 'Like what you see? Visit the ' +\n",
              "            '<a target=\"_blank\" href=https://colab.research.google.com/notebooks/data_table.ipynb>data table notebook</a>'\n",
              "            + ' to learn more about interactive tables.';\n",
              "          element.innerHTML = '';\n",
              "          dataTable['output_type'] = 'display_data';\n",
              "          await google.colab.output.renderOutput(dataTable, element);\n",
              "          const docLink = document.createElement('div');\n",
              "          docLink.innerHTML = docLinkHtml;\n",
              "          element.appendChild(docLink);\n",
              "        }\n",
              "      </script>\n",
              "    </div>\n",
              "  </div>\n",
              "  "
            ]
          },
          "metadata": {},
          "execution_count": 7
        }
      ]
    },
    {
      "cell_type": "markdown",
      "source": [
        "As we are going to make a $3x3$ matrix, we first need to define it. For instance lets assume this is a zero matrix. "
      ],
      "metadata": {
        "id": "38IL970yJd7t"
      }
    },
    {
      "cell_type": "code",
      "source": [
        "outcome_matrix = np.zeros(shape = (3,3))"
      ],
      "metadata": {
        "id": "wU5V5booJdpl"
      },
      "execution_count": null,
      "outputs": []
    },
    {
      "cell_type": "code",
      "source": [
        "outcome_matrix"
      ],
      "metadata": {
        "colab": {
          "base_uri": "https://localhost:8080/"
        },
        "id": "fmJwC2jRJxf1",
        "outputId": "518b05ac-43b7-4a3e-96f7-ad42aa135bf7"
      },
      "execution_count": null,
      "outputs": [
        {
          "output_type": "execute_result",
          "data": {
            "text/plain": [
              "array([[0., 0., 0.],\n",
              "       [0., 0., 0.],\n",
              "       [0., 0., 0.]])"
            ]
          },
          "metadata": {},
          "execution_count": 78
        }
      ]
    },
    {
      "cell_type": "markdown",
      "source": [
        "Now we will increament the values wherever needed, for this we just need to iterate over the list and check for some condtions"
      ],
      "metadata": {
        "id": "bADj5kRqJ1Zt"
      }
    },
    {
      "cell_type": "code",
      "source": [
        "for i in range(data.shape[0]):pass"
      ],
      "metadata": {
        "id": "98BiFtKDKDrs"
      },
      "execution_count": null,
      "outputs": []
    },
    {
      "cell_type": "markdown",
      "source": [
        "The condtions will be "
      ],
      "metadata": {
        "id": "N2kzUX5RKLG0"
      }
    },
    {
      "cell_type": "code",
      "source": [
        "for i in range(data.shape[0]):\n",
        "    if data[\"Loves Troll 2\"][i] == 1:\n",
        "        if data[\"Loves Popcorn\"][i] == 1:pass\n",
        "        else : pass\n",
        "    else : \n",
        "        if data[\"Loves Popcorn\"][i] == 1:pass\n",
        "        else :pass"
      ],
      "metadata": {
        "id": "F964lE_NKOi8"
      },
      "execution_count": null,
      "outputs": []
    },
    {
      "cell_type": "markdown",
      "source": [
        "Now we just need to do some processing when the particualr condtions are fullfullied, by processing I mean to do changes in the `outcome_values`, but the `outcome_values` is a $3x3$ matrix, how can we define where to make changes, our soultion can be found in the condtions only, the condtions define the location of the values to be incremented "
      ],
      "metadata": {
        "id": "2croQpnlKlA7"
      }
    },
    {
      "cell_type": "code",
      "source": [
        "for i in range(data.shape[0]):\n",
        "    if data[\"Loves Troll 2\"][i] == 1:\n",
        "        if data[\"Loves Popcorn\"][i] == 1: outcome_matrix[0 , 0] += 1\n",
        "        else : outcome_matrix[0 , 1] += 1\n",
        "    else : \n",
        "        if data[\"Loves Popcorn\"][i] == 1:outcome_matrix[1 , 1] += 1\n",
        "        else :outcome_matrix[1 , 0] += 1"
      ],
      "metadata": {
        "id": "YH2TH35HLGUs"
      },
      "execution_count": null,
      "outputs": []
    },
    {
      "cell_type": "code",
      "source": [
        "outcome_matrix"
      ],
      "metadata": {
        "colab": {
          "base_uri": "https://localhost:8080/"
        },
        "id": "aJ-CUKTOLdwy",
        "outputId": "1a77757f-1a12-45d4-c90e-dae6ca1f5ae3"
      },
      "execution_count": null,
      "outputs": [
        {
          "output_type": "execute_result",
          "data": {
            "text/plain": [
              "array([[3., 1., 0.],\n",
              "       [1., 0., 0.],\n",
              "       [0., 0., 0.]])"
            ]
          },
          "metadata": {},
          "execution_count": 82
        }
      ]
    },
    {
      "cell_type": "markdown",
      "source": [
        "For calculating probablities we just need to divide every element of the matrix with the total values."
      ],
      "metadata": {
        "id": "9PCekEZxjZmg"
      }
    },
    {
      "cell_type": "code",
      "source": [
        "probablity_matrix = outcome_matrix / data.shape[0]"
      ],
      "metadata": {
        "id": "u6GfG9oBjlnK"
      },
      "execution_count": null,
      "outputs": []
    },
    {
      "cell_type": "code",
      "source": [
        "probablity_matrix"
      ],
      "metadata": {
        "colab": {
          "base_uri": "https://localhost:8080/"
        },
        "id": "t2JqYagoktXK",
        "outputId": "9bc20a5e-bdca-4e16-a6a1-fe94d6e71977"
      },
      "execution_count": null,
      "outputs": [
        {
          "output_type": "execute_result",
          "data": {
            "text/plain": [
              "array([[0.6, 0.2, 0. ],\n",
              "       [0.2, 0. , 0. ],\n",
              "       [0. , 0. , 0. ]])"
            ]
          },
          "metadata": {},
          "execution_count": 84
        }
      ]
    },
    {
      "cell_type": "markdown",
      "source": [
        "But this is just joint probablity, we have not yet found the marginal probablity, as we have discussed before, marginal prbablity is just the summision of joint probablities, so we just need to run $2$ nested loops for this "
      ],
      "metadata": {
        "id": "5374RQ8stZFj"
      }
    },
    {
      "cell_type": "code",
      "source": [
        "for i in range(2):\n",
        "    for j in range(2):\n",
        "        probablity_matrix[i , 2] += probablity_matrix[i , j]\n",
        "        probablity_matrix[2 , i] += probablity_matrix[j , i]"
      ],
      "metadata": {
        "id": "ScQmmzpIm2vK"
      },
      "execution_count": null,
      "outputs": []
    },
    {
      "cell_type": "code",
      "source": [
        "probablity_matrix"
      ],
      "metadata": {
        "colab": {
          "base_uri": "https://localhost:8080/"
        },
        "id": "iprZ3Nb9rvBD",
        "outputId": "9758ba30-7e30-4502-e3ba-cee43863f6e0"
      },
      "execution_count": null,
      "outputs": [
        {
          "output_type": "execute_result",
          "data": {
            "text/plain": [
              "array([[0.6, 0.2, 0.8],\n",
              "       [0.2, 0. , 0.2],\n",
              "       [0.8, 0.2, 0. ]])"
            ]
          },
          "metadata": {},
          "execution_count": 86
        }
      ]
    },
    {
      "cell_type": "markdown",
      "source": [
        "For calculating the mutual information between two columns we have the formula$$MI = \\sum\\limits_{x = 1}^{n}\\sum\\limits_{y = 1}^{n}._{P}(x , y)log\\Bigg[\\frac{_{P}(x , y)}{_P(x)_P{y}}\\Bigg]$$now we just need to code this "
      ],
      "metadata": {
        "id": "rNnweynxt8R1"
      }
    },
    {
      "cell_type": "markdown",
      "source": [
        "For this we just need to iterate over the loop and increment the mi value everytime "
      ],
      "metadata": {
        "id": "46Xy5l5BuUP9"
      }
    },
    {
      "cell_type": "code",
      "source": [
        "mi = 0 \n",
        "for i in range(2):\n",
        "    for j in range(2):\n",
        "        mi += (probablity_matrix[i , j] * (np.log1p(probablity_matrix[i , j] / (probablity_matrix[2 , j] * probablity_matrix[i , 2]))))"
      ],
      "metadata": {
        "id": "PWAokvWJ4S6V"
      },
      "execution_count": null,
      "outputs": []
    },
    {
      "cell_type": "code",
      "source": [
        "mi"
      ],
      "metadata": {
        "colab": {
          "base_uri": "https://localhost:8080/"
        },
        "id": "BaXoiC-E9sI3",
        "outputId": "2c9ba8cf-fb85-41ce-8d79-eba9557f3a9f"
      },
      "execution_count": null,
      "outputs": [
        {
          "output_type": "execute_result",
          "data": {
            "text/plain": [
              "0.7212111758337505"
            ]
          },
          "metadata": {},
          "execution_count": 91
        }
      ]
    },
    {
      "cell_type": "code",
      "source": [
        "1 - mi"
      ],
      "metadata": {
        "colab": {
          "base_uri": "https://localhost:8080/"
        },
        "id": "9QeDVC_14Tod",
        "outputId": "d589104c-36c2-4262-8b6d-e79c5621f04b"
      },
      "execution_count": null,
      "outputs": [
        {
          "output_type": "execute_result",
          "data": {
            "text/plain": [
              "0.2787888241662495"
            ]
          },
          "metadata": {},
          "execution_count": 92
        }
      ]
    },
    {
      "cell_type": "code",
      "source": [],
      "metadata": {
        "id": "yn9QoIhW81QR"
      },
      "execution_count": null,
      "outputs": []
    },
    {
      "cell_type": "markdown",
      "source": [
        "Now we just need to make a proper function for this "
      ],
      "metadata": {
        "id": "cd7MvLrRvxgN"
      }
    },
    {
      "cell_type": "code",
      "source": [
        "def binary_mi(dataframe , target , features):\n",
        "\n",
        "    mi_list = []\n",
        "\n",
        "    if len(dataframe[target].value_counts.index) > 2:\n",
        "        \n",
        "        print(\"Please enter binary values\")\n",
        "    \n",
        "    else :\n",
        "       \n",
        "        for feature in features:\n",
        "    \n",
        "            if len(dataframe[feature].value_counts.index) > 2:\n",
        "                \n",
        "                print(\"Please enter binary values\")\n",
        "            \n",
        "            else :\n",
        "            \n",
        "                outcome_matrix = np.zeros(shape = (3 , 3))\n",
        "            \n",
        "                for indices in range(dataframe.shape[0]):\n",
        "                    \n",
        "                    if dataframe[target][indices] == dataframe[target].value_counts.index[0]:\n",
        "                    \n",
        "                        if dataframe[feature][indices] == dataframe[target].value_counts.index[0]: \n",
        "                    \n",
        "                            outcome_matrix[0 , 0] += 1\n",
        "                    \n",
        "                        else : \n",
        "                    \n",
        "                            outcome_matrix[0 , 1] += 1\n",
        "                    \n",
        "                    else : \n",
        "                    \n",
        "                        if dataframe[feature][indices] == dataframe[target].value_counts.index[1]:\n",
        "                    \n",
        "                            outcome_matrix[1 , 1] += 1\n",
        "                    \n",
        "                        else :\n",
        "                    \n",
        "                            outcome_matrix[1 , 0] += 1\n",
        "                \n",
        "                probablity_matrix = outcome_matrix / data.shape[0]\n",
        "                \n",
        "                for first_index in range(2):\n",
        "                    \n",
        "                    for second_index in range(2):\n",
        "                    \n",
        "                        probablity_matrix[first_index , 2] += probablity_matrix[first_index , second_index]\n",
        "                        probablity_matrix[2 , first_index] += probablity_matrix[second_index , first_index]\n",
        "                \n",
        "                mi = 0 \n",
        "                \n",
        "                for first_indices in range(2):\n",
        "                    for second_indeices in range(2):\n",
        "                        mi += (probablity_matrix[first_indices , second_indeices] * (np.log1p(probablity_matrix[first_indices , second_indeices] / (probablity_matrix[2 , second_indeices] * probablity_matrix[first_indices , 2]))))\n",
        "        mi_list.append(mi) \n",
        "\n",
        "    return mi_list               \n",
        "            "
      ],
      "metadata": {
        "id": "3pl2PFbpv0aZ"
      },
      "execution_count": null,
      "outputs": []
    },
    {
      "cell_type": "markdown",
      "source": [
        "Now we have made the `mututal info` for classification, now or next task is to meake it for regressor, in regressor, we do nothing great, we just make bins of the values, and then calacuate the `mututal info` with the same technique, lets do some chages in the function we made and then re implement it "
      ],
      "metadata": {
        "id": "8_6x6T_RTFmk"
      }
    },
    {
      "cell_type": "code",
      "source": [
        "def mi(dataframe , target , features):\n",
        "\n",
        "    mi_list = []\n",
        "\n",
        "    if len(dataframe[target].value_counts.index) > 2:\n",
        "        \n",
        "        for feature in features:\n",
        "    \n",
        "            if len(dataframe[feature].value_counts.index) > 2:\n",
        "                \n",
        "                outcome_matrix = np.zeros(shape = (len(dataframe[features].value_counts().index)) , \n",
        "                                          (len(dataframe[features].value_counts().index)))\n",
        "            \n",
        "            else :\n",
        "            \n",
        "                outcome_matrix = np.zeros(shape = (3 , 3))\n",
        "            \n",
        "            for indices in range(dataframe.shape[0]):\n",
        "                \n",
        "                if dataframe[target][indices] == dataframe[target].value_counts.index[0]:\n",
        "                \n",
        "                    if dataframe[feature][indices] == dataframe[target].value_counts.index[0]: \n",
        "                \n",
        "                        outcome_matrix[0 , 0] += 1\n",
        "                \n",
        "                    else : \n",
        "                \n",
        "                        outcome_matrix[0 , 1] += 1\n",
        "                \n",
        "                else : \n",
        "                \n",
        "                    if dataframe[feature][indices] == dataframe[target].value_counts.index[1]:\n",
        "                \n",
        "                        outcome_matrix[1 , 1] += 1\n",
        "                \n",
        "                    else :\n",
        "                \n",
        "                        outcome_matrix[1 , 0] += 1\n",
        "            \n",
        "            probablity_matrix = outcome_matrix / data.shape[0]\n",
        "            \n",
        "            for first_index in range(2):\n",
        "                \n",
        "                for second_index in range(2):\n",
        "                \n",
        "                    probablity_matrix[first_index , 2] += probablity_matrix[first_index , second_index]\n",
        "                    probablity_matrix[2 , first_index] += probablity_matrix[second_index , first_index]\n",
        "            \n",
        "            mi = 0 \n",
        "            \n",
        "            for first_indices in range(2):\n",
        "                \n",
        "                for second_indeices in range(2):\n",
        "                \n",
        "                    mi += (probablity_matrix[first_indices , second_indeices] * (np.log1p(probablity_matrix[first_indices , second_indeices] / (probablity_matrix[2 , second_indeices] * probablity_matrix[first_indices , 2]))))\n",
        "        \n",
        "        mi_list.append(mi) \n",
        "\n",
        "    \n",
        "    else :\n",
        "       \n",
        "        for feature in features:\n",
        "    \n",
        "            if len(dataframe[feature].value_counts.index) > 2:\n",
        "                \n",
        "                outcome_matrix = np.zeros(shape = (len(dataframe[frature].value_couns().index)) , \n",
        "                                          len(dataframe[frature].value_couns().index)))\n",
        "            \n",
        "            else :\n",
        "            \n",
        "                outcome_matrix = np.zeros(shape = (3 , 3))\n",
        "            \n",
        "            for indices in range(dataframe.shape[0]):\n",
        "                \n",
        "                if dataframe[target][indices] == dataframe[target].value_counts.index[0]:\n",
        "                \n",
        "                    if dataframe[feature][indices] == dataframe[target].value_counts.index[0]: \n",
        "                \n",
        "                        outcome_matrix[0 , 0] += 1\n",
        "                \n",
        "                    else : \n",
        "                \n",
        "                        outcome_matrix[0 , 1] += 1\n",
        "                \n",
        "                else : \n",
        "                \n",
        "                    if dataframe[feature][indices] == dataframe[target].value_counts.index[1]:\n",
        "                \n",
        "                        outcome_matrix[1 , 1] += 1\n",
        "                \n",
        "                    else :\n",
        "                \n",
        "                        outcome_matrix[1 , 0] += 1\n",
        "            \n",
        "            probablity_matrix = outcome_matrix / data.shape[0]\n",
        "            \n",
        "            for first_index in range(2):\n",
        "                \n",
        "                for second_index in range(2):\n",
        "                \n",
        "                    probablity_matrix[first_index , 2] += probablity_matrix[first_index , second_index]\n",
        "                    probablity_matrix[2 , first_index] += probablity_matrix[second_index , first_index]\n",
        "            \n",
        "            mi = 0 \n",
        "            \n",
        "            for first_indices in range(2):\n",
        "        \n",
        "                for second_indeices in range(2):\n",
        "        \n",
        "                    mi += (probablity_matrix[first_indices , second_indeices] * (np.log1p(probablity_matrix[first_indices , second_indeices] / (probablity_matrix[2 , second_indeices] * probablity_matrix[first_indices , 2]))))\n",
        "        \n",
        "        mi_list.append(mi) \n",
        "\n",
        "    return mi_list               \n",
        "            "
      ],
      "metadata": {
        "id": "OMAPa1B3yaT5"
      },
      "execution_count": null,
      "outputs": []
    }
  ]
}