{
  "cells": [
    {
      "cell_type": "markdown",
      "source": [
        "# Function Transformer\n",
        "Function transformers are essential components in data preprocessing pipelines for machine learning algorithms. They are used to transform the input data into a format more suitable for machine learning models. Function transformers can be used to perform various operations such as scaling, normalization, missing value imputation, and feature selection.\n",
        "\n",
        "The scikit-learn library provides a convenient way to create function transformers using the FunctionTransformer class. This class allows you to apply arbitrary functions to your input data and can be used in conjunction with other scikit-learn preprocessing tools such as Pipeline and ColumnTransformer. Function transformers are especially useful when dealing with nonlinear data or when the input data is in non-standard form. For example, if you have a data set that contains a mix of numeric and categorical data, you can use function transformers to apply different transformations to different types of data.\n",
        "\n",
        "Overall, function transformers provide a flexible and powerful tool for preparing data for machine learning models and are an important part of any machine learning pipeline. \n",
        "\n",
        "**Modules**\n",
        "* Numpy\n",
        "* Pandas\n",
        "* Matplotlib\n",
        "* Seaborn\n",
        "\n",
        "**Note**\n",
        "* The dataset used it [this](https://www.kaggle.com/competitions/titanic/data?select=train.csv)"
      ],
      "metadata": {
        "id": "1uPZJRPwbOvs"
      }
    },
    {
      "cell_type": "markdown",
      "source": [
        "Here we will try to make our own transformations "
      ],
      "metadata": {
        "id": "981UJTOcayen"
      }
    },
    {
      "cell_type": "code",
      "source": [
        "import pandas as pd\n",
        "import numpy as np\n",
        "import seaborn as sns\n",
        "import matplotlib.pyplot as plt"
      ],
      "metadata": {
        "id": "BWdojROPMmTr"
      },
      "execution_count": 56,
      "outputs": []
    },
    {
      "cell_type": "code",
      "source": [
        "data = pd.read_csv(\"/content/train.csv\")"
      ],
      "metadata": {
        "id": "creWA2shMyza"
      },
      "execution_count": 58,
      "outputs": []
    },
    {
      "cell_type": "code",
      "source": [
        "data"
      ],
      "metadata": {
        "colab": {
          "base_uri": "https://localhost:8080/",
          "height": 423
        },
        "id": "qiGkAUfNM6Mv",
        "outputId": "958daf16-9e50-44ba-f143-ba6ff015c5ac"
      },
      "execution_count": 59,
      "outputs": [
        {
          "output_type": "execute_result",
          "data": {
            "text/plain": [
              "     PassengerId  Survived  Pclass  \\\n",
              "0              1         0       3   \n",
              "1              2         1       1   \n",
              "2              3         1       3   \n",
              "3              4         1       1   \n",
              "4              5         0       3   \n",
              "..           ...       ...     ...   \n",
              "886          887         0       2   \n",
              "887          888         1       1   \n",
              "888          889         0       3   \n",
              "889          890         1       1   \n",
              "890          891         0       3   \n",
              "\n",
              "                                                  Name     Sex   Age  SibSp  \\\n",
              "0                              Braund, Mr. Owen Harris    male  22.0      1   \n",
              "1    Cumings, Mrs. John Bradley (Florence Briggs Th...  female  38.0      1   \n",
              "2                               Heikkinen, Miss. Laina  female  26.0      0   \n",
              "3         Futrelle, Mrs. Jacques Heath (Lily May Peel)  female  35.0      1   \n",
              "4                             Allen, Mr. William Henry    male  35.0      0   \n",
              "..                                                 ...     ...   ...    ...   \n",
              "886                              Montvila, Rev. Juozas    male  27.0      0   \n",
              "887                       Graham, Miss. Margaret Edith  female  19.0      0   \n",
              "888           Johnston, Miss. Catherine Helen \"Carrie\"  female   NaN      1   \n",
              "889                              Behr, Mr. Karl Howell    male  26.0      0   \n",
              "890                                Dooley, Mr. Patrick    male  32.0      0   \n",
              "\n",
              "     Parch            Ticket     Fare Cabin Embarked  \n",
              "0        0         A/5 21171   7.2500   NaN        S  \n",
              "1        0          PC 17599  71.2833   C85        C  \n",
              "2        0  STON/O2. 3101282   7.9250   NaN        S  \n",
              "3        0            113803  53.1000  C123        S  \n",
              "4        0            373450   8.0500   NaN        S  \n",
              "..     ...               ...      ...   ...      ...  \n",
              "886      0            211536  13.0000   NaN        S  \n",
              "887      0            112053  30.0000   B42        S  \n",
              "888      2        W./C. 6607  23.4500   NaN        S  \n",
              "889      0            111369  30.0000  C148        C  \n",
              "890      0            370376   7.7500   NaN        Q  \n",
              "\n",
              "[891 rows x 12 columns]"
            ],
            "text/html": [
              "\n",
              "  <div id=\"df-33847fc3-d660-4950-a0bc-a98a64589356\">\n",
              "    <div class=\"colab-df-container\">\n",
              "      <div>\n",
              "<style scoped>\n",
              "    .dataframe tbody tr th:only-of-type {\n",
              "        vertical-align: middle;\n",
              "    }\n",
              "\n",
              "    .dataframe tbody tr th {\n",
              "        vertical-align: top;\n",
              "    }\n",
              "\n",
              "    .dataframe thead th {\n",
              "        text-align: right;\n",
              "    }\n",
              "</style>\n",
              "<table border=\"1\" class=\"dataframe\">\n",
              "  <thead>\n",
              "    <tr style=\"text-align: right;\">\n",
              "      <th></th>\n",
              "      <th>PassengerId</th>\n",
              "      <th>Survived</th>\n",
              "      <th>Pclass</th>\n",
              "      <th>Name</th>\n",
              "      <th>Sex</th>\n",
              "      <th>Age</th>\n",
              "      <th>SibSp</th>\n",
              "      <th>Parch</th>\n",
              "      <th>Ticket</th>\n",
              "      <th>Fare</th>\n",
              "      <th>Cabin</th>\n",
              "      <th>Embarked</th>\n",
              "    </tr>\n",
              "  </thead>\n",
              "  <tbody>\n",
              "    <tr>\n",
              "      <th>0</th>\n",
              "      <td>1</td>\n",
              "      <td>0</td>\n",
              "      <td>3</td>\n",
              "      <td>Braund, Mr. Owen Harris</td>\n",
              "      <td>male</td>\n",
              "      <td>22.0</td>\n",
              "      <td>1</td>\n",
              "      <td>0</td>\n",
              "      <td>A/5 21171</td>\n",
              "      <td>7.2500</td>\n",
              "      <td>NaN</td>\n",
              "      <td>S</td>\n",
              "    </tr>\n",
              "    <tr>\n",
              "      <th>1</th>\n",
              "      <td>2</td>\n",
              "      <td>1</td>\n",
              "      <td>1</td>\n",
              "      <td>Cumings, Mrs. John Bradley (Florence Briggs Th...</td>\n",
              "      <td>female</td>\n",
              "      <td>38.0</td>\n",
              "      <td>1</td>\n",
              "      <td>0</td>\n",
              "      <td>PC 17599</td>\n",
              "      <td>71.2833</td>\n",
              "      <td>C85</td>\n",
              "      <td>C</td>\n",
              "    </tr>\n",
              "    <tr>\n",
              "      <th>2</th>\n",
              "      <td>3</td>\n",
              "      <td>1</td>\n",
              "      <td>3</td>\n",
              "      <td>Heikkinen, Miss. Laina</td>\n",
              "      <td>female</td>\n",
              "      <td>26.0</td>\n",
              "      <td>0</td>\n",
              "      <td>0</td>\n",
              "      <td>STON/O2. 3101282</td>\n",
              "      <td>7.9250</td>\n",
              "      <td>NaN</td>\n",
              "      <td>S</td>\n",
              "    </tr>\n",
              "    <tr>\n",
              "      <th>3</th>\n",
              "      <td>4</td>\n",
              "      <td>1</td>\n",
              "      <td>1</td>\n",
              "      <td>Futrelle, Mrs. Jacques Heath (Lily May Peel)</td>\n",
              "      <td>female</td>\n",
              "      <td>35.0</td>\n",
              "      <td>1</td>\n",
              "      <td>0</td>\n",
              "      <td>113803</td>\n",
              "      <td>53.1000</td>\n",
              "      <td>C123</td>\n",
              "      <td>S</td>\n",
              "    </tr>\n",
              "    <tr>\n",
              "      <th>4</th>\n",
              "      <td>5</td>\n",
              "      <td>0</td>\n",
              "      <td>3</td>\n",
              "      <td>Allen, Mr. William Henry</td>\n",
              "      <td>male</td>\n",
              "      <td>35.0</td>\n",
              "      <td>0</td>\n",
              "      <td>0</td>\n",
              "      <td>373450</td>\n",
              "      <td>8.0500</td>\n",
              "      <td>NaN</td>\n",
              "      <td>S</td>\n",
              "    </tr>\n",
              "    <tr>\n",
              "      <th>...</th>\n",
              "      <td>...</td>\n",
              "      <td>...</td>\n",
              "      <td>...</td>\n",
              "      <td>...</td>\n",
              "      <td>...</td>\n",
              "      <td>...</td>\n",
              "      <td>...</td>\n",
              "      <td>...</td>\n",
              "      <td>...</td>\n",
              "      <td>...</td>\n",
              "      <td>...</td>\n",
              "      <td>...</td>\n",
              "    </tr>\n",
              "    <tr>\n",
              "      <th>886</th>\n",
              "      <td>887</td>\n",
              "      <td>0</td>\n",
              "      <td>2</td>\n",
              "      <td>Montvila, Rev. Juozas</td>\n",
              "      <td>male</td>\n",
              "      <td>27.0</td>\n",
              "      <td>0</td>\n",
              "      <td>0</td>\n",
              "      <td>211536</td>\n",
              "      <td>13.0000</td>\n",
              "      <td>NaN</td>\n",
              "      <td>S</td>\n",
              "    </tr>\n",
              "    <tr>\n",
              "      <th>887</th>\n",
              "      <td>888</td>\n",
              "      <td>1</td>\n",
              "      <td>1</td>\n",
              "      <td>Graham, Miss. Margaret Edith</td>\n",
              "      <td>female</td>\n",
              "      <td>19.0</td>\n",
              "      <td>0</td>\n",
              "      <td>0</td>\n",
              "      <td>112053</td>\n",
              "      <td>30.0000</td>\n",
              "      <td>B42</td>\n",
              "      <td>S</td>\n",
              "    </tr>\n",
              "    <tr>\n",
              "      <th>888</th>\n",
              "      <td>889</td>\n",
              "      <td>0</td>\n",
              "      <td>3</td>\n",
              "      <td>Johnston, Miss. Catherine Helen \"Carrie\"</td>\n",
              "      <td>female</td>\n",
              "      <td>NaN</td>\n",
              "      <td>1</td>\n",
              "      <td>2</td>\n",
              "      <td>W./C. 6607</td>\n",
              "      <td>23.4500</td>\n",
              "      <td>NaN</td>\n",
              "      <td>S</td>\n",
              "    </tr>\n",
              "    <tr>\n",
              "      <th>889</th>\n",
              "      <td>890</td>\n",
              "      <td>1</td>\n",
              "      <td>1</td>\n",
              "      <td>Behr, Mr. Karl Howell</td>\n",
              "      <td>male</td>\n",
              "      <td>26.0</td>\n",
              "      <td>0</td>\n",
              "      <td>0</td>\n",
              "      <td>111369</td>\n",
              "      <td>30.0000</td>\n",
              "      <td>C148</td>\n",
              "      <td>C</td>\n",
              "    </tr>\n",
              "    <tr>\n",
              "      <th>890</th>\n",
              "      <td>891</td>\n",
              "      <td>0</td>\n",
              "      <td>3</td>\n",
              "      <td>Dooley, Mr. Patrick</td>\n",
              "      <td>male</td>\n",
              "      <td>32.0</td>\n",
              "      <td>0</td>\n",
              "      <td>0</td>\n",
              "      <td>370376</td>\n",
              "      <td>7.7500</td>\n",
              "      <td>NaN</td>\n",
              "      <td>Q</td>\n",
              "    </tr>\n",
              "  </tbody>\n",
              "</table>\n",
              "<p>891 rows × 12 columns</p>\n",
              "</div>\n",
              "      <button class=\"colab-df-convert\" onclick=\"convertToInteractive('df-33847fc3-d660-4950-a0bc-a98a64589356')\"\n",
              "              title=\"Convert this dataframe to an interactive table.\"\n",
              "              style=\"display:none;\">\n",
              "        \n",
              "  <svg xmlns=\"http://www.w3.org/2000/svg\" height=\"24px\"viewBox=\"0 0 24 24\"\n",
              "       width=\"24px\">\n",
              "    <path d=\"M0 0h24v24H0V0z\" fill=\"none\"/>\n",
              "    <path d=\"M18.56 5.44l.94 2.06.94-2.06 2.06-.94-2.06-.94-.94-2.06-.94 2.06-2.06.94zm-11 1L8.5 8.5l.94-2.06 2.06-.94-2.06-.94L8.5 2.5l-.94 2.06-2.06.94zm10 10l.94 2.06.94-2.06 2.06-.94-2.06-.94-.94-2.06-.94 2.06-2.06.94z\"/><path d=\"M17.41 7.96l-1.37-1.37c-.4-.4-.92-.59-1.43-.59-.52 0-1.04.2-1.43.59L10.3 9.45l-7.72 7.72c-.78.78-.78 2.05 0 2.83L4 21.41c.39.39.9.59 1.41.59.51 0 1.02-.2 1.41-.59l7.78-7.78 2.81-2.81c.8-.78.8-2.07 0-2.86zM5.41 20L4 18.59l7.72-7.72 1.47 1.35L5.41 20z\"/>\n",
              "  </svg>\n",
              "      </button>\n",
              "      \n",
              "  <style>\n",
              "    .colab-df-container {\n",
              "      display:flex;\n",
              "      flex-wrap:wrap;\n",
              "      gap: 12px;\n",
              "    }\n",
              "\n",
              "    .colab-df-convert {\n",
              "      background-color: #E8F0FE;\n",
              "      border: none;\n",
              "      border-radius: 50%;\n",
              "      cursor: pointer;\n",
              "      display: none;\n",
              "      fill: #1967D2;\n",
              "      height: 32px;\n",
              "      padding: 0 0 0 0;\n",
              "      width: 32px;\n",
              "    }\n",
              "\n",
              "    .colab-df-convert:hover {\n",
              "      background-color: #E2EBFA;\n",
              "      box-shadow: 0px 1px 2px rgba(60, 64, 67, 0.3), 0px 1px 3px 1px rgba(60, 64, 67, 0.15);\n",
              "      fill: #174EA6;\n",
              "    }\n",
              "\n",
              "    [theme=dark] .colab-df-convert {\n",
              "      background-color: #3B4455;\n",
              "      fill: #D2E3FC;\n",
              "    }\n",
              "\n",
              "    [theme=dark] .colab-df-convert:hover {\n",
              "      background-color: #434B5C;\n",
              "      box-shadow: 0px 1px 3px 1px rgba(0, 0, 0, 0.15);\n",
              "      filter: drop-shadow(0px 1px 2px rgba(0, 0, 0, 0.3));\n",
              "      fill: #FFFFFF;\n",
              "    }\n",
              "  </style>\n",
              "\n",
              "      <script>\n",
              "        const buttonEl =\n",
              "          document.querySelector('#df-33847fc3-d660-4950-a0bc-a98a64589356 button.colab-df-convert');\n",
              "        buttonEl.style.display =\n",
              "          google.colab.kernel.accessAllowed ? 'block' : 'none';\n",
              "\n",
              "        async function convertToInteractive(key) {\n",
              "          const element = document.querySelector('#df-33847fc3-d660-4950-a0bc-a98a64589356');\n",
              "          const dataTable =\n",
              "            await google.colab.kernel.invokeFunction('convertToInteractive',\n",
              "                                                     [key], {});\n",
              "          if (!dataTable) return;\n",
              "\n",
              "          const docLinkHtml = 'Like what you see? Visit the ' +\n",
              "            '<a target=\"_blank\" href=https://colab.research.google.com/notebooks/data_table.ipynb>data table notebook</a>'\n",
              "            + ' to learn more about interactive tables.';\n",
              "          element.innerHTML = '';\n",
              "          dataTable['output_type'] = 'display_data';\n",
              "          await google.colab.output.renderOutput(dataTable, element);\n",
              "          const docLink = document.createElement('div');\n",
              "          docLink.innerHTML = docLinkHtml;\n",
              "          element.appendChild(docLink);\n",
              "        }\n",
              "      </script>\n",
              "    </div>\n",
              "  </div>\n",
              "  "
            ]
          },
          "metadata": {},
          "execution_count": 59
        }
      ]
    },
    {
      "cell_type": "markdown",
      "source": [
        "`Fare` seems to be a good one for this, so we will be focusing on this"
      ],
      "metadata": {
        "id": "CcEhSEnXfS2z"
      }
    },
    {
      "cell_type": "code",
      "source": [
        "sample_data = data[\"Fare\"]"
      ],
      "metadata": {
        "id": "7hj-m3aoM8JM"
      },
      "execution_count": 60,
      "outputs": []
    },
    {
      "cell_type": "code",
      "source": [
        "print(\"Skew is : \" , sample_data.skew())\n",
        "sns.kdeplot(sample_data)"
      ],
      "metadata": {
        "colab": {
          "base_uri": "https://localhost:8080/",
          "height": 314
        },
        "id": "sPKlYqmzNCzP",
        "outputId": "9478eff4-af1e-4f5b-d826-4aba2eb50cb6"
      },
      "execution_count": 61,
      "outputs": [
        {
          "output_type": "stream",
          "name": "stdout",
          "text": [
            "Skew is :  4.787316519674893\n"
          ]
        },
        {
          "output_type": "execute_result",
          "data": {
            "text/plain": [
              "<AxesSubplot:xlabel='Fare', ylabel='Density'>"
            ]
          },
          "metadata": {},
          "execution_count": 61
        },
        {
          "output_type": "display_data",
          "data": {
            "text/plain": [
              "<Figure size 432x288 with 1 Axes>"
            ],
            "image/png": "[encoded data removed]"
          },
          "metadata": {
            "needs_background": "light"
          }
        }
      ]
    },
    {
      "cell_type": "markdown",
      "source": [
        "As you can see the skewness is $4.78$, models like gaussian disitribution graph, so our main motive is to minimize the skewess and make the curve more like a bell shaped. There are majorly four methods for doing this \n",
        "* Log Transformer\n",
        "* Square Transformer\n",
        "* Box-Cox Transformer\n",
        "* Yeo-Johnson Transformer"
      ],
      "metadata": {
        "id": "uGg8sjsBfyRF"
      }
    },
    {
      "cell_type": "markdown",
      "source": [
        "# Log Transformer\n",
        "\n",
        "In machine learning, a log transformer is a data preprocessing technique used to transform data by taking the logarithm of the values. This technique is often used when dealing with data with skewed distributions, where most data points are clustered around some value and some extreme values ​​are much higher or lower than others. will be used.\n",
        "\n",
        "Taking the logarithm of the data transforms the values ​​into a more normal distribution, making them easier to work with in machine learning models. Additionally, the logarithmic transformation helps reduce the effects of outliers, as extreme values ​​are \"pulled\" towards the mean of the data.\n",
        "\n",
        "Log transformations can be applied to different types of data depending on the context and specific problem. B. Numeric or categorical data. However, it is important to note that logarithmic transformation is not always appropriate and other techniques such as feature scaling and normalization may be more appropriate.\n",
        "\n",
        "Overall, log transformers are useful machine learning tools for preprocessing data and improving model performance. "
      ],
      "metadata": {
        "id": "ok9ziDtNgW80"
      }
    },
    {
      "cell_type": "markdown",
      "source": [
        "For changing every value in an array, we simply need to iterate over the array and change the values. We will first try to access these values. As it can go very further, we will limit the output to $5$ lines"
      ],
      "metadata": {
        "id": "DqNsRnbIhRsY"
      }
    },
    {
      "cell_type": "code",
      "source": [
        "count = 0\n",
        "for i in sample_data: #-----|\n",
        "    print(i) #--------------|=======> Main code\n",
        "    count +=1\n",
        "    if count == 5:\n",
        "        break"
      ],
      "metadata": {
        "colab": {
          "base_uri": "https://localhost:8080/"
        },
        "id": "IOkxnVQwg0yE",
        "outputId": "eec0d424-9afd-49f3-b3c1-5bdbbbcba53c"
      },
      "execution_count": 62,
      "outputs": [
        {
          "output_type": "stream",
          "name": "stdout",
          "text": [
            "7.25\n",
            "71.2833\n",
            "7.925\n",
            "53.1\n",
            "8.05\n"
          ]
        }
      ]
    },
    {
      "cell_type": "markdown",
      "source": [
        "Now we will try to make a new array, and add these values in that array, we will transform the values afterward, but first we will try to populate a new array "
      ],
      "metadata": {
        "id": "owv_KWaAhqd7"
      }
    },
    {
      "cell_type": "code",
      "source": [
        "new_array = np.array([])\n",
        "for i in sample_data:\n",
        "    new_array = np.vstack([new_array , i])"
      ],
      "metadata": {
        "colab": {
          "base_uri": "https://localhost:8080/",
          "height": 276
        },
        "id": "OZUVhISDh3aj",
        "outputId": "1d21cc6c-eb9c-404c-8bec-16e877e7de4a"
      },
      "execution_count": 63,
      "outputs": [
        {
          "output_type": "error",
          "ename": "ValueError",
          "evalue": "ignored",
          "traceback": [
            "\u001b[0;31m---------------------------------------------------------------------------\u001b[0m",
            "\u001b[0;31mValueError\u001b[0m                                Traceback (most recent call last)",
            "\u001b[0;32m<ipython-input-63-90e72e6a57ef>\u001b[0m in \u001b[0;36m<module>\u001b[0;34m\u001b[0m\n\u001b[1;32m      1\u001b[0m \u001b[0mnew_array\u001b[0m \u001b[0;34m=\u001b[0m \u001b[0mnp\u001b[0m\u001b[0;34m.\u001b[0m\u001b[0marray\u001b[0m\u001b[0;34m(\u001b[0m\u001b[0;34m[\u001b[0m\u001b[0;34m]\u001b[0m\u001b[0;34m)\u001b[0m\u001b[0;34m\u001b[0m\u001b[0;34m\u001b[0m\u001b[0m\n\u001b[1;32m      2\u001b[0m \u001b[0;32mfor\u001b[0m \u001b[0mi\u001b[0m \u001b[0;32min\u001b[0m \u001b[0msample_data\u001b[0m\u001b[0;34m:\u001b[0m\u001b[0;34m\u001b[0m\u001b[0;34m\u001b[0m\u001b[0m\n\u001b[0;32m----> 3\u001b[0;31m     \u001b[0mnew_array\u001b[0m \u001b[0;34m=\u001b[0m \u001b[0mnp\u001b[0m\u001b[0;34m.\u001b[0m\u001b[0mvstack\u001b[0m\u001b[0;34m(\u001b[0m\u001b[0;34m[\u001b[0m\u001b[0mnew_array\u001b[0m \u001b[0;34m,\u001b[0m \u001b[0mi\u001b[0m\u001b[0;34m]\u001b[0m\u001b[0;34m)\u001b[0m\u001b[0;34m\u001b[0m\u001b[0;34m\u001b[0m\u001b[0m\n\u001b[0m",
            "\u001b[0;32m/usr/local/lib/python3.8/dist-packages/numpy/core/overrides.py\u001b[0m in \u001b[0;36mvstack\u001b[0;34m(*args, **kwargs)\u001b[0m\n",
            "\u001b[0;32m/usr/local/lib/python3.8/dist-packages/numpy/core/shape_base.py\u001b[0m in \u001b[0;36mvstack\u001b[0;34m(tup)\u001b[0m\n\u001b[1;32m    280\u001b[0m     \u001b[0;32mif\u001b[0m \u001b[0;32mnot\u001b[0m \u001b[0misinstance\u001b[0m\u001b[0;34m(\u001b[0m\u001b[0marrs\u001b[0m\u001b[0;34m,\u001b[0m \u001b[0mlist\u001b[0m\u001b[0;34m)\u001b[0m\u001b[0;34m:\u001b[0m\u001b[0;34m\u001b[0m\u001b[0;34m\u001b[0m\u001b[0m\n\u001b[1;32m    281\u001b[0m         \u001b[0marrs\u001b[0m \u001b[0;34m=\u001b[0m \u001b[0;34m[\u001b[0m\u001b[0marrs\u001b[0m\u001b[0;34m]\u001b[0m\u001b[0;34m\u001b[0m\u001b[0;34m\u001b[0m\u001b[0m\n\u001b[0;32m--> 282\u001b[0;31m     \u001b[0;32mreturn\u001b[0m \u001b[0m_nx\u001b[0m\u001b[0;34m.\u001b[0m\u001b[0mconcatenate\u001b[0m\u001b[0;34m(\u001b[0m\u001b[0marrs\u001b[0m\u001b[0;34m,\u001b[0m \u001b[0;36m0\u001b[0m\u001b[0;34m)\u001b[0m\u001b[0;34m\u001b[0m\u001b[0;34m\u001b[0m\u001b[0m\n\u001b[0m\u001b[1;32m    283\u001b[0m \u001b[0;34m\u001b[0m\u001b[0m\n\u001b[1;32m    284\u001b[0m \u001b[0;34m\u001b[0m\u001b[0m\n",
            "\u001b[0;32m/usr/local/lib/python3.8/dist-packages/numpy/core/overrides.py\u001b[0m in \u001b[0;36mconcatenate\u001b[0;34m(*args, **kwargs)\u001b[0m\n",
            "\u001b[0;31mValueError\u001b[0m: all the input array dimensions for the concatenation axis must match exactly, but along dimension 1, the array at index 0 has size 0 and the array at index 1 has size 1"
          ]
        }
      ]
    },
    {
      "cell_type": "markdown",
      "source": [
        "As we can see there is an error, regarding the incorrect shape. It says the array you are trying to stack is of $(1 , 1)$ but the arrays you are trying to stck in is of shape $(0 , 0)$. \n",
        "\n",
        "So we need to make an empty array of the same shape."
      ],
      "metadata": {
        "id": "y80F5XEQiIvr"
      }
    },
    {
      "cell_type": "code",
      "source": [
        "new_array = np.empty(shape = (1 , 1))\n",
        "for i in sample_data:\n",
        "    new_array = np.vstack([new_array , i])"
      ],
      "metadata": {
        "id": "3ZrqF78hjEhj"
      },
      "execution_count": 64,
      "outputs": []
    },
    {
      "cell_type": "code",
      "source": [
        "# new_array # Not printing this as it will take a lot of unescessory space, if you want to see, just comment it out"
      ],
      "metadata": {
        "id": "_ZPI-mnqjNf6"
      },
      "execution_count": 65,
      "outputs": []
    },
    {
      "cell_type": "markdown",
      "source": [
        "So now our most of the work is done, now we just need to change the value of `i` according to our need, for simplicity we will just create a function for this "
      ],
      "metadata": {
        "id": "jT_tVbGSjfEx"
      }
    },
    {
      "cell_type": "code",
      "source": [
        "def log_output(value):\n",
        "    return np.log1p(value)\n",
        "\n",
        "new_array = np.empty(shape = (1 , 1))\n",
        "for i in sample_data:\n",
        "    new_array = np.vstack([new_array , log_output(i)])\n"
      ],
      "metadata": {
        "id": "5VfF_a6tjsSx"
      },
      "execution_count": 66,
      "outputs": []
    },
    {
      "cell_type": "code",
      "source": [
        "# new_array # Not printing this as it will take a lot of unescessory space, if you want to see, just comment it out"
      ],
      "metadata": {
        "id": "4XwajbLbj7WT"
      },
      "execution_count": 67,
      "outputs": []
    },
    {
      "cell_type": "markdown",
      "source": [
        "Lets try to plot this on a graph"
      ],
      "metadata": {
        "id": "12ek-FvIj8cJ"
      }
    },
    {
      "cell_type": "code",
      "source": [
        "print(\"Skew is : \" , new_array.skew())\n",
        "sns.kdeplot(new_array)"
      ],
      "metadata": {
        "colab": {
          "base_uri": "https://localhost:8080/",
          "height": 183
        },
        "id": "7n3CuZMblCW6",
        "outputId": "26cea16f-463b-4b22-9e2e-3efad4623ae6"
      },
      "execution_count": 68,
      "outputs": [
        {
          "output_type": "error",
          "ename": "AttributeError",
          "evalue": "ignored",
          "traceback": [
            "\u001b[0;31m---------------------------------------------------------------------------\u001b[0m",
            "\u001b[0;31mAttributeError\u001b[0m                            Traceback (most recent call last)",
            "\u001b[0;32m<ipython-input-68-3d17bc733c1f>\u001b[0m in \u001b[0;36m<module>\u001b[0;34m\u001b[0m\n\u001b[0;32m----> 1\u001b[0;31m \u001b[0mprint\u001b[0m\u001b[0;34m(\u001b[0m\u001b[0;34m\"Skew is : \"\u001b[0m \u001b[0;34m,\u001b[0m \u001b[0mnew_array\u001b[0m\u001b[0;34m.\u001b[0m\u001b[0mskew\u001b[0m\u001b[0;34m(\u001b[0m\u001b[0;34m)\u001b[0m\u001b[0;34m)\u001b[0m\u001b[0;34m\u001b[0m\u001b[0;34m\u001b[0m\u001b[0m\n\u001b[0m\u001b[1;32m      2\u001b[0m \u001b[0msns\u001b[0m\u001b[0;34m.\u001b[0m\u001b[0mkdeplot\u001b[0m\u001b[0;34m(\u001b[0m\u001b[0mnew_array\u001b[0m\u001b[0;34m)\u001b[0m\u001b[0;34m\u001b[0m\u001b[0;34m\u001b[0m\u001b[0m\n",
            "\u001b[0;31mAttributeError\u001b[0m: 'numpy.ndarray' object has no attribute 'skew'"
          ]
        }
      ]
    },
    {
      "cell_type": "markdown",
      "source": [
        "Okay so `numpy.ndarray` do not have attribute `skew`. Its right, `.skew()` exist only for dataframes, so we will be creating our own skew function"
      ],
      "metadata": {
        "id": "sSIRPcJ3lS0o"
      }
    },
    {
      "cell_type": "code",
      "source": [
        "print(\"Skew is : \" , pd.DataFrame(new_array).skew())\n",
        "sns.kdeplot(pd.DataFrame(new_array))"
      ],
      "metadata": {
        "colab": {
          "base_uri": "https://localhost:8080/",
          "height": 363
        },
        "id": "GbIuIxctljqY",
        "outputId": "5485a4c8-7f04-4e52-ec2e-bacdd053ce46"
      },
      "execution_count": 69,
      "outputs": [
        {
          "output_type": "stream",
          "name": "stdout",
          "text": [
            "Skew is :  0    0.4935\n",
            "dtype: float64\n"
          ]
        },
        {
          "output_type": "error",
          "ename": "ValueError",
          "evalue": "ignored",
          "traceback": [
            "\u001b[0;31m---------------------------------------------------------------------------\u001b[0m",
            "\u001b[0;31mValueError\u001b[0m                                Traceback (most recent call last)",
            "\u001b[0;32m<ipython-input-69-d484a4d660e3>\u001b[0m in \u001b[0;36m<module>\u001b[0;34m\u001b[0m\n\u001b[1;32m      1\u001b[0m \u001b[0mprint\u001b[0m\u001b[0;34m(\u001b[0m\u001b[0;34m\"Skew is : \"\u001b[0m \u001b[0;34m,\u001b[0m \u001b[0mpd\u001b[0m\u001b[0;34m.\u001b[0m\u001b[0mDataFrame\u001b[0m\u001b[0;34m(\u001b[0m\u001b[0mnew_array\u001b[0m\u001b[0;34m)\u001b[0m\u001b[0;34m.\u001b[0m\u001b[0mskew\u001b[0m\u001b[0;34m(\u001b[0m\u001b[0;34m)\u001b[0m\u001b[0;34m)\u001b[0m\u001b[0;34m\u001b[0m\u001b[0;34m\u001b[0m\u001b[0m\n\u001b[0;32m----> 2\u001b[0;31m \u001b[0msns\u001b[0m\u001b[0;34m.\u001b[0m\u001b[0mkdeplot\u001b[0m\u001b[0;34m(\u001b[0m\u001b[0mpd\u001b[0m\u001b[0;34m.\u001b[0m\u001b[0mDataFrame\u001b[0m\u001b[0;34m(\u001b[0m\u001b[0mnew_array\u001b[0m\u001b[0;34m)\u001b[0m\u001b[0;34m)\u001b[0m\u001b[0;34m\u001b[0m\u001b[0;34m\u001b[0m\u001b[0m\n\u001b[0m",
            "\u001b[0;32m/usr/local/lib/python3.8/dist-packages/seaborn/_decorators.py\u001b[0m in \u001b[0;36minner_f\u001b[0;34m(*args, **kwargs)\u001b[0m\n\u001b[1;32m     44\u001b[0m             )\n\u001b[1;32m     45\u001b[0m         \u001b[0mkwargs\u001b[0m\u001b[0;34m.\u001b[0m\u001b[0mupdate\u001b[0m\u001b[0;34m(\u001b[0m\u001b[0;34m{\u001b[0m\u001b[0mk\u001b[0m\u001b[0;34m:\u001b[0m \u001b[0marg\u001b[0m \u001b[0;32mfor\u001b[0m \u001b[0mk\u001b[0m\u001b[0;34m,\u001b[0m \u001b[0marg\u001b[0m \u001b[0;32min\u001b[0m \u001b[0mzip\u001b[0m\u001b[0;34m(\u001b[0m\u001b[0msig\u001b[0m\u001b[0;34m.\u001b[0m\u001b[0mparameters\u001b[0m\u001b[0;34m,\u001b[0m \u001b[0margs\u001b[0m\u001b[0;34m)\u001b[0m\u001b[0;34m}\u001b[0m\u001b[0;34m)\u001b[0m\u001b[0;34m\u001b[0m\u001b[0;34m\u001b[0m\u001b[0m\n\u001b[0;32m---> 46\u001b[0;31m         \u001b[0;32mreturn\u001b[0m \u001b[0mf\u001b[0m\u001b[0;34m(\u001b[0m\u001b[0;34m**\u001b[0m\u001b[0mkwargs\u001b[0m\u001b[0;34m)\u001b[0m\u001b[0;34m\u001b[0m\u001b[0;34m\u001b[0m\u001b[0m\n\u001b[0m\u001b[1;32m     47\u001b[0m     \u001b[0;32mreturn\u001b[0m \u001b[0minner_f\u001b[0m\u001b[0;34m\u001b[0m\u001b[0;34m\u001b[0m\u001b[0m\n\u001b[1;32m     48\u001b[0m \u001b[0;34m\u001b[0m\u001b[0m\n",
            "\u001b[0;32m/usr/local/lib/python3.8/dist-packages/seaborn/distributions.py\u001b[0m in \u001b[0;36mkdeplot\u001b[0;34m(x, y, shade, vertical, kernel, bw, gridsize, cut, clip, legend, cumulative, shade_lowest, cbar, cbar_ax, cbar_kws, ax, weights, hue, palette, hue_order, hue_norm, multiple, common_norm, common_grid, levels, thresh, bw_method, bw_adjust, log_scale, color, fill, data, data2, warn_singular, **kwargs)\u001b[0m\n\u001b[1;32m   1736\u001b[0m     \u001b[0;31m# - - - - - - - - - - - - - - - - - - - - - - - - - - - - - - - - - - - - #\u001b[0m\u001b[0;34m\u001b[0m\u001b[0;34m\u001b[0m\u001b[0;34m\u001b[0m\u001b[0m\n\u001b[1;32m   1737\u001b[0m \u001b[0;34m\u001b[0m\u001b[0m\n\u001b[0;32m-> 1738\u001b[0;31m     p = _DistributionPlotter(\n\u001b[0m\u001b[1;32m   1739\u001b[0m         \u001b[0mdata\u001b[0m\u001b[0;34m=\u001b[0m\u001b[0mdata\u001b[0m\u001b[0;34m,\u001b[0m\u001b[0;34m\u001b[0m\u001b[0;34m\u001b[0m\u001b[0m\n\u001b[1;32m   1740\u001b[0m         \u001b[0mvariables\u001b[0m\u001b[0;34m=\u001b[0m\u001b[0m_DistributionPlotter\u001b[0m\u001b[0;34m.\u001b[0m\u001b[0mget_semantics\u001b[0m\u001b[0;34m(\u001b[0m\u001b[0mlocals\u001b[0m\u001b[0;34m(\u001b[0m\u001b[0;34m)\u001b[0m\u001b[0;34m)\u001b[0m\u001b[0;34m,\u001b[0m\u001b[0;34m\u001b[0m\u001b[0;34m\u001b[0m\u001b[0m\n",
            "\u001b[0;32m/usr/local/lib/python3.8/dist-packages/seaborn/distributions.py\u001b[0m in \u001b[0;36m__init__\u001b[0;34m(self, data, variables)\u001b[0m\n\u001b[1;32m    109\u001b[0m     ):\n\u001b[1;32m    110\u001b[0m \u001b[0;34m\u001b[0m\u001b[0m\n\u001b[0;32m--> 111\u001b[0;31m         \u001b[0msuper\u001b[0m\u001b[0;34m(\u001b[0m\u001b[0;34m)\u001b[0m\u001b[0;34m.\u001b[0m\u001b[0m__init__\u001b[0m\u001b[0;34m(\u001b[0m\u001b[0mdata\u001b[0m\u001b[0;34m=\u001b[0m\u001b[0mdata\u001b[0m\u001b[0;34m,\u001b[0m \u001b[0mvariables\u001b[0m\u001b[0;34m=\u001b[0m\u001b[0mvariables\u001b[0m\u001b[0;34m)\u001b[0m\u001b[0;34m\u001b[0m\u001b[0;34m\u001b[0m\u001b[0m\n\u001b[0m\u001b[1;32m    112\u001b[0m \u001b[0;34m\u001b[0m\u001b[0m\n\u001b[1;32m    113\u001b[0m     \u001b[0;34m@\u001b[0m\u001b[0mproperty\u001b[0m\u001b[0;34m\u001b[0m\u001b[0;34m\u001b[0m\u001b[0m\n",
            "\u001b[0;32m/usr/local/lib/python3.8/dist-packages/seaborn/_core.py\u001b[0m in \u001b[0;36m__init__\u001b[0;34m(self, data, variables)\u001b[0m\n\u001b[1;32m    603\u001b[0m     \u001b[0;32mdef\u001b[0m \u001b[0m__init__\u001b[0m\u001b[0;34m(\u001b[0m\u001b[0mself\u001b[0m\u001b[0;34m,\u001b[0m \u001b[0mdata\u001b[0m\u001b[0;34m=\u001b[0m\u001b[0;32mNone\u001b[0m\u001b[0;34m,\u001b[0m \u001b[0mvariables\u001b[0m\u001b[0;34m=\u001b[0m\u001b[0;34m{\u001b[0m\u001b[0;34m}\u001b[0m\u001b[0;34m)\u001b[0m\u001b[0;34m:\u001b[0m\u001b[0;34m\u001b[0m\u001b[0;34m\u001b[0m\u001b[0m\n\u001b[1;32m    604\u001b[0m \u001b[0;34m\u001b[0m\u001b[0m\n\u001b[0;32m--> 605\u001b[0;31m         \u001b[0mself\u001b[0m\u001b[0;34m.\u001b[0m\u001b[0massign_variables\u001b[0m\u001b[0;34m(\u001b[0m\u001b[0mdata\u001b[0m\u001b[0;34m,\u001b[0m \u001b[0mvariables\u001b[0m\u001b[0;34m)\u001b[0m\u001b[0;34m\u001b[0m\u001b[0;34m\u001b[0m\u001b[0m\n\u001b[0m\u001b[1;32m    606\u001b[0m \u001b[0;34m\u001b[0m\u001b[0m\n\u001b[1;32m    607\u001b[0m         \u001b[0;32mfor\u001b[0m \u001b[0mvar\u001b[0m\u001b[0;34m,\u001b[0m \u001b[0mcls\u001b[0m \u001b[0;32min\u001b[0m \u001b[0mself\u001b[0m\u001b[0;34m.\u001b[0m\u001b[0m_semantic_mappings\u001b[0m\u001b[0;34m.\u001b[0m\u001b[0mitems\u001b[0m\u001b[0;34m(\u001b[0m\u001b[0;34m)\u001b[0m\u001b[0;34m:\u001b[0m\u001b[0;34m\u001b[0m\u001b[0;34m\u001b[0m\u001b[0m\n",
            "\u001b[0;32m/usr/local/lib/python3.8/dist-packages/seaborn/_core.py\u001b[0m in \u001b[0;36massign_variables\u001b[0;34m(self, data, variables)\u001b[0m\n\u001b[1;32m    666\u001b[0m         \u001b[0;32melse\u001b[0m\u001b[0;34m:\u001b[0m\u001b[0;34m\u001b[0m\u001b[0;34m\u001b[0m\u001b[0m\n\u001b[1;32m    667\u001b[0m             \u001b[0mself\u001b[0m\u001b[0;34m.\u001b[0m\u001b[0minput_format\u001b[0m \u001b[0;34m=\u001b[0m \u001b[0;34m\"long\"\u001b[0m\u001b[0;34m\u001b[0m\u001b[0;34m\u001b[0m\u001b[0m\n\u001b[0;32m--> 668\u001b[0;31m             plot_data, variables = self._assign_variables_longform(\n\u001b[0m\u001b[1;32m    669\u001b[0m                 \u001b[0mdata\u001b[0m\u001b[0;34m,\u001b[0m \u001b[0;34m**\u001b[0m\u001b[0mvariables\u001b[0m\u001b[0;34m,\u001b[0m\u001b[0;34m\u001b[0m\u001b[0;34m\u001b[0m\u001b[0m\n\u001b[1;32m    670\u001b[0m             )\n",
            "\u001b[0;32m/usr/local/lib/python3.8/dist-packages/seaborn/_core.py\u001b[0m in \u001b[0;36m_assign_variables_longform\u001b[0;34m(self, data, **kwargs)\u001b[0m\n\u001b[1;32m    925\u001b[0m         \u001b[0;31m# Construct a tidy plot DataFrame. This will convert a number of\u001b[0m\u001b[0;34m\u001b[0m\u001b[0;34m\u001b[0m\u001b[0;34m\u001b[0m\u001b[0m\n\u001b[1;32m    926\u001b[0m         \u001b[0;31m# types automatically, aligning on index in case of pandas objects\u001b[0m\u001b[0;34m\u001b[0m\u001b[0;34m\u001b[0m\u001b[0;34m\u001b[0m\u001b[0m\n\u001b[0;32m--> 927\u001b[0;31m         \u001b[0mplot_data\u001b[0m \u001b[0;34m=\u001b[0m \u001b[0mpd\u001b[0m\u001b[0;34m.\u001b[0m\u001b[0mDataFrame\u001b[0m\u001b[0;34m(\u001b[0m\u001b[0mplot_data\u001b[0m\u001b[0;34m)\u001b[0m\u001b[0;34m\u001b[0m\u001b[0;34m\u001b[0m\u001b[0m\n\u001b[0m\u001b[1;32m    928\u001b[0m \u001b[0;34m\u001b[0m\u001b[0m\n\u001b[1;32m    929\u001b[0m         \u001b[0;31m# Reduce the variables dictionary to fields with valid data\u001b[0m\u001b[0;34m\u001b[0m\u001b[0;34m\u001b[0m\u001b[0;34m\u001b[0m\u001b[0m\n",
            "\u001b[0;32m/usr/local/lib/python3.8/dist-packages/pandas/core/frame.py\u001b[0m in \u001b[0;36m__init__\u001b[0;34m(self, data, index, columns, dtype, copy)\u001b[0m\n\u001b[1;32m    612\u001b[0m         \u001b[0;32melif\u001b[0m \u001b[0misinstance\u001b[0m\u001b[0;34m(\u001b[0m\u001b[0mdata\u001b[0m\u001b[0;34m,\u001b[0m \u001b[0mdict\u001b[0m\u001b[0;34m)\u001b[0m\u001b[0;34m:\u001b[0m\u001b[0;34m\u001b[0m\u001b[0;34m\u001b[0m\u001b[0m\n\u001b[1;32m    613\u001b[0m             \u001b[0;31m# GH#38939 de facto copy defaults to False only in non-dict cases\u001b[0m\u001b[0;34m\u001b[0m\u001b[0;34m\u001b[0m\u001b[0;34m\u001b[0m\u001b[0m\n\u001b[0;32m--> 614\u001b[0;31m             \u001b[0mmgr\u001b[0m \u001b[0;34m=\u001b[0m \u001b[0mdict_to_mgr\u001b[0m\u001b[0;34m(\u001b[0m\u001b[0mdata\u001b[0m\u001b[0;34m,\u001b[0m \u001b[0mindex\u001b[0m\u001b[0;34m,\u001b[0m \u001b[0mcolumns\u001b[0m\u001b[0;34m,\u001b[0m \u001b[0mdtype\u001b[0m\u001b[0;34m=\u001b[0m\u001b[0mdtype\u001b[0m\u001b[0;34m,\u001b[0m \u001b[0mcopy\u001b[0m\u001b[0;34m=\u001b[0m\u001b[0mcopy\u001b[0m\u001b[0;34m,\u001b[0m \u001b[0mtyp\u001b[0m\u001b[0;34m=\u001b[0m\u001b[0mmanager\u001b[0m\u001b[0;34m)\u001b[0m\u001b[0;34m\u001b[0m\u001b[0;34m\u001b[0m\u001b[0m\n\u001b[0m\u001b[1;32m    615\u001b[0m         \u001b[0;32melif\u001b[0m \u001b[0misinstance\u001b[0m\u001b[0;34m(\u001b[0m\u001b[0mdata\u001b[0m\u001b[0;34m,\u001b[0m \u001b[0mma\u001b[0m\u001b[0;34m.\u001b[0m\u001b[0mMaskedArray\u001b[0m\u001b[0;34m)\u001b[0m\u001b[0;34m:\u001b[0m\u001b[0;34m\u001b[0m\u001b[0;34m\u001b[0m\u001b[0m\n\u001b[1;32m    616\u001b[0m             \u001b[0;32mimport\u001b[0m \u001b[0mnumpy\u001b[0m\u001b[0;34m.\u001b[0m\u001b[0mma\u001b[0m\u001b[0;34m.\u001b[0m\u001b[0mmrecords\u001b[0m \u001b[0;32mas\u001b[0m \u001b[0mmrecords\u001b[0m\u001b[0;34m\u001b[0m\u001b[0;34m\u001b[0m\u001b[0m\n",
            "\u001b[0;32m/usr/local/lib/python3.8/dist-packages/pandas/core/internals/construction.py\u001b[0m in \u001b[0;36mdict_to_mgr\u001b[0;34m(data, index, columns, dtype, typ, copy)\u001b[0m\n\u001b[1;32m    462\u001b[0m         \u001b[0;31m# TODO: can we get rid of the dt64tz special case above?\u001b[0m\u001b[0;34m\u001b[0m\u001b[0;34m\u001b[0m\u001b[0;34m\u001b[0m\u001b[0m\n\u001b[1;32m    463\u001b[0m \u001b[0;34m\u001b[0m\u001b[0m\n\u001b[0;32m--> 464\u001b[0;31m     return arrays_to_mgr(\n\u001b[0m\u001b[1;32m    465\u001b[0m         \u001b[0marrays\u001b[0m\u001b[0;34m,\u001b[0m \u001b[0mdata_names\u001b[0m\u001b[0;34m,\u001b[0m \u001b[0mindex\u001b[0m\u001b[0;34m,\u001b[0m \u001b[0mcolumns\u001b[0m\u001b[0;34m,\u001b[0m \u001b[0mdtype\u001b[0m\u001b[0;34m=\u001b[0m\u001b[0mdtype\u001b[0m\u001b[0;34m,\u001b[0m \u001b[0mtyp\u001b[0m\u001b[0;34m=\u001b[0m\u001b[0mtyp\u001b[0m\u001b[0;34m,\u001b[0m \u001b[0mconsolidate\u001b[0m\u001b[0;34m=\u001b[0m\u001b[0mcopy\u001b[0m\u001b[0;34m\u001b[0m\u001b[0;34m\u001b[0m\u001b[0m\n\u001b[1;32m    466\u001b[0m     )\n",
            "\u001b[0;32m/usr/local/lib/python3.8/dist-packages/pandas/core/internals/construction.py\u001b[0m in \u001b[0;36marrays_to_mgr\u001b[0;34m(arrays, arr_names, index, columns, dtype, verify_integrity, typ, consolidate)\u001b[0m\n\u001b[1;32m    117\u001b[0m         \u001b[0;31m# figure out the index, if necessary\u001b[0m\u001b[0;34m\u001b[0m\u001b[0;34m\u001b[0m\u001b[0;34m\u001b[0m\u001b[0m\n\u001b[1;32m    118\u001b[0m         \u001b[0;32mif\u001b[0m \u001b[0mindex\u001b[0m \u001b[0;32mis\u001b[0m \u001b[0;32mNone\u001b[0m\u001b[0;34m:\u001b[0m\u001b[0;34m\u001b[0m\u001b[0;34m\u001b[0m\u001b[0m\n\u001b[0;32m--> 119\u001b[0;31m             \u001b[0mindex\u001b[0m \u001b[0;34m=\u001b[0m \u001b[0m_extract_index\u001b[0m\u001b[0;34m(\u001b[0m\u001b[0marrays\u001b[0m\u001b[0;34m)\u001b[0m\u001b[0;34m\u001b[0m\u001b[0;34m\u001b[0m\u001b[0m\n\u001b[0m\u001b[1;32m    120\u001b[0m         \u001b[0;32melse\u001b[0m\u001b[0;34m:\u001b[0m\u001b[0;34m\u001b[0m\u001b[0;34m\u001b[0m\u001b[0m\n\u001b[1;32m    121\u001b[0m             \u001b[0mindex\u001b[0m \u001b[0;34m=\u001b[0m \u001b[0mensure_index\u001b[0m\u001b[0;34m(\u001b[0m\u001b[0mindex\u001b[0m\u001b[0;34m)\u001b[0m\u001b[0;34m\u001b[0m\u001b[0;34m\u001b[0m\u001b[0m\n",
            "\u001b[0;32m/usr/local/lib/python3.8/dist-packages/pandas/core/internals/construction.py\u001b[0m in \u001b[0;36m_extract_index\u001b[0;34m(data)\u001b[0m\n\u001b[1;32m    623\u001b[0m \u001b[0;34m\u001b[0m\u001b[0m\n\u001b[1;32m    624\u001b[0m         \u001b[0;32mif\u001b[0m \u001b[0;32mnot\u001b[0m \u001b[0mindexes\u001b[0m \u001b[0;32mand\u001b[0m \u001b[0;32mnot\u001b[0m \u001b[0mraw_lengths\u001b[0m\u001b[0;34m:\u001b[0m\u001b[0;34m\u001b[0m\u001b[0;34m\u001b[0m\u001b[0m\n\u001b[0;32m--> 625\u001b[0;31m             \u001b[0;32mraise\u001b[0m \u001b[0mValueError\u001b[0m\u001b[0;34m(\u001b[0m\u001b[0;34m\"If using all scalar values, you must pass an index\"\u001b[0m\u001b[0;34m)\u001b[0m\u001b[0;34m\u001b[0m\u001b[0;34m\u001b[0m\u001b[0m\n\u001b[0m\u001b[1;32m    626\u001b[0m \u001b[0;34m\u001b[0m\u001b[0m\n\u001b[1;32m    627\u001b[0m         \u001b[0;32mif\u001b[0m \u001b[0mhave_series\u001b[0m\u001b[0;34m:\u001b[0m\u001b[0;34m\u001b[0m\u001b[0;34m\u001b[0m\u001b[0m\n",
            "\u001b[0;31mValueError\u001b[0m: If using all scalar values, you must pass an index"
          ]
        }
      ]
    },
    {
      "cell_type": "markdown",
      "source": [
        "Okay, this shouldnt be an error, cause the dataframe only has $1$ column(s), so why this error occured. Lets try to find out the shape of our array"
      ],
      "metadata": {
        "id": "pP7xp0jPljXh"
      }
    },
    {
      "cell_type": "code",
      "source": [
        "new_array.shape"
      ],
      "metadata": {
        "colab": {
          "base_uri": "https://localhost:8080/"
        },
        "id": "LZ10DI-Nl33v",
        "outputId": "22f9e797-7b2c-457b-f8a3-db13b998111b"
      },
      "execution_count": 70,
      "outputs": [
        {
          "output_type": "execute_result",
          "data": {
            "text/plain": [
              "(892, 1)"
            ]
          },
          "metadata": {},
          "execution_count": 70
        }
      ]
    },
    {
      "cell_type": "markdown",
      "source": [
        "Wait Wait Wait, there shoudl be $891$ but there are $892$, but how???\n",
        "\n",
        "The answer is we are horizontally stacking the values, in an empty array, (not replacing them), So there is a garbage value at the begining of this array, which needs to be removed "
      ],
      "metadata": {
        "id": "j027dnkjmQ7x"
      }
    },
    {
      "cell_type": "code",
      "source": [
        "def log_output(value):\n",
        "    return np.log1p(value)\n",
        "\n",
        "new_array = np.empty(shape = (1 , 1))\n",
        "for i in sample_data:\n",
        "    new_array = np.vstack([new_array , log_output(i)])\n",
        "\n",
        "new_array = np.delete(new_array , 0 , 0)\n"
      ],
      "metadata": {
        "id": "B6xV0uR7myY3"
      },
      "execution_count": 71,
      "outputs": []
    },
    {
      "cell_type": "markdown",
      "source": [
        "And now the shape should be fine "
      ],
      "metadata": {
        "id": "AURkdYWum6eW"
      }
    },
    {
      "cell_type": "code",
      "source": [
        "new_array.shape"
      ],
      "metadata": {
        "colab": {
          "base_uri": "https://localhost:8080/"
        },
        "id": "GXBbSae5ovTI",
        "outputId": "c47aacee-444c-4773-eb19-62cd2ae7938a"
      },
      "execution_count": 72,
      "outputs": [
        {
          "output_type": "execute_result",
          "data": {
            "text/plain": [
              "(891, 1)"
            ]
          },
          "metadata": {},
          "execution_count": 72
        }
      ]
    },
    {
      "cell_type": "code",
      "source": [
        "print(\"Skew is : \" , pd.DataFrame(new_array).skew())\n",
        "sns.kdeplot(pd.DataFrame(new_array))"
      ],
      "metadata": {
        "colab": {
          "base_uri": "https://localhost:8080/",
          "height": 363
        },
        "id": "YyvzJvDmo6EW",
        "outputId": "49de74f9-557b-47fd-e21e-b6f90dd8fb8d"
      },
      "execution_count": 73,
      "outputs": [
        {
          "output_type": "stream",
          "name": "stdout",
          "text": [
            "Skew is :  0    0.394928\n",
            "dtype: float64\n"
          ]
        },
        {
          "output_type": "error",
          "ename": "ValueError",
          "evalue": "ignored",
          "traceback": [
            "\u001b[0;31m---------------------------------------------------------------------------\u001b[0m",
            "\u001b[0;31mValueError\u001b[0m                                Traceback (most recent call last)",
            "\u001b[0;32m<ipython-input-73-d484a4d660e3>\u001b[0m in \u001b[0;36m<module>\u001b[0;34m\u001b[0m\n\u001b[1;32m      1\u001b[0m \u001b[0mprint\u001b[0m\u001b[0;34m(\u001b[0m\u001b[0;34m\"Skew is : \"\u001b[0m \u001b[0;34m,\u001b[0m \u001b[0mpd\u001b[0m\u001b[0;34m.\u001b[0m\u001b[0mDataFrame\u001b[0m\u001b[0;34m(\u001b[0m\u001b[0mnew_array\u001b[0m\u001b[0;34m)\u001b[0m\u001b[0;34m.\u001b[0m\u001b[0mskew\u001b[0m\u001b[0;34m(\u001b[0m\u001b[0;34m)\u001b[0m\u001b[0;34m)\u001b[0m\u001b[0;34m\u001b[0m\u001b[0;34m\u001b[0m\u001b[0m\n\u001b[0;32m----> 2\u001b[0;31m \u001b[0msns\u001b[0m\u001b[0;34m.\u001b[0m\u001b[0mkdeplot\u001b[0m\u001b[0;34m(\u001b[0m\u001b[0mpd\u001b[0m\u001b[0;34m.\u001b[0m\u001b[0mDataFrame\u001b[0m\u001b[0;34m(\u001b[0m\u001b[0mnew_array\u001b[0m\u001b[0;34m)\u001b[0m\u001b[0;34m)\u001b[0m\u001b[0;34m\u001b[0m\u001b[0;34m\u001b[0m\u001b[0m\n\u001b[0m",
            "\u001b[0;32m/usr/local/lib/python3.8/dist-packages/seaborn/_decorators.py\u001b[0m in \u001b[0;36minner_f\u001b[0;34m(*args, **kwargs)\u001b[0m\n\u001b[1;32m     44\u001b[0m             )\n\u001b[1;32m     45\u001b[0m         \u001b[0mkwargs\u001b[0m\u001b[0;34m.\u001b[0m\u001b[0mupdate\u001b[0m\u001b[0;34m(\u001b[0m\u001b[0;34m{\u001b[0m\u001b[0mk\u001b[0m\u001b[0;34m:\u001b[0m \u001b[0marg\u001b[0m \u001b[0;32mfor\u001b[0m \u001b[0mk\u001b[0m\u001b[0;34m,\u001b[0m \u001b[0marg\u001b[0m \u001b[0;32min\u001b[0m \u001b[0mzip\u001b[0m\u001b[0;34m(\u001b[0m\u001b[0msig\u001b[0m\u001b[0;34m.\u001b[0m\u001b[0mparameters\u001b[0m\u001b[0;34m,\u001b[0m \u001b[0margs\u001b[0m\u001b[0;34m)\u001b[0m\u001b[0;34m}\u001b[0m\u001b[0;34m)\u001b[0m\u001b[0;34m\u001b[0m\u001b[0;34m\u001b[0m\u001b[0m\n\u001b[0;32m---> 46\u001b[0;31m         \u001b[0;32mreturn\u001b[0m \u001b[0mf\u001b[0m\u001b[0;34m(\u001b[0m\u001b[0;34m**\u001b[0m\u001b[0mkwargs\u001b[0m\u001b[0;34m)\u001b[0m\u001b[0;34m\u001b[0m\u001b[0;34m\u001b[0m\u001b[0m\n\u001b[0m\u001b[1;32m     47\u001b[0m     \u001b[0;32mreturn\u001b[0m \u001b[0minner_f\u001b[0m\u001b[0;34m\u001b[0m\u001b[0;34m\u001b[0m\u001b[0m\n\u001b[1;32m     48\u001b[0m \u001b[0;34m\u001b[0m\u001b[0m\n",
            "\u001b[0;32m/usr/local/lib/python3.8/dist-packages/seaborn/distributions.py\u001b[0m in \u001b[0;36mkdeplot\u001b[0;34m(x, y, shade, vertical, kernel, bw, gridsize, cut, clip, legend, cumulative, shade_lowest, cbar, cbar_ax, cbar_kws, ax, weights, hue, palette, hue_order, hue_norm, multiple, common_norm, common_grid, levels, thresh, bw_method, bw_adjust, log_scale, color, fill, data, data2, warn_singular, **kwargs)\u001b[0m\n\u001b[1;32m   1736\u001b[0m     \u001b[0;31m# - - - - - - - - - - - - - - - - - - - - - - - - - - - - - - - - - - - - #\u001b[0m\u001b[0;34m\u001b[0m\u001b[0;34m\u001b[0m\u001b[0;34m\u001b[0m\u001b[0m\n\u001b[1;32m   1737\u001b[0m \u001b[0;34m\u001b[0m\u001b[0m\n\u001b[0;32m-> 1738\u001b[0;31m     p = _DistributionPlotter(\n\u001b[0m\u001b[1;32m   1739\u001b[0m         \u001b[0mdata\u001b[0m\u001b[0;34m=\u001b[0m\u001b[0mdata\u001b[0m\u001b[0;34m,\u001b[0m\u001b[0;34m\u001b[0m\u001b[0;34m\u001b[0m\u001b[0m\n\u001b[1;32m   1740\u001b[0m         \u001b[0mvariables\u001b[0m\u001b[0;34m=\u001b[0m\u001b[0m_DistributionPlotter\u001b[0m\u001b[0;34m.\u001b[0m\u001b[0mget_semantics\u001b[0m\u001b[0;34m(\u001b[0m\u001b[0mlocals\u001b[0m\u001b[0;34m(\u001b[0m\u001b[0;34m)\u001b[0m\u001b[0;34m)\u001b[0m\u001b[0;34m,\u001b[0m\u001b[0;34m\u001b[0m\u001b[0;34m\u001b[0m\u001b[0m\n",
            "\u001b[0;32m/usr/local/lib/python3.8/dist-packages/seaborn/distributions.py\u001b[0m in \u001b[0;36m__init__\u001b[0;34m(self, data, variables)\u001b[0m\n\u001b[1;32m    109\u001b[0m     ):\n\u001b[1;32m    110\u001b[0m \u001b[0;34m\u001b[0m\u001b[0m\n\u001b[0;32m--> 111\u001b[0;31m         \u001b[0msuper\u001b[0m\u001b[0;34m(\u001b[0m\u001b[0;34m)\u001b[0m\u001b[0;34m.\u001b[0m\u001b[0m__init__\u001b[0m\u001b[0;34m(\u001b[0m\u001b[0mdata\u001b[0m\u001b[0;34m=\u001b[0m\u001b[0mdata\u001b[0m\u001b[0;34m,\u001b[0m \u001b[0mvariables\u001b[0m\u001b[0;34m=\u001b[0m\u001b[0mvariables\u001b[0m\u001b[0;34m)\u001b[0m\u001b[0;34m\u001b[0m\u001b[0;34m\u001b[0m\u001b[0m\n\u001b[0m\u001b[1;32m    112\u001b[0m \u001b[0;34m\u001b[0m\u001b[0m\n\u001b[1;32m    113\u001b[0m     \u001b[0;34m@\u001b[0m\u001b[0mproperty\u001b[0m\u001b[0;34m\u001b[0m\u001b[0;34m\u001b[0m\u001b[0m\n",
            "\u001b[0;32m/usr/local/lib/python3.8/dist-packages/seaborn/_core.py\u001b[0m in \u001b[0;36m__init__\u001b[0;34m(self, data, variables)\u001b[0m\n\u001b[1;32m    603\u001b[0m     \u001b[0;32mdef\u001b[0m \u001b[0m__init__\u001b[0m\u001b[0;34m(\u001b[0m\u001b[0mself\u001b[0m\u001b[0;34m,\u001b[0m \u001b[0mdata\u001b[0m\u001b[0;34m=\u001b[0m\u001b[0;32mNone\u001b[0m\u001b[0;34m,\u001b[0m \u001b[0mvariables\u001b[0m\u001b[0;34m=\u001b[0m\u001b[0;34m{\u001b[0m\u001b[0;34m}\u001b[0m\u001b[0;34m)\u001b[0m\u001b[0;34m:\u001b[0m\u001b[0;34m\u001b[0m\u001b[0;34m\u001b[0m\u001b[0m\n\u001b[1;32m    604\u001b[0m \u001b[0;34m\u001b[0m\u001b[0m\n\u001b[0;32m--> 605\u001b[0;31m         \u001b[0mself\u001b[0m\u001b[0;34m.\u001b[0m\u001b[0massign_variables\u001b[0m\u001b[0;34m(\u001b[0m\u001b[0mdata\u001b[0m\u001b[0;34m,\u001b[0m \u001b[0mvariables\u001b[0m\u001b[0;34m)\u001b[0m\u001b[0;34m\u001b[0m\u001b[0;34m\u001b[0m\u001b[0m\n\u001b[0m\u001b[1;32m    606\u001b[0m \u001b[0;34m\u001b[0m\u001b[0m\n\u001b[1;32m    607\u001b[0m         \u001b[0;32mfor\u001b[0m \u001b[0mvar\u001b[0m\u001b[0;34m,\u001b[0m \u001b[0mcls\u001b[0m \u001b[0;32min\u001b[0m \u001b[0mself\u001b[0m\u001b[0;34m.\u001b[0m\u001b[0m_semantic_mappings\u001b[0m\u001b[0;34m.\u001b[0m\u001b[0mitems\u001b[0m\u001b[0;34m(\u001b[0m\u001b[0;34m)\u001b[0m\u001b[0;34m:\u001b[0m\u001b[0;34m\u001b[0m\u001b[0;34m\u001b[0m\u001b[0m\n",
            "\u001b[0;32m/usr/local/lib/python3.8/dist-packages/seaborn/_core.py\u001b[0m in \u001b[0;36massign_variables\u001b[0;34m(self, data, variables)\u001b[0m\n\u001b[1;32m    666\u001b[0m         \u001b[0;32melse\u001b[0m\u001b[0;34m:\u001b[0m\u001b[0;34m\u001b[0m\u001b[0;34m\u001b[0m\u001b[0m\n\u001b[1;32m    667\u001b[0m             \u001b[0mself\u001b[0m\u001b[0;34m.\u001b[0m\u001b[0minput_format\u001b[0m \u001b[0;34m=\u001b[0m \u001b[0;34m\"long\"\u001b[0m\u001b[0;34m\u001b[0m\u001b[0;34m\u001b[0m\u001b[0m\n\u001b[0;32m--> 668\u001b[0;31m             plot_data, variables = self._assign_variables_longform(\n\u001b[0m\u001b[1;32m    669\u001b[0m                 \u001b[0mdata\u001b[0m\u001b[0;34m,\u001b[0m \u001b[0;34m**\u001b[0m\u001b[0mvariables\u001b[0m\u001b[0;34m,\u001b[0m\u001b[0;34m\u001b[0m\u001b[0;34m\u001b[0m\u001b[0m\n\u001b[1;32m    670\u001b[0m             )\n",
            "\u001b[0;32m/usr/local/lib/python3.8/dist-packages/seaborn/_core.py\u001b[0m in \u001b[0;36m_assign_variables_longform\u001b[0;34m(self, data, **kwargs)\u001b[0m\n\u001b[1;32m    925\u001b[0m         \u001b[0;31m# Construct a tidy plot DataFrame. This will convert a number of\u001b[0m\u001b[0;34m\u001b[0m\u001b[0;34m\u001b[0m\u001b[0;34m\u001b[0m\u001b[0m\n\u001b[1;32m    926\u001b[0m         \u001b[0;31m# types automatically, aligning on index in case of pandas objects\u001b[0m\u001b[0;34m\u001b[0m\u001b[0;34m\u001b[0m\u001b[0;34m\u001b[0m\u001b[0m\n\u001b[0;32m--> 927\u001b[0;31m         \u001b[0mplot_data\u001b[0m \u001b[0;34m=\u001b[0m \u001b[0mpd\u001b[0m\u001b[0;34m.\u001b[0m\u001b[0mDataFrame\u001b[0m\u001b[0;34m(\u001b[0m\u001b[0mplot_data\u001b[0m\u001b[0;34m)\u001b[0m\u001b[0;34m\u001b[0m\u001b[0;34m\u001b[0m\u001b[0m\n\u001b[0m\u001b[1;32m    928\u001b[0m \u001b[0;34m\u001b[0m\u001b[0m\n\u001b[1;32m    929\u001b[0m         \u001b[0;31m# Reduce the variables dictionary to fields with valid data\u001b[0m\u001b[0;34m\u001b[0m\u001b[0;34m\u001b[0m\u001b[0;34m\u001b[0m\u001b[0m\n",
            "\u001b[0;32m/usr/local/lib/python3.8/dist-packages/pandas/core/frame.py\u001b[0m in \u001b[0;36m__init__\u001b[0;34m(self, data, index, columns, dtype, copy)\u001b[0m\n\u001b[1;32m    612\u001b[0m         \u001b[0;32melif\u001b[0m \u001b[0misinstance\u001b[0m\u001b[0;34m(\u001b[0m\u001b[0mdata\u001b[0m\u001b[0;34m,\u001b[0m \u001b[0mdict\u001b[0m\u001b[0;34m)\u001b[0m\u001b[0;34m:\u001b[0m\u001b[0;34m\u001b[0m\u001b[0;34m\u001b[0m\u001b[0m\n\u001b[1;32m    613\u001b[0m             \u001b[0;31m# GH#38939 de facto copy defaults to False only in non-dict cases\u001b[0m\u001b[0;34m\u001b[0m\u001b[0;34m\u001b[0m\u001b[0;34m\u001b[0m\u001b[0m\n\u001b[0;32m--> 614\u001b[0;31m             \u001b[0mmgr\u001b[0m \u001b[0;34m=\u001b[0m \u001b[0mdict_to_mgr\u001b[0m\u001b[0;34m(\u001b[0m\u001b[0mdata\u001b[0m\u001b[0;34m,\u001b[0m \u001b[0mindex\u001b[0m\u001b[0;34m,\u001b[0m \u001b[0mcolumns\u001b[0m\u001b[0;34m,\u001b[0m \u001b[0mdtype\u001b[0m\u001b[0;34m=\u001b[0m\u001b[0mdtype\u001b[0m\u001b[0;34m,\u001b[0m \u001b[0mcopy\u001b[0m\u001b[0;34m=\u001b[0m\u001b[0mcopy\u001b[0m\u001b[0;34m,\u001b[0m \u001b[0mtyp\u001b[0m\u001b[0;34m=\u001b[0m\u001b[0mmanager\u001b[0m\u001b[0;34m)\u001b[0m\u001b[0;34m\u001b[0m\u001b[0;34m\u001b[0m\u001b[0m\n\u001b[0m\u001b[1;32m    615\u001b[0m         \u001b[0;32melif\u001b[0m \u001b[0misinstance\u001b[0m\u001b[0;34m(\u001b[0m\u001b[0mdata\u001b[0m\u001b[0;34m,\u001b[0m \u001b[0mma\u001b[0m\u001b[0;34m.\u001b[0m\u001b[0mMaskedArray\u001b[0m\u001b[0;34m)\u001b[0m\u001b[0;34m:\u001b[0m\u001b[0;34m\u001b[0m\u001b[0;34m\u001b[0m\u001b[0m\n\u001b[1;32m    616\u001b[0m             \u001b[0;32mimport\u001b[0m \u001b[0mnumpy\u001b[0m\u001b[0;34m.\u001b[0m\u001b[0mma\u001b[0m\u001b[0;34m.\u001b[0m\u001b[0mmrecords\u001b[0m \u001b[0;32mas\u001b[0m \u001b[0mmrecords\u001b[0m\u001b[0;34m\u001b[0m\u001b[0;34m\u001b[0m\u001b[0m\n",
            "\u001b[0;32m/usr/local/lib/python3.8/dist-packages/pandas/core/internals/construction.py\u001b[0m in \u001b[0;36mdict_to_mgr\u001b[0;34m(data, index, columns, dtype, typ, copy)\u001b[0m\n\u001b[1;32m    462\u001b[0m         \u001b[0;31m# TODO: can we get rid of the dt64tz special case above?\u001b[0m\u001b[0;34m\u001b[0m\u001b[0;34m\u001b[0m\u001b[0;34m\u001b[0m\u001b[0m\n\u001b[1;32m    463\u001b[0m \u001b[0;34m\u001b[0m\u001b[0m\n\u001b[0;32m--> 464\u001b[0;31m     return arrays_to_mgr(\n\u001b[0m\u001b[1;32m    465\u001b[0m         \u001b[0marrays\u001b[0m\u001b[0;34m,\u001b[0m \u001b[0mdata_names\u001b[0m\u001b[0;34m,\u001b[0m \u001b[0mindex\u001b[0m\u001b[0;34m,\u001b[0m \u001b[0mcolumns\u001b[0m\u001b[0;34m,\u001b[0m \u001b[0mdtype\u001b[0m\u001b[0;34m=\u001b[0m\u001b[0mdtype\u001b[0m\u001b[0;34m,\u001b[0m \u001b[0mtyp\u001b[0m\u001b[0;34m=\u001b[0m\u001b[0mtyp\u001b[0m\u001b[0;34m,\u001b[0m \u001b[0mconsolidate\u001b[0m\u001b[0;34m=\u001b[0m\u001b[0mcopy\u001b[0m\u001b[0;34m\u001b[0m\u001b[0;34m\u001b[0m\u001b[0m\n\u001b[1;32m    466\u001b[0m     )\n",
            "\u001b[0;32m/usr/local/lib/python3.8/dist-packages/pandas/core/internals/construction.py\u001b[0m in \u001b[0;36marrays_to_mgr\u001b[0;34m(arrays, arr_names, index, columns, dtype, verify_integrity, typ, consolidate)\u001b[0m\n\u001b[1;32m    117\u001b[0m         \u001b[0;31m# figure out the index, if necessary\u001b[0m\u001b[0;34m\u001b[0m\u001b[0;34m\u001b[0m\u001b[0;34m\u001b[0m\u001b[0m\n\u001b[1;32m    118\u001b[0m         \u001b[0;32mif\u001b[0m \u001b[0mindex\u001b[0m \u001b[0;32mis\u001b[0m \u001b[0;32mNone\u001b[0m\u001b[0;34m:\u001b[0m\u001b[0;34m\u001b[0m\u001b[0;34m\u001b[0m\u001b[0m\n\u001b[0;32m--> 119\u001b[0;31m             \u001b[0mindex\u001b[0m \u001b[0;34m=\u001b[0m \u001b[0m_extract_index\u001b[0m\u001b[0;34m(\u001b[0m\u001b[0marrays\u001b[0m\u001b[0;34m)\u001b[0m\u001b[0;34m\u001b[0m\u001b[0;34m\u001b[0m\u001b[0m\n\u001b[0m\u001b[1;32m    120\u001b[0m         \u001b[0;32melse\u001b[0m\u001b[0;34m:\u001b[0m\u001b[0;34m\u001b[0m\u001b[0;34m\u001b[0m\u001b[0m\n\u001b[1;32m    121\u001b[0m             \u001b[0mindex\u001b[0m \u001b[0;34m=\u001b[0m \u001b[0mensure_index\u001b[0m\u001b[0;34m(\u001b[0m\u001b[0mindex\u001b[0m\u001b[0;34m)\u001b[0m\u001b[0;34m\u001b[0m\u001b[0;34m\u001b[0m\u001b[0m\n",
            "\u001b[0;32m/usr/local/lib/python3.8/dist-packages/pandas/core/internals/construction.py\u001b[0m in \u001b[0;36m_extract_index\u001b[0;34m(data)\u001b[0m\n\u001b[1;32m    623\u001b[0m \u001b[0;34m\u001b[0m\u001b[0m\n\u001b[1;32m    624\u001b[0m         \u001b[0;32mif\u001b[0m \u001b[0;32mnot\u001b[0m \u001b[0mindexes\u001b[0m \u001b[0;32mand\u001b[0m \u001b[0;32mnot\u001b[0m \u001b[0mraw_lengths\u001b[0m\u001b[0;34m:\u001b[0m\u001b[0;34m\u001b[0m\u001b[0;34m\u001b[0m\u001b[0m\n\u001b[0;32m--> 625\u001b[0;31m             \u001b[0;32mraise\u001b[0m \u001b[0mValueError\u001b[0m\u001b[0;34m(\u001b[0m\u001b[0;34m\"If using all scalar values, you must pass an index\"\u001b[0m\u001b[0;34m)\u001b[0m\u001b[0;34m\u001b[0m\u001b[0;34m\u001b[0m\u001b[0m\n\u001b[0m\u001b[1;32m    626\u001b[0m \u001b[0;34m\u001b[0m\u001b[0m\n\u001b[1;32m    627\u001b[0m         \u001b[0;32mif\u001b[0m \u001b[0mhave_series\u001b[0m\u001b[0;34m:\u001b[0m\u001b[0;34m\u001b[0m\u001b[0;34m\u001b[0m\u001b[0m\n",
            "\u001b[0;31mValueError\u001b[0m: If using all scalar values, you must pass an index"
          ]
        }
      ]
    },
    {
      "cell_type": "markdown",
      "source": [
        "Oops the same error again, but we have fixed the shape, so why does this exist. \n",
        "This is because we are actually trying to acces an element that cannot be accesed with the information we are giving, we need to give it more information, adding an index information will be enough for this one "
      ],
      "metadata": {
        "id": "KCEcG5M5o9y2"
      }
    },
    {
      "cell_type": "code",
      "source": [
        "print(\"Skew is : \" , pd.DataFrame(new_array).skew())\n",
        "sns.kdeplot(pd.DataFrame(new_array)[0])"
      ],
      "metadata": {
        "colab": {
          "base_uri": "https://localhost:8080/",
          "height": 331
        },
        "id": "6O-7UDgqkNIg",
        "outputId": "c305e34e-db03-42de-ca0e-43d5b6ff3345"
      },
      "execution_count": 74,
      "outputs": [
        {
          "output_type": "stream",
          "name": "stdout",
          "text": [
            "Skew is :  0    0.394928\n",
            "dtype: float64\n"
          ]
        },
        {
          "output_type": "execute_result",
          "data": {
            "text/plain": [
              "<AxesSubplot:xlabel='0', ylabel='Density'>"
            ]
          },
          "metadata": {},
          "execution_count": 74
        },
        {
          "output_type": "display_data",
          "data": {
            "text/plain": [
              "<Figure size 432x288 with 1 Axes>"
            ],
            "image/png": "[encoded data removed]"
          },
          "metadata": {
            "needs_background": "light"
          }
        }
      ]
    },
    {
      "cell_type": "markdown",
      "source": [
        "Notie how the graph changed, and the skewness is close to zero"
      ],
      "metadata": {
        "id": "ZJwrhq8Fpdf9"
      }
    },
    {
      "cell_type": "markdown",
      "source": [
        "Now as we ahve created our transformer, we will be adding some functionalities to the transformer like \n",
        "* iterating over a list\n",
        "\n",
        "For this dummy we will be adding the `Age` column too. "
      ],
      "metadata": {
        "id": "Q4Ls-8QgprYs"
      }
    },
    {
      "cell_type": "code",
      "source": [
        "sample_data = data[[\"Fare\" , \"Age\"]]"
      ],
      "metadata": {
        "id": "WmDEVjR_qMWX"
      },
      "execution_count": 75,
      "outputs": []
    },
    {
      "cell_type": "code",
      "source": [
        "for i in sample_data.columns:\n",
        "    print(\"#################\")\n",
        "    print(\"Skewness is : \" , sample_data[i].skew())\n",
        "    sns.kdeplot(sample_data[i])\n",
        "    plt.show()"
      ],
      "metadata": {
        "id": "4MWvVjqTqTkU",
        "colab": {
          "base_uri": "https://localhost:8080/",
          "height": 610
        },
        "outputId": "77398bab-6682-43db-b37d-f08e18d878e0"
      },
      "execution_count": 76,
      "outputs": [
        {
          "output_type": "stream",
          "name": "stdout",
          "text": [
            "#################\n",
            "Skewness is :  4.787316519674893\n"
          ]
        },
        {
          "output_type": "display_data",
          "data": {
            "text/plain": [
              "<Figure size 432x288 with 1 Axes>"
            ],
            "image/png": "[encoded data removed]"
          },
          "metadata": {
            "needs_background": "light"
          }
        },
        {
          "output_type": "stream",
          "name": "stdout",
          "text": [
            "#################\n",
            "Skewness is :  0.38910778230082704\n"
          ]
        },
        {
          "output_type": "display_data",
          "data": {
            "text/plain": [
              "<Figure size 432x288 with 1 Axes>"
            ],
            "image/png": "[encoded data removed]"
          },
          "metadata": {
            "needs_background": "light"
          }
        }
      ]
    },
    {
      "cell_type": "markdown",
      "source": [
        "As we can see the `skewness` of the column `age` is already good, but it will still help to improve our transformer. Lets try to iterate firstly over these columns"
      ],
      "metadata": {
        "id": "akDmiiYgx4g6"
      }
    },
    {
      "cell_type": "code",
      "source": [
        "for i in sample_data:\n",
        "    print(i)"
      ],
      "metadata": {
        "colab": {
          "base_uri": "https://localhost:8080/"
        },
        "id": "_jgkDhRUyB8_",
        "outputId": "c8895732-c5d8-4d91-f9d8-24d3d8f08383"
      },
      "execution_count": 77,
      "outputs": [
        {
          "output_type": "stream",
          "name": "stdout",
          "text": [
            "Fare\n",
            "Age\n"
          ]
        }
      ]
    },
    {
      "cell_type": "markdown",
      "source": [
        "Now we will add both our codes "
      ],
      "metadata": {
        "id": "TKJxp1ofyaJQ"
      }
    },
    {
      "cell_type": "code",
      "source": [
        "def log_output(value):\n",
        "    return np.log1p(value)\n",
        "\n",
        "for i in sample_data:\n",
        "    new_array = np.empty(shape = (1 , 1))\n",
        "    for j in sample_data[i]:\n",
        "        new_array = np.vstack([new_array , log_output(j)])\n",
        "\n",
        "    new_array = np.delete(new_array , 0 , 0)"
      ],
      "metadata": {
        "id": "YYIWGpBbylfR"
      },
      "execution_count": 78,
      "outputs": []
    },
    {
      "cell_type": "markdown",
      "source": [
        "But there is a problem, we are not actually generating output with two different array, we are just overalpping the output of these two. \n",
        "\n",
        "We need to horizonatally stack the arrays to get an output. For this we will be using `np.hstack` and making a new empty array "
      ],
      "metadata": {
        "id": "Wo4Zdf6uy3_C"
      }
    },
    {
      "cell_type": "code",
      "source": [
        "def log_output(value):\n",
        "    return np.log1p(value)\n",
        "\n",
        "output_array = np.array([])\n",
        "for i in sample_data:\n",
        "    new_array = np.empty(shape = (1 , 1))\n",
        "    for j in sample_data[i]:\n",
        "        new_array = np.vstack([new_array , log_output(j)])\n",
        "\n",
        "    new_array = np.delete(new_array , 0 , 0)\n",
        "\n",
        "    output_array = np.hstack([output_array , new_array])"
      ],
      "metadata": {
        "colab": {
          "base_uri": "https://localhost:8080/",
          "height": 259
        },
        "id": "r3MsEtk3zas-",
        "outputId": "fd44abe5-f570-4068-9ca4-7112ae8aeab8"
      },
      "execution_count": 79,
      "outputs": [
        {
          "output_type": "error",
          "ename": "ValueError",
          "evalue": "ignored",
          "traceback": [
            "\u001b[0;31m---------------------------------------------------------------------------\u001b[0m",
            "\u001b[0;31mValueError\u001b[0m                                Traceback (most recent call last)",
            "\u001b[0;32m<ipython-input-79-2b8b08dee6b9>\u001b[0m in \u001b[0;36m<module>\u001b[0;34m\u001b[0m\n\u001b[1;32m     10\u001b[0m     \u001b[0mnew_array\u001b[0m \u001b[0;34m=\u001b[0m \u001b[0mnp\u001b[0m\u001b[0;34m.\u001b[0m\u001b[0mdelete\u001b[0m\u001b[0;34m(\u001b[0m\u001b[0mnew_array\u001b[0m \u001b[0;34m,\u001b[0m \u001b[0;36m0\u001b[0m \u001b[0;34m,\u001b[0m \u001b[0;36m0\u001b[0m\u001b[0;34m)\u001b[0m\u001b[0;34m\u001b[0m\u001b[0;34m\u001b[0m\u001b[0m\n\u001b[1;32m     11\u001b[0m \u001b[0;34m\u001b[0m\u001b[0m\n\u001b[0;32m---> 12\u001b[0;31m     \u001b[0moutput_array\u001b[0m \u001b[0;34m=\u001b[0m \u001b[0mnp\u001b[0m\u001b[0;34m.\u001b[0m\u001b[0mhstack\u001b[0m\u001b[0;34m(\u001b[0m\u001b[0;34m[\u001b[0m\u001b[0moutput_array\u001b[0m \u001b[0;34m,\u001b[0m \u001b[0mnew_array\u001b[0m\u001b[0;34m]\u001b[0m\u001b[0;34m)\u001b[0m\u001b[0;34m\u001b[0m\u001b[0;34m\u001b[0m\u001b[0m\n\u001b[0m",
            "\u001b[0;32m/usr/local/lib/python3.8/dist-packages/numpy/core/overrides.py\u001b[0m in \u001b[0;36mhstack\u001b[0;34m(*args, **kwargs)\u001b[0m\n",
            "\u001b[0;32m/usr/local/lib/python3.8/dist-packages/numpy/core/shape_base.py\u001b[0m in \u001b[0;36mhstack\u001b[0;34m(tup)\u001b[0m\n\u001b[1;32m    341\u001b[0m     \u001b[0;31m# As a special case, dimension 0 of 1-dimensional arrays is \"horizontal\"\u001b[0m\u001b[0;34m\u001b[0m\u001b[0;34m\u001b[0m\u001b[0;34m\u001b[0m\u001b[0m\n\u001b[1;32m    342\u001b[0m     \u001b[0;32mif\u001b[0m \u001b[0marrs\u001b[0m \u001b[0;32mand\u001b[0m \u001b[0marrs\u001b[0m\u001b[0;34m[\u001b[0m\u001b[0;36m0\u001b[0m\u001b[0;34m]\u001b[0m\u001b[0;34m.\u001b[0m\u001b[0mndim\u001b[0m \u001b[0;34m==\u001b[0m \u001b[0;36m1\u001b[0m\u001b[0;34m:\u001b[0m\u001b[0;34m\u001b[0m\u001b[0;34m\u001b[0m\u001b[0m\n\u001b[0;32m--> 343\u001b[0;31m         \u001b[0;32mreturn\u001b[0m \u001b[0m_nx\u001b[0m\u001b[0;34m.\u001b[0m\u001b[0mconcatenate\u001b[0m\u001b[0;34m(\u001b[0m\u001b[0marrs\u001b[0m\u001b[0;34m,\u001b[0m \u001b[0;36m0\u001b[0m\u001b[0;34m)\u001b[0m\u001b[0;34m\u001b[0m\u001b[0;34m\u001b[0m\u001b[0m\n\u001b[0m\u001b[1;32m    344\u001b[0m     \u001b[0;32melse\u001b[0m\u001b[0;34m:\u001b[0m\u001b[0;34m\u001b[0m\u001b[0;34m\u001b[0m\u001b[0m\n\u001b[1;32m    345\u001b[0m         \u001b[0;32mreturn\u001b[0m \u001b[0m_nx\u001b[0m\u001b[0;34m.\u001b[0m\u001b[0mconcatenate\u001b[0m\u001b[0;34m(\u001b[0m\u001b[0marrs\u001b[0m\u001b[0;34m,\u001b[0m \u001b[0;36m1\u001b[0m\u001b[0;34m)\u001b[0m\u001b[0;34m\u001b[0m\u001b[0;34m\u001b[0m\u001b[0m\n",
            "\u001b[0;32m/usr/local/lib/python3.8/dist-packages/numpy/core/overrides.py\u001b[0m in \u001b[0;36mconcatenate\u001b[0;34m(*args, **kwargs)\u001b[0m\n",
            "\u001b[0;31mValueError\u001b[0m: all the input arrays must have same number of dimensions, but the array at index 0 has 1 dimension(s) and the array at index 1 has 2 dimension(s)"
          ]
        }
      ]
    },
    {
      "cell_type": "markdown",
      "source": [
        "We got the same error as before, for this we just need to change the shape to $(1 , 1)$"
      ],
      "metadata": {
        "id": "6LduBGIpzsby"
      }
    },
    {
      "cell_type": "code",
      "source": [
        "def log_output(value):\n",
        "    return np.log1p(value)\n",
        "\n",
        "output_array = np.empty(shape = (1 , 1))\n",
        "for i in sample_data:\n",
        "    new_array = np.empty(shape = (1 , 1))\n",
        "    for j in sample_data[i]:\n",
        "        new_array = np.vstack([new_array , log_output(j)])\n",
        "\n",
        "    new_array = np.delete(new_array , 0 , 0)\n",
        "\n",
        "    output_array = np.hstack([output_array , new_array])"
      ],
      "metadata": {
        "colab": {
          "base_uri": "https://localhost:8080/",
          "height": 276
        },
        "id": "iQHPj8Zmz4y3",
        "outputId": "3abc3d73-6f4b-4640-c465-321e97868b23"
      },
      "execution_count": 80,
      "outputs": [
        {
          "output_type": "error",
          "ename": "ValueError",
          "evalue": "ignored",
          "traceback": [
            "\u001b[0;31m---------------------------------------------------------------------------\u001b[0m",
            "\u001b[0;31mValueError\u001b[0m                                Traceback (most recent call last)",
            "\u001b[0;32m<ipython-input-80-ab419c04b9a2>\u001b[0m in \u001b[0;36m<module>\u001b[0;34m\u001b[0m\n\u001b[1;32m     10\u001b[0m     \u001b[0mnew_array\u001b[0m \u001b[0;34m=\u001b[0m \u001b[0mnp\u001b[0m\u001b[0;34m.\u001b[0m\u001b[0mdelete\u001b[0m\u001b[0;34m(\u001b[0m\u001b[0mnew_array\u001b[0m \u001b[0;34m,\u001b[0m \u001b[0;36m0\u001b[0m \u001b[0;34m,\u001b[0m \u001b[0;36m0\u001b[0m\u001b[0;34m)\u001b[0m\u001b[0;34m\u001b[0m\u001b[0;34m\u001b[0m\u001b[0m\n\u001b[1;32m     11\u001b[0m \u001b[0;34m\u001b[0m\u001b[0m\n\u001b[0;32m---> 12\u001b[0;31m     \u001b[0moutput_array\u001b[0m \u001b[0;34m=\u001b[0m \u001b[0mnp\u001b[0m\u001b[0;34m.\u001b[0m\u001b[0mhstack\u001b[0m\u001b[0;34m(\u001b[0m\u001b[0;34m[\u001b[0m\u001b[0moutput_array\u001b[0m \u001b[0;34m,\u001b[0m \u001b[0mnew_array\u001b[0m\u001b[0;34m]\u001b[0m\u001b[0;34m)\u001b[0m\u001b[0;34m\u001b[0m\u001b[0;34m\u001b[0m\u001b[0m\n\u001b[0m",
            "\u001b[0;32m/usr/local/lib/python3.8/dist-packages/numpy/core/overrides.py\u001b[0m in \u001b[0;36mhstack\u001b[0;34m(*args, **kwargs)\u001b[0m\n",
            "\u001b[0;32m/usr/local/lib/python3.8/dist-packages/numpy/core/shape_base.py\u001b[0m in \u001b[0;36mhstack\u001b[0;34m(tup)\u001b[0m\n\u001b[1;32m    343\u001b[0m         \u001b[0;32mreturn\u001b[0m \u001b[0m_nx\u001b[0m\u001b[0;34m.\u001b[0m\u001b[0mconcatenate\u001b[0m\u001b[0;34m(\u001b[0m\u001b[0marrs\u001b[0m\u001b[0;34m,\u001b[0m \u001b[0;36m0\u001b[0m\u001b[0;34m)\u001b[0m\u001b[0;34m\u001b[0m\u001b[0;34m\u001b[0m\u001b[0m\n\u001b[1;32m    344\u001b[0m     \u001b[0;32melse\u001b[0m\u001b[0;34m:\u001b[0m\u001b[0;34m\u001b[0m\u001b[0;34m\u001b[0m\u001b[0m\n\u001b[0;32m--> 345\u001b[0;31m         \u001b[0;32mreturn\u001b[0m \u001b[0m_nx\u001b[0m\u001b[0;34m.\u001b[0m\u001b[0mconcatenate\u001b[0m\u001b[0;34m(\u001b[0m\u001b[0marrs\u001b[0m\u001b[0;34m,\u001b[0m \u001b[0;36m1\u001b[0m\u001b[0;34m)\u001b[0m\u001b[0;34m\u001b[0m\u001b[0;34m\u001b[0m\u001b[0m\n\u001b[0m\u001b[1;32m    346\u001b[0m \u001b[0;34m\u001b[0m\u001b[0m\n\u001b[1;32m    347\u001b[0m \u001b[0;34m\u001b[0m\u001b[0m\n",
            "\u001b[0;32m/usr/local/lib/python3.8/dist-packages/numpy/core/overrides.py\u001b[0m in \u001b[0;36mconcatenate\u001b[0;34m(*args, **kwargs)\u001b[0m\n",
            "\u001b[0;31mValueError\u001b[0m: all the input array dimensions for the concatenation axis must match exactly, but along dimension 0, the array at index 0 has size 1 and the array at index 1 has size 891"
          ]
        }
      ]
    },
    {
      "cell_type": "markdown",
      "source": [
        "Opps the same error again, but the size demand is now of $(891 , 1)$, wait wait wait, we have seen this somewhere else.\n",
        "\n",
        "This is the actual size of the array we passes, so in short we need to make an empty array of this shape, lets try this now "
      ],
      "metadata": {
        "id": "7qw2kM_rz4hO"
      }
    },
    {
      "cell_type": "code",
      "source": [
        "def log_output(value):\n",
        "    return np.log1p(value)\n",
        "\n",
        "output_array = np.empty(shape = sample_data.shape)\n",
        "for i in sample_data:\n",
        "    new_array = np.empty(shape = (1 , 1))\n",
        "    for j in sample_data[i]:\n",
        "        new_array = np.vstack([new_array , log_output(j)])\n",
        "\n",
        "    new_array = np.delete(new_array , 0 , 0)\n",
        "\n",
        "    output_array = np.hstack([output_array , new_array])"
      ],
      "metadata": {
        "id": "7kzPlMsN0glw"
      },
      "execution_count": 81,
      "outputs": []
    },
    {
      "cell_type": "markdown",
      "source": [
        "And now it works good, lets see this in a form of a dataframe"
      ],
      "metadata": {
        "id": "_cfWTuSV0lr_"
      }
    },
    {
      "cell_type": "code",
      "source": [
        "output_array_df = pd.DataFrame(output_array)"
      ],
      "metadata": {
        "id": "Jv8D60Hg0qj-"
      },
      "execution_count": 82,
      "outputs": []
    },
    {
      "cell_type": "code",
      "source": [
        "output_array_df"
      ],
      "metadata": {
        "colab": {
          "base_uri": "https://localhost:8080/",
          "height": 423
        },
        "id": "8xhddj4_0yq3",
        "outputId": "5a32107e-4a53-4321-da2e-0f83cc2ddd6a"
      },
      "execution_count": 83,
      "outputs": [
        {
          "output_type": "execute_result",
          "data": {
            "text/plain": [
              "                 0              1         2         3\n",
              "0    6.943030e-310  6.943030e-310  2.110213  3.135494\n",
              "1    3.908527e-316  3.908527e-316  4.280593  3.663562\n",
              "2    4.940656e-324  3.908548e-316  2.188856  3.295837\n",
              "3    4.940656e-324  3.908531e-316  3.990834  3.583519\n",
              "4    1.185758e-322  6.942959e-310  2.202765  3.583519\n",
              "..             ...            ...       ...       ...\n",
              "886            NaN  3.194312e-284  2.639057  3.332205\n",
              "887  1.156023e-289  1.793515e-299  3.433987  2.995732\n",
              "888  7.161721e-280  1.523133e-276  3.196630       NaN\n",
              "889            NaN            NaN  3.433987  3.295837\n",
              "890            NaN  1.696534e-267  2.169054  3.496508\n",
              "\n",
              "[891 rows x 4 columns]"
            ],
            "text/html": [
              "\n",
              "  <div id=\"df-05876ed5-8767-43f1-9d39-528267988725\">\n",
              "    <div class=\"colab-df-container\">\n",
              "      <div>\n",
              "<style scoped>\n",
              "    .dataframe tbody tr th:only-of-type {\n",
              "        vertical-align: middle;\n",
              "    }\n",
              "\n",
              "    .dataframe tbody tr th {\n",
              "        vertical-align: top;\n",
              "    }\n",
              "\n",
              "    .dataframe thead th {\n",
              "        text-align: right;\n",
              "    }\n",
              "</style>\n",
              "<table border=\"1\" class=\"dataframe\">\n",
              "  <thead>\n",
              "    <tr style=\"text-align: right;\">\n",
              "      <th></th>\n",
              "      <th>0</th>\n",
              "      <th>1</th>\n",
              "      <th>2</th>\n",
              "      <th>3</th>\n",
              "    </tr>\n",
              "  </thead>\n",
              "  <tbody>\n",
              "    <tr>\n",
              "      <th>0</th>\n",
              "      <td>6.943030e-310</td>\n",
              "      <td>6.943030e-310</td>\n",
              "      <td>2.110213</td>\n",
              "      <td>3.135494</td>\n",
              "    </tr>\n",
              "    <tr>\n",
              "      <th>1</th>\n",
              "      <td>3.908527e-316</td>\n",
              "      <td>3.908527e-316</td>\n",
              "      <td>4.280593</td>\n",
              "      <td>3.663562</td>\n",
              "    </tr>\n",
              "    <tr>\n",
              "      <th>2</th>\n",
              "      <td>4.940656e-324</td>\n",
              "      <td>3.908548e-316</td>\n",
              "      <td>2.188856</td>\n",
              "      <td>3.295837</td>\n",
              "    </tr>\n",
              "    <tr>\n",
              "      <th>3</th>\n",
              "      <td>4.940656e-324</td>\n",
              "      <td>3.908531e-316</td>\n",
              "      <td>3.990834</td>\n",
              "      <td>3.583519</td>\n",
              "    </tr>\n",
              "    <tr>\n",
              "      <th>4</th>\n",
              "      <td>1.185758e-322</td>\n",
              "      <td>6.942959e-310</td>\n",
              "      <td>2.202765</td>\n",
              "      <td>3.583519</td>\n",
              "    </tr>\n",
              "    <tr>\n",
              "      <th>...</th>\n",
              "      <td>...</td>\n",
              "      <td>...</td>\n",
              "      <td>...</td>\n",
              "      <td>...</td>\n",
              "    </tr>\n",
              "    <tr>\n",
              "      <th>886</th>\n",
              "      <td>NaN</td>\n",
              "      <td>3.194312e-284</td>\n",
              "      <td>2.639057</td>\n",
              "      <td>3.332205</td>\n",
              "    </tr>\n",
              "    <tr>\n",
              "      <th>887</th>\n",
              "      <td>1.156023e-289</td>\n",
              "      <td>1.793515e-299</td>\n",
              "      <td>3.433987</td>\n",
              "      <td>2.995732</td>\n",
              "    </tr>\n",
              "    <tr>\n",
              "      <th>888</th>\n",
              "      <td>7.161721e-280</td>\n",
              "      <td>1.523133e-276</td>\n",
              "      <td>3.196630</td>\n",
              "      <td>NaN</td>\n",
              "    </tr>\n",
              "    <tr>\n",
              "      <th>889</th>\n",
              "      <td>NaN</td>\n",
              "      <td>NaN</td>\n",
              "      <td>3.433987</td>\n",
              "      <td>3.295837</td>\n",
              "    </tr>\n",
              "    <tr>\n",
              "      <th>890</th>\n",
              "      <td>NaN</td>\n",
              "      <td>1.696534e-267</td>\n",
              "      <td>2.169054</td>\n",
              "      <td>3.496508</td>\n",
              "    </tr>\n",
              "  </tbody>\n",
              "</table>\n",
              "<p>891 rows × 4 columns</p>\n",
              "</div>\n",
              "      <button class=\"colab-df-convert\" onclick=\"convertToInteractive('df-05876ed5-8767-43f1-9d39-528267988725')\"\n",
              "              title=\"Convert this dataframe to an interactive table.\"\n",
              "              style=\"display:none;\">\n",
              "        \n",
              "  <svg xmlns=\"http://www.w3.org/2000/svg\" height=\"24px\"viewBox=\"0 0 24 24\"\n",
              "       width=\"24px\">\n",
              "    <path d=\"M0 0h24v24H0V0z\" fill=\"none\"/>\n",
              "    <path d=\"M18.56 5.44l.94 2.06.94-2.06 2.06-.94-2.06-.94-.94-2.06-.94 2.06-2.06.94zm-11 1L8.5 8.5l.94-2.06 2.06-.94-2.06-.94L8.5 2.5l-.94 2.06-2.06.94zm10 10l.94 2.06.94-2.06 2.06-.94-2.06-.94-.94-2.06-.94 2.06-2.06.94z\"/><path d=\"M17.41 7.96l-1.37-1.37c-.4-.4-.92-.59-1.43-.59-.52 0-1.04.2-1.43.59L10.3 9.45l-7.72 7.72c-.78.78-.78 2.05 0 2.83L4 21.41c.39.39.9.59 1.41.59.51 0 1.02-.2 1.41-.59l7.78-7.78 2.81-2.81c.8-.78.8-2.07 0-2.86zM5.41 20L4 18.59l7.72-7.72 1.47 1.35L5.41 20z\"/>\n",
              "  </svg>\n",
              "      </button>\n",
              "      \n",
              "  <style>\n",
              "    .colab-df-container {\n",
              "      display:flex;\n",
              "      flex-wrap:wrap;\n",
              "      gap: 12px;\n",
              "    }\n",
              "\n",
              "    .colab-df-convert {\n",
              "      background-color: #E8F0FE;\n",
              "      border: none;\n",
              "      border-radius: 50%;\n",
              "      cursor: pointer;\n",
              "      display: none;\n",
              "      fill: #1967D2;\n",
              "      height: 32px;\n",
              "      padding: 0 0 0 0;\n",
              "      width: 32px;\n",
              "    }\n",
              "\n",
              "    .colab-df-convert:hover {\n",
              "      background-color: #E2EBFA;\n",
              "      box-shadow: 0px 1px 2px rgba(60, 64, 67, 0.3), 0px 1px 3px 1px rgba(60, 64, 67, 0.15);\n",
              "      fill: #174EA6;\n",
              "    }\n",
              "\n",
              "    [theme=dark] .colab-df-convert {\n",
              "      background-color: #3B4455;\n",
              "      fill: #D2E3FC;\n",
              "    }\n",
              "\n",
              "    [theme=dark] .colab-df-convert:hover {\n",
              "      background-color: #434B5C;\n",
              "      box-shadow: 0px 1px 3px 1px rgba(0, 0, 0, 0.15);\n",
              "      filter: drop-shadow(0px 1px 2px rgba(0, 0, 0, 0.3));\n",
              "      fill: #FFFFFF;\n",
              "    }\n",
              "  </style>\n",
              "\n",
              "      <script>\n",
              "        const buttonEl =\n",
              "          document.querySelector('#df-05876ed5-8767-43f1-9d39-528267988725 button.colab-df-convert');\n",
              "        buttonEl.style.display =\n",
              "          google.colab.kernel.accessAllowed ? 'block' : 'none';\n",
              "\n",
              "        async function convertToInteractive(key) {\n",
              "          const element = document.querySelector('#df-05876ed5-8767-43f1-9d39-528267988725');\n",
              "          const dataTable =\n",
              "            await google.colab.kernel.invokeFunction('convertToInteractive',\n",
              "                                                     [key], {});\n",
              "          if (!dataTable) return;\n",
              "\n",
              "          const docLinkHtml = 'Like what you see? Visit the ' +\n",
              "            '<a target=\"_blank\" href=https://colab.research.google.com/notebooks/data_table.ipynb>data table notebook</a>'\n",
              "            + ' to learn more about interactive tables.';\n",
              "          element.innerHTML = '';\n",
              "          dataTable['output_type'] = 'display_data';\n",
              "          await google.colab.output.renderOutput(dataTable, element);\n",
              "          const docLink = document.createElement('div');\n",
              "          docLink.innerHTML = docLinkHtml;\n",
              "          element.appendChild(docLink);\n",
              "        }\n",
              "      </script>\n",
              "    </div>\n",
              "  </div>\n",
              "  "
            ]
          },
          "metadata": {},
          "execution_count": 83
        }
      ]
    },
    {
      "cell_type": "markdown",
      "source": [
        "Wait this is now what we expected, Why there are $4$ column, instead of $2$. \n",
        "\n",
        "This is because we are again stacking the arrays, not replacing them, so we need to drop these values with each iteration "
      ],
      "metadata": {
        "id": "MqsmoIPU04SX"
      }
    },
    {
      "cell_type": "code",
      "source": [
        "def log_output(value):\n",
        "    return np.log1p(value)\n",
        "\n",
        "output_array = np.empty(shape = sample_data.shape)\n",
        "for i in sample_data:\n",
        "    new_array = np.empty(shape = (1 , 1))\n",
        "    for j in sample_data[i]:\n",
        "        new_array = np.vstack([new_array , log_output(j)])\n",
        "\n",
        "    new_array = np.delete(new_array , 0 , 0)\n",
        "\n",
        "    output_array = np.hstack([output_array , new_array])\n",
        "    output_array = np.delete(output_array , 0 , 1)"
      ],
      "metadata": {
        "id": "8P4utYpL1Mvp"
      },
      "execution_count": 84,
      "outputs": []
    },
    {
      "cell_type": "code",
      "source": [
        "output_array_df = pd.DataFrame(output_array)\n",
        "output_array_df"
      ],
      "metadata": {
        "colab": {
          "base_uri": "https://localhost:8080/",
          "height": 423
        },
        "id": "aHGhSDdV1fVP",
        "outputId": "62175689-06f5-45b9-e36e-29ef96b596b9"
      },
      "execution_count": 85,
      "outputs": [
        {
          "output_type": "execute_result",
          "data": {
            "text/plain": [
              "            0         1\n",
              "0    2.110213  3.135494\n",
              "1    4.280593  3.663562\n",
              "2    2.188856  3.295837\n",
              "3    3.990834  3.583519\n",
              "4    2.202765  3.583519\n",
              "..        ...       ...\n",
              "886  2.639057  3.332205\n",
              "887  3.433987  2.995732\n",
              "888  3.196630       NaN\n",
              "889  3.433987  3.295837\n",
              "890  2.169054  3.496508\n",
              "\n",
              "[891 rows x 2 columns]"
            ],
            "text/html": [
              "\n",
              "  <div id=\"df-add9c990-fef3-49d0-9828-984c4666294f\">\n",
              "    <div class=\"colab-df-container\">\n",
              "      <div>\n",
              "<style scoped>\n",
              "    .dataframe tbody tr th:only-of-type {\n",
              "        vertical-align: middle;\n",
              "    }\n",
              "\n",
              "    .dataframe tbody tr th {\n",
              "        vertical-align: top;\n",
              "    }\n",
              "\n",
              "    .dataframe thead th {\n",
              "        text-align: right;\n",
              "    }\n",
              "</style>\n",
              "<table border=\"1\" class=\"dataframe\">\n",
              "  <thead>\n",
              "    <tr style=\"text-align: right;\">\n",
              "      <th></th>\n",
              "      <th>0</th>\n",
              "      <th>1</th>\n",
              "    </tr>\n",
              "  </thead>\n",
              "  <tbody>\n",
              "    <tr>\n",
              "      <th>0</th>\n",
              "      <td>2.110213</td>\n",
              "      <td>3.135494</td>\n",
              "    </tr>\n",
              "    <tr>\n",
              "      <th>1</th>\n",
              "      <td>4.280593</td>\n",
              "      <td>3.663562</td>\n",
              "    </tr>\n",
              "    <tr>\n",
              "      <th>2</th>\n",
              "      <td>2.188856</td>\n",
              "      <td>3.295837</td>\n",
              "    </tr>\n",
              "    <tr>\n",
              "      <th>3</th>\n",
              "      <td>3.990834</td>\n",
              "      <td>3.583519</td>\n",
              "    </tr>\n",
              "    <tr>\n",
              "      <th>4</th>\n",
              "      <td>2.202765</td>\n",
              "      <td>3.583519</td>\n",
              "    </tr>\n",
              "    <tr>\n",
              "      <th>...</th>\n",
              "      <td>...</td>\n",
              "      <td>...</td>\n",
              "    </tr>\n",
              "    <tr>\n",
              "      <th>886</th>\n",
              "      <td>2.639057</td>\n",
              "      <td>3.332205</td>\n",
              "    </tr>\n",
              "    <tr>\n",
              "      <th>887</th>\n",
              "      <td>3.433987</td>\n",
              "      <td>2.995732</td>\n",
              "    </tr>\n",
              "    <tr>\n",
              "      <th>888</th>\n",
              "      <td>3.196630</td>\n",
              "      <td>NaN</td>\n",
              "    </tr>\n",
              "    <tr>\n",
              "      <th>889</th>\n",
              "      <td>3.433987</td>\n",
              "      <td>3.295837</td>\n",
              "    </tr>\n",
              "    <tr>\n",
              "      <th>890</th>\n",
              "      <td>2.169054</td>\n",
              "      <td>3.496508</td>\n",
              "    </tr>\n",
              "  </tbody>\n",
              "</table>\n",
              "<p>891 rows × 2 columns</p>\n",
              "</div>\n",
              "      <button class=\"colab-df-convert\" onclick=\"convertToInteractive('df-add9c990-fef3-49d0-9828-984c4666294f')\"\n",
              "              title=\"Convert this dataframe to an interactive table.\"\n",
              "              style=\"display:none;\">\n",
              "        \n",
              "  <svg xmlns=\"http://www.w3.org/2000/svg\" height=\"24px\"viewBox=\"0 0 24 24\"\n",
              "       width=\"24px\">\n",
              "    <path d=\"M0 0h24v24H0V0z\" fill=\"none\"/>\n",
              "    <path d=\"M18.56 5.44l.94 2.06.94-2.06 2.06-.94-2.06-.94-.94-2.06-.94 2.06-2.06.94zm-11 1L8.5 8.5l.94-2.06 2.06-.94-2.06-.94L8.5 2.5l-.94 2.06-2.06.94zm10 10l.94 2.06.94-2.06 2.06-.94-2.06-.94-.94-2.06-.94 2.06-2.06.94z\"/><path d=\"M17.41 7.96l-1.37-1.37c-.4-.4-.92-.59-1.43-.59-.52 0-1.04.2-1.43.59L10.3 9.45l-7.72 7.72c-.78.78-.78 2.05 0 2.83L4 21.41c.39.39.9.59 1.41.59.51 0 1.02-.2 1.41-.59l7.78-7.78 2.81-2.81c.8-.78.8-2.07 0-2.86zM5.41 20L4 18.59l7.72-7.72 1.47 1.35L5.41 20z\"/>\n",
              "  </svg>\n",
              "      </button>\n",
              "      \n",
              "  <style>\n",
              "    .colab-df-container {\n",
              "      display:flex;\n",
              "      flex-wrap:wrap;\n",
              "      gap: 12px;\n",
              "    }\n",
              "\n",
              "    .colab-df-convert {\n",
              "      background-color: #E8F0FE;\n",
              "      border: none;\n",
              "      border-radius: 50%;\n",
              "      cursor: pointer;\n",
              "      display: none;\n",
              "      fill: #1967D2;\n",
              "      height: 32px;\n",
              "      padding: 0 0 0 0;\n",
              "      width: 32px;\n",
              "    }\n",
              "\n",
              "    .colab-df-convert:hover {\n",
              "      background-color: #E2EBFA;\n",
              "      box-shadow: 0px 1px 2px rgba(60, 64, 67, 0.3), 0px 1px 3px 1px rgba(60, 64, 67, 0.15);\n",
              "      fill: #174EA6;\n",
              "    }\n",
              "\n",
              "    [theme=dark] .colab-df-convert {\n",
              "      background-color: #3B4455;\n",
              "      fill: #D2E3FC;\n",
              "    }\n",
              "\n",
              "    [theme=dark] .colab-df-convert:hover {\n",
              "      background-color: #434B5C;\n",
              "      box-shadow: 0px 1px 3px 1px rgba(0, 0, 0, 0.15);\n",
              "      filter: drop-shadow(0px 1px 2px rgba(0, 0, 0, 0.3));\n",
              "      fill: #FFFFFF;\n",
              "    }\n",
              "  </style>\n",
              "\n",
              "      <script>\n",
              "        const buttonEl =\n",
              "          document.querySelector('#df-add9c990-fef3-49d0-9828-984c4666294f button.colab-df-convert');\n",
              "        buttonEl.style.display =\n",
              "          google.colab.kernel.accessAllowed ? 'block' : 'none';\n",
              "\n",
              "        async function convertToInteractive(key) {\n",
              "          const element = document.querySelector('#df-add9c990-fef3-49d0-9828-984c4666294f');\n",
              "          const dataTable =\n",
              "            await google.colab.kernel.invokeFunction('convertToInteractive',\n",
              "                                                     [key], {});\n",
              "          if (!dataTable) return;\n",
              "\n",
              "          const docLinkHtml = 'Like what you see? Visit the ' +\n",
              "            '<a target=\"_blank\" href=https://colab.research.google.com/notebooks/data_table.ipynb>data table notebook</a>'\n",
              "            + ' to learn more about interactive tables.';\n",
              "          element.innerHTML = '';\n",
              "          dataTable['output_type'] = 'display_data';\n",
              "          await google.colab.output.renderOutput(dataTable, element);\n",
              "          const docLink = document.createElement('div');\n",
              "          docLink.innerHTML = docLinkHtml;\n",
              "          element.appendChild(docLink);\n",
              "        }\n",
              "      </script>\n",
              "    </div>\n",
              "  </div>\n",
              "  "
            ]
          },
          "metadata": {},
          "execution_count": 85
        }
      ]
    },
    {
      "cell_type": "markdown",
      "source": [
        "And we got the pergect value, lets try to plot this on a graph now "
      ],
      "metadata": {
        "id": "f4CinjVq1yd8"
      }
    },
    {
      "cell_type": "code",
      "source": [
        "for i in output_array_df.columns:\n",
        "    print(\"Skewness is : \" , output_array_df[i].skew())\n",
        "    sns.kdeplot(output_array_df[i])\n",
        "    plt.show()"
      ],
      "metadata": {
        "colab": {
          "base_uri": "https://localhost:8080/",
          "height": 576
        },
        "id": "ypBaXKDD17JF",
        "outputId": "6d8f79fa-9b50-41ca-b9e4-ca5e3ccf1120"
      },
      "execution_count": 86,
      "outputs": [
        {
          "output_type": "stream",
          "name": "stdout",
          "text": [
            "Skewness is :  0.3949280095189306\n"
          ]
        },
        {
          "output_type": "display_data",
          "data": {
            "text/plain": [
              "<Figure size 432x288 with 1 Axes>"
            ],
            "image/png": "[encoded data removed]"
          },
          "metadata": {
            "needs_background": "light"
          }
        },
        {
          "output_type": "stream",
          "name": "stdout",
          "text": [
            "Skewness is :  -1.8774882259647614\n"
          ]
        },
        {
          "output_type": "display_data",
          "data": {
            "text/plain": [
              "<Figure size 432x288 with 1 Axes>"
            ],
            "image/png": "[encoded data removed]"
          },
          "metadata": {
            "needs_background": "light"
          }
        }
      ]
    },
    {
      "cell_type": "markdown",
      "source": [
        "Notice how the skewness in `Age` actually got worse, So the function transformer always do not works best on all the scenarios, we need to specify where to put the transformer and where to not "
      ],
      "metadata": {
        "id": "jgS_8vRu2dp1"
      }
    },
    {
      "cell_type": "markdown",
      "source": [
        "Now lets just do a little bit of beautifying "
      ],
      "metadata": {
        "id": "-1R8L6Oz3Kml"
      }
    },
    {
      "cell_type": "code",
      "source": [
        "def log_output(value):\n",
        "    return np.log1p(value)\n",
        "\n",
        "def function_transformer(array):\n",
        "\n",
        "    output_array = np.empty(shape = array.shape)\n",
        "\n",
        "    if len(array.shape) == 1:\n",
        "        new_array = np.empty(shape = (1 , 1))\n",
        "        for i in array:\n",
        "            new_array = np.vstack([new_array , log_output(i)])\n",
        "\n",
        "        new_array = np.delete(new_array , 0 , 0)\n",
        "\n",
        "        return new_array\n",
        "\n",
        "    else :\n",
        "        for i in array:\n",
        "        \n",
        "            new_array = np.empty(shape = (1 , 1))\n",
        "        \n",
        "            for j in array[i]:\n",
        "        \n",
        "                new_array = np.vstack([new_array , log_output(j)])\n",
        "\n",
        "            new_array = np.delete(new_array , 0 , 0)\n",
        "\n",
        "            output_array = np.hstack([output_array , new_array])\n",
        "            output_array = np.delete(output_array , 0 , 1)\n",
        "\n",
        "        return output_array"
      ],
      "metadata": {
        "id": "a4SGwTaT3KCV"
      },
      "execution_count": 87,
      "outputs": []
    },
    {
      "cell_type": "markdown",
      "source": [
        "Now as we have created a general function we just need to add its types "
      ],
      "metadata": {
        "id": "P_ScV1po3hD_"
      }
    },
    {
      "cell_type": "markdown",
      "source": [
        "# Square Transformer"
      ],
      "metadata": {
        "id": "rvbA_dhC3pWu"
      }
    },
    {
      "cell_type": "markdown",
      "source": [
        "Square Transformer is a type of transformer architecture commonly used in natural language processing (NLP) tasks such as language modeling, machine translation, and sentiment analysis. It is based on the original trance he architecture described in the article \"Attention Is All You Need\" by Vaswani et al. Suggested. (2017).\n",
        "\n",
        "In Square Transformer, the input sequence is first embedded in a high-dimensional vector space. The embedding is then processed by a stack of transformer layers, each consisting of a multi-headed self-recognition mechanism and a feedforward neural network. The self-recognition mechanism allows the model to focus on different parts of the input sequence, while the feedforward network applies nonlinear transformations to the representations learned by the self-recognition layer.\n",
        "\n",
        "One of Square Transformer's key features is that it uses positional encoding to provide the model with information about the position of each token in the input sequence. This is necessary because the transformer doesn't use iteration or convolution to process the sequence, so it can't directly capture the order of the tokens.\n",
        "\n",
        "Square Transformer delivers state-of-the-art performance on a variety of NLP tasks, including language modeling, machine translation, and sentiment analysis. It has also been applied to other domains such as image processing and speech recognition. "
      ],
      "metadata": {
        "id": "Eof2i6rYLoDL"
      }
    },
    {
      "cell_type": "markdown",
      "source": [
        "For making a sqaure transformer, we only need to define a function, and put a if a condition, wethere to use the log function or the square transformer"
      ],
      "metadata": {
        "id": "43XGFNIiLrOs"
      }
    },
    {
      "cell_type": "code",
      "source": [
        "def log(value):\n",
        "    return np.log1p(value)\n",
        "\n",
        "def square(value):\n",
        "    return np.sqaure(value)\n",
        "\n",
        "def function_transformer(array , func = None):\n",
        "\n",
        "    if func == None:\n",
        "        print(\"Please enter a function\")\n",
        "        return None\n",
        "\n",
        "    elif func == \"log\" or func == \"square\":\n",
        "\n",
        "        output_array = np.empty(shape = array.shape)\n",
        "\n",
        "        if len(array.shape) == 1:\n",
        "            new_array = np.empty(shape = (1 , 1))\n",
        "            for i in array:\n",
        "\n",
        "                if func == \"log\":\n",
        "\n",
        "                    new_array = np.vstack([new_array , log_output(i)])\n",
        "                \n",
        "                else:\n",
        "                    \n",
        "                    new_array = np.vstack([new_array , square(i)])\n",
        "            \n",
        "            new_array = np.delete(new_array , 0 , 0)\n",
        "\n",
        "            return new_array\n",
        "\n",
        "        else :\n",
        "            \n",
        "            for i in array:\n",
        "            \n",
        "                new_array = np.empty(shape = (1 , 1))\n",
        "            \n",
        "                for j in array[i]:\n",
        "            \n",
        "                    if func == \"log\":\n",
        "\n",
        "                        new_array = np.vstack([new_array , log_output(i)])\n",
        "                    else:\n",
        "                    \n",
        "                        new_array = np.vstack([new_array , square(i)])\n",
        "\n",
        "                new_array = np.delete(new_array , 0 , 0)\n",
        "\n",
        "                output_array = np.hstack([output_array , new_array])\n",
        "                output_array = np.delete(output_array , 0 , 1)\n",
        "\n",
        "            return output_array\n",
        "    else:\n",
        "        print(\"Please enter a valid function\")\n",
        "        return None"
      ],
      "metadata": {
        "id": "Apz1-dSt3or5"
      },
      "execution_count": 88,
      "outputs": []
    },
    {
      "cell_type": "markdown",
      "source": [
        "# Box Cox Transformer\n",
        "\n",
        "The Box-Cox transformation is a statistical technique commonly used in machine learning that transforms a non-normal dependent variable to a normal distribution. This transformation helps improve the performance of certain machine learning algorithms that assume a normal distribution of the input data.\n",
        "\n",
        "The Box-Cox transformation applies a power transformation to the data, and the value of the power parameter determines the order and direction of the transformation. Optimal values ​​of performance parameters are usually estimated using maximum likelihood estimation or cross-validation.\n",
        "\n",
        "The Box-Cox transformer is particularly useful in regression analysis, where the dependent variable is often assumed to be normally distributed. Box-Cox transformation of the dependent variable satisfies the normality assumption and improves the accuracy of the regression model.\n",
        "\n",
        "Overall, the Box-Cox transformer is a useful tool in machine learning to transform non-normal data into a normal distribution, improve the performance of certain algorithms, and help satisfy statistical assumptions. \n",
        "\n",
        " $$ x_λ = \\displaystyle \\Bigg[\\frac {\\frac {x^{\\lambda} - 1}{λ}}{log (x) } \\frac {if}{if} \\frac {λ != 0}{λ = 0}\\Bigg]$$\n",
        "\n",
        " Geneally we try to find the value of $\\lambda$ which minimizes the skewness, $\\lambda$ depends upon the data, but generally its value lies between -5 to 5"
      ],
      "metadata": {
        "id": "JaQkUDk2a8qe"
      }
    },
    {
      "cell_type": "markdown",
      "source": [
        "First lets try to work on one array and then we will expand to multiple arrays "
      ],
      "metadata": {
        "id": "b1Oj3AmNcD5n"
      }
    },
    {
      "cell_type": "code",
      "source": [
        "sample_data = data[\"Fare\"]"
      ],
      "metadata": {
        "id": "g2zInPFG7XW8"
      },
      "execution_count": 89,
      "outputs": []
    },
    {
      "cell_type": "markdown",
      "source": [
        "As the value lies between $(-5 , 5)$, We will first try to make transformer basesd on only range of $(-5 , 5)$. We simply need to iterate over a loop of this"
      ],
      "metadata": {
        "id": "R3K2wFj2ceVV"
      }
    },
    {
      "cell_type": "code",
      "source": [
        "for i in range(-5 , 5):\n",
        "    print(i)"
      ],
      "metadata": {
        "colab": {
          "base_uri": "https://localhost:8080/"
        },
        "id": "2cOQ3bhkc4Z1",
        "outputId": "0e0f1738-66c3-43eb-e778-850ccecafac0"
      },
      "execution_count": 90,
      "outputs": [
        {
          "output_type": "stream",
          "name": "stdout",
          "text": [
            "-5\n",
            "-4\n",
            "-3\n",
            "-2\n",
            "-1\n",
            "0\n",
            "1\n",
            "2\n",
            "3\n",
            "4\n"
          ]
        }
      ]
    },
    {
      "cell_type": "markdown",
      "source": [
        "Now we will try to populate a list of arrays which are populated corresponding to different values of $\\lambda$, at this time we are not making changes, we are just trying to populate the array  "
      ],
      "metadata": {
        "id": "HlhMUsr-c-Jg"
      }
    },
    {
      "cell_type": "code",
      "source": [
        "array_list = []\n",
        "\n",
        "for i in range(-5 , 5):\n",
        "    \n",
        "    new_array = np.empty(shape = (1 , 1))\n",
        "\n",
        "    for j in sample_data:\n",
        "\n",
        "        new_array = np.vstack([new_array , j])\n",
        "\n",
        "    new_array = np.delete(new_array , 0 , 0)\n",
        "\n",
        "    array_list.append(new_array)"
      ],
      "metadata": {
        "id": "sg_YzyMkdVlF"
      },
      "execution_count": 91,
      "outputs": []
    },
    {
      "cell_type": "code",
      "source": [
        "# array_list # Not printing this as it will take a lot of unescessory space, if you want to see, just comment it out"
      ],
      "metadata": {
        "id": "tCzDin4-AjL1"
      },
      "execution_count": 92,
      "outputs": []
    },
    {
      "cell_type": "markdown",
      "source": [
        "So new we have a list of arrays, lets populate another list, which is having the skewness of the array "
      ],
      "metadata": {
        "id": "JWlvXBnkd-N1"
      }
    },
    {
      "cell_type": "code",
      "source": [
        "array_list = []\n",
        "skew_list = []\n",
        "\n",
        "for i in range(-5 , 5):\n",
        "    \n",
        "    new_array = np.empty(shape = (1 , 1))\n",
        "\n",
        "    for j in sample_data:\n",
        "\n",
        "        new_array = np.vstack([new_array , j])\n",
        "\n",
        "    new_array = np.delete(new_array , 0 , 0)\n",
        "    \n",
        "    array_list.append(new_array)\n",
        "    skew_list.append(pd.DataFrame(new_array).skew())"
      ],
      "metadata": {
        "id": "RWpgfNKAeO0s"
      },
      "execution_count": 93,
      "outputs": []
    },
    {
      "cell_type": "code",
      "source": [
        "skew_list"
      ],
      "metadata": {
        "colab": {
          "base_uri": "https://localhost:8080/"
        },
        "id": "aWj8jadPekUE",
        "outputId": "b1d59ec3-5b73-418c-f22b-eb1efcd218fe"
      },
      "execution_count": 94,
      "outputs": [
        {
          "output_type": "execute_result",
          "data": {
            "text/plain": [
              "[0    4.787317\n",
              " dtype: float64, 0    4.787317\n",
              " dtype: float64, 0    4.787317\n",
              " dtype: float64, 0    4.787317\n",
              " dtype: float64, 0    4.787317\n",
              " dtype: float64, 0    4.787317\n",
              " dtype: float64, 0    4.787317\n",
              " dtype: float64, 0    4.787317\n",
              " dtype: float64, 0    4.787317\n",
              " dtype: float64, 0    4.787317\n",
              " dtype: float64]"
            ]
          },
          "metadata": {},
          "execution_count": 94
        }
      ]
    },
    {
      "cell_type": "markdown",
      "source": [
        "Notice all the values are same, this is beacuase we have not put any changes in the values, we will put them afterwards. \n",
        "\n",
        "So `skew_list` is just a series object, but we want only skewness, for this we will use the `[0]` index"
      ],
      "metadata": {
        "id": "md4TKoU3eoF1"
      }
    },
    {
      "cell_type": "code",
      "source": [
        "array_list = []\n",
        "skew_list = []\n",
        "\n",
        "for i in range(-5 , 5):\n",
        "    \n",
        "    new_array = np.empty(shape = (1 , 1))\n",
        "\n",
        "    for j in sample_data:\n",
        "\n",
        "        new_array = np.vstack([new_array , j])\n",
        "\n",
        "    new_array = np.delete(new_array , 0 , 0)\n",
        "    \n",
        "    array_list.append(new_array)\n",
        "    skew_list.append(pd.DataFrame(new_array).skew()[0])"
      ],
      "metadata": {
        "id": "lOzvi9_1Bhjl"
      },
      "execution_count": 95,
      "outputs": []
    },
    {
      "cell_type": "code",
      "source": [
        "skew_list"
      ],
      "metadata": {
        "colab": {
          "base_uri": "https://localhost:8080/"
        },
        "id": "V5FkQC2PBqKF",
        "outputId": "eb3d7056-d082-421b-86a2-40d5982890ce"
      },
      "execution_count": 96,
      "outputs": [
        {
          "output_type": "execute_result",
          "data": {
            "text/plain": [
              "[4.787316519674893,\n",
              " 4.787316519674893,\n",
              " 4.787316519674893,\n",
              " 4.787316519674893,\n",
              " 4.787316519674893,\n",
              " 4.787316519674893,\n",
              " 4.787316519674893,\n",
              " 4.787316519674893,\n",
              " 4.787316519674893,\n",
              " 4.787316519674893]"
            ]
          },
          "metadata": {},
          "execution_count": 96
        }
      ]
    },
    {
      "cell_type": "markdown",
      "source": [
        "As we have the list of skenwess at different values of $\\lambda$, we just need to find the index of the smallest value, and we can find the corresponding index to the array list, to find the corresponding array "
      ],
      "metadata": {
        "id": "vpQTOGTlB0yV"
      }
    },
    {
      "cell_type": "code",
      "source": [
        "array_list = []\n",
        "skew_list = []\n",
        "\n",
        "for i in range(-5 , 5):\n",
        "    \n",
        "    new_array = np.empty(shape = (1 , 1))\n",
        "\n",
        "    for j in sample_data:\n",
        "\n",
        "        new_array = np.vstack([new_array , j])\n",
        "\n",
        "    new_array = np.delete(new_array , 0 , 0)\n",
        "    \n",
        "    array_list.append(new_array)\n",
        "    skew_list.append(pd.DataFrame(new_array).skew()[0])\n",
        "\n",
        "    output = array_list[np.argmin(skew_list)]"
      ],
      "metadata": {
        "id": "H-eF8I_LB0O9"
      },
      "execution_count": 97,
      "outputs": []
    },
    {
      "cell_type": "code",
      "source": [
        "#output # Not printing this as it will take a lot of unescessory space, if you want to see, just comment it out"
      ],
      "metadata": {
        "id": "BCdds0dnCah1"
      },
      "execution_count": 98,
      "outputs": []
    },
    {
      "cell_type": "markdown",
      "source": [
        "As now we have the array with the lowest skweness, We can make changes in how the array is processed on the basis of $\\lambda$, lets make a function that take the valye of $\\lambda$ and array, passes the output"
      ],
      "metadata": {
        "id": "6OL0y_l6Cp61"
      }
    },
    {
      "cell_type": "code",
      "source": [
        "def box_cox(value , lambdas):\n",
        "    if lambdas == 0:\n",
        "        return np.log1p(value)\n",
        "    else :\n",
        "        return (((value ** lambdas) - 1) / lambdas)\n",
        "\n",
        "array_list = []\n",
        "skew_list = []\n",
        "\n",
        "for i in range(-5 , 5):\n",
        "    \n",
        "    new_array = np.empty(shape = (1 , 1))\n",
        "\n",
        "    for j in sample_data:\n",
        "\n",
        "        new_array = np.vstack([new_array , box_cox(j , i)])\n",
        "\n",
        "    new_array = np.delete(new_array , 0 , 0)\n",
        "    \n",
        "    array_list.append(new_array)\n",
        "    skew_list.append(pd.DataFrame(new_array).skew()[0])\n",
        "\n",
        "    output = array_list[np.argmin(skew_list)]"
      ],
      "metadata": {
        "colab": {
          "base_uri": "https://localhost:8080/",
          "height": 356
        },
        "id": "lVBIAoq2CplV",
        "outputId": "87a1e229-3045-4e87-8d1f-aafd60049de9"
      },
      "execution_count": 99,
      "outputs": [
        {
          "output_type": "error",
          "ename": "ZeroDivisionError",
          "evalue": "ignored",
          "traceback": [
            "\u001b[0;31m---------------------------------------------------------------------------\u001b[0m",
            "\u001b[0;31mZeroDivisionError\u001b[0m                         Traceback (most recent call last)",
            "\u001b[0;32m<ipython-input-99-2c6487dabc43>\u001b[0m in \u001b[0;36m<module>\u001b[0;34m\u001b[0m\n\u001b[1;32m     14\u001b[0m     \u001b[0;32mfor\u001b[0m \u001b[0mj\u001b[0m \u001b[0;32min\u001b[0m \u001b[0msample_data\u001b[0m\u001b[0;34m:\u001b[0m\u001b[0;34m\u001b[0m\u001b[0;34m\u001b[0m\u001b[0m\n\u001b[1;32m     15\u001b[0m \u001b[0;34m\u001b[0m\u001b[0m\n\u001b[0;32m---> 16\u001b[0;31m         \u001b[0mnew_array\u001b[0m \u001b[0;34m=\u001b[0m \u001b[0mnp\u001b[0m\u001b[0;34m.\u001b[0m\u001b[0mvstack\u001b[0m\u001b[0;34m(\u001b[0m\u001b[0;34m[\u001b[0m\u001b[0mnew_array\u001b[0m \u001b[0;34m,\u001b[0m \u001b[0mbox_cox\u001b[0m\u001b[0;34m(\u001b[0m\u001b[0mj\u001b[0m \u001b[0;34m,\u001b[0m \u001b[0mi\u001b[0m\u001b[0;34m)\u001b[0m\u001b[0;34m]\u001b[0m\u001b[0;34m)\u001b[0m\u001b[0;34m\u001b[0m\u001b[0;34m\u001b[0m\u001b[0m\n\u001b[0m\u001b[1;32m     17\u001b[0m \u001b[0;34m\u001b[0m\u001b[0m\n\u001b[1;32m     18\u001b[0m     \u001b[0mnew_array\u001b[0m \u001b[0;34m=\u001b[0m \u001b[0mnp\u001b[0m\u001b[0;34m.\u001b[0m\u001b[0mdelete\u001b[0m\u001b[0;34m(\u001b[0m\u001b[0mnew_array\u001b[0m \u001b[0;34m,\u001b[0m \u001b[0;36m0\u001b[0m \u001b[0;34m,\u001b[0m \u001b[0;36m0\u001b[0m\u001b[0;34m)\u001b[0m\u001b[0;34m\u001b[0m\u001b[0;34m\u001b[0m\u001b[0m\n",
            "\u001b[0;32m<ipython-input-99-2c6487dabc43>\u001b[0m in \u001b[0;36mbox_cox\u001b[0;34m(value, lambdas)\u001b[0m\n\u001b[1;32m      3\u001b[0m         \u001b[0;32mreturn\u001b[0m \u001b[0mnp\u001b[0m\u001b[0;34m.\u001b[0m\u001b[0mlog1p\u001b[0m\u001b[0;34m(\u001b[0m\u001b[0mvalue\u001b[0m\u001b[0;34m)\u001b[0m\u001b[0;34m\u001b[0m\u001b[0;34m\u001b[0m\u001b[0m\n\u001b[1;32m      4\u001b[0m     \u001b[0;32melse\u001b[0m \u001b[0;34m:\u001b[0m\u001b[0;34m\u001b[0m\u001b[0;34m\u001b[0m\u001b[0m\n\u001b[0;32m----> 5\u001b[0;31m         \u001b[0;32mreturn\u001b[0m \u001b[0;34m(\u001b[0m\u001b[0;34m(\u001b[0m\u001b[0;34m(\u001b[0m\u001b[0mvalue\u001b[0m \u001b[0;34m**\u001b[0m \u001b[0mlambdas\u001b[0m\u001b[0;34m)\u001b[0m \u001b[0;34m-\u001b[0m \u001b[0;36m1\u001b[0m\u001b[0;34m)\u001b[0m \u001b[0;34m/\u001b[0m \u001b[0mlambdas\u001b[0m\u001b[0;34m)\u001b[0m\u001b[0;34m\u001b[0m\u001b[0;34m\u001b[0m\u001b[0m\n\u001b[0m\u001b[1;32m      6\u001b[0m \u001b[0;34m\u001b[0m\u001b[0m\n\u001b[1;32m      7\u001b[0m \u001b[0marray_list\u001b[0m \u001b[0;34m=\u001b[0m \u001b[0;34m[\u001b[0m\u001b[0;34m]\u001b[0m\u001b[0;34m\u001b[0m\u001b[0;34m\u001b[0m\u001b[0m\n",
            "\u001b[0;31mZeroDivisionError\u001b[0m: 0.0 cannot be raised to a negative power"
          ]
        }
      ]
    },
    {
      "cell_type": "markdown",
      "source": [
        "Okay so we got an error related to $0$, box cox transformation have a limitation, that it connot be applied to a $0$, for here, we will just add $1$ to every number to overcome this "
      ],
      "metadata": {
        "id": "c52_lZeGDjb4"
      }
    },
    {
      "cell_type": "code",
      "source": [
        "def box_cox(value , lambdas):\n",
        "    if lambdas == 0:\n",
        "        return np.log1p(value)\n",
        "    else :\n",
        "        return ((((value + 1) ** lambdas) - 1) / lambdas)\n",
        "\n",
        "array_list = []\n",
        "skew_list = []\n",
        "\n",
        "for i in range(-5 , 5):\n",
        "    \n",
        "    new_array = np.empty(shape = (1 , 1))\n",
        "\n",
        "    for j in sample_data:\n",
        "\n",
        "        new_array = np.vstack([new_array , box_cox(j , i)])\n",
        "\n",
        "    new_array = np.delete(new_array , 0 , 0)\n",
        "    \n",
        "    array_list.append(new_array)\n",
        "    skew_list.append(pd.DataFrame(new_array).skew()[0])\n",
        "\n",
        "    output = array_list[np.argmin(skew_list)]"
      ],
      "metadata": {
        "id": "K0K1fswEDznr"
      },
      "execution_count": 100,
      "outputs": []
    },
    {
      "cell_type": "code",
      "source": [
        "skew_list"
      ],
      "metadata": {
        "colab": {
          "base_uri": "https://localhost:8080/"
        },
        "id": "y2Z_AeNtD4Fa",
        "outputId": "db13efef-ee18-488b-fe43-b25fcc65a0e2"
      },
      "execution_count": 101,
      "outputs": [
        {
          "output_type": "execute_result",
          "data": {
            "text/plain": [
              "[-7.523805402951357,\n",
              " -7.523798716363805,\n",
              " -7.523429871739085,\n",
              " -7.5010330775662295,\n",
              " -6.3574300087139735,\n",
              " 0.3949280095189306,\n",
              " 4.787316519674893,\n",
              " 11.895617693803503,\n",
              " 15.681022393085755,\n",
              " 16.79858313851453]"
            ]
          },
          "metadata": {},
          "execution_count": 101
        }
      ]
    },
    {
      "cell_type": "markdown",
      "source": [
        "Notice the change in values, but there is still a problem, let me show you"
      ],
      "metadata": {
        "id": "JtCfMBMcD8-j"
      }
    },
    {
      "cell_type": "code",
      "source": [
        "np.argmin(skew_list)"
      ],
      "metadata": {
        "colab": {
          "base_uri": "https://localhost:8080/"
        },
        "id": "XdET_FSKEK4q",
        "outputId": "b201f313-d8cc-4c51-d959-29a99171e9ff"
      },
      "execution_count": 102,
      "outputs": [
        {
          "output_type": "execute_result",
          "data": {
            "text/plain": [
              "0"
            ]
          },
          "metadata": {},
          "execution_count": 102
        }
      ]
    },
    {
      "cell_type": "markdown",
      "source": [
        "The index should be $5$ but is $0$, We need to make this values positive, still not actually changing them, we can do this by squaring every value"
      ],
      "metadata": {
        "id": "AAFUmiy-EMlB"
      }
    },
    {
      "cell_type": "code",
      "source": [
        "def box_cox(value , lambdas):\n",
        "    if lambdas == 0:\n",
        "        return np.log1p(value)\n",
        "    else :\n",
        "        return ((((value + 1) ** lambdas) - 1) / lambdas)\n",
        "\n",
        "array_list = []\n",
        "skew_list = []\n",
        "\n",
        "for i in range(-5 , 5):\n",
        "    \n",
        "    new_array = np.empty(shape = (1 , 1))\n",
        "\n",
        "    for j in sample_data:\n",
        "\n",
        "        new_array = np.vstack([new_array , box_cox(j , i)])\n",
        "\n",
        "    new_array = np.delete(new_array , 0 , 0)\n",
        "    \n",
        "    array_list.append(new_array)\n",
        "    skew_list.append(pd.DataFrame(new_array).skew()[0] ** 2)\n",
        "\n",
        "    output = array_list[np.argmin(skew_list)]"
      ],
      "metadata": {
        "id": "2vtdgJjlEeRD"
      },
      "execution_count": 103,
      "outputs": []
    },
    {
      "cell_type": "code",
      "source": [
        "skew_list"
      ],
      "metadata": {
        "colab": {
          "base_uri": "https://localhost:8080/"
        },
        "id": "Co_Pj_oIEmWr",
        "outputId": "e7162e91-3e30-48c7-8e85-d012a5ac691a"
      },
      "execution_count": 104,
      "outputs": [
        {
          "output_type": "execute_result",
          "data": {
            "text/plain": [
              "[56.60764774148003,\n",
              " 56.60754712435764,\n",
              " 56.60199703497598,\n",
              " 56.2654972307427,\n",
              " 40.41691631569695,\n",
              " 0.15596813270258453,\n",
              " 22.91839945955213,\n",
              " 141.50572031713097,\n",
              " 245.8944632924569,\n",
              " 282.1923954615847]"
            ]
          },
          "metadata": {},
          "execution_count": 104
        }
      ]
    },
    {
      "cell_type": "code",
      "source": [
        "np.argmin(skew_list)"
      ],
      "metadata": {
        "colab": {
          "base_uri": "https://localhost:8080/"
        },
        "id": "NuULKRgdEpId",
        "outputId": "f3f8ea0c-b94c-486c-f393-4b355a6bda25"
      },
      "execution_count": 105,
      "outputs": [
        {
          "output_type": "execute_result",
          "data": {
            "text/plain": [
              "5"
            ]
          },
          "metadata": {},
          "execution_count": 105
        }
      ]
    },
    {
      "cell_type": "markdown",
      "source": [
        "Now we got our perfect output, now lets try to implement the same on a list of columns "
      ],
      "metadata": {
        "id": "Ltvq-LQ1EqYF"
      }
    },
    {
      "cell_type": "code",
      "source": [
        "sample_data = data[[\"Fare\" , \"Age\"]]"
      ],
      "metadata": {
        "id": "zhVQcvjjE-GJ"
      },
      "execution_count": 106,
      "outputs": []
    },
    {
      "cell_type": "code",
      "source": [
        "def box_cox(value , lambdas):\n",
        "    if lambdas == 0:\n",
        "        return np.log1p(value)\n",
        "    else :\n",
        "        return ((((value + 1) ** lambdas) - 1) / lambdas)\n",
        "\n",
        "\n",
        "\n",
        "output_array = np.empty(shape = sample_data.shape)\n",
        "\n",
        "if len(sample_data.shape) == 1:\n",
        "\n",
        "    array_list = []\n",
        "    skew_list = []\n",
        "    \n",
        "    for i in range(-5 , 5):\n",
        "    \n",
        "        new_array = np.empty(shape = (1 , 1))\n",
        "\n",
        "        for j in sample_data:\n",
        "\n",
        "            new_array = np.vstack([new_array , box_cox(j , i)])\n",
        "\n",
        "        new_array = np.delete(new_array , 0 , 0)\n",
        "        \n",
        "        array_list.append(new_array)\n",
        "        skew_list.append(pd.DataFrame(new_array).skew()[0] ** 2)\n",
        "\n",
        "        output_array = array_list[np.argmin(skew_list)]\n",
        "elif len(sample_data.shape) != 1:\n",
        "    \n",
        "    for k in sample_data:\n",
        "\n",
        "        array_list = []\n",
        "        skew_list = []\n",
        "        \n",
        "        for i in range(-5 , 5):\n",
        "            \n",
        "            new_array = np.empty(shape = (1 , 1))\n",
        "\n",
        "            for j in sample_data[k]:\n",
        "\n",
        "                new_array = np.vstack([new_array , box_cox(j , i)])\n",
        "\n",
        "            new_array = np.delete(new_array , 0 , 0)\n",
        "            \n",
        "            array_list.append(new_array)\n",
        "            skew_list.append(pd.DataFrame(new_array).skew()[0] ** 2)\n",
        "\n",
        "            output = array_list[np.argmin(skew_list)]\n",
        "\n",
        "        output_array = np.hstack([output_array , output])\n",
        "\n",
        "        output_array = np.delete(output_array , 0 , 1)"
      ],
      "metadata": {
        "id": "nXHoiyJBE_6K"
      },
      "execution_count": 107,
      "outputs": []
    },
    {
      "cell_type": "code",
      "source": [
        "output_array"
      ],
      "metadata": {
        "colab": {
          "base_uri": "https://localhost:8080/"
        },
        "id": "LjzEn4lgFhVn",
        "outputId": "1d6e9033-9cbd-4bd9-c367-f38188a6182f"
      },
      "execution_count": 108,
      "outputs": [
        {
          "output_type": "execute_result",
          "data": {
            "text/plain": [
              "array([[ 2.1102132 , 22.        ],\n",
              "       [ 4.28059312, 38.        ],\n",
              "       [ 2.18885633, 26.        ],\n",
              "       ...,\n",
              "       [ 3.19663022,         nan],\n",
              "       [ 3.4339872 , 26.        ],\n",
              "       [ 2.1690537 , 32.        ]])"
            ]
          },
          "metadata": {},
          "execution_count": 108
        }
      ]
    },
    {
      "cell_type": "markdown",
      "source": [
        "Now lets just put everything into a function and name the valriables properly "
      ],
      "metadata": {
        "id": "OeC__oqnFnvC"
      }
    },
    {
      "cell_type": "code",
      "source": [
        "def box_cox(value , lambdas):\n",
        "    if lambdas == 0:\n",
        "        return np.log1p(value)\n",
        "    else :\n",
        "        return ((((value + 1) ** lambdas) - 1) / lambdas)\n",
        "\n",
        "\n",
        "def func(array):\n",
        "    output_array = np.empty(shape = array.shape)\n",
        "\n",
        "    if len(array.shape) == 1:\n",
        "\n",
        "        array_list = []\n",
        "        skew_list = []\n",
        "        \n",
        "        for bc_constant in range(-5 , 5):\n",
        "        \n",
        "            new_array = np.empty(shape = (1 , 1))\n",
        "\n",
        "            for values in array:\n",
        "\n",
        "                new_array = np.vstack([new_array , box_cox(values , bc_constant)])\n",
        "\n",
        "            new_array = np.delete(new_array , 0 , 0)\n",
        "            \n",
        "            array_list.append(new_array)\n",
        "            skew_list.append(pd.DataFrame(new_array).skew()[0] ** 2)\n",
        "\n",
        "            output_array = array_list[np.argmin(skew_list)]\n",
        "        \n",
        "        return output_array\n",
        "\n",
        "    elif len(array.shape) != 1:\n",
        "\n",
        "        for columns in array:\n",
        "\n",
        "            array_list = []\n",
        "            skew_list = []\n",
        "            \n",
        "            for bc_constant in range(-5 , 5):\n",
        "                \n",
        "                new_array = np.empty(shape = (1 , 1))\n",
        "\n",
        "                for values in array[columns]:\n",
        "\n",
        "                    new_array = np.vstack([new_array , box_cox(values , bc_constant)])\n",
        "\n",
        "                new_array = np.delete(new_array , 0 , 0)\n",
        "                \n",
        "                array_list.append(new_array)\n",
        "                skew_list.append(pd.DataFrame(new_array).skew()[0] ** 2)\n",
        "\n",
        "                output = array_list[np.argmin(skew_list)]\n",
        "\n",
        "            output_array = np.hstack([output_array , output])\n",
        "\n",
        "            output_array = np.delete(output_array , 0 , 1)\n",
        "\n",
        "        return output_array\n",
        "\n",
        "    else :\n",
        "        print(\"Please enter a valid input\")"
      ],
      "metadata": {
        "id": "UBdkToOiFwVb"
      },
      "execution_count": 109,
      "outputs": []
    },
    {
      "cell_type": "markdown",
      "source": [
        "# Yeo Johnson Transformer\n",
        "\n",
        "Yeo-Johnson transformation is a power transformation technique used for data normalization, scaling, and to handle skewed data distributions in statistical analysis and machine learning.\n",
        "\n",
        "The Yeo-Johnson transformation is a modified version of the more common Box-Cox transformation, and it can handle both positive and negative values. The transformation works by applying a power function to the data that depends on a tuning parameter λ.\n",
        "\n",
        "The Yeo-Johnson transformation has several advantages over other transformations. First, it can handle both positive and negative values, which is useful when working with data that includes both positive and negative values. Second, it can handle zero and negative values, which is useful when working with data that includes zero values. Third, it can handle skewed data distributions, which is useful when the data has a non-normal distribution.\n",
        "\n",
        "In summary, the Yeo-Johnson transformation is a flexible and powerful tool for data normalization and handling skewed data distributions in statistical analysis and machine learning."
      ],
      "metadata": {
        "id": "i-t8Ny_cGUzK"
      }
    },
    {
      "cell_type": "code",
      "source": [
        "def yeo_johnson(value , lambdas):\n",
        "    if value >= 0:\n",
        "        if lambdas == 0:\n",
        "            return (np.log1p(value))\n",
        "        else:\n",
        "            return ((((value + 1) ** lambdas) - 1) / lambdas)\n",
        "    if value < 0:\n",
        "        if lambdas == 2: \n",
        "            return (-np.log1p(-value))\n",
        "        else : \n",
        "            return ((- ((((- value) + 1) ** 2 - lambdas) - 1)) / (2 - lambdas))\n",
        "\n",
        "def box_cox(value , lambdas):\n",
        "    if lambdas == 0:\n",
        "        return np.log1p(value)\n",
        "    else :\n",
        "        return ((((value + 1) ** lambdas) - 1) / lambdas)\n",
        "\n",
        "\n",
        "def func(array , fun = None):\n",
        "    \n",
        "    output_array = np.empty(shape = array.shape)\n",
        "\n",
        "    if len(array.shape) == 1:\n",
        "\n",
        "        array_list = []\n",
        "        skew_list = []\n",
        "        \n",
        "        for constant in range(-5 , 5):\n",
        "        \n",
        "            new_array = np.empty(shape = (1 , 1))\n",
        "\n",
        "            for values in array:\n",
        "\n",
        "                if fun == \"box_cox\":\n",
        "\n",
        "                    new_array = np.vstack([new_array , box_cox(values , constant)])\n",
        "\n",
        "                else :\n",
        "                    new_array = np.vstack([new_array , yeo_johnson(values , constant)])\n",
        "            \n",
        "            new_array = np.delete(new_array , 0 , 0)\n",
        "            \n",
        "            array_list.append(new_array)\n",
        "            skew_list.append(pd.DataFrame(new_array).skew()[0] ** 2)\n",
        "\n",
        "            output_array = array_list[np.argmin(skew_list)]\n",
        "        \n",
        "        return output_array\n",
        "\n",
        "    elif len(array.shape) != 1:\n",
        "\n",
        "        for columns in array:\n",
        "\n",
        "            array_list = []\n",
        "            skew_list = []\n",
        "            \n",
        "            for constant in range(-5 , 5):\n",
        "                \n",
        "                new_array = np.empty(shape = (1 , 1))\n",
        "\n",
        "                for values in array[columns]:\n",
        "\n",
        "                    if fun == \"box_cox\":\n",
        "\n",
        "                        new_array = np.vstack([new_array , box_cox(values , constant)])\n",
        "\n",
        "                    else :\n",
        "                        \n",
        "                        new_array = np.vstack([new_array , yeo_johnson(values , constant)])\n",
        "\n",
        "                new_array = np.delete(new_array , 0 , 0)\n",
        "                \n",
        "                array_list.append(new_array)\n",
        "                skew_list.append(pd.DataFrame(new_array).skew()[0] ** 2)\n",
        "\n",
        "                output = array_list[np.argmin(skew_list)]\n",
        "\n",
        "            output_array = np.hstack([output_array , output])\n",
        "\n",
        "            output_array = np.delete(output_array , 0 , 1)\n",
        "\n",
        "        return output_array\n",
        "\n",
        "    else :\n",
        "        print(\"Please enter a valid input\")"
      ],
      "metadata": {
        "id": "2Smb5yBfPUZr"
      },
      "execution_count": 110,
      "outputs": []
    },
    {
      "cell_type": "markdown",
      "source": [
        "Now we will try to combine both our function and try to add the bypass of some edge cases"
      ],
      "metadata": {
        "id": "vpYBtpgCaRmv"
      }
    },
    {
      "cell_type": "code",
      "source": [
        "def log(value):\n",
        "    \n",
        "    return np.log1p(value)\n",
        "\n",
        "def square(value):\n",
        "    \n",
        "    return np.sqaure(value)\n",
        "\n",
        "def yeo_johnson(value , lambdas):\n",
        "    \n",
        "    if value >= 0:\n",
        "    \n",
        "        if lambdas == 0:\n",
        "    \n",
        "            return (np.log1p(value))\n",
        "    \n",
        "        else:\n",
        "    \n",
        "            return ((((value + 1) ** lambdas) - 1) / lambdas)\n",
        "    \n",
        "    if value < 0:\n",
        "    \n",
        "        if lambdas == 2: \n",
        "    \n",
        "            return (-np.log1p(-value))\n",
        "    \n",
        "        else : \n",
        "    \n",
        "            return ((- ((((- value) + 1) ** 2 - lambdas) - 1)) / (2 - lambdas))\n",
        "\n",
        "def box_cox(value , lambdas):\n",
        "\n",
        "    if lambdas == 0:\n",
        "\n",
        "        return np.log1p(value)\n",
        "\n",
        "    else :\n",
        "\n",
        "        return ((((value + 1) ** lambdas) - 1) / lambdas)\n",
        "\n",
        "def function_transformer(array , func = None):\n",
        "\n",
        "    if func == None:\n",
        "        print(\"Please enter a function\")\n",
        "        return None\n",
        "\n",
        "    elif func == \"log\" or func == \"square\":\n",
        "\n",
        "        output_array = np.empty(shape = array.shape)\n",
        "\n",
        "        if len(array.shape) == 1:\n",
        "            new_array = np.empty(shape = (1 , 1))\n",
        "            for i in array:\n",
        "\n",
        "                if func == \"log\":\n",
        "\n",
        "                    new_array = np.vstack([new_array , log_output(i)])\n",
        "                \n",
        "                else:\n",
        "                    \n",
        "                    new_array = np.vstack([new_array , square(i)])\n",
        "            \n",
        "            new_array = np.delete(new_array , 0 , 0)\n",
        "\n",
        "            return new_array\n",
        "\n",
        "        else :\n",
        "            \n",
        "            for i in array:\n",
        "            \n",
        "                new_array = np.empty(shape = (1 , 1))\n",
        "            \n",
        "                for j in array[i]:\n",
        "            \n",
        "                    if func == \"log\":\n",
        "\n",
        "                        new_array = np.vstack([new_array , log_output(i)])\n",
        "                    else:\n",
        "                    \n",
        "                        new_array = np.vstack([new_array , square(i)])\n",
        "\n",
        "                new_array = np.delete(new_array , 0 , 0)\n",
        "\n",
        "                output_array = np.hstack([output_array , new_array])\n",
        "                output_array = np.delete(output_array , 0 , 1)\n",
        "\n",
        "            return output_array\n",
        "    \n",
        "    elif func == \"box_cox\" or func == \"yeo_johnson\":\n",
        "        \n",
        "        output_array = np.empty(shape = array.shape)\n",
        "\n",
        "        if len(array.shape) == 1:\n",
        "\n",
        "            array_list = []\n",
        "            skew_list = []\n",
        "            \n",
        "            for constant in range(-5 , 5):\n",
        "            \n",
        "                new_array = np.empty(shape = (1 , 1))\n",
        "\n",
        "                for values in array:\n",
        "\n",
        "                    if func == \"box_cox\":\n",
        "\n",
        "                        new_array = np.vstack([new_array , box_cox(values , constant)])\n",
        "\n",
        "                    else :\n",
        "                        new_array = np.vstack([new_array , yeo_johnson(values , constant)])\n",
        "                \n",
        "                new_array = np.delete(new_array , 0 , 0)\n",
        "                \n",
        "                array_list.append(new_array)\n",
        "                skew_list.append(pd.DataFrame(new_array).skew()[0] ** 2)\n",
        "\n",
        "                output_array = array_list[np.argmin(skew_list)]\n",
        "            \n",
        "            return output_array\n",
        "\n",
        "        elif len(array.shape) != 1:\n",
        "\n",
        "            for columns in array:\n",
        "\n",
        "                array_list = []\n",
        "                skew_list = []\n",
        "                \n",
        "                for constant in range(-5 , 5):\n",
        "                    \n",
        "                    new_array = np.empty(shape = (1 , 1))\n",
        "\n",
        "                    for values in array[columns]:\n",
        "\n",
        "                        if func == \"box_cox\":\n",
        "\n",
        "                            new_array = np.vstack([new_array , box_cox(values , constant)])\n",
        "\n",
        "                        else :\n",
        "                            \n",
        "                            new_array = np.vstack([new_array , yeo_johnson(values , constant)])\n",
        "\n",
        "                    new_array = np.delete(new_array , 0 , 0)\n",
        "                    \n",
        "                    array_list.append(new_array)\n",
        "                    skew_list.append(pd.DataFrame(new_array).skew()[0] ** 2)\n",
        "\n",
        "                    output = array_list[np.argmin(skew_list)]\n",
        "\n",
        "                output_array = np.hstack([output_array , output])\n",
        "\n",
        "                output_array = np.delete(output_array , 0 , 1)\n",
        "\n",
        "            return output_array\n",
        "\n",
        "        else :\n",
        "            print(\"Please enter a valid input\")\n",
        "\n",
        "    else :\n",
        "        print(\"Please enter a valid function\")\n",
        "        return None"
      ],
      "metadata": {
        "id": "6FJAv0-naQ3F"
      },
      "execution_count": 111,
      "outputs": []
    }
  ],
  "metadata": {
    "colab": {
      "provenance": []
    },
    "kernelspec": {
      "display_name": "Python 3",
      "name": "python3"
    },
    "language_info": {
      "name": "python"
    }
  },
  "nbformat": 4,
  "nbformat_minor": 0
}