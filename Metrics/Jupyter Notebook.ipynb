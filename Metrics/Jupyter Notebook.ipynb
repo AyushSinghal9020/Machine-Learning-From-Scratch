{
 "cells": [
  {
   "cell_type": "markdown",
   "id": "eb858bf3",
   "metadata": {
    "papermill": {
     "duration": 0.005636,
     "end_time": "2023-04-20T10:09:19.566465",
     "exception": false,
     "start_time": "2023-04-20T10:09:19.560829",
     "status": "completed"
    },
    "tags": []
   },
   "source": [
    "# 1 | Metrics\n",
    "Metrics in machine learning refer to the quantitative measurements used to evaluate the performance of a model. Metrics can be used to assess different aspects of a model's performance, such as accuracy, precision, recall, F1-score, AUC-ROC, and others. Choosing the right metrics for a given problem is important to ensure that the model's performance is appropriately evaluated and improved.\n",
    "\n",
    "<img src = \"https://encrypted-tbn0.gstatic.com/images?q=tbn:ANd9GcT6F58yqU8uacM3fV56Thy1CGgc-qRTBWocOA&usqp=CAU\">"
   ]
  },
  {
   "cell_type": "code",
   "execution_count": 1,
   "id": "933cefee",
   "metadata": {
    "_cell_guid": "b1076dfc-b9ad-4769-8c92-a6c4dae69d19",
    "_uuid": "8f2839f25d086af736a60e9eeb907d3b93b6e0e5",
    "execution": {
     "iopub.execute_input": "2023-04-20T10:09:19.577507Z",
     "iopub.status.busy": "2023-04-20T10:09:19.577104Z",
     "iopub.status.idle": "2023-04-20T10:09:19.588279Z",
     "shell.execute_reply": "2023-04-20T10:09:19.587031Z"
    },
    "papermill": {
     "duration": 0.019563,
     "end_time": "2023-04-20T10:09:19.590794",
     "exception": false,
     "start_time": "2023-04-20T10:09:19.571231",
     "status": "completed"
    },
    "tags": []
   },
   "outputs": [],
   "source": [
    "import numpy as np\n",
    "import pandas as pd \n",
    "\n",
    "import os\n",
    "for dirname, _, filenames in os.walk('/kaggle/input'):\n",
    "    for filename in filenames:\n",
    "        print(os.path.join(dirname, filename))"
   ]
  },
  {
   "cell_type": "markdown",
   "id": "0fffe30b",
   "metadata": {
    "papermill": {
     "duration": 0.004211,
     "end_time": "2023-04-20T10:09:19.599584",
     "exception": false,
     "start_time": "2023-04-20T10:09:19.595373",
     "status": "completed"
    },
    "tags": []
   },
   "source": [
    "Lets assume you are giving a `MCQ(Multiple Choice Question)` test. There are $4$ questions \n",
    "\n",
    "## Will a Donkey be able to ride a Horse ??\n",
    "<img src = \"https://i.redd.it/lemeny69kd161.jpg\">\n",
    "\n",
    "## Will the Bank accept Monoploy Money ??\n",
    "<img src = \"https://www.meme-arsenal.com/memes/8b66635dd74ce0925f0414603b210f6f.jpg\">\n",
    "\n",
    "## Will a Dog be able to ride a SuperBike ??\n",
    "<img src = \"https://encrypted-tbn0.gstatic.com/images?q=tbn:ANd9GcRuBKEDHvyqHRCwFBvf8yW43f7Qj_JBBuXYQ0hjpqkNSMCkrJ5XSQ9brpHVGDj-0tyl9dY&usqp=CAU\">\n",
    "\n",
    "## Will I able to find my Socks ??\n",
    "<img src = \"https://i.pinimg.com/236x/4b/57/1a/4b571a419e9345aaa7798b2a00e87fd9--sock-memes.jpg\">\n",
    "\n",
    "You give the answers like this \n",
    "\n",
    "|Question|Answer\n",
    "|---|---\n",
    "|Will a Donkey be able to ride a Horse ??|False\n",
    "|Will the Bank accept Monoploy Money ??|True\n",
    "|Will a Dog be able to ride a SuperBike ??|True\n",
    "|Will I able to find my Socks ??|True\n",
    "\n",
    "But the actual answers were \n",
    "\n",
    "|Question|Answer\n",
    "|---|---\n",
    "|Will a Donkey be able to ride a Horse ??|True\n",
    "|Will the Bank accept Monoploy Money ??|True\n",
    "|Will a Dog be able to ride a SuperBike ??|True\n",
    "|Will I able to find my Socks ??|False\n",
    "\n",
    "# 2 | Accuracy Score \n",
    "\n",
    "So your teacher says that you gave $2$ `correct answers` and $2$ `incorrrect answers`. \n",
    "\n",
    "The teacher gave you marks like this $\\frac {2}{4} = 0.5$\n",
    "\n",
    "We can think this of as $\\frac {correct_-ones}{total_-ones}$\n",
    "\n",
    "**Yayyyyyyyyyy!!!!**, We have found a new mathametical formula 🥳🥳. \n",
    "\n",
    "*Lets give is a fancy name. Wait !!!. Let me use my rusty brain...*\n",
    "\n",
    "...\n",
    "\n",
    "...\n",
    "\n",
    "...\n",
    "\n",
    "Okay I got a name, the **Accuracy Score** 😎😎\n",
    "\n",
    "But there is a problem with this one, `it is simple and easy to understand`. Lets make it `difficult and hard to understand`. \n",
    "\n",
    "One way is to make a complicated chart like this "
   ]
  },
  {
   "cell_type": "markdown",
   "id": "9906a52f",
   "metadata": {
    "papermill": {
     "duration": 0.00409,
     "end_time": "2023-04-20T10:09:19.608030",
     "exception": false,
     "start_time": "2023-04-20T10:09:19.603940",
     "status": "completed"
    },
    "tags": []
   },
   "source": [
    "|||Actual Answers|Actual Answers|Total\n",
    "|---|---|---|---|---|\n",
    "|||False|True|\n",
    "|Your Answers|False|$0$|$1$|$0 + 1 = 1$|\n",
    "|Your Answers|True|$1$|$2$|$1 + 2 = 3$|\n",
    "|Total||$0+1 = 1$|$1+2=3$|$$\\frac {4 + 4}{2} = \\frac {8}{2} = 4$$|\n",
    "\n",
    "We call this **Bad Boy** the `Confusion Matrix`\n",
    "\n",
    "We introduce more complex terms in this bad boy\n",
    "* `True Positives` - When both `Actual Answers` and `Your Answers` says $1$\n",
    "* `True Negatives` - When both `Actual Answers` and `Your Answers` says $0$\n",
    "* `False Positives` - When`Actual Answers` says $1$ but `Your Answers` says $0$\n",
    "* `False Negatives` - When`Actual Answers` says $0$ but `Your Answers` says $1$\n",
    "\n",
    "Also we needlesly update our formula $$Accuracy_-Score = \\frac {True_-Positive + True_-Negative}{True_-Positive + True_-Negative + False_-Postive + False_-Negatives}$$\n",
    "\n",
    "This formula is for the common people. We are the lijhandary inventors of this formula. So we have the privelege to write it as \n",
    "\n",
    "$$AS = \\frac {T_P + T_N}{T_P + T_N + F_P + F_N}$$\n",
    "\n",
    "By chance We are also programers. So our second last brain cell asks??. What if we code this **Bad Boy...?**.\n",
    "\n",
    "Lets try to find out!!!\n",
    "\n",
    "# 2.1 | Accuracy Score From Scratch\n",
    "\n",
    "This is the list of answers we gave "
   ]
  },
  {
   "cell_type": "code",
   "execution_count": 2,
   "id": "2eecb9ae",
   "metadata": {
    "execution": {
     "iopub.execute_input": "2023-04-20T10:09:19.618254Z",
     "iopub.status.busy": "2023-04-20T10:09:19.617797Z",
     "iopub.status.idle": "2023-04-20T10:09:19.622954Z",
     "shell.execute_reply": "2023-04-20T10:09:19.621929Z"
    },
    "papermill": {
     "duration": 0.012956,
     "end_time": "2023-04-20T10:09:19.625261",
     "exception": false,
     "start_time": "2023-04-20T10:09:19.612305",
     "status": "completed"
    },
    "tags": []
   },
   "outputs": [],
   "source": [
    "our_legendary_answers = [\"False\" , \"True\" , \"True\" , \"True\"]"
   ]
  },
  {
   "cell_type": "markdown",
   "id": "f22cb5e5",
   "metadata": {
    "papermill": {
     "duration": 0.00412,
     "end_time": "2023-04-20T10:09:19.634070",
     "exception": false,
     "start_time": "2023-04-20T10:09:19.629950",
     "status": "completed"
    },
    "tags": []
   },
   "source": [
    "And this is the list teacher gave "
   ]
  },
  {
   "cell_type": "code",
   "execution_count": 3,
   "id": "76dd41ff",
   "metadata": {
    "execution": {
     "iopub.execute_input": "2023-04-20T10:09:19.645049Z",
     "iopub.status.busy": "2023-04-20T10:09:19.644004Z",
     "iopub.status.idle": "2023-04-20T10:09:19.649313Z",
     "shell.execute_reply": "2023-04-20T10:09:19.648220Z"
    },
    "papermill": {
     "duration": 0.013432,
     "end_time": "2023-04-20T10:09:19.651768",
     "exception": false,
     "start_time": "2023-04-20T10:09:19.638336",
     "status": "completed"
    },
    "tags": []
   },
   "outputs": [],
   "source": [
    "teacher_answers = [\"True\" , \"True\" , \"True\" , \"False\"]"
   ]
  },
  {
   "cell_type": "markdown",
   "id": "3feec9ce",
   "metadata": {
    "papermill": {
     "duration": 0.004186,
     "end_time": "2023-04-20T10:09:19.660501",
     "exception": false,
     "start_time": "2023-04-20T10:09:19.656315",
     "status": "completed"
    },
    "tags": []
   },
   "source": [
    "We intialize a variable `Correct_ones`, to keep track which ones were the correct ones "
   ]
  },
  {
   "cell_type": "code",
   "execution_count": 4,
   "id": "262173d3",
   "metadata": {
    "execution": {
     "iopub.execute_input": "2023-04-20T10:09:19.671260Z",
     "iopub.status.busy": "2023-04-20T10:09:19.670835Z",
     "iopub.status.idle": "2023-04-20T10:09:19.675438Z",
     "shell.execute_reply": "2023-04-20T10:09:19.674233Z"
    },
    "papermill": {
     "duration": 0.01311,
     "end_time": "2023-04-20T10:09:19.677908",
     "exception": false,
     "start_time": "2023-04-20T10:09:19.664798",
     "status": "completed"
    },
    "tags": []
   },
   "outputs": [],
   "source": [
    "correct_ones = 0"
   ]
  },
  {
   "cell_type": "markdown",
   "id": "54186376",
   "metadata": {
    "papermill": {
     "duration": 0.00393,
     "end_time": "2023-04-20T10:09:19.686201",
     "exception": false,
     "start_time": "2023-04-20T10:09:19.682271",
     "status": "completed"
    },
    "tags": []
   },
   "source": [
    "Now we run a for loop and check if we got the correct ones "
   ]
  },
  {
   "cell_type": "code",
   "execution_count": 5,
   "id": "23d89b69",
   "metadata": {
    "execution": {
     "iopub.execute_input": "2023-04-20T10:09:19.697416Z",
     "iopub.status.busy": "2023-04-20T10:09:19.697011Z",
     "iopub.status.idle": "2023-04-20T10:09:19.702419Z",
     "shell.execute_reply": "2023-04-20T10:09:19.701118Z"
    },
    "papermill": {
     "duration": 0.014208,
     "end_time": "2023-04-20T10:09:19.705006",
     "exception": false,
     "start_time": "2023-04-20T10:09:19.690798",
     "status": "completed"
    },
    "tags": []
   },
   "outputs": [],
   "source": [
    "for our_answers , teacher_ones in zip(our_legendary_answers , teacher_answers):\n",
    "    if our_answers == teacher_ones:\n",
    "        correct_ones += 1"
   ]
  },
  {
   "cell_type": "code",
   "execution_count": 6,
   "id": "fd793f6a",
   "metadata": {
    "execution": {
     "iopub.execute_input": "2023-04-20T10:09:19.715785Z",
     "iopub.status.busy": "2023-04-20T10:09:19.715340Z",
     "iopub.status.idle": "2023-04-20T10:09:19.723421Z",
     "shell.execute_reply": "2023-04-20T10:09:19.722092Z"
    },
    "papermill": {
     "duration": 0.016928,
     "end_time": "2023-04-20T10:09:19.726417",
     "exception": false,
     "start_time": "2023-04-20T10:09:19.709489",
     "status": "completed"
    },
    "tags": []
   },
   "outputs": [
    {
     "data": {
      "text/plain": [
       "2"
      ]
     },
     "execution_count": 6,
     "metadata": {},
     "output_type": "execute_result"
    }
   ],
   "source": [
    "correct_ones"
   ]
  },
  {
   "cell_type": "markdown",
   "id": "1ccc227f",
   "metadata": {
    "papermill": {
     "duration": 0.004203,
     "end_time": "2023-04-20T10:09:19.735471",
     "exception": false,
     "start_time": "2023-04-20T10:09:19.731268",
     "status": "completed"
    },
    "tags": []
   },
   "source": [
    "And that is right we gave $2$ correct answers. Now we just need to divide this by the total number of questions "
   ]
  },
  {
   "cell_type": "code",
   "execution_count": 7,
   "id": "b72f2679",
   "metadata": {
    "execution": {
     "iopub.execute_input": "2023-04-20T10:09:19.746595Z",
     "iopub.status.busy": "2023-04-20T10:09:19.746185Z",
     "iopub.status.idle": "2023-04-20T10:09:19.753364Z",
     "shell.execute_reply": "2023-04-20T10:09:19.752148Z"
    },
    "papermill": {
     "duration": 0.015879,
     "end_time": "2023-04-20T10:09:19.755886",
     "exception": false,
     "start_time": "2023-04-20T10:09:19.740007",
     "status": "completed"
    },
    "tags": []
   },
   "outputs": [
    {
     "data": {
      "text/plain": [
       "0.5"
      ]
     },
     "execution_count": 7,
     "metadata": {},
     "output_type": "execute_result"
    }
   ],
   "source": [
    "correct_ones/len(teacher_answers)"
   ]
  },
  {
   "cell_type": "markdown",
   "id": "930a4ae9",
   "metadata": {
    "papermill": {
     "duration": 0.004479,
     "end_time": "2023-04-20T10:09:19.765110",
     "exception": false,
     "start_time": "2023-04-20T10:09:19.760631",
     "status": "completed"
    },
    "tags": []
   },
   "source": [
    "And this is our **Accuracy Score** for the test. \n",
    "\n",
    "By chance we are also kind people. So we think of other people too. So we will make a user friendly function for other users. \n",
    "\n",
    "The function will take `actuals` and `predictions` $2$ lists, and spit out the `accuracy_score`. "
   ]
  },
  {
   "cell_type": "code",
   "execution_count": 8,
   "id": "d8715366",
   "metadata": {
    "execution": {
     "iopub.execute_input": "2023-04-20T10:09:19.776797Z",
     "iopub.status.busy": "2023-04-20T10:09:19.776394Z",
     "iopub.status.idle": "2023-04-20T10:09:19.782449Z",
     "shell.execute_reply": "2023-04-20T10:09:19.781151Z"
    },
    "papermill": {
     "duration": 0.014958,
     "end_time": "2023-04-20T10:09:19.784755",
     "exception": false,
     "start_time": "2023-04-20T10:09:19.769797",
     "status": "completed"
    },
    "tags": []
   },
   "outputs": [],
   "source": [
    "def accuracy_score(actuals , predictions):\n",
    "    \n",
    "    correct_ones = 0\n",
    "    \n",
    "    for actual  , predicted in zip(actuals , predictions):\n",
    "        \n",
    "        if predicted == actual:\n",
    "            \n",
    "            correct_ones += 1\n",
    "\n",
    "    asc = correct_ones / len(predictions)\n",
    "\n",
    "    return asc"
   ]
  },
  {
   "cell_type": "markdown",
   "id": "3c1d8c74",
   "metadata": {
    "papermill": {
     "duration": 0.004329,
     "end_time": "2023-04-20T10:09:19.793723",
     "exception": false,
     "start_time": "2023-04-20T10:09:19.789394",
     "status": "completed"
    },
    "tags": []
   },
   "source": [
    "**Jokes apart, this was actually a small surface depiction of how the [sklearn.metrics.accuracy_score](https://scikit-learn.org/stable/modules/generated/sklearn.metrics.accuracy_score.html) works internally. Kudos to them !!!**"
   ]
  }
 ],
 "metadata": {
  "kernelspec": {
   "display_name": "Python 3",
   "language": "python",
   "name": "python3"
  },
  "language_info": {
   "codemirror_mode": {
    "name": "ipython",
    "version": 3
   },
   "file_extension": ".py",
   "mimetype": "text/x-python",
   "name": "python",
   "nbconvert_exporter": "python",
   "pygments_lexer": "ipython3",
   "version": "3.7.12"
  },
  "papermill": {
   "default_parameters": {},
   "duration": 11.338932,
   "end_time": "2023-04-20T10:09:20.521462",
   "environment_variables": {},
   "exception": null,
   "input_path": "__notebook__.ipynb",
   "output_path": "__notebook__.ipynb",
   "parameters": {},
   "start_time": "2023-04-20T10:09:09.182530",
   "version": "2.4.0"
  }
 },
 "nbformat": 4,
 "nbformat_minor": 5
}
