{
 "cells": [
  {
   "cell_type": "markdown",
   "id": "4e9f2071",
   "metadata": {
    "papermill": {
     "duration": 0.014448,
     "end_time": "2023-04-24T13:55:39.859173",
     "exception": false,
     "start_time": "2023-04-24T13:55:39.844725",
     "status": "completed"
    },
    "tags": []
   },
   "source": [
    "# Metrics\n",
    "Metrics in machine learning refer to the quantitative measurements used to evaluate the performance of a model. Metrics can be used to assess different aspects of a model's performance, such as accuracy, precision, recall, F1-score, AUC-ROC, and others. Choosing the right metrics for a given problem is important to ensure that the model's performance is appropriately evaluated and improved.\n",
    "\n",
    "<img src = \"https://encrypted-tbn0.gstatic.com/images?q=tbn:ANd9GcT6F58yqU8uacM3fV56Thy1CGgc-qRTBWocOA&usqp=CAU\">\n",
    "\n",
    "|Classification|Further Types|Formula\n",
    "|---|---|---|\n",
    "|Accuracy|Accuracy Score|$$\\frac {T_P}{n}$$\n",
    "||Balanced Accuracy Score|$$\\frac {Senstivity + Specifisity}{2}$$\n",
    "||Top K Accuracy|$$argmax[accuracy]$$\n",
    "|Precison|Average Precision Score|$$\\frac {T_P}{F_N}$$"
   ]
  },
  {
   "cell_type": "code",
   "execution_count": 1,
   "id": "c008c441",
   "metadata": {
    "_cell_guid": "b1076dfc-b9ad-4769-8c92-a6c4dae69d19",
    "_uuid": "8f2839f25d086af736a60e9eeb907d3b93b6e0e5",
    "execution": {
     "iopub.execute_input": "2023-04-24T13:55:39.889376Z",
     "iopub.status.busy": "2023-04-24T13:55:39.888964Z",
     "iopub.status.idle": "2023-04-24T13:55:39.901676Z",
     "shell.execute_reply": "2023-04-24T13:55:39.900413Z"
    },
    "papermill": {
     "duration": 0.031046,
     "end_time": "2023-04-24T13:55:39.904620",
     "exception": false,
     "start_time": "2023-04-24T13:55:39.873574",
     "status": "completed"
    },
    "tags": []
   },
   "outputs": [],
   "source": [
    "import numpy as np\n",
    "import pandas as pd \n",
    "\n",
    "import os\n",
    "for dirname, _, filenames in os.walk('/kaggle/input'):\n",
    "    for filename in filenames:\n",
    "        print(os.path.join(dirname, filename))"
   ]
  },
  {
   "cell_type": "markdown",
   "id": "39104f16",
   "metadata": {
    "papermill": {
     "duration": 0.013971,
     "end_time": "2023-04-24T13:55:39.932251",
     "exception": false,
     "start_time": "2023-04-24T13:55:39.918280",
     "status": "completed"
    },
    "tags": []
   },
   "source": [
    "Lets assume you are giving a `MCQ(Multiple Choice Question)` test. There are $4$ questions \n",
    "\n",
    "## Will a Donkey be able to ride a Horse ??\n",
    "<img src = \"https://i.redd.it/lemeny69kd161.jpg\">\n",
    "\n",
    "## Will the Bank accept Monoploy Money ??\n",
    "<img src = \"https://www.meme-arsenal.com/memes/8b66635dd74ce0925f0414603b210f6f.jpg\">\n",
    "\n",
    "## Will a Dog be able to ride a SuperBike ??\n",
    "<img src = \"https://encrypted-tbn0.gstatic.com/images?q=tbn:ANd9GcRuBKEDHvyqHRCwFBvf8yW43f7Qj_JBBuXYQ0hjpqkNSMCkrJ5XSQ9brpHVGDj-0tyl9dY&usqp=CAU\">\n",
    "\n",
    "## Will I able to find my Socks ??\n",
    "<img src = \"https://i.pinimg.com/236x/4b/57/1a/4b571a419e9345aaa7798b2a00e87fd9--sock-memes.jpg\">\n",
    "\n",
    "You give the answers like this \n",
    "\n",
    "|Question|Answer\n",
    "|---|---\n",
    "|Will a Donkey be able to ride a Horse ??|False\n",
    "|Will the Bank accept Monoploy Money ??|True\n",
    "|Will a Dog be able to ride a SuperBike ??|True\n",
    "|Will I able to find my Socks ??|True\n",
    "\n",
    "But the actual answers were \n",
    "\n",
    "|Question|Answer\n",
    "|---|---\n",
    "|Will a Donkey be able to ride a Horse ??|True\n",
    "|Will the Bank accept Monoploy Money ??|True\n",
    "|Will a Dog be able to ride a SuperBike ??|True\n",
    "|Will I able to find my Socks ??|False\n",
    "\n",
    "# 1 | Accuracy \n",
    "\n",
    "# 1.1 | Accuracy Score \n",
    "\n",
    "So your teacher says that you gave $2$ `correct answers` and $2$ `incorrrect answers`. \n",
    "\n",
    "The teacher gave you marks like this $\\frac {2}{4} = 0.5$\n",
    "\n",
    "We can think this of as $\\frac {correct_-ones}{total_-ones}$\n",
    "\n",
    "**Yayyyyyyyyyy!!!!**, We have found a new mathametical formula 🥳🥳. \n",
    "\n",
    "*Lets give is a fancy name. Wait !!!. Let me use my rusty brain...*\n",
    "\n",
    "...\n",
    "\n",
    "...\n",
    "\n",
    "...\n",
    "\n",
    "Okay I got a name, the **Accuracy Score** 😎😎\n",
    "\n",
    "But there is a problem with this one, `it is simple and easy to understand`. Lets make it `difficult and hard to understand`. \n",
    "\n",
    "One way is to make a complicated chart like this \n",
    "\n",
    "|||Actual Answers|Actual Answers|Total\n",
    "|---|---|---|---|---|\n",
    "|||False|True|\n",
    "|Your Answers|False|$0$|$1$|$0 + 1 = 1$|\n",
    "|Your Answers|True|$1$|$2$|$1 + 2 = 3$|\n",
    "|Total||$0+1 = 1$|$1+2=3$|$$\\frac {4 + 4}{2} = \\frac {8}{2} = 4$$|\n",
    "\n",
    "We call this **Bad Boy** the `Confusion Matrix`\n",
    "\n",
    "We introduce more complex terms in this bad boy\n",
    "* `True Positives` - When both `Actual Answers` and `Your Answers` says $1$\n",
    "* `True Negatives` - When both `Actual Answers` and `Your Answers` says $0$\n",
    "* `False Positives` - When`Actual Answers` says $1$ but `Your Answers` says $0$\n",
    "* `False Negatives` - When`Actual Answers` says $0$ but `Your Answers` says $1$\n",
    "\n",
    "Also we needlesly update our formula $$Accuracy_-Score = \\frac {True_-Positive + True_-Negative}{True_-Positive + True_-Negative + False_-Postive + False_-Negatives}$$\n",
    "\n",
    "This formula is for the common people. We are the lijhandary inventors of this formula. So we have the privelege to write it as \n",
    "\n",
    "$$AS = \\frac {T_P + T_N}{T_P + T_N + F_P + F_N}$$\n",
    "\n",
    "By chance We are also programers. So our second last brain cell asks??. What if we code this **Bad Boy...?**.\n",
    "\n",
    "Lets try to find out!!!\n",
    "\n",
    "# 1.1.1 | Accuracy Score From Scratch\n",
    "\n",
    "This is the list of answers we gave "
   ]
  },
  {
   "cell_type": "code",
   "execution_count": 2,
   "id": "16e30e35",
   "metadata": {
    "execution": {
     "iopub.execute_input": "2023-04-24T13:55:39.962631Z",
     "iopub.status.busy": "2023-04-24T13:55:39.962210Z",
     "iopub.status.idle": "2023-04-24T13:55:39.967841Z",
     "shell.execute_reply": "2023-04-24T13:55:39.966387Z"
    },
    "papermill": {
     "duration": 0.022974,
     "end_time": "2023-04-24T13:55:39.970382",
     "exception": false,
     "start_time": "2023-04-24T13:55:39.947408",
     "status": "completed"
    },
    "tags": []
   },
   "outputs": [],
   "source": [
    "our_legendary_answers = [\"False\" , \"True\" , \"True\" , \"True\"]"
   ]
  },
  {
   "cell_type": "markdown",
   "id": "3d52ad4d",
   "metadata": {
    "papermill": {
     "duration": 0.012973,
     "end_time": "2023-04-24T13:55:39.997123",
     "exception": false,
     "start_time": "2023-04-24T13:55:39.984150",
     "status": "completed"
    },
    "tags": []
   },
   "source": [
    "And this is the list teacher gave "
   ]
  },
  {
   "cell_type": "code",
   "execution_count": 3,
   "id": "beb50759",
   "metadata": {
    "execution": {
     "iopub.execute_input": "2023-04-24T13:55:40.025241Z",
     "iopub.status.busy": "2023-04-24T13:55:40.024842Z",
     "iopub.status.idle": "2023-04-24T13:55:40.029898Z",
     "shell.execute_reply": "2023-04-24T13:55:40.028603Z"
    },
    "papermill": {
     "duration": 0.02211,
     "end_time": "2023-04-24T13:55:40.032207",
     "exception": false,
     "start_time": "2023-04-24T13:55:40.010097",
     "status": "completed"
    },
    "tags": []
   },
   "outputs": [],
   "source": [
    "teacher_answers = [\"True\" , \"True\" , \"True\" , \"False\"]"
   ]
  },
  {
   "cell_type": "markdown",
   "id": "008bfa1a",
   "metadata": {
    "papermill": {
     "duration": 0.013432,
     "end_time": "2023-04-24T13:55:40.058815",
     "exception": false,
     "start_time": "2023-04-24T13:55:40.045383",
     "status": "completed"
    },
    "tags": []
   },
   "source": [
    "We intialize a variable `Correct_ones`, to keep track which ones were the correct ones "
   ]
  },
  {
   "cell_type": "code",
   "execution_count": 4,
   "id": "9b379b50",
   "metadata": {
    "execution": {
     "iopub.execute_input": "2023-04-24T13:55:40.088536Z",
     "iopub.status.busy": "2023-04-24T13:55:40.088032Z",
     "iopub.status.idle": "2023-04-24T13:55:40.093751Z",
     "shell.execute_reply": "2023-04-24T13:55:40.092507Z"
    },
    "papermill": {
     "duration": 0.023797,
     "end_time": "2023-04-24T13:55:40.096504",
     "exception": false,
     "start_time": "2023-04-24T13:55:40.072707",
     "status": "completed"
    },
    "tags": []
   },
   "outputs": [],
   "source": [
    "correct_ones = 0"
   ]
  },
  {
   "cell_type": "markdown",
   "id": "97ee4230",
   "metadata": {
    "papermill": {
     "duration": 0.013271,
     "end_time": "2023-04-24T13:55:40.123307",
     "exception": false,
     "start_time": "2023-04-24T13:55:40.110036",
     "status": "completed"
    },
    "tags": []
   },
   "source": [
    "Now we run a for loop and check if we got the correct ones "
   ]
  },
  {
   "cell_type": "code",
   "execution_count": 5,
   "id": "ae9e19fa",
   "metadata": {
    "execution": {
     "iopub.execute_input": "2023-04-24T13:55:40.152439Z",
     "iopub.status.busy": "2023-04-24T13:55:40.152048Z",
     "iopub.status.idle": "2023-04-24T13:55:40.157399Z",
     "shell.execute_reply": "2023-04-24T13:55:40.156223Z"
    },
    "papermill": {
     "duration": 0.022898,
     "end_time": "2023-04-24T13:55:40.159860",
     "exception": false,
     "start_time": "2023-04-24T13:55:40.136962",
     "status": "completed"
    },
    "tags": []
   },
   "outputs": [],
   "source": [
    "for our_answers , teacher_ones in zip(our_legendary_answers , teacher_answers):\n",
    "    if our_answers == teacher_ones:\n",
    "        correct_ones += 1"
   ]
  },
  {
   "cell_type": "code",
   "execution_count": 6,
   "id": "f19b302e",
   "metadata": {
    "execution": {
     "iopub.execute_input": "2023-04-24T13:55:40.189057Z",
     "iopub.status.busy": "2023-04-24T13:55:40.188646Z",
     "iopub.status.idle": "2023-04-24T13:55:40.196571Z",
     "shell.execute_reply": "2023-04-24T13:55:40.195479Z"
    },
    "papermill": {
     "duration": 0.026191,
     "end_time": "2023-04-24T13:55:40.199286",
     "exception": false,
     "start_time": "2023-04-24T13:55:40.173095",
     "status": "completed"
    },
    "tags": []
   },
   "outputs": [
    {
     "data": {
      "text/plain": [
       "2"
      ]
     },
     "execution_count": 6,
     "metadata": {},
     "output_type": "execute_result"
    }
   ],
   "source": [
    "correct_ones"
   ]
  },
  {
   "cell_type": "markdown",
   "id": "59f1cb99",
   "metadata": {
    "papermill": {
     "duration": 0.012874,
     "end_time": "2023-04-24T13:55:40.225593",
     "exception": false,
     "start_time": "2023-04-24T13:55:40.212719",
     "status": "completed"
    },
    "tags": []
   },
   "source": [
    "And that is right we gave $2$ correct answers. Now we just need to divide this by the total number of questions "
   ]
  },
  {
   "cell_type": "code",
   "execution_count": 7,
   "id": "012f4ba4",
   "metadata": {
    "execution": {
     "iopub.execute_input": "2023-04-24T13:55:40.254384Z",
     "iopub.status.busy": "2023-04-24T13:55:40.253601Z",
     "iopub.status.idle": "2023-04-24T13:55:40.260603Z",
     "shell.execute_reply": "2023-04-24T13:55:40.259611Z"
    },
    "papermill": {
     "duration": 0.024243,
     "end_time": "2023-04-24T13:55:40.263074",
     "exception": false,
     "start_time": "2023-04-24T13:55:40.238831",
     "status": "completed"
    },
    "tags": []
   },
   "outputs": [
    {
     "data": {
      "text/plain": [
       "0.5"
      ]
     },
     "execution_count": 7,
     "metadata": {},
     "output_type": "execute_result"
    }
   ],
   "source": [
    "correct_ones/len(teacher_answers)"
   ]
  },
  {
   "cell_type": "markdown",
   "id": "f38f9801",
   "metadata": {
    "papermill": {
     "duration": 0.013289,
     "end_time": "2023-04-24T13:55:40.289945",
     "exception": false,
     "start_time": "2023-04-24T13:55:40.276656",
     "status": "completed"
    },
    "tags": []
   },
   "source": [
    "And this is our **Accuracy Score** for the test. \n",
    "\n",
    "By chance we are also kind people. So we think of other people too. So we will make a user friendly function for other users. \n",
    "\n",
    "The function will take `actuals` and `predictions` $2$ lists, and spit out the `accuracy_score`. "
   ]
  },
  {
   "cell_type": "markdown",
   "id": "b26e8222",
   "metadata": {
    "papermill": {
     "duration": 0.012992,
     "end_time": "2023-04-24T13:55:40.317077",
     "exception": false,
     "start_time": "2023-04-24T13:55:40.304085",
     "status": "completed"
    },
    "tags": []
   },
   "source": [
    "# 1.1.2 | Accuracy Score Final Source Code"
   ]
  },
  {
   "cell_type": "code",
   "execution_count": 8,
   "id": "46440254",
   "metadata": {
    "execution": {
     "iopub.execute_input": "2023-04-24T13:55:40.345868Z",
     "iopub.status.busy": "2023-04-24T13:55:40.345442Z",
     "iopub.status.idle": "2023-04-24T13:55:40.351495Z",
     "shell.execute_reply": "2023-04-24T13:55:40.349993Z"
    },
    "papermill": {
     "duration": 0.023448,
     "end_time": "2023-04-24T13:55:40.353951",
     "exception": false,
     "start_time": "2023-04-24T13:55:40.330503",
     "status": "completed"
    },
    "tags": []
   },
   "outputs": [],
   "source": [
    "def accuracy_score(actuals , predictions):\n",
    "    \n",
    "    correct_ones = 0\n",
    "    \n",
    "    for actual  , predicted in zip(actuals , predictions):\n",
    "        \n",
    "        if predicted == actual:\n",
    "            \n",
    "            correct_ones += 1\n",
    "\n",
    "    asc = correct_ones / len(predictions)\n",
    "\n",
    "    return asc"
   ]
  },
  {
   "cell_type": "markdown",
   "id": "e1074b69",
   "metadata": {
    "papermill": {
     "duration": 0.013853,
     "end_time": "2023-04-24T13:55:40.381356",
     "exception": false,
     "start_time": "2023-04-24T13:55:40.367503",
     "status": "completed"
    },
    "tags": []
   },
   "source": [
    "**Jokes apart, this was actually a small surface depiction of how the [sklearn.metrics.accuracy_score](https://scikit-learn.org/stable/modules/generated/sklearn.metrics.accuracy_score.html) works internally. Kudos to them !!!**\n",
    "\n",
    "# 1.2 | Balanced Accuracy Score "
   ]
  },
  {
   "cell_type": "markdown",
   "id": "51da797a",
   "metadata": {
    "papermill": {
     "duration": 0.013567,
     "end_time": "2023-04-24T13:55:40.408307",
     "exception": false,
     "start_time": "2023-04-24T13:55:40.394740",
     "status": "completed"
    },
    "tags": []
   },
   "source": [
    "Suppose you have the `our_legendary_answers` list as "
   ]
  },
  {
   "cell_type": "code",
   "execution_count": 9,
   "id": "6b1b2488",
   "metadata": {
    "execution": {
     "iopub.execute_input": "2023-04-24T13:55:40.438095Z",
     "iopub.status.busy": "2023-04-24T13:55:40.437677Z",
     "iopub.status.idle": "2023-04-24T13:55:40.442953Z",
     "shell.execute_reply": "2023-04-24T13:55:40.441776Z"
    },
    "papermill": {
     "duration": 0.02275,
     "end_time": "2023-04-24T13:55:40.445204",
     "exception": false,
     "start_time": "2023-04-24T13:55:40.422454",
     "status": "completed"
    },
    "tags": []
   },
   "outputs": [],
   "source": [
    "our_legendary_answers = [\"True\" , \"True\" , \"True\" , \"True\" , \"True\" , \"True\"]"
   ]
  },
  {
   "cell_type": "markdown",
   "id": "f3c9eeb5",
   "metadata": {
    "papermill": {
     "duration": 0.013148,
     "end_time": "2023-04-24T13:55:40.471667",
     "exception": false,
     "start_time": "2023-04-24T13:55:40.458519",
     "status": "completed"
    },
    "tags": []
   },
   "source": [
    "And `teacher_answers` as "
   ]
  },
  {
   "cell_type": "code",
   "execution_count": 10,
   "id": "a004e8ef",
   "metadata": {
    "execution": {
     "iopub.execute_input": "2023-04-24T13:55:40.500819Z",
     "iopub.status.busy": "2023-04-24T13:55:40.500380Z",
     "iopub.status.idle": "2023-04-24T13:55:40.505557Z",
     "shell.execute_reply": "2023-04-24T13:55:40.504284Z"
    },
    "papermill": {
     "duration": 0.022713,
     "end_time": "2023-04-24T13:55:40.507940",
     "exception": false,
     "start_time": "2023-04-24T13:55:40.485227",
     "status": "completed"
    },
    "tags": []
   },
   "outputs": [],
   "source": [
    "teacher_answers = [\"True\" , \"True\" , \"True\" , \"True\" , \"True\" , \"False\"]"
   ]
  },
  {
   "cell_type": "markdown",
   "id": "74c5a110",
   "metadata": {
    "papermill": {
     "duration": 0.013088,
     "end_time": "2023-04-24T13:55:40.534348",
     "exception": false,
     "start_time": "2023-04-24T13:55:40.521260",
     "status": "completed"
    },
    "tags": []
   },
   "source": [
    "If we calculate the `accuracy_score` for this, we get "
   ]
  },
  {
   "cell_type": "code",
   "execution_count": 11,
   "id": "3e1ceb42",
   "metadata": {
    "execution": {
     "iopub.execute_input": "2023-04-24T13:55:40.564108Z",
     "iopub.status.busy": "2023-04-24T13:55:40.563712Z",
     "iopub.status.idle": "2023-04-24T13:55:40.571079Z",
     "shell.execute_reply": "2023-04-24T13:55:40.569846Z"
    },
    "papermill": {
     "duration": 0.025792,
     "end_time": "2023-04-24T13:55:40.573690",
     "exception": false,
     "start_time": "2023-04-24T13:55:40.547898",
     "status": "completed"
    },
    "tags": []
   },
   "outputs": [
    {
     "data": {
      "text/plain": [
       "0.8333333333333334"
      ]
     },
     "execution_count": 11,
     "metadata": {},
     "output_type": "execute_result"
    }
   ],
   "source": [
    "accuracy_score(teacher_answers , our_legendary_answers)"
   ]
  },
  {
   "cell_type": "markdown",
   "id": "a3918b63",
   "metadata": {
    "papermill": {
     "duration": 0.01333,
     "end_time": "2023-04-24T13:55:40.600671",
     "exception": false,
     "start_time": "2023-04-24T13:55:40.587341",
     "status": "completed"
    },
    "tags": []
   },
   "source": [
    "And we have a really great accuracy. beacuse we were correct most of the time. \n",
    "\n",
    "But notice one thing, rather than actually learning, we acutally just gave the same answer every time. Means in reality we actually didnt learn anything. This happened because the data was not varried. The number of `False` was way less than `True`.  \n",
    "\n",
    "**The drawback of `accuracy_score` was it was not able to handle imbalanced data**\n",
    "\n",
    "To comprehend this, we introduce a more complex metric. \n",
    "\n",
    "**The Lijhandary Balance Accuracy Score**🤯🤯\n",
    "\n",
    "So the original formula for a particular label is $$as_{True} = \\frac {Number_-Of_-times_-True_-was_-Predicited}{Total_-values}$$\n",
    "\n",
    "We can change this formula a little bit $$as_{True} = \\frac {Number_-Of_-times_-True_-was_-Predicited}{Number_-Of_-times_-True_-was_-Predicited + Number_-Of_-times_-True_-was_-not_-Predicited}$$\n",
    "\n",
    "$$as_{True} = \\frac {Number_-Of_-times_-True_-was_-Predicited}{Number_-Of_-times_-True_-was_-Predicited + Number_-Of_-times_-Other_-value_-was_-falsely_-Predicited}$$\n",
    "\n",
    "And the same formula with some tweeks will work for `False` too\n",
    "\n",
    "We can wirte this formula as \n",
    "\n",
    "$$as_{True} = \\frac {T_P}{T_P + F_N}$$\n",
    "$$as_{False} = \\frac {T_N}{T_N+ F_P}$$\n",
    "\n",
    "Actually we do not call this `accuracy_score` or `as`, we call it `recall`\n",
    "\n",
    "$$recall_{True} = \\frac {T_P}{T_P + F_N}$$\n",
    "$$recall_{False} = \\frac {T_N}{T_N+ F_P}$$\n",
    "\n",
    "To calculate the `balanced_accuracy_score` we take the mean of all of these values\n",
    "\n",
    "Now lets try to code this thing "
   ]
  },
  {
   "cell_type": "markdown",
   "id": "170965b6",
   "metadata": {
    "papermill": {
     "duration": 0.013486,
     "end_time": "2023-04-24T13:55:40.627898",
     "exception": false,
     "start_time": "2023-04-24T13:55:40.614412",
     "status": "completed"
    },
    "tags": []
   },
   "source": [
    "First lets transition from `list` to `arrays`. as it gives us more functionalities."
   ]
  },
  {
   "cell_type": "markdown",
   "id": "e09af298",
   "metadata": {
    "papermill": {
     "duration": 0.013251,
     "end_time": "2023-04-24T13:55:40.655033",
     "exception": false,
     "start_time": "2023-04-24T13:55:40.641782",
     "status": "completed"
    },
    "tags": []
   },
   "source": [
    "# 1.2.1 | Balanced Accuracy Score from Scratch "
   ]
  },
  {
   "cell_type": "code",
   "execution_count": 12,
   "id": "fc51cb76",
   "metadata": {
    "execution": {
     "iopub.execute_input": "2023-04-24T13:55:40.684472Z",
     "iopub.status.busy": "2023-04-24T13:55:40.684040Z",
     "iopub.status.idle": "2023-04-24T13:55:40.689797Z",
     "shell.execute_reply": "2023-04-24T13:55:40.688243Z"
    },
    "papermill": {
     "duration": 0.023621,
     "end_time": "2023-04-24T13:55:40.692323",
     "exception": false,
     "start_time": "2023-04-24T13:55:40.668702",
     "status": "completed"
    },
    "tags": []
   },
   "outputs": [],
   "source": [
    "predictions = np.array(our_legendary_answers)\n",
    "actuals = np.array(teacher_answers)"
   ]
  },
  {
   "cell_type": "markdown",
   "id": "6d20a42c",
   "metadata": {
    "papermill": {
     "duration": 0.013426,
     "end_time": "2023-04-24T13:55:40.719412",
     "exception": false,
     "start_time": "2023-04-24T13:55:40.705986",
     "status": "completed"
    },
    "tags": []
   },
   "source": [
    "Now we know that we need to compute `recall` for every unique label we have. First lets get what are the unique values "
   ]
  },
  {
   "cell_type": "code",
   "execution_count": 13,
   "id": "df158fd4",
   "metadata": {
    "execution": {
     "iopub.execute_input": "2023-04-24T13:55:40.748388Z",
     "iopub.status.busy": "2023-04-24T13:55:40.747945Z",
     "iopub.status.idle": "2023-04-24T13:55:40.754984Z",
     "shell.execute_reply": "2023-04-24T13:55:40.753852Z"
    },
    "papermill": {
     "duration": 0.024185,
     "end_time": "2023-04-24T13:55:40.757145",
     "exception": false,
     "start_time": "2023-04-24T13:55:40.732960",
     "status": "completed"
    },
    "tags": []
   },
   "outputs": [
    {
     "data": {
      "text/plain": [
       "array(['False', 'True'], dtype='<U5')"
      ]
     },
     "execution_count": 13,
     "metadata": {},
     "output_type": "execute_result"
    }
   ],
   "source": [
    "np.unique(actuals)"
   ]
  },
  {
   "cell_type": "markdown",
   "id": "84323974",
   "metadata": {
    "papermill": {
     "duration": 0.013307,
     "end_time": "2023-04-24T13:55:40.784959",
     "exception": false,
     "start_time": "2023-04-24T13:55:40.771652",
     "status": "completed"
    },
    "tags": []
   },
   "source": [
    "So know just make a list `recall_list` that stores the values of each `recall` "
   ]
  },
  {
   "cell_type": "code",
   "execution_count": 14,
   "id": "e309b61a",
   "metadata": {
    "execution": {
     "iopub.execute_input": "2023-04-24T13:55:40.814070Z",
     "iopub.status.busy": "2023-04-24T13:55:40.813696Z",
     "iopub.status.idle": "2023-04-24T13:55:40.819048Z",
     "shell.execute_reply": "2023-04-24T13:55:40.817876Z"
    },
    "papermill": {
     "duration": 0.022696,
     "end_time": "2023-04-24T13:55:40.821405",
     "exception": false,
     "start_time": "2023-04-24T13:55:40.798709",
     "status": "completed"
    },
    "tags": []
   },
   "outputs": [],
   "source": [
    "recall = []\n",
    "for labels in np.unique(actuals):\n",
    "    recall.append(labels)"
   ]
  },
  {
   "cell_type": "markdown",
   "id": "8cd35272",
   "metadata": {
    "papermill": {
     "duration": 0.013343,
     "end_time": "2023-04-24T13:55:40.848688",
     "exception": false,
     "start_time": "2023-04-24T13:55:40.835345",
     "status": "completed"
    },
    "tags": []
   },
   "source": [
    "There are two types of terms in the formula `Number Of times True was Predicited` and `Number Of times Other value was falsely Predicited`. which can be calcualted easily by the code we wrote for `accuracy_score`, we just need to add a little bit more fucntionality to that one "
   ]
  },
  {
   "cell_type": "code",
   "execution_count": 15,
   "id": "8eb79986",
   "metadata": {
    "execution": {
     "iopub.execute_input": "2023-04-24T13:55:40.878073Z",
     "iopub.status.busy": "2023-04-24T13:55:40.877648Z",
     "iopub.status.idle": "2023-04-24T13:55:40.884557Z",
     "shell.execute_reply": "2023-04-24T13:55:40.883348Z"
    },
    "papermill": {
     "duration": 0.024693,
     "end_time": "2023-04-24T13:55:40.887174",
     "exception": false,
     "start_time": "2023-04-24T13:55:40.862481",
     "status": "completed"
    },
    "tags": []
   },
   "outputs": [],
   "source": [
    "t_p = 0\n",
    "f_n = 0\n",
    "for act , pred in zip(actuals , predictions):\n",
    "    if act == np.unique(actuals)[0] and pred == np.unique(actuals)[0]:\n",
    "        t_p += 1 \n",
    "    else :\n",
    "        f_n += 1"
   ]
  },
  {
   "cell_type": "code",
   "execution_count": 16,
   "id": "dca708e8",
   "metadata": {
    "execution": {
     "iopub.execute_input": "2023-04-24T13:55:40.917722Z",
     "iopub.status.busy": "2023-04-24T13:55:40.916468Z",
     "iopub.status.idle": "2023-04-24T13:55:40.924079Z",
     "shell.execute_reply": "2023-04-24T13:55:40.923210Z"
    },
    "papermill": {
     "duration": 0.02531,
     "end_time": "2023-04-24T13:55:40.926395",
     "exception": false,
     "start_time": "2023-04-24T13:55:40.901085",
     "status": "completed"
    },
    "tags": []
   },
   "outputs": [
    {
     "name": "stdout",
     "output_type": "stream",
     "text": [
      "6\n"
     ]
    },
    {
     "data": {
      "text/plain": [
       "0"
      ]
     },
     "execution_count": 16,
     "metadata": {},
     "output_type": "execute_result"
    }
   ],
   "source": [
    "print(f_n)\n",
    "t_p "
   ]
  },
  {
   "cell_type": "markdown",
   "id": "4c90bc0c",
   "metadata": {
    "papermill": {
     "duration": 0.013755,
     "end_time": "2023-04-24T13:55:40.954092",
     "exception": false,
     "start_time": "2023-04-24T13:55:40.940337",
     "status": "completed"
    },
    "tags": []
   },
   "source": [
    "We can store these values into a dictionary for more generalised form like `{labsl : T_P , F_N}`\n",
    "\n",
    "But there is problem with this, at sometime we need to iterate through this thing `dict.values = dict_values{[T_P , F_N] , [T_N , F_P]}`. which is not possible, we cannot iterate through a dictionary. \n",
    "```\n",
    "subscirpt `dictionary` is not iterable\n",
    "```\n",
    "\n",
    "Thus we will move to creating `arrays`. \n",
    "\n",
    "The array will be of format `array([[lable(encoded) , T_P , F_N] , [lable(encoded) , T_N , F_P]])`"
   ]
  },
  {
   "cell_type": "code",
   "execution_count": 17,
   "id": "04f4cda0",
   "metadata": {
    "execution": {
     "iopub.execute_input": "2023-04-24T13:55:40.983569Z",
     "iopub.status.busy": "2023-04-24T13:55:40.983109Z",
     "iopub.status.idle": "2023-04-24T13:55:40.990011Z",
     "shell.execute_reply": "2023-04-24T13:55:40.989105Z"
    },
    "papermill": {
     "duration": 0.024295,
     "end_time": "2023-04-24T13:55:40.992185",
     "exception": false,
     "start_time": "2023-04-24T13:55:40.967890",
     "status": "completed"
    },
    "tags": []
   },
   "outputs": [
    {
     "data": {
      "text/plain": [
       "array([[5.05771898e-310, 0.00000000e+000, 0.00000000e+000],\n",
       "       [0.00000000e+000, 0.00000000e+000, 0.00000000e+000]])"
      ]
     },
     "execution_count": 17,
     "metadata": {},
     "output_type": "execute_result"
    }
   ],
   "source": [
    "np.empty(shape = (2 , len(np.unique(actuals)) + 1))"
   ]
  },
  {
   "cell_type": "markdown",
   "id": "e13a5806",
   "metadata": {
    "papermill": {
     "duration": 0.013908,
     "end_time": "2023-04-24T13:55:41.020687",
     "exception": false,
     "start_time": "2023-04-24T13:55:41.006779",
     "status": "completed"
    },
    "tags": []
   },
   "source": [
    "Now we will populate our array"
   ]
  },
  {
   "cell_type": "code",
   "execution_count": 18,
   "id": "17ebd72b",
   "metadata": {
    "execution": {
     "iopub.execute_input": "2023-04-24T13:55:41.051629Z",
     "iopub.status.busy": "2023-04-24T13:55:41.051188Z",
     "iopub.status.idle": "2023-04-24T13:55:41.060261Z",
     "shell.execute_reply": "2023-04-24T13:55:41.058844Z"
    },
    "papermill": {
     "duration": 0.027967,
     "end_time": "2023-04-24T13:55:41.062898",
     "exception": false,
     "start_time": "2023-04-24T13:55:41.034931",
     "status": "completed"
    },
    "tags": []
   },
   "outputs": [],
   "source": [
    "metrics = np.empty(shape = (2 , len(np.unique(actuals)) + 1))\n",
    "for i in range(len(np.unique(actuals))):\n",
    "    x = np.empty(shape = (3))\n",
    "    true = 0\n",
    "    false = 0\n",
    "    for act , pred in zip(actuals , predictions):\n",
    "        if ((act == np.unique(actuals)[i]) and (pred == np.unique(actuals)[i])):\n",
    "            true += 1\n",
    "        else :\n",
    "            false += 1\n",
    "    x[0] = i\n",
    "    x[1] = true\n",
    "    x[2] = false\n",
    "    metrics[i] = x"
   ]
  },
  {
   "cell_type": "code",
   "execution_count": 19,
   "id": "0fe53ec4",
   "metadata": {
    "execution": {
     "iopub.execute_input": "2023-04-24T13:55:41.093697Z",
     "iopub.status.busy": "2023-04-24T13:55:41.093215Z",
     "iopub.status.idle": "2023-04-24T13:55:41.100567Z",
     "shell.execute_reply": "2023-04-24T13:55:41.099635Z"
    },
    "papermill": {
     "duration": 0.026145,
     "end_time": "2023-04-24T13:55:41.103175",
     "exception": false,
     "start_time": "2023-04-24T13:55:41.077030",
     "status": "completed"
    },
    "tags": []
   },
   "outputs": [
    {
     "data": {
      "text/plain": [
       "array([1., 5., 1.])"
      ]
     },
     "execution_count": 19,
     "metadata": {},
     "output_type": "execute_result"
    }
   ],
   "source": [
    "x"
   ]
  },
  {
   "cell_type": "markdown",
   "id": "ac95c171",
   "metadata": {
    "papermill": {
     "duration": 0.013973,
     "end_time": "2023-04-24T13:55:41.131913",
     "exception": false,
     "start_time": "2023-04-24T13:55:41.117940",
     "status": "completed"
    },
    "tags": []
   },
   "source": [
    "This denotes the \n",
    "\n",
    "|||\n",
    "|---|---|\n",
    "|$Label$|$1$|\n",
    "|$T_P$|$5$|\n",
    "|$T_N$|$1$"
   ]
  },
  {
   "cell_type": "code",
   "execution_count": 20,
   "id": "2ca0ae47",
   "metadata": {
    "execution": {
     "iopub.execute_input": "2023-04-24T13:55:41.162307Z",
     "iopub.status.busy": "2023-04-24T13:55:41.161894Z",
     "iopub.status.idle": "2023-04-24T13:55:41.169333Z",
     "shell.execute_reply": "2023-04-24T13:55:41.167772Z"
    },
    "papermill": {
     "duration": 0.026163,
     "end_time": "2023-04-24T13:55:41.172124",
     "exception": false,
     "start_time": "2023-04-24T13:55:41.145961",
     "status": "completed"
    },
    "tags": []
   },
   "outputs": [
    {
     "data": {
      "text/plain": [
       "array([[0., 0., 6.],\n",
       "       [1., 5., 1.]])"
      ]
     },
     "execution_count": 20,
     "metadata": {},
     "output_type": "execute_result"
    }
   ],
   "source": [
    "metrics"
   ]
  },
  {
   "cell_type": "markdown",
   "id": "46a34fc1",
   "metadata": {
    "papermill": {
     "duration": 0.014432,
     "end_time": "2023-04-24T13:55:41.200955",
     "exception": false,
     "start_time": "2023-04-24T13:55:41.186523",
     "status": "completed"
    },
    "tags": []
   },
   "source": [
    "And this is just the broader version of this thing \n",
    "\n",
    "Now we just need to calculate this fomula $$as_{True} = \\frac {Number_-Of_-times_-True_-was_-Predicited}{Number_-Of_-times_-True_-was_-Predicited + Number_-Of_-times_-Other_-value_-was_-falsely_-Predicited}$$\n",
    "\n",
    "and luckily we have the corresponding values too "
   ]
  },
  {
   "cell_type": "code",
   "execution_count": 21,
   "id": "a6e33a2f",
   "metadata": {
    "execution": {
     "iopub.execute_input": "2023-04-24T13:55:41.232285Z",
     "iopub.status.busy": "2023-04-24T13:55:41.231585Z",
     "iopub.status.idle": "2023-04-24T13:55:41.237246Z",
     "shell.execute_reply": "2023-04-24T13:55:41.236018Z"
    },
    "papermill": {
     "duration": 0.024087,
     "end_time": "2023-04-24T13:55:41.239961",
     "exception": false,
     "start_time": "2023-04-24T13:55:41.215874",
     "status": "completed"
    },
    "tags": []
   },
   "outputs": [],
   "source": [
    "recall_1 = metrics[0][1] / (metrics[0][1] + metrics[1][2])"
   ]
  },
  {
   "cell_type": "code",
   "execution_count": 22,
   "id": "b712f30e",
   "metadata": {
    "execution": {
     "iopub.execute_input": "2023-04-24T13:55:41.271249Z",
     "iopub.status.busy": "2023-04-24T13:55:41.270059Z",
     "iopub.status.idle": "2023-04-24T13:55:41.277223Z",
     "shell.execute_reply": "2023-04-24T13:55:41.276151Z"
    },
    "papermill": {
     "duration": 0.025588,
     "end_time": "2023-04-24T13:55:41.279957",
     "exception": false,
     "start_time": "2023-04-24T13:55:41.254369",
     "status": "completed"
    },
    "tags": []
   },
   "outputs": [
    {
     "data": {
      "text/plain": [
       "0.0"
      ]
     },
     "execution_count": 22,
     "metadata": {},
     "output_type": "execute_result"
    }
   ],
   "source": [
    "recall_1"
   ]
  },
  {
   "cell_type": "markdown",
   "id": "de7f4208",
   "metadata": {
    "papermill": {
     "duration": 0.013846,
     "end_time": "2023-04-24T13:55:41.308583",
     "exception": false,
     "start_time": "2023-04-24T13:55:41.294737",
     "status": "completed"
    },
    "tags": []
   },
   "source": [
    "And the recall for the second one will be "
   ]
  },
  {
   "cell_type": "code",
   "execution_count": 23,
   "id": "9c8b9719",
   "metadata": {
    "execution": {
     "iopub.execute_input": "2023-04-24T13:55:41.339381Z",
     "iopub.status.busy": "2023-04-24T13:55:41.338988Z",
     "iopub.status.idle": "2023-04-24T13:55:41.344039Z",
     "shell.execute_reply": "2023-04-24T13:55:41.342810Z"
    },
    "papermill": {
     "duration": 0.02363,
     "end_time": "2023-04-24T13:55:41.346636",
     "exception": false,
     "start_time": "2023-04-24T13:55:41.323006",
     "status": "completed"
    },
    "tags": []
   },
   "outputs": [],
   "source": [
    "recall_0 = metrics[1][1] / (metrics[1][1] + metrics[0][2])"
   ]
  },
  {
   "cell_type": "code",
   "execution_count": 24,
   "id": "4b004e31",
   "metadata": {
    "execution": {
     "iopub.execute_input": "2023-04-24T13:55:41.377358Z",
     "iopub.status.busy": "2023-04-24T13:55:41.376964Z",
     "iopub.status.idle": "2023-04-24T13:55:41.383175Z",
     "shell.execute_reply": "2023-04-24T13:55:41.382316Z"
    },
    "papermill": {
     "duration": 0.024257,
     "end_time": "2023-04-24T13:55:41.385324",
     "exception": false,
     "start_time": "2023-04-24T13:55:41.361067",
     "status": "completed"
    },
    "tags": []
   },
   "outputs": [
    {
     "data": {
      "text/plain": [
       "0.45454545454545453"
      ]
     },
     "execution_count": 24,
     "metadata": {},
     "output_type": "execute_result"
    }
   ],
   "source": [
    "recall_0"
   ]
  },
  {
   "cell_type": "markdown",
   "id": "3184c4b2",
   "metadata": {
    "papermill": {
     "duration": 0.014282,
     "end_time": "2023-04-24T13:55:41.414103",
     "exception": false,
     "start_time": "2023-04-24T13:55:41.399821",
     "status": "completed"
    },
    "tags": []
   },
   "source": [
    "And the mean of these values will be "
   ]
  },
  {
   "cell_type": "code",
   "execution_count": 25,
   "id": "3bcdd714",
   "metadata": {
    "execution": {
     "iopub.execute_input": "2023-04-24T13:55:41.445324Z",
     "iopub.status.busy": "2023-04-24T13:55:41.444931Z",
     "iopub.status.idle": "2023-04-24T13:55:41.452493Z",
     "shell.execute_reply": "2023-04-24T13:55:41.451255Z"
    },
    "papermill": {
     "duration": 0.026288,
     "end_time": "2023-04-24T13:55:41.454940",
     "exception": false,
     "start_time": "2023-04-24T13:55:41.428652",
     "status": "completed"
    },
    "tags": []
   },
   "outputs": [
    {
     "data": {
      "text/plain": [
       "0.22727272727272727"
      ]
     },
     "execution_count": 25,
     "metadata": {},
     "output_type": "execute_result"
    }
   ],
   "source": [
    "(recall_1 + recall_0) / 2"
   ]
  },
  {
   "cell_type": "markdown",
   "id": "a8ac0fa2",
   "metadata": {
    "papermill": {
     "duration": 0.014284,
     "end_time": "2023-04-24T13:55:41.483916",
     "exception": false,
     "start_time": "2023-04-24T13:55:41.469632",
     "status": "completed"
    },
    "tags": []
   },
   "source": [
    "And thats actually very low. Lets now put of all this into a funciton and do fun with the homeis then "
   ]
  },
  {
   "cell_type": "code",
   "execution_count": 26,
   "id": "f5634576",
   "metadata": {
    "execution": {
     "iopub.execute_input": "2023-04-24T13:55:41.515020Z",
     "iopub.status.busy": "2023-04-24T13:55:41.514234Z",
     "iopub.status.idle": "2023-04-24T13:55:41.522746Z",
     "shell.execute_reply": "2023-04-24T13:55:41.521423Z"
    },
    "papermill": {
     "duration": 0.026648,
     "end_time": "2023-04-24T13:55:41.525129",
     "exception": false,
     "start_time": "2023-04-24T13:55:41.498481",
     "status": "completed"
    },
    "tags": []
   },
   "outputs": [],
   "source": [
    "recall = []\n",
    "if metrics.shape[0] == 2:\n",
    "    recall.append(metrics[0][1] / (metrics[0][1] + metrics[1][2]))\n",
    "    recall.append(metrics[1][1] / (metrics[1][1] + metrics[0][2]))\n",
    "else :\n",
    "    # If the labels are more than 2\n",
    "    for i in metrics:\n",
    "        trans_metrics = metrics[:m]+metrics[m+1:]\n",
    "        print(metrics[:m] , metrics[m+1:])\n",
    "        print(trans_metrics)\n",
    "        x = [j[2] for j in trans_metrics]\n",
    "        print(np.sum(x))\n",
    "        recall.append(metrics[m][1] / np.sum(np.array(x)))"
   ]
  },
  {
   "cell_type": "markdown",
   "id": "99069d18",
   "metadata": {
    "papermill": {
     "duration": 0.014022,
     "end_time": "2023-04-24T13:55:41.553708",
     "exception": false,
     "start_time": "2023-04-24T13:55:41.539686",
     "status": "completed"
    },
    "tags": []
   },
   "source": [
    "ShortCut for caluclating the `mean`"
   ]
  },
  {
   "cell_type": "code",
   "execution_count": 27,
   "id": "bcfd1ce2",
   "metadata": {
    "execution": {
     "iopub.execute_input": "2023-04-24T13:55:41.584398Z",
     "iopub.status.busy": "2023-04-24T13:55:41.583639Z",
     "iopub.status.idle": "2023-04-24T13:55:41.589105Z",
     "shell.execute_reply": "2023-04-24T13:55:41.587829Z"
    },
    "papermill": {
     "duration": 0.02357,
     "end_time": "2023-04-24T13:55:41.591584",
     "exception": false,
     "start_time": "2023-04-24T13:55:41.568014",
     "status": "completed"
    },
    "tags": []
   },
   "outputs": [],
   "source": [
    "recall = np.sum(np.array(recall)).mean"
   ]
  },
  {
   "cell_type": "code",
   "execution_count": 28,
   "id": "1d522e1e",
   "metadata": {
    "execution": {
     "iopub.execute_input": "2023-04-24T13:55:41.622685Z",
     "iopub.status.busy": "2023-04-24T13:55:41.622264Z",
     "iopub.status.idle": "2023-04-24T13:55:41.627059Z",
     "shell.execute_reply": "2023-04-24T13:55:41.625736Z"
    },
    "papermill": {
     "duration": 0.023812,
     "end_time": "2023-04-24T13:55:41.629877",
     "exception": false,
     "start_time": "2023-04-24T13:55:41.606065",
     "status": "completed"
    },
    "tags": []
   },
   "outputs": [],
   "source": [
    "balanced_accyracy_score = recall"
   ]
  },
  {
   "cell_type": "markdown",
   "id": "00891e3a",
   "metadata": {
    "papermill": {
     "duration": 0.014151,
     "end_time": "2023-04-24T13:55:41.658981",
     "exception": false,
     "start_time": "2023-04-24T13:55:41.644830",
     "status": "completed"
    },
    "tags": []
   },
   "source": [
    "# 1.2.2 | Balanced Socre Final Source Code"
   ]
  },
  {
   "cell_type": "code",
   "execution_count": 29,
   "id": "0287cf96",
   "metadata": {
    "execution": {
     "iopub.execute_input": "2023-04-24T13:55:41.690056Z",
     "iopub.status.busy": "2023-04-24T13:55:41.689631Z",
     "iopub.status.idle": "2023-04-24T13:55:41.701763Z",
     "shell.execute_reply": "2023-04-24T13:55:41.700473Z"
    },
    "papermill": {
     "duration": 0.030782,
     "end_time": "2023-04-24T13:55:41.704221",
     "exception": false,
     "start_time": "2023-04-24T13:55:41.673439",
     "status": "completed"
    },
    "tags": []
   },
   "outputs": [],
   "source": [
    "def balanced_accuracy_score(predictions , actuals):\n",
    "\n",
    "    metrics = np.empty(shape = (2 , len(np.unique(pred)) + 1))\n",
    "    \n",
    "    for uniques in range(len(np.unique(pred))):\n",
    "        \n",
    "        x = np.empty(shape = (3))\n",
    "        \n",
    "        trues = 0\n",
    "        falses = 0\n",
    "        \n",
    "        for actu , predi in zip(act , pred):\n",
    "            \n",
    "            if ((actu == np.unique(pred)[uniques]) and (predi == np.unique(pred)[uniques])):\n",
    "            \n",
    "                trues += 1\n",
    "            \n",
    "            else :\n",
    "            \n",
    "                falses += 1\n",
    "        \n",
    "        x[0] = uniques\n",
    "        x[1] = trues\n",
    "        x[2] = falses\n",
    "        \n",
    "        metrics[i] = x\n",
    "    \n",
    "    recall = []\n",
    "    \n",
    "    if metrics.shape[0] == 2:\n",
    "    \n",
    "        recall.append(metrics[0][1] / (metrics[0][1] + metrics[1][2]))\n",
    "        recall.append(metrics[1][1] / (metrics[1][1] + metrics[0][2]))\n",
    "    \n",
    "    else :\n",
    "    \n",
    "        for labels in range(len(metrics)): \n",
    "            \n",
    "            x = [j[2] \n",
    "                 for j in metrics[:labels]+metrics[labels+1:]]\n",
    "            \n",
    "            recall.append(metrics[labels][1] / np.sum(np.array(x)))\n",
    "    \n",
    "    return np.sum(np.array(recall))"
   ]
  },
  {
   "cell_type": "markdown",
   "id": "6d862f9e",
   "metadata": {
    "papermill": {
     "duration": 0.014102,
     "end_time": "2023-04-24T13:55:41.733150",
     "exception": false,
     "start_time": "2023-04-24T13:55:41.719048",
     "status": "completed"
    },
    "tags": []
   },
   "source": [
    "# 1.3 | Top K Accuracy \n",
    "\n",
    "lets assume we do not have $2$ classes and have more classes than $2$, and you want to get the accuracy of best $k$ elements, then we use this type of `accuracy`. \n",
    "\n",
    "Implemeting this is really simple.\n",
    "\n",
    "We know for calculating the accuracy we have this code "
   ]
  },
  {
   "cell_type": "code",
   "execution_count": 30,
   "id": "b5105a22",
   "metadata": {
    "execution": {
     "iopub.execute_input": "2023-04-24T13:55:41.764018Z",
     "iopub.status.busy": "2023-04-24T13:55:41.763610Z",
     "iopub.status.idle": "2023-04-24T13:55:41.770552Z",
     "shell.execute_reply": "2023-04-24T13:55:41.769050Z"
    },
    "papermill": {
     "duration": 0.025354,
     "end_time": "2023-04-24T13:55:41.773083",
     "exception": false,
     "start_time": "2023-04-24T13:55:41.747729",
     "status": "completed"
    },
    "tags": []
   },
   "outputs": [],
   "source": [
    "def accuracy_score(actuals , predictions):\n",
    "    \n",
    "    correct_ones = 0\n",
    "    \n",
    "    for actual  , predicted in zip(actuals , predictions):\n",
    "        \n",
    "        if predicted == actual:\n",
    "            \n",
    "            correct_ones += 1\n",
    "\n",
    "    asc = correct_ones / len(predictions)\n",
    "\n",
    "    return asc"
   ]
  },
  {
   "cell_type": "markdown",
   "id": "d1b3daf6",
   "metadata": {
    "papermill": {
     "duration": 0.014264,
     "end_time": "2023-04-24T13:55:41.802005",
     "exception": false,
     "start_time": "2023-04-24T13:55:41.787741",
     "status": "completed"
    },
    "tags": []
   },
   "source": [
    "Lets first change the name "
   ]
  },
  {
   "cell_type": "code",
   "execution_count": 31,
   "id": "c867b87a",
   "metadata": {
    "execution": {
     "iopub.execute_input": "2023-04-24T13:55:41.833305Z",
     "iopub.status.busy": "2023-04-24T13:55:41.832885Z",
     "iopub.status.idle": "2023-04-24T13:55:41.839386Z",
     "shell.execute_reply": "2023-04-24T13:55:41.838033Z"
    },
    "papermill": {
     "duration": 0.02541,
     "end_time": "2023-04-24T13:55:41.842014",
     "exception": false,
     "start_time": "2023-04-24T13:55:41.816604",
     "status": "completed"
    },
    "tags": []
   },
   "outputs": [],
   "source": [
    "def top_k_accuracy(actuals , predictions):\n",
    "    \n",
    "    correct_ones = 0\n",
    "    \n",
    "    for actual  , predicted in zip(actuals , predictions):\n",
    "        \n",
    "        if predicted == actual:\n",
    "            \n",
    "            correct_ones += 1\n",
    "\n",
    "    asc = correct_ones / len(predictions)\n",
    "\n",
    "    return asc"
   ]
  },
  {
   "cell_type": "markdown",
   "id": "b076db3a",
   "metadata": {
    "papermill": {
     "duration": 0.014297,
     "end_time": "2023-04-24T13:55:41.871297",
     "exception": false,
     "start_time": "2023-04-24T13:55:41.857000",
     "status": "completed"
    },
    "tags": []
   },
   "source": [
    "First we need to make a dicitonary that stores the `keys` as the `labels` and the `values` as the `accuracy for that particular class`. For now the function returns a list containing the accuracy of all the classes "
   ]
  },
  {
   "cell_type": "code",
   "execution_count": 32,
   "id": "c12b16ac",
   "metadata": {
    "execution": {
     "iopub.execute_input": "2023-04-24T13:55:41.903449Z",
     "iopub.status.busy": "2023-04-24T13:55:41.903051Z",
     "iopub.status.idle": "2023-04-24T13:55:41.910156Z",
     "shell.execute_reply": "2023-04-24T13:55:41.908725Z"
    },
    "papermill": {
     "duration": 0.026195,
     "end_time": "2023-04-24T13:55:41.912770",
     "exception": false,
     "start_time": "2023-04-24T13:55:41.886575",
     "status": "completed"
    },
    "tags": []
   },
   "outputs": [],
   "source": [
    "def top_k_accuracy(actuals , predictions):\n",
    "    \n",
    "    k_labels = []\n",
    "    \n",
    "    for label in np.unique(pred):\n",
    "        \n",
    "        correct_ones = 0\n",
    "\n",
    "        for actual  , predicted in zip(actuals , predictions):\n",
    "\n",
    "            if predicted == label and actual == label:\n",
    "\n",
    "                correct_ones += 1\n",
    "\n",
    "        asc = correct_ones / len(predictions)\n",
    "        \n",
    "        k_labels.append(asc)\n",
    "\n",
    "    return k_labels    "
   ]
  },
  {
   "cell_type": "markdown",
   "id": "b217d492",
   "metadata": {
    "papermill": {
     "duration": 0.014318,
     "end_time": "2023-04-24T13:55:41.941820",
     "exception": false,
     "start_time": "2023-04-24T13:55:41.927502",
     "status": "completed"
    },
    "tags": []
   },
   "source": [
    "Now we need to sort the list and return the first `k` elements of the list "
   ]
  },
  {
   "cell_type": "markdown",
   "id": "5de76c52",
   "metadata": {
    "papermill": {
     "duration": 0.014793,
     "end_time": "2023-04-24T13:55:41.971896",
     "exception": false,
     "start_time": "2023-04-24T13:55:41.957103",
     "status": "completed"
    },
    "tags": []
   },
   "source": [
    "# 1.3.1 | Top K Accuracy Final Soruce Code"
   ]
  },
  {
   "cell_type": "code",
   "execution_count": 33,
   "id": "2cee8b75",
   "metadata": {
    "execution": {
     "iopub.execute_input": "2023-04-24T13:55:42.002879Z",
     "iopub.status.busy": "2023-04-24T13:55:42.002479Z",
     "iopub.status.idle": "2023-04-24T13:55:42.009511Z",
     "shell.execute_reply": "2023-04-24T13:55:42.008319Z"
    },
    "papermill": {
     "duration": 0.025585,
     "end_time": "2023-04-24T13:55:42.012180",
     "exception": false,
     "start_time": "2023-04-24T13:55:41.986595",
     "status": "completed"
    },
    "tags": []
   },
   "outputs": [],
   "source": [
    "def top_k_accuracy(actuals , predictions , k):\n",
    "    \n",
    "    k_labels = []\n",
    "    \n",
    "    for label in np.unique(pred):\n",
    "        \n",
    "        correct_ones = 0\n",
    "\n",
    "        for actual  , predicted in zip(actuals , predictions):\n",
    "\n",
    "            if predicted == label and actual == label:\n",
    "\n",
    "                correct_ones += 1\n",
    "\n",
    "        asc = correct_ones / len(predictions)\n",
    "        \n",
    "        k_labels.append(asc)\n",
    "\n",
    "    k_labels = np.array(k_labels)\n",
    "    \n",
    "    return k_labels[:k]    "
   ]
  },
  {
   "cell_type": "markdown",
   "id": "07d3599e",
   "metadata": {
    "papermill": {
     "duration": 0.014356,
     "end_time": "2023-04-24T13:55:42.041256",
     "exception": false,
     "start_time": "2023-04-24T13:55:42.026900",
     "status": "completed"
    },
    "tags": []
   },
   "source": [
    "# 2 | Average precision Score"
   ]
  },
  {
   "cell_type": "markdown",
   "id": "73b2142a",
   "metadata": {
    "papermill": {
     "duration": 0.014294,
     "end_time": "2023-04-24T13:55:42.070352",
     "exception": false,
     "start_time": "2023-04-24T13:55:42.056058",
     "status": "completed"
    },
    "tags": []
   },
   "source": [
    "Remeber how we calculated the `accuracy` of the sample...?\n",
    "\n",
    "The formula for calculating the accuracy we used the formula \n",
    "\n",
    "$$\\frac {correct_-ones}{total_-ones}$$\n",
    "\n",
    "For calculating the precision we use the formula \n",
    "\n",
    "$$\\frac {correct_-ones}{false_-ones}$$\n",
    "\n",
    "To caluclate the `average precison score` we can change this code a bit diffrently "
   ]
  },
  {
   "cell_type": "markdown",
   "id": "5b256b37",
   "metadata": {
    "papermill": {
     "duration": 0.014261,
     "end_time": "2023-04-24T13:55:42.099308",
     "exception": false,
     "start_time": "2023-04-24T13:55:42.085047",
     "status": "completed"
    },
    "tags": []
   },
   "source": [
    "# 2.1 | Average Precision Score Final Soruce Code"
   ]
  },
  {
   "cell_type": "code",
   "execution_count": 34,
   "id": "5426907a",
   "metadata": {
    "execution": {
     "iopub.execute_input": "2023-04-24T13:55:42.132919Z",
     "iopub.status.busy": "2023-04-24T13:55:42.132099Z",
     "iopub.status.idle": "2023-04-24T13:55:42.139066Z",
     "shell.execute_reply": "2023-04-24T13:55:42.138086Z"
    },
    "papermill": {
     "duration": 0.026634,
     "end_time": "2023-04-24T13:55:42.141685",
     "exception": false,
     "start_time": "2023-04-24T13:55:42.115051",
     "status": "completed"
    },
    "tags": []
   },
   "outputs": [],
   "source": [
    "def average_precision_score(actuals , predictions):\n",
    "    \n",
    "    correct_ones = 0\n",
    "    false_ones = 0\n",
    "    \n",
    "    for actual  , predicted in zip(actuals , predictions):\n",
    "        \n",
    "        if predicted == actual:\n",
    "            \n",
    "            correct_ones += 1\n",
    "        \n",
    "        else:\n",
    "            \n",
    "            false_ones += 1\n",
    "            \n",
    "    aps = correct_ones / false_ones\n",
    "\n",
    "    return aps"
   ]
  }
 ],
 "metadata": {
  "kernelspec": {
   "display_name": "Python 3",
   "language": "python",
   "name": "python3"
  },
  "language_info": {
   "codemirror_mode": {
    "name": "ipython",
    "version": 3
   },
   "file_extension": ".py",
   "mimetype": "text/x-python",
   "name": "python",
   "nbconvert_exporter": "python",
   "pygments_lexer": "ipython3",
   "version": "3.7.12"
  },
  "papermill": {
   "default_parameters": {},
   "duration": 13.749983,
   "end_time": "2023-04-24T13:55:42.878942",
   "environment_variables": {},
   "exception": null,
   "input_path": "__notebook__.ipynb",
   "output_path": "__notebook__.ipynb",
   "parameters": {},
   "start_time": "2023-04-24T13:55:29.128959",
   "version": "2.4.0"
  }
 },
 "nbformat": 4,
 "nbformat_minor": 5
}
