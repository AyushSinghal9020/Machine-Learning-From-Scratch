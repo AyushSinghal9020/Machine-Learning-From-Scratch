{
 "cells": [
  {
   "cell_type": "markdown",
   "id": "a4134cee",
   "metadata": {
    "papermill": {
     "duration": 0.027538,
     "end_time": "2023-04-27T13:41:26.498770",
     "exception": false,
     "start_time": "2023-04-27T13:41:26.471232",
     "status": "completed"
    },
    "tags": []
   },
   "source": [
    "# Metrics\n",
    "Metrics in machine learning refer to the quantitative measurements used to evaluate the performance of a model. Metrics can be used to assess different aspects of a model's performance, such as accuracy, precision, recall, F1-score, AUC-ROC, and others. Choosing the right metrics for a given problem is important to ensure that the model's performance is appropriately evaluated and improved.\n",
    "\n",
    "<img src = \"https://encrypted-tbn0.gstatic.com/images?q=tbn:ANd9GcT6F58yqU8uacM3fV56Thy1CGgc-qRTBWocOA&usqp=CAU\">\n",
    "\n",
    "|Metrics|Types|Further Types|Formula\n",
    "|---|---|---|---|\n",
    "|Classification|Accuracy|Accuracy Score|$$\\frac {T_P}{n}$$\n",
    "|||Balanced Accuracy Score|$$\\frac {Senstivity + Specifisity}{2}$$\n",
    "|||Top K Accuracy|$$argmax[accuracy][:k]$$\n",
    "||Precison|Average Precision Score|$$\\frac {1}{n}\\sum\\limits_{i = 1}^{n}(\\frac {True_-Ones}{True_-Ones + False_-Ones})$$\n",
    "|||Precision Score|$$\\frac {True_-Ones}{True_-Ones + False_-Ones}$$\n",
    "||F-1 Score|Normal|$$\\frac {1}{\\frac {1}{Precision} + \\frac {1}{Recall}}$$\n",
    "|||Micro|$$\\frac {T_P}{T_P + \\frac {1}{2}(F_P + F_N)}$$\n",
    "|||Macro|$$\\frac {2(precision_-recall}{precision + recall}$$\n",
    "|Regression|Error|Max Error|$$\\sum\\limits_{i = 1}^{n}(y - \\hat y)$$\n",
    "|||Mean Absolute Error|$$\\frac {1}{n}\\sum\\limits_{i = 1}^{n}|y - \\hat y|$$\n",
    "|||Mean Squared Error|$$\\frac {1}{n}\\sum\\limits_{i = 1}^{n}(y - \\hat y)^2$$\n",
    "|||Root Mean Squared Error|$$\\sqrt{\\frac {1}{n}\\sum\\limits_{i = 1}^{n}(y - \\hat y)^2}$$\n",
    "|||Root Mean Squared Log Error|$$\\sqrt{\\frac {1}{n}\\sum\\limits_{i = 1}^{n}(log(y) - log(\\hat y))^2}$$\n",
    "||R2|R2 Score|$$1 - \\sum\\limits_{i = 1}^{n}\\frac{(y - \\hat y)^2}{(y - \\bar y)^2}$$"
   ]
  },
  {
   "cell_type": "code",
   "execution_count": 1,
   "id": "e05187ae",
   "metadata": {
    "_cell_guid": "b1076dfc-b9ad-4769-8c92-a6c4dae69d19",
    "_uuid": "8f2839f25d086af736a60e9eeb907d3b93b6e0e5",
    "execution": {
     "iopub.execute_input": "2023-04-27T13:41:26.554922Z",
     "iopub.status.busy": "2023-04-27T13:41:26.554454Z",
     "iopub.status.idle": "2023-04-27T13:41:27.817141Z",
     "shell.execute_reply": "2023-04-27T13:41:27.815379Z"
    },
    "papermill": {
     "duration": 1.293265,
     "end_time": "2023-04-27T13:41:27.820218",
     "exception": false,
     "start_time": "2023-04-27T13:41:26.526953",
     "status": "completed"
    },
    "tags": []
   },
   "outputs": [],
   "source": [
    "import numpy as np\n",
    "import math as m \n",
    "import seaborn as sns \n",
    "from IPython.display import IFrame"
   ]
  },
  {
   "cell_type": "markdown",
   "id": "cf4f64f0",
   "metadata": {
    "papermill": {
     "duration": 0.024177,
     "end_time": "2023-04-27T13:41:27.869080",
     "exception": false,
     "start_time": "2023-04-27T13:41:27.844903",
     "status": "completed"
    },
    "tags": []
   },
   "source": [
    "# 1 | Classification\n",
    "\n",
    "Lets assume you are giving a `MCQ(Multiple Choice Question)` test. There are $4$ questions \n",
    "\n",
    "## Will a Donkey be able to ride a Horse ??\n",
    "<img src = \"https://i.redd.it/lemeny69kd161.jpg\">\n",
    "\n",
    "## Will the Bank accept Monoploy Money ??\n",
    "<img src = \"https://www.meme-arsenal.com/memes/8b66635dd74ce0925f0414603b210f6f.jpg\">\n",
    "\n",
    "## Will a Dog be able to ride a SuperBike ??\n",
    "<img src = \"https://encrypted-tbn0.gstatic.com/images?q=tbn:ANd9GcRuBKEDHvyqHRCwFBvf8yW43f7Qj_JBBuXYQ0hjpqkNSMCkrJ5XSQ9brpHVGDj-0tyl9dY&usqp=CAU\">\n",
    "\n",
    "## Will I able to find my Socks ??\n",
    "<img src = \"https://i.pinimg.com/236x/4b/57/1a/4b571a419e9345aaa7798b2a00e87fd9--sock-memes.jpg\">\n",
    "\n",
    "You give the answers like this \n",
    "\n",
    "|Question|Answer\n",
    "|---|---\n",
    "|Will a Donkey be able to ride a Horse ??|False\n",
    "|Will the Bank accept Monoploy Money ??|True\n",
    "|Will a Dog be able to ride a SuperBike ??|True\n",
    "|Will I able to find my Socks ??|True\n",
    "\n",
    "But the actual answers were \n",
    "\n",
    "|Question|Answer\n",
    "|---|---\n",
    "|Will a Donkey be able to ride a Horse ??|True\n",
    "|Will the Bank accept Monoploy Money ??|True\n",
    "|Will a Dog be able to ride a SuperBike ??|True\n",
    "|Will I able to find my Socks ??|False"
   ]
  },
  {
   "cell_type": "markdown",
   "id": "43e19b0a",
   "metadata": {
    "papermill": {
     "duration": 0.02421,
     "end_time": "2023-04-27T13:41:27.918646",
     "exception": false,
     "start_time": "2023-04-27T13:41:27.894436",
     "status": "completed"
    },
    "tags": []
   },
   "source": [
    "# 1.1 | Accuracy\n",
    "\n",
    "# 1.1.1 | Accuracy Score \n",
    "\n",
    "So your teacher says that you gave $2$ `correct answers` and $2$ `incorrrect answers`. \n",
    "\n",
    "The teacher gave you marks like this $\\frac {2}{4} = 0.5$\n",
    "\n",
    "We can think this of as $\\frac {correct_-ones}{total_-ones}$\n",
    "\n",
    "**Yayyyyyyyyyy!!!!**, We have found a new mathametical formula 🥳🥳. \n",
    "\n",
    "*Lets give is a fancy name. Wait !!!. Let me use my rusty brain...*\n",
    "\n",
    "...\n",
    "\n",
    "...\n",
    "\n",
    "...\n",
    "\n",
    "Okay I got a name, the **Accuracy Score** 😎😎\n",
    "\n",
    "But there is a problem with this one, `it is simple and easy to understand`. Lets make it `difficult and hard to understand`. \n",
    "\n",
    "One way is to make a complicated chart like this \n",
    "\n",
    "|||Actual Answers|Actual Answers|Total\n",
    "|---|---|---|---|---|\n",
    "|||False|True|\n",
    "|Your Answers|False|$$0$$|$$1$$|$$0 + 1 = 1$$|\n",
    "|Your Answers|True|$$1$$|$$2$$|$$1 + 2 = 3$$|\n",
    "|Total||$$0+1 = 1$$|$$1+2=3$$|$$\\frac {4 + 4}{2} = \\frac {8}{2} = 4$$|\n",
    "\n",
    "We call this **Bad Boy** the `Confusion Matrix`\n",
    "\n",
    "We introduce more complex terms in this bad boy\n",
    "* `True Positives` - When both `Actual Answers` and `Your Answers` says $1$\n",
    "* `True Negatives` - When both `Actual Answers` and `Your Answers` says $0$\n",
    "* `False Positives` - When`Actual Answers` says $1$ but `Your Answers` says $0$\n",
    "* `False Negatives` - When`Actual Answers` says $0$ but `Your Answers` says $1$\n",
    "\n",
    "Also we needlesly update our formula $$Accuracy_-Score = \\frac {True_-Positive + True_-Negative}{True_-Positive + True_-Negative + False_-Postive + False_-Negatives}$$\n",
    "\n",
    "This formula is for the common people. We are the lijhandary inventors of this formula. So we have the privelege to write it as \n",
    "\n",
    "$$AS = \\frac {T_P + T_N}{T_P + T_N + F_P + F_N}$$\n",
    "\n",
    "By chance We are also programers. So our second last brain cell asks??. What if we code this **Bad Boy...?**.\n",
    "\n",
    "Lets try to find out!!!\n",
    "\n",
    "# 1.1.1.1 | Accuracy Score From Scratch\n",
    "\n",
    "This is the list of answers we gave "
   ]
  },
  {
   "cell_type": "code",
   "execution_count": 2,
   "id": "fb9584af",
   "metadata": {
    "execution": {
     "iopub.execute_input": "2023-04-27T13:41:27.970007Z",
     "iopub.status.busy": "2023-04-27T13:41:27.969292Z",
     "iopub.status.idle": "2023-04-27T13:41:27.974492Z",
     "shell.execute_reply": "2023-04-27T13:41:27.973656Z"
    },
    "papermill": {
     "duration": 0.033869,
     "end_time": "2023-04-27T13:41:27.976943",
     "exception": false,
     "start_time": "2023-04-27T13:41:27.943074",
     "status": "completed"
    },
    "tags": []
   },
   "outputs": [],
   "source": [
    "our_legendary_answers = [\"False\" , \"True\" , \"True\" , \"True\"]"
   ]
  },
  {
   "cell_type": "markdown",
   "id": "c74b1a3c",
   "metadata": {
    "papermill": {
     "duration": 0.025295,
     "end_time": "2023-04-27T13:41:28.026599",
     "exception": false,
     "start_time": "2023-04-27T13:41:28.001304",
     "status": "completed"
    },
    "tags": []
   },
   "source": [
    "And this is the list teacher gave "
   ]
  },
  {
   "cell_type": "code",
   "execution_count": 3,
   "id": "ab824f8c",
   "metadata": {
    "execution": {
     "iopub.execute_input": "2023-04-27T13:41:28.079950Z",
     "iopub.status.busy": "2023-04-27T13:41:28.079498Z",
     "iopub.status.idle": "2023-04-27T13:41:28.084614Z",
     "shell.execute_reply": "2023-04-27T13:41:28.083281Z"
    },
    "papermill": {
     "duration": 0.035234,
     "end_time": "2023-04-27T13:41:28.087119",
     "exception": false,
     "start_time": "2023-04-27T13:41:28.051885",
     "status": "completed"
    },
    "tags": []
   },
   "outputs": [],
   "source": [
    "teacher_answers = [\"True\" , \"True\" , \"True\" , \"False\"]"
   ]
  },
  {
   "cell_type": "markdown",
   "id": "31ae0812",
   "metadata": {
    "papermill": {
     "duration": 0.024167,
     "end_time": "2023-04-27T13:41:28.136912",
     "exception": false,
     "start_time": "2023-04-27T13:41:28.112745",
     "status": "completed"
    },
    "tags": []
   },
   "source": [
    "We intialize a variable `Correct_ones`, to keep track which ones were the correct ones "
   ]
  },
  {
   "cell_type": "code",
   "execution_count": 4,
   "id": "13f70609",
   "metadata": {
    "execution": {
     "iopub.execute_input": "2023-04-27T13:41:28.187709Z",
     "iopub.status.busy": "2023-04-27T13:41:28.187283Z",
     "iopub.status.idle": "2023-04-27T13:41:28.191707Z",
     "shell.execute_reply": "2023-04-27T13:41:28.190821Z"
    },
    "papermill": {
     "duration": 0.032523,
     "end_time": "2023-04-27T13:41:28.194003",
     "exception": false,
     "start_time": "2023-04-27T13:41:28.161480",
     "status": "completed"
    },
    "tags": []
   },
   "outputs": [],
   "source": [
    "correct_ones = 0"
   ]
  },
  {
   "cell_type": "markdown",
   "id": "2b25ce2b",
   "metadata": {
    "papermill": {
     "duration": 0.024635,
     "end_time": "2023-04-27T13:41:28.244377",
     "exception": false,
     "start_time": "2023-04-27T13:41:28.219742",
     "status": "completed"
    },
    "tags": []
   },
   "source": [
    "Now we run a for loop and check if we got the correct ones "
   ]
  },
  {
   "cell_type": "code",
   "execution_count": 5,
   "id": "680a6ed9",
   "metadata": {
    "execution": {
     "iopub.execute_input": "2023-04-27T13:41:28.296275Z",
     "iopub.status.busy": "2023-04-27T13:41:28.295847Z",
     "iopub.status.idle": "2023-04-27T13:41:28.300775Z",
     "shell.execute_reply": "2023-04-27T13:41:28.299800Z"
    },
    "papermill": {
     "duration": 0.034013,
     "end_time": "2023-04-27T13:41:28.303221",
     "exception": false,
     "start_time": "2023-04-27T13:41:28.269208",
     "status": "completed"
    },
    "tags": []
   },
   "outputs": [],
   "source": [
    "for our_answers , teacher_ones in zip(our_legendary_answers , teacher_answers):\n",
    "    if our_answers == teacher_ones:\n",
    "        correct_ones += 1"
   ]
  },
  {
   "cell_type": "code",
   "execution_count": 6,
   "id": "8909f0ad",
   "metadata": {
    "execution": {
     "iopub.execute_input": "2023-04-27T13:41:28.355750Z",
     "iopub.status.busy": "2023-04-27T13:41:28.354745Z",
     "iopub.status.idle": "2023-04-27T13:41:28.362832Z",
     "shell.execute_reply": "2023-04-27T13:41:28.361928Z"
    },
    "papermill": {
     "duration": 0.036585,
     "end_time": "2023-04-27T13:41:28.365072",
     "exception": false,
     "start_time": "2023-04-27T13:41:28.328487",
     "status": "completed"
    },
    "tags": []
   },
   "outputs": [
    {
     "data": {
      "text/plain": [
       "2"
      ]
     },
     "execution_count": 6,
     "metadata": {},
     "output_type": "execute_result"
    }
   ],
   "source": [
    "correct_ones"
   ]
  },
  {
   "cell_type": "markdown",
   "id": "2f873fbb",
   "metadata": {
    "papermill": {
     "duration": 0.024236,
     "end_time": "2023-04-27T13:41:28.414027",
     "exception": false,
     "start_time": "2023-04-27T13:41:28.389791",
     "status": "completed"
    },
    "tags": []
   },
   "source": [
    "And that is right we gave $2$ correct answers. Now we just need to divide this by the total number of questions "
   ]
  },
  {
   "cell_type": "code",
   "execution_count": 7,
   "id": "6cc12226",
   "metadata": {
    "execution": {
     "iopub.execute_input": "2023-04-27T13:41:28.465185Z",
     "iopub.status.busy": "2023-04-27T13:41:28.464769Z",
     "iopub.status.idle": "2023-04-27T13:41:28.471593Z",
     "shell.execute_reply": "2023-04-27T13:41:28.470733Z"
    },
    "papermill": {
     "duration": 0.035171,
     "end_time": "2023-04-27T13:41:28.473949",
     "exception": false,
     "start_time": "2023-04-27T13:41:28.438778",
     "status": "completed"
    },
    "tags": []
   },
   "outputs": [
    {
     "data": {
      "text/plain": [
       "0.5"
      ]
     },
     "execution_count": 7,
     "metadata": {},
     "output_type": "execute_result"
    }
   ],
   "source": [
    "correct_ones/len(teacher_answers)"
   ]
  },
  {
   "cell_type": "markdown",
   "id": "dbd46082",
   "metadata": {
    "papermill": {
     "duration": 0.024979,
     "end_time": "2023-04-27T13:41:28.524296",
     "exception": false,
     "start_time": "2023-04-27T13:41:28.499317",
     "status": "completed"
    },
    "tags": []
   },
   "source": [
    "And this is our **Accuracy Score** for the test. \n",
    "\n",
    "By chance we are also kind people. So we think of other people too. So we will make a user friendly function for other users. \n",
    "\n",
    "The function will take `actuals` and `predictions` $2$ lists, and spit out the `accuracy_score`. "
   ]
  },
  {
   "cell_type": "markdown",
   "id": "074e2b44",
   "metadata": {
    "papermill": {
     "duration": 0.024398,
     "end_time": "2023-04-27T13:41:28.574377",
     "exception": false,
     "start_time": "2023-04-27T13:41:28.549979",
     "status": "completed"
    },
    "tags": []
   },
   "source": [
    "# 1.1.1.2 | Accuracy Score Final Source Code"
   ]
  },
  {
   "cell_type": "code",
   "execution_count": 8,
   "id": "98a1d1c9",
   "metadata": {
    "execution": {
     "iopub.execute_input": "2023-04-27T13:41:28.625848Z",
     "iopub.status.busy": "2023-04-27T13:41:28.625398Z",
     "iopub.status.idle": "2023-04-27T13:41:28.631807Z",
     "shell.execute_reply": "2023-04-27T13:41:28.630491Z"
    },
    "papermill": {
     "duration": 0.035584,
     "end_time": "2023-04-27T13:41:28.634629",
     "exception": false,
     "start_time": "2023-04-27T13:41:28.599045",
     "status": "completed"
    },
    "tags": []
   },
   "outputs": [],
   "source": [
    "def accuracy_score(actuals , predictions):\n",
    "    \n",
    "    correct_ones = 0\n",
    "    \n",
    "    for actual  , predicted in zip(actuals , predictions):\n",
    "        \n",
    "        if predicted == actual:\n",
    "            \n",
    "            correct_ones += 1\n",
    "\n",
    "    asc = correct_ones / len(predictions)\n",
    "\n",
    "    return asc"
   ]
  },
  {
   "cell_type": "markdown",
   "id": "0cabda15",
   "metadata": {
    "papermill": {
     "duration": 0.024401,
     "end_time": "2023-04-27T13:41:28.684268",
     "exception": false,
     "start_time": "2023-04-27T13:41:28.659867",
     "status": "completed"
    },
    "tags": []
   },
   "source": [
    "**Jokes apart, this was actually a small surface depiction of how the [sklearn.metrics.accuracy_score](https://scikit-learn.org/stable/modules/generated/sklearn.metrics.accuracy_score.html) works internally. Kudos to them !!!**\n",
    "\n",
    "# 1.1.2 | Balanced Accuracy Score "
   ]
  },
  {
   "cell_type": "markdown",
   "id": "3de8c0ce",
   "metadata": {
    "papermill": {
     "duration": 0.025283,
     "end_time": "2023-04-27T13:41:28.734626",
     "exception": false,
     "start_time": "2023-04-27T13:41:28.709343",
     "status": "completed"
    },
    "tags": []
   },
   "source": [
    "Suppose you have the `our_legendary_answers` list as "
   ]
  },
  {
   "cell_type": "code",
   "execution_count": 9,
   "id": "c3629ff7",
   "metadata": {
    "execution": {
     "iopub.execute_input": "2023-04-27T13:41:28.786700Z",
     "iopub.status.busy": "2023-04-27T13:41:28.786057Z",
     "iopub.status.idle": "2023-04-27T13:41:28.790951Z",
     "shell.execute_reply": "2023-04-27T13:41:28.789757Z"
    },
    "papermill": {
     "duration": 0.034033,
     "end_time": "2023-04-27T13:41:28.793447",
     "exception": false,
     "start_time": "2023-04-27T13:41:28.759414",
     "status": "completed"
    },
    "tags": []
   },
   "outputs": [],
   "source": [
    "our_legendary_answers = [\"True\" , \"True\" , \"True\" , \"True\" , \"True\" , \"True\"]"
   ]
  },
  {
   "cell_type": "markdown",
   "id": "9a78c9d8",
   "metadata": {
    "papermill": {
     "duration": 0.02634,
     "end_time": "2023-04-27T13:41:28.844865",
     "exception": false,
     "start_time": "2023-04-27T13:41:28.818525",
     "status": "completed"
    },
    "tags": []
   },
   "source": [
    "And `teacher_answers` as "
   ]
  },
  {
   "cell_type": "code",
   "execution_count": 10,
   "id": "a12dc03b",
   "metadata": {
    "execution": {
     "iopub.execute_input": "2023-04-27T13:41:28.897140Z",
     "iopub.status.busy": "2023-04-27T13:41:28.896302Z",
     "iopub.status.idle": "2023-04-27T13:41:28.900653Z",
     "shell.execute_reply": "2023-04-27T13:41:28.899881Z"
    },
    "papermill": {
     "duration": 0.03269,
     "end_time": "2023-04-27T13:41:28.902769",
     "exception": false,
     "start_time": "2023-04-27T13:41:28.870079",
     "status": "completed"
    },
    "tags": []
   },
   "outputs": [],
   "source": [
    "teacher_answers = [\"True\" , \"True\" , \"True\" , \"True\" , \"True\" , \"False\"]"
   ]
  },
  {
   "cell_type": "markdown",
   "id": "75e1a88b",
   "metadata": {
    "papermill": {
     "duration": 0.024512,
     "end_time": "2023-04-27T13:41:28.952182",
     "exception": false,
     "start_time": "2023-04-27T13:41:28.927670",
     "status": "completed"
    },
    "tags": []
   },
   "source": [
    "If we calculate the `accuracy_score` for this, we get "
   ]
  },
  {
   "cell_type": "code",
   "execution_count": 11,
   "id": "630865e9",
   "metadata": {
    "execution": {
     "iopub.execute_input": "2023-04-27T13:41:29.003905Z",
     "iopub.status.busy": "2023-04-27T13:41:29.003509Z",
     "iopub.status.idle": "2023-04-27T13:41:29.009444Z",
     "shell.execute_reply": "2023-04-27T13:41:29.008237Z"
    },
    "papermill": {
     "duration": 0.034571,
     "end_time": "2023-04-27T13:41:29.011751",
     "exception": false,
     "start_time": "2023-04-27T13:41:28.977180",
     "status": "completed"
    },
    "tags": []
   },
   "outputs": [
    {
     "data": {
      "text/plain": [
       "0.8333333333333334"
      ]
     },
     "execution_count": 11,
     "metadata": {},
     "output_type": "execute_result"
    }
   ],
   "source": [
    "accuracy_score(teacher_answers , our_legendary_answers)"
   ]
  },
  {
   "cell_type": "markdown",
   "id": "93c88482",
   "metadata": {
    "papermill": {
     "duration": 0.024796,
     "end_time": "2023-04-27T13:41:29.061345",
     "exception": false,
     "start_time": "2023-04-27T13:41:29.036549",
     "status": "completed"
    },
    "tags": []
   },
   "source": [
    "And we have a really great accuracy. beacuse we were correct most of the time. \n",
    "\n",
    "But notice one thing, rather than actually learning, we acutally just gave the same answer every time. Means in reality we actually didnt learn anything. This happened because the data was not varried. The number of `False` was way less than `True`.  \n",
    "\n",
    "**The drawback of `accuracy_score` was it was not able to handle imbalanced data**\n",
    "\n",
    "To comprehend this, we introduce a more complex metric. \n",
    "\n",
    "**The Lijhandary Balance Accuracy Score**🤯🤯\n",
    "\n",
    "So the original formula for a particular label is $$as_{True} = \\frac {Number_-Of_-times_-True_-was_-Predicited}{Total_-values}$$\n",
    "\n",
    "We can change this formula a little bit $$as_{True} = \\frac {Number_-Of_-times_-True_-was_-Predicited}{Number_-Of_-times_-True_-was_-Predicited + Number_-Of_-times_-True_-was_-not_-Predicited}$$\n",
    "\n",
    "$$as_{True} = \\frac {Number_-Of_-times_-True_-was_-Predicited}{Number_-Of_-times_-True_-was_-Predicited + Number_-Of_-times_-Other_-value_-was_-falsely_-Predicited}$$\n",
    "\n",
    "And the same formula with some tweeks will work for `False` too\n",
    "\n",
    "We can wirte this formula as \n",
    "\n",
    "$$as_{True} = \\frac {T_P}{T_P + F_N}$$\n",
    "$$as_{False} = \\frac {T_N}{T_N+ F_P}$$\n",
    "\n",
    "Actually we do not call this `accuracy_score` or `as`, we call it `recall`\n",
    "\n",
    "$$recall_{True} = \\frac {T_P}{T_P + F_N}$$\n",
    "$$recall_{False} = \\frac {T_N}{T_N+ F_P}$$\n",
    "\n",
    "To calculate the `balanced_accuracy_score` we take the mean of all of these values\n",
    "\n",
    "Now lets try to code this thing "
   ]
  },
  {
   "cell_type": "markdown",
   "id": "d3c06c6f",
   "metadata": {
    "papermill": {
     "duration": 0.02469,
     "end_time": "2023-04-27T13:41:29.111499",
     "exception": false,
     "start_time": "2023-04-27T13:41:29.086809",
     "status": "completed"
    },
    "tags": []
   },
   "source": [
    "First lets transition from `list` to `arrays`. as it gives us more functionalities."
   ]
  },
  {
   "cell_type": "markdown",
   "id": "ea04b605",
   "metadata": {
    "papermill": {
     "duration": 0.025001,
     "end_time": "2023-04-27T13:41:29.162241",
     "exception": false,
     "start_time": "2023-04-27T13:41:29.137240",
     "status": "completed"
    },
    "tags": []
   },
   "source": [
    "# 1.1.2.1 | Balanced Accuracy Score from Scratch "
   ]
  },
  {
   "cell_type": "code",
   "execution_count": 12,
   "id": "798bbba3",
   "metadata": {
    "execution": {
     "iopub.execute_input": "2023-04-27T13:41:29.214774Z",
     "iopub.status.busy": "2023-04-27T13:41:29.214010Z",
     "iopub.status.idle": "2023-04-27T13:41:29.218830Z",
     "shell.execute_reply": "2023-04-27T13:41:29.217856Z"
    },
    "papermill": {
     "duration": 0.034309,
     "end_time": "2023-04-27T13:41:29.221365",
     "exception": false,
     "start_time": "2023-04-27T13:41:29.187056",
     "status": "completed"
    },
    "tags": []
   },
   "outputs": [],
   "source": [
    "predictions = np.array(our_legendary_answers)\n",
    "actuals = np.array(teacher_answers)"
   ]
  },
  {
   "cell_type": "markdown",
   "id": "3fffb625",
   "metadata": {
    "papermill": {
     "duration": 0.024663,
     "end_time": "2023-04-27T13:41:29.270903",
     "exception": false,
     "start_time": "2023-04-27T13:41:29.246240",
     "status": "completed"
    },
    "tags": []
   },
   "source": [
    "Now we know that we need to compute `recall` for every unique label we have. First lets get what are the unique values "
   ]
  },
  {
   "cell_type": "code",
   "execution_count": 13,
   "id": "a7a7f4b0",
   "metadata": {
    "execution": {
     "iopub.execute_input": "2023-04-27T13:41:29.322268Z",
     "iopub.status.busy": "2023-04-27T13:41:29.321843Z",
     "iopub.status.idle": "2023-04-27T13:41:29.328445Z",
     "shell.execute_reply": "2023-04-27T13:41:29.327557Z"
    },
    "papermill": {
     "duration": 0.035177,
     "end_time": "2023-04-27T13:41:29.330843",
     "exception": false,
     "start_time": "2023-04-27T13:41:29.295666",
     "status": "completed"
    },
    "tags": []
   },
   "outputs": [
    {
     "data": {
      "text/plain": [
       "array(['False', 'True'], dtype='<U5')"
      ]
     },
     "execution_count": 13,
     "metadata": {},
     "output_type": "execute_result"
    }
   ],
   "source": [
    "np.unique(actuals)"
   ]
  },
  {
   "cell_type": "markdown",
   "id": "4b7e4ca9",
   "metadata": {
    "papermill": {
     "duration": 0.02451,
     "end_time": "2023-04-27T13:41:29.380358",
     "exception": false,
     "start_time": "2023-04-27T13:41:29.355848",
     "status": "completed"
    },
    "tags": []
   },
   "source": [
    "So know just make a list `recall_list` that stores the values of each `recall` "
   ]
  },
  {
   "cell_type": "code",
   "execution_count": 14,
   "id": "f413354c",
   "metadata": {
    "execution": {
     "iopub.execute_input": "2023-04-27T13:41:29.432168Z",
     "iopub.status.busy": "2023-04-27T13:41:29.431451Z",
     "iopub.status.idle": "2023-04-27T13:41:29.436139Z",
     "shell.execute_reply": "2023-04-27T13:41:29.435333Z"
    },
    "papermill": {
     "duration": 0.033122,
     "end_time": "2023-04-27T13:41:29.438255",
     "exception": false,
     "start_time": "2023-04-27T13:41:29.405133",
     "status": "completed"
    },
    "tags": []
   },
   "outputs": [],
   "source": [
    "recall = []\n",
    "for labels in np.unique(actuals):\n",
    "    recall.append(labels)"
   ]
  },
  {
   "cell_type": "markdown",
   "id": "52690b5e",
   "metadata": {
    "papermill": {
     "duration": 0.02455,
     "end_time": "2023-04-27T13:41:29.487766",
     "exception": false,
     "start_time": "2023-04-27T13:41:29.463216",
     "status": "completed"
    },
    "tags": []
   },
   "source": [
    "There are two types of terms in the formula `Number Of times True was Predicited` and `Number Of times Other value was falsely Predicited`. which can be calcualted easily by the code we wrote for `accuracy_score`, we just need to add a little bit more fucntionality to that one "
   ]
  },
  {
   "cell_type": "code",
   "execution_count": 15,
   "id": "a2529157",
   "metadata": {
    "execution": {
     "iopub.execute_input": "2023-04-27T13:41:29.539839Z",
     "iopub.status.busy": "2023-04-27T13:41:29.539369Z",
     "iopub.status.idle": "2023-04-27T13:41:29.546019Z",
     "shell.execute_reply": "2023-04-27T13:41:29.544759Z"
    },
    "papermill": {
     "duration": 0.035839,
     "end_time": "2023-04-27T13:41:29.548471",
     "exception": false,
     "start_time": "2023-04-27T13:41:29.512632",
     "status": "completed"
    },
    "tags": []
   },
   "outputs": [],
   "source": [
    "t_p = 0\n",
    "f_n = 0\n",
    "for act , pred in zip(actuals , predictions):\n",
    "    if act == np.unique(actuals)[0] and pred == np.unique(actuals)[0]:\n",
    "        t_p += 1 \n",
    "    else :\n",
    "        f_n += 1"
   ]
  },
  {
   "cell_type": "code",
   "execution_count": 16,
   "id": "87a4a913",
   "metadata": {
    "execution": {
     "iopub.execute_input": "2023-04-27T13:41:29.600713Z",
     "iopub.status.busy": "2023-04-27T13:41:29.600266Z",
     "iopub.status.idle": "2023-04-27T13:41:29.608153Z",
     "shell.execute_reply": "2023-04-27T13:41:29.606520Z"
    },
    "papermill": {
     "duration": 0.036817,
     "end_time": "2023-04-27T13:41:29.610716",
     "exception": false,
     "start_time": "2023-04-27T13:41:29.573899",
     "status": "completed"
    },
    "tags": []
   },
   "outputs": [
    {
     "name": "stdout",
     "output_type": "stream",
     "text": [
      "6\n"
     ]
    },
    {
     "data": {
      "text/plain": [
       "0"
      ]
     },
     "execution_count": 16,
     "metadata": {},
     "output_type": "execute_result"
    }
   ],
   "source": [
    "print(f_n)\n",
    "t_p "
   ]
  },
  {
   "cell_type": "markdown",
   "id": "2338341a",
   "metadata": {
    "papermill": {
     "duration": 0.025093,
     "end_time": "2023-04-27T13:41:29.660998",
     "exception": false,
     "start_time": "2023-04-27T13:41:29.635905",
     "status": "completed"
    },
    "tags": []
   },
   "source": [
    "We can store these values into a dictionary for more generalised form like `{labsl : T_P , F_N}`\n",
    "\n",
    "But there is problem with this, at sometime we need to iterate through this thing `dict.values = dict_values{[T_P , F_N] , [T_N , F_P]}`. which is not possible, we cannot iterate through a dictionary. \n",
    "```\n",
    "subscirpt `dictionary` is not iterable\n",
    "```\n",
    "\n",
    "Thus we will move to creating `arrays`. \n",
    "\n",
    "The array will be of format `array([[lable(encoded) , T_P , F_N] , [lable(encoded) , T_N , F_P]])`"
   ]
  },
  {
   "cell_type": "code",
   "execution_count": 17,
   "id": "72b3f80f",
   "metadata": {
    "execution": {
     "iopub.execute_input": "2023-04-27T13:41:29.713587Z",
     "iopub.status.busy": "2023-04-27T13:41:29.713188Z",
     "iopub.status.idle": "2023-04-27T13:41:29.722380Z",
     "shell.execute_reply": "2023-04-27T13:41:29.721213Z"
    },
    "papermill": {
     "duration": 0.038754,
     "end_time": "2023-04-27T13:41:29.724851",
     "exception": false,
     "start_time": "2023-04-27T13:41:29.686097",
     "status": "completed"
    },
    "tags": []
   },
   "outputs": [
    {
     "data": {
      "text/plain": [
       "array([[5.18791012e-310, 0.00000000e+000, 0.00000000e+000],\n",
       "       [0.00000000e+000, 0.00000000e+000, 0.00000000e+000]])"
      ]
     },
     "execution_count": 17,
     "metadata": {},
     "output_type": "execute_result"
    }
   ],
   "source": [
    "np.empty(shape = (2 , len(np.unique(actuals)) + 1))"
   ]
  },
  {
   "cell_type": "markdown",
   "id": "192c59d4",
   "metadata": {
    "papermill": {
     "duration": 0.024575,
     "end_time": "2023-04-27T13:41:29.774549",
     "exception": false,
     "start_time": "2023-04-27T13:41:29.749974",
     "status": "completed"
    },
    "tags": []
   },
   "source": [
    "Now we will populate our array"
   ]
  },
  {
   "cell_type": "code",
   "execution_count": 18,
   "id": "e3c54aab",
   "metadata": {
    "execution": {
     "iopub.execute_input": "2023-04-27T13:41:29.828310Z",
     "iopub.status.busy": "2023-04-27T13:41:29.827584Z",
     "iopub.status.idle": "2023-04-27T13:41:29.835176Z",
     "shell.execute_reply": "2023-04-27T13:41:29.834213Z"
    },
    "papermill": {
     "duration": 0.03732,
     "end_time": "2023-04-27T13:41:29.837775",
     "exception": false,
     "start_time": "2023-04-27T13:41:29.800455",
     "status": "completed"
    },
    "tags": []
   },
   "outputs": [],
   "source": [
    "metrics = np.empty(shape = (2 , len(np.unique(actuals)) + 1))\n",
    "for i in range(len(np.unique(actuals))):\n",
    "    x = np.empty(shape = (3))\n",
    "    true = 0\n",
    "    false = 0\n",
    "    for act , pred in zip(actuals , predictions):\n",
    "        if ((act == np.unique(actuals)[i]) and (pred == np.unique(actuals)[i])):\n",
    "            true += 1\n",
    "        else :\n",
    "            false += 1\n",
    "    x[0] = i\n",
    "    x[1] = true\n",
    "    x[2] = false\n",
    "    metrics[i] = x"
   ]
  },
  {
   "cell_type": "code",
   "execution_count": 19,
   "id": "33688d44",
   "metadata": {
    "execution": {
     "iopub.execute_input": "2023-04-27T13:41:29.892387Z",
     "iopub.status.busy": "2023-04-27T13:41:29.891306Z",
     "iopub.status.idle": "2023-04-27T13:41:29.898424Z",
     "shell.execute_reply": "2023-04-27T13:41:29.897333Z"
    },
    "papermill": {
     "duration": 0.03675,
     "end_time": "2023-04-27T13:41:29.900989",
     "exception": false,
     "start_time": "2023-04-27T13:41:29.864239",
     "status": "completed"
    },
    "tags": []
   },
   "outputs": [
    {
     "data": {
      "text/plain": [
       "array([1., 5., 1.])"
      ]
     },
     "execution_count": 19,
     "metadata": {},
     "output_type": "execute_result"
    }
   ],
   "source": [
    "x"
   ]
  },
  {
   "cell_type": "markdown",
   "id": "e2449fd7",
   "metadata": {
    "papermill": {
     "duration": 0.025116,
     "end_time": "2023-04-27T13:41:29.951711",
     "exception": false,
     "start_time": "2023-04-27T13:41:29.926595",
     "status": "completed"
    },
    "tags": []
   },
   "source": [
    "This denotes the \n",
    "\n",
    "|||\n",
    "|---|---|\n",
    "|$Label$|$1$|\n",
    "|$T_P$|$5$|\n",
    "|$T_N$|$1$"
   ]
  },
  {
   "cell_type": "code",
   "execution_count": 20,
   "id": "339cdebb",
   "metadata": {
    "execution": {
     "iopub.execute_input": "2023-04-27T13:41:30.006081Z",
     "iopub.status.busy": "2023-04-27T13:41:30.004945Z",
     "iopub.status.idle": "2023-04-27T13:41:30.012580Z",
     "shell.execute_reply": "2023-04-27T13:41:30.011217Z"
    },
    "papermill": {
     "duration": 0.037555,
     "end_time": "2023-04-27T13:41:30.015313",
     "exception": false,
     "start_time": "2023-04-27T13:41:29.977758",
     "status": "completed"
    },
    "tags": []
   },
   "outputs": [
    {
     "data": {
      "text/plain": [
       "array([[0., 0., 6.],\n",
       "       [1., 5., 1.]])"
      ]
     },
     "execution_count": 20,
     "metadata": {},
     "output_type": "execute_result"
    }
   ],
   "source": [
    "metrics"
   ]
  },
  {
   "cell_type": "markdown",
   "id": "762a0137",
   "metadata": {
    "papermill": {
     "duration": 0.025868,
     "end_time": "2023-04-27T13:41:30.066859",
     "exception": false,
     "start_time": "2023-04-27T13:41:30.040991",
     "status": "completed"
    },
    "tags": []
   },
   "source": [
    "And this is just the broader version of this thing \n",
    "\n",
    "Now we just need to calculate this fomula $$as_{True} = \\frac {Number_-Of_-times_-True_-was_-Predicited}{Number_-Of_-times_-True_-was_-Predicited + Number_-Of_-times_-Other_-value_-was_-falsely_-Predicited}$$\n",
    "\n",
    "and luckily we have the corresponding values too "
   ]
  },
  {
   "cell_type": "code",
   "execution_count": 21,
   "id": "27f71def",
   "metadata": {
    "execution": {
     "iopub.execute_input": "2023-04-27T13:41:30.122779Z",
     "iopub.status.busy": "2023-04-27T13:41:30.122118Z",
     "iopub.status.idle": "2023-04-27T13:41:30.126951Z",
     "shell.execute_reply": "2023-04-27T13:41:30.126041Z"
    },
    "papermill": {
     "duration": 0.035634,
     "end_time": "2023-04-27T13:41:30.129834",
     "exception": false,
     "start_time": "2023-04-27T13:41:30.094200",
     "status": "completed"
    },
    "tags": []
   },
   "outputs": [],
   "source": [
    "recall_1 = metrics[0][1] / (metrics[0][1] + metrics[1][2])"
   ]
  },
  {
   "cell_type": "code",
   "execution_count": 22,
   "id": "591fee7d",
   "metadata": {
    "execution": {
     "iopub.execute_input": "2023-04-27T13:41:30.183374Z",
     "iopub.status.busy": "2023-04-27T13:41:30.182345Z",
     "iopub.status.idle": "2023-04-27T13:41:30.188860Z",
     "shell.execute_reply": "2023-04-27T13:41:30.187801Z"
    },
    "papermill": {
     "duration": 0.036087,
     "end_time": "2023-04-27T13:41:30.191382",
     "exception": false,
     "start_time": "2023-04-27T13:41:30.155295",
     "status": "completed"
    },
    "tags": []
   },
   "outputs": [
    {
     "data": {
      "text/plain": [
       "0.0"
      ]
     },
     "execution_count": 22,
     "metadata": {},
     "output_type": "execute_result"
    }
   ],
   "source": [
    "recall_1"
   ]
  },
  {
   "cell_type": "markdown",
   "id": "ae8ce84c",
   "metadata": {
    "papermill": {
     "duration": 0.025493,
     "end_time": "2023-04-27T13:41:30.242465",
     "exception": false,
     "start_time": "2023-04-27T13:41:30.216972",
     "status": "completed"
    },
    "tags": []
   },
   "source": [
    "And the recall for the second one will be "
   ]
  },
  {
   "cell_type": "code",
   "execution_count": 23,
   "id": "aa51e6e5",
   "metadata": {
    "execution": {
     "iopub.execute_input": "2023-04-27T13:41:30.295657Z",
     "iopub.status.busy": "2023-04-27T13:41:30.295245Z",
     "iopub.status.idle": "2023-04-27T13:41:30.300722Z",
     "shell.execute_reply": "2023-04-27T13:41:30.299568Z"
    },
    "papermill": {
     "duration": 0.0354,
     "end_time": "2023-04-27T13:41:30.303433",
     "exception": false,
     "start_time": "2023-04-27T13:41:30.268033",
     "status": "completed"
    },
    "tags": []
   },
   "outputs": [],
   "source": [
    "recall_0 = metrics[1][1] / (metrics[1][1] + metrics[0][2])"
   ]
  },
  {
   "cell_type": "code",
   "execution_count": 24,
   "id": "557ef29a",
   "metadata": {
    "execution": {
     "iopub.execute_input": "2023-04-27T13:41:30.358073Z",
     "iopub.status.busy": "2023-04-27T13:41:30.357643Z",
     "iopub.status.idle": "2023-04-27T13:41:30.364783Z",
     "shell.execute_reply": "2023-04-27T13:41:30.363568Z"
    },
    "papermill": {
     "duration": 0.03757,
     "end_time": "2023-04-27T13:41:30.367221",
     "exception": false,
     "start_time": "2023-04-27T13:41:30.329651",
     "status": "completed"
    },
    "tags": []
   },
   "outputs": [
    {
     "data": {
      "text/plain": [
       "0.45454545454545453"
      ]
     },
     "execution_count": 24,
     "metadata": {},
     "output_type": "execute_result"
    }
   ],
   "source": [
    "recall_0"
   ]
  },
  {
   "cell_type": "markdown",
   "id": "2c975bb1",
   "metadata": {
    "papermill": {
     "duration": 0.025685,
     "end_time": "2023-04-27T13:41:30.418854",
     "exception": false,
     "start_time": "2023-04-27T13:41:30.393169",
     "status": "completed"
    },
    "tags": []
   },
   "source": [
    "And the mean of these values will be "
   ]
  },
  {
   "cell_type": "code",
   "execution_count": 25,
   "id": "11b83897",
   "metadata": {
    "execution": {
     "iopub.execute_input": "2023-04-27T13:41:30.472420Z",
     "iopub.status.busy": "2023-04-27T13:41:30.472001Z",
     "iopub.status.idle": "2023-04-27T13:41:30.479193Z",
     "shell.execute_reply": "2023-04-27T13:41:30.477921Z"
    },
    "papermill": {
     "duration": 0.036762,
     "end_time": "2023-04-27T13:41:30.481481",
     "exception": false,
     "start_time": "2023-04-27T13:41:30.444719",
     "status": "completed"
    },
    "tags": []
   },
   "outputs": [
    {
     "data": {
      "text/plain": [
       "0.22727272727272727"
      ]
     },
     "execution_count": 25,
     "metadata": {},
     "output_type": "execute_result"
    }
   ],
   "source": [
    "(recall_1 + recall_0) / 2"
   ]
  },
  {
   "cell_type": "markdown",
   "id": "93096f0d",
   "metadata": {
    "papermill": {
     "duration": 0.025688,
     "end_time": "2023-04-27T13:41:30.534274",
     "exception": false,
     "start_time": "2023-04-27T13:41:30.508586",
     "status": "completed"
    },
    "tags": []
   },
   "source": [
    "And thats actually very low. Lets now put of all this into a funciton and do fun with the homeis then "
   ]
  },
  {
   "cell_type": "code",
   "execution_count": 26,
   "id": "3475239d",
   "metadata": {
    "execution": {
     "iopub.execute_input": "2023-04-27T13:41:30.589250Z",
     "iopub.status.busy": "2023-04-27T13:41:30.588850Z",
     "iopub.status.idle": "2023-04-27T13:41:30.597786Z",
     "shell.execute_reply": "2023-04-27T13:41:30.596556Z"
    },
    "papermill": {
     "duration": 0.039923,
     "end_time": "2023-04-27T13:41:30.600288",
     "exception": false,
     "start_time": "2023-04-27T13:41:30.560365",
     "status": "completed"
    },
    "tags": []
   },
   "outputs": [],
   "source": [
    "recall = []\n",
    "if metrics.shape[0] == 2:\n",
    "    recall.append(metrics[0][1] / (metrics[0][1] + metrics[1][2]))\n",
    "    recall.append(metrics[1][1] / (metrics[1][1] + metrics[0][2]))\n",
    "else :\n",
    "    # If the labels are more than 2\n",
    "    for i in metrics:\n",
    "        trans_metrics = metrics[:m]+metrics[m+1:]\n",
    "        print(metrics[:m] , metrics[m+1:])\n",
    "        print(trans_metrics)\n",
    "        x = [j[2] for j in trans_metrics]\n",
    "        print(np.sum(x))\n",
    "        recall.append(metrics[m][1] / (metrics[m][1] + np.sum(np.array(x))))"
   ]
  },
  {
   "cell_type": "markdown",
   "id": "e92554ff",
   "metadata": {
    "papermill": {
     "duration": 0.025631,
     "end_time": "2023-04-27T13:41:30.652084",
     "exception": false,
     "start_time": "2023-04-27T13:41:30.626453",
     "status": "completed"
    },
    "tags": []
   },
   "source": [
    "ShortCut for caluclating the `mean`"
   ]
  },
  {
   "cell_type": "code",
   "execution_count": 27,
   "id": "7af689b6",
   "metadata": {
    "execution": {
     "iopub.execute_input": "2023-04-27T13:41:30.706619Z",
     "iopub.status.busy": "2023-04-27T13:41:30.706197Z",
     "iopub.status.idle": "2023-04-27T13:41:30.712055Z",
     "shell.execute_reply": "2023-04-27T13:41:30.710450Z"
    },
    "papermill": {
     "duration": 0.037021,
     "end_time": "2023-04-27T13:41:30.715032",
     "exception": false,
     "start_time": "2023-04-27T13:41:30.678011",
     "status": "completed"
    },
    "tags": []
   },
   "outputs": [],
   "source": [
    "recall = np.sum(np.array(recall)).mean"
   ]
  },
  {
   "cell_type": "code",
   "execution_count": 28,
   "id": "118a7f8a",
   "metadata": {
    "execution": {
     "iopub.execute_input": "2023-04-27T13:41:30.768871Z",
     "iopub.status.busy": "2023-04-27T13:41:30.768365Z",
     "iopub.status.idle": "2023-04-27T13:41:30.773935Z",
     "shell.execute_reply": "2023-04-27T13:41:30.772662Z"
    },
    "papermill": {
     "duration": 0.035337,
     "end_time": "2023-04-27T13:41:30.776372",
     "exception": false,
     "start_time": "2023-04-27T13:41:30.741035",
     "status": "completed"
    },
    "tags": []
   },
   "outputs": [],
   "source": [
    "balanced_accyracy_score = recall"
   ]
  },
  {
   "cell_type": "markdown",
   "id": "94a2b58e",
   "metadata": {
    "papermill": {
     "duration": 0.025366,
     "end_time": "2023-04-27T13:41:30.827776",
     "exception": false,
     "start_time": "2023-04-27T13:41:30.802410",
     "status": "completed"
    },
    "tags": []
   },
   "source": [
    "# 1.1.2.2 | Balanced Socre Final Source Code"
   ]
  },
  {
   "cell_type": "code",
   "execution_count": 29,
   "id": "0813ec7d",
   "metadata": {
    "execution": {
     "iopub.execute_input": "2023-04-27T13:41:30.881379Z",
     "iopub.status.busy": "2023-04-27T13:41:30.880950Z",
     "iopub.status.idle": "2023-04-27T13:41:30.892789Z",
     "shell.execute_reply": "2023-04-27T13:41:30.891792Z"
    },
    "papermill": {
     "duration": 0.041757,
     "end_time": "2023-04-27T13:41:30.895303",
     "exception": false,
     "start_time": "2023-04-27T13:41:30.853546",
     "status": "completed"
    },
    "tags": []
   },
   "outputs": [],
   "source": [
    "\n",
    "def balanced_accuracy_score(predictions , actuals):\n",
    "\n",
    "    metrics = np.empty(shape = (2 , len(np.unique(pred)) + 1))\n",
    "    \n",
    "    for uniques in range(len(np.unique(pred))):\n",
    "        \n",
    "        x = np.empty(shape = (3))\n",
    "        \n",
    "        trues = 0\n",
    "        falses = 0\n",
    "        \n",
    "        for actu , predi in zip(act , pred):\n",
    "            \n",
    "            if ((actu == np.unique(pred)[uniques]) and (predi == np.unique(pred)[uniques])):\n",
    "            \n",
    "                trues += 1\n",
    "            \n",
    "            else :\n",
    "            \n",
    "                falses += 1\n",
    "        \n",
    "        x[0] = uniques\n",
    "        x[1] = trues\n",
    "        x[2] = falses\n",
    "        \n",
    "        metrics[i] = x\n",
    "    \n",
    "    recall = []\n",
    "    \n",
    "    if metrics.shape[0] == 2:\n",
    "    \n",
    "        recall.append(metrics[0][1] / (metrics[0][1] + metrics[1][2]))\n",
    "        recall.append(metrics[1][1] / (metrics[1][1] + metrics[0][2]))\n",
    "    \n",
    "    else :\n",
    "    \n",
    "        for labels in range(len(metrics)): \n",
    "            \n",
    "            x = [j[2] \n",
    "                 for j in metrics[:labels]+metrics[labels+1:]]\n",
    "            \n",
    "            recall.append(metrics[labels][1] / (metrics[labels][1] + np.sum(np.array(x))))\n",
    "    \n",
    "    return np.sum(np.array(recall))"
   ]
  },
  {
   "cell_type": "markdown",
   "id": "890cb0f1",
   "metadata": {
    "papermill": {
     "duration": 0.026156,
     "end_time": "2023-04-27T13:41:30.947417",
     "exception": false,
     "start_time": "2023-04-27T13:41:30.921261",
     "status": "completed"
    },
    "tags": []
   },
   "source": [
    "# 1.1.3 | Top K Accuracy \n",
    "\n",
    "lets assume we do not have $2$ classes and have more classes than $2$, and you want to get the accuracy of best $k$ elements, then we use this type of `accuracy`. \n",
    "\n",
    "Implemeting this is really simple.\n",
    "\n",
    "We know for calculating the accuracy we have this code "
   ]
  },
  {
   "cell_type": "code",
   "execution_count": 30,
   "id": "6bc5a3db",
   "metadata": {
    "execution": {
     "iopub.execute_input": "2023-04-27T13:41:31.001530Z",
     "iopub.status.busy": "2023-04-27T13:41:31.000816Z",
     "iopub.status.idle": "2023-04-27T13:41:31.006290Z",
     "shell.execute_reply": "2023-04-27T13:41:31.005412Z"
    },
    "papermill": {
     "duration": 0.035334,
     "end_time": "2023-04-27T13:41:31.008671",
     "exception": false,
     "start_time": "2023-04-27T13:41:30.973337",
     "status": "completed"
    },
    "tags": []
   },
   "outputs": [],
   "source": [
    "def accuracy_score(actuals , predictions):\n",
    "    \n",
    "    correct_ones = 0\n",
    "    \n",
    "    for actual  , predicted in zip(actuals , predictions):\n",
    "        \n",
    "        if predicted == actual:\n",
    "            \n",
    "            correct_ones += 1\n",
    "\n",
    "    asc = correct_ones / len(predictions)\n",
    "\n",
    "    return asc"
   ]
  },
  {
   "cell_type": "markdown",
   "id": "c2886083",
   "metadata": {
    "papermill": {
     "duration": 0.025521,
     "end_time": "2023-04-27T13:41:31.060341",
     "exception": false,
     "start_time": "2023-04-27T13:41:31.034820",
     "status": "completed"
    },
    "tags": []
   },
   "source": [
    "Lets first change the name "
   ]
  },
  {
   "cell_type": "code",
   "execution_count": 31,
   "id": "0e795c2f",
   "metadata": {
    "execution": {
     "iopub.execute_input": "2023-04-27T13:41:31.114855Z",
     "iopub.status.busy": "2023-04-27T13:41:31.114439Z",
     "iopub.status.idle": "2023-04-27T13:41:31.120331Z",
     "shell.execute_reply": "2023-04-27T13:41:31.119124Z"
    },
    "papermill": {
     "duration": 0.037102,
     "end_time": "2023-04-27T13:41:31.123574",
     "exception": false,
     "start_time": "2023-04-27T13:41:31.086472",
     "status": "completed"
    },
    "tags": []
   },
   "outputs": [],
   "source": [
    "def top_k_accuracy(actuals , predictions):\n",
    "    \n",
    "    correct_ones = 0\n",
    "    \n",
    "    for actual  , predicted in zip(actuals , predictions):\n",
    "        \n",
    "        if predicted == actual:\n",
    "            \n",
    "            correct_ones += 1\n",
    "\n",
    "    asc = correct_ones / len(predictions)\n",
    "\n",
    "    return asc"
   ]
  },
  {
   "cell_type": "markdown",
   "id": "b350f2f3",
   "metadata": {
    "papermill": {
     "duration": 0.026033,
     "end_time": "2023-04-27T13:41:31.177550",
     "exception": false,
     "start_time": "2023-04-27T13:41:31.151517",
     "status": "completed"
    },
    "tags": []
   },
   "source": [
    "First we need to make a dicitonary that stores the `keys` as the `labels` and the `values` as the `accuracy for that particular class`. For now the function returns a list containing the accuracy of all the classes "
   ]
  },
  {
   "cell_type": "code",
   "execution_count": 32,
   "id": "b86b0765",
   "metadata": {
    "execution": {
     "iopub.execute_input": "2023-04-27T13:41:31.232639Z",
     "iopub.status.busy": "2023-04-27T13:41:31.231466Z",
     "iopub.status.idle": "2023-04-27T13:41:31.238281Z",
     "shell.execute_reply": "2023-04-27T13:41:31.237128Z"
    },
    "papermill": {
     "duration": 0.036663,
     "end_time": "2023-04-27T13:41:31.240820",
     "exception": false,
     "start_time": "2023-04-27T13:41:31.204157",
     "status": "completed"
    },
    "tags": []
   },
   "outputs": [],
   "source": [
    "def top_k_accuracy(actuals , predictions):\n",
    "    \n",
    "    k_labels = []\n",
    "    \n",
    "    for label in np.unique(pred):\n",
    "        \n",
    "        correct_ones = 0\n",
    "\n",
    "        for actual  , predicted in zip(actuals , predictions):\n",
    "\n",
    "            if predicted == label and actual == label:\n",
    "\n",
    "                correct_ones += 1\n",
    "\n",
    "        asc = correct_ones / len(predictions)\n",
    "        \n",
    "        k_labels.append(asc)\n",
    "\n",
    "    return k_labels    "
   ]
  },
  {
   "cell_type": "markdown",
   "id": "69c569b0",
   "metadata": {
    "papermill": {
     "duration": 0.025496,
     "end_time": "2023-04-27T13:41:31.292409",
     "exception": false,
     "start_time": "2023-04-27T13:41:31.266913",
     "status": "completed"
    },
    "tags": []
   },
   "source": [
    "Now we need to sort the list and return the first `k` elements of the list "
   ]
  },
  {
   "cell_type": "markdown",
   "id": "c6c40440",
   "metadata": {
    "papermill": {
     "duration": 0.02541,
     "end_time": "2023-04-27T13:41:31.343295",
     "exception": false,
     "start_time": "2023-04-27T13:41:31.317885",
     "status": "completed"
    },
    "tags": []
   },
   "source": [
    "# 1.1.3.1 | Top K Accuracy Final Soruce Code"
   ]
  },
  {
   "cell_type": "code",
   "execution_count": 33,
   "id": "8f4461ca",
   "metadata": {
    "execution": {
     "iopub.execute_input": "2023-04-27T13:41:31.396643Z",
     "iopub.status.busy": "2023-04-27T13:41:31.396215Z",
     "iopub.status.idle": "2023-04-27T13:41:31.402959Z",
     "shell.execute_reply": "2023-04-27T13:41:31.402131Z"
    },
    "papermill": {
     "duration": 0.035851,
     "end_time": "2023-04-27T13:41:31.405008",
     "exception": false,
     "start_time": "2023-04-27T13:41:31.369157",
     "status": "completed"
    },
    "tags": []
   },
   "outputs": [],
   "source": [
    "def top_k_accuracy(actuals , predictions , k):\n",
    "    \n",
    "    k_labels = []\n",
    "    \n",
    "    for label in np.unique(pred):\n",
    "        \n",
    "        correct_ones = 0\n",
    "\n",
    "        for actual  , predicted in zip(actuals , predictions):\n",
    "\n",
    "            if predicted == label and actual == label:\n",
    "\n",
    "                correct_ones += 1\n",
    "\n",
    "        asc = correct_ones / len(predictions)\n",
    "        \n",
    "        k_labels.append(asc)\n",
    "\n",
    "    k_labels = np.array(k_labels)\n",
    "    \n",
    "    return k_labels[:k]    "
   ]
  },
  {
   "cell_type": "markdown",
   "id": "5d020139",
   "metadata": {
    "papermill": {
     "duration": 0.025664,
     "end_time": "2023-04-27T13:41:31.456401",
     "exception": false,
     "start_time": "2023-04-27T13:41:31.430737",
     "status": "completed"
    },
    "tags": []
   },
   "source": [
    "# 1.2 | Precision Score\n",
    "\n",
    "# 1.2.1 | Averagte Precision Score\n",
    "\n",
    "Remeber how we calculated the `accuracy` of the sample...?\n",
    "\n",
    "The formula for calculating the accuracy we used the formula \n",
    "\n",
    "$$\\frac {correct_-ones}{total_-ones}$$\n",
    "\n",
    "For calculating the precision we use the formula \n",
    "\n",
    "$$\\frac {correct_-ones}{correct_-ones + false_-ones}$$\n",
    "\n",
    "To caluclate the `average precison score` we can change this code a bit diffrently "
   ]
  },
  {
   "cell_type": "markdown",
   "id": "ebf9886b",
   "metadata": {
    "papermill": {
     "duration": 0.026189,
     "end_time": "2023-04-27T13:41:31.508538",
     "exception": false,
     "start_time": "2023-04-27T13:41:31.482349",
     "status": "completed"
    },
    "tags": []
   },
   "source": [
    "# 1.2.1.1 | Average Precision Score Final Soruce Code"
   ]
  },
  {
   "cell_type": "code",
   "execution_count": 34,
   "id": "9a05b4e5",
   "metadata": {
    "execution": {
     "iopub.execute_input": "2023-04-27T13:41:31.568104Z",
     "iopub.status.busy": "2023-04-27T13:41:31.567659Z",
     "iopub.status.idle": "2023-04-27T13:41:31.573957Z",
     "shell.execute_reply": "2023-04-27T13:41:31.572609Z"
    },
    "papermill": {
     "duration": 0.038091,
     "end_time": "2023-04-27T13:41:31.576493",
     "exception": false,
     "start_time": "2023-04-27T13:41:31.538402",
     "status": "completed"
    },
    "tags": []
   },
   "outputs": [],
   "source": [
    "def average_precision_score(actuals , predictions):\n",
    "    \n",
    "    correct_ones = 0\n",
    "    false_ones = 0\n",
    "    \n",
    "    for actual  , predicted in zip(actuals , predictions):\n",
    "        \n",
    "        if predicted == actual:\n",
    "            \n",
    "            correct_ones += 1\n",
    "        \n",
    "        else:\n",
    "            \n",
    "            false_ones += 1\n",
    "            \n",
    "    aps = correct_ones / correct_ones + false_ones\n",
    "\n",
    "    return aps"
   ]
  },
  {
   "cell_type": "markdown",
   "id": "d4cdf706",
   "metadata": {
    "papermill": {
     "duration": 0.025689,
     "end_time": "2023-04-27T13:41:31.627986",
     "exception": false,
     "start_time": "2023-04-27T13:41:31.602297",
     "status": "completed"
    },
    "tags": []
   },
   "source": [
    "# 1.2.2 | Precision Score\n",
    "\n",
    "In this we try not to calculate the mean precision score, rather try to calculate the preciison of each class. This is actually simple. This is just like tweeking some simple changes in the `Top-K Accuracy` and it is easy peezy :)"
   ]
  },
  {
   "cell_type": "code",
   "execution_count": 35,
   "id": "e9fb8de4",
   "metadata": {
    "execution": {
     "iopub.execute_input": "2023-04-27T13:41:31.683145Z",
     "iopub.status.busy": "2023-04-27T13:41:31.682289Z",
     "iopub.status.idle": "2023-04-27T13:41:31.689828Z",
     "shell.execute_reply": "2023-04-27T13:41:31.688875Z"
    },
    "papermill": {
     "duration": 0.038386,
     "end_time": "2023-04-27T13:41:31.692470",
     "exception": false,
     "start_time": "2023-04-27T13:41:31.654084",
     "status": "completed"
    },
    "tags": []
   },
   "outputs": [],
   "source": [
    "def precision(actuals , predictions , k):\n",
    "    \n",
    "    k_labels = []\n",
    "    \n",
    "    for label in np.unique(pred):\n",
    "        \n",
    "        correct_ones = 0\n",
    "\n",
    "        for actual  , predicted in zip(actuals , predictions):\n",
    "\n",
    "            if predicted == label and actual == label:\n",
    "\n",
    "                correct_ones += 1\n",
    "            # Else condition here \n",
    "            else :\n",
    "                \n",
    "                false_ones += 1\n",
    "        \n",
    "        asc = correct_ones / false_ones\n",
    "        \n",
    "        k_labels.append(asc)\n",
    "\n",
    "    k_labels = np.array(k_labels)\n",
    "    \n",
    "    return K_lables    "
   ]
  },
  {
   "cell_type": "markdown",
   "id": "c63cb967",
   "metadata": {
    "papermill": {
     "duration": 0.02631,
     "end_time": "2023-04-27T13:41:31.744870",
     "exception": false,
     "start_time": "2023-04-27T13:41:31.718560",
     "status": "completed"
    },
    "tags": []
   },
   "source": [
    "And thats it!!!"
   ]
  },
  {
   "cell_type": "markdown",
   "id": "745be114",
   "metadata": {
    "papermill": {
     "duration": 0.025979,
     "end_time": "2023-04-27T13:41:31.797111",
     "exception": false,
     "start_time": "2023-04-27T13:41:31.771132",
     "status": "completed"
    },
    "tags": []
   },
   "source": [
    "# 1.2.2.1 | Precision Score Final Source Code"
   ]
  },
  {
   "cell_type": "code",
   "execution_count": 36,
   "id": "31364f3c",
   "metadata": {
    "execution": {
     "iopub.execute_input": "2023-04-27T13:41:31.851114Z",
     "iopub.status.busy": "2023-04-27T13:41:31.850665Z",
     "iopub.status.idle": "2023-04-27T13:41:31.858090Z",
     "shell.execute_reply": "2023-04-27T13:41:31.856582Z"
    },
    "papermill": {
     "duration": 0.037652,
     "end_time": "2023-04-27T13:41:31.860716",
     "exception": false,
     "start_time": "2023-04-27T13:41:31.823064",
     "status": "completed"
    },
    "tags": []
   },
   "outputs": [],
   "source": [
    "def precision(actuals , predictions , k):\n",
    "    \n",
    "    k_labels = []\n",
    "    \n",
    "    for label in np.unique(pred):\n",
    "        \n",
    "        correct_ones = 0\n",
    "\n",
    "        for actual  , predicted in zip(actuals , predictions):\n",
    "\n",
    "            if predicted == label and actual == label:\n",
    "\n",
    "                correct_ones += 1\n",
    "            # Else condition here \n",
    "            else :\n",
    "                \n",
    "                false_ones += 1\n",
    "        \n",
    "        asc = correct_ones / false_ones\n",
    "        \n",
    "        k_labels.append(asc)\n",
    "\n",
    "    k_labels = np.array(k_labels)\n",
    "    \n",
    "    return K_lables    "
   ]
  },
  {
   "cell_type": "markdown",
   "id": "2e1f2863",
   "metadata": {
    "papermill": {
     "duration": 0.025797,
     "end_time": "2023-04-27T13:41:31.912855",
     "exception": false,
     "start_time": "2023-04-27T13:41:31.887058",
     "status": "completed"
    },
    "tags": []
   },
   "source": [
    "# 1.3 | F-1 Score\n",
    "# 1.3.1 | F-1 Score Normal\n",
    "\n",
    "So what does $F_1Score$ tells. The concept is to somehow combine both `Precision` and `Recall`, The bestest $F_1Score = 1$ and the worst $F_1Score = 0$.\n",
    "\n",
    "****\n",
    "$$F_1 Score = \\frac {1}{\\frac {1}{Precision} + \\frac {1}{Recall}}$$\n",
    "****\n",
    "So we know how to calculate the `Precision` and `Recall`."
   ]
  },
  {
   "cell_type": "code",
   "execution_count": 37,
   "id": "7125310b",
   "metadata": {
    "execution": {
     "iopub.execute_input": "2023-04-27T13:41:31.966883Z",
     "iopub.status.busy": "2023-04-27T13:41:31.966140Z",
     "iopub.status.idle": "2023-04-27T13:41:31.977723Z",
     "shell.execute_reply": "2023-04-27T13:41:31.976834Z"
    },
    "papermill": {
     "duration": 0.041634,
     "end_time": "2023-04-27T13:41:31.980333",
     "exception": false,
     "start_time": "2023-04-27T13:41:31.938699",
     "status": "completed"
    },
    "tags": []
   },
   "outputs": [],
   "source": [
    "def balanced_accuracy_score(predictions , actuals):\n",
    "\n",
    "    metrics = np.empty(shape = (2 , len(np.unique(pred)) + 1))\n",
    "    \n",
    "    for uniques in range(len(np.unique(pred))):\n",
    "        \n",
    "        x = np.empty(shape = (3))\n",
    "        \n",
    "        trues = 0\n",
    "        falses = 0\n",
    "        \n",
    "        for actu , predi in zip(act , pred):\n",
    "            \n",
    "            if ((actu == np.unique(pred)[uniques]) and (predi == np.unique(pred)[uniques])):\n",
    "            \n",
    "                trues += 1\n",
    "            \n",
    "            else :\n",
    "            \n",
    "                falses += 1\n",
    "        \n",
    "        x[0] = uniques\n",
    "        x[1] = trues\n",
    "        x[2] = falses\n",
    "        \n",
    "        metrics[i] = x\n",
    "    \n",
    "    recall = []\n",
    "    \n",
    "    if metrics.shape[0] == 2:\n",
    "    \n",
    "        recall.append(metrics[0][1] / (metrics[0][1] + metrics[1][2]))\n",
    "        recall.append(metrics[1][1] / (metrics[1][1] + metrics[0][2]))\n",
    "    \n",
    "    else :\n",
    "    \n",
    "        for labels in range(len(metrics)): \n",
    "            \n",
    "            x = [j[2] \n",
    "                 for j in metrics[:labels]+metrics[labels+1:]]\n",
    "            \n",
    "            recall.append(metrics[labels][1] / (metrics[labels][1] + np.sum(np.array(x))))\n",
    "    \n",
    "    return np.sum(np.array(recall))"
   ]
  },
  {
   "cell_type": "code",
   "execution_count": 38,
   "id": "2965ec5b",
   "metadata": {
    "execution": {
     "iopub.execute_input": "2023-04-27T13:41:32.035664Z",
     "iopub.status.busy": "2023-04-27T13:41:32.034336Z",
     "iopub.status.idle": "2023-04-27T13:41:32.042334Z",
     "shell.execute_reply": "2023-04-27T13:41:32.041318Z"
    },
    "papermill": {
     "duration": 0.038559,
     "end_time": "2023-04-27T13:41:32.044877",
     "exception": false,
     "start_time": "2023-04-27T13:41:32.006318",
     "status": "completed"
    },
    "tags": []
   },
   "outputs": [],
   "source": [
    "def accuracy(actuals , predictions):\n",
    "    \n",
    "    k_labels = []\n",
    "    \n",
    "    for label in np.unique(pred):\n",
    "        \n",
    "        correct_ones = 0\n",
    "\n",
    "        for actual  , predicted in zip(actuals , predictions):\n",
    "\n",
    "            if predicted == label and actual == label:\n",
    "\n",
    "                correct_ones += 1\n",
    "\n",
    "        asc = correct_ones / len(predictions)\n",
    "        \n",
    "        k_labels.append(asc)\n",
    "\n",
    "    k_labels = np.array(k_labels)\n",
    "    \n",
    "    return k_labels"
   ]
  },
  {
   "cell_type": "markdown",
   "id": "ac532732",
   "metadata": {
    "papermill": {
     "duration": 0.025465,
     "end_time": "2023-04-27T13:41:32.096223",
     "exception": false,
     "start_time": "2023-04-27T13:41:32.070758",
     "status": "completed"
    },
    "tags": []
   },
   "source": [
    "Now we just need to combine these two and calculate the formula "
   ]
  },
  {
   "cell_type": "code",
   "execution_count": 39,
   "id": "6dbebe5c",
   "metadata": {
    "execution": {
     "iopub.execute_input": "2023-04-27T13:41:32.160109Z",
     "iopub.status.busy": "2023-04-27T13:41:32.159306Z",
     "iopub.status.idle": "2023-04-27T13:41:32.173328Z",
     "shell.execute_reply": "2023-04-27T13:41:32.172131Z"
    },
    "papermill": {
     "duration": 0.053324,
     "end_time": "2023-04-27T13:41:32.175816",
     "exception": false,
     "start_time": "2023-04-27T13:41:32.122492",
     "status": "completed"
    },
    "tags": []
   },
   "outputs": [],
   "source": [
    "def f1_score(actuals , predicitions):\n",
    "    \n",
    "    def balanced_accuracy_score(predictions , actuals):\n",
    "\n",
    "        metrics = np.empty(shape = (2 , len(np.unique(pred)) + 1))\n",
    "\n",
    "        for uniques in range(len(np.unique(pred))):\n",
    "\n",
    "            x = np.empty(shape = (3))\n",
    "\n",
    "            trues = 0\n",
    "            falses = 0\n",
    "\n",
    "            for actu , predi in zip(act , pred):\n",
    "\n",
    "                if ((actu == np.unique(pred)[uniques]) and (predi == np.unique(pred)[uniques])):\n",
    "\n",
    "                    trues += 1\n",
    "\n",
    "                else :\n",
    "\n",
    "                    falses += 1\n",
    "\n",
    "            x[0] = uniques\n",
    "            x[1] = trues\n",
    "            x[2] = falses\n",
    "\n",
    "            metrics[i] = x\n",
    "\n",
    "        recall = []\n",
    "\n",
    "        if metrics.shape[0] == 2:\n",
    "\n",
    "            recall.append(metrics[0][1] / (metrics[0][1] + metrics[1][2]))\n",
    "            recall.append(metrics[1][1] / (metrics[1][1] + metrics[0][2]))\n",
    "\n",
    "        else :\n",
    "\n",
    "            for labels in range(len(metrics)): \n",
    "\n",
    "                x = [j[2] \n",
    "                     for j in metrics[:labels]+metrics[labels+1:]]\n",
    "\n",
    "                recall.append(metrics[labels][1] / (metrics[labels][1] + np.sum(np.array(x))))\n",
    "\n",
    "        return np.sum(np.array(recall))\n",
    "    \n",
    "    def precision(actuals , predictions):\n",
    "\n",
    "        k_labels = []\n",
    "\n",
    "        for label in np.unique(pred):\n",
    "\n",
    "            correct_ones = 0\n",
    "\n",
    "            for actual  , predicted in zip(actuals , predictions):\n",
    "\n",
    "                if predicted == label and actual == label:\n",
    "\n",
    "                    correct_ones += 1\n",
    "\n",
    "            asc = correct_ones / len(predictions)\n",
    "\n",
    "            k_labels.append(asc)\n",
    "\n",
    "        k_labels = np.array(k_labels)\n",
    "\n",
    "        return k_labels\n",
    "    \n",
    "    f1_score = 1 / (1/recall(actuals , predictions)) + (1 / precision(actuals , predictions))\n",
    "    \n",
    "    return f1_score"
   ]
  },
  {
   "cell_type": "markdown",
   "id": "586b19d4",
   "metadata": {
    "papermill": {
     "duration": 0.025449,
     "end_time": "2023-04-27T13:41:32.227016",
     "exception": false,
     "start_time": "2023-04-27T13:41:32.201567",
     "status": "completed"
    },
    "tags": []
   },
   "source": [
    "And we are all done \n",
    "# 1.3.1.1 | F-1 Score Normal Final Soucrce Code"
   ]
  },
  {
   "cell_type": "code",
   "execution_count": 40,
   "id": "452dd4ac",
   "metadata": {
    "execution": {
     "iopub.execute_input": "2023-04-27T13:41:32.281072Z",
     "iopub.status.busy": "2023-04-27T13:41:32.280363Z",
     "iopub.status.idle": "2023-04-27T13:41:32.294514Z",
     "shell.execute_reply": "2023-04-27T13:41:32.293209Z"
    },
    "papermill": {
     "duration": 0.044136,
     "end_time": "2023-04-27T13:41:32.297401",
     "exception": false,
     "start_time": "2023-04-27T13:41:32.253265",
     "status": "completed"
    },
    "tags": []
   },
   "outputs": [],
   "source": [
    "def f1_score(actuals , predicitions):\n",
    "    \n",
    "    def balanced_accuracy_score(predictions , actuals):\n",
    "\n",
    "        metrics = np.empty(shape = (2 , len(np.unique(pred)) + 1))\n",
    "\n",
    "        for uniques in range(len(np.unique(pred))):\n",
    "\n",
    "            x = np.empty(shape = (3))\n",
    "\n",
    "            trues = 0\n",
    "            falses = 0\n",
    "\n",
    "            for actu , predi in zip(act , pred):\n",
    "\n",
    "                if ((actu == np.unique(pred)[uniques]) and (predi == np.unique(pred)[uniques])):\n",
    "\n",
    "                    trues += 1\n",
    "\n",
    "                else :\n",
    "\n",
    "                    falses += 1\n",
    "\n",
    "            x[0] = uniques\n",
    "            x[1] = trues\n",
    "            x[2] = falses\n",
    "\n",
    "            metrics[i] = x\n",
    "\n",
    "        recall = []\n",
    "\n",
    "        if metrics.shape[0] == 2:\n",
    "\n",
    "            recall.append(metrics[0][1] / (metrics[0][1] + metrics[1][2]))\n",
    "            recall.append(metrics[1][1] / (metrics[1][1] + metrics[0][2]))\n",
    "\n",
    "        else :\n",
    "\n",
    "            for labels in range(len(metrics)): \n",
    "\n",
    "                x = [j[2] \n",
    "                     for j in metrics[:labels]+metrics[labels+1:]]\n",
    "\n",
    "                recall.append(metrics[labels][1] / (metrics[labels][1] + np.sum(np.array(x))))\n",
    "\n",
    "        return np.sum(np.array(recall))\n",
    "    \n",
    "    def precision(actuals , predictions):\n",
    "\n",
    "        k_labels = []\n",
    "\n",
    "        for label in np.unique(pred):\n",
    "\n",
    "            correct_ones = 0\n",
    "\n",
    "            for actual  , predicted in zip(actuals , predictions):\n",
    "\n",
    "                if predicted == label and actual == label:\n",
    "\n",
    "                    correct_ones += 1\n",
    "\n",
    "            asc = correct_ones / len(predictions)\n",
    "\n",
    "            k_labels.append(asc)\n",
    "\n",
    "        k_labels = np.array(k_labels)\n",
    "\n",
    "        return k_labels\n",
    "    \n",
    "    f1_score = 1 / (1/recall(actuals , predictions)) + (1 / precision(actuals , predictions))\n",
    "    \n",
    "    return f1_score"
   ]
  },
  {
   "cell_type": "markdown",
   "id": "0fd52d3d",
   "metadata": {
    "papermill": {
     "duration": 0.025555,
     "end_time": "2023-04-27T13:41:32.348653",
     "exception": false,
     "start_time": "2023-04-27T13:41:32.323098",
     "status": "completed"
    },
    "tags": []
   },
   "source": [
    "# 1.3.2 | F-1 Score Micro\n",
    "\n",
    "The `F-1 Score Micro` is actually like a lost brother of the `recall`. The formula for $2$ classes can be defined as $\\frac {T_P}{T_P +F_N}$\n",
    "\n",
    "The formula for `F-1 Score Micro` is like \n",
    "\n",
    "****\n",
    "$$\\frac {T_P}{T_P + \\frac {1}{2}(F_P + F_N)}$$\n",
    "****\n",
    "See how much similar these two brothers are \n",
    "\n",
    "We can actually apply the `f-1 score` by tweeking `recall` a little bit"
   ]
  },
  {
   "cell_type": "code",
   "execution_count": 41,
   "id": "aa47141f",
   "metadata": {
    "execution": {
     "iopub.execute_input": "2023-04-27T13:41:32.402172Z",
     "iopub.status.busy": "2023-04-27T13:41:32.401752Z",
     "iopub.status.idle": "2023-04-27T13:41:32.413423Z",
     "shell.execute_reply": "2023-04-27T13:41:32.412529Z"
    },
    "papermill": {
     "duration": 0.041047,
     "end_time": "2023-04-27T13:41:32.415750",
     "exception": false,
     "start_time": "2023-04-27T13:41:32.374703",
     "status": "completed"
    },
    "tags": []
   },
   "outputs": [],
   "source": [
    "def f_1_score_micro(predictions , actuals):\n",
    "\n",
    "    metrics = np.empty(shape = (2 , len(np.unique(pred)) + 1))\n",
    "    \n",
    "    for uniques in range(len(np.unique(pred))):\n",
    "        \n",
    "        x = np.empty(shape = (3))\n",
    "        \n",
    "        trues = 0\n",
    "        falses = 0\n",
    "        \n",
    "        for actu , predi in zip(act , pred):\n",
    "            \n",
    "            if ((actu == np.unique(pred)[uniques]) and (predi == np.unique(pred)[uniques])):\n",
    "            \n",
    "                trues += 1\n",
    "            \n",
    "            else :\n",
    "            \n",
    "                falses += 1\n",
    "        \n",
    "        x[0] = uniques\n",
    "        x[1] = trues\n",
    "        x[2] = falses\n",
    "        \n",
    "        metrics[i] = x\n",
    "    \n",
    "    recall = []\n",
    "    \n",
    "    if metrics.shape[0] == 2:\n",
    "    \n",
    "        recall.append(metrics[0][1] / (metrics[0][1] + ((1 / 2) * (metrics[0][2] + metrics[1][2]))))\n",
    "        recall.append(metrics[1][1] / (metrics[1][1] + ((1 / 2) * (metrics[0][2] + metrics[0][2]))))\n",
    "    \n",
    "    else :\n",
    "    \n",
    "        for labels in range(len(metrics)): \n",
    "            x = [x[2] for x in range(metrics.shape[0])]\n",
    "            # Changed the formula here\n",
    "            recall.append(metrics[labels][1] / (metrics[labels][1] + ((1 / 2) * np.sum(np.array(x)))))\n",
    "    \n",
    "    return np.sum(np.array(recall))"
   ]
  },
  {
   "cell_type": "markdown",
   "id": "f0742d31",
   "metadata": {
    "papermill": {
     "duration": 0.026049,
     "end_time": "2023-04-27T13:41:32.467586",
     "exception": false,
     "start_time": "2023-04-27T13:41:32.441537",
     "status": "completed"
    },
    "tags": []
   },
   "source": [
    "And we have implemnted that boy \n",
    "# 1.3.2.1 | F-1 Score Micro Final Source Code"
   ]
  },
  {
   "cell_type": "code",
   "execution_count": 42,
   "id": "b1197b5c",
   "metadata": {
    "execution": {
     "iopub.execute_input": "2023-04-27T13:41:32.529638Z",
     "iopub.status.busy": "2023-04-27T13:41:32.528697Z",
     "iopub.status.idle": "2023-04-27T13:41:32.540431Z",
     "shell.execute_reply": "2023-04-27T13:41:32.539406Z"
    },
    "papermill": {
     "duration": 0.042905,
     "end_time": "2023-04-27T13:41:32.543149",
     "exception": false,
     "start_time": "2023-04-27T13:41:32.500244",
     "status": "completed"
    },
    "tags": []
   },
   "outputs": [],
   "source": [
    "def f_1_score_micro(predictions , actuals):\n",
    "\n",
    "    metrics = np.empty(shape = (2 , len(np.unique(pred)) + 1))\n",
    "    \n",
    "    for uniques in range(len(np.unique(pred))):\n",
    "        \n",
    "        x = np.empty(shape = (3))\n",
    "        \n",
    "        trues = 0\n",
    "        falses = 0\n",
    "        \n",
    "        for actu , predi in zip(act , pred):\n",
    "            \n",
    "            if ((actu == np.unique(pred)[uniques]) and (predi == np.unique(pred)[uniques])):\n",
    "            \n",
    "                trues += 1\n",
    "            \n",
    "            else :\n",
    "            \n",
    "                falses += 1\n",
    "        \n",
    "        x[0] = uniques\n",
    "        x[1] = trues\n",
    "        x[2] = falses\n",
    "        \n",
    "        metrics[i] = x\n",
    "    \n",
    "    recall = []\n",
    "    \n",
    "    if metrics.shape[0] == 2:\n",
    "    \n",
    "        recall.append(metrics[0][1] / (metrics[0][1] + ((1 / 2) * (metrics[0][2] + metrics[1][2]))))\n",
    "        recall.append(metrics[1][1] / (metrics[1][1] + ((1 / 2) * (metrics[0][2] + metrics[0][2]))))\n",
    "    \n",
    "    else :\n",
    "    \n",
    "        for labels in range(len(metrics)): \n",
    "            x = [x[2] for x in range(metrics.shape[0])]\n",
    "            recall.append(metrics[labels][1] / (metrics[labels][1] + ((1 / 2) * np.sum(np.array(x)))))\n",
    "    \n",
    "    return np.sum(np.array(recall))"
   ]
  },
  {
   "cell_type": "markdown",
   "id": "2bdc10eb",
   "metadata": {
    "papermill": {
     "duration": 0.026527,
     "end_time": "2023-04-27T13:41:32.596109",
     "exception": false,
     "start_time": "2023-04-27T13:41:32.569582",
     "status": "completed"
    },
    "tags": []
   },
   "source": [
    "# 1.3.3 | F-1 Score Macro\n",
    "The `F-1 Score Micro` is actually like a lost brother of the `f-1 Score Normal`. The formula for $2$ classes can be defined as $\\frac {1}{\\frac {1}{Precision}\\frac {1}{Recall}}$\n",
    "\n",
    "The formula for `F-1 Score Mcro` is like \n",
    "\n",
    "****\n",
    "$$\\frac {2(precision_-recall)}{precision + recall}$$\n",
    "****\n",
    "See how much similar these two brothers are \n",
    "\n",
    "We can actually apply the `f-1 score` by tweeking `recall` a little bit"
   ]
  },
  {
   "cell_type": "code",
   "execution_count": 43,
   "id": "4c4e9261",
   "metadata": {
    "execution": {
     "iopub.execute_input": "2023-04-27T13:41:32.657090Z",
     "iopub.status.busy": "2023-04-27T13:41:32.656299Z",
     "iopub.status.idle": "2023-04-27T13:41:32.670439Z",
     "shell.execute_reply": "2023-04-27T13:41:32.669379Z"
    },
    "papermill": {
     "duration": 0.047435,
     "end_time": "2023-04-27T13:41:32.674348",
     "exception": false,
     "start_time": "2023-04-27T13:41:32.626913",
     "status": "completed"
    },
    "tags": []
   },
   "outputs": [],
   "source": [
    "def f1_score(actuals , predicitions):\n",
    "    \n",
    "    def balanced_accuracy_score(predictions , actuals):\n",
    "\n",
    "        metrics = np.empty(shape = (2 , len(np.unique(pred)) + 1))\n",
    "\n",
    "        for uniques in range(len(np.unique(pred))):\n",
    "\n",
    "            x = np.empty(shape = (3))\n",
    "\n",
    "            trues = 0\n",
    "            falses = 0\n",
    "\n",
    "            for actu , predi in zip(act , pred):\n",
    "\n",
    "                if ((actu == np.unique(pred)[uniques]) and (predi == np.unique(pred)[uniques])):\n",
    "\n",
    "                    trues += 1\n",
    "\n",
    "                else :\n",
    "\n",
    "                    falses += 1\n",
    "\n",
    "            x[0] = uniques\n",
    "            x[1] = trues\n",
    "            x[2] = falses\n",
    "\n",
    "            metrics[i] = x\n",
    "\n",
    "        recall = []\n",
    "\n",
    "        if metrics.shape[0] == 2:\n",
    "\n",
    "            recall.append(metrics[0][1] / (metrics[0][1] + metrics[1][2]))\n",
    "            recall.append(metrics[1][1] / (metrics[1][1] + metrics[0][2]))\n",
    "\n",
    "        else :\n",
    "\n",
    "            for labels in range(len(metrics)): \n",
    "\n",
    "                x = [j[2] \n",
    "                     for j in metrics[:labels]+metrics[labels+1:]]\n",
    "\n",
    "                recall.append(metrics[labels][1] / (metrics[labels][1] + np.sum(np.array(x))))\n",
    "\n",
    "        return np.sum(np.array(recall))\n",
    "    \n",
    "    def precision(actuals , predictions):\n",
    "\n",
    "        k_labels = []\n",
    "\n",
    "        for label in np.unique(pred):\n",
    "\n",
    "            correct_ones = 0\n",
    "\n",
    "            for actual  , predicted in zip(actuals , predictions):\n",
    "\n",
    "                if predicted == label and actual == label:\n",
    "\n",
    "                    correct_ones += 1\n",
    "\n",
    "            asc = correct_ones / len(predictions)\n",
    "\n",
    "            k_labels.append(asc)\n",
    "\n",
    "        k_labels = np.array(k_labels)\n",
    "\n",
    "        return k_labels\n",
    "    # Changed the formula here \n",
    "    f1_score_mirco = (2 * (precision(actuals , predictions) * recall(actuals , predicitons))) / (precision(actuals , predictions) + recall(actuals , predictions))\n",
    "    \n",
    "    return f1_score_micro"
   ]
  },
  {
   "cell_type": "markdown",
   "id": "2cabd3e0",
   "metadata": {
    "papermill": {
     "duration": 0.026047,
     "end_time": "2023-04-27T13:41:32.727189",
     "exception": false,
     "start_time": "2023-04-27T13:41:32.701142",
     "status": "completed"
    },
    "tags": []
   },
   "source": [
    "And this was it, it was that simple :)\n",
    "# 1.3.3.1 | F-1 Score Macro Final Source Code"
   ]
  },
  {
   "cell_type": "code",
   "execution_count": 44,
   "id": "2358c32f",
   "metadata": {
    "execution": {
     "iopub.execute_input": "2023-04-27T13:41:32.783051Z",
     "iopub.status.busy": "2023-04-27T13:41:32.782331Z",
     "iopub.status.idle": "2023-04-27T13:41:32.797755Z",
     "shell.execute_reply": "2023-04-27T13:41:32.796195Z"
    },
    "papermill": {
     "duration": 0.046638,
     "end_time": "2023-04-27T13:41:32.800784",
     "exception": false,
     "start_time": "2023-04-27T13:41:32.754146",
     "status": "completed"
    },
    "tags": []
   },
   "outputs": [],
   "source": [
    "def f1_score(actuals , predicitions):\n",
    "    \n",
    "    def balanced_accuracy_score(predictions , actuals):\n",
    "\n",
    "        metrics = np.empty(shape = (2 , len(np.unique(pred)) + 1))\n",
    "\n",
    "        for uniques in range(len(np.unique(pred))):\n",
    "\n",
    "            x = np.empty(shape = (3))\n",
    "\n",
    "            trues = 0\n",
    "            falses = 0\n",
    "\n",
    "            for actu , predi in zip(act , pred):\n",
    "\n",
    "                if ((actu == np.unique(pred)[uniques]) and (predi == np.unique(pred)[uniques])):\n",
    "\n",
    "                    trues += 1\n",
    "\n",
    "                else :\n",
    "\n",
    "                    falses += 1\n",
    "\n",
    "            x[0] = uniques\n",
    "            x[1] = trues\n",
    "            x[2] = falses\n",
    "\n",
    "            metrics[i] = x\n",
    "\n",
    "        recall = []\n",
    "\n",
    "        if metrics.shape[0] == 2:\n",
    "\n",
    "            recall.append(metrics[0][1] / (metrics[0][1] + metrics[1][2]))\n",
    "            recall.append(metrics[1][1] / (metrics[1][1] + metrics[0][2]))\n",
    "\n",
    "        else :\n",
    "\n",
    "            for labels in range(len(metrics)): \n",
    "\n",
    "                x = [j[2] \n",
    "                     for j in metrics[:labels]+metrics[labels+1:]]\n",
    "\n",
    "                recall.append(metrics[labels][1] / (metrics[labels][1] + np.sum(np.array(x))))\n",
    "\n",
    "        return np.sum(np.array(recall))\n",
    "    \n",
    "    def precision(actuals , predictions):\n",
    "\n",
    "        k_labels = []\n",
    "\n",
    "        for label in np.unique(pred):\n",
    "\n",
    "            correct_ones = 0\n",
    "\n",
    "            for actual  , predicted in zip(actuals , predictions):\n",
    "\n",
    "                if predicted == label and actual == label:\n",
    "\n",
    "                    correct_ones += 1\n",
    "\n",
    "            asc = correct_ones / len(predictions)\n",
    "\n",
    "            k_labels.append(asc)\n",
    "\n",
    "        k_labels = np.array(k_labels)\n",
    "\n",
    "        return k_labels\n",
    "    # Changed the formula here \n",
    "    f1_score_mirco = (2 * (precision(actuals , predictions) * recall(actuals , predicitons))) / (precision(actuals , predictions) + recall(actuals , predictions))\n",
    "    \n",
    "    return f1_score_micro"
   ]
  },
  {
   "cell_type": "markdown",
   "id": "ee20d504",
   "metadata": {
    "papermill": {
     "duration": 0.025893,
     "end_time": "2023-04-27T13:41:32.852981",
     "exception": false,
     "start_time": "2023-04-27T13:41:32.827088",
     "status": "completed"
    },
    "tags": []
   },
   "source": [
    "# 2 | Regression \n",
    "\n",
    "Suppose you are a `capybara` and doing a drag race with your vehicle `aligator`\n",
    "\n",
    "<img src = \"data:image/jpeg;base64,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\">\n",
    "\n",
    "For winnig the race you must reach $88km/h$ but due to some reason you were only able to reach $69km/h$(`pretty good :)`).\n",
    "\n",
    "# 2.1 | Error\n",
    "\n",
    "So there is a difference between $88$ and $69$ which roughly is $88 - 69 = 19$. Means there was an error of $19km/h$. So what we simply did was to calculate the between $2$ values\n",
    "\n",
    "We can say a general form of this error to be $(y - \\hat y)$"
   ]
  },
  {
   "cell_type": "code",
   "execution_count": 45,
   "id": "b929b088",
   "metadata": {
    "execution": {
     "iopub.execute_input": "2023-04-27T13:41:32.908777Z",
     "iopub.status.busy": "2023-04-27T13:41:32.908322Z",
     "iopub.status.idle": "2023-04-27T13:41:32.917047Z",
     "shell.execute_reply": "2023-04-27T13:41:32.915736Z"
    },
    "papermill": {
     "duration": 0.039752,
     "end_time": "2023-04-27T13:41:32.919923",
     "exception": false,
     "start_time": "2023-04-27T13:41:32.880171",
     "status": "completed"
    },
    "tags": []
   },
   "outputs": [
    {
     "data": {
      "text/plain": [
       "19"
      ]
     },
     "execution_count": 45,
     "metadata": {},
     "output_type": "execute_result"
    }
   ],
   "source": [
    "88 - 69"
   ]
  },
  {
   "cell_type": "markdown",
   "id": "d427aa20",
   "metadata": {
    "papermill": {
     "duration": 0.02724,
     "end_time": "2023-04-27T13:41:32.974178",
     "exception": false,
     "start_time": "2023-04-27T13:41:32.946938",
     "status": "completed"
    },
    "tags": []
   },
   "source": [
    "Lets now assume there were a list of races you did, and you lost in all of them. Also the difference between the speed grew exponentially "
   ]
  },
  {
   "cell_type": "code",
   "execution_count": 46,
   "id": "6f45861a",
   "metadata": {
    "execution": {
     "iopub.execute_input": "2023-04-27T13:41:33.032344Z",
     "iopub.status.busy": "2023-04-27T13:41:33.031916Z",
     "iopub.status.idle": "2023-04-27T13:41:33.044635Z",
     "shell.execute_reply": "2023-04-27T13:41:33.043041Z"
    },
    "papermill": {
     "duration": 0.046616,
     "end_time": "2023-04-27T13:41:33.048092",
     "exception": false,
     "start_time": "2023-04-27T13:41:33.001476",
     "status": "completed"
    },
    "tags": []
   },
   "outputs": [
    {
     "data": {
      "text/plain": [
       "array([   0,    1,    4,    9,   16,   25,   36,   49,   64,   81,  100,\n",
       "        121,  144,  169,  196,  225,  256,  289,  324,  361,  400,  441,\n",
       "        484,  529,  576,  625,  676,  729,  784,  841,  900,  961, 1024,\n",
       "       1089, 1156, 1225, 1296, 1369, 1444, 1521, 1600, 1681, 1764, 1849,\n",
       "       1936, 2025, 2116, 2209, 2304, 2401, 2500, 2601, 2704, 2809, 2916,\n",
       "       3025, 3136, 3249, 3364, 3481, 3600, 3721, 3844, 3969, 4096, 4225,\n",
       "       4356, 4489, 4624, 4761, 4900, 5041, 5184, 5329, 5476, 5625, 5776,\n",
       "       5929, 6084, 6241, 6400, 6561, 6724, 6889, 7056, 7225, 7396, 7569,\n",
       "       7744, 7921, 8100, 8281, 8464, 8649, 8836, 9025, 9216, 9409, 9604,\n",
       "       9801])"
      ]
     },
     "execution_count": 46,
     "metadata": {},
     "output_type": "execute_result"
    }
   ],
   "source": [
    "winning_speed = np.array([x ** 2 for x in range(100)])\n",
    "winning_speed"
   ]
  },
  {
   "cell_type": "code",
   "execution_count": 47,
   "id": "45dd0d30",
   "metadata": {
    "execution": {
     "iopub.execute_input": "2023-04-27T13:41:33.105205Z",
     "iopub.status.busy": "2023-04-27T13:41:33.104625Z",
     "iopub.status.idle": "2023-04-27T13:41:33.114135Z",
     "shell.execute_reply": "2023-04-27T13:41:33.112810Z"
    },
    "papermill": {
     "duration": 0.041737,
     "end_time": "2023-04-27T13:41:33.116909",
     "exception": false,
     "start_time": "2023-04-27T13:41:33.075172",
     "status": "completed"
    },
    "tags": []
   },
   "outputs": [
    {
     "data": {
      "text/plain": [
       "array([ 0,  1,  2,  3,  4,  5,  6,  7,  8,  9, 10, 11, 12, 13, 14, 15, 16,\n",
       "       17, 18, 19, 20, 21, 22, 23, 24, 25, 26, 27, 28, 29, 30, 31, 32, 33,\n",
       "       34, 35, 36, 37, 38, 39, 40, 41, 42, 43, 44, 45, 46, 47, 48, 49, 50,\n",
       "       51, 52, 53, 54, 55, 56, 57, 58, 59, 60, 61, 62, 63, 64, 65, 66, 67,\n",
       "       68, 69, 70, 71, 72, 73, 74, 75, 76, 77, 78, 79, 80, 81, 82, 83, 84,\n",
       "       85, 86, 87, 88, 89, 90, 91, 92, 93, 94, 95, 96, 97, 98, 99])"
      ]
     },
     "execution_count": 47,
     "metadata": {},
     "output_type": "execute_result"
    }
   ],
   "source": [
    "your_speed = np.array([x for x in range(100)])\n",
    "your_speed"
   ]
  },
  {
   "cell_type": "markdown",
   "id": "6dcc2fa2",
   "metadata": {
    "papermill": {
     "duration": 0.028428,
     "end_time": "2023-04-27T13:41:33.172546",
     "exception": false,
     "start_time": "2023-04-27T13:41:33.144118",
     "status": "completed"
    },
    "tags": []
   },
   "source": [
    "The indexes define the number of race \n",
    "\n",
    "# 2.1.1 | Max Error\n",
    "\n",
    "So all the races have different errors and you are asked the total error by the aligator. \n",
    "\n",
    "A thing you can do is to show the maximum of all the errors and show that too the aligator"
   ]
  },
  {
   "cell_type": "code",
   "execution_count": 48,
   "id": "2cc876a3",
   "metadata": {
    "execution": {
     "iopub.execute_input": "2023-04-27T13:41:33.236644Z",
     "iopub.status.busy": "2023-04-27T13:41:33.235768Z",
     "iopub.status.idle": "2023-04-27T13:41:33.246399Z",
     "shell.execute_reply": "2023-04-27T13:41:33.244642Z"
    },
    "papermill": {
     "duration": 0.048139,
     "end_time": "2023-04-27T13:41:33.249795",
     "exception": false,
     "start_time": "2023-04-27T13:41:33.201656",
     "status": "completed"
    },
    "tags": []
   },
   "outputs": [
    {
     "data": {
      "text/plain": [
       "9702"
      ]
     },
     "execution_count": 48,
     "metadata": {},
     "output_type": "execute_result"
    }
   ],
   "source": [
    "error = 0\n",
    "for x , y in zip(winning_speed , your_speed):\n",
    "    if error < x - y:\n",
    "        error = x-y\n",
    "error"
   ]
  },
  {
   "cell_type": "markdown",
   "id": "59416dff",
   "metadata": {
    "papermill": {
     "duration": 0.026695,
     "end_time": "2023-04-27T13:41:33.304749",
     "exception": false,
     "start_time": "2023-04-27T13:41:33.278054",
     "status": "completed"
    },
    "tags": []
   },
   "source": [
    "And this shows your max error. what we did is just apply the formula we made before $(y - \\hat y)$ by doing some tweeks\n",
    "****\n",
    "$$error = max(y - \\hat y)$$\n",
    "****\n",
    "And this my friends is the `Max Error`\n",
    "\n",
    "To calculate this error, we just need $2$ lists `predictions` and `actuals` and we are good to go\n",
    "\n",
    "# 2.1.1.1 | Max Error Final Source Code"
   ]
  },
  {
   "cell_type": "code",
   "execution_count": 49,
   "id": "c7dbc878",
   "metadata": {
    "execution": {
     "iopub.execute_input": "2023-04-27T13:41:33.365896Z",
     "iopub.status.busy": "2023-04-27T13:41:33.364513Z",
     "iopub.status.idle": "2023-04-27T13:41:33.371580Z",
     "shell.execute_reply": "2023-04-27T13:41:33.370297Z"
    },
    "papermill": {
     "duration": 0.03925,
     "end_time": "2023-04-27T13:41:33.374138",
     "exception": false,
     "start_time": "2023-04-27T13:41:33.334888",
     "status": "completed"
    },
    "tags": []
   },
   "outputs": [],
   "source": [
    "def max_error(actuals , predictions):\n",
    "    \n",
    "    error = 0\n",
    "    \n",
    "    for prediction , actual in zip(predictions , actuals):\n",
    "        \n",
    "        if error < actual - prediction:\n",
    "            \n",
    "            error = actual - prediction\n",
    "    \n",
    "    return error"
   ]
  },
  {
   "cell_type": "markdown",
   "id": "e94b94aa",
   "metadata": {
    "papermill": {
     "duration": 0.027111,
     "end_time": "2023-04-27T13:41:33.429313",
     "exception": false,
     "start_time": "2023-04-27T13:41:33.402202",
     "status": "completed"
    },
    "tags": []
   },
   "source": [
    "# 2.1.2 | Mean Absolute Error"
   ]
  },
  {
   "cell_type": "markdown",
   "id": "bb1c7111",
   "metadata": {
    "papermill": {
     "duration": 0.025882,
     "end_time": "2023-04-27T13:41:33.481764",
     "exception": false,
     "start_time": "2023-04-27T13:41:33.455882",
     "status": "completed"
    },
    "tags": []
   },
   "source": [
    "Assume a situation where you win in all the races, so your speed would be greater than the winning speed. If we apply the same formula. we will get error in $(-)$ which is bad. \n",
    "To counter this, what we do is change the formula a little bit $|y - \\hat y|$. Also we do not take the maximum of this, rather we take the average value of all the error, tweeking the error a little bit like this\n",
    "****\n",
    "$$\\frac {1}{n}\\sum\\limits_{i = 1}^{n}|y - \\hat y|$$\n",
    "****\n",
    "One way is to understand this is if you add all the errors, there is a high chance that they will cancel out each other "
   ]
  },
  {
   "cell_type": "code",
   "execution_count": 50,
   "id": "0904351b",
   "metadata": {
    "execution": {
     "iopub.execute_input": "2023-04-27T13:41:33.536426Z",
     "iopub.status.busy": "2023-04-27T13:41:33.535625Z",
     "iopub.status.idle": "2023-04-27T13:41:33.542625Z",
     "shell.execute_reply": "2023-04-27T13:41:33.541448Z"
    },
    "papermill": {
     "duration": 0.036957,
     "end_time": "2023-04-27T13:41:33.544982",
     "exception": false,
     "start_time": "2023-04-27T13:41:33.508025",
     "status": "completed"
    },
    "tags": []
   },
   "outputs": [
    {
     "data": {
      "text/html": [
       "\n",
       "        <iframe\n",
       "            width=\"400\"\n",
       "            height=\"400\"\n",
       "            src=\"https://www.desmos.com/calculator/kamxotjra2\"\n",
       "            frameborder=\"0\"\n",
       "            allowfullscreen\n",
       "            \n",
       "        ></iframe>\n",
       "        "
      ],
      "text/plain": [
       "<IPython.lib.display.IFrame at 0x74cb231882d0>"
      ]
     },
     "execution_count": 50,
     "metadata": {},
     "output_type": "execute_result"
    }
   ],
   "source": [
    "IFrame(\"https://www.desmos.com/calculator/kamxotjra2\" , 400 , 400)"
   ]
  },
  {
   "cell_type": "markdown",
   "id": "8a7522a2",
   "metadata": {
    "papermill": {
     "duration": 0.027241,
     "end_time": "2023-04-27T13:41:33.598563",
     "exception": false,
     "start_time": "2023-04-27T13:41:33.571322",
     "status": "completed"
    },
    "tags": []
   },
   "source": [
    "Also it is really easy to implement. we can actually do a little tweeks in the `max_error` function only \n",
    "# 2.1.2.1 | Mean Absolute Error Final Source Code"
   ]
  },
  {
   "cell_type": "code",
   "execution_count": 51,
   "id": "7fc50225",
   "metadata": {
    "execution": {
     "iopub.execute_input": "2023-04-27T13:41:33.656918Z",
     "iopub.status.busy": "2023-04-27T13:41:33.656502Z",
     "iopub.status.idle": "2023-04-27T13:41:33.663112Z",
     "shell.execute_reply": "2023-04-27T13:41:33.661899Z"
    },
    "papermill": {
     "duration": 0.040478,
     "end_time": "2023-04-27T13:41:33.665764",
     "exception": false,
     "start_time": "2023-04-27T13:41:33.625286",
     "status": "completed"
    },
    "tags": []
   },
   "outputs": [],
   "source": [
    "def mean_absolute_error(actuals , predictions):\n",
    "    \n",
    "    error = 0\n",
    "    \n",
    "    for prediction , actual in zip(predictions , actuals):\n",
    "            \n",
    "        error += abs(actual - prediction)\n",
    "    \n",
    "    return error/len(predictions)"
   ]
  },
  {
   "cell_type": "markdown",
   "id": "8a8aa6d9",
   "metadata": {
    "papermill": {
     "duration": 0.027382,
     "end_time": "2023-04-27T13:41:33.721423",
     "exception": false,
     "start_time": "2023-04-27T13:41:33.694041",
     "status": "completed"
    },
    "tags": []
   },
   "source": [
    "# 2.1.3 | Mean squared Error\n",
    "\n",
    "There is a problem with the `mean_absolute_error`. It is not diffrentiable, and sometimes we want diffrentiable error function, thats why we sqaure them all like this \n",
    "****\n",
    "$$\\frac {1}{n}\\sum\\limits_{i = 1}^{n}(y - \\hat y)^2$$\n",
    "****\n",
    "And you know it is very easy to code this thing \n",
    "# 2.1.3.1 | Mean Squared Error Final Source Code"
   ]
  },
  {
   "cell_type": "code",
   "execution_count": 52,
   "id": "5c9b440d",
   "metadata": {
    "execution": {
     "iopub.execute_input": "2023-04-27T13:41:33.777044Z",
     "iopub.status.busy": "2023-04-27T13:41:33.776345Z",
     "iopub.status.idle": "2023-04-27T13:41:33.781331Z",
     "shell.execute_reply": "2023-04-27T13:41:33.780552Z"
    },
    "papermill": {
     "duration": 0.035657,
     "end_time": "2023-04-27T13:41:33.783551",
     "exception": false,
     "start_time": "2023-04-27T13:41:33.747894",
     "status": "completed"
    },
    "tags": []
   },
   "outputs": [],
   "source": [
    "def mean_squared_error(actuals , predictions):\n",
    "    \n",
    "    error = 0\n",
    "    \n",
    "    for prediction , actual in zip(predictions , actuals):\n",
    "            \n",
    "        error += (actual - prediction) ** 2\n",
    "    \n",
    "    return error/len(predictions)"
   ]
  },
  {
   "cell_type": "markdown",
   "id": "ea8b294f",
   "metadata": {
    "papermill": {
     "duration": 0.027356,
     "end_time": "2023-04-27T13:41:33.838470",
     "exception": false,
     "start_time": "2023-04-27T13:41:33.811114",
     "status": "completed"
    },
    "tags": []
   },
   "source": [
    "# 2.1.4 | Root Mean Squared Error\n",
    "\n",
    "Sometimes due to squaring the sides, the error becomes very very high, to counter this, we take root of the resuting term like this\n",
    "****\n",
    "$$\\sqrt{\\frac {1}{n}\\sum\\limits_{i = 1}^{n}(y - \\hat y)^2}$$\n",
    "****\n",
    "# 2.1.4.1 | Root Mean Squared Error Final Source Code"
   ]
  },
  {
   "cell_type": "code",
   "execution_count": 53,
   "id": "fbb47583",
   "metadata": {
    "execution": {
     "iopub.execute_input": "2023-04-27T13:41:33.895015Z",
     "iopub.status.busy": "2023-04-27T13:41:33.894513Z",
     "iopub.status.idle": "2023-04-27T13:41:33.900339Z",
     "shell.execute_reply": "2023-04-27T13:41:33.899274Z"
    },
    "papermill": {
     "duration": 0.036389,
     "end_time": "2023-04-27T13:41:33.902521",
     "exception": false,
     "start_time": "2023-04-27T13:41:33.866132",
     "status": "completed"
    },
    "tags": []
   },
   "outputs": [],
   "source": [
    "def mean_squared_error(actuals , predictions):\n",
    "    \n",
    "    error = 0\n",
    "    \n",
    "    for prediction , actual in zip(predictions , actuals):\n",
    "            \n",
    "        error += (actual - prediction) ** 2\n",
    "    \n",
    "    return (error/len(predictions)) ** (1 / 2)"
   ]
  },
  {
   "cell_type": "markdown",
   "id": "721fe114",
   "metadata": {
    "papermill": {
     "duration": 0.025678,
     "end_time": "2023-04-27T13:41:33.954438",
     "exception": false,
     "start_time": "2023-04-27T13:41:33.928760",
     "status": "completed"
    },
    "tags": []
   },
   "source": [
    "# 2.1.5 | Root Mean Sqaured Log Error\n",
    "Lets assume we have $2$ arrays like this "
   ]
  },
  {
   "cell_type": "code",
   "execution_count": 54,
   "id": "c0855b7e",
   "metadata": {
    "execution": {
     "iopub.execute_input": "2023-04-27T13:41:34.008779Z",
     "iopub.status.busy": "2023-04-27T13:41:34.008036Z",
     "iopub.status.idle": "2023-04-27T13:41:34.013092Z",
     "shell.execute_reply": "2023-04-27T13:41:34.012094Z"
    },
    "papermill": {
     "duration": 0.03482,
     "end_time": "2023-04-27T13:41:34.015320",
     "exception": false,
     "start_time": "2023-04-27T13:41:33.980500",
     "status": "completed"
    },
    "tags": []
   },
   "outputs": [],
   "source": [
    "x = np.array([x for x in range(100)])\n",
    "y = np.array([x ** 4 for x in range(100)])"
   ]
  },
  {
   "cell_type": "markdown",
   "id": "32ddae6b",
   "metadata": {
    "papermill": {
     "duration": 0.025605,
     "end_time": "2023-04-27T13:41:34.067223",
     "exception": false,
     "start_time": "2023-04-27T13:41:34.041618",
     "status": "completed"
    },
    "tags": []
   },
   "source": [
    "If we plot this graph we get something like this "
   ]
  },
  {
   "cell_type": "code",
   "execution_count": 55,
   "id": "9d08cc2e",
   "metadata": {
    "execution": {
     "iopub.execute_input": "2023-04-27T13:41:34.120884Z",
     "iopub.status.busy": "2023-04-27T13:41:34.120454Z",
     "iopub.status.idle": "2023-04-27T13:41:34.413379Z",
     "shell.execute_reply": "2023-04-27T13:41:34.411870Z"
    },
    "papermill": {
     "duration": 0.323063,
     "end_time": "2023-04-27T13:41:34.416230",
     "exception": false,
     "start_time": "2023-04-27T13:41:34.093167",
     "status": "completed"
    },
    "tags": []
   },
   "outputs": [
    {
     "data": {
      "text/plain": [
       "<AxesSubplot:>"
      ]
     },
     "execution_count": 55,
     "metadata": {},
     "output_type": "execute_result"
    },
    {
     "data": {
      "image/png": "[encoded data removed]",
      "text/plain": [
       "<Figure size 640x480 with 1 Axes>"
      ]
     },
     "metadata": {},
     "output_type": "display_data"
    }
   ],
   "source": [
    "sns.lineplot(x = x , y = y)"
   ]
  },
  {
   "cell_type": "markdown",
   "id": "27af18c0",
   "metadata": {
    "papermill": {
     "duration": 0.029244,
     "end_time": "2023-04-27T13:41:34.474159",
     "exception": false,
     "start_time": "2023-04-27T13:41:34.444915",
     "status": "completed"
    },
    "tags": []
   },
   "source": [
    "Notice that for every moving value of $x$, $y$ , moves exponentially, we are able to see this, cause actually we are doing this on a relatively small scale, and even for small exponents. \n",
    "\n",
    "Lets just see the graph of `factorial`"
   ]
  },
  {
   "cell_type": "code",
   "execution_count": 56,
   "id": "42b4b806",
   "metadata": {
    "execution": {
     "iopub.execute_input": "2023-04-27T13:41:34.532568Z",
     "iopub.status.busy": "2023-04-27T13:41:34.532113Z",
     "iopub.status.idle": "2023-04-27T13:41:34.782063Z",
     "shell.execute_reply": "2023-04-27T13:41:34.780862Z"
    },
    "papermill": {
     "duration": 0.281742,
     "end_time": "2023-04-27T13:41:34.784848",
     "exception": false,
     "start_time": "2023-04-27T13:41:34.503106",
     "status": "completed"
    },
    "tags": []
   },
   "outputs": [
    {
     "data": {
      "text/plain": [
       "<AxesSubplot:>"
      ]
     },
     "execution_count": 56,
     "metadata": {},
     "output_type": "execute_result"
    },
    {
     "data": {
      "image/png": "[encoded data removed]",
      "text/plain": [
       "<Figure size 640x480 with 1 Axes>"
      ]
     },
     "metadata": {},
     "output_type": "display_data"
    }
   ],
   "source": [
    "x = np.array([x for x in range(100)])\n",
    "y = np.array([m.factorial(x) for x in range(100)])\n",
    "sns.lineplot(x = x , y = y)"
   ]
  },
  {
   "cell_type": "markdown",
   "id": "6b090be8",
   "metadata": {
    "papermill": {
     "duration": 0.027409,
     "end_time": "2023-04-27T13:41:34.840002",
     "exception": false,
     "start_time": "2023-04-27T13:41:34.812593",
     "status": "completed"
    },
    "tags": []
   },
   "source": [
    "You would notice a immideate jump at the value $100$, you might think that $100$ might be some special number!!!. Lets see for $90$"
   ]
  },
  {
   "cell_type": "code",
   "execution_count": 57,
   "id": "8d69b42a",
   "metadata": {
    "execution": {
     "iopub.execute_input": "2023-04-27T13:41:34.900519Z",
     "iopub.status.busy": "2023-04-27T13:41:34.900113Z",
     "iopub.status.idle": "2023-04-27T13:41:35.149135Z",
     "shell.execute_reply": "2023-04-27T13:41:35.147827Z"
    },
    "papermill": {
     "duration": 0.282397,
     "end_time": "2023-04-27T13:41:35.151908",
     "exception": false,
     "start_time": "2023-04-27T13:41:34.869511",
     "status": "completed"
    },
    "tags": []
   },
   "outputs": [
    {
     "data": {
      "text/plain": [
       "<AxesSubplot:>"
      ]
     },
     "execution_count": 57,
     "metadata": {},
     "output_type": "execute_result"
    },
    {
     "data": {
      "image/png": "[encoded data removed]",
      "text/plain": [
       "<Figure size 640x480 with 1 Axes>"
      ]
     },
     "metadata": {},
     "output_type": "display_data"
    }
   ],
   "source": [
    "x = np.array([x for x in range(90)])\n",
    "y = np.array([m.factorial(x) for x in range(90)])\n",
    "sns.lineplot(x = x , y = y)"
   ]
  },
  {
   "cell_type": "markdown",
   "id": "f0f0defe",
   "metadata": {
    "papermill": {
     "duration": 0.02807,
     "end_time": "2023-04-27T13:41:35.208610",
     "exception": false,
     "start_time": "2023-04-27T13:41:35.180540",
     "status": "completed"
    },
    "tags": []
   },
   "source": [
    "We can surely see that the spike was not because of the value $100$. The spike is because the fact that $89!$ is so much large than the $88!$ that for that value, its just nothing. \n",
    "\n",
    "So we can think the `factorial` as some unsolved anomly in mathematics, that can greatly disturb the calculations and other things. \n",
    "\n",
    "But!!!, to counter this we have something, the `Logarithm`. A basic grah of logartihm looks like "
   ]
  },
  {
   "cell_type": "code",
   "execution_count": 58,
   "id": "3d928e79",
   "metadata": {
    "execution": {
     "iopub.execute_input": "2023-04-27T13:41:35.267888Z",
     "iopub.status.busy": "2023-04-27T13:41:35.266706Z",
     "iopub.status.idle": "2023-04-27T13:41:35.507692Z",
     "shell.execute_reply": "2023-04-27T13:41:35.506376Z"
    },
    "papermill": {
     "duration": 0.273587,
     "end_time": "2023-04-27T13:41:35.510704",
     "exception": false,
     "start_time": "2023-04-27T13:41:35.237117",
     "status": "completed"
    },
    "tags": []
   },
   "outputs": [
    {
     "data": {
      "text/plain": [
       "<AxesSubplot:>"
      ]
     },
     "execution_count": 58,
     "metadata": {},
     "output_type": "execute_result"
    },
    {
     "data": {
      "image/png": "[encoded data removed]",
      "text/plain": [
       "<Figure size 640x480 with 1 Axes>"
      ]
     },
     "metadata": {},
     "output_type": "display_data"
    }
   ],
   "source": [
    "x = np.array([x for x in range(100)])\n",
    "y = np.array([np.log1p(x) for x in range(100)])\n",
    "sns.lineplot(x = x , y = y)"
   ]
  },
  {
   "cell_type": "markdown",
   "id": "76fa5967",
   "metadata": {
    "papermill": {
     "duration": 0.03717,
     "end_time": "2023-04-27T13:41:35.590468",
     "exception": false,
     "start_time": "2023-04-27T13:41:35.553298",
     "status": "completed"
    },
    "tags": []
   },
   "source": [
    "So the `lograithm` graph is somewhat contraidctry to the `exponential` graph. what if we combine both of these "
   ]
  },
  {
   "cell_type": "code",
   "execution_count": 59,
   "id": "f87d5ec4",
   "metadata": {
    "execution": {
     "iopub.execute_input": "2023-04-27T13:41:35.649175Z",
     "iopub.status.busy": "2023-04-27T13:41:35.648766Z",
     "iopub.status.idle": "2023-04-27T13:41:35.898872Z",
     "shell.execute_reply": "2023-04-27T13:41:35.896893Z"
    },
    "papermill": {
     "duration": 0.283468,
     "end_time": "2023-04-27T13:41:35.902033",
     "exception": false,
     "start_time": "2023-04-27T13:41:35.618565",
     "status": "completed"
    },
    "tags": []
   },
   "outputs": [
    {
     "name": "stdout",
     "output_type": "stream",
     "text": [
      "For small exponential Values\n"
     ]
    },
    {
     "data": {
      "image/png": "[encoded data removed]",
      "text/plain": [
       "<Figure size 640x480 with 1 Axes>"
      ]
     },
     "metadata": {},
     "output_type": "display_data"
    }
   ],
   "source": [
    "x = np.array([x for x in range(100)])\n",
    "y = np.array([np.log1p(x ** 4) for x in range(100)])\n",
    "sns.lineplot(x = x , y = y)\n",
    "print(\"For small exponential Values\")"
   ]
  },
  {
   "cell_type": "markdown",
   "id": "e7bfbd30",
   "metadata": {
    "papermill": {
     "duration": 0.030794,
     "end_time": "2023-04-27T13:41:35.963803",
     "exception": false,
     "start_time": "2023-04-27T13:41:35.933009",
     "status": "completed"
    },
    "tags": []
   },
   "source": [
    "This will show error\n",
    "\n",
    "```\n",
    "x = np.array([x for x in range(100)])\n",
    "y = np.array([np.log1p(m.factorial(x)) for x in range(100)])\n",
    "sns.lineplot(x = x , y = y)\n",
    "print(\"For small exponential Values\")\n",
    "---------------------------------------------------------------------------\n",
    "AttributeError                            Traceback (most recent call last)\n",
    "AttributeError: 'int' object has no attribute 'log1p'\n",
    "\n",
    "The above exception was the direct cause of the following exception:\n",
    "\n",
    "TypeError                                 Traceback (most recent call last)\n",
    "/tmp/ipykernel_27/869453554.py in <module>\n",
    "      1 x = np.array([x for x in range(100)])\n",
    "----> 2 y = np.array([np.log1p(m.factorial(x)) for x in range(100)])\n",
    "      3 sns.lineplot(x = x , y = y)\n",
    "      4 print(\"For small exponential Values\")\n",
    "\n",
    "/tmp/ipykernel_27/869453554.py in <listcomp>(.0)\n",
    "      1 x = np.array([x for x in range(100)])\n",
    "----> 2 y = np.array([np.log1p(m.factorial(x)) for x in range(100)])\n",
    "      3 sns.lineplot(x = x , y = y)\n",
    "      4 print(\"For small exponential Values\")\n",
    "\n",
    "TypeError: loop of ufunc does not support argument 0 of type int which has no callable log1p method\n",
    "```\n",
    "\n",
    "This erorr came up because of the fact "
   ]
  },
  {
   "cell_type": "code",
   "execution_count": 60,
   "id": "fee9547e",
   "metadata": {
    "execution": {
     "iopub.execute_input": "2023-04-27T13:41:36.029212Z",
     "iopub.status.busy": "2023-04-27T13:41:36.028377Z",
     "iopub.status.idle": "2023-04-27T13:41:36.037501Z",
     "shell.execute_reply": "2023-04-27T13:41:36.035632Z"
    },
    "papermill": {
     "duration": 0.045584,
     "end_time": "2023-04-27T13:41:36.040693",
     "exception": false,
     "start_time": "2023-04-27T13:41:35.995109",
     "status": "completed"
    },
    "tags": []
   },
   "outputs": [
    {
     "data": {
      "text/plain": [
       "(False, True)"
      ]
     },
     "execution_count": 60,
     "metadata": {},
     "output_type": "execute_result"
    }
   ],
   "source": [
    "m.factorial(20) > 2 ** 64 , m.factorial(21) > 2 ** 64"
   ]
  },
  {
   "cell_type": "markdown",
   "id": "aa9df27d",
   "metadata": {
    "papermill": {
     "duration": 0.029259,
     "end_time": "2023-04-27T13:41:36.102215",
     "exception": false,
     "start_time": "2023-04-27T13:41:36.072956",
     "status": "completed"
    },
    "tags": []
   },
   "source": [
    "`np.log1p()` is based on the $64-bit$ architechture, so it cannot hold values greater then $2^{64}$, and we tried to pass the value $21!$ which is greater than $2^{64}$\n",
    "\n",
    "To counter this, lets see the plot for first $20$ integers"
   ]
  },
  {
   "cell_type": "code",
   "execution_count": 61,
   "id": "7b8bad0a",
   "metadata": {
    "execution": {
     "iopub.execute_input": "2023-04-27T13:41:36.169779Z",
     "iopub.status.busy": "2023-04-27T13:41:36.169305Z",
     "iopub.status.idle": "2023-04-27T13:41:36.457418Z",
     "shell.execute_reply": "2023-04-27T13:41:36.455344Z"
    },
    "papermill": {
     "duration": 0.327058,
     "end_time": "2023-04-27T13:41:36.460407",
     "exception": false,
     "start_time": "2023-04-27T13:41:36.133349",
     "status": "completed"
    },
    "tags": []
   },
   "outputs": [
    {
     "name": "stdout",
     "output_type": "stream",
     "text": [
      "For Factorial Values\n"
     ]
    },
    {
     "data": {
      "image/png": "[encoded data removed]",
      "text/plain": [
       "<Figure size 640x480 with 1 Axes>"
      ]
     },
     "metadata": {},
     "output_type": "display_data"
    }
   ],
   "source": [
    "x = np.array([x for x in range(20)])\n",
    "y = np.array([np.log1p(m.factorial(x)) for x in range(20)])\n",
    "sns.lineplot(x = x , y = y)\n",
    "print(\"For Factorial Values\")"
   ]
  },
  {
   "cell_type": "markdown",
   "id": "5fc71fd6",
   "metadata": {
    "papermill": {
     "duration": 0.031961,
     "end_time": "2023-04-27T13:41:36.524516",
     "exception": false,
     "start_time": "2023-04-27T13:41:36.492555",
     "status": "completed"
    },
    "tags": []
   },
   "source": [
    "And we can see that this is sort of a linear curve. So if we experience really high values , we can simply take `log` of them\n",
    "\n",
    "We can even apply this thing in our error calculating systems. Sometimes you will notice that the values are too high, to avoid any such anomlys, you can try taking `log` of the values, like this \n",
    "****\n",
    "$$\\sqrt{\\frac {1}{n}\\sum\\limits_{i = 1}^{n}(log(y) - log(\\hat y))^2}$$\n",
    "some people also write this as \n",
    "$$\\sqrt{\\frac {1}{n}\\sum\\limits_{i = 1}^{n}log(\\frac {y}{\\hat y})^2}$$\n",
    "$$= \\sqrt{\\frac {1}{n}\\sum\\limits_{i = 1}^{n}2log(\\frac {y}{\\hat y})}$$\n",
    "as $log(a) - log(b) = log(\\frac {a}{b})$\n",
    "\n",
    "and $log(a)^n = nlog(a)$\n",
    "****\n",
    "\n",
    "For applying this we just need to make some small tweeks in our function and we are good to go \n",
    "\n",
    "# 2.1.5.1 | Root Mean Sqaured Log Error Final Source Code"
   ]
  },
  {
   "cell_type": "code",
   "execution_count": 62,
   "id": "ddaed651",
   "metadata": {
    "execution": {
     "iopub.execute_input": "2023-04-27T13:41:36.592968Z",
     "iopub.status.busy": "2023-04-27T13:41:36.592191Z",
     "iopub.status.idle": "2023-04-27T13:41:36.598266Z",
     "shell.execute_reply": "2023-04-27T13:41:36.597266Z"
    },
    "papermill": {
     "duration": 0.048042,
     "end_time": "2023-04-27T13:41:36.604089",
     "exception": false,
     "start_time": "2023-04-27T13:41:36.556047",
     "status": "completed"
    },
    "tags": []
   },
   "outputs": [],
   "source": [
    "def mean_squared_log_error(actuals , predictions):\n",
    "    \n",
    "    error = 0\n",
    "    \n",
    "    for prediction , actual in zip(predictions , actuals):\n",
    "            \n",
    "        error += (np.log1p(actual) - np.log1p(prediction)) ** 2\n",
    "    \n",
    "    return (error/len(predictions)) ** (1 / 2)"
   ]
  },
  {
   "cell_type": "markdown",
   "id": "7518ca77",
   "metadata": {
    "papermill": {
     "duration": 0.029556,
     "end_time": "2023-04-27T13:41:36.664581",
     "exception": false,
     "start_time": "2023-04-27T13:41:36.635025",
     "status": "completed"
    },
    "tags": []
   },
   "source": [
    "# 2.2 | R2 \n",
    "# 2.2.1 | R2 Score\n",
    "\n",
    "There are actually many ways to find the correlation between $2$ values. Lets first get into our time machine and move to the year $1921$. The formual of correlation at that point majorly were the **Galtons Coefficient of Correlation** $r_{XY} = \\frac {\\sum\\limits XY}{n\\sigma_X\\sigma_Y}$ and  **Pearosns Correlation Ratio** $n_{x.y} = \\frac {\\sigma_{(YX_M)}}{\\sigma_x}$\n",
    "\n",
    "But there was a problem with these they just found the correlation as the whole of the values, not how the specific values at specific places correlate. Then some guy named **Selwall Wright** suddenly originated from earth with his formula of **Selwall Wright's Coefficient of Determination** \n",
    "****\n",
    "$$1 - \\sum\\limits_{i = 1}^{n}\\frac{(y - \\hat y)^2}{(y - \\bar y)^2}$$\n",
    "****\n",
    "If you want to know more about the above $3$ formulas, you can dig into this paper **[Causation and Correlation](https://naldc.nal.usda.gov/download/IND43966364/pdf)**\n",
    "\n",
    "**The best `R2 Score` is $1$ and the worst can be negative, because the model can be arbitarly worse** (These lines are from `sklearn.metrics.r2_score` ,  and I dont know why by the word arbitary worse model, they are taking about my model :( )\n",
    "\n",
    "Lets try to apply this into our code\n",
    "# 2.2.1.1 | R2 Score Final Source Code "
   ]
  },
  {
   "cell_type": "code",
   "execution_count": 63,
   "id": "b77bafa6",
   "metadata": {
    "execution": {
     "iopub.execute_input": "2023-04-27T13:41:36.731984Z",
     "iopub.status.busy": "2023-04-27T13:41:36.731012Z",
     "iopub.status.idle": "2023-04-27T13:41:36.737920Z",
     "shell.execute_reply": "2023-04-27T13:41:36.736331Z"
    },
    "papermill": {
     "duration": 0.046619,
     "end_time": "2023-04-27T13:41:36.741788",
     "exception": false,
     "start_time": "2023-04-27T13:41:36.695169",
     "status": "completed"
    },
    "tags": []
   },
   "outputs": [],
   "source": [
    "def mean_squared_log_error(actuals , predictions):\n",
    "    \n",
    "    error = 0\n",
    "    \n",
    "    for prediction , actual in zip(predictions , actuals):\n",
    "            \n",
    "        error += ((actual - prediciton) / (actual - predicitons.mean())) ** 2\n",
    "    \n",
    "    return 1 - error"
   ]
  },
  {
   "cell_type": "markdown",
   "id": "58d6c5ed",
   "metadata": {
    "papermill": {
     "duration": 0.029148,
     "end_time": "2023-04-27T13:41:36.801028",
     "exception": false,
     "start_time": "2023-04-27T13:41:36.771880",
     "status": "completed"
    },
    "tags": []
   },
   "source": [
    "**THIS IS NOT THE FULL IMPLEMENTATION, IT STILL LACKS MANY FUNCTIONALITIES AND IS VULENRABLE TO MANY EDGE CASES, WE WILL IMPROVE THIS IN THE UPCOMING VERSIONS**\n",
    "\n",
    "**PLEASE COMMENT DOWN IF I DID ANY MISTAKES, OR IF CAN MAKE THIS MORE CONNECTED TO THE GROUND, OR SUGGESTIONS. YOUR ASSISTS ARE HIGHLY APPRECIABLE**\n",
    "\n",
    "**THATS IT FOR TODAY GUYS**\n",
    "\n",
    "**HOPE YOU UNDERSTOOD AND LIKED MY WORK**\n",
    "\n",
    "**DONT FORGET TO MAKE AN UPVOTE :)**\n",
    "\n",
    "**PEACE OUT !!!**"
   ]
  }
 ],
 "metadata": {
  "kernelspec": {
   "display_name": "Python 3",
   "language": "python",
   "name": "python3"
  },
  "language_info": {
   "codemirror_mode": {
    "name": "ipython",
    "version": 3
   },
   "file_extension": ".py",
   "mimetype": "text/x-python",
   "name": "python",
   "nbconvert_exporter": "python",
   "pygments_lexer": "ipython3",
   "version": "3.7.12"
  },
  "papermill": {
   "default_parameters": {},
   "duration": 22.338577,
   "end_time": "2023-04-27T13:41:37.553889",
   "environment_variables": {},
   "exception": null,
   "input_path": "__notebook__.ipynb",
   "output_path": "__notebook__.ipynb",
   "parameters": {},
   "start_time": "2023-04-27T13:41:15.215312",
   "version": "2.4.0"
  }
 },
 "nbformat": 4,
 "nbformat_minor": 5
}
